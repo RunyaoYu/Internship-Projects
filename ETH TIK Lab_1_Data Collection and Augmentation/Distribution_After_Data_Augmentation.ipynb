{
  "cells": [
    {
      "cell_type": "code",
      "execution_count": 1,
      "metadata": {
        "id": "Zeyj9XozAh_v"
      },
      "outputs": [],
      "source": [
        "\"\"\"\n",
        "Author: Runyao Yu\n",
        "runyao.yu@tum.de\n",
        "Research Internship in ETH Zurich\n",
        "For Academic Use Purpose only\n",
        "\"\"\"\n",
        "import pandas as pd"
      ]
    },
    {
      "cell_type": "code",
      "execution_count": 2,
      "metadata": {
        "id": "bciVljR5AlRB"
      },
      "outputs": [],
      "source": [
        "def count(df):\n",
        "  temp = df.drop(['text'],axis=1)\n",
        "  for (columnName, columnData) in temp.iteritems():\n",
        "    d = {'{}'.format(columnName):df['{}'.format(columnName)].value_counts().index, 'count': df['{}'.format(columnName)].value_counts()}\n",
        "    df_label = pd.DataFrame(data=d).reset_index(drop=True)\n",
        "    print(df_label)"
      ]
    },
    {
      "cell_type": "code",
      "execution_count": null,
      "metadata": {
        "colab": {
          "base_uri": "https://localhost:8080/"
        },
        "id": "ty6LJpsEBe3V",
        "outputId": "ae497cfe-fd4d-40e8-e9ee-4d783674e3a7"
      },
      "outputs": [
        {
          "name": "stdout",
          "output_type": "stream",
          "text": [
            "   想要认识对方  count\n",
            "0       0   1299\n",
            "1       1    390\n"
          ]
        }
      ],
      "source": [
        "df = pd.read_excel(\"/content/Want to have Relationship.xlsx\")\n",
        "count(df)"
      ]
    },
    {
      "cell_type": "code",
      "execution_count": null,
      "metadata": {
        "colab": {
          "base_uri": "https://localhost:8080/"
        },
        "id": "UemxoKI0BzPY",
        "outputId": "43543285-2701-4f52-e078-23738424baa1"
      },
      "outputs": [
        {
          "name": "stdout",
          "output_type": "stream",
          "text": [
            "   想要获得更多信息  count\n",
            "0         0   1290\n",
            "1         1    541\n"
          ]
        }
      ],
      "source": [
        "df = pd.read_csv(\"/content/Want more Information.csv\")\n",
        "count(df)"
      ]
    },
    {
      "cell_type": "code",
      "execution_count": null,
      "metadata": {
        "colab": {
          "base_uri": "https://localhost:8080/"
        },
        "id": "s7NQkCB7B49m",
        "outputId": "fdaecec9-060f-4a05-960e-bbd3c6420d23"
      },
      "outputs": [
        {
          "name": "stdout",
          "output_type": "stream",
          "text": [
            "   表达情感见解看法，分享过往经历  count\n",
            "0                1   1604\n",
            "1                0   1290\n"
          ]
        }
      ],
      "source": [
        "df = pd.read_excel(\"/content/Share Opinion and Experience.xlsx\")\n",
        "count(df)"
      ]
    },
    {
      "cell_type": "code",
      "execution_count": null,
      "metadata": {
        "colab": {
          "base_uri": "https://localhost:8080/"
        },
        "id": "7ne6nSsTB8GD",
        "outputId": "e2baae2c-e0e7-438d-caa0-45e46591bc8b"
      },
      "outputs": [
        {
          "name": "stdout",
          "output_type": "stream",
          "text": [
            "   情感恋爱  count\n",
            "0     0   1222\n",
            "1     1    884\n"
          ]
        }
      ],
      "source": [
        "df = pd.read_excel(\"/content/Relationship.xlsx\")\n",
        "count(df)"
      ]
    },
    {
      "cell_type": "code",
      "execution_count": null,
      "metadata": {
        "colab": {
          "base_uri": "https://localhost:8080/"
        },
        "id": "tzHHgfUAB8Eb",
        "outputId": "48c943f4-b88e-4fce-ea61-e00f624ce887"
      },
      "outputs": [
        {
          "name": "stdout",
          "output_type": "stream",
          "text": [
            "   社交朋友  count\n",
            "0     0   1395\n",
            "1     1    233\n"
          ]
        }
      ],
      "source": [
        "df = pd.read_excel(\"/content/Social Contact and Friendship.xlsx\")\n",
        "count(df)"
      ]
    },
    {
      "cell_type": "code",
      "execution_count": null,
      "metadata": {
        "colab": {
          "base_uri": "https://localhost:8080/"
        },
        "id": "hk8fVZELB8CL",
        "outputId": "ad144f00-e620-464d-bf0a-4433864d1450"
      },
      "outputs": [
        {
          "name": "stdout",
          "output_type": "stream",
          "text": [
            "   性  count\n",
            "0  0   1379\n",
            "1  1    257\n"
          ]
        }
      ],
      "source": [
        "df = pd.read_excel(\"/content/Sex.xlsx\")\n",
        "count(df)"
      ]
    },
    {
      "cell_type": "code",
      "execution_count": null,
      "metadata": {
        "colab": {
          "base_uri": "https://localhost:8080/"
        },
        "id": "FfbrKO40B7_9",
        "outputId": "5740c691-af12-49a2-d0d3-bf6f4970a275"
      },
      "outputs": [
        {
          "name": "stdout",
          "output_type": "stream",
          "text": [
            "   外貌长相身材  count\n",
            "0       0   1350\n",
            "1       1    340\n"
          ]
        }
      ],
      "source": [
        "df = pd.read_excel(\"/content/Appearance and Figure.xlsx\")\n",
        "count(df)"
      ]
    },
    {
      "cell_type": "code",
      "execution_count": null,
      "metadata": {
        "colab": {
          "base_uri": "https://localhost:8080/"
        },
        "id": "X9K4BBM9B79c",
        "outputId": "f5b6a510-3d53-4683-854e-6af73b0cc20f"
      },
      "outputs": [
        {
          "name": "stdout",
          "output_type": "stream",
          "text": [
            "   地理位置  count\n",
            "0     0   1221\n",
            "1     1    597\n"
          ]
        }
      ],
      "source": [
        "df = pd.read_excel(\"/content/Location.xlsx\")\n",
        "count(df)"
      ]
    },
    {
      "cell_type": "code",
      "execution_count": null,
      "metadata": {
        "colab": {
          "base_uri": "https://localhost:8080/"
        },
        "id": "YCFn0kp_B77M",
        "outputId": "c5f68698-1e14-45d1-dc29-84835477ab61"
      },
      "outputs": [
        {
          "name": "stdout",
          "output_type": "stream",
          "text": [
            "   教育和职业  count\n",
            "0      0   1321\n",
            "1      1    612\n"
          ]
        }
      ],
      "source": [
        "df = pd.read_excel(\"/content/Education and Carrier.xlsx\")\n",
        "count(df)"
      ]
    },
    {
      "cell_type": "code",
      "execution_count": null,
      "metadata": {
        "colab": {
          "base_uri": "https://localhost:8080/"
        },
        "id": "cPDmESbnB74g",
        "outputId": "d1a00068-64b7-498a-f605-3d51064a731b"
      },
      "outputs": [
        {
          "name": "stdout",
          "output_type": "stream",
          "text": [
            "   个人信息  count\n",
            "0     0   1368\n",
            "1     1    273\n"
          ]
        }
      ],
      "source": [
        "df = pd.read_excel(\"/content/Personal Information.xlsx\")\n",
        "count(df)"
      ]
    },
    {
      "cell_type": "code",
      "execution_count": null,
      "metadata": {
        "colab": {
          "base_uri": "https://localhost:8080/"
        },
        "id": "RGyiosT7B72L",
        "outputId": "d5fa87ed-8f6a-4c18-f651-0b43ca7ab42b"
      },
      "outputs": [
        {
          "name": "stdout",
          "output_type": "stream",
          "text": [
            "   日常生活  count\n",
            "0     0   1377\n",
            "1     1    341\n"
          ]
        }
      ],
      "source": [
        "df = pd.read_excel(\"/content/Daily Life.xlsx\")\n",
        "count(df)"
      ]
    },
    {
      "cell_type": "code",
      "execution_count": null,
      "metadata": {
        "colab": {
          "base_uri": "https://localhost:8080/"
        },
        "id": "sFCkdYCOB7p6",
        "outputId": "2aaaf574-8850-4af7-efae-10e3b185f028"
      },
      "outputs": [
        {
          "name": "stdout",
          "output_type": "stream",
          "text": [
            "   与以上均无关  count\n",
            "0       0   1016\n",
            "1       1    724\n"
          ]
        }
      ],
      "source": [
        "df = pd.read_excel(\"/content/Meaningless Texts.xlsx\")\n",
        "count(df)"
      ]
    },
    {
      "cell_type": "code",
      "execution_count": 32,
      "metadata": {
        "colab": {
          "base_uri": "https://localhost:8080/",
          "height": 204
        },
        "id": "gmV8_IDTAGev",
        "outputId": "1e6ce677-0d48-41a5-c430-931c7a9b1074"
      },
      "outputs": [
        {
          "data": {
            "text/html": [
              "<div>\n",
              "<style scoped>\n",
              "    .dataframe tbody tr th:only-of-type {\n",
              "        vertical-align: middle;\n",
              "    }\n",
              "\n",
              "    .dataframe tbody tr th {\n",
              "        vertical-align: top;\n",
              "    }\n",
              "\n",
              "    .dataframe thead th {\n",
              "        text-align: right;\n",
              "    }\n",
              "</style>\n",
              "<table border=\"1\" class=\"dataframe\">\n",
              "  <thead>\n",
              "    <tr style=\"text-align: right;\">\n",
              "      <th></th>\n",
              "      <th>class</th>\n",
              "      <th>count</th>\n",
              "      <th>Type</th>\n",
              "    </tr>\n",
              "  </thead>\n",
              "  <tbody>\n",
              "    <tr>\n",
              "      <th>0</th>\n",
              "      <td>Want to have Relation</td>\n",
              "      <td>200</td>\n",
              "      <td>Not Augmented</td>\n",
              "    </tr>\n",
              "    <tr>\n",
              "      <th>1</th>\n",
              "      <td>Want to have more Infor</td>\n",
              "      <td>209</td>\n",
              "      <td>Not Augmented</td>\n",
              "    </tr>\n",
              "    <tr>\n",
              "      <th>2</th>\n",
              "      <td>Share Opinion and Expe</td>\n",
              "      <td>209</td>\n",
              "      <td>Not Augmented</td>\n",
              "    </tr>\n",
              "    <tr>\n",
              "      <th>3</th>\n",
              "      <td>Interact with Fisher</td>\n",
              "      <td>579</td>\n",
              "      <td>Not Augmented</td>\n",
              "    </tr>\n",
              "    <tr>\n",
              "      <th>4</th>\n",
              "      <td>Relationship</td>\n",
              "      <td>277</td>\n",
              "      <td>Not Augmented</td>\n",
              "    </tr>\n",
              "  </tbody>\n",
              "</table>\n",
              "</div>"
            ],
            "text/plain": [
              "                     class  count           Type\n",
              "0    Want to have Relation    200  Not Augmented\n",
              "1  Want to have more Infor    209  Not Augmented\n",
              "2   Share Opinion and Expe    209  Not Augmented\n",
              "3     Interact with Fisher    579  Not Augmented\n",
              "4             Relationship    277  Not Augmented"
            ]
          },
          "execution_count": 32,
          "metadata": {},
          "output_type": "execute_result"
        }
      ],
      "source": [
        "data = {}\n",
        "data[\"class\"] = [\"Want to have Relation\",\"Want to have more Infor\",\"Share Opinion and Expe\",\"Interact with Fisher\",\"Relationship\",\"Social Contact and Friendship\",\"Sex\",\"Appearance and Figure\",\"Location\",\"Education and Carrier\",\"Personal Information\",\"Daily Life\",\"Meaningless Texts\",\"Want to have Relation\",\"Want to have more Infor\",\"Share Opinion and Expe\",\"Interact with Fisher\",\"Relationship\",\"Social Contact and Friendship\",\"Sex\",\"Appearance and Figure\",\"Location\",\"Education and Carrier\",\"Personal Information\",\"Daily Life\",\"Meaningless Texts\"]\n",
        "data[\"count\"] = [200,209,209,579,277,104,120,149,278,178,131,122,483,  390,541,1604,679,884,233,257,340,597,612,273,341,724]\n",
        "data[\"Type\"] = [\"Not Augmented\", \"Not Augmented\", \"Not Augmented\", \"Not Augmented\", \"Not Augmented\", \"Not Augmented\", \"Not Augmented\", \"Not Augmented\", \"Not Augmented\", \"Not Augmented\", \"Not Augmented\", \"Not Augmented\", \"Not Augmented\",\"Augmented\", \"Augmented\", \"Augmented\", \"Augmented\", \"Augmented\", \"Augmented\", \"Augmented\",  \"Augmented\", \"Augmented\", \"Augmented\", \"Augmented\", \"Augmented\", \"Augmented\"]\n",
        "\n",
        "data = pd.DataFrame(data)\n",
        "data.head()"
      ]
    },
    {
      "cell_type": "code",
      "execution_count": 20,
      "metadata": {
        "colab": {
          "base_uri": "https://localhost:8080/",
          "height": 438
        },
        "id": "vAAAsDlI_mIX",
        "outputId": "6e906f61-d8f4-4a6f-9aa3-b8b3dc9fc7cf"
      },
      "outputs": [
        {
          "data": {
            "image/png": "[encoded data removed]",
            "text/plain": [
              "<Figure size 432x288 with 1 Axes>"
            ]
          },
          "metadata": {},
          "output_type": "display_data"
        }
      ],
      "source": [
        "import seaborn as sns\n",
        "import matplotlib.pyplot as plt\n",
        "sns.set()\n",
        "plt.figure()\n",
        "\n",
        "ax = sns.barplot(data=data, x=\"class\", y=\"count\", hue=\"Type\", palette=['blue', 'red'], saturation=0.6)\n",
        "\n",
        "# Customise some display properties\n",
        "ax.set_title('Distribution')\n",
        "#ax.grid(color='#cccccc')\n",
        "ax.set_ylabel('Count Positive Samples')\n",
        "ax.set_xlabel(None)\n",
        "ax.set_xticklabels(data[\"class\"].unique().astype(str), rotation=90)\n",
        "\n",
        "plt.show()\n",
        "ax.figure.savefig('Distribution.jpg', dpi=200, format='jpg')"
      ]
    },
    {
      "cell_type": "code",
      "execution_count": 1,
      "metadata": {},
      "outputs": [],
      "source": [
        "import pandas as pd\n",
        "import numpy as np\n",
        "#! pip install pygal\n",
        "import pygal\n",
        "from pygal.style import Style"
      ]
    },
    {
      "cell_type": "code",
      "execution_count": 2,
      "metadata": {
        "colab": {
          "base_uri": "https://localhost:8080/",
          "height": 204
        },
        "id": "9uf298qaHADh",
        "outputId": "8bdbba94-1185-4b5b-af0f-4a980540440a"
      },
      "outputs": [
        {
          "data": {
            "text/html": [
              "<div>\n",
              "<style scoped>\n",
              "    .dataframe tbody tr th:only-of-type {\n",
              "        vertical-align: middle;\n",
              "    }\n",
              "\n",
              "    .dataframe tbody tr th {\n",
              "        vertical-align: top;\n",
              "    }\n",
              "\n",
              "    .dataframe thead th {\n",
              "        text-align: right;\n",
              "    }\n",
              "</style>\n",
              "<table border=\"1\" class=\"dataframe\">\n",
              "  <thead>\n",
              "    <tr style=\"text-align: right;\">\n",
              "      <th></th>\n",
              "      <th>class</th>\n",
              "      <th>Not Augmented</th>\n",
              "      <th>Augmented</th>\n",
              "    </tr>\n",
              "  </thead>\n",
              "  <tbody>\n",
              "    <tr>\n",
              "      <th>0</th>\n",
              "      <td>Want to have Relationship</td>\n",
              "      <td>200</td>\n",
              "      <td>390</td>\n",
              "    </tr>\n",
              "    <tr>\n",
              "      <th>1</th>\n",
              "      <td>Want to have more Information</td>\n",
              "      <td>209</td>\n",
              "      <td>541</td>\n",
              "    </tr>\n",
              "    <tr>\n",
              "      <th>2</th>\n",
              "      <td>Share Opinion and Experience</td>\n",
              "      <td>209</td>\n",
              "      <td>1604</td>\n",
              "    </tr>\n",
              "    <tr>\n",
              "      <th>3</th>\n",
              "      <td>Interact with Fisher</td>\n",
              "      <td>579</td>\n",
              "      <td>679</td>\n",
              "    </tr>\n",
              "    <tr>\n",
              "      <th>4</th>\n",
              "      <td>Relationship</td>\n",
              "      <td>277</td>\n",
              "      <td>884</td>\n",
              "    </tr>\n",
              "  </tbody>\n",
              "</table>\n",
              "</div>"
            ],
            "text/plain": [
              "                           class  Not Augmented  Augmented\n",
              "0      Want to have Relationship            200        390\n",
              "1  Want to have more Information            209        541\n",
              "2   Share Opinion and Experience            209       1604\n",
              "3           Interact with Fisher            579        679\n",
              "4                   Relationship            277        884"
            ]
          },
          "execution_count": 2,
          "metadata": {},
          "output_type": "execute_result"
        }
      ],
      "source": [
        "data = {}\n",
        "data[\"class\"] = [\"Want to have Relationship\",\"Want to have more Information\",\"Share Opinion and Experience\",\"Interact with Fisher\",\"Relationship\",\"Social Contact and Friendship\",\"Sex\",\"Appearance and Figure\",\"Location\",\"Education and Career\",\"Personal Information\",\"Daily Life\",\"Meaningless Texts\"]\n",
        "\n",
        "data[\"Not Augmented\"] = [200,209,209,579,277,104,120,149,278,178,131,122,483]\n",
        "data[\"Augmented\"] = [390,541,1604,679,884,233,257,340,597,612,273,341,724]\n",
        "\n",
        "data = pd.DataFrame(data)\n",
        "data.head()"
      ]
    },
    {
      "cell_type": "code",
      "execution_count": 2,
      "metadata": {},
      "outputs": [
        {
          "data": {
            "text/html": [
              "<div>\n",
              "<style scoped>\n",
              "    .dataframe tbody tr th:only-of-type {\n",
              "        vertical-align: middle;\n",
              "    }\n",
              "\n",
              "    .dataframe tbody tr th {\n",
              "        vertical-align: top;\n",
              "    }\n",
              "\n",
              "    .dataframe thead th {\n",
              "        text-align: right;\n",
              "    }\n",
              "</style>\n",
              "<table border=\"1\" class=\"dataframe\">\n",
              "  <thead>\n",
              "    <tr style=\"text-align: right;\">\n",
              "      <th></th>\n",
              "      <th>class</th>\n",
              "      <th>Not Augmented</th>\n",
              "      <th>Augmented</th>\n",
              "    </tr>\n",
              "  </thead>\n",
              "  <tbody>\n",
              "    <tr>\n",
              "      <th>0</th>\n",
              "      <td>Want to have Relation..</td>\n",
              "      <td>200</td>\n",
              "      <td>390</td>\n",
              "    </tr>\n",
              "    <tr>\n",
              "      <th>1</th>\n",
              "      <td>Want to have more Info..</td>\n",
              "      <td>209</td>\n",
              "      <td>541</td>\n",
              "    </tr>\n",
              "    <tr>\n",
              "      <th>2</th>\n",
              "      <td>Share Opinion and..</td>\n",
              "      <td>209</td>\n",
              "      <td>1604</td>\n",
              "    </tr>\n",
              "    <tr>\n",
              "      <th>3</th>\n",
              "      <td>Relationship</td>\n",
              "      <td>277</td>\n",
              "      <td>884</td>\n",
              "    </tr>\n",
              "    <tr>\n",
              "      <th>4</th>\n",
              "      <td>Social Contact and..</td>\n",
              "      <td>104</td>\n",
              "      <td>233</td>\n",
              "    </tr>\n",
              "  </tbody>\n",
              "</table>\n",
              "</div>"
            ],
            "text/plain": [
              "                      class  Not Augmented  Augmented\n",
              "0   Want to have Relation..            200        390\n",
              "1  Want to have more Info..            209        541\n",
              "2       Share Opinion and..            209       1604\n",
              "3              Relationship            277        884\n",
              "4      Social Contact and..            104        233"
            ]
          },
          "execution_count": 2,
          "metadata": {},
          "output_type": "execute_result"
        }
      ],
      "source": [
        "data = {}\n",
        "data[\"class\"] = [\"Want to have Relation..\",\"Want to have more Info..\",\"Share Opinion and..\",\"Relationship\",\"Social Contact and..\",\"Sex\",\"Appearance and..\",\"Location\",\"Education and Career\",\"Personal Information\",\"Daily Life\"]\n",
        "\n",
        "data[\"Not Augmented\"] = [200,209,209,277,104,120,149,278,178,131,122]\n",
        "data[\"Augmented\"] =     [390,541,1604,884,233,257,340,597,612,273,341]\n",
        "\n",
        "data = pd.DataFrame(data)\n",
        "data.head()"
      ]
    },
    {
      "cell_type": "code",
      "execution_count": 10,
      "metadata": {
        "colab": {
          "base_uri": "https://localhost:8080/"
        },
        "id": "kdTqemNIFhnQ",
        "outputId": "9f8f6b0f-7397-4244-bcae-af27134e15dd"
      },
      "outputs": [],
      "source": [
        "# Define the style\n",
        "custom_style = Style(colors=('#0343df', '#e50000'), font_family='Roboto, Helvetica',background='transparent',label_font_size=14,)\n",
        "\n",
        "# Set up the bar plot, ready for data\n",
        "c = pygal.Bar(\n",
        "    title=\"Distribution\",\n",
        "    style=custom_style,\n",
        "    y_title='Count Positive Samples',\n",
        "    width=1200,\n",
        "    x_label_rotation=270,\n",
        ")\n",
        "\n",
        "    # Add four data sets to the bar plot\n",
        "c.add('Not Augmented', data['Not Augmented'])\n",
        "c.add('Augmented', data['Augmented'])\n",
        "\n",
        "    # Define the X-labels\n",
        "c.x_labels = data[\"class\"]\n",
        "c.legend_at_bottom=True\n",
        "c.x_label_rotation=45\n",
        "    # Write this to an SVG file\n",
        "c.render_to_file('/Users/rampageyao/Desktop/eth/distribution1.svg')"
      ]
    },
    {
      "cell_type": "code",
      "execution_count": 4,
      "metadata": {},
      "outputs": [],
      "source": [
        "import pandas as pd\n",
        "import numpy as np\n",
        "#! pip install pygal\n",
        "import pygal\n",
        "from pygal.style import Style"
      ]
    },
    {
      "cell_type": "code",
      "execution_count": 8,
      "metadata": {},
      "outputs": [
        {
          "data": {
            "text/html": [
              "<div>\n",
              "<style scoped>\n",
              "    .dataframe tbody tr th:only-of-type {\n",
              "        vertical-align: middle;\n",
              "    }\n",
              "\n",
              "    .dataframe tbody tr th {\n",
              "        vertical-align: top;\n",
              "    }\n",
              "\n",
              "    .dataframe thead th {\n",
              "        text-align: right;\n",
              "    }\n",
              "</style>\n",
              "<table border=\"1\" class=\"dataframe\">\n",
              "  <thead>\n",
              "    <tr style=\"text-align: right;\">\n",
              "      <th></th>\n",
              "      <th>class</th>\n",
              "      <th>Logistic Regression</th>\n",
              "      <th>LSTM</th>\n",
              "      <th>BERT</th>\n",
              "    </tr>\n",
              "  </thead>\n",
              "  <tbody>\n",
              "    <tr>\n",
              "      <th>0</th>\n",
              "      <td>Want to have Relationship</td>\n",
              "      <td>0.84</td>\n",
              "      <td>0.84</td>\n",
              "      <td>0.82</td>\n",
              "    </tr>\n",
              "    <tr>\n",
              "      <th>1</th>\n",
              "      <td>Want to have more Information</td>\n",
              "      <td>0.77</td>\n",
              "      <td>0.77</td>\n",
              "      <td>0.89</td>\n",
              "    </tr>\n",
              "    <tr>\n",
              "      <th>2</th>\n",
              "      <td>Share Opinion and Experience</td>\n",
              "      <td>0.89</td>\n",
              "      <td>0.89</td>\n",
              "      <td>0.93</td>\n",
              "    </tr>\n",
              "    <tr>\n",
              "      <th>3</th>\n",
              "      <td>Interact with Fisher</td>\n",
              "      <td>0.71</td>\n",
              "      <td>0.71</td>\n",
              "      <td>0.69</td>\n",
              "    </tr>\n",
              "    <tr>\n",
              "      <th>4</th>\n",
              "      <td>Relationship</td>\n",
              "      <td>0.86</td>\n",
              "      <td>0.86</td>\n",
              "      <td>0.80</td>\n",
              "    </tr>\n",
              "  </tbody>\n",
              "</table>\n",
              "</div>"
            ],
            "text/plain": [
              "                           class  Logistic Regression  LSTM  BERT\n",
              "0      Want to have Relationship                 0.84  0.84  0.82\n",
              "1  Want to have more Information                 0.77  0.77  0.89\n",
              "2   Share Opinion and Experience                 0.89  0.89  0.93\n",
              "3           Interact with Fisher                 0.71  0.71  0.69\n",
              "4                   Relationship                 0.86  0.86  0.80"
            ]
          },
          "execution_count": 8,
          "metadata": {},
          "output_type": "execute_result"
        }
      ],
      "source": [
        "data = {}\n",
        "data[\"class\"] = [\"Want to have Relationship\",\"Want to have more Information\",\"Share Opinion and Experience\",\"Interact with Fisher\",\"Relationship\",\"Social Contact and Friendship\",\"Sex\",\"Appearance and Figure\",\"Location\",\"Education and Career\",\"Personal Information\",\"Daily Life\",\"Meaningless Texts\"]\n",
        "\n",
        "data[\"Logistic Regression\"] = [0.84, 0.77, 0.89, 0.71, 0.86, 0.89, 0.84, 0.83, 0.81 ,0.83, 0.85, 0.80, 0.72]\n",
        "data[\"LSTM\"] =                [0.84, 0.77, 0.89, 0.71, 0.86, 0.89, 0.84, 0.83, 0.81 ,0.83, 0.85, 0.80, 0.72]\n",
        "data[\"BERT\"] =                [0.82, 0.89, 0.93, 0.69, 0.80, 0.87, 0.91, 0.85, 0.88, 0.87, 0.92, 0.83, 0.76]\n",
        "\n",
        "data = pd.DataFrame(data)\n",
        "data.head()"
      ]
    },
    {
      "cell_type": "code",
      "execution_count": 15,
      "metadata": {},
      "outputs": [
        {
          "name": "stdout",
          "output_type": "stream",
          "text": [
            "LR: 0.8184615384615385\n",
            "LSTM 0.8184615384615385\n",
            "BERT 0.8476923076923076\n"
          ]
        }
      ],
      "source": [
        "print(\"LR:\",np.mean(data[\"Logistic Regression\"]))\n",
        "print(\"LSTM\",np.mean(data[\"LSTM\"]))\n",
        "print(\"BERT\",np.mean(data[\"BERT\"]))"
      ]
    },
    {
      "cell_type": "code",
      "execution_count": 11,
      "metadata": {},
      "outputs": [
        {
          "name": "stdout",
          "output_type": "stream",
          "text": [
            "LR: 0.8372727272727274\n",
            "LSTM 0.7354545454545455\n",
            "BERT 0.8699999999999999\n"
          ]
        }
      ],
      "source": [
        "data = {}\n",
        "data[\"class\"] = [\"Want to have Relation..\",\"Want to have more Info..\",\"Share Opinion and..\",\"Relationship\",\"Social Contact and..\",\"Sex\",\"Appearance and..\",\"Location\",\"Education and Career\",\"Personal Information\",\"Daily Life\"]\n",
        "\n",
        "data[\"Logistic Regression\"] = [0.84, 0.77, 0.89, 0.86, 0.89, 0.84, 0.83, 0.81 ,0.83, 0.85, 0.80]\n",
        "data[\"LSTM\"] =                [0.78, 0.72, 0.47, 0.56, 0.87, 0.87, 0.80, 0.67 ,0.71, 0.85, 0.79]\n",
        "data[\"BERT\"] =                [0.84, 0.87, 0.91, 0.83, 0.87, 0.92, 0.85, 0.85, 0.87, 0.91, 0.85]\n",
        "\n",
        "data = pd.DataFrame(data)\n",
        "data.head()\n",
        "\n",
        "print(\"LR:\",np.mean(data[\"Logistic Regression\"]))\n",
        "print(\"LSTM\",np.mean(data[\"LSTM\"]))\n",
        "print(\"BERT\",np.mean(data[\"BERT\"]))"
      ]
    },
    {
      "cell_type": "code",
      "execution_count": 15,
      "metadata": {},
      "outputs": [],
      "source": [
        "# Define the style\n",
        "custom_style = Style(colors=(\"#E6BCFF\", \"#00C9A8\", \"#00C2EB\"), font_family='Roboto, Helvetica, Arial',background='transparent',label_font_size=14,)\n",
        "\n",
        "# Set up the bar plot, ready for data\n",
        "c = pygal.Bar(\n",
        "    title=\"Comparison\",\n",
        "    style=custom_style,\n",
        "    y_title='Test Accuracy',\n",
        "    width=1200,\n",
        "    x_label_rotation=270,\n",
        ")\n",
        "\n",
        "    # Add four data sets to the bar plot\n",
        "c.add(\"LR\", data[\"Logistic Regression\"])\n",
        "c.add(\"LSTM\", data[\"LSTM\"])\n",
        "c.add(\"BERT\", data[\"BERT\"])\n",
        "    # Define the X-labels\n",
        "c.x_labels = data[\"class\"]\n",
        "c.legend_at_bottom=True\n",
        "c.x_label_rotation=45\n",
        "c.legend_at_bottom_columns=3\n",
        "    # Write this to an SVG file\n",
        "c.render_to_file(\"/Users/rampageyao/Desktop/eth/Accuracy.svg\")"
      ]
    },
    {
      "cell_type": "code",
      "execution_count": 26,
      "metadata": {},
      "outputs": [
        {
          "data": {
            "text/html": [
              "<div>\n",
              "<style scoped>\n",
              "    .dataframe tbody tr th:only-of-type {\n",
              "        vertical-align: middle;\n",
              "    }\n",
              "\n",
              "    .dataframe tbody tr th {\n",
              "        vertical-align: top;\n",
              "    }\n",
              "\n",
              "    .dataframe thead th {\n",
              "        text-align: right;\n",
              "    }\n",
              "</style>\n",
              "<table border=\"1\" class=\"dataframe\">\n",
              "  <thead>\n",
              "    <tr style=\"text-align: right;\">\n",
              "      <th></th>\n",
              "      <th>Unnamed: 0</th>\n",
              "      <th>id</th>\n",
              "      <th>name</th>\n",
              "      <th>answer</th>\n",
              "      <th>找朋友</th>\n",
              "      <th>找对象</th>\n",
              "      <th>找炮友</th>\n",
              "      <th>分享</th>\n",
              "      <th>和以上无关</th>\n",
              "      <th>恋爱关系</th>\n",
              "      <th>社交/朋友</th>\n",
              "      <th>性</th>\n",
              "      <th>外貌/长相/身材</th>\n",
              "      <th>地理位置</th>\n",
              "      <th>教育/工作</th>\n",
              "      <th>个人信息</th>\n",
              "      <th>日常生活</th>\n",
              "      <th>无意义</th>\n",
              "    </tr>\n",
              "  </thead>\n",
              "  <tbody>\n",
              "    <tr>\n",
              "      <th>0</th>\n",
              "      <td>0</td>\n",
              "      <td>7e89fd170f75416553d793de7c29dfb8</td>\n",
              "      <td>无状态小黄</td>\n",
              "      <td>（恋爱了）被喜欢没有什么了不起的，被坚定的选择才值得骄傲。—————————————————...</td>\n",
              "      <td>1.0</td>\n",
              "      <td>1.0</td>\n",
              "      <td>0.0</td>\n",
              "      <td>1.0</td>\n",
              "      <td>0.0</td>\n",
              "      <td>1.0</td>\n",
              "      <td>1.0</td>\n",
              "      <td>1.0</td>\n",
              "      <td>1.0</td>\n",
              "      <td>1.0</td>\n",
              "      <td>1.0</td>\n",
              "      <td>1.0</td>\n",
              "      <td>1.0</td>\n",
              "      <td>0.0</td>\n",
              "    </tr>\n",
              "    <tr>\n",
              "      <th>1</th>\n",
              "      <td>1</td>\n",
              "      <td>80d4369b42aaac894635eb53519d732e</td>\n",
              "      <td>砖家级打怪兽</td>\n",
              "      <td>92年，27岁老叔叔，186cm，80kg。坐标在帝都，有稳定的工作。自己不帅气，但是想活的...</td>\n",
              "      <td>0.0</td>\n",
              "      <td>1.0</td>\n",
              "      <td>0.0</td>\n",
              "      <td>0.0</td>\n",
              "      <td>0.0</td>\n",
              "      <td>0.0</td>\n",
              "      <td>0.0</td>\n",
              "      <td>0.0</td>\n",
              "      <td>1.0</td>\n",
              "      <td>1.0</td>\n",
              "      <td>1.0</td>\n",
              "      <td>1.0</td>\n",
              "      <td>1.0</td>\n",
              "      <td>0.0</td>\n",
              "    </tr>\n",
              "    <tr>\n",
              "      <th>2</th>\n",
              "      <td>2</td>\n",
              "      <td>0</td>\n",
              "      <td>匿名用户</td>\n",
              "      <td>5.24更新开心开心(σﾟ∀ﾟ)σ5.4更新嘻嘻谢谢大家的鼓励和祝福(●´∇｀●)！我们会一...</td>\n",
              "      <td>0.0</td>\n",
              "      <td>0.0</td>\n",
              "      <td>0.0</td>\n",
              "      <td>1.0</td>\n",
              "      <td>0.0</td>\n",
              "      <td>1.0</td>\n",
              "      <td>0.0</td>\n",
              "      <td>0.0</td>\n",
              "      <td>0.0</td>\n",
              "      <td>1.0</td>\n",
              "      <td>0.0</td>\n",
              "      <td>0.0</td>\n",
              "      <td>1.0</td>\n",
              "      <td>0.0</td>\n",
              "    </tr>\n",
              "    <tr>\n",
              "      <th>3</th>\n",
              "      <td>3</td>\n",
              "      <td>1673fe848de163f1dc26be0d0a4b46f3</td>\n",
              "      <td>王六六</td>\n",
              "      <td>好久没更新了，来更新一下。健身小成果吧https://www.zhihu.com/video...</td>\n",
              "      <td>0.0</td>\n",
              "      <td>1.0</td>\n",
              "      <td>0.0</td>\n",
              "      <td>1.0</td>\n",
              "      <td>0.0</td>\n",
              "      <td>1.0</td>\n",
              "      <td>0.0</td>\n",
              "      <td>0.0</td>\n",
              "      <td>0.0</td>\n",
              "      <td>1.0</td>\n",
              "      <td>1.0</td>\n",
              "      <td>1.0</td>\n",
              "      <td>1.0</td>\n",
              "      <td>0.0</td>\n",
              "    </tr>\n",
              "    <tr>\n",
              "      <th>4</th>\n",
              "      <td>4</td>\n",
              "      <td>b44b26a9b69070306e82921777b73db8</td>\n",
              "      <td>Vincent</td>\n",
              "      <td>私聊我的朋友们，因为知乎确实不太可能做到及时回复，还请大家见谅。我有时间会一一回复。数据：2...</td>\n",
              "      <td>0.0</td>\n",
              "      <td>1.0</td>\n",
              "      <td>0.0</td>\n",
              "      <td>1.0</td>\n",
              "      <td>0.0</td>\n",
              "      <td>1.0</td>\n",
              "      <td>0.0</td>\n",
              "      <td>0.0</td>\n",
              "      <td>1.0</td>\n",
              "      <td>1.0</td>\n",
              "      <td>1.0</td>\n",
              "      <td>1.0</td>\n",
              "      <td>1.0</td>\n",
              "      <td>0.0</td>\n",
              "    </tr>\n",
              "  </tbody>\n",
              "</table>\n",
              "</div>"
            ],
            "text/plain": [
              "   Unnamed: 0                                id     name  \\\n",
              "0           0  7e89fd170f75416553d793de7c29dfb8    无状态小黄   \n",
              "1           1  80d4369b42aaac894635eb53519d732e   砖家级打怪兽   \n",
              "2           2                                 0     匿名用户   \n",
              "3           3  1673fe848de163f1dc26be0d0a4b46f3      王六六   \n",
              "4           4  b44b26a9b69070306e82921777b73db8  Vincent   \n",
              "\n",
              "                                              answer  找朋友  找对象  找炮友   分享  \\\n",
              "0  （恋爱了）被喜欢没有什么了不起的，被坚定的选择才值得骄傲。—————————————————...  1.0  1.0  0.0  1.0   \n",
              "1  92年，27岁老叔叔，186cm，80kg。坐标在帝都，有稳定的工作。自己不帅气，但是想活的...  0.0  1.0  0.0  0.0   \n",
              "2  5.24更新开心开心(σﾟ∀ﾟ)σ5.4更新嘻嘻谢谢大家的鼓励和祝福(●´∇｀●)！我们会一...  0.0  0.0  0.0  1.0   \n",
              "3  好久没更新了，来更新一下。健身小成果吧https://www.zhihu.com/video...  0.0  1.0  0.0  1.0   \n",
              "4  私聊我的朋友们，因为知乎确实不太可能做到及时回复，还请大家见谅。我有时间会一一回复。数据：2...  0.0  1.0  0.0  1.0   \n",
              "\n",
              "   和以上无关  恋爱关系  社交/朋友    性  外貌/长相/身材  地理位置  教育/工作  个人信息  日常生活  无意义  \n",
              "0    0.0   1.0    1.0  1.0       1.0   1.0    1.0   1.0   1.0  0.0  \n",
              "1    0.0   0.0    0.0  0.0       1.0   1.0    1.0   1.0   1.0  0.0  \n",
              "2    0.0   1.0    0.0  0.0       0.0   1.0    0.0   0.0   1.0  0.0  \n",
              "3    0.0   1.0    0.0  0.0       0.0   1.0    1.0   1.0   1.0  0.0  \n",
              "4    0.0   1.0    0.0  0.0       1.0   1.0    1.0   1.0   1.0  0.0  "
            ]
          },
          "execution_count": 26,
          "metadata": {},
          "output_type": "execute_result"
        }
      ],
      "source": [
        "df = pd.read_excel(\"/Users/rampageyao/Desktop/Research/Data/500_self_new.xlsx\")\n",
        "df = df.fillna(0)\n",
        "df.head()"
      ]
    },
    {
      "cell_type": "code",
      "execution_count": 24,
      "metadata": {},
      "outputs": [],
      "source": [
        "#count_self\n",
        "def count_self(df):\n",
        "    temp = df.iloc[:,4:]\n",
        "    temp = temp.iloc[:500,:]\n",
        "    for (columnName, columnData) in temp.iteritems():\n",
        "        d = {'{}'.format(columnName):temp['{}'.format(columnName)].value_counts().index, 'count': temp['{}'.format(columnName)].value_counts()}\n",
        "        df_label = pd.DataFrame(data=d).reset_index(drop=True)\n",
        "        print(df_label)\n",
        "\n"
      ]
    },
    {
      "cell_type": "code",
      "execution_count": 25,
      "metadata": {},
      "outputs": [
        {
          "name": "stdout",
          "output_type": "stream",
          "text": [
            "   找朋友  count\n",
            "0  0.0    402\n",
            "1  1.0     98\n",
            "   找对象  count\n",
            "0  1.0    345\n",
            "1  0.0    155\n",
            "   找炮友  count\n",
            "0  0.0    472\n",
            "1  1.0     28\n",
            "    分享  count\n",
            "0  1.0    408\n",
            "1  0.0     92\n",
            "   和以上无关  count\n",
            "0    0.0    462\n",
            "1    1.0     38\n",
            "   恋爱关系  count\n",
            "0   1.0    347\n",
            "1   0.0    153\n",
            "   社交/朋友  count\n",
            "0    0.0    384\n",
            "1    1.0    116\n",
            "     性  count\n",
            "0  0.0    269\n",
            "1  1.0    231\n",
            "   外貌/长相/身材  count\n",
            "0       0.0    303\n",
            "1       1.0    197\n",
            "   地理位置  count\n",
            "0   1.0    406\n",
            "1   0.0     94\n",
            "   教育/工作  count\n",
            "0    1.0    357\n",
            "1    0.0    143\n",
            "   个人信息  count\n",
            "0   1.0    376\n",
            "1   0.0    124\n",
            "   日常生活  count\n",
            "0   1.0    370\n",
            "1   0.0    130\n",
            "   无意义  count\n",
            "0  0.0    474\n",
            "1  1.0     26\n"
          ]
        }
      ],
      "source": [
        "count_self(df)"
      ]
    }
  ],
  "metadata": {
    "colab": {
      "collapsed_sections": [],
      "name": "Tool_Count_Augmented_Data.ipynb",
      "provenance": []
    },
    "interpreter": {
      "hash": "092bf18aecc55aef496ffbc6cc353c2203dc3161741cf495c00395ce4a3c9d87"
    },
    "kernelspec": {
      "display_name": "Python 3.8.8 64-bit ('base': conda)",
      "name": "python3"
    },
    "language_info": {
      "name": "python",
      "version": ""
    }
  },
  "nbformat": 4,
  "nbformat_minor": 0
}