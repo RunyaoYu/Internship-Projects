{
 "cells": [
  {
   "cell_type": "code",
   "execution_count": 1,
   "metadata": {},
   "outputs": [],
   "source": [
    "\"\"\"\n",
    "@author: Runyao Yu\n",
    "runyao.yu@danfoss.com\n",
    "\"\"\"\n",
    "\n",
    "import os\n",
    "import pandas as pd\n",
    "import pygal\n",
    "from IPython.display import SVG, display\n",
    "import plotly.express as px"
   ]
  },
  {
   "cell_type": "code",
   "execution_count": 9,
   "metadata": {},
   "outputs": [],
   "source": [
    "def data_preprocessing(data):\n",
    "    #rules can be found in VoltageProbes.csv\n",
    "    new = pd.DataFrame()\n",
    "    new[\"HS_Vgs_Module\"] = data[\":U1.HS_G_in             \"] - data[\":U1.LS_D_Pin            \"]\n",
    "    new[\"HS_Vds_Module\"] = data[\":U1.HS_D_Pin            \"] - data[\":U1.LS_D_Pin            \"]\n",
    "    new[\"HS_Vgs_T1\"] =     data[\":U1.HS_G_T1             \"] - data[\":U1.HS_S_T1             \"]\n",
    "    new[\"HS_Vgs_T2\"] =     data[\":U1.HS_G_T2             \"] - data[\":U1.HS_S_T2             \"]\n",
    "    new[\"HS_Vgs_T3\"] =     data[\":U1.HS_G_T3             \"] - data[\":U1.HS_S_T3             \"]\n",
    "    new[\"HS_Vgs_T4\"] =     data[\":U1.HS_G_T4             \"] - data[\":U1.HS_S_T4             \"]\n",
    "    new[\"HS_Vds_T1\"] =     data[\":U1.HS_D_T1             \"] - data[\":U1.HS_S_T1             \"]\n",
    "    new[\"HS_Vds_T2\"] =     data[\":U1.HS_D_T2             \"] - data[\":U1.HS_S_T2             \"]\n",
    "    new[\"HS_Vds_T3\"] =     data[\":U1.HS_D_T3             \"] - data[\":U1.HS_S_T3             \"]\n",
    "    new[\"HS_Vds_T4\"] =     data[\":U1.HS_D_T4             \"] - data[\":U1.HS_S_T4             \"]\n",
    "\n",
    "    new[\"LS_Vgs_Module\"] = data[\":U1.LS_G_in             \"] - data[\":U1.LS_S_Pin            \"]\n",
    "    new[\"LS_Vds_Module\"] = data[\":U1.LS_D_Pin            \"] - data[\":U1.LS_S_Pin            \"]\n",
    "    new[\"LS_Vgs_T5\"] =     data[\":U1.LS_G_T5             \"] - data[\":U1.LS_S_T5             \"]\n",
    "    new[\"LS_Vgs_T6\"] =     data[\":U1.LS_G_T6             \"] - data[\":U1.LS_S_T6             \"]\n",
    "    new[\"LS_Vgs_T7\"] =     data[\":U1.LS_G_T7             \"] - data[\":U1.LS_S_T7             \"]\n",
    "    new[\"LS_Vgs_T8\"] =     data[\":U1.LS_G_T8             \"] - data[\":U1.LS_S_T8             \"]\n",
    "    new[\"LS_Vds_T5\"] =     data[\":U1.LS_D_T5             \"] - data[\":U1.LS_S_T5             \"]\n",
    "    new[\"LS_Vds_T6\"] =     data[\":U1.LS_D_T6             \"] - data[\":U1.LS_S_T6             \"]\n",
    "    new[\"LS_Vds_T7\"] =     data[\":U1.LS_D_T7             \"] - data[\":U1.LS_S_T7             \"]\n",
    "    new[\"LS_Vds_T8\"] =     data[\":U1.LS_D_T8             \"] - data[\":U1.LS_S_T8             \"]\n",
    "\n",
    "    #差模T1-T2 共模(T1+T2)/2\n",
    "    new[\"HS_Vgs_abs_T1-T2\"] = abs(new[\"HS_Vgs_T1\"] - new[\"HS_Vgs_T2\"])\n",
    "    new[\"HS_Vgs_abs_T1-T3\"] = abs(new[\"HS_Vgs_T1\"] - new[\"HS_Vgs_T3\"])\n",
    "    new[\"HS_Vgs_abs_T1-T4\"] = abs(new[\"HS_Vgs_T1\"] - new[\"HS_Vgs_T4\"])\n",
    "    new[\"HS_Vgs_abs_T2-T3\"] = abs(new[\"HS_Vgs_T2\"] - new[\"HS_Vgs_T3\"])\n",
    "    new[\"HS_Vgs_abs_T2-T4\"] = abs(new[\"HS_Vgs_T2\"] - new[\"HS_Vgs_T4\"])\n",
    "    new[\"HS_Vgs_abs_T3-T4\"] = abs(new[\"HS_Vgs_T3\"] - new[\"HS_Vgs_T4\"])\n",
    "    \n",
    "    max_HS_Vgs_T1T2 = max(new[\"HS_Vgs_abs_T1-T2\"])\n",
    "    max_HS_Vgs_T1T3 = max(new[\"HS_Vgs_abs_T1-T3\"])\n",
    "    max_HS_Vgs_T1T4 = max(new[\"HS_Vgs_abs_T1-T4\"])\n",
    "    max_HS_Vgs_T2T3 = max(new[\"HS_Vgs_abs_T2-T3\"])\n",
    "    max_HS_Vgs_T2T4 = max(new[\"HS_Vgs_abs_T2-T4\"])\n",
    "    max_HS_Vgs_T3T4 = max(new[\"HS_Vgs_abs_T3-T4\"])\n",
    "    \n",
    "    new[\"LS_Vgs_abs_T5-T6\"] = abs(new[\"LS_Vgs_T5\"] - new[\"LS_Vgs_T6\"])\n",
    "    new[\"LS_Vgs_abs_T5-T7\"] = abs(new[\"LS_Vgs_T5\"] - new[\"LS_Vgs_T7\"])\n",
    "    new[\"LS_Vgs_abs_T5-T8\"] = abs(new[\"LS_Vgs_T5\"] - new[\"LS_Vgs_T8\"])\n",
    "    new[\"LS_Vgs_abs_T6-T7\"] = abs(new[\"LS_Vgs_T6\"] - new[\"LS_Vgs_T7\"])\n",
    "    new[\"LS_Vgs_abs_T6-T8\"] = abs(new[\"LS_Vgs_T6\"] - new[\"LS_Vgs_T8\"])\n",
    "    new[\"LS_Vgs_abs_T7-T8\"] = abs(new[\"LS_Vgs_T7\"] - new[\"LS_Vgs_T8\"])\n",
    "\n",
    "    max_LS_Vgs_T5T6 = max(new[\"LS_Vgs_abs_T5-T6\"])\n",
    "    max_LS_Vgs_T5T7 = max(new[\"LS_Vgs_abs_T5-T7\"])\n",
    "    max_LS_Vgs_T5T8 = max(new[\"LS_Vgs_abs_T5-T8\"])\n",
    "    max_LS_Vgs_T6T7 = max(new[\"LS_Vgs_abs_T6-T7\"])\n",
    "    max_LS_Vgs_T6T8 = max(new[\"LS_Vgs_abs_T6-T8\"])\n",
    "    max_LS_Vgs_T7T8 = max(new[\"LS_Vgs_abs_T7-T8\"])\n",
    "    return new, max_HS_Vgs_T1T2, max_HS_Vgs_T1T3, max_HS_Vgs_T1T4, max_HS_Vgs_T2T3, max_HS_Vgs_T2T4, max_HS_Vgs_T3T4, max_LS_Vgs_T5T6, max_LS_Vgs_T5T7, max_LS_Vgs_T5T8, max_LS_Vgs_T6T7, max_LS_Vgs_T6T8, max_LS_Vgs_T7T8\n",
    "\n",
    "\n",
    "def dataframe_formation(INDEX, MAX_HS_Vgs_T1T2, MAX_HS_Vgs_T1T3, MAX_HS_Vgs_T1T4, MAX_HS_Vgs_T2T3, MAX_HS_Vgs_T2T4, MAX_HS_Vgs_T3T4, \n",
    "                        MAX_LS_Vgs_T5T6, MAX_LS_Vgs_T5T7, MAX_LS_Vgs_T5T8, MAX_LS_Vgs_T6T7, MAX_LS_Vgs_T6T8, MAX_LS_Vgs_T7T8, \n",
    "                        MAX_HS_Vgs, MIN_HS_Vgs, MAX_LS_Vgs, MIN_LS_Vgs, MAX_Vgs, MIN_Vgs,\n",
    "                        INDEX_MAX_HS_Vgs, INDEX_MIN_HS_Vgs, INDEX_MAX_LS_Vgs, INDEX_MIN_LS_Vgs, INDEX_MAX_Vgs, INDEX_MIN_Vgs):\n",
    "    \n",
    "    df = pd.DataFrame({\"MAX_HS_Vgs_T1T2\": MAX_HS_Vgs_T1T2, \"MAX_HS_Vgs_T1T3\": MAX_HS_Vgs_T1T3, \"MAX_HS_Vgs_T1T4\": MAX_HS_Vgs_T1T4, \"MAX_HS_Vgs_T2T3\": MAX_HS_Vgs_T2T3, \"MAX_HS_Vgs_T2T4\": MAX_HS_Vgs_T2T4, \"MAX_HS_Vgs_T3T4\": MAX_HS_Vgs_T3T4, \n",
    "                       \"MAX_LS_Vgs_T5T6\": MAX_LS_Vgs_T5T6, \"MAX_LS_Vgs_T5T7\": MAX_LS_Vgs_T5T7, \"MAX_LS_Vgs_T5T8\": MAX_LS_Vgs_T5T8, \"MAX_LS_Vgs_T6T7\": MAX_LS_Vgs_T6T7, \"MAX_LS_Vgs_T6T8\": MAX_LS_Vgs_T6T8, \"MAX_LS_Vgs_T7T8\": MAX_LS_Vgs_T7T8,\n",
    "                       \"MAX_HS_Vgs\": MAX_HS_Vgs, \"INDEX_MAX_HS_Vgs\": INDEX_MAX_HS_Vgs,\n",
    "                       \"MIN_HS_Vgs\": MIN_HS_Vgs, \"INDEX_MIN_HS_Vgs\": INDEX_MIN_HS_Vgs, \n",
    "                       \"MAX_LS_Vgs\": MAX_LS_Vgs, \"INDEX_MAX_LS_Vgs\": INDEX_MAX_LS_Vgs,\n",
    "                       \"MIN_LS_Vgs\": MIN_LS_Vgs, \"INDEX_MIN_LS_Vgs\": INDEX_MIN_LS_Vgs,\n",
    "                       \"MAX_Vgs\": MAX_Vgs, \"INDEX_MAX_Vgs\": INDEX_MAX_Vgs,\n",
    "                       \"MIN_Vgs\": MIN_Vgs, \"INDEX_MIN_Vgs\": INDEX_MIN_Vgs}, index = INDEX)\n",
    "    df.sort_index(inplace=True)\n",
    "    return df"
   ]
  },
  {
   "cell_type": "code",
   "execution_count": 11,
   "metadata": {},
   "outputs": [
    {
     "name": "stdout",
     "output_type": "stream",
     "text": [
      "[1.5753774035775905, 1.4076565545917248, 1.5448602361858548, 1.516721304180777, 1.4735178264691626, 1.7724700997032414, 1.5033289926848, 1.7235275369667988, 2.151183305954845, 1.5188104343139628, 1.494942035064497, 1.4284258319104879, 1.4211575336360056, 1.6822722973842588, 1.3416170550872835, 1.470699397994025, 1.6311774991199286, 1.7502560023973501, 1.856428525147976, 1.3524446273649176, 1.5608266909494688, 1.7045144168623096, 1.3720390790576715, 1.7909419432860858, 1.4233113772920944, 1.576182389519218, 1.4310034510677667, 1.4625418311106841, 1.4083295780161507, 1.4524655168318645, 1.5910427537010605, 1.5494267609344519, 1.4693985241516714, 1.4693806404004874, 1.33970499399949, 1.52309744163216, 1.3306247203451846, 1.5138391721128528, 1.4408451890539027, 1.7569229054565767, 1.5163702725314465, 1.4181073627565866, 1.4146349151028517, 1.4956236630719815, 2.060621762289088, 1.460400051858187, 1.5178261803758346, 1.52385320069952, 1.438299497718674, 1.3460158897792525, 1.7277623180165165, 1.3560905621792472, 1.3900040289602202, 1.5049607119543396, 1.2543969221436413, 1.3864579577480924, 1.463605709293219, 1.507005095840782, 1.6144849620279729, 1.7331529267802352, 1.4101872405003775, 1.4031951257671835, 1.788399523619887, 1.4128020472874994, 1.2530282087450075, 1.5766554614568236, 1.4803374947982775, 1.430672783797604, 1.6448240332694013, 1.4911407778202346, 1.5152596747671083, 1.4343616874213723, 1.4680670648608043, 2.0333815301522122, 1.670100461045024, 1.4003003584282965, 1.5813047951887143, 1.3651774248048696, 1.4052992054918718, 1.720668548784488, 2.290479213547769, 1.270625328429972, 1.5897203875377386, 1.4834412317350711, 1.542298137423046, 1.3300863171375283, 1.4047167595536791, 1.6889858862786014, 1.3759343564617694, 1.413695897242036, 1.6328938289688608, 1.5053518211390724, 1.3744155206759672, 1.4716237899242515, 1.5125537752645073, 1.4267458524807637, 1.4401840154401384, 1.5171880019679236, 1.4321096914227098, 1.7367465752993212, 1.4807395582932656, 1.3579923339708273, 1.660193271026543, 1.4423132476179745, 2.2015071827315182, 1.5091240300858573, 1.4592321658974754, 1.3933562335928968, 1.2733628499907752, 1.4532808617675812, 1.2767968721973375, 1.3098602766578153, 1.7856307690840367, 1.6042634627646635, 1.6112341848352116, 1.8240201025120086, 1.2332275684636613, 1.6227763784994806, 1.5193085814491951, 1.3779375099853155, 2.052549310950525, 1.8413403237103694, 1.4682689936440028, 1.5421443524650726, 1.4566795786259519]\n",
      "\n",
      "\n",
      "[0, 1, 10, 100, 101, 102, 103, 104, 105, 106, 107, 108, 109, 11, 110, 111, 112, 113, 114, 115, 116, 117, 118, 119, 12, 120, 121, 122, 123, 124, 13, 14, 15, 16, 17, 18, 19, 2, 20, 21, 22, 23, 24, 25, 26, 27, 28, 29, 3, 30, 31, 32, 33, 34, 35, 36, 37, 38, 39, 4, 40, 41, 42, 43, 44, 45, 46, 47, 48, 49, 5, 50, 51, 52, 53, 54, 55, 56, 57, 58, 59, 6, 60, 61, 62, 63, 64, 65, 66, 67, 68, 69, 7, 70, 71, 72, 73, 74, 75, 76, 77, 78, 79, 8, 80, 81, 82, 83, 84, 85, 86, 87, 88, 89, 9, 90, 91, 92, 93, 94, 95, 96, 97, 98, 99]\n",
      "\n",
      "\n",
      "   MAX_HS_Vgs_T1T2  MAX_HS_Vgs_T1T3  MAX_HS_Vgs_T1T4  MAX_HS_Vgs_T2T3  \\\n",
      "0         1.575377         1.650880         0.591868         0.294265   \n",
      "1         1.407657         1.313402         0.766138         0.483222   \n",
      "2         1.513839         1.462438         0.782051         0.475183   \n",
      "3         1.438299         1.703465         0.943613         0.594357   \n",
      "4         1.733153         1.504224         0.746867         0.439290   \n",
      "\n",
      "   MAX_HS_Vgs_T2T4  MAX_HS_Vgs_T3T4  MAX_LS_Vgs_T5T6  MAX_LS_Vgs_T5T7  \\\n",
      "0         1.751310         1.610112        29.150661        31.885388   \n",
      "1         1.878852         1.630171        29.133106        33.285441   \n",
      "2         1.714706         1.610498        27.676508        30.429738   \n",
      "3         1.913725         1.620709        28.127155        31.641479   \n",
      "4         2.058667         1.940944        38.312455        40.501734   \n",
      "\n",
      "   MAX_LS_Vgs_T5T8  MAX_LS_Vgs_T6T7  ...  MIN_HS_Vgs  INDEX_MIN_HS_Vgs  \\\n",
      "0         4.747401         4.771459  ...    0.294265              T2T3   \n",
      "1         5.367382         6.176921  ...    0.483222              T2T3   \n",
      "2         4.236390         5.473482  ...    0.475183              T2T3   \n",
      "3         5.402839         6.368818  ...    0.594357              T2T3   \n",
      "4         6.130380         6.685689  ...    0.439290              T2T3   \n",
      "\n",
      "   MAX_LS_Vgs INDEX_MAX_LS_Vgs  MIN_LS_Vgs INDEX_MIN_LS_Vgs    MAX_Vgs  \\\n",
      "0   31.885388             T5T7    4.747401             T5T8  31.885388   \n",
      "1   33.285441             T5T7    5.367382             T5T8  33.285441   \n",
      "2   30.429738             T5T7    4.236390             T5T8  30.429738   \n",
      "3   31.641479             T5T7    5.402839             T5T8  31.641479   \n",
      "4   40.501734             T5T7    6.130380             T5T8  40.501734   \n",
      "\n",
      "  INDEX_MAX_Vgs   MIN_Vgs INDEX_MIN_Vgs  \n",
      "0          T5T7  0.294265          T2T3  \n",
      "1          T5T7  0.483222          T2T3  \n",
      "2          T5T7  0.475183          T2T3  \n",
      "3          T5T7  0.594357          T2T3  \n",
      "4          T5T7  0.439290          T2T3  \n",
      "\n",
      "[5 rows x 24 columns]\n"
     ]
    }
   ],
   "source": [
    "MAX_HS_Vgs_T1T2, MAX_HS_Vgs_T1T3, MAX_HS_Vgs_T1T4, MAX_HS_Vgs_T2T3, MAX_HS_Vgs_T2T4, MAX_HS_Vgs_T3T4 = [], [], [], [], [], []\n",
    "MAX_LS_Vgs_T5T6, MAX_LS_Vgs_T5T7, MAX_LS_Vgs_T5T8, MAX_LS_Vgs_T6T7, MAX_LS_Vgs_T6T8, MAX_LS_Vgs_T7T8 = [], [], [], [], [], []\n",
    "INDEX = []\n",
    "\n",
    "MAX_HS_Vgs = []\n",
    "MIN_HS_Vgs = []\n",
    "\n",
    "MAX_LS_Vgs = []\n",
    "MIN_LS_Vgs = []\n",
    "\n",
    "MAX_Vgs = []\n",
    "MIN_Vgs = []\n",
    "\n",
    "index_HS_Vgs = [\"T1T2\",\"T1T3\",\"T1T4\",\"T2T3\",\"T2T4\",\"T3T4\"]\n",
    "index_LS_Vgs = [\"T5T6\",\"T5T7\",\"T5T8\",\"T6T7\",\"T6T8\",\"T7T8\"]\n",
    "index_Vgs = [\"T1T2\",\"T1T3\",\"T1T4\",\"T2T3\",\"T2T4\",\"T3T4\",\"T5T6\",\"T5T7\",\"T5T8\",\"T6T7\",\"T6T8\",\"T7T8\"]\n",
    "\n",
    "INDEX_MAX_HS_Vgs = []\n",
    "INDEX_MIN_HS_Vgs = []\n",
    "INDEX_MAX_LS_Vgs = []\n",
    "INDEX_MIN_LS_Vgs = []\n",
    "INDEX_MAX_Vgs = []\n",
    "INDEX_MIN_Vgs = []\n",
    "\n",
    "for root, dirs, files in os.walk(\"C:/Runyao/Store\"): \n",
    "    for name in files:\n",
    "        path = os.path.join(root, name) \n",
    "        if \"HSDUT_Voltage\" in name: #HSDUT Voltage\n",
    "            data = pd.read_csv(path, delimiter=\"\\t\", header = 0)\n",
    "            #print(data.columns)\n",
    "            index = path.rfind(\"HS_\")\n",
    "            #print('handsome boy is reading:', path[index:], '...')\n",
    "            new, max_HS_Vgs_T1T2, max_HS_Vgs_T1T3, max_HS_Vgs_T1T4, max_HS_Vgs_T2T3, max_HS_Vgs_T2T4, max_HS_Vgs_T3T4, max_LS_Vgs_T5T6, max_LS_Vgs_T5T7, max_LS_Vgs_T5T8, max_LS_Vgs_T6T7, max_LS_Vgs_T6T8, max_LS_Vgs_T7T8 = data_preprocessing(data)\n",
    "            #print(new.columns)\n",
    "            MAX_HS_Vgs_T1T2.append(max_HS_Vgs_T1T2)\n",
    "            MAX_HS_Vgs_T1T3.append(max_HS_Vgs_T1T3)\n",
    "            MAX_HS_Vgs_T1T4.append(max_HS_Vgs_T1T4)\n",
    "            MAX_HS_Vgs_T2T3.append(max_HS_Vgs_T2T3)\n",
    "            MAX_HS_Vgs_T2T4.append(max_HS_Vgs_T2T4)\n",
    "            MAX_HS_Vgs_T3T4.append(max_HS_Vgs_T3T4)\n",
    "\n",
    "            MAX_LS_Vgs_T5T6.append(max_LS_Vgs_T5T6)\n",
    "            MAX_LS_Vgs_T5T7.append(max_LS_Vgs_T5T7)\n",
    "            MAX_LS_Vgs_T5T8.append(max_LS_Vgs_T5T8)\n",
    "            MAX_LS_Vgs_T6T7.append(max_LS_Vgs_T6T7)\n",
    "            MAX_LS_Vgs_T6T8.append(max_LS_Vgs_T6T8)\n",
    "            MAX_LS_Vgs_T7T8.append(max_LS_Vgs_T7T8)\n",
    "            \n",
    "            TEMP_HS = [max_HS_Vgs_T1T2, max_HS_Vgs_T1T3, max_HS_Vgs_T1T4, max_HS_Vgs_T2T3, max_HS_Vgs_T2T4, max_HS_Vgs_T3T4]\n",
    "            TEMP_LS = [max_LS_Vgs_T5T6, max_LS_Vgs_T5T7, max_LS_Vgs_T5T8, max_LS_Vgs_T6T7, max_LS_Vgs_T6T8, max_LS_Vgs_T7T8]\n",
    "            TEMP = [max_HS_Vgs_T1T2, max_HS_Vgs_T1T3, max_HS_Vgs_T1T4, max_HS_Vgs_T2T3, max_HS_Vgs_T2T4, max_HS_Vgs_T3T4, max_LS_Vgs_T5T6, max_LS_Vgs_T5T7, max_LS_Vgs_T5T8, max_LS_Vgs_T6T7, max_LS_Vgs_T6T8, max_LS_Vgs_T7T8]\n",
    "            \n",
    "            MAX_HS_Vgs.append(max(TEMP_HS))\n",
    "            INDEX_MAX_HS_Vgs.append(index_HS_Vgs[TEMP_HS.index(max(TEMP_HS))])\n",
    "            MIN_HS_Vgs.append(min(TEMP_HS))\n",
    "            INDEX_MIN_HS_Vgs.append(index_HS_Vgs[TEMP_HS.index(min(TEMP_HS))])\n",
    "            \n",
    "            MAX_LS_Vgs.append(max(TEMP_LS))\n",
    "            INDEX_MAX_LS_Vgs.append(index_LS_Vgs[TEMP_LS.index(max(TEMP_LS))])\n",
    "            MIN_LS_Vgs.append(min(TEMP_LS))\n",
    "            INDEX_MIN_LS_Vgs.append(index_LS_Vgs[TEMP_LS.index(min(TEMP_LS))])\n",
    "            \n",
    "            MAX_Vgs.append(max(TEMP))\n",
    "            INDEX_MAX_Vgs.append(index_Vgs[TEMP.index(max(TEMP))])\n",
    "            MIN_Vgs.append(min(TEMP))\n",
    "            INDEX_MIN_Vgs.append(index_Vgs[TEMP.index(min(TEMP))])\n",
    "            \n",
    "            index = path[index+3:len(path)-18]\n",
    "            INDEX.append(int(index))\n",
    "            #print(index)\n",
    "            \n",
    "\n",
    "print(MAX_HS_Vgs_T1T2)\n",
    "print(\"\\n\")\n",
    "print(INDEX)\n",
    "print(\"\\n\")\n",
    "df = dataframe_formation(INDEX, MAX_HS_Vgs_T1T2, MAX_HS_Vgs_T1T3, MAX_HS_Vgs_T1T4, MAX_HS_Vgs_T2T3, MAX_HS_Vgs_T2T4, MAX_HS_Vgs_T3T4, \n",
    "                        MAX_LS_Vgs_T5T6, MAX_LS_Vgs_T5T7, MAX_LS_Vgs_T5T8, MAX_LS_Vgs_T6T7, MAX_LS_Vgs_T6T8, MAX_LS_Vgs_T7T8, \n",
    "                        MAX_HS_Vgs, MIN_HS_Vgs, MAX_LS_Vgs, MIN_LS_Vgs, MAX_Vgs, MIN_Vgs,\n",
    "                        INDEX_MAX_HS_Vgs, INDEX_MIN_HS_Vgs, INDEX_MAX_LS_Vgs, INDEX_MIN_LS_Vgs, INDEX_MAX_Vgs, INDEX_MIN_Vgs)\n",
    "print(df.head())\n",
    "df.to_csv(\"C:/Runyao/Max_Differential_Voltage_NEW.csv\")"
   ]
  },
  {
   "cell_type": "code",
   "execution_count": 10,
   "metadata": {},
   "outputs": [
    {
     "data": {
      "image/svg+xml": "<svg xmlns=\"http://www.w3.org/2000/svg\" xmlns:xlink=\"http://www.w3.org/1999/xlink\" id=\"chart-57b7c632-374a-48ef-b55e-99af6cabeb75\" class=\"pygal-chart\" viewBox=\"0 0 800 600\"><!--Generated with pygal 2.4.0 (lxml) ©Kozea 2012-2016 on 2021-10-18--><!--http://pygal.org--><!--http://github.com/Kozea/pygal--><defs><style type=\"text/css\">#chart-57b7c632-374a-48ef-b55e-99af6cabeb75{-webkit-user-select:none;-webkit-font-smoothing:antialiased;font-family:Consolas,&quot;Liberation Mono&quot;,Menlo,Courier,monospace}#chart-57b7c632-374a-48ef-b55e-99af6cabeb75 .title{font-family:Consolas,&quot;Liberation Mono&quot;,Menlo,Courier,monospace;font-size:16px}#chart-57b7c632-374a-48ef-b55e-99af6cabeb75 .legends .legend text{font-family:Consolas,&quot;Liberation Mono&quot;,Menlo,Courier,monospace;font-size:14px}#chart-57b7c632-374a-48ef-b55e-99af6cabeb75 .axis text{font-family:Consolas,&quot;Liberation Mono&quot;,Menlo,Courier,monospace;font-size:10px}#chart-57b7c632-374a-48ef-b55e-99af6cabeb75 .axis text.major{font-family:Consolas,&quot;Liberation Mono&quot;,Menlo,Courier,monospace;font-size:10px}#chart-57b7c632-374a-48ef-b55e-99af6cabeb75 .text-overlay text.value{font-family:Consolas,&quot;Liberation Mono&quot;,Menlo,Courier,monospace;font-size:16px}#chart-57b7c632-374a-48ef-b55e-99af6cabeb75 .text-overlay text.label{font-family:Consolas,&quot;Liberation Mono&quot;,Menlo,Courier,monospace;font-size:10px}#chart-57b7c632-374a-48ef-b55e-99af6cabeb75 .tooltip{font-family:Consolas,&quot;Liberation Mono&quot;,Menlo,Courier,monospace;font-size:14px}#chart-57b7c632-374a-48ef-b55e-99af6cabeb75 text.no_data{font-family:Consolas,&quot;Liberation Mono&quot;,Menlo,Courier,monospace;font-size:64px}\n#chart-57b7c632-374a-48ef-b55e-99af6cabeb75{background-color:rgba(249,249,249,1)}#chart-57b7c632-374a-48ef-b55e-99af6cabeb75 path,#chart-57b7c632-374a-48ef-b55e-99af6cabeb75 line,#chart-57b7c632-374a-48ef-b55e-99af6cabeb75 rect,#chart-57b7c632-374a-48ef-b55e-99af6cabeb75 circle{-webkit-transition:150ms;-moz-transition:150ms;transition:150ms}#chart-57b7c632-374a-48ef-b55e-99af6cabeb75 .graph &gt; .background{fill:rgba(249,249,249,1)}#chart-57b7c632-374a-48ef-b55e-99af6cabeb75 .plot &gt; .background{fill:rgba(255,255,255,1)}#chart-57b7c632-374a-48ef-b55e-99af6cabeb75 .graph{fill:rgba(0,0,0,.87)}#chart-57b7c632-374a-48ef-b55e-99af6cabeb75 text.no_data{fill:rgba(0,0,0,1)}#chart-57b7c632-374a-48ef-b55e-99af6cabeb75 .title{fill:rgba(0,0,0,1)}#chart-57b7c632-374a-48ef-b55e-99af6cabeb75 .legends .legend text{fill:rgba(0,0,0,.87)}#chart-57b7c632-374a-48ef-b55e-99af6cabeb75 .legends .legend:hover text{fill:rgba(0,0,0,1)}#chart-57b7c632-374a-48ef-b55e-99af6cabeb75 .axis .line{stroke:rgba(0,0,0,1)}#chart-57b7c632-374a-48ef-b55e-99af6cabeb75 .axis .guide.line{stroke:rgba(0,0,0,.54)}#chart-57b7c632-374a-48ef-b55e-99af6cabeb75 .axis .major.line{stroke:rgba(0,0,0,.87)}#chart-57b7c632-374a-48ef-b55e-99af6cabeb75 .axis text.major{fill:rgba(0,0,0,1)}#chart-57b7c632-374a-48ef-b55e-99af6cabeb75 .axis.y .guides:hover .guide.line,#chart-57b7c632-374a-48ef-b55e-99af6cabeb75 .line-graph .axis.x .guides:hover .guide.line,#chart-57b7c632-374a-48ef-b55e-99af6cabeb75 .stackedline-graph .axis.x .guides:hover .guide.line,#chart-57b7c632-374a-48ef-b55e-99af6cabeb75 .xy-graph .axis.x .guides:hover .guide.line{stroke:rgba(0,0,0,1)}#chart-57b7c632-374a-48ef-b55e-99af6cabeb75 .axis .guides:hover text{fill:rgba(0,0,0,1)}#chart-57b7c632-374a-48ef-b55e-99af6cabeb75 .reactive{fill-opacity:.7;stroke-opacity:.8}#chart-57b7c632-374a-48ef-b55e-99af6cabeb75 .ci{stroke:rgba(0,0,0,.87)}#chart-57b7c632-374a-48ef-b55e-99af6cabeb75 .reactive.active,#chart-57b7c632-374a-48ef-b55e-99af6cabeb75 .active .reactive{fill-opacity:.8;stroke-opacity:.9;stroke-width:4}#chart-57b7c632-374a-48ef-b55e-99af6cabeb75 .ci .reactive.active{stroke-width:1.5}#chart-57b7c632-374a-48ef-b55e-99af6cabeb75 .series text{fill:rgba(0,0,0,1)}#chart-57b7c632-374a-48ef-b55e-99af6cabeb75 .tooltip rect{fill:rgba(255,255,255,1);stroke:rgba(0,0,0,1);-webkit-transition:opacity 150ms;-moz-transition:opacity 150ms;transition:opacity 150ms}#chart-57b7c632-374a-48ef-b55e-99af6cabeb75 .tooltip .label{fill:rgba(0,0,0,.87)}#chart-57b7c632-374a-48ef-b55e-99af6cabeb75 .tooltip .label{fill:rgba(0,0,0,.87)}#chart-57b7c632-374a-48ef-b55e-99af6cabeb75 .tooltip .legend{font-size:.8em;fill:rgba(0,0,0,.54)}#chart-57b7c632-374a-48ef-b55e-99af6cabeb75 .tooltip .x_label{font-size:.6em;fill:rgba(0,0,0,1)}#chart-57b7c632-374a-48ef-b55e-99af6cabeb75 .tooltip .xlink{font-size:.5em;text-decoration:underline}#chart-57b7c632-374a-48ef-b55e-99af6cabeb75 .tooltip .value{font-size:1.5em}#chart-57b7c632-374a-48ef-b55e-99af6cabeb75 .bound{font-size:.5em}#chart-57b7c632-374a-48ef-b55e-99af6cabeb75 .max-value{font-size:.75em;fill:rgba(0,0,0,.54)}#chart-57b7c632-374a-48ef-b55e-99af6cabeb75 .map-element{fill:rgba(255,255,255,1);stroke:rgba(0,0,0,.54) !important}#chart-57b7c632-374a-48ef-b55e-99af6cabeb75 .map-element .reactive{fill-opacity:inherit;stroke-opacity:inherit}#chart-57b7c632-374a-48ef-b55e-99af6cabeb75 .color-0,#chart-57b7c632-374a-48ef-b55e-99af6cabeb75 .color-0 a:visited{stroke:#F44336;fill:#F44336}#chart-57b7c632-374a-48ef-b55e-99af6cabeb75 .color-1,#chart-57b7c632-374a-48ef-b55e-99af6cabeb75 .color-1 a:visited{stroke:#3F51B5;fill:#3F51B5}#chart-57b7c632-374a-48ef-b55e-99af6cabeb75 .color-2,#chart-57b7c632-374a-48ef-b55e-99af6cabeb75 .color-2 a:visited{stroke:#009688;fill:#009688}#chart-57b7c632-374a-48ef-b55e-99af6cabeb75 .color-3,#chart-57b7c632-374a-48ef-b55e-99af6cabeb75 .color-3 a:visited{stroke:#FFC107;fill:#FFC107}#chart-57b7c632-374a-48ef-b55e-99af6cabeb75 .color-4,#chart-57b7c632-374a-48ef-b55e-99af6cabeb75 .color-4 a:visited{stroke:#FF5722;fill:#FF5722}#chart-57b7c632-374a-48ef-b55e-99af6cabeb75 .color-5,#chart-57b7c632-374a-48ef-b55e-99af6cabeb75 .color-5 a:visited{stroke:#9C27B0;fill:#9C27B0}#chart-57b7c632-374a-48ef-b55e-99af6cabeb75 .text-overlay .color-0 text{fill:black}#chart-57b7c632-374a-48ef-b55e-99af6cabeb75 .text-overlay .color-1 text{fill:black}#chart-57b7c632-374a-48ef-b55e-99af6cabeb75 .text-overlay .color-2 text{fill:black}#chart-57b7c632-374a-48ef-b55e-99af6cabeb75 .text-overlay .color-3 text{fill:black}#chart-57b7c632-374a-48ef-b55e-99af6cabeb75 .text-overlay .color-4 text{fill:black}#chart-57b7c632-374a-48ef-b55e-99af6cabeb75 .text-overlay .color-5 text{fill:black}\n#chart-57b7c632-374a-48ef-b55e-99af6cabeb75 text.no_data{text-anchor:middle}#chart-57b7c632-374a-48ef-b55e-99af6cabeb75 .guide.line{fill:none}#chart-57b7c632-374a-48ef-b55e-99af6cabeb75 .centered{text-anchor:middle}#chart-57b7c632-374a-48ef-b55e-99af6cabeb75 .title{text-anchor:middle}#chart-57b7c632-374a-48ef-b55e-99af6cabeb75 .legends .legend text{fill-opacity:1}#chart-57b7c632-374a-48ef-b55e-99af6cabeb75 .axis.x text{text-anchor:middle}#chart-57b7c632-374a-48ef-b55e-99af6cabeb75 .axis.x:not(.web) text[transform]{text-anchor:start}#chart-57b7c632-374a-48ef-b55e-99af6cabeb75 .axis.x:not(.web) text[transform].backwards{text-anchor:end}#chart-57b7c632-374a-48ef-b55e-99af6cabeb75 .axis.y text{text-anchor:end}#chart-57b7c632-374a-48ef-b55e-99af6cabeb75 .axis.y text[transform].backwards{text-anchor:start}#chart-57b7c632-374a-48ef-b55e-99af6cabeb75 .axis.y2 text{text-anchor:start}#chart-57b7c632-374a-48ef-b55e-99af6cabeb75 .axis.y2 text[transform].backwards{text-anchor:end}#chart-57b7c632-374a-48ef-b55e-99af6cabeb75 .axis .guide.line{stroke-dasharray:4,4}#chart-57b7c632-374a-48ef-b55e-99af6cabeb75 .axis .major.guide.line{stroke-dasharray:6,6}#chart-57b7c632-374a-48ef-b55e-99af6cabeb75 .horizontal .axis.y .guide.line,#chart-57b7c632-374a-48ef-b55e-99af6cabeb75 .horizontal .axis.y2 .guide.line,#chart-57b7c632-374a-48ef-b55e-99af6cabeb75 .vertical .axis.x .guide.line{opacity:0}#chart-57b7c632-374a-48ef-b55e-99af6cabeb75 .horizontal .axis.always_show .guide.line,#chart-57b7c632-374a-48ef-b55e-99af6cabeb75 .vertical .axis.always_show .guide.line{opacity:1 !important}#chart-57b7c632-374a-48ef-b55e-99af6cabeb75 .axis.y .guides:hover .guide.line,#chart-57b7c632-374a-48ef-b55e-99af6cabeb75 .axis.y2 .guides:hover .guide.line,#chart-57b7c632-374a-48ef-b55e-99af6cabeb75 .axis.x .guides:hover .guide.line{opacity:1}#chart-57b7c632-374a-48ef-b55e-99af6cabeb75 .axis .guides:hover text{opacity:1}#chart-57b7c632-374a-48ef-b55e-99af6cabeb75 .nofill{fill:none}#chart-57b7c632-374a-48ef-b55e-99af6cabeb75 .subtle-fill{fill-opacity:.2}#chart-57b7c632-374a-48ef-b55e-99af6cabeb75 .dot{stroke-width:1px;fill-opacity:1}#chart-57b7c632-374a-48ef-b55e-99af6cabeb75 .dot.active{stroke-width:5px}#chart-57b7c632-374a-48ef-b55e-99af6cabeb75 .dot.negative{fill:transparent}#chart-57b7c632-374a-48ef-b55e-99af6cabeb75 text,#chart-57b7c632-374a-48ef-b55e-99af6cabeb75 tspan{stroke:none !important}#chart-57b7c632-374a-48ef-b55e-99af6cabeb75 .series text.active{opacity:1}#chart-57b7c632-374a-48ef-b55e-99af6cabeb75 .tooltip rect{fill-opacity:.95;stroke-width:.5}#chart-57b7c632-374a-48ef-b55e-99af6cabeb75 .tooltip text{fill-opacity:1}#chart-57b7c632-374a-48ef-b55e-99af6cabeb75 .showable{visibility:hidden}#chart-57b7c632-374a-48ef-b55e-99af6cabeb75 .showable.shown{visibility:visible}#chart-57b7c632-374a-48ef-b55e-99af6cabeb75 .gauge-background{fill:rgba(229,229,229,1);stroke:none}#chart-57b7c632-374a-48ef-b55e-99af6cabeb75 .bg-lines{stroke:rgba(249,249,249,1);stroke-width:2px}</style><script type=\"text/javascript\">window.pygal = window.pygal || {};window.pygal.config = window.pygal.config || {};window.pygal.config['57b7c632-374a-48ef-b55e-99af6cabeb75'] = {&quot;allow_interruptions&quot;: false, &quot;box_mode&quot;: &quot;extremes&quot;, &quot;classes&quot;: [&quot;pygal-chart&quot;], &quot;css&quot;: [&quot;file://style.css&quot;, &quot;file://graph.css&quot;], &quot;defs&quot;: [], &quot;disable_xml_declaration&quot;: true, &quot;dots_size&quot;: 2.5, &quot;dynamic_print_values&quot;: false, &quot;explicit_size&quot;: false, &quot;fill&quot;: false, &quot;force_uri_protocol&quot;: &quot;https&quot;, &quot;formatter&quot;: null, &quot;half_pie&quot;: false, &quot;height&quot;: 600, &quot;include_x_axis&quot;: false, &quot;inner_radius&quot;: 0, &quot;interpolate&quot;: null, &quot;interpolation_parameters&quot;: {}, &quot;interpolation_precision&quot;: 250, &quot;inverse_y_axis&quot;: false, &quot;js&quot;: [&quot;//kozea.github.io/pygal.js/2.0.x/pygal-tooltips.min.js&quot;], &quot;legend_at_bottom&quot;: false, &quot;legend_at_bottom_columns&quot;: null, &quot;legend_box_size&quot;: 12, &quot;logarithmic&quot;: false, &quot;margin&quot;: 20, &quot;margin_bottom&quot;: null, &quot;margin_left&quot;: null, &quot;margin_right&quot;: null, &quot;margin_top&quot;: null, &quot;max_scale&quot;: 16, &quot;min_scale&quot;: 4, &quot;missing_value_fill_truncation&quot;: &quot;x&quot;, &quot;no_data_text&quot;: &quot;No data&quot;, &quot;no_prefix&quot;: false, &quot;order_min&quot;: null, &quot;pretty_print&quot;: false, &quot;print_labels&quot;: false, &quot;print_values&quot;: false, &quot;print_values_position&quot;: &quot;center&quot;, &quot;print_zeroes&quot;: true, &quot;range&quot;: null, &quot;rounded_bars&quot;: null, &quot;secondary_range&quot;: null, &quot;show_dots&quot;: true, &quot;show_legend&quot;: true, &quot;show_minor_x_labels&quot;: true, &quot;show_minor_y_labels&quot;: true, &quot;show_only_major_dots&quot;: false, &quot;show_x_guides&quot;: false, &quot;show_x_labels&quot;: true, &quot;show_y_guides&quot;: true, &quot;show_y_labels&quot;: true, &quot;spacing&quot;: 10, &quot;stack_from_top&quot;: false, &quot;strict&quot;: false, &quot;stroke&quot;: true, &quot;stroke_style&quot;: null, &quot;style&quot;: {&quot;background&quot;: &quot;rgba(249, 249, 249, 1)&quot;, &quot;ci_colors&quot;: [], &quot;colors&quot;: [&quot;#F44336&quot;, &quot;#3F51B5&quot;, &quot;#009688&quot;, &quot;#FFC107&quot;, &quot;#FF5722&quot;, &quot;#9C27B0&quot;, &quot;#03A9F4&quot;, &quot;#8BC34A&quot;, &quot;#FF9800&quot;, &quot;#E91E63&quot;, &quot;#2196F3&quot;, &quot;#4CAF50&quot;, &quot;#FFEB3B&quot;, &quot;#673AB7&quot;, &quot;#00BCD4&quot;, &quot;#CDDC39&quot;, &quot;#9E9E9E&quot;, &quot;#607D8B&quot;], &quot;font_family&quot;: &quot;Consolas, \\&quot;Liberation Mono\\&quot;, Menlo, Courier, monospace&quot;, &quot;foreground&quot;: &quot;rgba(0, 0, 0, .87)&quot;, &quot;foreground_strong&quot;: &quot;rgba(0, 0, 0, 1)&quot;, &quot;foreground_subtle&quot;: &quot;rgba(0, 0, 0, .54)&quot;, &quot;guide_stroke_dasharray&quot;: &quot;4,4&quot;, &quot;label_font_family&quot;: &quot;Consolas, \\&quot;Liberation Mono\\&quot;, Menlo, Courier, monospace&quot;, &quot;label_font_size&quot;: 10, &quot;legend_font_family&quot;: &quot;Consolas, \\&quot;Liberation Mono\\&quot;, Menlo, Courier, monospace&quot;, &quot;legend_font_size&quot;: 14, &quot;major_guide_stroke_dasharray&quot;: &quot;6,6&quot;, &quot;major_label_font_family&quot;: &quot;Consolas, \\&quot;Liberation Mono\\&quot;, Menlo, Courier, monospace&quot;, &quot;major_label_font_size&quot;: 10, &quot;no_data_font_family&quot;: &quot;Consolas, \\&quot;Liberation Mono\\&quot;, Menlo, Courier, monospace&quot;, &quot;no_data_font_size&quot;: 64, &quot;opacity&quot;: &quot;.7&quot;, &quot;opacity_hover&quot;: &quot;.8&quot;, &quot;plot_background&quot;: &quot;rgba(255, 255, 255, 1)&quot;, &quot;stroke_opacity&quot;: &quot;.8&quot;, &quot;stroke_opacity_hover&quot;: &quot;.9&quot;, &quot;title_font_family&quot;: &quot;Consolas, \\&quot;Liberation Mono\\&quot;, Menlo, Courier, monospace&quot;, &quot;title_font_size&quot;: 16, &quot;tooltip_font_family&quot;: &quot;Consolas, \\&quot;Liberation Mono\\&quot;, Menlo, Courier, monospace&quot;, &quot;tooltip_font_size&quot;: 14, &quot;transition&quot;: &quot;150ms&quot;, &quot;value_background&quot;: &quot;rgba(229, 229, 229, 1)&quot;, &quot;value_colors&quot;: [], &quot;value_font_family&quot;: &quot;Consolas, \\&quot;Liberation Mono\\&quot;, Menlo, Courier, monospace&quot;, &quot;value_font_size&quot;: 16, &quot;value_label_font_family&quot;: &quot;Consolas, \\&quot;Liberation Mono\\&quot;, Menlo, Courier, monospace&quot;, &quot;value_label_font_size&quot;: 10}, &quot;title&quot;: &quot;Max Differential Voltage Comparison&quot;, &quot;tooltip_border_radius&quot;: 0, &quot;tooltip_fancy_mode&quot;: true, &quot;truncate_label&quot;: null, &quot;truncate_legend&quot;: null, &quot;width&quot;: 800, &quot;x_label_rotation&quot;: 0, &quot;x_labels&quot;: [&quot;0&quot;, &quot;1&quot;, &quot;2&quot;, &quot;3&quot;, &quot;4&quot;, &quot;5&quot;, &quot;6&quot;, &quot;7&quot;, &quot;8&quot;, &quot;9&quot;, &quot;10&quot;, &quot;11&quot;, &quot;12&quot;, &quot;13&quot;, &quot;14&quot;, &quot;15&quot;, &quot;16&quot;, &quot;17&quot;, &quot;18&quot;, &quot;19&quot;, &quot;20&quot;, &quot;21&quot;, &quot;22&quot;, &quot;23&quot;, &quot;24&quot;, &quot;25&quot;, &quot;26&quot;, &quot;27&quot;, &quot;28&quot;, &quot;29&quot;, &quot;30&quot;, &quot;31&quot;, &quot;32&quot;, &quot;33&quot;, &quot;34&quot;, &quot;35&quot;, &quot;36&quot;, &quot;37&quot;, &quot;38&quot;, &quot;39&quot;, &quot;40&quot;, &quot;41&quot;, &quot;42&quot;, &quot;43&quot;, &quot;44&quot;, &quot;45&quot;, &quot;46&quot;, &quot;47&quot;, &quot;48&quot;, &quot;49&quot;, &quot;50&quot;, &quot;51&quot;, &quot;52&quot;, &quot;53&quot;, &quot;54&quot;, &quot;55&quot;, &quot;56&quot;, &quot;57&quot;, &quot;58&quot;, &quot;59&quot;, &quot;60&quot;, &quot;61&quot;, &quot;62&quot;, &quot;63&quot;, &quot;64&quot;, &quot;65&quot;, &quot;66&quot;, &quot;67&quot;, &quot;68&quot;, &quot;69&quot;, &quot;70&quot;, &quot;71&quot;, &quot;72&quot;, &quot;73&quot;, &quot;74&quot;, &quot;75&quot;, &quot;76&quot;, &quot;77&quot;, &quot;78&quot;, &quot;79&quot;, &quot;80&quot;, &quot;81&quot;, &quot;82&quot;, &quot;83&quot;, &quot;84&quot;, &quot;85&quot;, &quot;86&quot;, &quot;87&quot;, &quot;88&quot;, &quot;89&quot;, &quot;90&quot;, &quot;91&quot;, &quot;92&quot;, &quot;93&quot;, &quot;94&quot;, &quot;95&quot;, &quot;96&quot;, &quot;97&quot;, &quot;98&quot;, &quot;99&quot;, &quot;100&quot;, &quot;101&quot;, &quot;102&quot;, &quot;103&quot;, &quot;104&quot;, &quot;105&quot;, &quot;106&quot;, &quot;107&quot;, &quot;108&quot;, &quot;109&quot;, &quot;110&quot;, &quot;111&quot;, &quot;112&quot;, &quot;113&quot;, &quot;114&quot;, &quot;115&quot;, &quot;116&quot;, &quot;117&quot;, &quot;118&quot;, &quot;119&quot;, &quot;120&quot;, &quot;121&quot;, &quot;122&quot;, &quot;123&quot;, &quot;124&quot;], &quot;x_labels_major&quot;: null, &quot;x_labels_major_count&quot;: null, &quot;x_labels_major_every&quot;: null, &quot;x_title&quot;: null, &quot;xrange&quot;: null, &quot;y_label_rotation&quot;: 0, &quot;y_labels&quot;: null, &quot;y_labels_major&quot;: null, &quot;y_labels_major_count&quot;: null, &quot;y_labels_major_every&quot;: null, &quot;y_title&quot;: null, &quot;zero&quot;: 0, &quot;legends&quot;: [&quot;MAX_HS_Vgs_T1T2&quot;, &quot;MAX_HS_Vgs_T1T3&quot;, &quot;MAX_HS_Vgs_T1T4&quot;, &quot;MAX_HS_Vgs_T2T3&quot;, &quot;MAX_HS_Vgs_T2T4&quot;, &quot;MAX_HS_Vgs_T3T4&quot;]}</script><script type=\"text/javascript\" xlink:href=\"https://kozea.github.io/pygal.js/2.0.x/pygal-tooltips.min.js\"/></defs><title>Max Differential Voltage Comparison</title><g class=\"graph line-graph vertical\"><rect x=\"0\" y=\"0\" width=\"800\" height=\"600\" class=\"background\"/><g transform=\"translate(196, 46)\" class=\"plot\"><rect x=\"0\" y=\"0\" width=\"584.0\" height=\"514\" class=\"background\"/><g class=\"axis y always_show\"><path d=\"M0.000000 514.000000 h584.000000\" class=\"line\"/><g class=\"guides\"><path d=\"M0.000000 485.339764 h584.000000\" class=\"guide line\"/><text x=\"-5\" y=\"488.8397638861756\" class=\"\">0.2</text><title>0.2</title></g><g class=\"guides\"><path d=\"M0.000000 442.879384 h584.000000\" class=\"guide line\"/><text x=\"-5\" y=\"446.37938432936164\" class=\"\">0.4</text><title>0.4</title></g><g class=\"guides\"><path d=\"M0.000000 400.419005 h584.000000\" class=\"guide line\"/><text x=\"-5\" y=\"403.9190047725476\" class=\"\">0.6</text><title>0.6</title></g><g class=\"guides\"><path d=\"M0.000000 357.958625 h584.000000\" class=\"guide line\"/><text x=\"-5\" y=\"361.4586252157336\" class=\"\">0.8</text><title>0.8</title></g><g class=\"guides\"><path d=\"M0.000000 315.498246 h584.000000\" class=\"major guide line\"/><text x=\"-5\" y=\"318.99824565891964\" class=\"major\">1</text><title>1</title></g><g class=\"guides\"><path d=\"M0.000000 273.037866 h584.000000\" class=\"guide line\"/><text x=\"-5\" y=\"276.5378661021057\" class=\"\">1.2</text><title>1.2</title></g><g class=\"guides\"><path d=\"M0.000000 230.577487 h584.000000\" class=\"guide line\"/><text x=\"-5\" y=\"234.07748654529172\" class=\"\">1.4</text><title>1.4</title></g><g class=\"guides\"><path d=\"M0.000000 188.117107 h584.000000\" class=\"guide line\"/><text x=\"-5\" y=\"191.6171069884777\" class=\"\">1.6</text><title>1.6</title></g><g class=\"guides\"><path d=\"M0.000000 145.656727 h584.000000\" class=\"guide line\"/><text x=\"-5\" y=\"149.15672743166374\" class=\"\">1.8</text><title>1.8</title></g><g class=\"guides\"><path d=\"M0.000000 103.196348 h584.000000\" class=\"major guide line\"/><text x=\"-5\" y=\"106.69634787484978\" class=\"major\">2</text><title>2</title></g><g class=\"guides\"><path d=\"M0.000000 60.735968 h584.000000\" class=\"guide line\"/><text x=\"-5\" y=\"64.23596831803576\" class=\"\">2.2</text><title>2.2</title></g><g class=\"guides\"><path d=\"M0.000000 18.275589 h584.000000\" class=\"guide line\"/><text x=\"-5\" y=\"21.775588761221854\" class=\"\">2.4</text><title>2.4</title></g></g><g class=\"axis x\"><g class=\"guides\"><path d=\"M11.230769 0.000000 v514.000000\" class=\"axis line\"/><text x=\"11.23076923076923\" y=\"529.0\" class=\"\">0</text></g><g class=\"guides\"><path d=\"M15.759305 0.000000 v514.000000\" class=\"guide line\"/><text x=\"15.759305210918114\" y=\"529.0\" class=\"\">1</text></g><g class=\"guides\"><path d=\"M20.287841 0.000000 v514.000000\" class=\"guide line\"/><text x=\"20.287841191067\" y=\"529.0\" class=\"\">2</text></g><g class=\"guides\"><path d=\"M24.816377 0.000000 v514.000000\" class=\"guide line\"/><text x=\"24.816377171215876\" y=\"529.0\" class=\"\">3</text></g><g class=\"guides\"><path d=\"M29.344913 0.000000 v514.000000\" class=\"guide line\"/><text x=\"29.344913151364764\" y=\"529.0\" class=\"\">4</text></g><g class=\"guides\"><path d=\"M33.873449 0.000000 v514.000000\" class=\"guide line\"/><text x=\"33.873449131513645\" y=\"529.0\" class=\"\">5</text></g><g class=\"guides\"><path d=\"M38.401985 0.000000 v514.000000\" class=\"guide line\"/><text x=\"38.401985111662526\" y=\"529.0\" class=\"\">6</text></g><g class=\"guides\"><path d=\"M42.930521 0.000000 v514.000000\" class=\"guide line\"/><text x=\"42.930521091811414\" y=\"529.0\" class=\"\">7</text></g><g class=\"guides\"><path d=\"M47.459057 0.000000 v514.000000\" class=\"guide line\"/><text x=\"47.459057071960295\" y=\"529.0\" class=\"\">8</text></g><g class=\"guides\"><path d=\"M51.987593 0.000000 v514.000000\" class=\"guide line\"/><text x=\"51.98759305210918\" y=\"529.0\" class=\"\">9</text></g><g class=\"guides\"><path d=\"M56.516129 0.000000 v514.000000\" class=\"guide line\"/><text x=\"56.516129032258064\" y=\"529.0\" class=\"\">…</text><title>10</title></g><g class=\"guides\"><path d=\"M61.044665 0.000000 v514.000000\" class=\"guide line\"/><text x=\"61.04466501240695\" y=\"529.0\" class=\"\">…</text><title>11</title></g><g class=\"guides\"><path d=\"M65.573201 0.000000 v514.000000\" class=\"guide line\"/><text x=\"65.57320099255584\" y=\"529.0\" class=\"\">…</text><title>12</title></g><g class=\"guides\"><path d=\"M70.101737 0.000000 v514.000000\" class=\"guide line\"/><text x=\"70.10173697270471\" y=\"529.0\" class=\"\">…</text><title>13</title></g><g class=\"guides\"><path d=\"M74.630273 0.000000 v514.000000\" class=\"guide line\"/><text x=\"74.63027295285359\" y=\"529.0\" class=\"\">…</text><title>14</title></g><g class=\"guides\"><path d=\"M79.158809 0.000000 v514.000000\" class=\"guide line\"/><text x=\"79.15880893300248\" y=\"529.0\" class=\"\">…</text><title>15</title></g><g class=\"guides\"><path d=\"M83.687345 0.000000 v514.000000\" class=\"guide line\"/><text x=\"83.68734491315136\" y=\"529.0\" class=\"\">…</text><title>16</title></g><g class=\"guides\"><path d=\"M88.215881 0.000000 v514.000000\" class=\"guide line\"/><text x=\"88.21588089330024\" y=\"529.0\" class=\"\">…</text><title>17</title></g><g class=\"guides\"><path d=\"M92.744417 0.000000 v514.000000\" class=\"guide line\"/><text x=\"92.74441687344913\" y=\"529.0\" class=\"\">…</text><title>18</title></g><g class=\"guides\"><path d=\"M97.272953 0.000000 v514.000000\" class=\"guide line\"/><text x=\"97.272952853598\" y=\"529.0\" class=\"\">…</text><title>19</title></g><g class=\"guides\"><path d=\"M101.801489 0.000000 v514.000000\" class=\"guide line\"/><text x=\"101.80148883374689\" y=\"529.0\" class=\"\">…</text><title>20</title></g><g class=\"guides\"><path d=\"M106.330025 0.000000 v514.000000\" class=\"guide line\"/><text x=\"106.33002481389576\" y=\"529.0\" class=\"\">…</text><title>21</title></g><g class=\"guides\"><path d=\"M110.858561 0.000000 v514.000000\" class=\"guide line\"/><text x=\"110.85856079404466\" y=\"529.0\" class=\"\">…</text><title>22</title></g><g class=\"guides\"><path d=\"M115.387097 0.000000 v514.000000\" class=\"guide line\"/><text x=\"115.38709677419354\" y=\"529.0\" class=\"\">…</text><title>23</title></g><g class=\"guides\"><path d=\"M119.915633 0.000000 v514.000000\" class=\"guide line\"/><text x=\"119.91563275434243\" y=\"529.0\" class=\"\">…</text><title>24</title></g><g class=\"guides\"><path d=\"M124.444169 0.000000 v514.000000\" class=\"guide line\"/><text x=\"124.4441687344913\" y=\"529.0\" class=\"\">…</text><title>25</title></g><g class=\"guides\"><path d=\"M128.972705 0.000000 v514.000000\" class=\"guide line\"/><text x=\"128.9727047146402\" y=\"529.0\" class=\"\">…</text><title>26</title></g><g class=\"guides\"><path d=\"M133.501241 0.000000 v514.000000\" class=\"guide line\"/><text x=\"133.5012406947891\" y=\"529.0\" class=\"\">…</text><title>27</title></g><g class=\"guides\"><path d=\"M138.029777 0.000000 v514.000000\" class=\"guide line\"/><text x=\"138.02977667493795\" y=\"529.0\" class=\"\">…</text><title>28</title></g><g class=\"guides\"><path d=\"M142.558313 0.000000 v514.000000\" class=\"guide line\"/><text x=\"142.55831265508684\" y=\"529.0\" class=\"\">…</text><title>29</title></g><g class=\"guides\"><path d=\"M147.086849 0.000000 v514.000000\" class=\"guide line\"/><text x=\"147.08684863523575\" y=\"529.0\" class=\"\">…</text><title>30</title></g><g class=\"guides\"><path d=\"M151.615385 0.000000 v514.000000\" class=\"guide line\"/><text x=\"151.6153846153846\" y=\"529.0\" class=\"\">…</text><title>31</title></g><g class=\"guides\"><path d=\"M156.143921 0.000000 v514.000000\" class=\"guide line\"/><text x=\"156.1439205955335\" y=\"529.0\" class=\"\">…</text><title>32</title></g><g class=\"guides\"><path d=\"M160.672457 0.000000 v514.000000\" class=\"guide line\"/><text x=\"160.67245657568236\" y=\"529.0\" class=\"\">…</text><title>33</title></g><g class=\"guides\"><path d=\"M165.200993 0.000000 v514.000000\" class=\"guide line\"/><text x=\"165.20099255583125\" y=\"529.0\" class=\"\">…</text><title>34</title></g><g class=\"guides\"><path d=\"M169.729529 0.000000 v514.000000\" class=\"guide line\"/><text x=\"169.7295285359802\" y=\"529.0\" class=\"\">…</text><title>35</title></g><g class=\"guides\"><path d=\"M174.258065 0.000000 v514.000000\" class=\"guide line\"/><text x=\"174.25806451612905\" y=\"529.0\" class=\"\">…</text><title>36</title></g><g class=\"guides\"><path d=\"M178.786600 0.000000 v514.000000\" class=\"guide line\"/><text x=\"178.78660049627794\" y=\"529.0\" class=\"\">…</text><title>37</title></g><g class=\"guides\"><path d=\"M183.315136 0.000000 v514.000000\" class=\"guide line\"/><text x=\"183.3151364764268\" y=\"529.0\" class=\"\">…</text><title>38</title></g><g class=\"guides\"><path d=\"M187.843672 0.000000 v514.000000\" class=\"guide line\"/><text x=\"187.8436724565757\" y=\"529.0\" class=\"\">…</text><title>39</title></g><g class=\"guides\"><path d=\"M192.372208 0.000000 v514.000000\" class=\"guide line\"/><text x=\"192.37220843672455\" y=\"529.0\" class=\"\">…</text><title>40</title></g><g class=\"guides\"><path d=\"M196.900744 0.000000 v514.000000\" class=\"guide line\"/><text x=\"196.90074441687344\" y=\"529.0\" class=\"\">…</text><title>41</title></g><g class=\"guides\"><path d=\"M201.429280 0.000000 v514.000000\" class=\"guide line\"/><text x=\"201.4292803970223\" y=\"529.0\" class=\"\">…</text><title>42</title></g><g class=\"guides\"><path d=\"M205.957816 0.000000 v514.000000\" class=\"guide line\"/><text x=\"205.95781637717124\" y=\"529.0\" class=\"\">…</text><title>43</title></g><g class=\"guides\"><path d=\"M210.486352 0.000000 v514.000000\" class=\"guide line\"/><text x=\"210.48635235732013\" y=\"529.0\" class=\"\">…</text><title>44</title></g><g class=\"guides\"><path d=\"M215.014888 0.000000 v514.000000\" class=\"guide line\"/><text x=\"215.014888337469\" y=\"529.0\" class=\"\">…</text><title>45</title></g><g class=\"guides\"><path d=\"M219.543424 0.000000 v514.000000\" class=\"guide line\"/><text x=\"219.54342431761788\" y=\"529.0\" class=\"\">…</text><title>46</title></g><g class=\"guides\"><path d=\"M224.071960 0.000000 v514.000000\" class=\"guide line\"/><text x=\"224.07196029776674\" y=\"529.0\" class=\"\">…</text><title>47</title></g><g class=\"guides\"><path d=\"M228.600496 0.000000 v514.000000\" class=\"guide line\"/><text x=\"228.60049627791562\" y=\"529.0\" class=\"\">…</text><title>48</title></g><g class=\"guides\"><path d=\"M233.129032 0.000000 v514.000000\" class=\"guide line\"/><text x=\"233.1290322580645\" y=\"529.0\" class=\"\">…</text><title>49</title></g><g class=\"guides\"><path d=\"M237.657568 0.000000 v514.000000\" class=\"guide line\"/><text x=\"237.65756823821337\" y=\"529.0\" class=\"\">…</text><title>50</title></g><g class=\"guides\"><path d=\"M242.186104 0.000000 v514.000000\" class=\"guide line\"/><text x=\"242.18610421836232\" y=\"529.0\" class=\"\">…</text><title>51</title></g><g class=\"guides\"><path d=\"M246.714640 0.000000 v514.000000\" class=\"guide line\"/><text x=\"246.7146401985112\" y=\"529.0\" class=\"\">…</text><title>52</title></g><g class=\"guides\"><path d=\"M251.243176 0.000000 v514.000000\" class=\"guide line\"/><text x=\"251.24317617866006\" y=\"529.0\" class=\"\">…</text><title>53</title></g><g class=\"guides\"><path d=\"M255.771712 0.000000 v514.000000\" class=\"guide line\"/><text x=\"255.77171215880892\" y=\"529.0\" class=\"\">…</text><title>54</title></g><g class=\"guides\"><path d=\"M260.300248 0.000000 v514.000000\" class=\"guide line\"/><text x=\"260.30024813895784\" y=\"529.0\" class=\"\">…</text><title>55</title></g><g class=\"guides\"><path d=\"M264.828784 0.000000 v514.000000\" class=\"guide line\"/><text x=\"264.82878411910673\" y=\"529.0\" class=\"\">…</text><title>56</title></g><g class=\"guides\"><path d=\"M269.357320 0.000000 v514.000000\" class=\"guide line\"/><text x=\"269.35732009925556\" y=\"529.0\" class=\"\">…</text><title>57</title></g><g class=\"guides\"><path d=\"M273.885856 0.000000 v514.000000\" class=\"guide line\"/><text x=\"273.88585607940445\" y=\"529.0\" class=\"\">…</text><title>58</title></g><g class=\"guides\"><path d=\"M278.414392 0.000000 v514.000000\" class=\"guide line\"/><text x=\"278.41439205955334\" y=\"529.0\" class=\"\">…</text><title>59</title></g><g class=\"guides\"><path d=\"M282.942928 0.000000 v514.000000\" class=\"guide line\"/><text x=\"282.9429280397022\" y=\"529.0\" class=\"\">…</text><title>60</title></g><g class=\"guides\"><path d=\"M287.471464 0.000000 v514.000000\" class=\"guide line\"/><text x=\"287.4714640198511\" y=\"529.0\" class=\"\">…</text><title>61</title></g><g class=\"guides\"><path d=\"M292.000000 0.000000 v514.000000\" class=\"guide line\"/><text x=\"292.0\" y=\"529.0\" class=\"\">…</text><title>62</title></g><g class=\"guides\"><path d=\"M296.528536 0.000000 v514.000000\" class=\"guide line\"/><text x=\"296.5285359801489\" y=\"529.0\" class=\"\">…</text><title>63</title></g><g class=\"guides\"><path d=\"M301.057072 0.000000 v514.000000\" class=\"guide line\"/><text x=\"301.0570719602978\" y=\"529.0\" class=\"\">…</text><title>64</title></g><g class=\"guides\"><path d=\"M305.585608 0.000000 v514.000000\" class=\"guide line\"/><text x=\"305.58560794044666\" y=\"529.0\" class=\"\">…</text><title>65</title></g><g class=\"guides\"><path d=\"M310.114144 0.000000 v514.000000\" class=\"guide line\"/><text x=\"310.1141439205955\" y=\"529.0\" class=\"\">…</text><title>66</title></g><g class=\"guides\"><path d=\"M314.642680 0.000000 v514.000000\" class=\"guide line\"/><text x=\"314.6426799007444\" y=\"529.0\" class=\"\">…</text><title>67</title></g><g class=\"guides\"><path d=\"M319.171216 0.000000 v514.000000\" class=\"guide line\"/><text x=\"319.17121588089327\" y=\"529.0\" class=\"\">…</text><title>68</title></g><g class=\"guides\"><path d=\"M323.699752 0.000000 v514.000000\" class=\"guide line\"/><text x=\"323.69975186104216\" y=\"529.0\" class=\"\">…</text><title>69</title></g><g class=\"guides\"><path d=\"M328.228288 0.000000 v514.000000\" class=\"guide line\"/><text x=\"328.22828784119105\" y=\"529.0\" class=\"\">…</text><title>70</title></g><g class=\"guides\"><path d=\"M332.756824 0.000000 v514.000000\" class=\"guide line\"/><text x=\"332.75682382134\" y=\"529.0\" class=\"\">…</text><title>71</title></g><g class=\"guides\"><path d=\"M337.285360 0.000000 v514.000000\" class=\"guide line\"/><text x=\"337.2853598014889\" y=\"529.0\" class=\"\">…</text><title>72</title></g><g class=\"guides\"><path d=\"M341.813896 0.000000 v514.000000\" class=\"guide line\"/><text x=\"341.8138957816377\" y=\"529.0\" class=\"\">…</text><title>73</title></g><g class=\"guides\"><path d=\"M346.342432 0.000000 v514.000000\" class=\"guide line\"/><text x=\"346.34243176178666\" y=\"529.0\" class=\"\">…</text><title>74</title></g><g class=\"guides\"><path d=\"M350.870968 0.000000 v514.000000\" class=\"guide line\"/><text x=\"350.8709677419355\" y=\"529.0\" class=\"\">…</text><title>75</title></g><g class=\"guides\"><path d=\"M355.399504 0.000000 v514.000000\" class=\"guide line\"/><text x=\"355.3995037220844\" y=\"529.0\" class=\"\">…</text><title>76</title></g><g class=\"guides\"><path d=\"M359.928040 0.000000 v514.000000\" class=\"guide line\"/><text x=\"359.9280397022332\" y=\"529.0\" class=\"\">…</text><title>77</title></g><g class=\"guides\"><path d=\"M364.456576 0.000000 v514.000000\" class=\"guide line\"/><text x=\"364.45657568238215\" y=\"529.0\" class=\"\">…</text><title>78</title></g><g class=\"guides\"><path d=\"M368.985112 0.000000 v514.000000\" class=\"guide line\"/><text x=\"368.985111662531\" y=\"529.0\" class=\"\">…</text><title>79</title></g><g class=\"guides\"><path d=\"M373.513648 0.000000 v514.000000\" class=\"guide line\"/><text x=\"373.51364764267987\" y=\"529.0\" class=\"\">…</text><title>80</title></g><g class=\"guides\"><path d=\"M378.042184 0.000000 v514.000000\" class=\"guide line\"/><text x=\"378.0421836228288\" y=\"529.0\" class=\"\">…</text><title>81</title></g><g class=\"guides\"><path d=\"M382.570720 0.000000 v514.000000\" class=\"guide line\"/><text x=\"382.57071960297765\" y=\"529.0\" class=\"\">…</text><title>82</title></g><g class=\"guides\"><path d=\"M387.099256 0.000000 v514.000000\" class=\"guide line\"/><text x=\"387.09925558312653\" y=\"529.0\" class=\"\">…</text><title>83</title></g><g class=\"guides\"><path d=\"M391.627792 0.000000 v514.000000\" class=\"guide line\"/><text x=\"391.62779156327537\" y=\"529.0\" class=\"\">…</text><title>84</title></g><g class=\"guides\"><path d=\"M396.156328 0.000000 v514.000000\" class=\"guide line\"/><text x=\"396.1563275434243\" y=\"529.0\" class=\"\">…</text><title>85</title></g><g class=\"guides\"><path d=\"M400.684864 0.000000 v514.000000\" class=\"guide line\"/><text x=\"400.6848635235732\" y=\"529.0\" class=\"\">…</text><title>86</title></g><g class=\"guides\"><path d=\"M405.213400 0.000000 v514.000000\" class=\"guide line\"/><text x=\"405.2133995037221\" y=\"529.0\" class=\"\">…</text><title>87</title></g><g class=\"guides\"><path d=\"M409.741935 0.000000 v514.000000\" class=\"guide line\"/><text x=\"409.741935483871\" y=\"529.0\" class=\"\">…</text><title>88</title></g><g class=\"guides\"><path d=\"M414.270471 0.000000 v514.000000\" class=\"guide line\"/><text x=\"414.27047146401986\" y=\"529.0\" class=\"\">…</text><title>89</title></g><g class=\"guides\"><path d=\"M418.799007 0.000000 v514.000000\" class=\"guide line\"/><text x=\"418.79900744416875\" y=\"529.0\" class=\"\">…</text><title>90</title></g><g class=\"guides\"><path d=\"M423.327543 0.000000 v514.000000\" class=\"guide line\"/><text x=\"423.3275434243176\" y=\"529.0\" class=\"\">…</text><title>91</title></g><g class=\"guides\"><path d=\"M427.856079 0.000000 v514.000000\" class=\"guide line\"/><text x=\"427.8560794044665\" y=\"529.0\" class=\"\">…</text><title>92</title></g><g class=\"guides\"><path d=\"M432.384615 0.000000 v514.000000\" class=\"guide line\"/><text x=\"432.38461538461536\" y=\"529.0\" class=\"\">…</text><title>93</title></g><g class=\"guides\"><path d=\"M436.913151 0.000000 v514.000000\" class=\"guide line\"/><text x=\"436.91315136476425\" y=\"529.0\" class=\"\">…</text><title>94</title></g><g class=\"guides\"><path d=\"M441.441687 0.000000 v514.000000\" class=\"guide line\"/><text x=\"441.44168734491313\" y=\"529.0\" class=\"\">…</text><title>95</title></g><g class=\"guides\"><path d=\"M445.970223 0.000000 v514.000000\" class=\"guide line\"/><text x=\"445.970223325062\" y=\"529.0\" class=\"\">…</text><title>96</title></g><g class=\"guides\"><path d=\"M450.498759 0.000000 v514.000000\" class=\"guide line\"/><text x=\"450.4987593052109\" y=\"529.0\" class=\"\">…</text><title>97</title></g><g class=\"guides\"><path d=\"M455.027295 0.000000 v514.000000\" class=\"guide line\"/><text x=\"455.02729528535974\" y=\"529.0\" class=\"\">…</text><title>98</title></g><g class=\"guides\"><path d=\"M459.555831 0.000000 v514.000000\" class=\"guide line\"/><text x=\"459.5558312655087\" y=\"529.0\" class=\"\">…</text><title>99</title></g><g class=\"guides\"><path d=\"M464.084367 0.000000 v514.000000\" class=\"guide line\"/><text x=\"464.0843672456575\" y=\"529.0\" class=\"\">…</text><title>100</title></g><g class=\"guides\"><path d=\"M468.612903 0.000000 v514.000000\" class=\"guide line\"/><text x=\"468.61290322580646\" y=\"529.0\" class=\"\">…</text><title>101</title></g><g class=\"guides\"><path d=\"M473.141439 0.000000 v514.000000\" class=\"guide line\"/><text x=\"473.14143920595535\" y=\"529.0\" class=\"\">…</text><title>102</title></g><g class=\"guides\"><path d=\"M477.669975 0.000000 v514.000000\" class=\"guide line\"/><text x=\"477.66997518610424\" y=\"529.0\" class=\"\">…</text><title>103</title></g><g class=\"guides\"><path d=\"M482.198511 0.000000 v514.000000\" class=\"guide line\"/><text x=\"482.19851116625307\" y=\"529.0\" class=\"\">…</text><title>104</title></g><g class=\"guides\"><path d=\"M486.727047 0.000000 v514.000000\" class=\"guide line\"/><text x=\"486.727047146402\" y=\"529.0\" class=\"\">…</text><title>105</title></g><g class=\"guides\"><path d=\"M491.255583 0.000000 v514.000000\" class=\"guide line\"/><text x=\"491.2555831265509\" y=\"529.0\" class=\"\">…</text><title>106</title></g><g class=\"guides\"><path d=\"M495.784119 0.000000 v514.000000\" class=\"guide line\"/><text x=\"495.78411910669973\" y=\"529.0\" class=\"\">…</text><title>107</title></g><g class=\"guides\"><path d=\"M500.312655 0.000000 v514.000000\" class=\"guide line\"/><text x=\"500.3126550868487\" y=\"529.0\" class=\"\">…</text><title>108</title></g><g class=\"guides\"><path d=\"M504.841191 0.000000 v514.000000\" class=\"guide line\"/><text x=\"504.84119106699745\" y=\"529.0\" class=\"\">…</text><title>109</title></g><g class=\"guides\"><path d=\"M509.369727 0.000000 v514.000000\" class=\"guide line\"/><text x=\"509.3697270471464\" y=\"529.0\" class=\"\">…</text><title>110</title></g><g class=\"guides\"><path d=\"M513.898263 0.000000 v514.000000\" class=\"guide line\"/><text x=\"513.8982630272953\" y=\"529.0\" class=\"\">…</text><title>111</title></g><g class=\"guides\"><path d=\"M518.426799 0.000000 v514.000000\" class=\"guide line\"/><text x=\"518.4267990074441\" y=\"529.0\" class=\"\">…</text><title>112</title></g><g class=\"guides\"><path d=\"M522.955335 0.000000 v514.000000\" class=\"guide line\"/><text x=\"522.955334987593\" y=\"529.0\" class=\"\">…</text><title>113</title></g><g class=\"guides\"><path d=\"M527.483871 0.000000 v514.000000\" class=\"guide line\"/><text x=\"527.483870967742\" y=\"529.0\" class=\"\">…</text><title>114</title></g><g class=\"guides\"><path d=\"M532.012407 0.000000 v514.000000\" class=\"guide line\"/><text x=\"532.0124069478908\" y=\"529.0\" class=\"\">…</text><title>115</title></g><g class=\"guides\"><path d=\"M536.540943 0.000000 v514.000000\" class=\"guide line\"/><text x=\"536.5409429280397\" y=\"529.0\" class=\"\">…</text><title>116</title></g><g class=\"guides\"><path d=\"M541.069479 0.000000 v514.000000\" class=\"guide line\"/><text x=\"541.0694789081886\" y=\"529.0\" class=\"\">…</text><title>117</title></g><g class=\"guides\"><path d=\"M545.598015 0.000000 v514.000000\" class=\"guide line\"/><text x=\"545.5980148883375\" y=\"529.0\" class=\"\">…</text><title>118</title></g><g class=\"guides\"><path d=\"M550.126551 0.000000 v514.000000\" class=\"guide line\"/><text x=\"550.1265508684863\" y=\"529.0\" class=\"\">…</text><title>119</title></g><g class=\"guides\"><path d=\"M554.655087 0.000000 v514.000000\" class=\"guide line\"/><text x=\"554.6550868486353\" y=\"529.0\" class=\"\">…</text><title>120</title></g><g class=\"guides\"><path d=\"M559.183623 0.000000 v514.000000\" class=\"guide line\"/><text x=\"559.1836228287841\" y=\"529.0\" class=\"\">…</text><title>121</title></g><g class=\"guides\"><path d=\"M563.712159 0.000000 v514.000000\" class=\"guide line\"/><text x=\"563.7121588089329\" y=\"529.0\" class=\"\">…</text><title>122</title></g><g class=\"guides\"><path d=\"M568.240695 0.000000 v514.000000\" class=\"guide line\"/><text x=\"568.2406947890819\" y=\"529.0\" class=\"\">…</text><title>123</title></g><g class=\"guides\"><path d=\"M572.769231 0.000000 v514.000000\" class=\"guide line\"/><text x=\"572.7692307692308\" y=\"529.0\" class=\"\">…</text><title>124</title></g></g><g class=\"series serie-0 color-0\"><path d=\"M11.230769 257.462794 L15.759305 215.371620 20.287841 178.600880 24.816377 213.436325 29.344913 231.987971 33.873449 229.899155 38.401985 175.337961 42.930521 213.521684 47.459057 225.628437 51.987593 215.844048 56.516129 226.733259 61.044665 206.107639 65.573201 206.409214 70.101737 227.470466 74.630273 239.495794 79.158809 224.065596 83.687345 228.414716 88.215881 211.228126 92.744417 218.002385 97.272953 159.085550 101.801489 206.682106 106.330025 219.265858 110.858561 210.276401 115.387097 222.446430 119.915633 159.848488 124.444169 205.871857 128.972705 198.853902 133.501241 190.018747 138.029777 208.640545 142.558313 161.891976 147.086849 71.099845 151.615385 151.501378 156.143921 215.567870 160.672457 196.433675 165.200993 193.173631 169.729529 236.513643 174.258065 147.579770 178.786600 223.995395 183.315136 165.928498 187.843672 242.972297 192.372208 160.992924 196.900744 233.452488 201.429280 207.860102 205.957816 173.234646 210.486352 200.399971 215.014888 230.513720 219.543424 136.880098 224.071960 200.367322 228.600496 169.225234 233.129032 265.983590 237.657568 185.041922 242.186104 217.073874 246.714640 242.038416 251.243176 140.557214 255.771712 229.576110 260.300248 245.420294 264.828784 216.083850 269.357320 192.086134 273.885856 96.109386 278.414392 218.544304 282.942928 215.847845 287.471464 204.283217 292.000000 170.650542 296.528536 221.594304 301.057072 228.951985 305.585608 217.754441 310.114144 204.443666 314.642680 221.905975 319.171216 258.043975 323.699752 205.698251 328.228288 60.415991 332.756824 249.714321 337.285360 222.046344 341.813896 193.073197 346.342432 187.211966 350.870968 148.119531 355.399504 236.009120 359.928040 154.802076 364.456576 90.326233 368.985112 193.344531 373.513648 245.305990 378.042184 199.823383 382.570720 185.732068 387.099256 243.378231 391.627792 205.562765 396.156328 148.707342 400.684864 227.859588 405.213400 261.779877 409.741935 224.899291 414.270471 256.733744 418.799007 207.410248 423.327543 223.760538 427.856079 226.085702 432.384615 210.421112 436.913151 205.797332 441.441687 214.969512 445.970223 205.353806 450.498759 224.542628 455.027295 240.673582 459.555831 181.498065 464.084367 219.438958 468.612903 228.809101 473.141439 217.299737 477.669975 156.217473 482.198511 133.676844 486.727047 229.452455 491.255583 181.133685 495.784119 223.282435 500.312655 235.686668 504.841191 183.281639 509.369727 41.527060 513.898263 92.040029 518.426799 212.862755 522.955335 261.489296 527.483871 239.899544 532.012407 190.299488 536.540943 235.261395 541.069479 205.248048 545.598015 227.669822 550.126551 162.498945 554.655087 216.126719 559.183623 237.970385 563.712159 208.211095 568.240695 232.699650 572.769231 208.294128\" class=\"line reactive nofill\"/></g><g class=\"series serie-1 color-1\"><path d=\"M11.230769 251.001853 L15.759305 213.590524 20.287841 155.520810 24.816377 208.930988 29.344913 244.353985 33.873449 243.265328 38.401985 200.234870 42.930521 205.952530 47.459057 215.013052 51.987593 224.199365 56.516129 247.053411 61.044665 153.789811 65.573201 217.321825 70.101737 236.192310 74.630273 256.142879 79.158809 234.676291 83.687345 221.969825 88.215881 193.678888 92.744417 248.383164 97.272953 171.761660 101.801489 167.366955 106.330025 227.292003 110.858561 235.913532 115.387097 166.151258 119.915633 208.450450 124.444169 108.404296 128.972705 243.856954 133.501241 161.899559 138.029777 245.409165 142.558313 88.080830 147.086849 70.777741 151.615385 221.302529 156.143921 254.476726 160.672457 228.610814 165.200993 111.300279 169.729529 137.680287 174.258065 118.910107 178.786600 224.789780 183.315136 147.304573 187.843672 225.927752 192.372208 161.817706 196.900744 238.243693 201.429280 178.799816 205.957816 190.956551 210.486352 136.389242 215.014888 235.614391 219.543424 132.135000 224.071960 194.305516 228.600496 146.782255 233.129032 244.863621 237.657568 223.225230 242.186104 187.260534 246.714640 240.929399 251.243176 117.903519 255.771712 253.002124 260.300248 245.859906 264.828784 253.334963 269.357320 104.018321 273.885856 40.857781 278.414392 239.066116 282.942928 254.836324 287.471464 242.436406 292.000000 82.161726 296.528536 216.878757 301.057072 248.962360 305.585608 230.926536 310.114144 233.571817 314.642680 203.404717 319.171216 162.876496 323.699752 199.185621 328.228288 25.162842 332.756824 83.882550 337.285360 180.654458 341.813896 190.545231 346.342432 184.483916 350.870968 113.449653 355.399504 223.593371 359.928040 118.301045 364.456576 53.507318 368.985112 177.315081 373.513648 228.142901 378.042184 188.584116 382.570720 225.119942 387.099256 244.799808 391.627792 171.355039 396.156328 117.718857 400.684864 246.428802 405.213400 264.458720 409.741935 205.486147 414.270471 240.353877 418.799007 148.349266 423.327543 221.480688 427.856079 240.435484 432.384615 241.817751 436.913151 205.219460 441.441687 224.703414 445.970223 222.820658 450.498759 249.228432 455.027295 236.806989 459.555831 93.048182 464.084367 222.379267 468.612903 237.863420 473.141439 230.083338 477.669975 118.689951 482.198511 95.554798 486.727047 235.340566 491.255583 176.398250 495.784119 208.969266 500.312655 236.895763 504.841191 196.766070 509.369727 24.380648 513.898263 112.311580 518.426799 235.840747 522.955335 238.647096 527.483871 240.834706 532.012407 125.601366 536.540943 218.787075 541.069479 182.267794 545.598015 176.378758 550.126551 129.029396 554.655087 242.026933 559.183623 239.041051 563.712159 188.868325 568.240695 241.158646 572.769231 208.492555\" class=\"line reactive nofill\"/></g><g class=\"series serie-2 color-2\"><path d=\"M11.230769 373.465079 L15.759305 390.158191 20.287841 319.799342 24.816377 484.975409 29.344913 273.314336 33.873449 441.135154 38.401985 466.087048 42.930521 341.325673 47.459057 187.187334 51.987593 319.250508 56.516129 373.093287 61.044665 299.816509 65.573201 361.769301 70.101737 324.164273 74.630273 393.780548 79.158809 388.197640 83.687345 317.617398 88.215881 215.779211 92.744417 427.837401 97.272953 422.504938 101.801489 356.930465 106.330025 407.723839 110.858561 369.313452 115.387097 327.469229 119.915633 369.238912 124.444169 323.871395 128.972705 360.928329 133.501241 394.432846 138.029777 380.585875 142.558313 225.188904 147.086849 270.386717 151.615385 350.888267 156.143921 392.909387 160.672457 282.309517 165.200993 193.655041 169.729529 279.255616 174.258065 115.260110 178.786600 405.187410 183.315136 366.150839 187.843672 372.928022 192.372208 371.023387 196.900744 331.863770 201.429280 392.800346 205.957816 371.844174 210.486352 331.559082 215.014888 279.163098 219.543424 390.217958 224.071960 209.782073 228.600496 377.826903 233.129032 368.450735 237.657568 240.550740 242.186104 275.180211 246.714640 355.769798 251.243176 451.695044 255.771712 437.411096 260.300248 344.255300 264.828784 179.103632 269.357320 82.918226 273.885856 339.491184 278.414392 415.530348 282.942928 400.100283 287.471464 310.193733 292.000000 307.450939 296.528536 406.958873 301.057072 365.147502 305.585608 250.374077 310.114144 393.430281 314.642680 356.440256 319.171216 260.410166 323.699752 371.185646 328.228288 341.859719 332.756824 180.662439 337.285360 281.801446 341.813896 472.592989 346.342432 296.176895 350.870968 333.260545 355.399504 353.761695 359.928040 264.589672 364.456576 213.955943 368.985112 402.145549 373.513648 431.013823 378.042184 346.833665 382.570720 376.882136 387.099256 321.834777 391.627792 271.663376 396.156328 366.974795 400.684864 352.673199 405.213400 375.068751 409.741935 234.649335 414.270471 402.661136 418.799007 104.901049 423.327543 331.766135 427.856079 386.739444 432.384615 419.248486 436.913151 312.440658 441.441687 377.961286 445.970223 174.224350 450.498759 368.888697 455.027295 466.083502 459.555831 254.586413 464.084367 274.721959 468.612903 334.173286 473.141439 422.299099 477.669975 230.519695 482.198511 292.887352 486.727047 365.811312 491.255583 347.803188 495.784119 325.841230 500.312655 360.529681 504.841191 431.281168 509.369727 354.160420 513.898263 251.789872 518.426799 413.244597 522.955335 360.545394 527.483871 281.957460 532.012407 373.202158 536.540943 366.110269 541.069479 378.177484 545.598015 154.210262 550.126551 393.270507 554.655087 411.884510 559.183623 410.040121 563.712159 281.712010 568.240695 483.544745 572.769231 395.340236\" class=\"line reactive nofill\"/></g><g class=\"series serie-3 color-3\"><path d=\"M11.230769 382.556355 L15.759305 485.924760 20.287841 378.401940 24.816377 473.045051 29.344913 368.894791 33.873449 481.687488 38.401985 328.867963 42.930521 412.194285 47.459057 328.243875 51.987593 456.624552 56.516129 433.438129 61.044665 305.009538 65.573201 426.917874 70.101737 377.663480 74.630273 443.038423 79.158809 493.017726 83.687345 365.780289 88.215881 287.584647 92.744417 352.302874 97.272953 418.866520 101.801489 449.843042 106.330025 400.757808 110.858561 465.307514 115.387097 401.616929 119.915633 434.538127 124.444169 413.978049 128.972705 408.311625 133.501241 454.810255 138.029777 447.096018 142.558313 350.855535 147.086849 388.810437 151.615385 413.000763 156.143921 405.910930 160.672457 455.111392 165.200993 371.576460 169.729529 92.875604 174.258065 204.018618 178.786600 455.480997 183.315136 420.469153 187.843672 333.217840 192.372208 386.315679 196.900744 408.796629 201.429280 364.474170 205.957816 430.605889 210.486352 379.493192 215.014888 376.452772 219.543424 474.964533 224.071960 173.323272 228.600496 431.536065 233.129032 377.296580 237.657568 403.587673 242.186104 267.670613 246.714640 409.088490 251.243176 351.297767 255.771712 344.376312 260.300248 504.115385 264.828784 452.290917 269.357320 375.191370 273.885856 344.841332 278.414392 469.851013 282.942928 439.996103 287.471464 409.496065 292.000000 372.286142 296.528536 423.823471 301.057072 425.211103 305.585608 307.130901 310.114144 352.865784 314.642680 398.607122 319.171216 181.019140 323.699752 383.804364 328.228288 325.728888 332.756824 148.056273 337.285360 360.297647 341.813896 467.487145 346.342432 326.333222 350.870968 316.367344 355.399504 327.874338 359.928040 345.161563 364.456576 376.656678 368.985112 465.327130 373.513648 345.555323 378.042184 378.298700 382.570720 209.011705 387.099256 403.919718 391.627792 295.559716 396.156328 371.145050 400.684864 429.048570 405.213400 416.020855 409.741935 291.472784 414.270471 402.908927 418.799007 305.839181 423.327543 380.948742 427.856079 466.740215 432.384615 144.832739 436.913151 435.506207 441.441687 403.195045 445.970223 434.356688 450.498759 259.043262 455.027295 484.340397 459.555831 373.370342 464.084367 331.910215 468.612903 377.714724 473.141439 468.661934 477.669975 356.398504 482.198511 339.451051 486.727047 480.196051 491.255583 349.125089 495.784119 305.518983 500.312655 414.914268 504.841191 350.711857 509.369727 402.155860 513.898263 412.281997 518.426799 449.748653 522.955335 389.738613 527.483871 306.920522 532.012407 423.785076 536.540943 349.487369 541.069479 359.472596 545.598015 263.263570 550.126551 306.653305 554.655087 356.157078 559.183623 428.311387 563.712159 376.975235 568.240695 477.512382 572.769231 274.744111\" class=\"line reactive nofill\"/></g><g class=\"series serie-4 color-4\"><path d=\"M11.230769 193.707733 L15.759305 210.785660 20.287841 195.161266 24.816377 201.855180 29.344913 202.478592 33.873449 195.756414 38.401985 222.996324 42.930521 228.011090 47.459057 205.741852 51.987593 130.156987 56.516129 134.106453 61.044665 156.544731 65.573201 163.764817 70.101737 92.211278 74.630273 168.279274 79.158809 201.464595 83.687345 176.071797 88.215881 224.899354 92.744417 158.059469 97.272953 164.865803 101.801489 137.125518 106.330025 198.684830 110.858561 187.727563 115.387097 121.512680 119.915633 90.741135 124.444169 111.331520 128.972705 132.995943 133.501241 129.721684 138.029777 113.265852 142.558313 22.965569 147.086849 14.212419 151.615385 66.543119 156.143921 150.844061 160.672457 146.040761 165.200993 193.351875 169.729529 135.890439 174.258065 106.718052 178.786600 134.976076 183.315136 102.122858 187.843672 198.311327 192.372208 129.204791 196.900744 189.086795 201.429280 116.374358 205.957816 145.639212 210.486352 147.920326 215.014888 100.203890 219.543424 190.049505 224.071960 175.352780 228.600496 173.479440 233.129032 189.592153 237.657568 72.679104 242.186104 145.278680 246.714640 162.367880 251.243176 158.539248 255.771712 202.540739 260.300248 205.039803 264.828784 169.196112 269.357320 225.776891 273.885856 42.925518 278.414392 174.028304 282.942928 123.505470 287.471464 129.554433 292.000000 95.335465 296.528536 155.045375 301.057072 128.916213 305.585608 166.367604 310.114144 121.691911 314.642680 123.061100 319.171216 259.380450 323.699752 231.470840 328.228288 36.277021 332.756824 232.872249 337.285360 86.537218 341.813896 215.891010 346.342432 123.076915 350.870968 180.145800 355.399504 171.448883 359.928040 195.535435 364.456576 141.982906 368.985112 155.993617 373.513648 209.083265 378.042184 111.120295 382.570720 135.308567 387.099256 212.721188 391.627792 238.301705 396.156328 139.594381 400.684864 121.981615 405.213400 137.668081 409.741935 145.818605 414.270471 192.337593 418.799007 180.641120 423.327543 121.548189 427.856079 197.228303 432.384615 132.684657 436.913151 102.217756 441.441687 206.523863 445.970223 164.443592 450.498759 177.488144 455.027295 214.345383 459.555831 96.975533 464.084367 87.428424 468.612903 141.386097 473.141439 182.037018 477.669975 37.646850 482.198511 194.910239 486.727047 241.811253 491.255583 111.713464 495.784119 240.279057 500.312655 200.312285 504.841191 220.432061 509.369727 9.884615 513.898263 38.722927 518.426799 155.922007 522.955335 176.672984 527.483871 181.671969 532.012407 105.905196 536.540943 238.499674 541.069479 226.885343 545.598015 215.151237 550.126551 164.044423 554.655087 140.149983 559.183623 178.341771 563.712159 67.860984 568.240695 232.621912 572.769231 135.788181\" class=\"line reactive nofill\"/></g><g class=\"series serie-5 color-5\"><path d=\"M11.230769 231.404836 L15.759305 214.800565 20.287841 204.004465 24.816377 197.349842 29.344913 219.580481 33.873449 218.130116 38.401985 202.018107 42.930521 220.441936 47.459057 234.007479 51.987593 176.174861 56.516129 177.813968 61.044665 176.697311 65.573201 185.888390 70.101737 180.262931 74.630273 190.632020 79.158809 203.324858 83.687345 210.997380 88.215881 231.499652 92.744417 191.696319 97.272953 188.549172 101.801489 181.511463 106.330025 206.710974 110.858561 213.364694 115.387097 183.720646 119.915633 115.734023 124.444169 169.061114 128.972705 187.275364 133.501241 176.476459 138.029777 170.610368 142.558313 110.375044 147.086849 42.075961 151.615385 134.080247 156.143921 192.438356 160.672457 177.961102 165.200993 198.804252 169.729529 200.211571 174.258065 156.019053 178.786600 184.768497 183.315136 147.632031 187.843672 208.309122 192.372208 132.175748 196.900744 206.222556 201.429280 179.480680 205.957816 163.361117 210.486352 190.656349 215.014888 174.382996 219.543424 185.304407 224.071960 223.377140 228.600496 201.158233 233.129032 231.309740 237.657568 138.491723 242.186104 191.189554 246.714640 206.446505 251.243176 146.843950 255.771712 224.648571 260.300248 205.479415 264.828784 230.436730 269.357320 235.507767 273.885856 89.465960 278.414392 216.187052 282.942928 176.429537 287.471464 181.581927 292.000000 139.979912 296.528536 177.657180 301.057072 181.711757 305.585608 189.266960 310.114144 192.171025 314.642680 160.834301 319.171216 219.551309 323.699752 218.389512 328.228288 23.179436 332.756824 223.148743 337.285360 173.957236 341.813896 227.248472 346.342432 153.072920 350.870968 162.234481 355.399504 208.775355 359.928040 182.210947 364.456576 130.082591 368.985112 185.970313 373.513648 200.747608 378.042184 151.479123 382.570720 213.136261 387.099256 236.825734 391.627792 211.313258 396.156328 161.549569 400.684864 195.321264 405.213400 221.040022 409.741935 202.679795 414.270471 185.844249 418.799007 224.685637 423.327543 174.266449 427.856079 211.578085 432.384615 223.850137 436.913151 149.123673 441.441687 216.257764 445.970223 193.818193 450.498759 236.937132 455.027295 210.478790 459.555831 150.642349 464.084367 167.974273 468.612903 202.066692 473.141439 194.820619 477.669975 126.039597 482.198511 156.788192 486.727047 247.699364 491.255583 139.082081 495.784119 229.941490 500.312655 222.549850 504.841191 209.720745 509.369727 19.444499 513.898263 58.994477 518.426799 178.899999 522.955335 212.286553 527.483871 229.398981 532.012407 151.513331 536.540943 222.025354 541.069479 212.151456 545.598015 231.587448 550.126551 169.163975 554.655087 198.539280 559.183623 185.158410 563.712159 132.268836 568.240695 241.080908 572.769231 187.188345\" class=\"line reactive nofill\"/></g></g><g class=\"titles\"><text x=\"400.0\" y=\"26\" class=\"title plot_title\">Max Differential Voltage Comparison</text></g><g transform=\"translate(196, 46)\" class=\"plot overlay\"><g class=\"series serie-0 color-0\"><g class=\"dots\"><circle cx=\"11.23076923076923\" cy=\"257.4627938222161\" r=\"2.5\" class=\"dot reactive tooltip-trigger\"/><desc class=\"value\">1.27336285</desc><desc class=\"x top\">11.23076923076923</desc><desc class=\"y top\">257.4627938222161</desc><desc class=\"x_label\">0</desc></g><g class=\"dots\"><circle cx=\"15.759305210918114\" cy=\"215.37162001790972\" r=\"2.5\" class=\"dot reactive tooltip-trigger\"/><desc class=\"value\">1.47162379</desc><desc class=\"x \">15.759305210918114</desc><desc class=\"y \">215.37162001790972</desc><desc class=\"x_label\">1</desc></g><g class=\"dots\"><circle cx=\"20.287841191067\" cy=\"178.60087965905961\" r=\"2.5\" class=\"dot reactive tooltip-trigger\"/><desc class=\"value\">1.644824033</desc><desc class=\"x \">20.287841191067</desc><desc class=\"y \">178.60087965905961</desc><desc class=\"x_label\">2</desc></g><g class=\"dots\"><circle cx=\"24.816377171215876\" cy=\"213.43632509337783\" r=\"2.5\" class=\"dot reactive tooltip-trigger\"/><desc class=\"value\">1.480739558</desc><desc class=\"x \">24.816377171215876</desc><desc class=\"y \">213.43632509337783</desc><desc class=\"x_label\">3</desc></g><g class=\"dots\"><circle cx=\"29.344913151364764\" cy=\"231.9879707619598\" r=\"2.5\" class=\"dot reactive tooltip-trigger\"/><desc class=\"value\">1.393356234</desc><desc class=\"x \">29.344913151364764</desc><desc class=\"y \">231.9879707619598</desc><desc class=\"x_label\">4</desc></g><g class=\"dots\"><circle cx=\"33.873449131513645\" cy=\"229.89915528125385\" r=\"2.5\" class=\"dot reactive tooltip-trigger\"/><desc class=\"value\">1.403195126</desc><desc class=\"x \">33.873449131513645</desc><desc class=\"y \">229.89915528125385</desc><desc class=\"x_label\">5</desc></g><g class=\"dots\"><circle cx=\"38.401985111662526\" cy=\"175.3379613157178\" r=\"2.5\" class=\"dot reactive tooltip-trigger\"/><desc class=\"value\">1.660193271</desc><desc class=\"x \">38.401985111662526</desc><desc class=\"y \">175.3379613157178</desc><desc class=\"x_label\">6</desc></g><g class=\"dots\"><circle cx=\"42.930521091811414\" cy=\"213.52168393640562\" r=\"2.5\" class=\"dot reactive tooltip-trigger\"/><desc class=\"value\">1.480337495</desc><desc class=\"x \">42.930521091811414</desc><desc class=\"y \">213.52168393640562</desc><desc class=\"x_label\">7</desc></g><g class=\"dots\"><circle cx=\"47.459057071960295\" cy=\"225.62843690621958\" r=\"2.5\" class=\"dot reactive tooltip-trigger\"/><desc class=\"value\">1.423311377</desc><desc class=\"x \">47.459057071960295</desc><desc class=\"y \">225.62843690621958</desc><desc class=\"x_label\">8</desc></g><g class=\"dots\"><circle cx=\"51.98759305210918\" cy=\"215.8440481644662\" r=\"2.5\" class=\"dot reactive tooltip-trigger\"/><desc class=\"value\">1.469398524</desc><desc class=\"x \">51.98759305210918</desc><desc class=\"y \">215.8440481644662</desc><desc class=\"x_label\">9</desc></g><g class=\"dots\"><circle cx=\"56.516129032258064\" cy=\"226.7332590682068\" r=\"2.5\" class=\"dot reactive tooltip-trigger\"/><desc class=\"value\">1.418107363</desc><desc class=\"x \">56.516129032258064</desc><desc class=\"y \">226.7332590682068</desc><desc class=\"x_label\">10</desc></g><g class=\"dots\"><circle cx=\"61.04466501240695\" cy=\"206.10763885425087\" r=\"2.5\" class=\"dot reactive tooltip-trigger\"/><desc class=\"value\">1.515259675</desc><desc class=\"x \">61.04466501240695</desc><desc class=\"y \">206.10763885425087</desc><desc class=\"x_label\">11</desc></g><g class=\"dots\"><circle cx=\"65.57320099255584\" cy=\"206.40921426355362\" r=\"2.5\" class=\"dot reactive tooltip-trigger\"/><desc class=\"value\">1.513839172</desc><desc class=\"x \">65.57320099255584</desc><desc class=\"y \">206.40921426355362</desc><desc class=\"x_label\">12</desc></g><g class=\"dots\"><circle cx=\"70.10173697270471\" cy=\"227.4704662950536\" r=\"2.5\" class=\"dot reactive tooltip-trigger\"/><desc class=\"value\">1.414634915</desc><desc class=\"x \">70.10173697270471</desc><desc class=\"y \">227.4704662950536</desc><desc class=\"x_label\">13</desc></g><g class=\"dots\"><circle cx=\"74.63027295285359\" cy=\"239.4957937647735\" r=\"2.5\" class=\"dot reactive tooltip-trigger\"/><desc class=\"value\">1.357992334</desc><desc class=\"x \">74.63027295285359</desc><desc class=\"y \">239.4957937647735</desc><desc class=\"x_label\">14</desc></g><g class=\"dots\"><circle cx=\"79.15880893300248\" cy=\"224.06559633473387\" r=\"2.5\" class=\"dot reactive tooltip-trigger\"/><desc class=\"value\">1.430672784</desc><desc class=\"x \">79.15880893300248</desc><desc class=\"y \">224.06559633473387</desc><desc class=\"x_label\">15</desc></g><g class=\"dots\"><circle cx=\"83.68734491315136\" cy=\"228.41471605386675\" r=\"2.5\" class=\"dot reactive tooltip-trigger\"/><desc class=\"value\">1.410187241</desc><desc class=\"x \">83.68734491315136</desc><desc class=\"y \">228.41471605386675</desc><desc class=\"x_label\">16</desc></g><g class=\"dots\"><circle cx=\"88.21588089330024\" cy=\"211.22812644853963\" r=\"2.5\" class=\"dot reactive tooltip-trigger\"/><desc class=\"value\">1.491140778</desc><desc class=\"x \">88.21588089330024</desc><desc class=\"y \">211.22812644853963</desc><desc class=\"x_label\">17</desc></g><g class=\"dots\"><circle cx=\"92.74441687344913\" cy=\"218.00238531538474\" r=\"2.5\" class=\"dot reactive tooltip-trigger\"/><desc class=\"value\">1.459232166</desc><desc class=\"x \">92.74441687344913</desc><desc class=\"y \">218.00238531538474</desc><desc class=\"x_label\">18</desc></g><g class=\"dots\"><circle cx=\"97.272952853598\" cy=\"159.08554953693545\" r=\"2.5\" class=\"dot reactive tooltip-trigger\"/><desc class=\"value\">1.736746575</desc><desc class=\"x \">97.272952853598</desc><desc class=\"y \">159.08554953693545</desc><desc class=\"x_label\">19</desc></g><g class=\"dots\"><circle cx=\"101.80148883374689\" cy=\"206.682106453863\" r=\"2.5\" class=\"dot reactive tooltip-trigger\"/><desc class=\"value\">1.512553775</desc><desc class=\"x \">101.80148883374689</desc><desc class=\"y \">206.682106453863</desc><desc class=\"x_label\">20</desc></g><g class=\"dots\"><circle cx=\"106.33002481389576\" cy=\"219.26585847647254\" r=\"2.5\" class=\"dot reactive tooltip-trigger\"/><desc class=\"value\">1.453280862</desc><desc class=\"x \">106.33002481389576</desc><desc class=\"y \">219.26585847647254</desc><desc class=\"x_label\">21</desc></g><g class=\"dots\"><circle cx=\"110.85856079404466\" cy=\"210.27640140204556\" r=\"2.5\" class=\"dot reactive tooltip-trigger\"/><desc class=\"value\">1.495623663</desc><desc class=\"x \">110.85856079404466</desc><desc class=\"y \">210.27640140204556</desc><desc class=\"x_label\">22</desc></g><g class=\"dots\"><circle cx=\"115.38709677419354\" cy=\"222.44643049545869\" r=\"2.5\" class=\"dot reactive tooltip-trigger\"/><desc class=\"value\">1.438299498</desc><desc class=\"x \">115.38709677419354</desc><desc class=\"y \">222.44643049545869</desc><desc class=\"x_label\">23</desc></g><g class=\"dots\"><circle cx=\"119.91563275434243\" cy=\"159.84848793753048\" r=\"2.5\" class=\"dot reactive tooltip-trigger\"/><desc class=\"value\">1.733152927</desc><desc class=\"x \">119.91563275434243</desc><desc class=\"y \">159.84848793753048</desc><desc class=\"x_label\">24</desc></g><g class=\"dots\"><circle cx=\"124.4441687344913\" cy=\"205.8718568412403\" r=\"2.5\" class=\"dot reactive tooltip-trigger\"/><desc class=\"value\">1.516370273</desc><desc class=\"x \">124.4441687344913</desc><desc class=\"y \">205.8718568412403</desc><desc class=\"x_label\">25</desc></g><g class=\"dots\"><circle cx=\"128.9727047146402\" cy=\"198.85390161918411\" r=\"2.5\" class=\"dot reactive tooltip-trigger\"/><desc class=\"value\">1.549426761</desc><desc class=\"x \">128.9727047146402</desc><desc class=\"y \">198.85390161918411</desc><desc class=\"x_label\">26</desc></g><g class=\"dots\"><circle cx=\"133.5012406947891\" cy=\"190.0187473766619\" r=\"2.5\" class=\"dot reactive tooltip-trigger\"/><desc class=\"value\">1.591042754</desc><desc class=\"x \">133.5012406947891</desc><desc class=\"y \">190.0187473766619</desc><desc class=\"x_label\">27</desc></g><g class=\"dots\"><circle cx=\"138.02977667493795\" cy=\"208.64054530218033\" r=\"2.5\" class=\"dot reactive tooltip-trigger\"/><desc class=\"value\">1.503328993</desc><desc class=\"x \">138.02977667493795</desc><desc class=\"y \">208.64054530218033</desc><desc class=\"x_label\">28</desc></g><g class=\"dots\"><circle cx=\"142.55831265508684\" cy=\"161.89197646187068\" r=\"2.5\" class=\"dot reactive tooltip-trigger\"/><desc class=\"value\">1.723527537</desc><desc class=\"x \">142.55831265508684</desc><desc class=\"y \">161.89197646187068</desc><desc class=\"x_label\">29</desc></g><g class=\"dots\"><circle cx=\"147.08684863523575\" cy=\"71.09984510736649\" r=\"2.5\" class=\"dot reactive tooltip-trigger\"/><desc class=\"value\">2.151183306</desc><desc class=\"x \">147.08684863523575</desc><desc class=\"y \">71.09984510736649</desc><desc class=\"x_label\">30</desc></g><g class=\"dots\"><circle cx=\"151.6153846153846\" cy=\"151.50137751048385\" r=\"2.5\" class=\"dot reactive tooltip-trigger\"/><desc class=\"value\">1.7724701</desc><desc class=\"x \">151.6153846153846</desc><desc class=\"y \">151.50137751048385</desc><desc class=\"x_label\">31</desc></g><g class=\"dots\"><circle cx=\"156.1439205955335\" cy=\"215.56787017896892\" r=\"2.5\" class=\"dot reactive tooltip-trigger\"/><desc class=\"value\">1.470699398</desc><desc class=\"x \">156.1439205955335</desc><desc class=\"y \">215.56787017896892</desc><desc class=\"x_label\">32</desc></g><g class=\"dots\"><circle cx=\"160.67245657568236\" cy=\"196.43367484236927\" r=\"2.5\" class=\"dot reactive tooltip-trigger\"/><desc class=\"value\">1.560826691</desc><desc class=\"x \">160.67245657568236</desc><desc class=\"y \">196.43367484236927</desc><desc class=\"x_label\">33</desc></g><g class=\"dots\"><circle cx=\"165.20099255583125\" cy=\"193.17363089424458\" r=\"2.5\" class=\"dot reactive tooltip-trigger\"/><desc class=\"value\">1.57618239</desc><desc class=\"x \">165.20099255583125</desc><desc class=\"y \">193.17363089424458</desc><desc class=\"x_label\">34</desc></g><g class=\"dots\"><circle cx=\"169.7295285359802\" cy=\"236.5136431251414\" r=\"2.5\" class=\"dot reactive tooltip-trigger\"/><desc class=\"value\">1.372039079</desc><desc class=\"x \">169.7295285359802</desc><desc class=\"y \">236.5136431251414</desc><desc class=\"x_label\">35</desc></g><g class=\"dots\"><circle cx=\"174.25806451612905\" cy=\"147.57977006226042\" r=\"2.5\" class=\"dot reactive tooltip-trigger\"/><desc class=\"value\">1.790941943</desc><desc class=\"x \">174.25806451612905</desc><desc class=\"y \">147.57977006226042</desc><desc class=\"x_label\">36</desc></g><g class=\"dots\"><circle cx=\"178.78660049627794\" cy=\"223.9953950457553\" r=\"2.5\" class=\"dot reactive tooltip-trigger\"/><desc class=\"value\">1.431003451</desc><desc class=\"x \">178.78660049627794</desc><desc class=\"y \">223.9953950457553</desc><desc class=\"x_label\">37</desc></g><g class=\"dots\"><circle cx=\"183.3151364764268\" cy=\"165.92849794278982\" r=\"2.5\" class=\"dot reactive tooltip-trigger\"/><desc class=\"value\">1.704514417</desc><desc class=\"x \">183.3151364764268</desc><desc class=\"y \">165.92849794278982</desc><desc class=\"x_label\">38</desc></g><g class=\"dots\"><circle cx=\"187.8436724565757\" cy=\"242.9722965484903\" r=\"2.5\" class=\"dot reactive tooltip-trigger\"/><desc class=\"value\">1.341617055</desc><desc class=\"x \">187.8436724565757</desc><desc class=\"y \">242.9722965484903</desc><desc class=\"x_label\">39</desc></g><g class=\"dots\"><circle cx=\"192.37220843672455\" cy=\"160.99292440830357\" r=\"2.5\" class=\"dot reactive tooltip-trigger\"/><desc class=\"value\">1.727762318</desc><desc class=\"x \">192.37220843672455</desc><desc class=\"y \">160.99292440830357</desc><desc class=\"x_label\">40</desc></g><g class=\"dots\"><circle cx=\"196.90074441687344\" cy=\"233.45248781523168\" r=\"2.5\" class=\"dot reactive tooltip-trigger\"/><desc class=\"value\">1.386457958</desc><desc class=\"x \">196.90074441687344</desc><desc class=\"y \">233.45248781523168</desc><desc class=\"x_label\">41</desc></g><g class=\"dots\"><circle cx=\"201.4292803970223\" cy=\"207.86010162573348\" r=\"2.5\" class=\"dot reactive tooltip-trigger\"/><desc class=\"value\">1.507005096</desc><desc class=\"x \">201.4292803970223</desc><desc class=\"y \">207.86010162573348</desc><desc class=\"x_label\">42</desc></g><g class=\"dots\"><circle cx=\"205.95781637717124\" cy=\"173.2346460730567\" r=\"2.5\" class=\"dot reactive tooltip-trigger\"/><desc class=\"value\">1.670100461</desc><desc class=\"x \">205.95781637717124</desc><desc class=\"y \">173.2346460730567</desc><desc class=\"x_label\">43</desc></g><g class=\"dots\"><circle cx=\"210.48635235732013\" cy=\"200.39997075765694\" r=\"2.5\" class=\"dot reactive tooltip-trigger\"/><desc class=\"value\">1.542144352</desc><desc class=\"x \">210.48635235732013</desc><desc class=\"y \">200.39997075765694</desc><desc class=\"x_label\">44</desc></g><g class=\"dots\"><circle cx=\"215.014888337469\" cy=\"230.51371988094894\" r=\"2.5\" class=\"dot reactive tooltip-trigger\"/><desc class=\"value\">1.400300358</desc><desc class=\"x \">215.014888337469</desc><desc class=\"y \">230.51371988094894</desc><desc class=\"x_label\">45</desc></g><g class=\"dots\"><circle cx=\"219.54342431761788\" cy=\"136.88009825296865\" r=\"2.5\" class=\"dot reactive tooltip-trigger\"/><desc class=\"value\">1.841340324</desc><desc class=\"x \">219.54342431761788</desc><desc class=\"y \">136.88009825296865</desc><desc class=\"x_label\">46</desc></g><g class=\"dots\"><circle cx=\"224.07196029776674\" cy=\"200.36732191925273\" r=\"2.5\" class=\"dot reactive tooltip-trigger\"/><desc class=\"value\">1.542298137</desc><desc class=\"x \">224.07196029776674</desc><desc class=\"y \">200.36732191925273</desc><desc class=\"x_label\">47</desc></g><g class=\"dots\"><circle cx=\"228.60049627791562\" cy=\"169.2252344555332\" r=\"2.5\" class=\"dot reactive tooltip-trigger\"/><desc class=\"value\">1.688985886</desc><desc class=\"x \">228.60049627791562</desc><desc class=\"y \">169.2252344555332</desc><desc class=\"x_label\">48</desc></g><g class=\"dots\"><circle cx=\"233.1290322580645\" cy=\"265.98359025850823\" r=\"2.5\" class=\"dot reactive tooltip-trigger\"/><desc class=\"value\">1.233227568</desc><desc class=\"x top\">233.1290322580645</desc><desc class=\"y top\">265.98359025850823</desc><desc class=\"x_label\">49</desc></g><g class=\"dots\"><circle cx=\"237.65756823821337\" cy=\"185.04192206062396\" r=\"2.5\" class=\"dot reactive tooltip-trigger\"/><desc class=\"value\">1.614484962</desc><desc class=\"x \">237.65756823821337</desc><desc class=\"y \">185.04192206062396</desc><desc class=\"x_label\">50</desc></g><g class=\"dots\"><circle cx=\"242.18610421836232\" cy=\"217.07387375243042\" r=\"2.5\" class=\"dot reactive tooltip-trigger\"/><desc class=\"value\">1.463605709</desc><desc class=\"x \">242.18610421836232</desc><desc class=\"y \">217.07387375243042</desc><desc class=\"x_label\">51</desc></g><g class=\"dots\"><circle cx=\"246.7146401985112\" cy=\"242.0384155953318\" r=\"2.5\" class=\"dot reactive tooltip-trigger\"/><desc class=\"value\">1.34601589</desc><desc class=\"x \">246.7146401985112</desc><desc class=\"y \">242.0384155953318</desc><desc class=\"x_label\">52</desc></g><g class=\"dots\"><circle cx=\"251.24317617866006\" cy=\"140.5572140833964\" r=\"2.5\" class=\"dot reactive tooltip-trigger\"/><desc class=\"value\">1.824020103</desc><desc class=\"x \">251.24317617866006</desc><desc class=\"y \">140.5572140833964</desc><desc class=\"x_label\">53</desc></g><g class=\"dots\"><circle cx=\"255.77171215880892\" cy=\"229.5761095406575\" r=\"2.5\" class=\"dot reactive tooltip-trigger\"/><desc class=\"value\">1.40471676</desc><desc class=\"x \">255.77171215880892</desc><desc class=\"y \">229.5761095406575</desc><desc class=\"x_label\">54</desc></g><g class=\"dots\"><circle cx=\"260.30024813895784\" cy=\"245.420294098056\" r=\"2.5\" class=\"dot reactive tooltip-trigger\"/><desc class=\"value\">1.330086317</desc><desc class=\"x \">260.30024813895784</desc><desc class=\"y \">245.420294098056</desc><desc class=\"x_label\">55</desc></g><g class=\"dots\"><circle cx=\"264.82878411910673\" cy=\"216.0838496348794\" r=\"2.5\" class=\"dot reactive tooltip-trigger\"/><desc class=\"value\">1.468268994</desc><desc class=\"x \">264.82878411910673</desc><desc class=\"y \">216.0838496348794</desc><desc class=\"x_label\">56</desc></g><g class=\"dots\"><circle cx=\"269.35732009925556\" cy=\"192.0861344493635\" r=\"2.5\" class=\"dot reactive tooltip-trigger\"/><desc class=\"value\">1.581304795</desc><desc class=\"x \">269.35732009925556</desc><desc class=\"y \">192.0861344493635</desc><desc class=\"x_label\">57</desc></g><g class=\"dots\"><circle cx=\"273.88585607940445\" cy=\"96.10938567259893\" r=\"2.5\" class=\"dot reactive tooltip-trigger\"/><desc class=\"value\">2.03338153</desc><desc class=\"x \">273.88585607940445</desc><desc class=\"y \">96.10938567259893</desc><desc class=\"x_label\">58</desc></g><g class=\"dots\"><circle cx=\"278.41439205955334\" cy=\"218.5443044374037\" r=\"2.5\" class=\"dot reactive tooltip-trigger\"/><desc class=\"value\">1.456679579</desc><desc class=\"x \">278.41439205955334</desc><desc class=\"y \">218.5443044374037</desc><desc class=\"x_label\">59</desc></g><g class=\"dots\"><circle cx=\"282.9429280397022\" cy=\"215.84784491878804\" r=\"2.5\" class=\"dot reactive tooltip-trigger\"/><desc class=\"value\">1.46938064</desc><desc class=\"x \">282.9429280397022</desc><desc class=\"y \">215.84784491878804</desc><desc class=\"x_label\">60</desc></g><g class=\"dots\"><circle cx=\"287.4714640198511\" cy=\"204.2832169901523\" r=\"2.5\" class=\"dot reactive tooltip-trigger\"/><desc class=\"value\">1.523853201</desc><desc class=\"x \">287.4714640198511</desc><desc class=\"y \">204.2832169901523</desc><desc class=\"x_label\">61</desc></g><g class=\"dots\"><circle cx=\"292.0\" cy=\"170.65054211876833\" r=\"2.5\" class=\"dot reactive tooltip-trigger\"/><desc class=\"value\">1.682272297</desc><desc class=\"x \">292.0</desc><desc class=\"y \">170.65054211876833</desc><desc class=\"x_label\">62</desc></g><g class=\"dots\"><circle cx=\"296.5285359801489\" cy=\"221.59430377460353\" r=\"2.5\" class=\"dot reactive tooltip-trigger\"/><desc class=\"value\">1.442313248</desc><desc class=\"x left\">296.5285359801489</desc><desc class=\"y left\">221.59430377460353</desc><desc class=\"x_label\">63</desc></g><g class=\"dots\"><circle cx=\"301.0570719602978\" cy=\"228.95198547498723\" r=\"2.5\" class=\"dot reactive tooltip-trigger\"/><desc class=\"value\">1.407656555</desc><desc class=\"x left\">301.0570719602978</desc><desc class=\"y left\">228.95198547498723</desc><desc class=\"x_label\">64</desc></g><g class=\"dots\"><circle cx=\"305.58560794044666\" cy=\"217.75444090953027\" r=\"2.5\" class=\"dot reactive tooltip-trigger\"/><desc class=\"value\">1.460400052</desc><desc class=\"x left\">305.58560794044666</desc><desc class=\"y left\">217.75444090953027</desc><desc class=\"x_label\">65</desc></g><g class=\"dots\"><circle cx=\"310.1141439205955\" cy=\"204.44366607442032\" r=\"2.5\" class=\"dot reactive tooltip-trigger\"/><desc class=\"value\">1.523097442</desc><desc class=\"x left\">310.1141439205955</desc><desc class=\"y left\">204.44366607442032</desc><desc class=\"x_label\">66</desc></g><g class=\"dots\"><circle cx=\"314.6426799007444\" cy=\"221.90597539379905\" r=\"2.5\" class=\"dot reactive tooltip-trigger\"/><desc class=\"value\">1.440845189</desc><desc class=\"x left\">314.6426799007444</desc><desc class=\"y left\">221.90597539379905</desc><desc class=\"x_label\">67</desc></g><g class=\"dots\"><circle cx=\"319.17121588089327\" cy=\"258.04397484479944\" r=\"2.5\" class=\"dot reactive tooltip-trigger\"/><desc class=\"value\">1.270625328</desc><desc class=\"x left top\">319.17121588089327</desc><desc class=\"y left top\">258.04397484479944</desc><desc class=\"x_label\">68</desc></g><g class=\"dots\"><circle cx=\"323.69975186104216\" cy=\"205.69825132997823\" r=\"2.5\" class=\"dot reactive tooltip-trigger\"/><desc class=\"value\">1.517188002</desc><desc class=\"x left\">323.69975186104216</desc><desc class=\"y left\">205.69825132997823</desc><desc class=\"x_label\">69</desc></g><g class=\"dots\"><circle cx=\"328.22828784119105\" cy=\"60.415990563851324\" r=\"2.5\" class=\"dot reactive tooltip-trigger\"/><desc class=\"value\">2.201507183</desc><desc class=\"x left\">328.22828784119105</desc><desc class=\"y left\">60.415990563851324</desc><desc class=\"x_label\">70</desc></g><g class=\"dots\"><circle cx=\"332.75682382134\" cy=\"249.71432087656547\" r=\"2.5\" class=\"dot reactive tooltip-trigger\"/><desc class=\"value\">1.309860277</desc><desc class=\"x left\">332.75682382134</desc><desc class=\"y left\">249.71432087656547</desc><desc class=\"x_label\">71</desc></g><g class=\"dots\"><circle cx=\"337.2853598014889\" cy=\"222.046343806778\" r=\"2.5\" class=\"dot reactive tooltip-trigger\"/><desc class=\"value\">1.440184015</desc><desc class=\"x left\">337.2853598014889</desc><desc class=\"y left\">222.046343806778</desc><desc class=\"x_label\">72</desc></g><g class=\"dots\"><circle cx=\"341.8138957816377\" cy=\"193.07319682408746\" r=\"2.5\" class=\"dot reactive tooltip-trigger\"/><desc class=\"value\">1.576655461</desc><desc class=\"x left\">341.8138957816377</desc><desc class=\"y left\">193.07319682408746</desc><desc class=\"x_label\">73</desc></g><g class=\"dots\"><circle cx=\"346.34243176178666\" cy=\"187.21196575240793\" r=\"2.5\" class=\"dot reactive tooltip-trigger\"/><desc class=\"value\">1.604263463</desc><desc class=\"x left\">346.34243176178666</desc><desc class=\"y left\">187.21196575240793</desc><desc class=\"x_label\">74</desc></g><g class=\"dots\"><circle cx=\"350.8709677419355\" cy=\"148.119530582361\" r=\"2.5\" class=\"dot reactive tooltip-trigger\"/><desc class=\"value\">1.788399524</desc><desc class=\"x left\">350.8709677419355</desc><desc class=\"y left\">148.119530582361</desc><desc class=\"x_label\">75</desc></g><g class=\"dots\"><circle cx=\"355.3995037220844\" cy=\"236.00912005958304\" r=\"2.5\" class=\"dot reactive tooltip-trigger\"/><desc class=\"value\">1.374415521</desc><desc class=\"x left\">355.3995037220844</desc><desc class=\"y left\">236.00912005958304</desc><desc class=\"x_label\">76</desc></g><g class=\"dots\"><circle cx=\"359.9280397022332\" cy=\"154.8020763542201\" r=\"2.5\" class=\"dot reactive tooltip-trigger\"/><desc class=\"value\">1.756922905</desc><desc class=\"x left\">359.9280397022332</desc><desc class=\"y left\">154.8020763542201</desc><desc class=\"x_label\">77</desc></g><g class=\"dots\"><circle cx=\"364.45657568238215\" cy=\"90.32623269384953\" r=\"2.5\" class=\"dot reactive tooltip-trigger\"/><desc class=\"value\">2.060621762</desc><desc class=\"x left\">364.45657568238215</desc><desc class=\"y left\">90.32623269384953</desc><desc class=\"x_label\">78</desc></g><g class=\"dots\"><circle cx=\"368.985111662531\" cy=\"193.34453093731446\" r=\"2.5\" class=\"dot reactive tooltip-trigger\"/><desc class=\"value\">1.575377404</desc><desc class=\"x left\">368.985111662531</desc><desc class=\"y left\">193.34453093731446</desc><desc class=\"x_label\">79</desc></g><g class=\"dots\"><circle cx=\"373.51364764267987\" cy=\"245.30599007530355\" r=\"2.5\" class=\"dot reactive tooltip-trigger\"/><desc class=\"value\">1.33062472</desc><desc class=\"x left\">373.51364764267987</desc><desc class=\"y left\">245.30599007530355</desc><desc class=\"x_label\">80</desc></g><g class=\"dots\"><circle cx=\"378.0421836228288\" cy=\"199.8233834895982\" r=\"2.5\" class=\"dot reactive tooltip-trigger\"/><desc class=\"value\">1.544860236</desc><desc class=\"x left\">378.0421836228288</desc><desc class=\"y left\">199.8233834895982</desc><desc class=\"x_label\">81</desc></g><g class=\"dots\"><circle cx=\"382.57071960297765\" cy=\"185.7320682278932\" r=\"2.5\" class=\"dot reactive tooltip-trigger\"/><desc class=\"value\">1.611234185</desc><desc class=\"x left\">382.57071960297765</desc><desc class=\"y left\">185.7320682278932</desc><desc class=\"x_label\">82</desc></g><g class=\"dots\"><circle cx=\"387.09925558312653\" cy=\"243.37823074610185\" r=\"2.5\" class=\"dot reactive tooltip-trigger\"/><desc class=\"value\">1.339704994</desc><desc class=\"x left\">387.09925558312653</desc><desc class=\"y left\">243.37823074610185</desc><desc class=\"x_label\">83</desc></g><g class=\"dots\"><circle cx=\"391.62779156327537\" cy=\"205.56276484285388\" r=\"2.5\" class=\"dot reactive tooltip-trigger\"/><desc class=\"value\">1.51782618</desc><desc class=\"x left\">391.62779156327537</desc><desc class=\"y left\">205.56276484285388</desc><desc class=\"x_label\">84</desc></g><g class=\"dots\"><circle cx=\"396.1563275434243\" cy=\"148.7073424248082\" r=\"2.5\" class=\"dot reactive tooltip-trigger\"/><desc class=\"value\">1.785630769</desc><desc class=\"x left\">396.1563275434243</desc><desc class=\"y left\">148.7073424248082</desc><desc class=\"x_label\">85</desc></g><g class=\"dots\"><circle cx=\"400.6848635235732\" cy=\"227.8595876106342\" r=\"2.5\" class=\"dot reactive tooltip-trigger\"/><desc class=\"value\">1.412802047</desc><desc class=\"x left\">400.6848635235732</desc><desc class=\"y left\">227.8595876106342</desc><desc class=\"x_label\">86</desc></g><g class=\"dots\"><circle cx=\"405.2133995037221\" cy=\"261.77987674945075\" r=\"2.5\" class=\"dot reactive tooltip-trigger\"/><desc class=\"value\">1.253028209</desc><desc class=\"x left top\">405.2133995037221</desc><desc class=\"y left top\">261.77987674945075</desc><desc class=\"x_label\">87</desc></g><g class=\"dots\"><circle cx=\"409.741935483871\" cy=\"224.89929130576974\" r=\"2.5\" class=\"dot reactive tooltip-trigger\"/><desc class=\"value\">1.426745852</desc><desc class=\"x left\">409.741935483871</desc><desc class=\"y left\">224.89929130576974</desc><desc class=\"x_label\">88</desc></g><g class=\"dots\"><circle cx=\"414.27047146401986\" cy=\"256.7337443907182\" r=\"2.5\" class=\"dot reactive tooltip-trigger\"/><desc class=\"value\">1.276796872</desc><desc class=\"x left\">414.27047146401986</desc><desc class=\"y left\">256.7337443907182</desc><desc class=\"x_label\">89</desc></g><g class=\"dots\"><circle cx=\"418.79900744416875\" cy=\"207.41024786422128\" r=\"2.5\" class=\"dot reactive tooltip-trigger\"/><desc class=\"value\">1.50912403</desc><desc class=\"x left\">418.79900744416875</desc><desc class=\"y left\">207.41024786422128</desc><desc class=\"x_label\">90</desc></g><g class=\"dots\"><circle cx=\"423.3275434243176\" cy=\"223.7605381189714\" r=\"2.5\" class=\"dot reactive tooltip-trigger\"/><desc class=\"value\">1.432109691</desc><desc class=\"x left\">423.3275434243176</desc><desc class=\"y left\">223.7605381189714</desc><desc class=\"x_label\">91</desc></g><g class=\"dots\"><circle cx=\"427.8560794044665\" cy=\"226.08570200193742\" r=\"2.5\" class=\"dot reactive tooltip-trigger\"/><desc class=\"value\">1.421157534</desc><desc class=\"x left\">427.8560794044665</desc><desc class=\"y left\">226.08570200193742</desc><desc class=\"x_label\">92</desc></g><g class=\"dots\"><circle cx=\"432.38461538461536\" cy=\"210.42111232162932\" r=\"2.5\" class=\"dot reactive tooltip-trigger\"/><desc class=\"value\">1.494942035</desc><desc class=\"x left\">432.38461538461536</desc><desc class=\"y left\">210.42111232162932</desc><desc class=\"x_label\">93</desc></g><g class=\"dots\"><circle cx=\"436.91315136476425\" cy=\"205.79733215588107\" r=\"2.5\" class=\"dot reactive tooltip-trigger\"/><desc class=\"value\">1.516721304</desc><desc class=\"x left\">436.91315136476425</desc><desc class=\"y left\">205.79733215588107</desc><desc class=\"x_label\">94</desc></g><g class=\"dots\"><circle cx=\"441.44168734491313\" cy=\"214.96951246494064\" r=\"2.5\" class=\"dot reactive tooltip-trigger\"/><desc class=\"value\">1.473517826</desc><desc class=\"x left\">441.44168734491313</desc><desc class=\"y left\">214.96951246494064</desc><desc class=\"x_label\">95</desc></g><g class=\"dots\"><circle cx=\"445.970223325062\" cy=\"205.3538058638818\" r=\"2.5\" class=\"dot reactive tooltip-trigger\"/><desc class=\"value\">1.518810434</desc><desc class=\"x left\">445.970223325062</desc><desc class=\"y left\">205.3538058638818</desc><desc class=\"x_label\">96</desc></g><g class=\"dots\"><circle cx=\"450.4987593052109\" cy=\"224.5426284846102\" r=\"2.5\" class=\"dot reactive tooltip-trigger\"/><desc class=\"value\">1.428425832</desc><desc class=\"x left\">450.4987593052109</desc><desc class=\"y left\">224.5426284846102</desc><desc class=\"x_label\">97</desc></g><g class=\"dots\"><circle cx=\"455.02729528535974\" cy=\"240.67358240554836\" r=\"2.5\" class=\"dot reactive tooltip-trigger\"/><desc class=\"value\">1.352444627</desc><desc class=\"x left\">455.02729528535974</desc><desc class=\"y left\">240.67358240554836</desc><desc class=\"x_label\">98</desc></g><g class=\"dots\"><circle cx=\"459.5558312655087\" cy=\"181.4980647571557\" r=\"2.5\" class=\"dot reactive tooltip-trigger\"/><desc class=\"value\">1.631177499</desc><desc class=\"x left\">459.5558312655087</desc><desc class=\"y left\">181.4980647571557</desc><desc class=\"x_label\">99</desc></g><g class=\"dots\"><circle cx=\"464.0843672456575\" cy=\"219.43895775363467\" r=\"2.5\" class=\"dot reactive tooltip-trigger\"/><desc class=\"value\">1.452465517</desc><desc class=\"x left\">464.0843672456575</desc><desc class=\"y left\">219.43895775363467</desc><desc class=\"x_label\">100</desc></g><g class=\"dots\"><circle cx=\"468.61290322580646\" cy=\"228.8091013247406\" r=\"2.5\" class=\"dot reactive tooltip-trigger\"/><desc class=\"value\">1.408329578</desc><desc class=\"x left\">468.61290322580646</desc><desc class=\"y left\">228.8091013247406</desc><desc class=\"x_label\">101</desc></g><g class=\"dots\"><circle cx=\"473.14143920595535\" cy=\"217.29973710959666\" r=\"2.5\" class=\"dot reactive tooltip-trigger\"/><desc class=\"value\">1.462541831</desc><desc class=\"x left\">473.14143920595535</desc><desc class=\"y left\">217.29973710959666</desc><desc class=\"x_label\">102</desc></g><g class=\"dots\"><circle cx=\"477.66997518610424\" cy=\"156.21747252606048\" r=\"2.5\" class=\"dot reactive tooltip-trigger\"/><desc class=\"value\">1.750256002</desc><desc class=\"x left\">477.66997518610424</desc><desc class=\"y left\">156.21747252606048</desc><desc class=\"x_label\">103</desc></g><g class=\"dots\"><circle cx=\"482.19851116625307\" cy=\"133.67684445360442\" r=\"2.5\" class=\"dot reactive tooltip-trigger\"/><desc class=\"value\">1.856428525</desc><desc class=\"x left\">482.19851116625307</desc><desc class=\"y left\">133.67684445360442</desc><desc class=\"x_label\">104</desc></g><g class=\"dots\"><circle cx=\"486.727047146402\" cy=\"229.45245516261355\" r=\"2.5\" class=\"dot reactive tooltip-trigger\"/><desc class=\"value\">1.405299205</desc><desc class=\"x left\">486.727047146402</desc><desc class=\"y left\">229.45245516261355</desc><desc class=\"x_label\">105</desc></g><g class=\"dots\"><circle cx=\"491.2555831265509\" cy=\"181.13368467300393\" r=\"2.5\" class=\"dot reactive tooltip-trigger\"/><desc class=\"value\">1.632893829</desc><desc class=\"x left\">491.2555831265509</desc><desc class=\"y left\">181.13368467300393</desc><desc class=\"x_label\">106</desc></g><g class=\"dots\"><circle cx=\"495.78411910669973\" cy=\"223.28243509467438\" r=\"2.5\" class=\"dot reactive tooltip-trigger\"/><desc class=\"value\">1.434361687</desc><desc class=\"x left\">495.78411910669973</desc><desc class=\"y left\">223.28243509467438</desc><desc class=\"x_label\">107</desc></g><g class=\"dots\"><circle cx=\"500.3126550868487\" cy=\"235.68666833983792\" r=\"2.5\" class=\"dot reactive tooltip-trigger\"/><desc class=\"value\">1.375934356</desc><desc class=\"x left\">500.3126550868487</desc><desc class=\"y left\">235.68666833983792</desc><desc class=\"x_label\">108</desc></g><g class=\"dots\"><circle cx=\"504.84119106699745\" cy=\"183.28163860838367\" r=\"2.5\" class=\"dot reactive tooltip-trigger\"/><desc class=\"value\">1.622776378</desc><desc class=\"x left\">504.84119106699745</desc><desc class=\"y left\">183.28163860838367</desc><desc class=\"x_label\">109</desc></g><g class=\"dots\"><circle cx=\"509.3697270471464\" cy=\"41.527059571834286\" r=\"2.5\" class=\"dot reactive tooltip-trigger\"/><desc class=\"value\">2.290479214</desc><desc class=\"x left\">509.3697270471464</desc><desc class=\"y left\">41.527059571834286</desc><desc class=\"x_label\">110</desc></g><g class=\"dots\"><circle cx=\"513.8982630272953\" cy=\"92.0400294328021\" r=\"2.5\" class=\"dot reactive tooltip-trigger\"/><desc class=\"value\">2.052549311</desc><desc class=\"x left\">513.8982630272953</desc><desc class=\"y left\">92.0400294328021</desc><desc class=\"x_label\">111</desc></g><g class=\"dots\"><circle cx=\"518.4267990074441\" cy=\"212.86275469448367\" r=\"2.5\" class=\"dot reactive tooltip-trigger\"/><desc class=\"value\">1.483441232</desc><desc class=\"x left\">518.4267990074441</desc><desc class=\"y left\">212.86275469448367</desc><desc class=\"x_label\">112</desc></g><g class=\"dots\"><circle cx=\"522.955334987593\" cy=\"261.4892962974104\" r=\"2.5\" class=\"dot reactive tooltip-trigger\"/><desc class=\"value\">1.254396922</desc><desc class=\"x left top\">522.955334987593</desc><desc class=\"y left top\">261.4892962974104</desc><desc class=\"x_label\">113</desc></g><g class=\"dots\"><circle cx=\"527.483870967742\" cy=\"239.89954352528122\" r=\"2.5\" class=\"dot reactive tooltip-trigger\"/><desc class=\"value\">1.356090562</desc><desc class=\"x left\">527.483870967742</desc><desc class=\"y left\">239.89954352528122</desc><desc class=\"x_label\">114</desc></g><g class=\"dots\"><circle cx=\"532.0124069478908\" cy=\"190.29948822268852\" r=\"2.5\" class=\"dot reactive tooltip-trigger\"/><desc class=\"value\">1.589720388</desc><desc class=\"x left\">532.0124069478908</desc><desc class=\"y left\">190.29948822268852</desc><desc class=\"x_label\">115</desc></g><g class=\"dots\"><circle cx=\"536.5409429280397\" cy=\"235.26139504525736\" r=\"2.5\" class=\"dot reactive tooltip-trigger\"/><desc class=\"value\">1.37793751</desc><desc class=\"x left\">536.5409429280397</desc><desc class=\"y left\">235.26139504525736</desc><desc class=\"x_label\">116</desc></g><g class=\"dots\"><circle cx=\"541.0694789081886\" cy=\"205.24804828171438\" r=\"2.5\" class=\"dot reactive tooltip-trigger\"/><desc class=\"value\">1.519308581</desc><desc class=\"x left\">541.0694789081886</desc><desc class=\"y left\">205.24804828171438</desc><desc class=\"x_label\">117</desc></g><g class=\"dots\"><circle cx=\"545.5980148883375\" cy=\"227.6698215689579\" r=\"2.5\" class=\"dot reactive tooltip-trigger\"/><desc class=\"value\">1.413695897</desc><desc class=\"x left\">545.5980148883375</desc><desc class=\"y left\">227.6698215689579</desc><desc class=\"x_label\">118</desc></g><g class=\"dots\"><circle cx=\"550.1265508684863\" cy=\"162.4989450786813\" r=\"2.5\" class=\"dot reactive tooltip-trigger\"/><desc class=\"value\">1.720668549</desc><desc class=\"x left\">550.1265508684863</desc><desc class=\"y left\">162.4989450786813</desc><desc class=\"x_label\">119</desc></g><g class=\"dots\"><circle cx=\"554.6550868486353\" cy=\"216.12671949874556\" r=\"2.5\" class=\"dot reactive tooltip-trigger\"/><desc class=\"value\">1.468067065</desc><desc class=\"x left\">554.6550868486353</desc><desc class=\"y left\">216.12671949874556</desc><desc class=\"x_label\">120</desc></g><g class=\"dots\"><circle cx=\"559.1836228287841\" cy=\"237.97038534494936\" r=\"2.5\" class=\"dot reactive tooltip-trigger\"/><desc class=\"value\">1.365177425</desc><desc class=\"x left\">559.1836228287841</desc><desc class=\"y left\">237.97038534494936</desc><desc class=\"x_label\">121</desc></g><g class=\"dots\"><circle cx=\"563.7121588089329\" cy=\"208.21109498245875\" r=\"2.5\" class=\"dot reactive tooltip-trigger\"/><desc class=\"value\">1.505351821</desc><desc class=\"x left\">563.7121588089329</desc><desc class=\"y left\">208.21109498245875</desc><desc class=\"x_label\">122</desc></g><g class=\"dots\"><circle cx=\"568.2406947890819\" cy=\"232.69965016719533\" r=\"2.5\" class=\"dot reactive tooltip-trigger\"/><desc class=\"value\">1.390004029</desc><desc class=\"x left\">568.2406947890819</desc><desc class=\"y left\">232.69965016719533</desc><desc class=\"x_label\">123</desc></g><g class=\"dots\"><circle cx=\"572.7692307692308\" cy=\"208.29412820461226\" r=\"2.5\" class=\"dot reactive tooltip-trigger\"/><desc class=\"value\">1.504960712</desc><desc class=\"x left\">572.7692307692308</desc><desc class=\"y left\">208.29412820461226</desc><desc class=\"x_label\">124</desc></g></g><g class=\"series serie-1 color-1\"><g class=\"dots\"><circle cx=\"11.23076923076923\" cy=\"251.00185345547305\" r=\"2.5\" class=\"dot reactive tooltip-trigger\"/><desc class=\"value\">1.303795646</desc><desc class=\"x \">11.23076923076923</desc><desc class=\"y \">251.00185345547305</desc><desc class=\"x_label\">0</desc></g><g class=\"dots\"><circle cx=\"15.759305210918114\" cy=\"213.59052360915962\" r=\"2.5\" class=\"dot reactive tooltip-trigger\"/><desc class=\"value\">1.480013241</desc><desc class=\"x \">15.759305210918114</desc><desc class=\"y \">213.59052360915962</desc><desc class=\"x_label\">1</desc></g><g class=\"dots\"><circle cx=\"20.287841191067\" cy=\"155.52081027120727\" r=\"2.5\" class=\"dot reactive tooltip-trigger\"/><desc class=\"value\">1.753537472</desc><desc class=\"x \">20.287841191067</desc><desc class=\"y \">155.52081027120727</desc><desc class=\"x_label\">2</desc></g><g class=\"dots\"><circle cx=\"24.816377171215876\" cy=\"208.93098756231927\" r=\"2.5\" class=\"dot reactive tooltip-trigger\"/><desc class=\"value\">1.50196093</desc><desc class=\"x \">24.816377171215876</desc><desc class=\"y \">208.93098756231927</desc><desc class=\"x_label\">3</desc></g><g class=\"dots\"><circle cx=\"29.344913151364764\" cy=\"244.35398518773366\" r=\"2.5\" class=\"dot reactive tooltip-trigger\"/><desc class=\"value\">1.335108924</desc><desc class=\"x \">29.344913151364764</desc><desc class=\"y \">244.35398518773366</desc><desc class=\"x_label\">4</desc></g><g class=\"dots\"><circle cx=\"33.873449131513645\" cy=\"243.2653276822312\" r=\"2.5\" class=\"dot reactive tooltip-trigger\"/><desc class=\"value\">1.340236798</desc><desc class=\"x \">33.873449131513645</desc><desc class=\"y \">243.2653276822312</desc><desc class=\"x_label\">5</desc></g><g class=\"dots\"><circle cx=\"38.401985111662526\" cy=\"200.2348698821287\" r=\"2.5\" class=\"dot reactive tooltip-trigger\"/><desc class=\"value\">1.542922023</desc><desc class=\"x \">38.401985111662526</desc><desc class=\"y \">200.2348698821287</desc><desc class=\"x_label\">6</desc></g><g class=\"dots\"><circle cx=\"42.930521091811414\" cy=\"205.95252988462664\" r=\"2.5\" class=\"dot reactive tooltip-trigger\"/><desc class=\"value\">1.51599028</desc><desc class=\"x \">42.930521091811414</desc><desc class=\"y \">205.95252988462664</desc><desc class=\"x_label\">7</desc></g><g class=\"dots\"><circle cx=\"47.459057071960295\" cy=\"215.01305184918044\" r=\"2.5\" class=\"dot reactive tooltip-trigger\"/><desc class=\"value\">1.473312744</desc><desc class=\"x \">47.459057071960295</desc><desc class=\"y \">215.01305184918044</desc><desc class=\"x_label\">8</desc></g><g class=\"dots\"><circle cx=\"51.98759305210918\" cy=\"224.19936506886336\" r=\"2.5\" class=\"dot reactive tooltip-trigger\"/><desc class=\"value\">1.430042696</desc><desc class=\"x \">51.98759305210918</desc><desc class=\"y \">224.19936506886336</desc><desc class=\"x_label\">9</desc></g><g class=\"dots\"><circle cx=\"56.516129032258064\" cy=\"247.0534110566502\" r=\"2.5\" class=\"dot reactive tooltip-trigger\"/><desc class=\"value\">1.32239389</desc><desc class=\"x \">56.516129032258064</desc><desc class=\"y \">247.0534110566502</desc><desc class=\"x_label\">10</desc></g><g class=\"dots\"><circle cx=\"61.04466501240695\" cy=\"153.78981101802714\" r=\"2.5\" class=\"dot reactive tooltip-trigger\"/><desc class=\"value\">1.761690952</desc><desc class=\"x \">61.04466501240695</desc><desc class=\"y \">153.78981101802714</desc><desc class=\"x_label\">11</desc></g><g class=\"dots\"><circle cx=\"65.57320099255584\" cy=\"217.32182544722747\" r=\"2.5\" class=\"dot reactive tooltip-trigger\"/><desc class=\"value\">1.462437789</desc><desc class=\"x \">65.57320099255584</desc><desc class=\"y \">217.32182544722747</desc><desc class=\"x_label\">12</desc></g><g class=\"dots\"><circle cx=\"70.10173697270471\" cy=\"236.19230980694147\" r=\"2.5\" class=\"dot reactive tooltip-trigger\"/><desc class=\"value\">1.373552647</desc><desc class=\"x \">70.10173697270471</desc><desc class=\"y \">236.19230980694147</desc><desc class=\"x_label\">13</desc></g><g class=\"dots\"><circle cx=\"74.63027295285359\" cy=\"256.1428792691608\" r=\"2.5\" class=\"dot reactive tooltip-trigger\"/><desc class=\"value\">1.279580009</desc><desc class=\"x \">74.63027295285359</desc><desc class=\"y \">256.1428792691608</desc><desc class=\"x_label\">14</desc></g><g class=\"dots\"><circle cx=\"79.15880893300248\" cy=\"234.67629062589822\" r=\"2.5\" class=\"dot reactive tooltip-trigger\"/><desc class=\"value\">1.380693512</desc><desc class=\"x \">79.15880893300248</desc><desc class=\"y \">234.67629062589822</desc><desc class=\"x_label\">15</desc></g><g class=\"dots\"><circle cx=\"83.68734491315136\" cy=\"221.9698254757149\" r=\"2.5\" class=\"dot reactive tooltip-trigger\"/><desc class=\"value\">1.440544438</desc><desc class=\"x \">83.68734491315136</desc><desc class=\"y \">221.9698254757149</desc><desc class=\"x_label\">16</desc></g><g class=\"dots\"><circle cx=\"88.21588089330024\" cy=\"193.67888780910135\" r=\"2.5\" class=\"dot reactive tooltip-trigger\"/><desc class=\"value\">1.573802491</desc><desc class=\"x \">88.21588089330024</desc><desc class=\"y \">193.67888780910135</desc><desc class=\"x_label\">17</desc></g><g class=\"dots\"><circle cx=\"92.74441687344913\" cy=\"248.38316368350087\" r=\"2.5\" class=\"dot reactive tooltip-trigger\"/><desc class=\"value\">1.316130391</desc><desc class=\"x \">92.74441687344913</desc><desc class=\"y \">248.38316368350087</desc><desc class=\"x_label\">18</desc></g><g class=\"dots\"><circle cx=\"97.272952853598\" cy=\"171.7616600970112\" r=\"2.5\" class=\"dot reactive tooltip-trigger\"/><desc class=\"value\">1.677038628</desc><desc class=\"x \">97.272952853598</desc><desc class=\"y \">171.7616600970112</desc><desc class=\"x_label\">19</desc></g><g class=\"dots\"><circle cx=\"101.80148883374689\" cy=\"167.36695460369276\" r=\"2.5\" class=\"dot reactive tooltip-trigger\"/><desc class=\"value\">1.697738893</desc><desc class=\"x \">101.80148883374689</desc><desc class=\"y \">167.36695460369276</desc><desc class=\"x_label\">20</desc></g><g class=\"dots\"><circle cx=\"106.33002481389576\" cy=\"227.29200257973787\" r=\"2.5\" class=\"dot reactive tooltip-trigger\"/><desc class=\"value\">1.415475528</desc><desc class=\"x \">106.33002481389576</desc><desc class=\"y \">227.29200257973787</desc><desc class=\"x_label\">21</desc></g><g class=\"dots\"><circle cx=\"110.85856079404466\" cy=\"235.9135321464306\" r=\"2.5\" class=\"dot reactive tooltip-trigger\"/><desc class=\"value\">1.374865766</desc><desc class=\"x \">110.85856079404466</desc><desc class=\"y \">235.9135321464306</desc><desc class=\"x_label\">22</desc></g><g class=\"dots\"><circle cx=\"115.38709677419354\" cy=\"166.15125751087027\" r=\"2.5\" class=\"dot reactive tooltip-trigger\"/><desc class=\"value\">1.703465158</desc><desc class=\"x \">115.38709677419354</desc><desc class=\"y \">166.15125751087027</desc><desc class=\"x_label\">23</desc></g><g class=\"dots\"><circle cx=\"119.91563275434243\" cy=\"208.45044956564516\" r=\"2.5\" class=\"dot reactive tooltip-trigger\"/><desc class=\"value\">1.504224396</desc><desc class=\"x \">119.91563275434243</desc><desc class=\"y \">208.45044956564516</desc><desc class=\"x_label\">24</desc></g><g class=\"dots\"><circle cx=\"124.4441687344913\" cy=\"108.40429640294803\" r=\"2.5\" class=\"dot reactive tooltip-trigger\"/><desc class=\"value\">1.975469138</desc><desc class=\"x \">124.4441687344913</desc><desc class=\"y \">108.40429640294803</desc><desc class=\"x_label\">25</desc></g><g class=\"dots\"><circle cx=\"128.9727047146402\" cy=\"243.8569540158084\" r=\"2.5\" class=\"dot reactive tooltip-trigger\"/><desc class=\"value\">1.337450076</desc><desc class=\"x \">128.9727047146402</desc><desc class=\"y \">243.8569540158084</desc><desc class=\"x_label\">26</desc></g><g class=\"dots\"><circle cx=\"133.5012406947891\" cy=\"161.89955933514904\" r=\"2.5\" class=\"dot reactive tooltip-trigger\"/><desc class=\"value\">1.72349182</desc><desc class=\"x \">133.5012406947891</desc><desc class=\"y \">161.89955933514904</desc><desc class=\"x_label\">27</desc></g><g class=\"dots\"><circle cx=\"138.02977667493795\" cy=\"245.4091651961524\" r=\"2.5\" class=\"dot reactive tooltip-trigger\"/><desc class=\"value\">1.330138737</desc><desc class=\"x \">138.02977667493795</desc><desc class=\"y \">245.4091651961524</desc><desc class=\"x_label\">28</desc></g><g class=\"dots\"><circle cx=\"142.55831265508684\" cy=\"88.08083042227065\" r=\"2.5\" class=\"dot reactive tooltip-trigger\"/><desc class=\"value\">2.071198221</desc><desc class=\"x \">142.55831265508684</desc><desc class=\"y \">88.08083042227065</desc><desc class=\"x_label\">29</desc></g><g class=\"dots\"><circle cx=\"147.08684863523575\" cy=\"70.77774074396922\" r=\"2.5\" class=\"dot reactive tooltip-trigger\"/><desc class=\"value\">2.152700506</desc><desc class=\"x \">147.08684863523575</desc><desc class=\"y \">70.77774074396922</desc><desc class=\"x_label\">30</desc></g><g class=\"dots\"><circle cx=\"151.6153846153846\" cy=\"221.3025288152159\" r=\"2.5\" class=\"dot reactive tooltip-trigger\"/><desc class=\"value\">1.443687587</desc><desc class=\"x \">151.6153846153846</desc><desc class=\"y \">221.3025288152159</desc><desc class=\"x_label\">31</desc></g><g class=\"dots\"><circle cx=\"156.1439205955335\" cy=\"254.47672576292672\" r=\"2.5\" class=\"dot reactive tooltip-trigger\"/><desc class=\"value\">1.287428047</desc><desc class=\"x \">156.1439205955335</desc><desc class=\"y \">254.47672576292672</desc><desc class=\"x_label\">32</desc></g><g class=\"dots\"><circle cx=\"160.67245657568236\" cy=\"228.6108136271181\" r=\"2.5\" class=\"dot reactive tooltip-trigger\"/><desc class=\"value\">1.409263567</desc><desc class=\"x \">160.67245657568236</desc><desc class=\"y \">228.6108136271181</desc><desc class=\"x_label\">33</desc></g><g class=\"dots\"><circle cx=\"165.20099255583125\" cy=\"111.30027896019732\" r=\"2.5\" class=\"dot reactive tooltip-trigger\"/><desc class=\"value\">1.961828268</desc><desc class=\"x \">165.20099255583125</desc><desc class=\"y \">111.30027896019732</desc><desc class=\"x_label\">34</desc></g><g class=\"dots\"><circle cx=\"169.7295285359802\" cy=\"137.6802867380374\" r=\"2.5\" class=\"dot reactive tooltip-trigger\"/><desc class=\"value\">1.837571217</desc><desc class=\"x \">169.7295285359802</desc><desc class=\"y \">137.6802867380374</desc><desc class=\"x_label\">35</desc></g><g class=\"dots\"><circle cx=\"174.25806451612905\" cy=\"118.91010693927313\" r=\"2.5\" class=\"dot reactive tooltip-trigger\"/><desc class=\"value\">1.925983897</desc><desc class=\"x \">174.25806451612905</desc><desc class=\"y \">118.91010693927313</desc><desc class=\"x_label\">36</desc></g><g class=\"dots\"><circle cx=\"178.78660049627794\" cy=\"224.7897803297679\" r=\"2.5\" class=\"dot reactive tooltip-trigger\"/><desc class=\"value\">1.427261679</desc><desc class=\"x \">178.78660049627794</desc><desc class=\"y \">224.7897803297679</desc><desc class=\"x_label\">37</desc></g><g class=\"dots\"><circle cx=\"183.3151364764268\" cy=\"147.30457250124994\" r=\"2.5\" class=\"dot reactive tooltip-trigger\"/><desc class=\"value\">1.792238199</desc><desc class=\"x \">183.3151364764268</desc><desc class=\"y \">147.30457250124994</desc><desc class=\"x_label\">38</desc></g><g class=\"dots\"><circle cx=\"187.8436724565757\" cy=\"225.92775208931903\" r=\"2.5\" class=\"dot reactive tooltip-trigger\"/><desc class=\"value\">1.421901521</desc><desc class=\"x \">187.8436724565757</desc><desc class=\"y \">225.92775208931903</desc><desc class=\"x_label\">39</desc></g><g class=\"dots\"><circle cx=\"192.37220843672455\" cy=\"161.81770560899116\" r=\"2.5\" class=\"dot reactive tooltip-trigger\"/><desc class=\"value\">1.723877373</desc><desc class=\"x \">192.37220843672455</desc><desc class=\"y \">161.81770560899116</desc><desc class=\"x_label\">40</desc></g><g class=\"dots\"><circle cx=\"196.90074441687344\" cy=\"238.24369261265247\" r=\"2.5\" class=\"dot reactive tooltip-trigger\"/><desc class=\"value\">1.363890073</desc><desc class=\"x \">196.90074441687344</desc><desc class=\"y \">238.24369261265247</desc><desc class=\"x_label\">41</desc></g><g class=\"dots\"><circle cx=\"201.4292803970223\" cy=\"178.79981595545416\" r=\"2.5\" class=\"dot reactive tooltip-trigger\"/><desc class=\"value\">1.643886989</desc><desc class=\"x \">201.4292803970223</desc><desc class=\"y \">178.79981595545416</desc><desc class=\"x_label\">42</desc></g><g class=\"dots\"><circle cx=\"205.95781637717124\" cy=\"190.95655080646515\" r=\"2.5\" class=\"dot reactive tooltip-trigger\"/><desc class=\"value\">1.586625443</desc><desc class=\"x \">205.95781637717124</desc><desc class=\"y \">190.95655080646515</desc><desc class=\"x_label\">43</desc></g><g class=\"dots\"><circle cx=\"210.48635235732013\" cy=\"136.38924232193642\" r=\"2.5\" class=\"dot reactive tooltip-trigger\"/><desc class=\"value\">1.843652389</desc><desc class=\"x \">210.48635235732013</desc><desc class=\"y \">136.38924232193642</desc><desc class=\"x_label\">44</desc></g><g class=\"dots\"><circle cx=\"215.014888337469\" cy=\"235.61439071456755\" r=\"2.5\" class=\"dot reactive tooltip-trigger\"/><desc class=\"value\">1.376274804</desc><desc class=\"x \">215.014888337469</desc><desc class=\"y \">235.61439071456755</desc><desc class=\"x_label\">45</desc></g><g class=\"dots\"><circle cx=\"219.54342431761788\" cy=\"132.13499995765335\" r=\"2.5\" class=\"dot reactive tooltip-trigger\"/><desc class=\"value\">1.863691034</desc><desc class=\"x \">219.54342431761788</desc><desc class=\"y \">132.13499995765335</desc><desc class=\"x_label\">46</desc></g><g class=\"dots\"><circle cx=\"224.07196029776674\" cy=\"194.3055157041735\" r=\"2.5\" class=\"dot reactive tooltip-trigger\"/><desc class=\"value\">1.570850903</desc><desc class=\"x \">224.07196029776674</desc><desc class=\"y \">194.3055157041735</desc><desc class=\"x_label\">47</desc></g><g class=\"dots\"><circle cx=\"228.60049627791562\" cy=\"146.7822553295233\" r=\"2.5\" class=\"dot reactive tooltip-trigger\"/><desc class=\"value\">1.794698456</desc><desc class=\"x \">228.60049627791562</desc><desc class=\"y \">146.7822553295233</desc><desc class=\"x_label\">48</desc></g><g class=\"dots\"><circle cx=\"233.1290322580645\" cy=\"244.8636210306234\" r=\"2.5\" class=\"dot reactive tooltip-trigger\"/><desc class=\"value\">1.3327084</desc><desc class=\"x \">233.1290322580645</desc><desc class=\"y \">244.8636210306234</desc><desc class=\"x_label\">49</desc></g><g class=\"dots\"><circle cx=\"237.65756823821337\" cy=\"223.22523036824873\" r=\"2.5\" class=\"dot reactive tooltip-trigger\"/><desc class=\"value\">1.434631137</desc><desc class=\"x \">237.65756823821337</desc><desc class=\"y \">223.22523036824873</desc><desc class=\"x_label\">50</desc></g><g class=\"dots\"><circle cx=\"242.18610421836232\" cy=\"187.26053443251033\" r=\"2.5\" class=\"dot reactive tooltip-trigger\"/><desc class=\"value\">1.604034691</desc><desc class=\"x \">242.18610421836232</desc><desc class=\"y \">187.26053443251033</desc><desc class=\"x_label\">51</desc></g><g class=\"dots\"><circle cx=\"246.7146401985112\" cy=\"240.92939902092894\" r=\"2.5\" class=\"dot reactive tooltip-trigger\"/><desc class=\"value\">1.351239661</desc><desc class=\"x \">246.7146401985112</desc><desc class=\"y \">240.92939902092894</desc><desc class=\"x_label\">52</desc></g><g class=\"dots\"><circle cx=\"251.24317617866006\" cy=\"117.90351858865688\" r=\"2.5\" class=\"dot reactive tooltip-trigger\"/><desc class=\"value\">1.930725204</desc><desc class=\"x \">251.24317617866006</desc><desc class=\"y \">117.90351858865688</desc><desc class=\"x_label\">53</desc></g><g class=\"dots\"><circle cx=\"255.77171215880892\" cy=\"253.00212398384338\" r=\"2.5\" class=\"dot reactive tooltip-trigger\"/><desc class=\"value\">1.294373825</desc><desc class=\"x \">255.77171215880892</desc><desc class=\"y \">253.00212398384338</desc><desc class=\"x_label\">54</desc></g><g class=\"dots\"><circle cx=\"260.30024813895784\" cy=\"245.8599061646226\" r=\"2.5\" class=\"dot reactive tooltip-trigger\"/><desc class=\"value\">1.328015624</desc><desc class=\"x \">260.30024813895784</desc><desc class=\"y \">245.8599061646226</desc><desc class=\"x_label\">55</desc></g><g class=\"dots\"><circle cx=\"264.82878411910673\" cy=\"253.33496325911176\" r=\"2.5\" class=\"dot reactive tooltip-trigger\"/><desc class=\"value\">1.292806061</desc><desc class=\"x \">264.82878411910673</desc><desc class=\"y \">253.33496325911176</desc><desc class=\"x_label\">56</desc></g><g class=\"dots\"><circle cx=\"269.35732009925556\" cy=\"104.01832082287473\" r=\"2.5\" class=\"dot reactive tooltip-trigger\"/><desc class=\"value\">1.996128283</desc><desc class=\"x \">269.35732009925556</desc><desc class=\"y \">104.01832082287473</desc><desc class=\"x_label\">57</desc></g><g class=\"dots\"><circle cx=\"273.88585607940445\" cy=\"40.85778148832662\" r=\"2.5\" class=\"dot reactive tooltip-trigger\"/><desc class=\"value\">2.293631696</desc><desc class=\"x \">273.88585607940445</desc><desc class=\"y \">40.85778148832662</desc><desc class=\"x_label\">58</desc></g><g class=\"dots\"><circle cx=\"278.41439205955334\" cy=\"239.06611601807157\" r=\"2.5\" class=\"dot reactive tooltip-trigger\"/><desc class=\"value\">1.360016234</desc><desc class=\"x \">278.41439205955334</desc><desc class=\"y \">239.06611601807157</desc><desc class=\"x_label\">59</desc></g><g class=\"dots\"><circle cx=\"282.9429280397022\" cy=\"254.83632373130126\" r=\"2.5\" class=\"dot reactive tooltip-trigger\"/><desc class=\"value\">1.285734242</desc><desc class=\"x \">282.9429280397022</desc><desc class=\"y \">254.83632373130126</desc><desc class=\"x_label\">60</desc></g><g class=\"dots\"><circle cx=\"287.4714640198511\" cy=\"242.4364061352103\" r=\"2.5\" class=\"dot reactive tooltip-trigger\"/><desc class=\"value\">1.344141245</desc><desc class=\"x \">287.4714640198511</desc><desc class=\"y \">242.4364061352103</desc><desc class=\"x_label\">61</desc></g><g class=\"dots\"><circle cx=\"292.0\" cy=\"82.16172595652932\" r=\"2.5\" class=\"dot reactive tooltip-trigger\"/><desc class=\"value\">2.099078822</desc><desc class=\"x \">292.0</desc><desc class=\"y \">82.16172595652932</desc><desc class=\"x_label\">62</desc></g><g class=\"dots\"><circle cx=\"296.5285359801489\" cy=\"216.87875676084803\" r=\"2.5\" class=\"dot reactive tooltip-trigger\"/><desc class=\"value\">1.464524764</desc><desc class=\"x left\">296.5285359801489</desc><desc class=\"y left\">216.87875676084803</desc><desc class=\"x_label\">63</desc></g><g class=\"dots\"><circle cx=\"301.0570719602978\" cy=\"248.9623598799182\" r=\"2.5\" class=\"dot reactive tooltip-trigger\"/><desc class=\"value\">1.313402219</desc><desc class=\"x left\">301.0570719602978</desc><desc class=\"y left\">248.9623598799182</desc><desc class=\"x_label\">64</desc></g><g class=\"dots\"><circle cx=\"305.58560794044666\" cy=\"230.92653581133135\" r=\"2.5\" class=\"dot reactive tooltip-trigger\"/><desc class=\"value\">1.398355882</desc><desc class=\"x left\">305.58560794044666</desc><desc class=\"y left\">230.92653581133135</desc><desc class=\"x_label\">65</desc></g><g class=\"dots\"><circle cx=\"310.1141439205955\" cy=\"233.57181715766995\" r=\"2.5\" class=\"dot reactive tooltip-trigger\"/><desc class=\"value\">1.385895884</desc><desc class=\"x left\">310.1141439205955</desc><desc class=\"y left\">233.57181715766995</desc><desc class=\"x_label\">66</desc></g><g class=\"dots\"><circle cx=\"314.6426799007444\" cy=\"203.4047170914193\" r=\"2.5\" class=\"dot reactive tooltip-trigger\"/><desc class=\"value\">1.527991175</desc><desc class=\"x left\">314.6426799007444</desc><desc class=\"y left\">203.4047170914193</desc><desc class=\"x_label\">67</desc></g><g class=\"dots\"><circle cx=\"319.17121588089327\" cy=\"162.87649577468898\" r=\"2.5\" class=\"dot reactive tooltip-trigger\"/><desc class=\"value\">1.718890182</desc><desc class=\"x left\">319.17121588089327</desc><desc class=\"y left\">162.87649577468898</desc><desc class=\"x_label\">68</desc></g><g class=\"dots\"><circle cx=\"323.69975186104216\" cy=\"199.18562120566867\" r=\"2.5\" class=\"dot reactive tooltip-trigger\"/><desc class=\"value\">1.547864271</desc><desc class=\"x left\">323.69975186104216</desc><desc class=\"y left\">199.18562120566867</desc><desc class=\"x_label\">69</desc></g><g class=\"dots\"><circle cx=\"328.22828784119105\" cy=\"25.162841856281773\" r=\"2.5\" class=\"dot reactive tooltip-trigger\"/><desc class=\"value\">2.367559154</desc><desc class=\"x left\">328.22828784119105</desc><desc class=\"y left\">25.162841856281773</desc><desc class=\"x_label\">70</desc></g><g class=\"dots\"><circle cx=\"332.75682382134\" cy=\"83.8825500817909\" r=\"2.5\" class=\"dot reactive tooltip-trigger\"/><desc class=\"value\">2.09097327</desc><desc class=\"x left\">332.75682382134</desc><desc class=\"y left\">83.8825500817909</desc><desc class=\"x_label\">71</desc></g><g class=\"dots\"><circle cx=\"337.2853598014889\" cy=\"180.65445813214234\" r=\"2.5\" class=\"dot reactive tooltip-trigger\"/><desc class=\"value\">1.635151117</desc><desc class=\"x left\">337.2853598014889</desc><desc class=\"y left\">180.65445813214234</desc><desc class=\"x_label\">72</desc></g><g class=\"dots\"><circle cx=\"341.8138957816377\" cy=\"190.5452310481275\" r=\"2.5\" class=\"dot reactive tooltip-trigger\"/><desc class=\"value\">1.588562872</desc><desc class=\"x left\">341.8138957816377</desc><desc class=\"y left\">190.5452310481275</desc><desc class=\"x_label\">73</desc></g><g class=\"dots\"><circle cx=\"346.34243176178666\" cy=\"184.48391628002537\" r=\"2.5\" class=\"dot reactive tooltip-trigger\"/><desc class=\"value\">1.617113322</desc><desc class=\"x left\">346.34243176178666</desc><desc class=\"y left\">184.48391628002537</desc><desc class=\"x_label\">74</desc></g><g class=\"dots\"><circle cx=\"350.8709677419355\" cy=\"113.44965271447438\" r=\"2.5\" class=\"dot reactive tooltip-trigger\"/><desc class=\"value\">1.95170413</desc><desc class=\"x left\">350.8709677419355</desc><desc class=\"y left\">113.44965271447438</desc><desc class=\"x_label\">75</desc></g><g class=\"dots\"><circle cx=\"355.3995037220844\" cy=\"223.59337116836457\" r=\"2.5\" class=\"dot reactive tooltip-trigger\"/><desc class=\"value\">1.432897093</desc><desc class=\"x left\">355.3995037220844</desc><desc class=\"y left\">223.59337116836457</desc><desc class=\"x_label\">76</desc></g><g class=\"dots\"><circle cx=\"359.9280397022332\" cy=\"118.30104511435513\" r=\"2.5\" class=\"dot reactive tooltip-trigger\"/><desc class=\"value\">1.928852745</desc><desc class=\"x left\">359.9280397022332</desc><desc class=\"y left\">118.30104511435513</desc><desc class=\"x_label\">77</desc></g><g class=\"dots\"><circle cx=\"364.45657568238215\" cy=\"53.5073178871088\" r=\"2.5\" class=\"dot reactive tooltip-trigger\"/><desc class=\"value\">2.23404892</desc><desc class=\"x left\">364.45657568238215</desc><desc class=\"y left\">53.5073178871088</desc><desc class=\"x_label\">78</desc></g><g class=\"dots\"><circle cx=\"368.985111662531\" cy=\"177.31508110831618\" r=\"2.5\" class=\"dot reactive tooltip-trigger\"/><desc class=\"value\">1.650880496</desc><desc class=\"x left\">368.985111662531</desc><desc class=\"y left\">177.31508110831618</desc><desc class=\"x_label\">79</desc></g><g class=\"dots\"><circle cx=\"373.51364764267987\" cy=\"228.14290118886993\" r=\"2.5\" class=\"dot reactive tooltip-trigger\"/><desc class=\"value\">1.411467563</desc><desc class=\"x left\">373.51364764267987</desc><desc class=\"y left\">228.14290118886993</desc><desc class=\"x_label\">80</desc></g><g class=\"dots\"><circle cx=\"378.0421836228288\" cy=\"188.58411623521755\" r=\"2.5\" class=\"dot reactive tooltip-trigger\"/><desc class=\"value\">1.597800259</desc><desc class=\"x left\">378.0421836228288</desc><desc class=\"y left\">188.58411623521755</desc><desc class=\"x_label\">81</desc></g><g class=\"dots\"><circle cx=\"382.57071960297765\" cy=\"225.11994220862175\" r=\"2.5\" class=\"dot reactive tooltip-trigger\"/><desc class=\"value\">1.425706526</desc><desc class=\"x left\">382.57071960297765</desc><desc class=\"y left\">225.11994220862175</desc><desc class=\"x_label\">82</desc></g><g class=\"dots\"><circle cx=\"387.09925558312653\" cy=\"244.7998083598598\" r=\"2.5\" class=\"dot reactive tooltip-trigger\"/><desc class=\"value\">1.333008975</desc><desc class=\"x left\">387.09925558312653</desc><desc class=\"y left\">244.7998083598598</desc><desc class=\"x_label\">83</desc></g><g class=\"dots\"><circle cx=\"391.62779156327537\" cy=\"171.35503906015896\" r=\"2.5\" class=\"dot reactive tooltip-trigger\"/><desc class=\"value\">1.678953924</desc><desc class=\"x left\">391.62779156327537</desc><desc class=\"y left\">171.35503906015896</desc><desc class=\"x_label\">84</desc></g><g class=\"dots\"><circle cx=\"396.1563275434243\" cy=\"117.71885702159386\" r=\"2.5\" class=\"dot reactive tooltip-trigger\"/><desc class=\"value\">1.93159501</desc><desc class=\"x left\">396.1563275434243</desc><desc class=\"y left\">117.71885702159386</desc><desc class=\"x_label\">85</desc></g><g class=\"dots\"><circle cx=\"400.6848635235732\" cy=\"246.42880175072025\" r=\"2.5\" class=\"dot reactive tooltip-trigger\"/><desc class=\"value\">1.32533597</desc><desc class=\"x left\">400.6848635235732</desc><desc class=\"y left\">246.42880175072025</desc><desc class=\"x_label\">86</desc></g><g class=\"dots\"><circle cx=\"405.2133995037221\" cy=\"264.4587197910214\" r=\"2.5\" class=\"dot reactive tooltip-trigger\"/><desc class=\"value\">1.240410125</desc><desc class=\"x left top\">405.2133995037221</desc><desc class=\"y left top\">264.4587197910214</desc><desc class=\"x_label\">87</desc></g><g class=\"dots\"><circle cx=\"409.741935483871\" cy=\"205.48614719868425\" r=\"2.5\" class=\"dot reactive tooltip-trigger\"/><desc class=\"value\">1.51818707</desc><desc class=\"x left\">409.741935483871</desc><desc class=\"y left\">205.48614719868425</desc><desc class=\"x_label\">88</desc></g><g class=\"dots\"><circle cx=\"414.27047146401986\" cy=\"240.35387680526975\" r=\"2.5\" class=\"dot reactive tooltip-trigger\"/><desc class=\"value\">1.353950528</desc><desc class=\"x left\">414.27047146401986</desc><desc class=\"y left\">240.35387680526975</desc><desc class=\"x_label\">89</desc></g><g class=\"dots\"><circle cx=\"418.79900744416875\" cy=\"148.34926597111786\" r=\"2.5\" class=\"dot reactive tooltip-trigger\"/><desc class=\"value\">1.787317407</desc><desc class=\"x left\">418.79900744416875</desc><desc class=\"y left\">148.34926597111786</desc><desc class=\"x_label\">90</desc></g><g class=\"dots\"><circle cx=\"423.3275434243176\" cy=\"221.48068842755288\" r=\"2.5\" class=\"dot reactive tooltip-trigger\"/><desc class=\"value\">1.442848407</desc><desc class=\"x left\">423.3275434243176</desc><desc class=\"y left\">221.48068842755288</desc><desc class=\"x_label\">91</desc></g><g class=\"dots\"><circle cx=\"427.8560794044665\" cy=\"240.43548432486432\" r=\"2.5\" class=\"dot reactive tooltip-trigger\"/><desc class=\"value\">1.353566134</desc><desc class=\"x left\">427.8560794044665</desc><desc class=\"y left\">240.43548432486432</desc><desc class=\"x_label\">92</desc></g><g class=\"dots\"><circle cx=\"432.38461538461536\" cy=\"241.8177508964689\" r=\"2.5\" class=\"dot reactive tooltip-trigger\"/><desc class=\"value\">1.347055281</desc><desc class=\"x left\">432.38461538461536</desc><desc class=\"y left\">241.8177508964689</desc><desc class=\"x_label\">93</desc></g><g class=\"dots\"><circle cx=\"436.91315136476425\" cy=\"205.21945965488766\" r=\"2.5\" class=\"dot reactive tooltip-trigger\"/><desc class=\"value\">1.519443242</desc><desc class=\"x left\">436.91315136476425</desc><desc class=\"y left\">205.21945965488766</desc><desc class=\"x_label\">94</desc></g><g class=\"dots\"><circle cx=\"441.44168734491313\" cy=\"224.70341391161134\" r=\"2.5\" class=\"dot reactive tooltip-trigger\"/><desc class=\"value\">1.427668489</desc><desc class=\"x left\">441.44168734491313</desc><desc class=\"y left\">224.70341391161134</desc><desc class=\"x_label\">95</desc></g><g class=\"dots\"><circle cx=\"445.970223325062\" cy=\"222.82065801546514\" r=\"2.5\" class=\"dot reactive tooltip-trigger\"/><desc class=\"value\">1.436536784</desc><desc class=\"x left\">445.970223325062</desc><desc class=\"y left\">222.82065801546514</desc><desc class=\"x_label\">96</desc></g><g class=\"dots\"><circle cx=\"450.4987593052109\" cy=\"249.22843232557324\" r=\"2.5\" class=\"dot reactive tooltip-trigger\"/><desc class=\"value\">1.312148945</desc><desc class=\"x left\">450.4987593052109</desc><desc class=\"y left\">249.22843232557324</desc><desc class=\"x_label\">97</desc></g><g class=\"dots\"><circle cx=\"455.02729528535974\" cy=\"236.8069891425127\" r=\"2.5\" class=\"dot reactive tooltip-trigger\"/><desc class=\"value\">1.370657339</desc><desc class=\"x left\">455.02729528535974</desc><desc class=\"y left\">236.8069891425127</desc><desc class=\"x_label\">98</desc></g><g class=\"dots\"><circle cx=\"459.5558312655087\" cy=\"93.04818220465148\" r=\"2.5\" class=\"dot reactive tooltip-trigger\"/><desc class=\"value\">2.047800636</desc><desc class=\"x left\">459.5558312655087</desc><desc class=\"y left\">93.04818220465148</desc><desc class=\"x_label\">99</desc></g><g class=\"dots\"><circle cx=\"464.0843672456575\" cy=\"222.37926660518525\" r=\"2.5\" class=\"dot reactive tooltip-trigger\"/><desc class=\"value\">1.438615858</desc><desc class=\"x left\">464.0843672456575</desc><desc class=\"y left\">222.37926660518525</desc><desc class=\"x_label\">100</desc></g><g class=\"dots\"><circle cx=\"468.61290322580646\" cy=\"237.86341963462957\" r=\"2.5\" class=\"dot reactive tooltip-trigger\"/><desc class=\"value\">1.365681263</desc><desc class=\"x left\">468.61290322580646</desc><desc class=\"y left\">237.86341963462957</desc><desc class=\"x_label\">101</desc></g><g class=\"dots\"><circle cx=\"473.14143920595535\" cy=\"230.08333809904786\" r=\"2.5\" class=\"dot reactive tooltip-trigger\"/><desc class=\"value\">1.402327574</desc><desc class=\"x left\">473.14143920595535</desc><desc class=\"y left\">230.08333809904786</desc><desc class=\"x_label\">102</desc></g><g class=\"dots\"><circle cx=\"477.66997518610424\" cy=\"118.68995106177357\" r=\"2.5\" class=\"dot reactive tooltip-trigger\"/><desc class=\"value\">1.927020892</desc><desc class=\"x left\">477.66997518610424</desc><desc class=\"y left\">118.68995106177357</desc><desc class=\"x_label\">103</desc></g><g class=\"dots\"><circle cx=\"482.19851116625307\" cy=\"95.55479762986852\" r=\"2.5\" class=\"dot reactive tooltip-trigger\"/><desc class=\"value\">2.035993792</desc><desc class=\"x left\">482.19851116625307</desc><desc class=\"y left\">95.55479762986852</desc><desc class=\"x_label\">104</desc></g><g class=\"dots\"><circle cx=\"486.727047146402\" cy=\"235.34056604540086\" r=\"2.5\" class=\"dot reactive tooltip-trigger\"/><desc class=\"value\">1.377564593</desc><desc class=\"x left\">486.727047146402</desc><desc class=\"y left\">235.34056604540086</desc><desc class=\"x_label\">105</desc></g><g class=\"dots\"><circle cx=\"491.2555831265509\" cy=\"176.39825044356508\" r=\"2.5\" class=\"dot reactive tooltip-trigger\"/><desc class=\"value\">1.655199019</desc><desc class=\"x left\">491.2555831265509</desc><desc class=\"y left\">176.39825044356508</desc><desc class=\"x_label\">106</desc></g><g class=\"dots\"><circle cx=\"495.78411910669973\" cy=\"208.96926587884957\" r=\"2.5\" class=\"dot reactive tooltip-trigger\"/><desc class=\"value\">1.501780629</desc><desc class=\"x left\">495.78411910669973</desc><desc class=\"y left\">208.96926587884957</desc><desc class=\"x_label\">107</desc></g><g class=\"dots\"><circle cx=\"500.3126550868487\" cy=\"236.89576315116102\" r=\"2.5\" class=\"dot reactive tooltip-trigger\"/><desc class=\"value\">1.370239189</desc><desc class=\"x left\">500.3126550868487</desc><desc class=\"y left\">236.89576315116102</desc><desc class=\"x_label\">108</desc></g><g class=\"dots\"><circle cx=\"504.84119106699745\" cy=\"196.76607005572077\" r=\"2.5\" class=\"dot reactive tooltip-trigger\"/><desc class=\"value\">1.559261019</desc><desc class=\"x left\">504.84119106699745</desc><desc class=\"y left\">196.76607005572077</desc><desc class=\"x_label\">109</desc></g><g class=\"dots\"><circle cx=\"509.3697270471464\" cy=\"24.380648420724526\" r=\"2.5\" class=\"dot reactive tooltip-trigger\"/><desc class=\"value\">2.371243499</desc><desc class=\"x left\">509.3697270471464</desc><desc class=\"y left\">24.380648420724526</desc><desc class=\"x_label\">110</desc></g><g class=\"dots\"><circle cx=\"513.8982630272953\" cy=\"112.31157990890506\" r=\"2.5\" class=\"dot reactive tooltip-trigger\"/><desc class=\"value\">1.957064764</desc><desc class=\"x left\">513.8982630272953</desc><desc class=\"y left\">112.31157990890506</desc><desc class=\"x_label\">111</desc></g><g class=\"dots\"><circle cx=\"518.4267990074441\" cy=\"235.84074690154313\" r=\"2.5\" class=\"dot reactive tooltip-trigger\"/><desc class=\"value\">1.375208604</desc><desc class=\"x left\">518.4267990074441</desc><desc class=\"y left\">235.84074690154313</desc><desc class=\"x_label\">112</desc></g><g class=\"dots\"><circle cx=\"522.955334987593\" cy=\"238.64709563415818\" r=\"2.5\" class=\"dot reactive tooltip-trigger\"/><desc class=\"value\">1.361989934</desc><desc class=\"x left\">522.955334987593</desc><desc class=\"y left\">238.64709563415818</desc><desc class=\"x_label\">113</desc></g><g class=\"dots\"><circle cx=\"527.483870967742\" cy=\"240.83470641206497\" r=\"2.5\" class=\"dot reactive tooltip-trigger\"/><desc class=\"value\">1.351685689</desc><desc class=\"x left\">527.483870967742</desc><desc class=\"y left\">240.83470641206497</desc><desc class=\"x_label\">114</desc></g><g class=\"dots\"><circle cx=\"532.0124069478908\" cy=\"125.60136593357674\" r=\"2.5\" class=\"dot reactive tooltip-trigger\"/><desc class=\"value\">1.894466238</desc><desc class=\"x left\">532.0124069478908</desc><desc class=\"y left\">125.60136593357674</desc><desc class=\"x_label\">115</desc></g><g class=\"dots\"><circle cx=\"536.5409429280397\" cy=\"218.78707518745057\" r=\"2.5\" class=\"dot reactive tooltip-trigger\"/><desc class=\"value\">1.455536062</desc><desc class=\"x left\">536.5409429280397</desc><desc class=\"y left\">218.78707518745057</desc><desc class=\"x_label\">116</desc></g><g class=\"dots\"><circle cx=\"541.0694789081886\" cy=\"182.26779360560812\" r=\"2.5\" class=\"dot reactive tooltip-trigger\"/><desc class=\"value\">1.627551866</desc><desc class=\"x left\">541.0694789081886</desc><desc class=\"y left\">182.26779360560812</desc><desc class=\"x_label\">117</desc></g><g class=\"dots\"><circle cx=\"545.5980148883375\" cy=\"176.37875762332635\" r=\"2.5\" class=\"dot reactive tooltip-trigger\"/><desc class=\"value\">1.655290836</desc><desc class=\"x left\">545.5980148883375</desc><desc class=\"y left\">176.37875762332635</desc><desc class=\"x_label\">118</desc></g><g class=\"dots\"><circle cx=\"550.1265508684863\" cy=\"129.02939635757104\" r=\"2.5\" class=\"dot reactive tooltip-trigger\"/><desc class=\"value\">1.878319277</desc><desc class=\"x left\">550.1265508684863</desc><desc class=\"y left\">129.02939635757104</desc><desc class=\"x_label\">119</desc></g><g class=\"dots\"><circle cx=\"554.6550868486353\" cy=\"242.02693271581603\" r=\"2.5\" class=\"dot reactive tooltip-trigger\"/><desc class=\"value\">1.346069977</desc><desc class=\"x left\">554.6550868486353</desc><desc class=\"y left\">242.02693271581603</desc><desc class=\"x_label\">120</desc></g><g class=\"dots\"><circle cx=\"559.1836228287841\" cy=\"239.0410514824203\" r=\"2.5\" class=\"dot reactive tooltip-trigger\"/><desc class=\"value\">1.360134294</desc><desc class=\"x left\">559.1836228287841</desc><desc class=\"y left\">239.0410514824203</desc><desc class=\"x_label\">121</desc></g><g class=\"dots\"><circle cx=\"563.7121588089329\" cy=\"188.86832510912217\" r=\"2.5\" class=\"dot reactive tooltip-trigger\"/><desc class=\"value\">1.596461557</desc><desc class=\"x left\">563.7121588089329</desc><desc class=\"y left\">188.86832510912217</desc><desc class=\"x_label\">122</desc></g><g class=\"dots\"><circle cx=\"568.2406947890819\" cy=\"241.15864636163099\" r=\"2.5\" class=\"dot reactive tooltip-trigger\"/><desc class=\"value\">1.350159843</desc><desc class=\"x left\">568.2406947890819</desc><desc class=\"y left\">241.15864636163099</desc><desc class=\"x_label\">123</desc></g><g class=\"dots\"><circle cx=\"572.7692307692308\" cy=\"208.4925548098238\" r=\"2.5\" class=\"dot reactive tooltip-trigger\"/><desc class=\"value\">1.504026068</desc><desc class=\"x left\">572.7692307692308</desc><desc class=\"y left\">208.4925548098238</desc><desc class=\"x_label\">124</desc></g></g><g class=\"series serie-2 color-2\"><g class=\"dots\"><circle cx=\"11.23076923076923\" cy=\"373.4650787901813\" r=\"2.5\" class=\"dot reactive tooltip-trigger\"/><desc class=\"value\">0.7269603629</desc><desc class=\"x top\">11.23076923076923</desc><desc class=\"y top\">373.4650787901813</desc><desc class=\"x_label\">0</desc></g><g class=\"dots\"><circle cx=\"15.759305210918114\" cy=\"390.1581914087892\" r=\"2.5\" class=\"dot reactive tooltip-trigger\"/><desc class=\"value\">0.6483312371</desc><desc class=\"x top\">15.759305210918114</desc><desc class=\"y top\">390.1581914087892</desc><desc class=\"x_label\">1</desc></g><g class=\"dots\"><circle cx=\"20.287841191067\" cy=\"319.7993417633705\" r=\"2.5\" class=\"dot reactive tooltip-trigger\"/><desc class=\"value\">0.9797406611</desc><desc class=\"x top\">20.287841191067</desc><desc class=\"y top\">319.7993417633705</desc><desc class=\"x_label\">2</desc></g><g class=\"dots\"><circle cx=\"24.816377171215876\" cy=\"484.9754089231773\" r=\"2.5\" class=\"dot reactive tooltip-trigger\"/><desc class=\"value\">0.2017162115</desc><desc class=\"x top\">24.816377171215876</desc><desc class=\"y top\">484.9754089231773</desc><desc class=\"x_label\">3</desc></g><g class=\"dots\"><circle cx=\"29.344913151364764\" cy=\"273.3143359452836\" r=\"2.5\" class=\"dot reactive tooltip-trigger\"/><desc class=\"value\">1.198697751</desc><desc class=\"x top\">29.344913151364764</desc><desc class=\"y top\">273.3143359452836</desc><desc class=\"x_label\">4</desc></g><g class=\"dots\"><circle cx=\"33.873449131513645\" cy=\"441.1351539034499\" r=\"2.5\" class=\"dot reactive tooltip-trigger\"/><desc class=\"value\">0.4082158023</desc><desc class=\"x top\">33.873449131513645</desc><desc class=\"y top\">441.1351539034499</desc><desc class=\"x_label\">5</desc></g><g class=\"dots\"><circle cx=\"38.401985111662526\" cy=\"466.0870476579628\" r=\"2.5\" class=\"dot reactive tooltip-trigger\"/><desc class=\"value\">0.2906855588</desc><desc class=\"x top\">38.401985111662526</desc><desc class=\"y top\">466.0870476579628</desc><desc class=\"x_label\">6</desc></g><g class=\"dots\"><circle cx=\"42.930521091811414\" cy=\"341.32567327624804\" r=\"2.5\" class=\"dot reactive tooltip-trigger\"/><desc class=\"value\">0.8783457525</desc><desc class=\"x top\">42.930521091811414</desc><desc class=\"y top\">341.32567327624804</desc><desc class=\"x_label\">7</desc></g><g class=\"dots\"><circle cx=\"47.459057071960295\" cy=\"187.18733391948933\" r=\"2.5\" class=\"dot reactive tooltip-trigger\"/><desc class=\"value\">1.604379485</desc><desc class=\"x \">47.459057071960295</desc><desc class=\"y \">187.18733391948933</desc><desc class=\"x_label\">8</desc></g><g class=\"dots\"><circle cx=\"51.98759305210918\" cy=\"319.25050802016744\" r=\"2.5\" class=\"dot reactive tooltip-trigger\"/><desc class=\"value\">0.9823258181</desc><desc class=\"x top\">51.98759305210918</desc><desc class=\"y top\">319.25050802016744</desc><desc class=\"x_label\">9</desc></g><g class=\"dots\"><circle cx=\"56.516129032258064\" cy=\"373.0932869907416\" r=\"2.5\" class=\"dot reactive tooltip-trigger\"/><desc class=\"value\">0.7287116039</desc><desc class=\"x top\">56.516129032258064</desc><desc class=\"y top\">373.0932869907416</desc><desc class=\"x_label\">10</desc></g><g class=\"dots\"><circle cx=\"61.04466501240695\" cy=\"299.8165087599896\" r=\"2.5\" class=\"dot reactive tooltip-trigger\"/><desc class=\"value\">1.07386527</desc><desc class=\"x top\">61.04466501240695</desc><desc class=\"y top\">299.8165087599896</desc><desc class=\"x_label\">11</desc></g><g class=\"dots\"><circle cx=\"65.57320099255584\" cy=\"361.76930098059324\" r=\"2.5\" class=\"dot reactive tooltip-trigger\"/><desc class=\"value\">0.782050675</desc><desc class=\"x top\">65.57320099255584</desc><desc class=\"y top\">361.76930098059324</desc><desc class=\"x_label\">12</desc></g><g class=\"dots\"><circle cx=\"70.10173697270471\" cy=\"324.16427313888244\" r=\"2.5\" class=\"dot reactive tooltip-trigger\"/><desc class=\"value\">0.9591806405</desc><desc class=\"x top\">70.10173697270471</desc><desc class=\"y top\">324.16427313888244</desc><desc class=\"x_label\">13</desc></g><g class=\"dots\"><circle cx=\"74.63027295285359\" cy=\"393.78054832673047\" r=\"2.5\" class=\"dot reactive tooltip-trigger\"/><desc class=\"value\">0.6312689454</desc><desc class=\"x top\">74.63027295285359</desc><desc class=\"y top\">393.78054832673047</desc><desc class=\"x_label\">14</desc></g><g class=\"dots\"><circle cx=\"79.15880893300248\" cy=\"388.1976398652089\" r=\"2.5\" class=\"dot reactive tooltip-trigger\"/><desc class=\"value\">0.6575659711</desc><desc class=\"x top\">79.15880893300248</desc><desc class=\"y top\">388.1976398652089</desc><desc class=\"x_label\">15</desc></g><g class=\"dots\"><circle cx=\"83.68734491315136\" cy=\"317.617398296646\" r=\"2.5\" class=\"dot reactive tooltip-trigger\"/><desc class=\"value\">0.9900182115</desc><desc class=\"x top\">83.68734491315136</desc><desc class=\"y top\">317.617398296646</desc><desc class=\"x_label\">16</desc></g><g class=\"dots\"><circle cx=\"88.21588089330024\" cy=\"215.77921098965334\" r=\"2.5\" class=\"dot reactive tooltip-trigger\"/><desc class=\"value\">1.469703925</desc><desc class=\"x \">88.21588089330024</desc><desc class=\"y \">215.77921098965334</desc><desc class=\"x_label\">17</desc></g><g class=\"dots\"><circle cx=\"92.74441687344913\" cy=\"427.8374008751402\" r=\"2.5\" class=\"dot reactive tooltip-trigger\"/><desc class=\"value\">0.4708518558</desc><desc class=\"x top\">92.74441687344913</desc><desc class=\"y top\">427.8374008751402</desc><desc class=\"x_label\">18</desc></g><g class=\"dots\"><circle cx=\"97.272952853598\" cy=\"422.50493841455966\" r=\"2.5\" class=\"dot reactive tooltip-trigger\"/><desc class=\"value\">0.4959692124</desc><desc class=\"x top\">97.272952853598</desc><desc class=\"y top\">422.50493841455966</desc><desc class=\"x_label\">19</desc></g><g class=\"dots\"><circle cx=\"101.80148883374689\" cy=\"356.93046497107787\" r=\"2.5\" class=\"dot reactive tooltip-trigger\"/><desc class=\"value\">0.8048429159</desc><desc class=\"x top\">101.80148883374689</desc><desc class=\"y top\">356.93046497107787</desc><desc class=\"x_label\">20</desc></g><g class=\"dots\"><circle cx=\"106.33002481389576\" cy=\"407.7238388519445\" r=\"2.5\" class=\"dot reactive tooltip-trigger\"/><desc class=\"value\">0.5655922337</desc><desc class=\"x top\">106.33002481389576</desc><desc class=\"y top\">407.7238388519445</desc><desc class=\"x_label\">21</desc></g><g class=\"dots\"><circle cx=\"110.85856079404466\" cy=\"369.3134520593685\" r=\"2.5\" class=\"dot reactive tooltip-trigger\"/><desc class=\"value\">0.7465156602</desc><desc class=\"x top\">110.85856079404466</desc><desc class=\"y top\">369.3134520593685</desc><desc class=\"x_label\">22</desc></g><g class=\"dots\"><circle cx=\"115.38709677419354\" cy=\"327.4692290058763\" r=\"2.5\" class=\"dot reactive tooltip-trigger\"/><desc class=\"value\">0.9436133945</desc><desc class=\"x top\">115.38709677419354</desc><desc class=\"y top\">327.4692290058763</desc><desc class=\"x_label\">23</desc></g><g class=\"dots\"><circle cx=\"119.91563275434243\" cy=\"369.2389119288573\" r=\"2.5\" class=\"dot reactive tooltip-trigger\"/><desc class=\"value\">0.7468667646</desc><desc class=\"x top\">119.91563275434243</desc><desc class=\"y top\">369.2389119288573</desc><desc class=\"x_label\">24</desc></g><g class=\"dots\"><circle cx=\"124.4441687344913\" cy=\"323.87139492918436\" r=\"2.5\" class=\"dot reactive tooltip-trigger\"/><desc class=\"value\">0.960560177</desc><desc class=\"x top\">124.4441687344913</desc><desc class=\"y top\">323.87139492918436</desc><desc class=\"x_label\">25</desc></g><g class=\"dots\"><circle cx=\"128.9727047146402\" cy=\"360.92832861259524\" r=\"2.5\" class=\"dot reactive tooltip-trigger\"/><desc class=\"value\">0.7860118848</desc><desc class=\"x top\">128.9727047146402</desc><desc class=\"y top\">360.92832861259524</desc><desc class=\"x_label\">26</desc></g><g class=\"dots\"><circle cx=\"133.5012406947891\" cy=\"394.43284563431484\" r=\"2.5\" class=\"dot reactive tooltip-trigger\"/><desc class=\"value\">0.6281964467</desc><desc class=\"x top\">133.5012406947891</desc><desc class=\"y top\">394.43284563431484</desc><desc class=\"x_label\">27</desc></g><g class=\"dots\"><circle cx=\"138.02977667493795\" cy=\"380.5858745513983\" r=\"2.5\" class=\"dot reactive tooltip-trigger\"/><desc class=\"value\">0.6934194674</desc><desc class=\"x top\">138.02977667493795</desc><desc class=\"y top\">380.5858745513983</desc><desc class=\"x_label\">28</desc></g><g class=\"dots\"><circle cx=\"142.55831265508684\" cy=\"225.1889041975515\" r=\"2.5\" class=\"dot reactive tooltip-trigger\"/><desc class=\"value\">1.425381697</desc><desc class=\"x \">142.55831265508684</desc><desc class=\"y \">225.1889041975515</desc><desc class=\"x_label\">29</desc></g><g class=\"dots\"><circle cx=\"147.08684863523575\" cy=\"270.38671708184415\" r=\"2.5\" class=\"dot reactive tooltip-trigger\"/><desc class=\"value\">1.212487637</desc><desc class=\"x top\">147.08684863523575</desc><desc class=\"y top\">270.38671708184415</desc><desc class=\"x_label\">30</desc></g><g class=\"dots\"><circle cx=\"151.6153846153846\" cy=\"350.88826674155206\" r=\"2.5\" class=\"dot reactive tooltip-trigger\"/><desc class=\"value\">0.8333033221</desc><desc class=\"x top\">151.6153846153846</desc><desc class=\"y top\">350.88826674155206</desc><desc class=\"x_label\">31</desc></g><g class=\"dots\"><circle cx=\"156.1439205955335\" cy=\"392.90938717293386\" r=\"2.5\" class=\"dot reactive tooltip-trigger\"/><desc class=\"value\">0.6353723527</desc><desc class=\"x top\">156.1439205955335</desc><desc class=\"y top\">392.90938717293386</desc><desc class=\"x_label\">32</desc></g><g class=\"dots\"><circle cx=\"160.67245657568236\" cy=\"282.3095172256628\" r=\"2.5\" class=\"dot reactive tooltip-trigger\"/><desc class=\"value\">1.156327988</desc><desc class=\"x top\">160.67245657568236</desc><desc class=\"y top\">282.3095172256628</desc><desc class=\"x_label\">33</desc></g><g class=\"dots\"><circle cx=\"165.20099255583125\" cy=\"193.65504073833682\" r=\"2.5\" class=\"dot reactive tooltip-trigger\"/><desc class=\"value\">1.573914817</desc><desc class=\"x \">165.20099255583125</desc><desc class=\"y \">193.65504073833682</desc><desc class=\"x_label\">34</desc></g><g class=\"dots\"><circle cx=\"169.7295285359802\" cy=\"279.2556164904077\" r=\"2.5\" class=\"dot reactive tooltip-trigger\"/><desc class=\"value\">1.170712695</desc><desc class=\"x top\">169.7295285359802</desc><desc class=\"y top\">279.2556164904077</desc><desc class=\"x_label\">35</desc></g><g class=\"dots\"><circle cx=\"174.25806451612905\" cy=\"115.26010984012362\" r=\"2.5\" class=\"dot reactive tooltip-trigger\"/><desc class=\"value\">1.943176382</desc><desc class=\"x \">174.25806451612905</desc><desc class=\"y \">115.26010984012362</desc><desc class=\"x_label\">36</desc></g><g class=\"dots\"><circle cx=\"178.78660049627794\" cy=\"405.1874101451032\" r=\"2.5\" class=\"dot reactive tooltip-trigger\"/><desc class=\"value\">0.5775395066</desc><desc class=\"x top\">178.78660049627794</desc><desc class=\"y top\">405.1874101451032</desc><desc class=\"x_label\">37</desc></g><g class=\"dots\"><circle cx=\"183.3151364764268\" cy=\"366.1508388714353\" r=\"2.5\" class=\"dot reactive tooltip-trigger\"/><desc class=\"value\">0.7614124332</desc><desc class=\"x top\">183.3151364764268</desc><desc class=\"y top\">366.1508388714353</desc><desc class=\"x_label\">38</desc></g><g class=\"dots\"><circle cx=\"187.8436724565757\" cy=\"372.9280222832034\" r=\"2.5\" class=\"dot reactive tooltip-trigger\"/><desc class=\"value\">0.7294900459</desc><desc class=\"x top\">187.8436724565757</desc><desc class=\"y top\">372.9280222832034</desc><desc class=\"x_label\">39</desc></g><g class=\"dots\"><circle cx=\"192.37220843672455\" cy=\"371.0233872939313\" r=\"2.5\" class=\"dot reactive tooltip-trigger\"/><desc class=\"value\">0.7384613976</desc><desc class=\"x top\">192.37220843672455</desc><desc class=\"y top\">371.0233872939313</desc><desc class=\"x_label\">40</desc></g><g class=\"dots\"><circle cx=\"196.90074441687344\" cy=\"331.86377029448494\" r=\"2.5\" class=\"dot reactive tooltip-trigger\"/><desc class=\"value\">0.9229139032</desc><desc class=\"x top\">196.90074441687344</desc><desc class=\"y top\">331.86377029448494</desc><desc class=\"x_label\">41</desc></g><g class=\"dots\"><circle cx=\"201.4292803970223\" cy=\"392.8003462564057\" r=\"2.5\" class=\"dot reactive tooltip-trigger\"/><desc class=\"value\">0.6358859652</desc><desc class=\"x top\">201.4292803970223</desc><desc class=\"y top\">392.8003462564057</desc><desc class=\"x_label\">42</desc></g><g class=\"dots\"><circle cx=\"205.95781637717124\" cy=\"371.84417436894034\" r=\"2.5\" class=\"dot reactive tooltip-trigger\"/><desc class=\"value\">0.734595266</desc><desc class=\"x top\">205.95781637717124</desc><desc class=\"y top\">371.84417436894034</desc><desc class=\"x_label\">43</desc></g><g class=\"dots\"><circle cx=\"210.48635235732013\" cy=\"331.5590816653106\" r=\"2.5\" class=\"dot reactive tooltip-trigger\"/><desc class=\"value\">0.92434907</desc><desc class=\"x top\">210.48635235732013</desc><desc class=\"y top\">331.5590816653106</desc><desc class=\"x_label\">44</desc></g><g class=\"dots\"><circle cx=\"215.014888337469\" cy=\"279.1630978561737\" r=\"2.5\" class=\"dot reactive tooltip-trigger\"/><desc class=\"value\">1.171148483</desc><desc class=\"x top\">215.014888337469</desc><desc class=\"y top\">279.1630978561737</desc><desc class=\"x_label\">45</desc></g><g class=\"dots\"><circle cx=\"219.54342431761788\" cy=\"390.2179575734889\" r=\"2.5\" class=\"dot reactive tooltip-trigger\"/><desc class=\"value\">0.6480497221</desc><desc class=\"x top\">219.54342431761788</desc><desc class=\"y top\">390.2179575734889</desc><desc class=\"x_label\">46</desc></g><g class=\"dots\"><circle cx=\"224.07196029776674\" cy=\"209.78207347243375\" r=\"2.5\" class=\"dot reactive tooltip-trigger\"/><desc class=\"value\">1.497952083</desc><desc class=\"x \">224.07196029776674</desc><desc class=\"y \">209.78207347243375</desc><desc class=\"x_label\">47</desc></g><g class=\"dots\"><circle cx=\"228.60049627791562\" cy=\"377.82690276908176\" r=\"2.5\" class=\"dot reactive tooltip-trigger\"/><desc class=\"value\">0.706414979</desc><desc class=\"x top\">228.60049627791562</desc><desc class=\"y top\">377.82690276908176</desc><desc class=\"x_label\">48</desc></g><g class=\"dots\"><circle cx=\"233.1290322580645\" cy=\"368.45073549606\" r=\"2.5\" class=\"dot reactive tooltip-trigger\"/><desc class=\"value\">0.7505792911</desc><desc class=\"x top\">233.1290322580645</desc><desc class=\"y top\">368.45073549606</desc><desc class=\"x_label\">49</desc></g><g class=\"dots\"><circle cx=\"237.65756823821337\" cy=\"240.5507396325646\" r=\"2.5\" class=\"dot reactive tooltip-trigger\"/><desc class=\"value\">1.35302325</desc><desc class=\"x \">237.65756823821337</desc><desc class=\"y \">240.5507396325646</desc><desc class=\"x_label\">50</desc></g><g class=\"dots\"><circle cx=\"242.18610421836232\" cy=\"275.1802108598793\" r=\"2.5\" class=\"dot reactive tooltip-trigger\"/><desc class=\"value\">1.18990897</desc><desc class=\"x top\">242.18610421836232</desc><desc class=\"y top\">275.1802108598793</desc><desc class=\"x_label\">51</desc></g><g class=\"dots\"><circle cx=\"246.7146401985112\" cy=\"355.7697982683012\" r=\"2.5\" class=\"dot reactive tooltip-trigger\"/><desc class=\"value\">0.8103099735</desc><desc class=\"x top\">246.7146401985112</desc><desc class=\"y top\">355.7697982683012</desc><desc class=\"x_label\">52</desc></g><g class=\"dots\"><circle cx=\"251.24317617866006\" cy=\"451.6950438334692\" r=\"2.5\" class=\"dot reactive tooltip-trigger\"/><desc class=\"value\">0.3584758328</desc><desc class=\"x top\">251.24317617866006</desc><desc class=\"y top\">451.6950438334692</desc><desc class=\"x_label\">53</desc></g><g class=\"dots\"><circle cx=\"255.77171215880892\" cy=\"437.41109642319566\" r=\"2.5\" class=\"dot reactive tooltip-trigger\"/><desc class=\"value\">0.4257571315</desc><desc class=\"x top\">255.77171215880892</desc><desc class=\"y top\">437.41109642319566</desc><desc class=\"x_label\">54</desc></g><g class=\"dots\"><circle cx=\"260.30024813895784\" cy=\"344.25530043373436\" r=\"2.5\" class=\"dot reactive tooltip-trigger\"/><desc class=\"value\">0.8645464074</desc><desc class=\"x top\">260.30024813895784</desc><desc class=\"y top\">344.25530043373436</desc><desc class=\"x_label\">55</desc></g><g class=\"dots\"><circle cx=\"264.82878411910673\" cy=\"179.10363232963124\" r=\"2.5\" class=\"dot reactive tooltip-trigger\"/><desc class=\"value\">1.642455931</desc><desc class=\"x \">264.82878411910673</desc><desc class=\"y \">179.10363232963124</desc><desc class=\"x_label\">56</desc></g><g class=\"dots\"><circle cx=\"269.35732009925556\" cy=\"82.91822600510534\" r=\"2.5\" class=\"dot reactive tooltip-trigger\"/><desc class=\"value\">2.0955155</desc><desc class=\"x \">269.35732009925556</desc><desc class=\"y \">82.91822600510534</desc><desc class=\"x_label\">57</desc></g><g class=\"dots\"><circle cx=\"273.88585607940445\" cy=\"339.4911836326761\" r=\"2.5\" class=\"dot reactive tooltip-trigger\"/><desc class=\"value\">0.8869867004</desc><desc class=\"x top\">273.88585607940445</desc><desc class=\"y top\">339.4911836326761</desc><desc class=\"x_label\">58</desc></g><g class=\"dots\"><circle cx=\"278.41439205955334\" cy=\"415.53034757683315\" r=\"2.5\" class=\"dot reactive tooltip-trigger\"/><desc class=\"value\">0.5288214427</desc><desc class=\"x top\">278.41439205955334</desc><desc class=\"y top\">415.53034757683315</desc><desc class=\"x_label\">59</desc></g><g class=\"dots\"><circle cx=\"282.9429280397022\" cy=\"400.10028261759817\" r=\"2.5\" class=\"dot reactive tooltip-trigger\"/><desc class=\"value\">0.6015012685</desc><desc class=\"x top\">282.9429280397022</desc><desc class=\"y top\">400.10028261759817</desc><desc class=\"x_label\">60</desc></g><g class=\"dots\"><circle cx=\"287.4714640198511\" cy=\"310.19373347219494\" r=\"2.5\" class=\"dot reactive tooltip-trigger\"/><desc class=\"value\">1.024985703</desc><desc class=\"x top\">287.4714640198511</desc><desc class=\"y top\">310.19373347219494</desc><desc class=\"x_label\">61</desc></g><g class=\"dots\"><circle cx=\"292.0\" cy=\"307.45093885642297\" r=\"2.5\" class=\"dot reactive tooltip-trigger\"/><desc class=\"value\">1.037905016</desc><desc class=\"x top\">292.0</desc><desc class=\"y top\">307.45093885642297</desc><desc class=\"x_label\">62</desc></g><g class=\"dots\"><circle cx=\"296.5285359801489\" cy=\"406.9588729226502\" r=\"2.5\" class=\"dot reactive tooltip-trigger\"/><desc class=\"value\">0.5691954325</desc><desc class=\"x left top\">296.5285359801489</desc><desc class=\"y left top\">406.9588729226502</desc><desc class=\"x_label\">63</desc></g><g class=\"dots\"><circle cx=\"301.0570719602978\" cy=\"365.14750199879444\" r=\"2.5\" class=\"dot reactive tooltip-trigger\"/><desc class=\"value\">0.7661384243</desc><desc class=\"x left top\">301.0570719602978</desc><desc class=\"y left top\">365.14750199879444</desc><desc class=\"x_label\">64</desc></g><g class=\"dots\"><circle cx=\"305.58560794044666\" cy=\"250.37407720359005\" r=\"2.5\" class=\"dot reactive tooltip-trigger\"/><desc class=\"value\">1.306752644</desc><desc class=\"x left\">305.58560794044666</desc><desc class=\"y left\">250.37407720359005</desc><desc class=\"x_label\">65</desc></g><g class=\"dots\"><circle cx=\"310.1141439205955\" cy=\"393.43028103691086\" r=\"2.5\" class=\"dot reactive tooltip-trigger\"/><desc class=\"value\">0.6329188001</desc><desc class=\"x left top\">310.1141439205955</desc><desc class=\"y left top\">393.43028103691086</desc><desc class=\"x_label\">66</desc></g><g class=\"dots\"><circle cx=\"314.6426799007444\" cy=\"356.44025629176053\" r=\"2.5\" class=\"dot reactive tooltip-trigger\"/><desc class=\"value\">0.8071519329</desc><desc class=\"x left top\">314.6426799007444</desc><desc class=\"y left top\">356.44025629176053</desc><desc class=\"x_label\">67</desc></g><g class=\"dots\"><circle cx=\"319.17121588089327\" cy=\"260.41016557486785\" r=\"2.5\" class=\"dot reactive tooltip-trigger\"/><desc class=\"value\">1.259479923</desc><desc class=\"x left top\">319.17121588089327</desc><desc class=\"y left top\">260.41016557486785</desc><desc class=\"x_label\">68</desc></g><g class=\"dots\"><circle cx=\"323.69975186104216\" cy=\"371.18564570182355\" r=\"2.5\" class=\"dot reactive tooltip-trigger\"/><desc class=\"value\">0.7376971161</desc><desc class=\"x left top\">323.69975186104216</desc><desc class=\"y left top\">371.18564570182355</desc><desc class=\"x_label\">69</desc></g><g class=\"dots\"><circle cx=\"328.22828784119105\" cy=\"341.8597186326904\" r=\"2.5\" class=\"dot reactive tooltip-trigger\"/><desc class=\"value\">0.8758302528</desc><desc class=\"x left top\">328.22828784119105</desc><desc class=\"y left top\">341.8597186326904</desc><desc class=\"x_label\">70</desc></g><g class=\"dots\"><circle cx=\"332.75682382134\" cy=\"180.6624394998944\" r=\"2.5\" class=\"dot reactive tooltip-trigger\"/><desc class=\"value\">1.635113523</desc><desc class=\"x left\">332.75682382134</desc><desc class=\"y left\">180.6624394998944</desc><desc class=\"x_label\">71</desc></g><g class=\"dots\"><circle cx=\"337.2853598014889\" cy=\"281.80144637027877\" r=\"2.5\" class=\"dot reactive tooltip-trigger\"/><desc class=\"value\">1.15872114</desc><desc class=\"x left top\">337.2853598014889</desc><desc class=\"y left top\">281.80144637027877</desc><desc class=\"x_label\">72</desc></g><g class=\"dots\"><circle cx=\"341.8138957816377\" cy=\"472.59298941394553\" r=\"2.5\" class=\"dot reactive tooltip-trigger\"/><desc class=\"value\">0.2600407938</desc><desc class=\"x left top\">341.8138957816377</desc><desc class=\"y left top\">472.59298941394553</desc><desc class=\"x_label\">73</desc></g><g class=\"dots\"><circle cx=\"346.34243176178666\" cy=\"296.17689513016495\" r=\"2.5\" class=\"dot reactive tooltip-trigger\"/><desc class=\"value\">1.091008845</desc><desc class=\"x left top\">346.34243176178666</desc><desc class=\"y left top\">296.17689513016495</desc><desc class=\"x_label\">74</desc></g><g class=\"dots\"><circle cx=\"350.8709677419355\" cy=\"333.26054540600796\" r=\"2.5\" class=\"dot reactive tooltip-trigger\"/><desc class=\"value\">0.9163347105</desc><desc class=\"x left top\">350.8709677419355</desc><desc class=\"y left top\">333.26054540600796</desc><desc class=\"x_label\">75</desc></g><g class=\"dots\"><circle cx=\"355.3995037220844\" cy=\"353.7616949997026\" r=\"2.5\" class=\"dot reactive tooltip-trigger\"/><desc class=\"value\">0.8197686891</desc><desc class=\"x left top\">355.3995037220844</desc><desc class=\"y left top\">353.7616949997026</desc><desc class=\"x_label\">76</desc></g><g class=\"dots\"><circle cx=\"359.9280397022332\" cy=\"264.5896721655732\" r=\"2.5\" class=\"dot reactive tooltip-trigger\"/><desc class=\"value\">1.239793304</desc><desc class=\"x left top\">359.9280397022332</desc><desc class=\"y left top\">264.5896721655732</desc><desc class=\"x_label\">77</desc></g><g class=\"dots\"><circle cx=\"364.45657568238215\" cy=\"213.9559427417728\" r=\"2.5\" class=\"dot reactive tooltip-trigger\"/><desc class=\"value\">1.478292017</desc><desc class=\"x left\">364.45657568238215</desc><desc class=\"y left\">213.9559427417728</desc><desc class=\"x_label\">78</desc></g><g class=\"dots\"><circle cx=\"368.985111662531\" cy=\"402.14554892880255\" r=\"2.5\" class=\"dot reactive tooltip-trigger\"/><desc class=\"value\">0.5918675048</desc><desc class=\"x left top\">368.985111662531</desc><desc class=\"y left top\">402.14554892880255</desc><desc class=\"x_label\">79</desc></g><g class=\"dots\"><circle cx=\"373.51364764267987\" cy=\"431.0138234341417\" r=\"2.5\" class=\"dot reactive tooltip-trigger\"/><desc class=\"value\">0.4558900369</desc><desc class=\"x left top\">373.51364764267987</desc><desc class=\"y left top\">431.0138234341417</desc><desc class=\"x_label\">80</desc></g><g class=\"dots\"><circle cx=\"378.0421836228288\" cy=\"346.8336646515156\" r=\"2.5\" class=\"dot reactive tooltip-trigger\"/><desc class=\"value\">0.8524016068</desc><desc class=\"x left top\">378.0421836228288</desc><desc class=\"y left top\">346.8336646515156</desc><desc class=\"x_label\">81</desc></g><g class=\"dots\"><circle cx=\"382.57071960297765\" cy=\"376.8821362509595\" r=\"2.5\" class=\"dot reactive tooltip-trigger\"/><desc class=\"value\">0.7108650877</desc><desc class=\"x left top\">382.57071960297765</desc><desc class=\"y left top\">376.8821362509595</desc><desc class=\"x_label\">82</desc></g><g class=\"dots\"><circle cx=\"387.09925558312653\" cy=\"321.8347770647274\" r=\"2.5\" class=\"dot reactive tooltip-trigger\"/><desc class=\"value\">0.9701532041</desc><desc class=\"x left top\">387.09925558312653</desc><desc class=\"y left top\">321.8347770647274</desc><desc class=\"x_label\">83</desc></g><g class=\"dots\"><circle cx=\"391.62779156327537\" cy=\"271.66337619563603\" r=\"2.5\" class=\"dot reactive tooltip-trigger\"/><desc class=\"value\">1.206474223</desc><desc class=\"x left top\">391.62779156327537</desc><desc class=\"y left top\">271.66337619563603</desc><desc class=\"x_label\">84</desc></g><g class=\"dots\"><circle cx=\"396.1563275434243\" cy=\"366.9747945580641\" r=\"2.5\" class=\"dot reactive tooltip-trigger\"/><desc class=\"value\">0.7575313766</desc><desc class=\"x left top\">396.1563275434243</desc><desc class=\"y left top\">366.9747945580641</desc><desc class=\"x_label\">85</desc></g><g class=\"dots\"><circle cx=\"400.6848635235732\" cy=\"352.6731993305774\" r=\"2.5\" class=\"dot reactive tooltip-trigger\"/><desc class=\"value\">0.8248958014</desc><desc class=\"x left top\">400.6848635235732</desc><desc class=\"y left top\">352.6731993305774</desc><desc class=\"x_label\">86</desc></g><g class=\"dots\"><circle cx=\"405.2133995037221\" cy=\"375.06875147013244\" r=\"2.5\" class=\"dot reactive tooltip-trigger\"/><desc class=\"value\">0.719406626</desc><desc class=\"x left top\">405.2133995037221</desc><desc class=\"y left top\">375.06875147013244</desc><desc class=\"x_label\">87</desc></g><g class=\"dots\"><circle cx=\"409.741935483871\" cy=\"234.64933532525612\" r=\"2.5\" class=\"dot reactive tooltip-trigger\"/><desc class=\"value\">1.380820479</desc><desc class=\"x left\">409.741935483871</desc><desc class=\"y left\">234.64933532525612</desc><desc class=\"x_label\">88</desc></g><g class=\"dots\"><circle cx=\"414.27047146401986\" cy=\"402.6611363265295\" r=\"2.5\" class=\"dot reactive tooltip-trigger\"/><desc class=\"value\">0.5894389472</desc><desc class=\"x left top\">414.27047146401986</desc><desc class=\"y left top\">402.6611363265295</desc><desc class=\"x_label\">89</desc></g><g class=\"dots\"><circle cx=\"418.79900744416875\" cy=\"104.9010486231079\" r=\"2.5\" class=\"dot reactive tooltip-trigger\"/><desc class=\"value\">1.991970393</desc><desc class=\"x left\">418.79900744416875</desc><desc class=\"y left\">104.9010486231079</desc><desc class=\"x_label\">90</desc></g><g class=\"dots\"><circle cx=\"423.3275434243176\" cy=\"331.7661350416113\" r=\"2.5\" class=\"dot reactive tooltip-trigger\"/><desc class=\"value\">0.923373792</desc><desc class=\"x left top\">423.3275434243176</desc><desc class=\"y left top\">331.7661350416113</desc><desc class=\"x_label\">91</desc></g><g class=\"dots\"><circle cx=\"427.8560794044665\" cy=\"386.73944436672537\" r=\"2.5\" class=\"dot reactive tooltip-trigger\"/><desc class=\"value\">0.6644344707</desc><desc class=\"x left top\">427.8560794044665</desc><desc class=\"y left top\">386.73944436672537</desc><desc class=\"x_label\">92</desc></g><g class=\"dots\"><circle cx=\"432.38461538461536\" cy=\"419.24848601992085\" r=\"2.5\" class=\"dot reactive tooltip-trigger\"/><desc class=\"value\">0.5113079937</desc><desc class=\"x left top\">432.38461538461536</desc><desc class=\"y left top\">419.24848601992085</desc><desc class=\"x_label\">93</desc></g><g class=\"dots\"><circle cx=\"436.91315136476425\" cy=\"312.4406577371346\" r=\"2.5\" class=\"dot reactive tooltip-trigger\"/><desc class=\"value\">1.014402075</desc><desc class=\"x left top\">436.91315136476425</desc><desc class=\"y left top\">312.4406577371346</desc><desc class=\"x_label\">94</desc></g><g class=\"dots\"><circle cx=\"441.44168734491313\" cy=\"377.9612861985253\" r=\"2.5\" class=\"dot reactive tooltip-trigger\"/><desc class=\"value\">0.7057819963</desc><desc class=\"x left top\">441.44168734491313</desc><desc class=\"y left top\">377.9612861985253</desc><desc class=\"x_label\">95</desc></g><g class=\"dots\"><circle cx=\"445.970223325062\" cy=\"174.22435039386448\" r=\"2.5\" class=\"dot reactive tooltip-trigger\"/><desc class=\"value\">1.665438683</desc><desc class=\"x left\">445.970223325062</desc><desc class=\"y left\">174.22435039386448</desc><desc class=\"x_label\">96</desc></g><g class=\"dots\"><circle cx=\"450.4987593052109\" cy=\"368.88869723295056\" r=\"2.5\" class=\"dot reactive tooltip-trigger\"/><desc class=\"value\">0.7485163716</desc><desc class=\"x left top\">450.4987593052109</desc><desc class=\"y left top\">368.88869723295056</desc><desc class=\"x_label\">97</desc></g><g class=\"dots\"><circle cx=\"455.02729528535974\" cy=\"466.08350225091306\" r=\"2.5\" class=\"dot reactive tooltip-trigger\"/><desc class=\"value\">0.2907022586</desc><desc class=\"x left top\">455.02729528535974</desc><desc class=\"y left top\">466.08350225091306</desc><desc class=\"x_label\">98</desc></g><g class=\"dots\"><circle cx=\"459.5558312655087\" cy=\"254.58641284012378\" r=\"2.5\" class=\"dot reactive tooltip-trigger\"/><desc class=\"value\">1.286911391</desc><desc class=\"x left\">459.5558312655087</desc><desc class=\"y left\">254.58641284012378</desc><desc class=\"x_label\">99</desc></g><g class=\"dots\"><circle cx=\"464.0843672456575\" cy=\"274.72195944436197\" r=\"2.5\" class=\"dot reactive tooltip-trigger\"/><desc class=\"value\">1.19206746</desc><desc class=\"x left top\">464.0843672456575</desc><desc class=\"y left top\">274.72195944436197</desc><desc class=\"x_label\">100</desc></g><g class=\"dots\"><circle cx=\"468.61290322580646\" cy=\"334.17328633649737\" r=\"2.5\" class=\"dot reactive tooltip-trigger\"/><desc class=\"value\">0.9120354511</desc><desc class=\"x left top\">468.61290322580646</desc><desc class=\"y left top\">334.17328633649737</desc><desc class=\"x_label\">101</desc></g><g class=\"dots\"><circle cx=\"473.14143920595535\" cy=\"422.2990989133624\" r=\"2.5\" class=\"dot reactive tooltip-trigger\"/><desc class=\"value\">0.4969387727</desc><desc class=\"x left top\">473.14143920595535</desc><desc class=\"y left top\">422.2990989133624</desc><desc class=\"x_label\">102</desc></g><g class=\"dots\"><circle cx=\"477.66997518610424\" cy=\"230.51969450953737\" r=\"2.5\" class=\"dot reactive tooltip-trigger\"/><desc class=\"value\">1.400272216</desc><desc class=\"x left\">477.66997518610424</desc><desc class=\"y left\">230.51969450953737</desc><desc class=\"x_label\">103</desc></g><g class=\"dots\"><circle cx=\"482.19851116625307\" cy=\"292.8873524008958\" r=\"2.5\" class=\"dot reactive tooltip-trigger\"/><desc class=\"value\">1.106503491</desc><desc class=\"x left top\">482.19851116625307</desc><desc class=\"y left top\">292.8873524008958</desc><desc class=\"x_label\">104</desc></g><g class=\"dots\"><circle cx=\"486.727047146402\" cy=\"365.811311969755\" r=\"2.5\" class=\"dot reactive tooltip-trigger\"/><desc class=\"value\">0.7630116978</desc><desc class=\"x left top\">486.727047146402</desc><desc class=\"y left top\">365.811311969755</desc><desc class=\"x_label\">105</desc></g><g class=\"dots\"><circle cx=\"491.2555831265509\" cy=\"347.8031878504463\" r=\"2.5\" class=\"dot reactive tooltip-trigger\"/><desc class=\"value\">0.8478348874</desc><desc class=\"x left top\">491.2555831265509</desc><desc class=\"y left top\">347.8031878504463</desc><desc class=\"x_label\">106</desc></g><g class=\"dots\"><circle cx=\"495.78411910669973\" cy=\"325.84122972239845\" r=\"2.5\" class=\"dot reactive tooltip-trigger\"/><desc class=\"value\">0.9512817164</desc><desc class=\"x left top\">495.78411910669973</desc><desc class=\"y left top\">325.84122972239845</desc><desc class=\"x_label\">107</desc></g><g class=\"dots\"><circle cx=\"500.3126550868487\" cy=\"360.5296811396962\" r=\"2.5\" class=\"dot reactive tooltip-trigger\"/><desc class=\"value\">0.7878896235</desc><desc class=\"x left top\">500.3126550868487</desc><desc class=\"y left top\">360.5296811396962</desc><desc class=\"x_label\">108</desc></g><g class=\"dots\"><circle cx=\"504.84119106699745\" cy=\"431.28116776493175\" r=\"2.5\" class=\"dot reactive tooltip-trigger\"/><desc class=\"value\">0.454630772</desc><desc class=\"x left top\">504.84119106699745</desc><desc class=\"y left top\">431.28116776493175</desc><desc class=\"x_label\">109</desc></g><g class=\"dots\"><circle cx=\"509.3697270471464\" cy=\"354.1604200281743\" r=\"2.5\" class=\"dot reactive tooltip-trigger\"/><desc class=\"value\">0.8178905852</desc><desc class=\"x left top\">509.3697270471464</desc><desc class=\"y left top\">354.1604200281743</desc><desc class=\"x_label\">110</desc></g><g class=\"dots\"><circle cx=\"513.8982630272953\" cy=\"251.7898718401168\" r=\"2.5\" class=\"dot reactive tooltip-trigger\"/><desc class=\"value\">1.300083864</desc><desc class=\"x left\">513.8982630272953</desc><desc class=\"y left\">251.7898718401168</desc><desc class=\"x_label\">111</desc></g><g class=\"dots\"><circle cx=\"518.4267990074441\" cy=\"413.2445969963686\" r=\"2.5\" class=\"dot reactive tooltip-trigger\"/><desc class=\"value\">0.539587953</desc><desc class=\"x left top\">518.4267990074441</desc><desc class=\"y left top\">413.2445969963686</desc><desc class=\"x_label\">112</desc></g><g class=\"dots\"><circle cx=\"522.955334987593\" cy=\"360.5453935248805\" r=\"2.5\" class=\"dot reactive tooltip-trigger\"/><desc class=\"value\">0.7878156138</desc><desc class=\"x left top\">522.955334987593</desc><desc class=\"y left top\">360.5453935248805</desc><desc class=\"x_label\">113</desc></g><g class=\"dots\"><circle cx=\"527.483870967742\" cy=\"281.9574596941739\" r=\"2.5\" class=\"dot reactive tooltip-trigger\"/><desc class=\"value\">1.157986275</desc><desc class=\"x left top\">527.483870967742</desc><desc class=\"y left top\">281.9574596941739</desc><desc class=\"x_label\">114</desc></g><g class=\"dots\"><circle cx=\"532.0124069478908\" cy=\"373.202157985401\" r=\"2.5\" class=\"dot reactive tooltip-trigger\"/><desc class=\"value\">0.7281987918</desc><desc class=\"x left top\">532.0124069478908</desc><desc class=\"y left top\">373.202157985401</desc><desc class=\"x_label\">115</desc></g><g class=\"dots\"><circle cx=\"536.5409429280397\" cy=\"366.1102690439732\" r=\"2.5\" class=\"dot reactive tooltip-trigger\"/><desc class=\"value\">0.7616035282</desc><desc class=\"x left top\">536.5409429280397</desc><desc class=\"y left top\">366.1102690439732</desc><desc class=\"x_label\">116</desc></g><g class=\"dots\"><circle cx=\"541.0694789081886\" cy=\"378.1774844506567\" r=\"2.5\" class=\"dot reactive tooltip-trigger\"/><desc class=\"value\">0.7047636434</desc><desc class=\"x left top\">541.0694789081886</desc><desc class=\"y left top\">378.1774844506567</desc><desc class=\"x_label\">117</desc></g><g class=\"dots\"><circle cx=\"545.5980148883375\" cy=\"154.21026200878117\" r=\"2.5\" class=\"dot reactive tooltip-trigger\"/><desc class=\"value\">1.759710513</desc><desc class=\"x left\">545.5980148883375</desc><desc class=\"y left\">154.21026200878117</desc><desc class=\"x_label\">118</desc></g><g class=\"dots\"><circle cx=\"550.1265508684863\" cy=\"393.27050669838445\" r=\"2.5\" class=\"dot reactive tooltip-trigger\"/><desc class=\"value\">0.6336713809</desc><desc class=\"x left top\">550.1265508684863</desc><desc class=\"y left top\">393.27050669838445</desc><desc class=\"x_label\">119</desc></g><g class=\"dots\"><circle cx=\"554.6550868486353\" cy=\"411.8845102248915\" r=\"2.5\" class=\"dot reactive tooltip-trigger\"/><desc class=\"value\">0.5459943337</desc><desc class=\"x left top\">554.6550868486353</desc><desc class=\"y left top\">411.8845102248915</desc><desc class=\"x_label\">120</desc></g><g class=\"dots\"><circle cx=\"559.1836228287841\" cy=\"410.04012118161927\" r=\"2.5\" class=\"dot reactive tooltip-trigger\"/><desc class=\"value\">0.5546819105</desc><desc class=\"x left top\">559.1836228287841</desc><desc class=\"y left top\">410.04012118161927</desc><desc class=\"x_label\">121</desc></g><g class=\"dots\"><circle cx=\"563.7121588089329\" cy=\"281.7120101897217\" r=\"2.5\" class=\"dot reactive tooltip-trigger\"/><desc class=\"value\">1.159142409</desc><desc class=\"x left top\">563.7121588089329</desc><desc class=\"y left top\">281.7120101897217</desc><desc class=\"x_label\">122</desc></g><g class=\"dots\"><circle cx=\"568.2406947890819\" cy=\"483.5447451594084\" r=\"2.5\" class=\"dot reactive tooltip-trigger\"/><desc class=\"value\">0.2084550291</desc><desc class=\"x left top\">568.2406947890819</desc><desc class=\"y left top\">483.5447451594084</desc><desc class=\"x_label\">123</desc></g><g class=\"dots\"><circle cx=\"572.7692307692308\" cy=\"395.3402362086315\" r=\"2.5\" class=\"dot reactive tooltip-trigger\"/><desc class=\"value\">0.6239223889</desc><desc class=\"x left top\">572.7692307692308</desc><desc class=\"y left top\">395.3402362086315</desc><desc class=\"x_label\">124</desc></g></g><g class=\"series serie-3 color-3\"><g class=\"dots\"><circle cx=\"11.23076923076923\" cy=\"382.5563552690499\" r=\"2.5\" class=\"dot reactive tooltip-trigger\"/><desc class=\"value\">0.6841379643</desc><desc class=\"x top\">11.23076923076923</desc><desc class=\"y top\">382.5563552690499</desc><desc class=\"x_label\">0</desc></g><g class=\"dots\"><circle cx=\"15.759305210918114\" cy=\"485.92476046242604\" r=\"2.5\" class=\"dot reactive tooltip-trigger\"/><desc class=\"value\">0.1972445061</desc><desc class=\"x top\">15.759305210918114</desc><desc class=\"y top\">485.92476046242604</desc><desc class=\"x_label\">1</desc></g><g class=\"dots\"><circle cx=\"20.287841191067\" cy=\"378.4019404930318\" r=\"2.5\" class=\"dot reactive tooltip-trigger\"/><desc class=\"value\">0.7037063941</desc><desc class=\"x top\">20.287841191067</desc><desc class=\"y top\">378.4019404930318</desc><desc class=\"x_label\">2</desc></g><g class=\"dots\"><circle cx=\"24.816377171215876\" cy=\"473.0450506868763\" r=\"2.5\" class=\"dot reactive tooltip-trigger\"/><desc class=\"value\">0.2579114616</desc><desc class=\"x top\">24.816377171215876</desc><desc class=\"y top\">473.0450506868763</desc><desc class=\"x_label\">3</desc></g><g class=\"dots\"><circle cx=\"29.344913151364764\" cy=\"368.89479054018454\" r=\"2.5\" class=\"dot reactive tooltip-trigger\"/><desc class=\"value\">0.7484876704</desc><desc class=\"x top\">29.344913151364764</desc><desc class=\"y top\">368.89479054018454</desc><desc class=\"x_label\">4</desc></g><g class=\"dots\"><circle cx=\"33.873449131513645\" cy=\"481.68748819937576\" r=\"2.5\" class=\"dot reactive tooltip-trigger\"/><desc class=\"value\">0.2172032173</desc><desc class=\"x top\">33.873449131513645</desc><desc class=\"y top\">481.68748819937576</desc><desc class=\"x_label\">5</desc></g><g class=\"dots\"><circle cx=\"38.401985111662526\" cy=\"328.86796256517164\" r=\"2.5\" class=\"dot reactive tooltip-trigger\"/><desc class=\"value\">0.937024977</desc><desc class=\"x top\">38.401985111662526</desc><desc class=\"y top\">328.86796256517164</desc><desc class=\"x_label\">6</desc></g><g class=\"dots\"><circle cx=\"42.930521091811414\" cy=\"412.19428491785027\" r=\"2.5\" class=\"dot reactive tooltip-trigger\"/><desc class=\"value\">0.5445352102</desc><desc class=\"x top\">42.930521091811414</desc><desc class=\"y top\">412.19428491785027</desc><desc class=\"x_label\">7</desc></g><g class=\"dots\"><circle cx=\"47.459057071960295\" cy=\"328.2438747457312\" r=\"2.5\" class=\"dot reactive tooltip-trigger\"/><desc class=\"value\">0.9399646013</desc><desc class=\"x top\">47.459057071960295</desc><desc class=\"y top\">328.2438747457312</desc><desc class=\"x_label\">8</desc></g><g class=\"dots\"><circle cx=\"51.98759305210918\" cy=\"456.6245515245119\" r=\"2.5\" class=\"dot reactive tooltip-trigger\"/><desc class=\"value\">0.3352565034</desc><desc class=\"x top\">51.98759305210918</desc><desc class=\"y top\">456.6245515245119</desc><desc class=\"x_label\">9</desc></g><g class=\"dots\"><circle cx=\"56.516129032258064\" cy=\"433.43812868363693\" r=\"2.5\" class=\"dot reactive tooltip-trigger\"/><desc class=\"value\">0.4444708961</desc><desc class=\"x top\">56.516129032258064</desc><desc class=\"y top\">433.43812868363693</desc><desc class=\"x_label\">10</desc></g><g class=\"dots\"><circle cx=\"61.04466501240695\" cy=\"305.0095376744704\" r=\"2.5\" class=\"dot reactive tooltip-trigger\"/><desc class=\"value\">1.049404683</desc><desc class=\"x top\">61.04466501240695</desc><desc class=\"y top\">305.0095376744704</desc><desc class=\"x_label\">11</desc></g><g class=\"dots\"><circle cx=\"65.57320099255584\" cy=\"426.91787377729565\" r=\"2.5\" class=\"dot reactive tooltip-trigger\"/><desc class=\"value\">0.4751830799</desc><desc class=\"x top\">65.57320099255584</desc><desc class=\"y top\">426.91787377729565</desc><desc class=\"x_label\">12</desc></g><g class=\"dots\"><circle cx=\"70.10173697270471\" cy=\"377.66347982006323\" r=\"2.5\" class=\"dot reactive tooltip-trigger\"/><desc class=\"value\">0.7071847458</desc><desc class=\"x top\">70.10173697270471</desc><desc class=\"y top\">377.66347982006323</desc><desc class=\"x_label\">13</desc></g><g class=\"dots\"><circle cx=\"74.63027295285359\" cy=\"443.03842250537264\" r=\"2.5\" class=\"dot reactive tooltip-trigger\"/><desc class=\"value\">0.3992508867</desc><desc class=\"x top\">74.63027295285359</desc><desc class=\"y top\">443.03842250537264</desc><desc class=\"x_label\">14</desc></g><g class=\"dots\"><circle cx=\"79.15880893300248\" cy=\"493.0177257972285\" r=\"2.5\" class=\"dot reactive tooltip-trigger\"/><desc class=\"value\">0.1638346996</desc><desc class=\"x top\">79.15880893300248</desc><desc class=\"y top\">493.0177257972285</desc><desc class=\"x_label\">15</desc></g><g class=\"dots\"><circle cx=\"83.68734491315136\" cy=\"365.78028894624293\" r=\"2.5\" class=\"dot reactive tooltip-trigger\"/><desc class=\"value\">0.7631578247</desc><desc class=\"x top\">83.68734491315136</desc><desc class=\"y top\">365.78028894624293</desc><desc class=\"x_label\">16</desc></g><g class=\"dots\"><circle cx=\"88.21588089330024\" cy=\"287.5846467501501\" r=\"2.5\" class=\"dot reactive tooltip-trigger\"/><desc class=\"value\">1.131480685</desc><desc class=\"x top\">88.21588089330024</desc><desc class=\"y top\">287.5846467501501</desc><desc class=\"x_label\">17</desc></g><g class=\"dots\"><circle cx=\"92.74441687344913\" cy=\"352.3028742668241\" r=\"2.5\" class=\"dot reactive tooltip-trigger\"/><desc class=\"value\">0.8266401337</desc><desc class=\"x top\">92.74441687344913</desc><desc class=\"y top\">352.3028742668241</desc><desc class=\"x_label\">18</desc></g><g class=\"dots\"><circle cx=\"97.272952853598\" cy=\"418.86651994921516\" r=\"2.5\" class=\"dot reactive tooltip-trigger\"/><desc class=\"value\">0.5131071584</desc><desc class=\"x top\">97.272952853598</desc><desc class=\"y top\">418.86651994921516</desc><desc class=\"x_label\">19</desc></g><g class=\"dots\"><circle cx=\"101.80148883374689\" cy=\"449.8430415294923\" r=\"2.5\" class=\"dot reactive tooltip-trigger\"/><desc class=\"value\">0.3671992701</desc><desc class=\"x top\">101.80148883374689</desc><desc class=\"y top\">449.8430415294923</desc><desc class=\"x_label\">20</desc></g><g class=\"dots\"><circle cx=\"106.33002481389576\" cy=\"400.7578080078775\" r=\"2.5\" class=\"dot reactive tooltip-trigger\"/><desc class=\"value\">0.5984041441</desc><desc class=\"x top\">106.33002481389576</desc><desc class=\"y top\">400.7578080078775</desc><desc class=\"x_label\">21</desc></g><g class=\"dots\"><circle cx=\"110.85856079404466\" cy=\"465.30751413886634\" r=\"2.5\" class=\"dot reactive tooltip-trigger\"/><desc class=\"value\">0.2943573748</desc><desc class=\"x top\">110.85856079404466</desc><desc class=\"y top\">465.30751413886634</desc><desc class=\"x_label\">22</desc></g><g class=\"dots\"><circle cx=\"115.38709677419354\" cy=\"401.61692929890467\" r=\"2.5\" class=\"dot reactive tooltip-trigger\"/><desc class=\"value\">0.5943574479</desc><desc class=\"x top\">115.38709677419354</desc><desc class=\"y top\">401.61692929890467</desc><desc class=\"x_label\">23</desc></g><g class=\"dots\"><circle cx=\"119.91563275434243\" cy=\"434.53812699924083\" r=\"2.5\" class=\"dot reactive tooltip-trigger\"/><desc class=\"value\">0.4392896032</desc><desc class=\"x top\">119.91563275434243</desc><desc class=\"y top\">434.53812699924083</desc><desc class=\"x_label\">24</desc></g><g class=\"dots\"><circle cx=\"124.4441687344913\" cy=\"413.9780491595063\" r=\"2.5\" class=\"dot reactive tooltip-trigger\"/><desc class=\"value\">0.5361331927</desc><desc class=\"x top\">124.4441687344913</desc><desc class=\"y top\">413.9780491595063</desc><desc class=\"x_label\">25</desc></g><g class=\"dots\"><circle cx=\"128.9727047146402\" cy=\"408.311625122875\" r=\"2.5\" class=\"dot reactive tooltip-trigger\"/><desc class=\"value\">0.5628235996</desc><desc class=\"x top\">128.9727047146402</desc><desc class=\"y top\">408.311625122875</desc><desc class=\"x_label\">26</desc></g><g class=\"dots\"><circle cx=\"133.5012406947891\" cy=\"454.8102551261293\" r=\"2.5\" class=\"dot reactive tooltip-trigger\"/><desc class=\"value\">0.3438023356</desc><desc class=\"x top\">133.5012406947891</desc><desc class=\"y top\">454.8102551261293</desc><desc class=\"x_label\">27</desc></g><g class=\"dots\"><circle cx=\"138.02977667493795\" cy=\"447.09601806856546\" r=\"2.5\" class=\"dot reactive tooltip-trigger\"/><desc class=\"value\">0.3801385019</desc><desc class=\"x top\">138.02977667493795</desc><desc class=\"y top\">447.09601806856546</desc><desc class=\"x_label\">28</desc></g><g class=\"dots\"><circle cx=\"142.55831265508684\" cy=\"350.85553477853546\" r=\"2.5\" class=\"dot reactive tooltip-trigger\"/><desc class=\"value\">0.8334574985</desc><desc class=\"x top\">142.55831265508684</desc><desc class=\"y top\">350.85553477853546</desc><desc class=\"x_label\">29</desc></g><g class=\"dots\"><circle cx=\"147.08684863523575\" cy=\"388.81043736946805\" r=\"2.5\" class=\"dot reactive tooltip-trigger\"/><desc class=\"value\">0.6546795272</desc><desc class=\"x top\">147.08684863523575</desc><desc class=\"y top\">388.81043736946805</desc><desc class=\"x_label\">30</desc></g><g class=\"dots\"><circle cx=\"151.6153846153846\" cy=\"413.0007629626153\" r=\"2.5\" class=\"dot reactive tooltip-trigger\"/><desc class=\"value\">0.540736478</desc><desc class=\"x top\">151.6153846153846</desc><desc class=\"y top\">413.0007629626153</desc><desc class=\"x_label\">31</desc></g><g class=\"dots\"><circle cx=\"156.1439205955335\" cy=\"405.910930462781\" r=\"2.5\" class=\"dot reactive tooltip-trigger\"/><desc class=\"value\">0.574131528</desc><desc class=\"x top\">156.1439205955335</desc><desc class=\"y top\">405.910930462781</desc><desc class=\"x_label\">32</desc></g><g class=\"dots\"><circle cx=\"160.67245657568236\" cy=\"455.1113918760658\" r=\"2.5\" class=\"dot reactive tooltip-trigger\"/><desc class=\"value\">0.3423838992</desc><desc class=\"x top\">160.67245657568236</desc><desc class=\"y top\">455.1113918760658</desc><desc class=\"x_label\">33</desc></g><g class=\"dots\"><circle cx=\"165.20099255583125\" cy=\"371.5764601934013\" r=\"2.5\" class=\"dot reactive tooltip-trigger\"/><desc class=\"value\">0.735856273</desc><desc class=\"x top\">165.20099255583125</desc><desc class=\"y top\">371.5764601934013</desc><desc class=\"x_label\">34</desc></g><g class=\"dots\"><circle cx=\"169.7295285359802\" cy=\"92.8756043450125\" r=\"2.5\" class=\"dot reactive tooltip-trigger\"/><desc class=\"value\">2.048613525</desc><desc class=\"x \">169.7295285359802</desc><desc class=\"y \">92.8756043450125</desc><desc class=\"x_label\">35</desc></g><g class=\"dots\"><circle cx=\"174.25806451612905\" cy=\"204.01861829817386\" r=\"2.5\" class=\"dot reactive tooltip-trigger\"/><desc class=\"value\">1.525099533</desc><desc class=\"x \">174.25806451612905</desc><desc class=\"y \">204.01861829817386</desc><desc class=\"x_label\">36</desc></g><g class=\"dots\"><circle cx=\"178.78660049627794\" cy=\"455.4809967544419\" r=\"2.5\" class=\"dot reactive tooltip-trigger\"/><desc class=\"value\">0.3406429591</desc><desc class=\"x top\">178.78660049627794</desc><desc class=\"y top\">455.4809967544419</desc><desc class=\"x_label\">37</desc></g><g class=\"dots\"><circle cx=\"183.3151364764268\" cy=\"420.4691527418569\" r=\"2.5\" class=\"dot reactive tooltip-trigger\"/><desc class=\"value\">0.5055583196</desc><desc class=\"x top\">183.3151364764268</desc><desc class=\"y top\">420.4691527418569</desc><desc class=\"x_label\">38</desc></g><g class=\"dots\"><circle cx=\"187.8436724565757\" cy=\"333.21783994150826\" r=\"2.5\" class=\"dot reactive tooltip-trigger\"/><desc class=\"value\">0.9165358649</desc><desc class=\"x top\">187.8436724565757</desc><desc class=\"y top\">333.21783994150826</desc><desc class=\"x_label\">39</desc></g><g class=\"dots\"><circle cx=\"192.37220843672455\" cy=\"386.315679385932\" r=\"2.5\" class=\"dot reactive tooltip-trigger\"/><desc class=\"value\">0.6664305196</desc><desc class=\"x top\">192.37220843672455</desc><desc class=\"y top\">386.315679385932</desc><desc class=\"x_label\">40</desc></g><g class=\"dots\"><circle cx=\"196.90074441687344\" cy=\"408.79662942102414\" r=\"2.5\" class=\"dot reactive tooltip-trigger\"/><desc class=\"value\">0.5605390967</desc><desc class=\"x top\">196.90074441687344</desc><desc class=\"y top\">408.79662942102414</desc><desc class=\"x_label\">41</desc></g><g class=\"dots\"><circle cx=\"201.4292803970223\" cy=\"364.4741697605442\" r=\"2.5\" class=\"dot reactive tooltip-trigger\"/><desc class=\"value\">0.7693100033</desc><desc class=\"x top\">201.4292803970223</desc><desc class=\"y top\">364.4741697605442</desc><desc class=\"x_label\">42</desc></g><g class=\"dots\"><circle cx=\"205.95781637717124\" cy=\"430.6058892690546\" r=\"2.5\" class=\"dot reactive tooltip-trigger\"/><desc class=\"value\">0.4578115184</desc><desc class=\"x top\">205.95781637717124</desc><desc class=\"y top\">430.6058892690546</desc><desc class=\"x_label\">43</desc></g><g class=\"dots\"><circle cx=\"210.48635235732013\" cy=\"379.49319213176045\" r=\"2.5\" class=\"dot reactive tooltip-trigger\"/><desc class=\"value\">0.6985663004</desc><desc class=\"x top\">210.48635235732013</desc><desc class=\"y top\">379.49319213176045</desc><desc class=\"x_label\">44</desc></g><g class=\"dots\"><circle cx=\"215.014888337469\" cy=\"376.45277182433733\" r=\"2.5\" class=\"dot reactive tooltip-trigger\"/><desc class=\"value\">0.7128875116</desc><desc class=\"x top\">215.014888337469</desc><desc class=\"y top\">376.45277182433733</desc><desc class=\"x_label\">45</desc></g><g class=\"dots\"><circle cx=\"219.54342431761788\" cy=\"474.96453299366016\" r=\"2.5\" class=\"dot reactive tooltip-trigger\"/><desc class=\"value\">0.248870175</desc><desc class=\"x top\">219.54342431761788</desc><desc class=\"y top\">474.96453299366016</desc><desc class=\"x_label\">46</desc></g><g class=\"dots\"><circle cx=\"224.07196029776674\" cy=\"173.323271702402\" r=\"2.5\" class=\"dot reactive tooltip-trigger\"/><desc class=\"value\">1.66968301</desc><desc class=\"x \">224.07196029776674</desc><desc class=\"y \">173.323271702402</desc><desc class=\"x_label\">47</desc></g><g class=\"dots\"><circle cx=\"228.60049627791562\" cy=\"431.5360652860357\" r=\"2.5\" class=\"dot reactive tooltip-trigger\"/><desc class=\"value\">0.4534301349</desc><desc class=\"x top\">228.60049627791562</desc><desc class=\"y top\">431.5360652860357</desc><desc class=\"x_label\">48</desc></g><g class=\"dots\"><circle cx=\"233.1290322580645\" cy=\"377.2965804509198\" r=\"2.5\" class=\"dot reactive tooltip-trigger\"/><desc class=\"value\">0.7089129422</desc><desc class=\"x top\">233.1290322580645</desc><desc class=\"y top\">377.2965804509198</desc><desc class=\"x_label\">49</desc></g><g class=\"dots\"><circle cx=\"237.65756823821337\" cy=\"403.58767253156924\" r=\"2.5\" class=\"dot reactive tooltip-trigger\"/><desc class=\"value\">0.5850747083</desc><desc class=\"x top\">237.65756823821337</desc><desc class=\"y top\">403.58767253156924</desc><desc class=\"x_label\">50</desc></g><g class=\"dots\"><circle cx=\"242.18610421836232\" cy=\"267.67061311146466\" r=\"2.5\" class=\"dot reactive tooltip-trigger\"/><desc class=\"value\">1.225281229</desc><desc class=\"x top\">242.18610421836232</desc><desc class=\"y top\">267.67061311146466</desc><desc class=\"x_label\">51</desc></g><g class=\"dots\"><circle cx=\"246.7146401985112\" cy=\"409.08849022221756\" r=\"2.5\" class=\"dot reactive tooltip-trigger\"/><desc class=\"value\">0.5591643526</desc><desc class=\"x top\">246.7146401985112</desc><desc class=\"y top\">409.08849022221756</desc><desc class=\"x_label\">52</desc></g><g class=\"dots\"><circle cx=\"251.24317617866006\" cy=\"351.2977665520932\" r=\"2.5\" class=\"dot reactive tooltip-trigger\"/><desc class=\"value\">0.831374466</desc><desc class=\"x top\">251.24317617866006</desc><desc class=\"y top\">351.2977665520932</desc><desc class=\"x_label\">53</desc></g><g class=\"dots\"><circle cx=\"255.77171215880892\" cy=\"344.3763116770648\" r=\"2.5\" class=\"dot reactive tooltip-trigger\"/><desc class=\"value\">0.8639764113</desc><desc class=\"x top\">255.77171215880892</desc><desc class=\"y top\">344.3763116770648</desc><desc class=\"x_label\">54</desc></g><g class=\"dots\"><circle cx=\"260.30024813895784\" cy=\"504.11538461538464\" r=\"2.5\" class=\"dot reactive tooltip-trigger\"/><desc class=\"value\">0.1115616915</desc><desc class=\"x top\">260.30024813895784</desc><desc class=\"y top\">504.11538461538464</desc><desc class=\"x_label\">55</desc></g><g class=\"dots\"><circle cx=\"264.82878411910673\" cy=\"452.2909169273202\" r=\"2.5\" class=\"dot reactive tooltip-trigger\"/><desc class=\"value\">0.3556691075</desc><desc class=\"x top\">264.82878411910673</desc><desc class=\"y top\">452.2909169273202</desc><desc class=\"x_label\">56</desc></g><g class=\"dots\"><circle cx=\"269.35732009925556\" cy=\"375.1913696418285\" r=\"2.5\" class=\"dot reactive tooltip-trigger\"/><desc class=\"value\">0.7188290609</desc><desc class=\"x top\">269.35732009925556</desc><desc class=\"y top\">375.1913696418285</desc><desc class=\"x_label\">57</desc></g><g class=\"dots\"><circle cx=\"273.88585607940445\" cy=\"344.8413317952918\" r=\"2.5\" class=\"dot reactive tooltip-trigger\"/><desc class=\"value\">0.8617860394</desc><desc class=\"x top\">273.88585607940445</desc><desc class=\"y top\">344.8413317952918</desc><desc class=\"x_label\">58</desc></g><g class=\"dots\"><circle cx=\"278.41439205955334\" cy=\"469.8510131387737\" r=\"2.5\" class=\"dot reactive tooltip-trigger\"/><desc class=\"value\">0.272956252</desc><desc class=\"x top\">278.41439205955334</desc><desc class=\"y top\">469.8510131387737</desc><desc class=\"x_label\">59</desc></g><g class=\"dots\"><circle cx=\"282.9429280397022\" cy=\"439.99610340462885\" r=\"2.5\" class=\"dot reactive tooltip-trigger\"/><desc class=\"value\">0.4135810417</desc><desc class=\"x top\">282.9429280397022</desc><desc class=\"y top\">439.99610340462885</desc><desc class=\"x_label\">60</desc></g><g class=\"dots\"><circle cx=\"287.4714640198511\" cy=\"409.49606452854306\" r=\"2.5\" class=\"dot reactive tooltip-trigger\"/><desc class=\"value\">0.5572445661</desc><desc class=\"x top\">287.4714640198511</desc><desc class=\"y top\">409.49606452854306</desc><desc class=\"x_label\">61</desc></g><g class=\"dots\"><circle cx=\"292.0\" cy=\"372.28614186983793\" r=\"2.5\" class=\"dot reactive tooltip-trigger\"/><desc class=\"value\">0.7325134782</desc><desc class=\"x top\">292.0</desc><desc class=\"y top\">372.28614186983793</desc><desc class=\"x_label\">62</desc></g><g class=\"dots\"><circle cx=\"296.5285359801489\" cy=\"423.82347063208175\" r=\"2.5\" class=\"dot reactive tooltip-trigger\"/><desc class=\"value\">0.489758565</desc><desc class=\"x left top\">296.5285359801489</desc><desc class=\"y left top\">423.82347063208175</desc><desc class=\"x_label\">63</desc></g><g class=\"dots\"><circle cx=\"301.0570719602978\" cy=\"425.2111034862396\" r=\"2.5\" class=\"dot reactive tooltip-trigger\"/><desc class=\"value\">0.4832224348</desc><desc class=\"x left top\">301.0570719602978</desc><desc class=\"y left top\">425.2111034862396</desc><desc class=\"x_label\">64</desc></g><g class=\"dots\"><circle cx=\"305.58560794044666\" cy=\"307.1309005596228\" r=\"2.5\" class=\"dot reactive tooltip-trigger\"/><desc class=\"value\">1.039412484</desc><desc class=\"x left top\">305.58560794044666</desc><desc class=\"y left top\">307.1309005596228</desc><desc class=\"x_label\">65</desc></g><g class=\"dots\"><circle cx=\"310.1141439205955\" cy=\"352.86578394205446\" r=\"2.5\" class=\"dot reactive tooltip-trigger\"/><desc class=\"value\">0.8239886752</desc><desc class=\"x left top\">310.1141439205955</desc><desc class=\"y left top\">352.86578394205446</desc><desc class=\"x_label\">66</desc></g><g class=\"dots\"><circle cx=\"314.6426799007444\" cy=\"398.60712220504945\" r=\"2.5\" class=\"dot reactive tooltip-trigger\"/><desc class=\"value\">0.6085344624</desc><desc class=\"x left top\">314.6426799007444</desc><desc class=\"y left top\">398.60712220504945</desc><desc class=\"x_label\">67</desc></g><g class=\"dots\"><circle cx=\"319.17121588089327\" cy=\"181.01913960473325\" r=\"2.5\" class=\"dot reactive tooltip-trigger\"/><desc class=\"value\">1.633433368</desc><desc class=\"x left\">319.17121588089327</desc><desc class=\"y left\">181.01913960473325</desc><desc class=\"x_label\">68</desc></g><g class=\"dots\"><circle cx=\"323.69975186104216\" cy=\"383.80436449869273\" r=\"2.5\" class=\"dot reactive tooltip-trigger\"/><desc class=\"value\">0.6782594995</desc><desc class=\"x left top\">323.69975186104216</desc><desc class=\"y left top\">383.80436449869273</desc><desc class=\"x_label\">69</desc></g><g class=\"dots\"><circle cx=\"328.22828784119105\" cy=\"325.72888842236296\" r=\"2.5\" class=\"dot reactive tooltip-trigger\"/><desc class=\"value\">0.9518108747</desc><desc class=\"x left top\">328.22828784119105</desc><desc class=\"y left top\">325.72888842236296</desc><desc class=\"x_label\">70</desc></g><g class=\"dots\"><circle cx=\"332.75682382134\" cy=\"148.05627314085717\" r=\"2.5\" class=\"dot reactive tooltip-trigger\"/><desc class=\"value\">1.788697483</desc><desc class=\"x left\">332.75682382134</desc><desc class=\"y left\">148.05627314085717</desc><desc class=\"x_label\">71</desc></g><g class=\"dots\"><circle cx=\"337.2853598014889\" cy=\"360.2976467273471\" r=\"2.5\" class=\"dot reactive tooltip-trigger\"/><desc class=\"value\">0.788982569</desc><desc class=\"x left top\">337.2853598014889</desc><desc class=\"y left top\">360.2976467273471</desc><desc class=\"x_label\">72</desc></g><g class=\"dots\"><circle cx=\"341.8138957816377\" cy=\"467.4871447768236\" r=\"2.5\" class=\"dot reactive tooltip-trigger\"/><desc class=\"value\">0.2840907184</desc><desc class=\"x left top\">341.8138957816377</desc><desc class=\"y left top\">467.4871447768236</desc><desc class=\"x_label\">73</desc></g><g class=\"dots\"><circle cx=\"346.34243176178666\" cy=\"326.3332217466171\" r=\"2.5\" class=\"dot reactive tooltip-trigger\"/><desc class=\"value\">0.9489642994</desc><desc class=\"x left top\">346.34243176178666</desc><desc class=\"y left top\">326.3332217466171</desc><desc class=\"x_label\">74</desc></g><g class=\"dots\"><circle cx=\"350.8709677419355\" cy=\"316.3673435609206\" r=\"2.5\" class=\"dot reactive tooltip-trigger\"/><desc class=\"value\">0.9959063112</desc><desc class=\"x left top\">350.8709677419355</desc><desc class=\"y left top\">316.3673435609206</desc><desc class=\"x_label\">75</desc></g><g class=\"dots\"><circle cx=\"355.3995037220844\" cy=\"327.87433751301023\" r=\"2.5\" class=\"dot reactive tooltip-trigger\"/><desc class=\"value\">0.9417052227</desc><desc class=\"x left top\">355.3995037220844</desc><desc class=\"y left top\">327.87433751301023</desc><desc class=\"x_label\">76</desc></g><g class=\"dots\"><circle cx=\"359.9280397022332\" cy=\"345.16156301290164\" r=\"2.5\" class=\"dot reactive tooltip-trigger\"/><desc class=\"value\">0.8602776628</desc><desc class=\"x left top\">359.9280397022332</desc><desc class=\"y left top\">345.16156301290164</desc><desc class=\"x_label\">77</desc></g><g class=\"dots\"><circle cx=\"364.45657568238215\" cy=\"376.65667810928176\" r=\"2.5\" class=\"dot reactive tooltip-trigger\"/><desc class=\"value\">0.7119270572</desc><desc class=\"x left top\">364.45657568238215</desc><desc class=\"y left top\">376.65667810928176</desc><desc class=\"x_label\">78</desc></g><g class=\"dots\"><circle cx=\"368.985111662531\" cy=\"465.32712962714436\" r=\"2.5\" class=\"dot reactive tooltip-trigger\"/><desc class=\"value\">0.2942649805</desc><desc class=\"x left top\">368.985111662531</desc><desc class=\"y left top\">465.32712962714436</desc><desc class=\"x_label\">79</desc></g><g class=\"dots\"><circle cx=\"373.51364764267987\" cy=\"345.5553228208602\" r=\"2.5\" class=\"dot reactive tooltip-trigger\"/><desc class=\"value\">0.8584229464</desc><desc class=\"x left top\">373.51364764267987</desc><desc class=\"y left top\">345.5553228208602</desc><desc class=\"x_label\">80</desc></g><g class=\"dots\"><circle cx=\"378.0421836228288\" cy=\"378.29869958580827\" r=\"2.5\" class=\"dot reactive tooltip-trigger\"/><desc class=\"value\">0.704192687</desc><desc class=\"x left top\">378.0421836228288</desc><desc class=\"y left top\">378.29869958580827</desc><desc class=\"x_label\">81</desc></g><g class=\"dots\"><circle cx=\"382.57071960297765\" cy=\"209.01170484459425\" r=\"2.5\" class=\"dot reactive tooltip-trigger\"/><desc class=\"value\">1.50158073</desc><desc class=\"x left\">382.57071960297765</desc><desc class=\"y left\">209.01170484459425</desc><desc class=\"x_label\">82</desc></g><g class=\"dots\"><circle cx=\"387.09925558312653\" cy=\"403.9197183357991\" r=\"2.5\" class=\"dot reactive tooltip-trigger\"/><desc class=\"value\">0.5835106817</desc><desc class=\"x left top\">387.09925558312653</desc><desc class=\"y left top\">403.9197183357991</desc><desc class=\"x_label\">83</desc></g><g class=\"dots\"><circle cx=\"391.62779156327537\" cy=\"295.55971634130526\" r=\"2.5\" class=\"dot reactive tooltip-trigger\"/><desc class=\"value\">1.093915926</desc><desc class=\"x left top\">391.62779156327537</desc><desc class=\"y left top\">295.55971634130526</desc><desc class=\"x_label\">84</desc></g><g class=\"dots\"><circle cx=\"396.1563275434243\" cy=\"371.1450499854719\" r=\"2.5\" class=\"dot reactive tooltip-trigger\"/><desc class=\"value\">0.737888333</desc><desc class=\"x left top\">396.1563275434243</desc><desc class=\"y left top\">371.1450499854719</desc><desc class=\"x_label\">85</desc></g><g class=\"dots\"><circle cx=\"400.6848635235732\" cy=\"429.04857003060545\" r=\"2.5\" class=\"dot reactive tooltip-trigger\"/><desc class=\"value\">0.4651469179</desc><desc class=\"x left top\">400.6848635235732</desc><desc class=\"y left top\">429.04857003060545</desc><desc class=\"x_label\">86</desc></g><g class=\"dots\"><circle cx=\"405.2133995037221\" cy=\"416.02085459344744\" r=\"2.5\" class=\"dot reactive tooltip-trigger\"/><desc class=\"value\">0.5265110205</desc><desc class=\"x left top\">405.2133995037221</desc><desc class=\"y left top\">416.02085459344744</desc><desc class=\"x_label\">87</desc></g><g class=\"dots\"><circle cx=\"409.741935483871\" cy=\"291.4727844619621\" r=\"2.5\" class=\"dot reactive tooltip-trigger\"/><desc class=\"value\">1.113166493</desc><desc class=\"x left top\">409.741935483871</desc><desc class=\"y left top\">291.4727844619621</desc><desc class=\"x_label\">88</desc></g><g class=\"dots\"><circle cx=\"414.27047146401986\" cy=\"402.9089266260904\" r=\"2.5\" class=\"dot reactive tooltip-trigger\"/><desc class=\"value\">0.5882717871</desc><desc class=\"x left top\">414.27047146401986</desc><desc class=\"y left top\">402.9089266260904</desc><desc class=\"x_label\">89</desc></g><g class=\"dots\"><circle cx=\"418.79900744416875\" cy=\"305.83918109731155\" r=\"2.5\" class=\"dot reactive tooltip-trigger\"/><desc class=\"value\">1.045496836</desc><desc class=\"x left top\">418.79900744416875</desc><desc class=\"y left top\">305.83918109731155</desc><desc class=\"x_label\">90</desc></g><g class=\"dots\"><circle cx=\"423.3275434243176\" cy=\"380.94874227514015\" r=\"2.5\" class=\"dot reactive tooltip-trigger\"/><desc class=\"value\">0.6917102612</desc><desc class=\"x left top\">423.3275434243176</desc><desc class=\"y left top\">380.94874227514015</desc><desc class=\"x_label\">91</desc></g><g class=\"dots\"><circle cx=\"427.8560794044665\" cy=\"466.7402151525673\" r=\"2.5\" class=\"dot reactive tooltip-trigger\"/><desc class=\"value\">0.2876089612</desc><desc class=\"x left top\">427.8560794044665</desc><desc class=\"y left top\">466.7402151525673</desc><desc class=\"x_label\">92</desc></g><g class=\"dots\"><circle cx=\"432.38461538461536\" cy=\"144.8327392637105\" r=\"2.5\" class=\"dot reactive tooltip-trigger\"/><desc class=\"value\">1.80388121</desc><desc class=\"x left\">432.38461538461536</desc><desc class=\"y left\">144.8327392637105</desc><desc class=\"x_label\">93</desc></g><g class=\"dots\"><circle cx=\"436.91315136476425\" cy=\"435.50620731458315\" r=\"2.5\" class=\"dot reactive tooltip-trigger\"/><desc class=\"value\">0.4347296802</desc><desc class=\"x left top\">436.91315136476425</desc><desc class=\"y left top\">435.50620731458315</desc><desc class=\"x_label\">94</desc></g><g class=\"dots\"><circle cx=\"441.44168734491313\" cy=\"403.19504507102306\" r=\"2.5\" class=\"dot reactive tooltip-trigger\"/><desc class=\"value\">0.586924091</desc><desc class=\"x left top\">441.44168734491313</desc><desc class=\"y left top\">403.19504507102306</desc><desc class=\"x_label\">95</desc></g><g class=\"dots\"><circle cx=\"445.970223325062\" cy=\"434.35668845770135\" r=\"2.5\" class=\"dot reactive tooltip-trigger\"/><desc class=\"value\">0.4401442284</desc><desc class=\"x left top\">445.970223325062</desc><desc class=\"y left top\">434.35668845770135</desc><desc class=\"x_label\">96</desc></g><g class=\"dots\"><circle cx=\"450.4987593052109\" cy=\"259.0432623569367\" r=\"2.5\" class=\"dot reactive tooltip-trigger\"/><desc class=\"value\">1.265918411</desc><desc class=\"x left top\">450.4987593052109</desc><desc class=\"y left top\">259.0432623569367</desc><desc class=\"x_label\">97</desc></g><g class=\"dots\"><circle cx=\"455.02729528535974\" cy=\"484.3403966253026\" r=\"2.5\" class=\"dot reactive tooltip-trigger\"/><desc class=\"value\">0.2047072931</desc><desc class=\"x left top\">455.02729528535974</desc><desc class=\"y left top\">484.3403966253026</desc><desc class=\"x_label\">98</desc></g><g class=\"dots\"><circle cx=\"459.5558312655087\" cy=\"373.370341898919\" r=\"2.5\" class=\"dot reactive tooltip-trigger\"/><desc class=\"value\">0.7274065995</desc><desc class=\"x left top\">459.5558312655087</desc><desc class=\"y left top\">373.370341898919</desc><desc class=\"x_label\">99</desc></g><g class=\"dots\"><circle cx=\"464.0843672456575\" cy=\"331.9102150968223\" r=\"2.5\" class=\"dot reactive tooltip-trigger\"/><desc class=\"value\">0.9226951355</desc><desc class=\"x left top\">464.0843672456575</desc><desc class=\"y left top\">331.9102150968223</desc><desc class=\"x_label\">100</desc></g><g class=\"dots\"><circle cx=\"468.61290322580646\" cy=\"377.7147241314724\" r=\"2.5\" class=\"dot reactive tooltip-trigger\"/><desc class=\"value\">0.7069433711</desc><desc class=\"x left top\">468.61290322580646</desc><desc class=\"y left top\">377.7147241314724</desc><desc class=\"x_label\">101</desc></g><g class=\"dots\"><circle cx=\"473.14143920595535\" cy=\"468.66193386118454\" r=\"2.5\" class=\"dot reactive tooltip-trigger\"/><desc class=\"value\">0.2785571406</desc><desc class=\"x left top\">473.14143920595535</desc><desc class=\"y left top\">468.66193386118454</desc><desc class=\"x_label\">102</desc></g><g class=\"dots\"><circle cx=\"477.66997518610424\" cy=\"356.3985038514969\" r=\"2.5\" class=\"dot reactive tooltip-trigger\"/><desc class=\"value\">0.8073485983</desc><desc class=\"x left top\">477.66997518610424</desc><desc class=\"y left top\">356.3985038514969</desc><desc class=\"x_label\">103</desc></g><g class=\"dots\"><circle cx=\"482.19851116625307\" cy=\"339.4510507127439\" r=\"2.5\" class=\"dot reactive tooltip-trigger\"/><desc class=\"value\">0.8871757375</desc><desc class=\"x left top\">482.19851116625307</desc><desc class=\"y left top\">339.4510507127439</desc><desc class=\"x_label\">104</desc></g><g class=\"dots\"><circle cx=\"486.727047146402\" cy=\"480.19605130805553\" r=\"2.5\" class=\"dot reactive tooltip-trigger\"/><desc class=\"value\">0.224228293</desc><desc class=\"x left top\">486.727047146402</desc><desc class=\"y left top\">480.19605130805553</desc><desc class=\"x_label\">105</desc></g><g class=\"dots\"><circle cx=\"491.2555831265509\" cy=\"349.12508940181874\" r=\"2.5\" class=\"dot reactive tooltip-trigger\"/><desc class=\"value\">0.8416083695</desc><desc class=\"x left top\">491.2555831265509</desc><desc class=\"y left top\">349.12508940181874</desc><desc class=\"x_label\">106</desc></g><g class=\"dots\"><circle cx=\"495.78411910669973\" cy=\"305.51898291813797\" r=\"2.5\" class=\"dot reactive tooltip-trigger\"/><desc class=\"value\">1.047005057</desc><desc class=\"x left top\">495.78411910669973</desc><desc class=\"y left top\">305.51898291813797</desc><desc class=\"x_label\">107</desc></g><g class=\"dots\"><circle cx=\"500.3126550868487\" cy=\"414.9142678907683\" r=\"2.5\" class=\"dot reactive tooltip-trigger\"/><desc class=\"value\">0.5317233465</desc><desc class=\"x left top\">500.3126550868487</desc><desc class=\"y left top\">414.9142678907683</desc><desc class=\"x_label\">108</desc></g><g class=\"dots\"><circle cx=\"504.84119106699745\" cy=\"350.7118567624517\" r=\"2.5\" class=\"dot reactive tooltip-trigger\"/><desc class=\"value\">0.8341342613</desc><desc class=\"x left top\">504.84119106699745</desc><desc class=\"y left top\">350.7118567624517</desc><desc class=\"x_label\">109</desc></g><g class=\"dots\"><circle cx=\"509.3697270471464\" cy=\"402.1558602569413\" r=\"2.5\" class=\"dot reactive tooltip-trigger\"/><desc class=\"value\">0.5918189357</desc><desc class=\"x left top\">509.3697270471464</desc><desc class=\"y left top\">402.1558602569413</desc><desc class=\"x_label\">110</desc></g><g class=\"dots\"><circle cx=\"513.8982630272953\" cy=\"412.28199663300023\" r=\"2.5\" class=\"dot reactive tooltip-trigger\"/><desc class=\"value\">0.544122064</desc><desc class=\"x left top\">513.8982630272953</desc><desc class=\"y left top\">412.28199663300023</desc><desc class=\"x_label\">111</desc></g><g class=\"dots\"><circle cx=\"518.4267990074441\" cy=\"449.7486534043693\" r=\"2.5\" class=\"dot reactive tooltip-trigger\"/><desc class=\"value\">0.367643864</desc><desc class=\"x left top\">518.4267990074441</desc><desc class=\"y left top\">449.7486534043693</desc><desc class=\"x_label\">112</desc></g><g class=\"dots\"><circle cx=\"522.955334987593\" cy=\"389.7386134600871\" r=\"2.5\" class=\"dot reactive tooltip-trigger\"/><desc class=\"value\">0.650307564</desc><desc class=\"x left top\">522.955334987593</desc><desc class=\"y left top\">389.7386134600871</desc><desc class=\"x_label\">113</desc></g><g class=\"dots\"><circle cx=\"527.483870967742\" cy=\"306.920522069443\" r=\"2.5\" class=\"dot reactive tooltip-trigger\"/><desc class=\"value\">1.040403424</desc><desc class=\"x left top\">527.483870967742</desc><desc class=\"y left top\">306.920522069443</desc><desc class=\"x_label\">114</desc></g><g class=\"dots\"><circle cx=\"532.0124069478908\" cy=\"423.7850759894384\" r=\"2.5\" class=\"dot reactive tooltip-trigger\"/><desc class=\"value\">0.4899394143</desc><desc class=\"x left top\">532.0124069478908</desc><desc class=\"y left top\">423.7850759894384</desc><desc class=\"x_label\">115</desc></g><g class=\"dots\"><circle cx=\"536.5409429280397\" cy=\"349.48736911191907\" r=\"2.5\" class=\"dot reactive tooltip-trigger\"/><desc class=\"value\">0.839901933</desc><desc class=\"x left top\">536.5409429280397</desc><desc class=\"y left top\">349.48736911191907</desc><desc class=\"x_label\">116</desc></g><g class=\"dots\"><circle cx=\"541.0694789081886\" cy=\"359.47259573028066\" r=\"2.5\" class=\"dot reactive tooltip-trigger\"/><desc class=\"value\">0.7928687848</desc><desc class=\"x left top\">541.0694789081886</desc><desc class=\"y left top\">359.47259573028066</desc><desc class=\"x_label\">117</desc></g><g class=\"dots\"><circle cx=\"545.5980148883375\" cy=\"263.26357008368757\" r=\"2.5\" class=\"dot reactive tooltip-trigger\"/><desc class=\"value\">1.246039607</desc><desc class=\"x left top\">545.5980148883375</desc><desc class=\"y left top\">263.26357008368757</desc><desc class=\"x_label\">118</desc></g><g class=\"dots\"><circle cx=\"550.1265508684863\" cy=\"306.6533046386043\" r=\"2.5\" class=\"dot reactive tooltip-trigger\"/><desc class=\"value\">1.041662091</desc><desc class=\"x left top\">550.1265508684863</desc><desc class=\"y left top\">306.6533046386043</desc><desc class=\"x_label\">119</desc></g><g class=\"dots\"><circle cx=\"554.6550868486353\" cy=\"356.15707758362583\" r=\"2.5\" class=\"dot reactive tooltip-trigger\"/><desc class=\"value\">0.808485782</desc><desc class=\"x left top\">554.6550868486353</desc><desc class=\"y left top\">356.15707758362583</desc><desc class=\"x_label\">120</desc></g><g class=\"dots\"><circle cx=\"559.1836228287841\" cy=\"428.3113870967434\" r=\"2.5\" class=\"dot reactive tooltip-trigger\"/><desc class=\"value\">0.4686192511</desc><desc class=\"x left top\">559.1836228287841</desc><desc class=\"y left top\">428.3113870967434</desc><desc class=\"x_label\">121</desc></g><g class=\"dots\"><circle cx=\"563.7121588089329\" cy=\"376.9752351708433\" r=\"2.5\" class=\"dot reactive tooltip-trigger\"/><desc class=\"value\">0.7104265663</desc><desc class=\"x left top\">563.7121588089329</desc><desc class=\"y left top\">376.9752351708433</desc><desc class=\"x_label\">122</desc></g><g class=\"dots\"><circle cx=\"568.2406947890819\" cy=\"477.51238161306276\" r=\"2.5\" class=\"dot reactive tooltip-trigger\"/><desc class=\"value\">0.2368691112</desc><desc class=\"x left top\">568.2406947890819</desc><desc class=\"y left top\">477.51238161306276</desc><desc class=\"x_label\">123</desc></g><g class=\"dots\"><circle cx=\"572.7692307692308\" cy=\"274.74411137642346\" r=\"2.5\" class=\"dot reactive tooltip-trigger\"/><desc class=\"value\">1.191963118</desc><desc class=\"x left top\">572.7692307692308</desc><desc class=\"y left top\">274.74411137642346</desc><desc class=\"x_label\">124</desc></g></g><g class=\"series serie-4 color-4\"><g class=\"dots\"><circle cx=\"11.23076923076923\" cy=\"193.70773260023145\" r=\"2.5\" class=\"dot reactive tooltip-trigger\"/><desc class=\"value\">1.573666624</desc><desc class=\"x \">11.23076923076923</desc><desc class=\"y \">193.70773260023145</desc><desc class=\"x_label\">0</desc></g><g class=\"dots\"><circle cx=\"15.759305210918114\" cy=\"210.7856601133048\" r=\"2.5\" class=\"dot reactive tooltip-trigger\"/><desc class=\"value\">1.493224915</desc><desc class=\"x \">15.759305210918114</desc><desc class=\"y \">210.7856601133048</desc><desc class=\"x_label\">1</desc></g><g class=\"dots\"><circle cx=\"20.287841191067\" cy=\"195.16126633720285\" r=\"2.5\" class=\"dot reactive tooltip-trigger\"/><desc class=\"value\">1.566820083</desc><desc class=\"x \">20.287841191067</desc><desc class=\"y \">195.16126633720285</desc><desc class=\"x_label\">2</desc></g><g class=\"dots\"><circle cx=\"24.816377171215876\" cy=\"201.85517996120586\" r=\"2.5\" class=\"dot reactive tooltip-trigger\"/><desc class=\"value\">1.535289919</desc><desc class=\"x \">24.816377171215876</desc><desc class=\"y \">201.85517996120586</desc><desc class=\"x_label\">3</desc></g><g class=\"dots\"><circle cx=\"29.344913151364764\" cy=\"202.47859156243226\" r=\"2.5\" class=\"dot reactive tooltip-trigger\"/><desc class=\"value\">1.53235348</desc><desc class=\"x \">29.344913151364764</desc><desc class=\"y \">202.47859156243226</desc><desc class=\"x_label\">4</desc></g><g class=\"dots\"><circle cx=\"33.873449131513645\" cy=\"195.7564141220518\" r=\"2.5\" class=\"dot reactive tooltip-trigger\"/><desc class=\"value\">1.564016774</desc><desc class=\"x \">33.873449131513645</desc><desc class=\"y \">195.7564141220518</desc><desc class=\"x_label\">5</desc></g><g class=\"dots\"><circle cx=\"38.401985111662526\" cy=\"222.99632443516577\" r=\"2.5\" class=\"dot reactive tooltip-trigger\"/><desc class=\"value\">1.435709347</desc><desc class=\"x \">38.401985111662526</desc><desc class=\"y \">222.99632443516577</desc><desc class=\"x_label\">6</desc></g><g class=\"dots\"><circle cx=\"42.930521091811414\" cy=\"228.01109025287798\" r=\"2.5\" class=\"dot reactive tooltip-trigger\"/><desc class=\"value\">1.412088428</desc><desc class=\"x \">42.930521091811414</desc><desc class=\"y \">228.01109025287798</desc><desc class=\"x_label\">7</desc></g><g class=\"dots\"><circle cx=\"47.459057071960295\" cy=\"205.7418516622539\" r=\"2.5\" class=\"dot reactive tooltip-trigger\"/><desc class=\"value\">1.516982632</desc><desc class=\"x \">47.459057071960295</desc><desc class=\"y \">205.7418516622539</desc><desc class=\"x_label\">8</desc></g><g class=\"dots\"><circle cx=\"51.98759305210918\" cy=\"130.15698737634904\" r=\"2.5\" class=\"dot reactive tooltip-trigger\"/><desc class=\"value\">1.873008015</desc><desc class=\"x \">51.98759305210918</desc><desc class=\"y \">130.15698737634904</desc><desc class=\"x_label\">9</desc></g><g class=\"dots\"><circle cx=\"56.516129032258064\" cy=\"134.10645294655342\" r=\"2.5\" class=\"dot reactive tooltip-trigger\"/><desc class=\"value\">1.854404952</desc><desc class=\"x \">56.516129032258064</desc><desc class=\"y \">134.10645294655342</desc><desc class=\"x_label\">10</desc></g><g class=\"dots\"><circle cx=\"61.04466501240695\" cy=\"156.54473120666415\" r=\"2.5\" class=\"dot reactive tooltip-trigger\"/><desc class=\"value\">1.748714525</desc><desc class=\"x \">61.04466501240695</desc><desc class=\"y \">156.54473120666415</desc><desc class=\"x_label\">11</desc></g><g class=\"dots\"><circle cx=\"65.57320099255584\" cy=\"163.76481734022076\" r=\"2.5\" class=\"dot reactive tooltip-trigger\"/><desc class=\"value\">1.714705944</desc><desc class=\"x \">65.57320099255584</desc><desc class=\"y \">163.76481734022076</desc><desc class=\"x_label\">12</desc></g><g class=\"dots\"><circle cx=\"70.10173697270471\" cy=\"92.21127806140845\" r=\"2.5\" class=\"dot reactive tooltip-trigger\"/><desc class=\"value\">2.051742683</desc><desc class=\"x \">70.10173697270471</desc><desc class=\"y \">92.21127806140845</desc><desc class=\"x_label\">13</desc></g><g class=\"dots\"><circle cx=\"74.63027295285359\" cy=\"168.2792742484196\" r=\"2.5\" class=\"dot reactive tooltip-trigger\"/><desc class=\"value\">1.693441618</desc><desc class=\"x \">74.63027295285359</desc><desc class=\"y \">168.2792742484196</desc><desc class=\"x_label\">14</desc></g><g class=\"dots\"><circle cx=\"79.15880893300248\" cy=\"201.46459468963639\" r=\"2.5\" class=\"dot reactive tooltip-trigger\"/><desc class=\"value\">1.537129683</desc><desc class=\"x \">79.15880893300248</desc><desc class=\"y \">201.46459468963639</desc><desc class=\"x_label\">15</desc></g><g class=\"dots\"><circle cx=\"83.68734491315136\" cy=\"176.07179701496443\" r=\"2.5\" class=\"dot reactive tooltip-trigger\"/><desc class=\"value\">1.656736704</desc><desc class=\"x \">83.68734491315136</desc><desc class=\"y \">176.07179701496443</desc><desc class=\"x_label\">16</desc></g><g class=\"dots\"><circle cx=\"88.21588089330024\" cy=\"224.89935430717304\" r=\"2.5\" class=\"dot reactive tooltip-trigger\"/><desc class=\"value\">1.426745556</desc><desc class=\"x \">88.21588089330024</desc><desc class=\"y \">224.89935430717304</desc><desc class=\"x_label\">17</desc></g><g class=\"dots\"><circle cx=\"92.74441687344913\" cy=\"158.05946899813625\" r=\"2.5\" class=\"dot reactive tooltip-trigger\"/><desc class=\"value\">1.741579695</desc><desc class=\"x \">92.74441687344913</desc><desc class=\"y \">158.05946899813625</desc><desc class=\"x_label\">18</desc></g><g class=\"dots\"><circle cx=\"97.272952853598\" cy=\"164.86580318212225\" r=\"2.5\" class=\"dot reactive tooltip-trigger\"/><desc class=\"value\">1.70952</desc><desc class=\"x \">97.272952853598</desc><desc class=\"y \">164.86580318212225</desc><desc class=\"x_label\">19</desc></g><g class=\"dots\"><circle cx=\"101.80148883374689\" cy=\"137.1255175146395\" r=\"2.5\" class=\"dot reactive tooltip-trigger\"/><desc class=\"value\">1.840184332</desc><desc class=\"x \">101.80148883374689</desc><desc class=\"y \">137.1255175146395</desc><desc class=\"x_label\">20</desc></g><g class=\"dots\"><circle cx=\"106.33002481389576\" cy=\"198.68483008036316\" r=\"2.5\" class=\"dot reactive tooltip-trigger\"/><desc class=\"value\">1.550223134</desc><desc class=\"x \">106.33002481389576</desc><desc class=\"y \">198.68483008036316</desc><desc class=\"x_label\">21</desc></g><g class=\"dots\"><circle cx=\"110.85856079404466\" cy=\"187.7275633130153\" r=\"2.5\" class=\"dot reactive tooltip-trigger\"/><desc class=\"value\">1.601834857</desc><desc class=\"x \">110.85856079404466</desc><desc class=\"y \">187.7275633130153</desc><desc class=\"x_label\">22</desc></g><g class=\"dots\"><circle cx=\"115.38709677419354\" cy=\"121.51267988905698\" r=\"2.5\" class=\"dot reactive tooltip-trigger\"/><desc class=\"value\">1.913725067</desc><desc class=\"x \">115.38709677419354</desc><desc class=\"y \">121.51267988905698</desc><desc class=\"x_label\">23</desc></g><g class=\"dots\"><circle cx=\"119.91563275434243\" cy=\"90.74113487527478\" r=\"2.5\" class=\"dot reactive tooltip-trigger\"/><desc class=\"value\">2.05866746</desc><desc class=\"x \">119.91563275434243</desc><desc class=\"y \">90.74113487527478</desc><desc class=\"x_label\">24</desc></g><g class=\"dots\"><circle cx=\"124.4441687344913\" cy=\"111.33151970104706\" r=\"2.5\" class=\"dot reactive tooltip-trigger\"/><desc class=\"value\">1.961681116</desc><desc class=\"x \">124.4441687344913</desc><desc class=\"y \">111.33151970104706</desc><desc class=\"x_label\">25</desc></g><g class=\"dots\"><circle cx=\"128.9727047146402\" cy=\"132.99594256550552\" r=\"2.5\" class=\"dot reactive tooltip-trigger\"/><desc class=\"value\">1.859635759</desc><desc class=\"x \">128.9727047146402</desc><desc class=\"y \">132.99594256550552</desc><desc class=\"x_label\">26</desc></g><g class=\"dots\"><circle cx=\"133.5012406947891\" cy=\"129.72168361932341\" r=\"2.5\" class=\"dot reactive tooltip-trigger\"/><desc class=\"value\">1.875058414</desc><desc class=\"x \">133.5012406947891</desc><desc class=\"y \">129.72168361932341</desc><desc class=\"x_label\">27</desc></g><g class=\"dots\"><circle cx=\"138.02977667493795\" cy=\"113.26585159056606\" r=\"2.5\" class=\"dot reactive tooltip-trigger\"/><desc class=\"value\">1.952569884</desc><desc class=\"x \">138.02977667493795</desc><desc class=\"y \">113.26585159056606</desc><desc class=\"x_label\">28</desc></g><g class=\"dots\"><circle cx=\"142.55831265508684\" cy=\"22.965569307735166\" r=\"2.5\" class=\"dot reactive tooltip-trigger\"/><desc class=\"value\">2.377908909</desc><desc class=\"x \">142.55831265508684</desc><desc class=\"y \">22.965569307735166</desc><desc class=\"x_label\">29</desc></g><g class=\"dots\"><circle cx=\"147.08684863523575\" cy=\"14.212419289697948\" r=\"2.5\" class=\"dot reactive tooltip-trigger\"/><desc class=\"value\">2.419138639</desc><desc class=\"x \">147.08684863523575</desc><desc class=\"y \">14.212419289697948</desc><desc class=\"x_label\">30</desc></g><g class=\"dots\"><circle cx=\"151.6153846153846\" cy=\"66.54311903991402\" r=\"2.5\" class=\"dot reactive tooltip-trigger\"/><desc class=\"value\">2.172646732</desc><desc class=\"x \">151.6153846153846</desc><desc class=\"y \">66.54311903991402</desc><desc class=\"x_label\">31</desc></g><g class=\"dots\"><circle cx=\"156.1439205955335\" cy=\"150.8440608398197\" r=\"2.5\" class=\"dot reactive tooltip-trigger\"/><desc class=\"value\">1.775566241</desc><desc class=\"x \">156.1439205955335</desc><desc class=\"y \">150.8440608398197</desc><desc class=\"x_label\">32</desc></g><g class=\"dots\"><circle cx=\"160.67245657568236\" cy=\"146.04076061493504\" r=\"2.5\" class=\"dot reactive tooltip-trigger\"/><desc class=\"value\">1.798191099</desc><desc class=\"x \">160.67245657568236</desc><desc class=\"y \">146.04076061493504</desc><desc class=\"x_label\">33</desc></g><g class=\"dots\"><circle cx=\"165.20099255583125\" cy=\"193.3518750309633\" r=\"2.5\" class=\"dot reactive tooltip-trigger\"/><desc class=\"value\">1.575342811</desc><desc class=\"x \">165.20099255583125</desc><desc class=\"y \">193.3518750309633</desc><desc class=\"x_label\">34</desc></g><g class=\"dots\"><circle cx=\"169.7295285359802\" cy=\"135.8904385118571\" r=\"2.5\" class=\"dot reactive tooltip-trigger\"/><desc class=\"value\">1.846001892</desc><desc class=\"x \">169.7295285359802</desc><desc class=\"y \">135.8904385118571</desc><desc class=\"x_label\">35</desc></g><g class=\"dots\"><circle cx=\"174.25806451612905\" cy=\"106.71805182131487\" r=\"2.5\" class=\"dot reactive tooltip-trigger\"/><desc class=\"value\">1.983411811</desc><desc class=\"x \">174.25806451612905</desc><desc class=\"y \">106.71805182131487</desc><desc class=\"x_label\">36</desc></g><g class=\"dots\"><circle cx=\"178.78660049627794\" cy=\"134.97607575883256\" r=\"2.5\" class=\"dot reactive tooltip-trigger\"/><desc class=\"value\">1.85030879</desc><desc class=\"x \">178.78660049627794</desc><desc class=\"y \">134.97607575883256</desc><desc class=\"x_label\">37</desc></g><g class=\"dots\"><circle cx=\"183.3151364764268\" cy=\"102.12285819750747\" r=\"2.5\" class=\"dot reactive tooltip-trigger\"/><desc class=\"value\">2.00505643</desc><desc class=\"x \">183.3151364764268</desc><desc class=\"y \">102.12285819750747</desc><desc class=\"x_label\">38</desc></g><g class=\"dots\"><circle cx=\"187.8436724565757\" cy=\"198.31132677615113\" r=\"2.5\" class=\"dot reactive tooltip-trigger\"/><desc class=\"value\">1.551982437</desc><desc class=\"x \">187.8436724565757</desc><desc class=\"y \">198.31132677615113</desc><desc class=\"x_label\">39</desc></g><g class=\"dots\"><circle cx=\"192.37220843672455\" cy=\"129.20479082822607\" r=\"2.5\" class=\"dot reactive tooltip-trigger\"/><desc class=\"value\">1.877493121</desc><desc class=\"x \">192.37220843672455</desc><desc class=\"y \">129.20479082822607</desc><desc class=\"x_label\">40</desc></g><g class=\"dots\"><circle cx=\"196.90074441687344\" cy=\"189.08679481643145\" r=\"2.5\" class=\"dot reactive tooltip-trigger\"/><desc class=\"value\">1.595432505</desc><desc class=\"x \">196.90074441687344</desc><desc class=\"y \">189.08679481643145</desc><desc class=\"x_label\">41</desc></g><g class=\"dots\"><circle cx=\"201.4292803970223\" cy=\"116.3743583424731\" r=\"2.5\" class=\"dot reactive tooltip-trigger\"/><desc class=\"value\">1.937927967</desc><desc class=\"x \">201.4292803970223</desc><desc class=\"y \">116.3743583424731</desc><desc class=\"x_label\">42</desc></g><g class=\"dots\"><circle cx=\"205.95781637717124\" cy=\"145.63921202642968\" r=\"2.5\" class=\"dot reactive tooltip-trigger\"/><desc class=\"value\">1.800082502</desc><desc class=\"x \">205.95781637717124</desc><desc class=\"y \">145.63921202642968</desc><desc class=\"x_label\">43</desc></g><g class=\"dots\"><circle cx=\"210.48635235732013\" cy=\"147.9203264546042\" r=\"2.5\" class=\"dot reactive tooltip-trigger\"/><desc class=\"value\">1.78933783</desc><desc class=\"x \">210.48635235732013</desc><desc class=\"y \">147.9203264546042</desc><desc class=\"x_label\">44</desc></g><g class=\"dots\"><circle cx=\"215.014888337469\" cy=\"100.20389044389412\" r=\"2.5\" class=\"dot reactive tooltip-trigger\"/><desc class=\"value\">2.014095293</desc><desc class=\"x \">215.014888337469</desc><desc class=\"y \">100.20389044389412</desc><desc class=\"x_label\">45</desc></g><g class=\"dots\"><circle cx=\"219.54342431761788\" cy=\"190.04950543730536\" r=\"2.5\" class=\"dot reactive tooltip-trigger\"/><desc class=\"value\">1.590897875</desc><desc class=\"x \">219.54342431761788</desc><desc class=\"y \">190.04950543730536</desc><desc class=\"x_label\">46</desc></g><g class=\"dots\"><circle cx=\"224.07196029776674\" cy=\"175.35277982375828\" r=\"2.5\" class=\"dot reactive tooltip-trigger\"/><desc class=\"value\">1.660123472</desc><desc class=\"x \">224.07196029776674</desc><desc class=\"y \">175.35277982375828</desc><desc class=\"x_label\">47</desc></g><g class=\"dots\"><circle cx=\"228.60049627791562\" cy=\"173.47943952720772\" r=\"2.5\" class=\"dot reactive tooltip-trigger\"/><desc class=\"value\">1.668947417</desc><desc class=\"x \">228.60049627791562</desc><desc class=\"y \">173.47943952720772</desc><desc class=\"x_label\">48</desc></g><g class=\"dots\"><circle cx=\"233.1290322580645\" cy=\"189.59215312301433\" r=\"2.5\" class=\"dot reactive tooltip-trigger\"/><desc class=\"value\">1.593052129</desc><desc class=\"x \">233.1290322580645</desc><desc class=\"y \">189.59215312301433</desc><desc class=\"x_label\">49</desc></g><g class=\"dots\"><circle cx=\"237.65756823821337\" cy=\"72.67910378017268\" r=\"2.5\" class=\"dot reactive tooltip-trigger\"/><desc class=\"value\">2.143744566</desc><desc class=\"x \">237.65756823821337</desc><desc class=\"y \">72.67910378017268</desc><desc class=\"x_label\">50</desc></g><g class=\"dots\"><circle cx=\"242.18610421836232\" cy=\"145.27868016201438\" r=\"2.5\" class=\"dot reactive tooltip-trigger\"/><desc class=\"value\">1.801780706</desc><desc class=\"x \">242.18610421836232</desc><desc class=\"y \">145.27868016201438</desc><desc class=\"x_label\">51</desc></g><g class=\"dots\"><circle cx=\"246.7146401985112\" cy=\"162.36788045396958\" r=\"2.5\" class=\"dot reactive tooltip-trigger\"/><desc class=\"value\">1.721285899</desc><desc class=\"x \">246.7146401985112</desc><desc class=\"y \">162.36788045396958</desc><desc class=\"x_label\">52</desc></g><g class=\"dots\"><circle cx=\"251.24317617866006\" cy=\"158.53924790776318\" r=\"2.5\" class=\"dot reactive tooltip-trigger\"/><desc class=\"value\">1.739319805</desc><desc class=\"x \">251.24317617866006</desc><desc class=\"y \">158.53924790776318</desc><desc class=\"x_label\">53</desc></g><g class=\"dots\"><circle cx=\"255.77171215880892\" cy=\"202.54073938580967\" r=\"2.5\" class=\"dot reactive tooltip-trigger\"/><desc class=\"value\">1.532060747</desc><desc class=\"x \">255.77171215880892</desc><desc class=\"y \">202.54073938580967</desc><desc class=\"x_label\">54</desc></g><g class=\"dots\"><circle cx=\"260.30024813895784\" cy=\"205.03980255716124\" r=\"2.5\" class=\"dot reactive tooltip-trigger\"/><desc class=\"value\">1.520289476</desc><desc class=\"x \">260.30024813895784</desc><desc class=\"y \">205.03980255716124</desc><desc class=\"x_label\">55</desc></g><g class=\"dots\"><circle cx=\"264.82878411910673\" cy=\"169.1961121542518\" r=\"2.5\" class=\"dot reactive tooltip-trigger\"/><desc class=\"value\">1.68912306</desc><desc class=\"x \">264.82878411910673</desc><desc class=\"y \">169.1961121542518</desc><desc class=\"x_label\">56</desc></g><g class=\"dots\"><circle cx=\"269.35732009925556\" cy=\"225.77689105730047\" r=\"2.5\" class=\"dot reactive tooltip-trigger\"/><desc class=\"value\">1.422612118</desc><desc class=\"x \">269.35732009925556</desc><desc class=\"y \">225.77689105730047</desc><desc class=\"x_label\">57</desc></g><g class=\"dots\"><circle cx=\"273.88585607940445\" cy=\"42.92551804936312\" r=\"2.5\" class=\"dot reactive tooltip-trigger\"/><desc class=\"value\">2.283892092</desc><desc class=\"x \">273.88585607940445</desc><desc class=\"y \">42.92551804936312</desc><desc class=\"x_label\">58</desc></g><g class=\"dots\"><circle cx=\"278.41439205955334\" cy=\"174.02830365348188\" r=\"2.5\" class=\"dot reactive tooltip-trigger\"/><desc class=\"value\">1.666362117</desc><desc class=\"x \">278.41439205955334</desc><desc class=\"y \">174.02830365348188</desc><desc class=\"x_label\">59</desc></g><g class=\"dots\"><circle cx=\"282.9429280397022\" cy=\"123.50546993706672\" r=\"2.5\" class=\"dot reactive tooltip-trigger\"/><desc class=\"value\">1.904338481</desc><desc class=\"x \">282.9429280397022</desc><desc class=\"y \">123.50546993706672</desc><desc class=\"x_label\">60</desc></g><g class=\"dots\"><circle cx=\"287.4714640198511\" cy=\"129.5544334222027\" r=\"2.5\" class=\"dot reactive tooltip-trigger\"/><desc class=\"value\">1.875846209</desc><desc class=\"x \">287.4714640198511</desc><desc class=\"y \">129.5544334222027</desc><desc class=\"x_label\">61</desc></g><g class=\"dots\"><circle cx=\"292.0\" cy=\"95.33546526120386\" r=\"2.5\" class=\"dot reactive tooltip-trigger\"/><desc class=\"value\">2.037026907</desc><desc class=\"x \">292.0</desc><desc class=\"y \">95.33546526120386</desc><desc class=\"x_label\">62</desc></g><g class=\"dots\"><circle cx=\"296.5285359801489\" cy=\"155.04537516667108\" r=\"2.5\" class=\"dot reactive tooltip-trigger\"/><desc class=\"value\">1.755776902</desc><desc class=\"x left\">296.5285359801489</desc><desc class=\"y left\">155.04537516667108</desc><desc class=\"x_label\">63</desc></g><g class=\"dots\"><circle cx=\"301.0570719602978\" cy=\"128.91621272497156\" r=\"2.5\" class=\"dot reactive tooltip-trigger\"/><desc class=\"value\">1.878852403</desc><desc class=\"x left\">301.0570719602978</desc><desc class=\"y left\">128.91621272497156</desc><desc class=\"x_label\">64</desc></g><g class=\"dots\"><circle cx=\"305.58560794044666\" cy=\"166.36760358012646\" r=\"2.5\" class=\"dot reactive tooltip-trigger\"/><desc class=\"value\">1.702446109</desc><desc class=\"x left\">305.58560794044666</desc><desc class=\"y left\">166.36760358012646</desc><desc class=\"x_label\">65</desc></g><g class=\"dots\"><circle cx=\"310.1141439205955\" cy=\"121.69191116104105\" r=\"2.5\" class=\"dot reactive tooltip-trigger\"/><desc class=\"value\">1.912880839</desc><desc class=\"x left\">310.1141439205955</desc><desc class=\"y left\">121.69191116104105</desc><desc class=\"x_label\">66</desc></g><g class=\"dots\"><circle cx=\"314.6426799007444\" cy=\"123.06109957419596\" r=\"2.5\" class=\"dot reactive tooltip-trigger\"/><desc class=\"value\">1.906431587</desc><desc class=\"x left\">314.6426799007444</desc><desc class=\"y left\">123.06109957419596</desc><desc class=\"x_label\">67</desc></g><g class=\"dots\"><circle cx=\"319.17121588089327\" cy=\"259.3804498365856\" r=\"2.5\" class=\"dot reactive tooltip-trigger\"/><desc class=\"value\">1.264330166</desc><desc class=\"x left top\">319.17121588089327</desc><desc class=\"y left top\">259.3804498365856</desc><desc class=\"x_label\">68</desc></g><g class=\"dots\"><circle cx=\"323.69975186104216\" cy=\"231.47083987765888\" r=\"2.5\" class=\"dot reactive tooltip-trigger\"/><desc class=\"value\">1.395792061</desc><desc class=\"x left\">323.69975186104216</desc><desc class=\"y left\">231.47083987765888</desc><desc class=\"x_label\">69</desc></g><g class=\"dots\"><circle cx=\"328.22828784119105\" cy=\"36.27702092278503\" r=\"2.5\" class=\"dot reactive tooltip-trigger\"/><desc class=\"value\">2.315208331</desc><desc class=\"x left\">328.22828784119105</desc><desc class=\"y left\">36.27702092278503</desc><desc class=\"x_label\">70</desc></g><g class=\"dots\"><circle cx=\"332.75682382134\" cy=\"232.87224910653322\" r=\"2.5\" class=\"dot reactive tooltip-trigger\"/><desc class=\"value\">1.389191041</desc><desc class=\"x left\">332.75682382134</desc><desc class=\"y left\">232.87224910653322</desc><desc class=\"x_label\">71</desc></g><g class=\"dots\"><circle cx=\"337.2853598014889\" cy=\"86.53721817167593\" r=\"2.5\" class=\"dot reactive tooltip-trigger\"/><desc class=\"value\">2.078469057</desc><desc class=\"x left\">337.2853598014889</desc><desc class=\"y left\">86.53721817167593</desc><desc class=\"x_label\">72</desc></g><g class=\"dots\"><circle cx=\"341.8138957816377\" cy=\"215.89101009055082\" r=\"2.5\" class=\"dot reactive tooltip-trigger\"/><desc class=\"value\">1.469177321</desc><desc class=\"x left\">341.8138957816377</desc><desc class=\"y left\">215.89101009055082</desc><desc class=\"x_label\">73</desc></g><g class=\"dots\"><circle cx=\"346.34243176178666\" cy=\"123.07691467370023\" r=\"2.5\" class=\"dot reactive tooltip-trigger\"/><desc class=\"value\">1.906357093</desc><desc class=\"x left\">346.34243176178666</desc><desc class=\"y left\">123.07691467370023</desc><desc class=\"x_label\">74</desc></g><g class=\"dots\"><circle cx=\"350.8709677419355\" cy=\"180.14579965912606\" r=\"2.5\" class=\"dot reactive tooltip-trigger\"/><desc class=\"value\">1.637547038</desc><desc class=\"x left\">350.8709677419355</desc><desc class=\"y left\">180.14579965912606</desc><desc class=\"x_label\">75</desc></g><g class=\"dots\"><circle cx=\"355.3995037220844\" cy=\"171.4488827426323\" r=\"2.5\" class=\"dot reactive tooltip-trigger\"/><desc class=\"value\">1.678511895</desc><desc class=\"x left\">355.3995037220844</desc><desc class=\"y left\">171.4488827426323</desc><desc class=\"x_label\">76</desc></g><g class=\"dots\"><circle cx=\"359.9280397022332\" cy=\"195.5354347281085\" r=\"2.5\" class=\"dot reactive tooltip-trigger\"/><desc class=\"value\">1.565057648</desc><desc class=\"x left\">359.9280397022332</desc><desc class=\"y left\">195.5354347281085</desc><desc class=\"x_label\">77</desc></g><g class=\"dots\"><circle cx=\"364.45657568238215\" cy=\"141.98290582481542\" r=\"2.5\" class=\"dot reactive tooltip-trigger\"/><desc class=\"value\">1.817304705</desc><desc class=\"x left\">364.45657568238215</desc><desc class=\"y left\">141.98290582481542</desc><desc class=\"x_label\">78</desc></g><g class=\"dots\"><circle cx=\"368.985111662531\" cy=\"155.99361700539134\" r=\"2.5\" class=\"dot reactive tooltip-trigger\"/><desc class=\"value\">1.751310423</desc><desc class=\"x left\">368.985111662531</desc><desc class=\"y left\">155.99361700539134</desc><desc class=\"x_label\">79</desc></g><g class=\"dots\"><circle cx=\"373.51364764267987\" cy=\"209.08326453344188\" r=\"2.5\" class=\"dot reactive tooltip-trigger\"/><desc class=\"value\">1.501243664</desc><desc class=\"x left\">373.51364764267987</desc><desc class=\"y left\">209.08326453344188</desc><desc class=\"x_label\">80</desc></g><g class=\"dots\"><circle cx=\"378.0421836228288\" cy=\"111.12029482880922\" r=\"2.5\" class=\"dot reactive tooltip-trigger\"/><desc class=\"value\">1.962676043</desc><desc class=\"x left\">378.0421836228288</desc><desc class=\"y left\">111.12029482880922</desc><desc class=\"x_label\">81</desc></g><g class=\"dots\"><circle cx=\"382.57071960297765\" cy=\"135.30856664020308\" r=\"2.5\" class=\"dot reactive tooltip-trigger\"/><desc class=\"value\">1.848742667</desc><desc class=\"x left\">382.57071960297765</desc><desc class=\"y left\">135.30856664020308</desc><desc class=\"x_label\">82</desc></g><g class=\"dots\"><circle cx=\"387.09925558312653\" cy=\"212.72118781199993\" r=\"2.5\" class=\"dot reactive tooltip-trigger\"/><desc class=\"value\">1.48410805</desc><desc class=\"x left\">387.09925558312653</desc><desc class=\"y left\">212.72118781199993</desc><desc class=\"x_label\">83</desc></g><g class=\"dots\"><circle cx=\"391.62779156327537\" cy=\"238.30170519788248\" r=\"2.5\" class=\"dot reactive tooltip-trigger\"/><desc class=\"value\">1.363616818</desc><desc class=\"x left\">391.62779156327537</desc><desc class=\"y left\">238.30170519788248</desc><desc class=\"x_label\">84</desc></g><g class=\"dots\"><circle cx=\"396.1563275434243\" cy=\"139.594380920706\" r=\"2.5\" class=\"dot reactive tooltip-trigger\"/><desc class=\"value\">1.82855531</desc><desc class=\"x left\">396.1563275434243</desc><desc class=\"y left\">139.594380920706</desc><desc class=\"x_label\">85</desc></g><g class=\"dots\"><circle cx=\"400.6848635235732\" cy=\"121.9816148482837\" r=\"2.5\" class=\"dot reactive tooltip-trigger\"/><desc class=\"value\">1.911516255</desc><desc class=\"x left\">400.6848635235732</desc><desc class=\"y left\">121.9816148482837</desc><desc class=\"x_label\">86</desc></g><g class=\"dots\"><circle cx=\"405.2133995037221\" cy=\"137.66808062414026\" r=\"2.5\" class=\"dot reactive tooltip-trigger\"/><desc class=\"value\">1.837628711</desc><desc class=\"x left\">405.2133995037221</desc><desc class=\"y left\">137.66808062414026</desc><desc class=\"x_label\">87</desc></g><g class=\"dots\"><circle cx=\"409.741935483871\" cy=\"145.81860535913114\" r=\"2.5\" class=\"dot reactive tooltip-trigger\"/><desc class=\"value\">1.799237511</desc><desc class=\"x left\">409.741935483871</desc><desc class=\"y left\">145.81860535913114</desc><desc class=\"x_label\">88</desc></g><g class=\"dots\"><circle cx=\"414.27047146401986\" cy=\"192.33759316543694\" r=\"2.5\" class=\"dot reactive tooltip-trigger\"/><desc class=\"value\">1.580120356</desc><desc class=\"x left\">414.27047146401986</desc><desc class=\"y left\">192.33759316543694</desc><desc class=\"x_label\">89</desc></g><g class=\"dots\"><circle cx=\"418.79900744416875\" cy=\"180.64111995149295\" r=\"2.5\" class=\"dot reactive tooltip-trigger\"/><desc class=\"value\">1.635213944</desc><desc class=\"x left\">418.79900744416875</desc><desc class=\"y left\">180.64111995149295</desc><desc class=\"x_label\">90</desc></g><g class=\"dots\"><circle cx=\"423.3275434243176\" cy=\"121.54818933226704\" r=\"2.5\" class=\"dot reactive tooltip-trigger\"/><desc class=\"value\">1.913557808</desc><desc class=\"x left\">423.3275434243176</desc><desc class=\"y left\">121.54818933226704</desc><desc class=\"x_label\">91</desc></g><g class=\"dots\"><circle cx=\"427.8560794044665\" cy=\"197.22830255492664\" r=\"2.5\" class=\"dot reactive tooltip-trigger\"/><desc class=\"value\">1.557083777</desc><desc class=\"x left\">427.8560794044665</desc><desc class=\"y left\">197.22830255492664</desc><desc class=\"x_label\">92</desc></g><g class=\"dots\"><circle cx=\"432.38461538461536\" cy=\"132.6846565750035\" r=\"2.5\" class=\"dot reactive tooltip-trigger\"/><desc class=\"value\">1.861102001</desc><desc class=\"x left\">432.38461538461536</desc><desc class=\"y left\">132.6846565750035</desc><desc class=\"x_label\">93</desc></g><g class=\"dots\"><circle cx=\"436.91315136476425\" cy=\"102.21775607125687\" r=\"2.5\" class=\"dot reactive tooltip-trigger\"/><desc class=\"value\">2.004609435</desc><desc class=\"x left\">436.91315136476425</desc><desc class=\"y left\">102.21775607125687</desc><desc class=\"x_label\">94</desc></g><g class=\"dots\"><circle cx=\"441.44168734491313\" cy=\"206.52386298409908\" r=\"2.5\" class=\"dot reactive tooltip-trigger\"/><desc class=\"value\">1.513299145</desc><desc class=\"x left\">441.44168734491313</desc><desc class=\"y left\">206.52386298409908</desc><desc class=\"x_label\">95</desc></g><g class=\"dots\"><circle cx=\"445.970223325062\" cy=\"164.44359211969459\" r=\"2.5\" class=\"dot reactive tooltip-trigger\"/><desc class=\"value\">1.711508729</desc><desc class=\"x left\">445.970223325062</desc><desc class=\"y left\">164.44359211969459</desc><desc class=\"x_label\">96</desc></g><g class=\"dots\"><circle cx=\"450.4987593052109\" cy=\"177.48814433980914\" r=\"2.5\" class=\"dot reactive tooltip-trigger\"/><desc class=\"value\">1.650065321</desc><desc class=\"x left\">450.4987593052109</desc><desc class=\"y left\">177.48814433980914</desc><desc class=\"x_label\">97</desc></g><g class=\"dots\"><circle cx=\"455.02729528535974\" cy=\"214.3453833930377\" r=\"2.5\" class=\"dot reactive tooltip-trigger\"/><desc class=\"value\">1.476457645</desc><desc class=\"x left\">455.02729528535974</desc><desc class=\"y left\">214.3453833930377</desc><desc class=\"x_label\">98</desc></g><g class=\"dots\"><circle cx=\"459.5558312655087\" cy=\"96.9755330098705\" r=\"2.5\" class=\"dot reactive tooltip-trigger\"/><desc class=\"value\">2.029301739</desc><desc class=\"x left\">459.5558312655087</desc><desc class=\"y left\">96.9755330098705</desc><desc class=\"x_label\">99</desc></g><g class=\"dots\"><circle cx=\"464.0843672456575\" cy=\"87.42842439937334\" r=\"2.5\" class=\"dot reactive tooltip-trigger\"/><desc class=\"value\">2.074271232</desc><desc class=\"x left\">464.0843672456575</desc><desc class=\"y left\">87.42842439937334</desc><desc class=\"x_label\">100</desc></g><g class=\"dots\"><circle cx=\"468.61290322580646\" cy=\"141.3860966582435\" r=\"2.5\" class=\"dot reactive tooltip-trigger\"/><desc class=\"value\">1.820115839</desc><desc class=\"x left\">468.61290322580646</desc><desc class=\"y left\">141.3860966582435</desc><desc class=\"x_label\">101</desc></g><g class=\"dots\"><circle cx=\"473.14143920595535\" cy=\"182.03701770507217\" r=\"2.5\" class=\"dot reactive tooltip-trigger\"/><desc class=\"value\">1.628638883</desc><desc class=\"x left\">473.14143920595535</desc><desc class=\"y left\">182.03701770507217</desc><desc class=\"x_label\">102</desc></g><g class=\"dots\"><circle cx=\"477.66997518610424\" cy=\"37.64685001695\" r=\"2.5\" class=\"dot reactive tooltip-trigger\"/><desc class=\"value\">2.308756062</desc><desc class=\"x left\">477.66997518610424</desc><desc class=\"y left\">37.64685001695</desc><desc class=\"x_label\">103</desc></g><g class=\"dots\"><circle cx=\"482.19851116625307\" cy=\"194.9102387634291\" r=\"2.5\" class=\"dot reactive tooltip-trigger\"/><desc class=\"value\">1.568002492</desc><desc class=\"x left\">482.19851116625307</desc><desc class=\"y left\">194.9102387634291</desc><desc class=\"x_label\">104</desc></g><g class=\"dots\"><circle cx=\"486.727047146402\" cy=\"241.81125261964854\" r=\"2.5\" class=\"dot reactive tooltip-trigger\"/><desc class=\"value\">1.34708589</desc><desc class=\"x left\">486.727047146402</desc><desc class=\"y left\">241.81125261964854</desc><desc class=\"x_label\">105</desc></g><g class=\"dots\"><circle cx=\"491.2555831265509\" cy=\"111.71346393829606\" r=\"2.5\" class=\"dot reactive tooltip-trigger\"/><desc class=\"value\">1.959882054</desc><desc class=\"x left\">491.2555831265509</desc><desc class=\"y left\">111.71346393829606</desc><desc class=\"x_label\">106</desc></g><g class=\"dots\"><circle cx=\"495.78411910669973\" cy=\"240.2790571415689\" r=\"2.5\" class=\"dot reactive tooltip-trigger\"/><desc class=\"value\">1.354302949</desc><desc class=\"x left\">495.78411910669973</desc><desc class=\"y left\">240.2790571415689</desc><desc class=\"x_label\">107</desc></g><g class=\"dots\"><circle cx=\"500.3126550868487\" cy=\"200.3122846168448\" r=\"2.5\" class=\"dot reactive tooltip-trigger\"/><desc class=\"value\">1.542557378</desc><desc class=\"x left\">500.3126550868487</desc><desc class=\"y left\">200.3122846168448</desc><desc class=\"x_label\">108</desc></g><g class=\"dots\"><circle cx=\"504.84119106699745\" cy=\"220.43206133728353\" r=\"2.5\" class=\"dot reactive tooltip-trigger\"/><desc class=\"value\">1.447787727</desc><desc class=\"x left\">504.84119106699745</desc><desc class=\"y left\">220.43206133728353</desc><desc class=\"x_label\">109</desc></g><g class=\"dots\"><circle cx=\"509.3697270471464\" cy=\"9.884615384615302\" r=\"2.5\" class=\"dot reactive tooltip-trigger\"/><desc class=\"value\">2.439523779</desc><desc class=\"x left\">509.3697270471464</desc><desc class=\"y left\">9.884615384615302</desc><desc class=\"x_label\">110</desc></g><g class=\"dots\"><circle cx=\"513.8982630272953\" cy=\"38.722926925245076\" r=\"2.5\" class=\"dot reactive tooltip-trigger\"/><desc class=\"value\">2.303687445</desc><desc class=\"x left\">513.8982630272953</desc><desc class=\"y left\">38.722926925245076</desc><desc class=\"x_label\">111</desc></g><g class=\"dots\"><circle cx=\"518.4267990074441\" cy=\"155.92200699855613\" r=\"2.5\" class=\"dot reactive tooltip-trigger\"/><desc class=\"value\">1.751647726</desc><desc class=\"x left\">518.4267990074441</desc><desc class=\"y left\">155.92200699855613</desc><desc class=\"x_label\">112</desc></g><g class=\"dots\"><circle cx=\"522.955334987593\" cy=\"176.67298405227075\" r=\"2.5\" class=\"dot reactive tooltip-trigger\"/><desc class=\"value\">1.653904949</desc><desc class=\"x left\">522.955334987593</desc><desc class=\"y left\">176.67298405227075</desc><desc class=\"x_label\">113</desc></g><g class=\"dots\"><circle cx=\"527.483870967742\" cy=\"181.67196890355814\" r=\"2.5\" class=\"dot reactive tooltip-trigger\"/><desc class=\"value\">1.630358363</desc><desc class=\"x left\">527.483870967742</desc><desc class=\"y left\">181.67196890355814</desc><desc class=\"x_label\">114</desc></g><g class=\"dots\"><circle cx=\"532.0124069478908\" cy=\"105.90519557430906\" r=\"2.5\" class=\"dot reactive tooltip-trigger\"/><desc class=\"value\">1.987240587</desc><desc class=\"x left\">532.0124069478908</desc><desc class=\"y left\">105.90519557430906</desc><desc class=\"x_label\">115</desc></g><g class=\"dots\"><circle cx=\"536.5409429280397\" cy=\"238.49967404676335\" r=\"2.5\" class=\"dot reactive tooltip-trigger\"/><desc class=\"value\">1.36268433</desc><desc class=\"x left\">536.5409429280397</desc><desc class=\"y left\">238.49967404676335</desc><desc class=\"x_label\">116</desc></g><g class=\"dots\"><circle cx=\"541.0694789081886\" cy=\"226.88534301421828\" r=\"2.5\" class=\"dot reactive tooltip-trigger\"/><desc class=\"value\">1.417391006</desc><desc class=\"x left\">541.0694789081886</desc><desc class=\"y left\">226.88534301421828</desc><desc class=\"x_label\">117</desc></g><g class=\"dots\"><circle cx=\"545.5980148883375\" cy=\"215.15123697881944\" r=\"2.5\" class=\"dot reactive tooltip-trigger\"/><desc class=\"value\">1.472661854</desc><desc class=\"x left\">545.5980148883375</desc><desc class=\"y left\">215.15123697881944</desc><desc class=\"x_label\">118</desc></g><g class=\"dots\"><circle cx=\"550.1265508684863\" cy=\"164.0444234842173\" r=\"2.5\" class=\"dot reactive tooltip-trigger\"/><desc class=\"value\">1.713388923</desc><desc class=\"x left\">550.1265508684863</desc><desc class=\"y left\">164.0444234842173</desc><desc class=\"x_label\">119</desc></g><g class=\"dots\"><circle cx=\"554.6550868486353\" cy=\"140.14998335293507\" r=\"2.5\" class=\"dot reactive tooltip-trigger\"/><desc class=\"value\">1.825938271</desc><desc class=\"x left\">554.6550868486353</desc><desc class=\"y left\">140.14998335293507</desc><desc class=\"x_label\">120</desc></g><g class=\"dots\"><circle cx=\"559.1836228287841\" cy=\"178.3417710810125\" r=\"2.5\" class=\"dot reactive tooltip-trigger\"/><desc class=\"value\">1.646044506</desc><desc class=\"x left\">559.1836228287841</desc><desc class=\"y left\">178.3417710810125</desc><desc class=\"x_label\">121</desc></g><g class=\"dots\"><circle cx=\"563.7121588089329\" cy=\"67.8609838887379\" r=\"2.5\" class=\"dot reactive tooltip-trigger\"/><desc class=\"value\">2.166439228</desc><desc class=\"x left\">563.7121588089329</desc><desc class=\"y left\">67.8609838887379</desc><desc class=\"x_label\">122</desc></g><g class=\"dots\"><circle cx=\"568.2406947890819\" cy=\"232.62191158626644\" r=\"2.5\" class=\"dot reactive tooltip-trigger\"/><desc class=\"value\">1.390370199</desc><desc class=\"x left\">568.2406947890819</desc><desc class=\"y left\">232.62191158626644</desc><desc class=\"x_label\">123</desc></g><g class=\"dots\"><circle cx=\"572.7692307692308\" cy=\"135.78818078088682\" r=\"2.5\" class=\"dot reactive tooltip-trigger\"/><desc class=\"value\">1.846483554</desc><desc class=\"x left\">572.7692307692308</desc><desc class=\"y left\">135.78818078088682</desc><desc class=\"x_label\">124</desc></g></g><g class=\"series serie-5 color-5\"><g class=\"dots\"><circle cx=\"11.23076923076923\" cy=\"231.4048359307123\" r=\"2.5\" class=\"dot reactive tooltip-trigger\"/><desc class=\"value\">1.396102958</desc><desc class=\"x \">11.23076923076923</desc><desc class=\"y \">231.4048359307123</desc><desc class=\"x_label\">0</desc></g><g class=\"dots\"><circle cx=\"15.759305210918114\" cy=\"214.80056516589605\" r=\"2.5\" class=\"dot reactive tooltip-trigger\"/><desc class=\"value\">1.474313614</desc><desc class=\"x \">15.759305210918114</desc><desc class=\"y \">214.80056516589605</desc><desc class=\"x_label\">1</desc></g><g class=\"dots\"><circle cx=\"20.287841191067\" cy=\"204.00446476439373\" r=\"2.5\" class=\"dot reactive tooltip-trigger\"/><desc class=\"value\">1.5251662</desc><desc class=\"x \">20.287841191067</desc><desc class=\"y \">204.00446476439373</desc><desc class=\"x_label\">2</desc></g><g class=\"dots\"><circle cx=\"24.816377171215876\" cy=\"197.3498424301473\" r=\"2.5\" class=\"dot reactive tooltip-trigger\"/><desc class=\"value\">1.556511291</desc><desc class=\"x \">24.816377171215876</desc><desc class=\"y \">197.3498424301473</desc><desc class=\"x_label\">3</desc></g><g class=\"dots\"><circle cx=\"29.344913151364764\" cy=\"219.580480509994\" r=\"2.5\" class=\"dot reactive tooltip-trigger\"/><desc class=\"value\">1.451798906</desc><desc class=\"x \">29.344913151364764</desc><desc class=\"y \">219.580480509994</desc><desc class=\"x_label\">4</desc></g><g class=\"dots\"><circle cx=\"33.873449131513645\" cy=\"218.1301156939693\" r=\"2.5\" class=\"dot reactive tooltip-trigger\"/><desc class=\"value\">1.458630521</desc><desc class=\"x \">33.873449131513645</desc><desc class=\"y \">218.1301156939693</desc><desc class=\"x_label\">5</desc></g><g class=\"dots\"><circle cx=\"38.401985111662526\" cy=\"202.01810669950623\" r=\"2.5\" class=\"dot reactive tooltip-trigger\"/><desc class=\"value\">1.53452249</desc><desc class=\"x \">38.401985111662526</desc><desc class=\"y \">202.01810669950623</desc><desc class=\"x_label\">6</desc></g><g class=\"dots\"><circle cx=\"42.930521091811414\" cy=\"220.44193620109905\" r=\"2.5\" class=\"dot reactive tooltip-trigger\"/><desc class=\"value\">1.447741214</desc><desc class=\"x \">42.930521091811414</desc><desc class=\"y \">220.44193620109905</desc><desc class=\"x_label\">7</desc></g><g class=\"dots\"><circle cx=\"47.459057071960295\" cy=\"234.00747865126186\" r=\"2.5\" class=\"dot reactive tooltip-trigger\"/><desc class=\"value\">1.383843799</desc><desc class=\"x \">47.459057071960295</desc><desc class=\"y \">234.00747865126186</desc><desc class=\"x_label\">8</desc></g><g class=\"dots\"><circle cx=\"51.98759305210918\" cy=\"176.17486115000315\" r=\"2.5\" class=\"dot reactive tooltip-trigger\"/><desc class=\"value\">1.656251244</desc><desc class=\"x \">51.98759305210918</desc><desc class=\"y \">176.17486115000315</desc><desc class=\"x_label\">9</desc></g><g class=\"dots\"><circle cx=\"56.516129032258064\" cy=\"177.81396813686945\" r=\"2.5\" class=\"dot reactive tooltip-trigger\"/><desc class=\"value\">1.648530602</desc><desc class=\"x \">56.516129032258064</desc><desc class=\"y \">177.81396813686945</desc><desc class=\"x_label\">10</desc></g><g class=\"dots\"><circle cx=\"61.04466501240695\" cy=\"176.69731119228288\" r=\"2.5\" class=\"dot reactive tooltip-trigger\"/><desc class=\"value\">1.653790361</desc><desc class=\"x \">61.04466501240695</desc><desc class=\"y \">176.69731119228288</desc><desc class=\"x_label\">11</desc></g><g class=\"dots\"><circle cx=\"65.57320099255584\" cy=\"185.88839037368479\" r=\"2.5\" class=\"dot reactive tooltip-trigger\"/><desc class=\"value\">1.610497865</desc><desc class=\"x \">65.57320099255584</desc><desc class=\"y \">185.88839037368479</desc><desc class=\"x_label\">12</desc></g><g class=\"dots\"><circle cx=\"70.10173697270471\" cy=\"180.26293122188827\" r=\"2.5\" class=\"dot reactive tooltip-trigger\"/><desc class=\"value\">1.636995316</desc><desc class=\"x \">70.10173697270471</desc><desc class=\"y \">180.26293122188827</desc><desc class=\"x_label\">13</desc></g><g class=\"dots\"><circle cx=\"74.63027295285359\" cy=\"190.63201969691306\" r=\"2.5\" class=\"dot reactive tooltip-trigger\"/><desc class=\"value\">1.588154073</desc><desc class=\"x \">74.63027295285359</desc><desc class=\"y \">190.63201969691306</desc><desc class=\"x_label\">14</desc></g><g class=\"dots\"><circle cx=\"79.15880893300248\" cy=\"203.32485809604435\" r=\"2.5\" class=\"dot reactive tooltip-trigger\"/><desc class=\"value\">1.528367333</desc><desc class=\"x \">79.15880893300248</desc><desc class=\"y \">203.32485809604435</desc><desc class=\"x_label\">15</desc></g><g class=\"dots\"><circle cx=\"83.68734491315136\" cy=\"210.9973798157469\" r=\"2.5\" class=\"dot reactive tooltip-trigger\"/><desc class=\"value\">1.492227658</desc><desc class=\"x \">83.68734491315136</desc><desc class=\"y \">210.9973798157469</desc><desc class=\"x_label\">16</desc></g><g class=\"dots\"><circle cx=\"88.21588089330024\" cy=\"231.4996516439229\" r=\"2.5\" class=\"dot reactive tooltip-trigger\"/><desc class=\"value\">1.39565635</desc><desc class=\"x \">88.21588089330024</desc><desc class=\"y \">231.4996516439229</desc><desc class=\"x_label\">17</desc></g><g class=\"dots\"><circle cx=\"92.74441687344913\" cy=\"191.69631850548154\" r=\"2.5\" class=\"dot reactive tooltip-trigger\"/><desc class=\"value\">1.583140935</desc><desc class=\"x \">92.74441687344913</desc><desc class=\"y \">191.69631850548154</desc><desc class=\"x_label\">18</desc></g><g class=\"dots\"><circle cx=\"97.272952853598\" cy=\"188.5491718027816\" r=\"2.5\" class=\"dot reactive tooltip-trigger\"/><desc class=\"value\">1.597964857</desc><desc class=\"x \">97.272952853598</desc><desc class=\"y \">188.5491718027816</desc><desc class=\"x_label\">19</desc></g><g class=\"dots\"><circle cx=\"101.80148883374689\" cy=\"181.5114629732795\" r=\"2.5\" class=\"dot reactive tooltip-trigger\"/><desc class=\"value\">1.63111439</desc><desc class=\"x \">101.80148883374689</desc><desc class=\"y \">181.5114629732795</desc><desc class=\"x_label\">20</desc></g><g class=\"dots\"><circle cx=\"106.33002481389576\" cy=\"206.71097418362848\" r=\"2.5\" class=\"dot reactive tooltip-trigger\"/><desc class=\"value\">1.5124178</desc><desc class=\"x \">106.33002481389576</desc><desc class=\"y \">206.71097418362848</desc><desc class=\"x_label\">21</desc></g><g class=\"dots\"><circle cx=\"110.85856079404466\" cy=\"213.3646940574004\" r=\"2.5\" class=\"dot reactive tooltip-trigger\"/><desc class=\"value\">1.48107696</desc><desc class=\"x \">110.85856079404466</desc><desc class=\"y \">213.3646940574004</desc><desc class=\"x_label\">22</desc></g><g class=\"dots\"><circle cx=\"115.38709677419354\" cy=\"183.72064594976825\" r=\"2.5\" class=\"dot reactive tooltip-trigger\"/><desc class=\"value\">1.620708534</desc><desc class=\"x \">115.38709677419354</desc><desc class=\"y \">183.72064594976825</desc><desc class=\"x_label\">23</desc></g><g class=\"dots\"><circle cx=\"119.91563275434243\" cy=\"115.73402262581618\" r=\"2.5\" class=\"dot reactive tooltip-trigger\"/><desc class=\"value\">1.940944123</desc><desc class=\"x \">119.91563275434243</desc><desc class=\"y \">115.73402262581618</desc><desc class=\"x_label\">24</desc></g><g class=\"dots\"><circle cx=\"124.4441687344913\" cy=\"169.061114312605\" r=\"2.5\" class=\"dot reactive tooltip-trigger\"/><desc class=\"value\">1.689758937</desc><desc class=\"x \">124.4441687344913</desc><desc class=\"y \">169.061114312605</desc><desc class=\"x_label\">25</desc></g><g class=\"dots\"><circle cx=\"128.9727047146402\" cy=\"187.27536400290882\" r=\"2.5\" class=\"dot reactive tooltip-trigger\"/><desc class=\"value\">1.60396484</desc><desc class=\"x \">128.9727047146402</desc><desc class=\"y \">187.27536400290882</desc><desc class=\"x_label\">26</desc></g><g class=\"dots\"><circle cx=\"133.5012406947891\" cy=\"176.47645940559414\" r=\"2.5\" class=\"dot reactive tooltip-trigger\"/><desc class=\"value\">1.654830634</desc><desc class=\"x \">133.5012406947891</desc><desc class=\"y \">176.47645940559414</desc><desc class=\"x_label\">27</desc></g><g class=\"dots\"><circle cx=\"138.02977667493795\" cy=\"170.61036833548133\" r=\"2.5\" class=\"dot reactive tooltip-trigger\"/><desc class=\"value\">1.682461527</desc><desc class=\"x \">138.02977667493795</desc><desc class=\"y \">170.61036833548133</desc><desc class=\"x_label\">28</desc></g><g class=\"dots\"><circle cx=\"142.55831265508684\" cy=\"110.37504375320253\" r=\"2.5\" class=\"dot reactive tooltip-trigger\"/><desc class=\"value\">1.966186379</desc><desc class=\"x \">142.55831265508684</desc><desc class=\"y \">110.37504375320253</desc><desc class=\"x_label\">29</desc></g><g class=\"dots\"><circle cx=\"147.08684863523575\" cy=\"42.075960514322105\" r=\"2.5\" class=\"dot reactive tooltip-trigger\"/><desc class=\"value\">2.28789374</desc><desc class=\"x \">147.08684863523575</desc><desc class=\"y \">42.075960514322105</desc><desc class=\"x_label\">30</desc></g><g class=\"dots\"><circle cx=\"151.6153846153846\" cy=\"134.0802472146774\" r=\"2.5\" class=\"dot reactive tooltip-trigger\"/><desc class=\"value\">1.854528388</desc><desc class=\"x \">151.6153846153846</desc><desc class=\"y \">134.0802472146774</desc><desc class=\"x_label\">31</desc></g><g class=\"dots\"><circle cx=\"156.1439205955335\" cy=\"192.43835620390718\" r=\"2.5\" class=\"dot reactive tooltip-trigger\"/><desc class=\"value\">1.579645734</desc><desc class=\"x \">156.1439205955335</desc><desc class=\"y \">192.43835620390718</desc><desc class=\"x_label\">32</desc></g><g class=\"dots\"><circle cx=\"160.67245657568236\" cy=\"177.96110206360527\" r=\"2.5\" class=\"dot reactive tooltip-trigger\"/><desc class=\"value\">1.647837561</desc><desc class=\"x \">160.67245657568236</desc><desc class=\"y \">177.96110206360527</desc><desc class=\"x_label\">33</desc></g><g class=\"dots\"><circle cx=\"165.20099255583125\" cy=\"198.80425156087182\" r=\"2.5\" class=\"dot reactive tooltip-trigger\"/><desc class=\"value\">1.549660626</desc><desc class=\"x \">165.20099255583125</desc><desc class=\"y \">198.80425156087182</desc><desc class=\"x_label\">34</desc></g><g class=\"dots\"><circle cx=\"169.7295285359802\" cy=\"200.2115712207148\" r=\"2.5\" class=\"dot reactive tooltip-trigger\"/><desc class=\"value\">1.543031766</desc><desc class=\"x \">169.7295285359802</desc><desc class=\"y \">200.2115712207148</desc><desc class=\"x_label\">35</desc></g><g class=\"dots\"><circle cx=\"174.25806451612905\" cy=\"156.01905310200056\" r=\"2.5\" class=\"dot reactive tooltip-trigger\"/><desc class=\"value\">1.751190612</desc><desc class=\"x \">174.25806451612905</desc><desc class=\"y \">156.01905310200056</desc><desc class=\"x_label\">36</desc></g><g class=\"dots\"><circle cx=\"178.78660049627794\" cy=\"184.76849675946704\" r=\"2.5\" class=\"dot reactive tooltip-trigger\"/><desc class=\"value\">1.61577287</desc><desc class=\"x \">178.78660049627794</desc><desc class=\"y \">184.76849675946704</desc><desc class=\"x_label\">37</desc></g><g class=\"dots\"><circle cx=\"183.3151364764268\" cy=\"147.6320307849685\" r=\"2.5\" class=\"dot reactive tooltip-trigger\"/><desc class=\"value\">1.790695781</desc><desc class=\"x \">183.3151364764268</desc><desc class=\"y \">147.6320307849685</desc><desc class=\"x_label\">38</desc></g><g class=\"dots\"><circle cx=\"187.8436724565757\" cy=\"208.30912175219578\" r=\"2.5\" class=\"dot reactive tooltip-trigger\"/><desc class=\"value\">1.504890088</desc><desc class=\"x \">187.8436724565757</desc><desc class=\"y \">208.30912175219578</desc><desc class=\"x_label\">39</desc></g><g class=\"dots\"><circle cx=\"192.37220843672455\" cy=\"132.17574846964294\" r=\"2.5\" class=\"dot reactive tooltip-trigger\"/><desc class=\"value\">1.863499098</desc><desc class=\"x \">192.37220843672455</desc><desc class=\"y \">132.17574846964294</desc><desc class=\"x_label\">40</desc></g><g class=\"dots\"><circle cx=\"196.90074441687344\" cy=\"206.22255594019623\" r=\"2.5\" class=\"dot reactive tooltip-trigger\"/><desc class=\"value\">1.514718384</desc><desc class=\"x \">196.90074441687344</desc><desc class=\"y \">206.22255594019623</desc><desc class=\"x_label\">41</desc></g><g class=\"dots\"><circle cx=\"201.4292803970223\" cy=\"179.48068008912753\" r=\"2.5\" class=\"dot reactive tooltip-trigger\"/><desc class=\"value\">1.640679933</desc><desc class=\"x \">201.4292803970223</desc><desc class=\"y \">179.48068008912753</desc><desc class=\"x_label\">42</desc></g><g class=\"dots\"><circle cx=\"205.95781637717124\" cy=\"163.36111675983813\" r=\"2.5\" class=\"dot reactive tooltip-trigger\"/><desc class=\"value\">1.716607484</desc><desc class=\"x \">205.95781637717124</desc><desc class=\"y \">163.36111675983813</desc><desc class=\"x_label\">43</desc></g><g class=\"dots\"><circle cx=\"210.48635235732013\" cy=\"190.6563486150826\" r=\"2.5\" class=\"dot reactive tooltip-trigger\"/><desc class=\"value\">1.588039477</desc><desc class=\"x \">210.48635235732013</desc><desc class=\"y \">190.6563486150826</desc><desc class=\"x_label\">44</desc></g><g class=\"dots\"><circle cx=\"215.014888337469\" cy=\"174.38299617251658\" r=\"2.5\" class=\"dot reactive tooltip-trigger\"/><desc class=\"value\">1.664691418</desc><desc class=\"x \">215.014888337469</desc><desc class=\"y \">174.38299617251658</desc><desc class=\"x_label\">45</desc></g><g class=\"dots\"><circle cx=\"219.54342431761788\" cy=\"185.30440714199\" r=\"2.5\" class=\"dot reactive tooltip-trigger\"/><desc class=\"value\">1.613248586</desc><desc class=\"x \">219.54342431761788</desc><desc class=\"y \">185.30440714199</desc><desc class=\"x_label\">46</desc></g><g class=\"dots\"><circle cx=\"224.07196029776674\" cy=\"223.37713962737638\" r=\"2.5\" class=\"dot reactive tooltip-trigger\"/><desc class=\"value\">1.433915603</desc><desc class=\"x \">224.07196029776674</desc><desc class=\"y \">223.37713962737638</desc><desc class=\"x_label\">47</desc></g><g class=\"dots\"><circle cx=\"228.60049627791562\" cy=\"201.15823282635807\" r=\"2.5\" class=\"dot reactive tooltip-trigger\"/><desc class=\"value\">1.538572731</desc><desc class=\"x \">228.60049627791562</desc><desc class=\"y \">201.15823282635807</desc><desc class=\"x_label\">48</desc></g><g class=\"dots\"><circle cx=\"233.1290322580645\" cy=\"231.3097396272978\" r=\"2.5\" class=\"dot reactive tooltip-trigger\"/><desc class=\"value\">1.396550888</desc><desc class=\"x \">233.1290322580645</desc><desc class=\"y \">231.3097396272978</desc><desc class=\"x_label\">49</desc></g><g class=\"dots\"><circle cx=\"237.65756823821337\" cy=\"138.49172303776731\" r=\"2.5\" class=\"dot reactive tooltip-trigger\"/><desc class=\"value\">1.83374913</desc><desc class=\"x \">237.65756823821337</desc><desc class=\"y \">138.49172303776731</desc><desc class=\"x_label\">50</desc></g><g class=\"dots\"><circle cx=\"242.18610421836232\" cy=\"191.18955368122835\" r=\"2.5\" class=\"dot reactive tooltip-trigger\"/><desc class=\"value\">1.585527936</desc><desc class=\"x \">242.18610421836232</desc><desc class=\"y \">191.18955368122835</desc><desc class=\"x_label\">51</desc></g><g class=\"dots\"><circle cx=\"246.7146401985112\" cy=\"206.44650483365456\" r=\"2.5\" class=\"dot reactive tooltip-trigger\"/><desc class=\"value\">1.513663523</desc><desc class=\"x \">246.7146401985112</desc><desc class=\"y \">206.44650483365456</desc><desc class=\"x_label\">52</desc></g><g class=\"dots\"><circle cx=\"251.24317617866006\" cy=\"146.84394967122762\" r=\"2.5\" class=\"dot reactive tooltip-trigger\"/><desc class=\"value\">1.794407859</desc><desc class=\"x \">251.24317617866006</desc><desc class=\"y \">146.84394967122762</desc><desc class=\"x_label\">53</desc></g><g class=\"dots\"><circle cx=\"255.77171215880892\" cy=\"224.64857104445326\" r=\"2.5\" class=\"dot reactive tooltip-trigger\"/><desc class=\"value\">1.427926813</desc><desc class=\"x \">255.77171215880892</desc><desc class=\"y \">224.64857104445326</desc><desc class=\"x_label\">54</desc></g><g class=\"dots\"><circle cx=\"260.30024813895784\" cy=\"205.47941462372785\" r=\"2.5\" class=\"dot reactive tooltip-trigger\"/><desc class=\"value\">1.518218783</desc><desc class=\"x \">260.30024813895784</desc><desc class=\"y \">205.47941462372785</desc><desc class=\"x_label\">55</desc></g><g class=\"dots\"><circle cx=\"264.82878411910673\" cy=\"230.43673012420663\" r=\"2.5\" class=\"dot reactive tooltip-trigger\"/><desc class=\"value\">1.400663001</desc><desc class=\"x \">264.82878411910673</desc><desc class=\"y \">230.43673012420663</desc><desc class=\"x_label\">56</desc></g><g class=\"dots\"><circle cx=\"269.35732009925556\" cy=\"235.50776657262116\" r=\"2.5\" class=\"dot reactive tooltip-trigger\"/><desc class=\"value\">1.376777033</desc><desc class=\"x \">269.35732009925556</desc><desc class=\"y \">235.50776657262116</desc><desc class=\"x_label\">57</desc></g><g class=\"dots\"><circle cx=\"273.88585607940445\" cy=\"89.46596042137213\" r=\"2.5\" class=\"dot reactive tooltip-trigger\"/><desc class=\"value\">2.06467388</desc><desc class=\"x \">273.88585607940445</desc><desc class=\"y \">89.46596042137213</desc><desc class=\"x_label\">58</desc></g><g class=\"dots\"><circle cx=\"278.41439205955334\" cy=\"216.18705177127237\" r=\"2.5\" class=\"dot reactive tooltip-trigger\"/><desc class=\"value\">1.467782883</desc><desc class=\"x \">278.41439205955334</desc><desc class=\"y \">216.18705177127237</desc><desc class=\"x_label\">59</desc></g><g class=\"dots\"><circle cx=\"282.9429280397022\" cy=\"176.42953719177552\" r=\"2.5\" class=\"dot reactive tooltip-trigger\"/><desc class=\"value\">1.65505165</desc><desc class=\"x \">282.9429280397022</desc><desc class=\"y \">176.42953719177552</desc><desc class=\"x_label\">60</desc></g><g class=\"dots\"><circle cx=\"287.4714640198511\" cy=\"181.5819265266254\" r=\"2.5\" class=\"dot reactive tooltip-trigger\"/><desc class=\"value\">1.630782487</desc><desc class=\"x \">287.4714640198511</desc><desc class=\"y \">181.5819265266254</desc><desc class=\"x_label\">61</desc></g><g class=\"dots\"><circle cx=\"292.0\" cy=\"139.97991245281997\" r=\"2.5\" class=\"dot reactive tooltip-trigger\"/><desc class=\"value\">1.826739351</desc><desc class=\"x \">292.0</desc><desc class=\"y \">139.97991245281997</desc><desc class=\"x_label\">62</desc></g><g class=\"dots\"><circle cx=\"296.5285359801489\" cy=\"177.6571797536314\" r=\"2.5\" class=\"dot reactive tooltip-trigger\"/><desc class=\"value\">1.649269118</desc><desc class=\"x left\">296.5285359801489</desc><desc class=\"y left\">177.6571797536314</desc><desc class=\"x_label\">63</desc></g><g class=\"dots\"><circle cx=\"301.0570719602978\" cy=\"181.71175735975362\" r=\"2.5\" class=\"dot reactive tooltip-trigger\"/><desc class=\"value\">1.630170949</desc><desc class=\"x left\">301.0570719602978</desc><desc class=\"y left\">181.71175735975362</desc><desc class=\"x_label\">64</desc></g><g class=\"dots\"><circle cx=\"305.58560794044666\" cy=\"189.26696038182416\" r=\"2.5\" class=\"dot reactive tooltip-trigger\"/><desc class=\"value\">1.594583876</desc><desc class=\"x left\">305.58560794044666</desc><desc class=\"y left\">189.26696038182416</desc><desc class=\"x_label\">65</desc></g><g class=\"dots\"><circle cx=\"310.1141439205955\" cy=\"192.17102502709508\" r=\"2.5\" class=\"dot reactive tooltip-trigger\"/><desc class=\"value\">1.580904937</desc><desc class=\"x left\">310.1141439205955</desc><desc class=\"y left\">192.17102502709508</desc><desc class=\"x_label\">66</desc></g><g class=\"dots\"><circle cx=\"314.6426799007444\" cy=\"160.8343009923246\" r=\"2.5\" class=\"dot reactive tooltip-trigger\"/><desc class=\"value\">1.728509478</desc><desc class=\"x left\">314.6426799007444</desc><desc class=\"y left\">160.8343009923246</desc><desc class=\"x_label\">67</desc></g><g class=\"dots\"><circle cx=\"319.17121588089327\" cy=\"219.551308639281\" r=\"2.5\" class=\"dot reactive tooltip-trigger\"/><desc class=\"value\">1.451936313</desc><desc class=\"x left\">319.17121588089327</desc><desc class=\"y left\">219.551308639281</desc><desc class=\"x_label\">68</desc></g><g class=\"dots\"><circle cx=\"323.69975186104216\" cy=\"218.38951216291412\" r=\"2.5\" class=\"dot reactive tooltip-trigger\"/><desc class=\"value\">1.457408693</desc><desc class=\"x left\">323.69975186104216</desc><desc class=\"y left\">218.38951216291412</desc><desc class=\"x_label\">69</desc></g><g class=\"dots\"><circle cx=\"328.22828784119105\" cy=\"23.17943597267856\" r=\"2.5\" class=\"dot reactive tooltip-trigger\"/><desc class=\"value\">2.376901539</desc><desc class=\"x left\">328.22828784119105</desc><desc class=\"y left\">23.17943597267856</desc><desc class=\"x_label\">70</desc></g><g class=\"dots\"><circle cx=\"332.75682382134\" cy=\"223.14874333206058\" r=\"2.5\" class=\"dot reactive tooltip-trigger\"/><desc class=\"value\">1.434991412</desc><desc class=\"x left\">332.75682382134</desc><desc class=\"y left\">223.14874333206058</desc><desc class=\"x_label\">71</desc></g><g class=\"dots\"><circle cx=\"337.2853598014889\" cy=\"173.9572356692977\" r=\"2.5\" class=\"dot reactive tooltip-trigger\"/><desc class=\"value\">1.666696866</desc><desc class=\"x left\">337.2853598014889</desc><desc class=\"y left\">173.9572356692977</desc><desc class=\"x_label\">72</desc></g><g class=\"dots\"><circle cx=\"341.8138957816377\" cy=\"227.24847197534132\" r=\"2.5\" class=\"dot reactive tooltip-trigger\"/><desc class=\"value\">1.415680569</desc><desc class=\"x left\">341.8138957816377</desc><desc class=\"y left\">227.24847197534132</desc><desc class=\"x_label\">73</desc></g><g class=\"dots\"><circle cx=\"346.34243176178666\" cy=\"153.07292023970967\" r=\"2.5\" class=\"dot reactive tooltip-trigger\"/><desc class=\"value\">1.765067704</desc><desc class=\"x left\">346.34243176178666</desc><desc class=\"y left\">153.07292023970967</desc><desc class=\"x_label\">74</desc></g><g class=\"dots\"><circle cx=\"350.8709677419355\" cy=\"162.2344809629763\" r=\"2.5\" class=\"dot reactive tooltip-trigger\"/><desc class=\"value\">1.721914247</desc><desc class=\"x left\">350.8709677419355</desc><desc class=\"y left\">162.2344809629763</desc><desc class=\"x_label\">75</desc></g><g class=\"dots\"><circle cx=\"355.3995037220844\" cy=\"208.77535503954067\" r=\"2.5\" class=\"dot reactive tooltip-trigger\"/><desc class=\"value\">1.502694002</desc><desc class=\"x left\">355.3995037220844</desc><desc class=\"y left\">208.77535503954067</desc><desc class=\"x_label\">76</desc></g><g class=\"dots\"><circle cx=\"359.9280397022332\" cy=\"182.2109472429632\" r=\"2.5\" class=\"dot reactive tooltip-trigger\"/><desc class=\"value\">1.627819628</desc><desc class=\"x left\">359.9280397022332</desc><desc class=\"y left\">182.2109472429632</desc><desc class=\"x_label\">77</desc></g><g class=\"dots\"><circle cx=\"364.45657568238215\" cy=\"130.08259126779683\" r=\"2.5\" class=\"dot reactive tooltip-trigger\"/><desc class=\"value\">1.873358441</desc><desc class=\"x left\">364.45657568238215</desc><desc class=\"y left\">130.08259126779683</desc><desc class=\"x_label\">78</desc></g><g class=\"dots\"><circle cx=\"368.985111662531\" cy=\"185.97031291073745\" r=\"2.5\" class=\"dot reactive tooltip-trigger\"/><desc class=\"value\">1.610111987</desc><desc class=\"x left\">368.985111662531</desc><desc class=\"y left\">185.97031291073745</desc><desc class=\"x_label\">79</desc></g><g class=\"dots\"><circle cx=\"373.51364764267987\" cy=\"200.74760843598244\" r=\"2.5\" class=\"dot reactive tooltip-trigger\"/><desc class=\"value\">1.540506884</desc><desc class=\"x left\">373.51364764267987</desc><desc class=\"y left\">200.74760843598244</desc><desc class=\"x_label\">80</desc></g><g class=\"dots\"><circle cx=\"378.0421836228288\" cy=\"151.47912305495794\" r=\"2.5\" class=\"dot reactive tooltip-trigger\"/><desc class=\"value\">1.772574924</desc><desc class=\"x left\">378.0421836228288</desc><desc class=\"y left\">151.47912305495794</desc><desc class=\"x_label\">81</desc></g><g class=\"dots\"><circle cx=\"382.57071960297765\" cy=\"213.1362608253392\" r=\"2.5\" class=\"dot reactive tooltip-trigger\"/><desc class=\"value\">1.482152943</desc><desc class=\"x left\">382.57071960297765</desc><desc class=\"y left\">213.1362608253392</desc><desc class=\"x_label\">82</desc></g><g class=\"dots\"><circle cx=\"387.09925558312653\" cy=\"236.82573384935682\" r=\"2.5\" class=\"dot reactive tooltip-trigger\"/><desc class=\"value\">1.370569046</desc><desc class=\"x left\">387.09925558312653</desc><desc class=\"y left\">236.82573384935682</desc><desc class=\"x_label\">83</desc></g><g class=\"dots\"><circle cx=\"391.62779156327537\" cy=\"211.31325781365723\" r=\"2.5\" class=\"dot reactive tooltip-trigger\"/><desc class=\"value\">1.490739786</desc><desc class=\"x left\">391.62779156327537</desc><desc class=\"y left\">211.31325781365723</desc><desc class=\"x_label\">84</desc></g><g class=\"dots\"><circle cx=\"396.1563275434243\" cy=\"161.54956934880175\" r=\"2.5\" class=\"dot reactive tooltip-trigger\"/><desc class=\"value\">1.725140368</desc><desc class=\"x left\">396.1563275434243</desc><desc class=\"y left\">161.54956934880175</desc><desc class=\"x_label\">85</desc></g><g class=\"dots\"><circle cx=\"400.6848635235732\" cy=\"195.3212635550467\" r=\"2.5\" class=\"dot reactive tooltip-trigger\"/><desc class=\"value\">1.566066452</desc><desc class=\"x left\">400.6848635235732</desc><desc class=\"y left\">195.3212635550467</desc><desc class=\"x_label\">86</desc></g><g class=\"dots\"><circle cx=\"405.2133995037221\" cy=\"221.04002228702018\" r=\"2.5\" class=\"dot reactive tooltip-trigger\"/><desc class=\"value\">1.444924065</desc><desc class=\"x left\">405.2133995037221</desc><desc class=\"y left\">221.04002228702018</desc><desc class=\"x_label\">87</desc></g><g class=\"dots\"><circle cx=\"409.741935483871\" cy=\"202.679795362116\" r=\"2.5\" class=\"dot reactive tooltip-trigger\"/><desc class=\"value\">1.531405755</desc><desc class=\"x left\">409.741935483871</desc><desc class=\"y left\">202.679795362116</desc><desc class=\"x_label\">88</desc></g><g class=\"dots\"><circle cx=\"414.27047146401986\" cy=\"185.84424884298505\" r=\"2.5\" class=\"dot reactive tooltip-trigger\"/><desc class=\"value\">1.610705783</desc><desc class=\"x left\">414.27047146401986</desc><desc class=\"y left\">185.84424884298505</desc><desc class=\"x_label\">89</desc></g><g class=\"dots\"><circle cx=\"418.79900744416875\" cy=\"224.68563676052452\" r=\"2.5\" class=\"dot reactive tooltip-trigger\"/><desc class=\"value\">1.427752224</desc><desc class=\"x left\">418.79900744416875</desc><desc class=\"y left\">224.68563676052452</desc><desc class=\"x_label\">90</desc></g><g class=\"dots\"><circle cx=\"423.3275434243176\" cy=\"174.26644856252506\" r=\"2.5\" class=\"dot reactive tooltip-trigger\"/><desc class=\"value\">1.665240389</desc><desc class=\"x left\">423.3275434243176</desc><desc class=\"y left\">174.26644856252506</desc><desc class=\"x_label\">91</desc></g><g class=\"dots\"><circle cx=\"427.8560794044665\" cy=\"211.57808487785354\" r=\"2.5\" class=\"dot reactive tooltip-trigger\"/><desc class=\"value\">1.489492378</desc><desc class=\"x left\">427.8560794044665</desc><desc class=\"y left\">211.57808487785354</desc><desc class=\"x_label\">92</desc></g><g class=\"dots\"><circle cx=\"432.38461538461536\" cy=\"223.8501370036435\" r=\"2.5\" class=\"dot reactive tooltip-trigger\"/><desc class=\"value\">1.431687656</desc><desc class=\"x left\">432.38461538461536</desc><desc class=\"y left\">223.8501370036435</desc><desc class=\"x_label\">93</desc></g><g class=\"dots\"><circle cx=\"436.91315136476425\" cy=\"149.12367298459833\" r=\"2.5\" class=\"dot reactive tooltip-trigger\"/><desc class=\"value\">1.783669738</desc><desc class=\"x left\">436.91315136476425</desc><desc class=\"y left\">149.12367298459833</desc><desc class=\"x_label\">94</desc></g><g class=\"dots\"><circle cx=\"441.44168734491313\" cy=\"216.25776443076984\" r=\"2.5\" class=\"dot reactive tooltip-trigger\"/><desc class=\"value\">1.467449807</desc><desc class=\"x left\">441.44168734491313</desc><desc class=\"y left\">216.25776443076984</desc><desc class=\"x_label\">95</desc></g><g class=\"dots\"><circle cx=\"445.970223325062\" cy=\"193.818192918519\" r=\"2.5\" class=\"dot reactive tooltip-trigger\"/><desc class=\"value\">1.573146326</desc><desc class=\"x left\">445.970223325062</desc><desc class=\"y left\">193.818192918519</desc><desc class=\"x_label\">96</desc></g><g class=\"dots\"><circle cx=\"450.4987593052109\" cy=\"236.9371323132986\" r=\"2.5\" class=\"dot reactive tooltip-trigger\"/><desc class=\"value\">1.370044329</desc><desc class=\"x left\">450.4987593052109</desc><desc class=\"y left\">236.9371323132986</desc><desc class=\"x_label\">97</desc></g><g class=\"dots\"><circle cx=\"455.02729528535974\" cy=\"210.4787901300021\" r=\"2.5\" class=\"dot reactive tooltip-trigger\"/><desc class=\"value\">1.494670357</desc><desc class=\"x left\">455.02729528535974</desc><desc class=\"y left\">210.4787901300021</desc><desc class=\"x_label\">98</desc></g><g class=\"dots\"><circle cx=\"459.5558312655087\" cy=\"150.64234881981162\" r=\"2.5\" class=\"dot reactive tooltip-trigger\"/><desc class=\"value\">1.77651636</desc><desc class=\"x left\">459.5558312655087</desc><desc class=\"y left\">150.64234881981162</desc><desc class=\"x_label\">99</desc></g><g class=\"dots\"><circle cx=\"464.0843672456575\" cy=\"167.97427342765468\" r=\"2.5\" class=\"dot reactive tooltip-trigger\"/><desc class=\"value\">1.694878255</desc><desc class=\"x left\">464.0843672456575</desc><desc class=\"y left\">167.97427342765468</desc><desc class=\"x_label\">100</desc></g><g class=\"dots\"><circle cx=\"468.61290322580646\" cy=\"202.06669170804366\" r=\"2.5\" class=\"dot reactive tooltip-trigger\"/><desc class=\"value\">1.534293641</desc><desc class=\"x left\">468.61290322580646</desc><desc class=\"y left\">202.06669170804366</desc><desc class=\"x_label\">101</desc></g><g class=\"dots\"><circle cx=\"473.14143920595535\" cy=\"194.82061869452338\" r=\"2.5\" class=\"dot reactive tooltip-trigger\"/><desc class=\"value\">1.568424627</desc><desc class=\"x left\">473.14143920595535</desc><desc class=\"y left\">194.82061869452338</desc><desc class=\"x_label\">102</desc></g><g class=\"dots\"><circle cx=\"477.66997518610424\" cy=\"126.03959713962877\" r=\"2.5\" class=\"dot reactive tooltip-trigger\"/><desc class=\"value\">1.892402049</desc><desc class=\"x left\">477.66997518610424</desc><desc class=\"y left\">126.03959713962877</desc><desc class=\"x_label\">103</desc></g><g class=\"dots\"><circle cx=\"482.19851116625307\" cy=\"156.78819193969326\" r=\"2.5\" class=\"dot reactive tooltip-trigger\"/><desc class=\"value\">1.747567758</desc><desc class=\"x left\">482.19851116625307</desc><desc class=\"y left\">156.78819193969326</desc><desc class=\"x_label\">104</desc></g><g class=\"dots\"><circle cx=\"486.727047146402\" cy=\"247.69936350243592\" r=\"2.5\" class=\"dot reactive tooltip-trigger\"/><desc class=\"value\">1.319351277</desc><desc class=\"x left\">486.727047146402</desc><desc class=\"y left\">247.69936350243592</desc><desc class=\"x_label\">105</desc></g><g class=\"dots\"><circle cx=\"491.2555831265509\" cy=\"139.0820806164748\" r=\"2.5\" class=\"dot reactive tooltip-trigger\"/><desc class=\"value\">1.830968385</desc><desc class=\"x left\">491.2555831265509</desc><desc class=\"y left\">139.0820806164748</desc><desc class=\"x_label\">106</desc></g><g class=\"dots\"><circle cx=\"495.78411910669973\" cy=\"229.94148988468112\" r=\"2.5\" class=\"dot reactive tooltip-trigger\"/><desc class=\"value\">1.402995718</desc><desc class=\"x left\">495.78411910669973</desc><desc class=\"y left\">229.94148988468112</desc><desc class=\"x_label\">107</desc></g><g class=\"dots\"><circle cx=\"500.3126550868487\" cy=\"222.54984964515808\" r=\"2.5\" class=\"dot reactive tooltip-trigger\"/><desc class=\"value\">1.437812365</desc><desc class=\"x left\">500.3126550868487</desc><desc class=\"y left\">222.54984964515808</desc><desc class=\"x_label\">108</desc></g><g class=\"dots\"><circle cx=\"504.84119106699745\" cy=\"209.72074478983666\" r=\"2.5\" class=\"dot reactive tooltip-trigger\"/><desc class=\"value\">1.498240958</desc><desc class=\"x left\">504.84119106699745</desc><desc class=\"y left\">209.72074478983666</desc><desc class=\"x_label\">109</desc></g><g class=\"dots\"><circle cx=\"509.3697270471464\" cy=\"19.444499237419677\" r=\"2.5\" class=\"dot reactive tooltip-trigger\"/><desc class=\"value\">2.394494112</desc><desc class=\"x left\">509.3697270471464</desc><desc class=\"y left\">19.444499237419677</desc><desc class=\"x_label\">110</desc></g><g class=\"dots\"><circle cx=\"513.8982630272953\" cy=\"58.994477401348036\" r=\"2.5\" class=\"dot reactive tooltip-trigger\"/><desc class=\"value\">2.208202898</desc><desc class=\"x left\">513.8982630272953</desc><desc class=\"y left\">58.994477401348036</desc><desc class=\"x_label\">111</desc></g><g class=\"dots\"><circle cx=\"518.4267990074441\" cy=\"178.8999992056156\" r=\"2.5\" class=\"dot reactive tooltip-trigger\"/><desc class=\"value\">1.643415098</desc><desc class=\"x left\">518.4267990074441</desc><desc class=\"y left\">178.8999992056156</desc><desc class=\"x_label\">112</desc></g><g class=\"dots\"><circle cx=\"522.955334987593\" cy=\"212.2865528181133\" r=\"2.5\" class=\"dot reactive tooltip-trigger\"/><desc class=\"value\">1.4861553</desc><desc class=\"x left\">522.955334987593</desc><desc class=\"y left\">212.2865528181133</desc><desc class=\"x_label\">113</desc></g><g class=\"dots\"><circle cx=\"527.483870967742\" cy=\"229.3989812024871\" r=\"2.5\" class=\"dot reactive tooltip-trigger\"/><desc class=\"value\">1.405551082</desc><desc class=\"x left\">527.483870967742</desc><desc class=\"y left\">229.3989812024871</desc><desc class=\"x_label\">114</desc></g><g class=\"dots\"><circle cx=\"532.0124069478908\" cy=\"151.51333107031297\" r=\"2.5\" class=\"dot reactive tooltip-trigger\"/><desc class=\"value\">1.772413795</desc><desc class=\"x left\">532.0124069478908</desc><desc class=\"y left\">151.51333107031297</desc><desc class=\"x_label\">115</desc></g><g class=\"dots\"><circle cx=\"536.5409429280397\" cy=\"222.0253541889566\" r=\"2.5\" class=\"dot reactive tooltip-trigger\"/><desc class=\"value\">1.440282882</desc><desc class=\"x left\">536.5409429280397</desc><desc class=\"y left\">222.0253541889566</desc><desc class=\"x_label\">116</desc></g><g class=\"dots\"><circle cx=\"541.0694789081886\" cy=\"212.15145612180697\" r=\"2.5\" class=\"dot reactive tooltip-trigger\"/><desc class=\"value\">1.486791643</desc><desc class=\"x left\">541.0694789081886</desc><desc class=\"y left\">212.15145612180697</desc><desc class=\"x_label\">117</desc></g><g class=\"dots\"><circle cx=\"545.5980148883375\" cy=\"231.58744823198208\" r=\"2.5\" class=\"dot reactive tooltip-trigger\"/><desc class=\"value\">1.395242804</desc><desc class=\"x left\">545.5980148883375</desc><desc class=\"y left\">231.58744823198208</desc><desc class=\"x_label\">118</desc></g><g class=\"dots\"><circle cx=\"550.1265508684863\" cy=\"169.16397522689067\" r=\"2.5\" class=\"dot reactive tooltip-trigger\"/><desc class=\"value\">1.689274434</desc><desc class=\"x left\">550.1265508684863</desc><desc class=\"y left\">169.16397522689067</desc><desc class=\"x_label\">119</desc></g><g class=\"dots\"><circle cx=\"554.6550868486353\" cy=\"198.53927985381887\" r=\"2.5\" class=\"dot reactive tooltip-trigger\"/><desc class=\"value\">1.550908715</desc><desc class=\"x left\">554.6550868486353</desc><desc class=\"y left\">198.53927985381887</desc><desc class=\"x_label\">120</desc></g><g class=\"dots\"><circle cx=\"559.1836228287841\" cy=\"185.15840992096486\" r=\"2.5\" class=\"dot reactive tooltip-trigger\"/><desc class=\"value\">1.613936272</desc><desc class=\"x left\">559.1836228287841</desc><desc class=\"y left\">185.15840992096486</desc><desc class=\"x_label\">121</desc></g><g class=\"dots\"><circle cx=\"563.7121588089329\" cy=\"132.2688363701534\" r=\"2.5\" class=\"dot reactive tooltip-trigger\"/><desc class=\"value\">1.863060628</desc><desc class=\"x left\">563.7121588089329</desc><desc class=\"y left\">132.2688363701534</desc><desc class=\"x_label\">122</desc></g><g class=\"dots\"><circle cx=\"568.2406947890819\" cy=\"241.0809077807021\" r=\"2.5\" class=\"dot reactive tooltip-trigger\"/><desc class=\"value\">1.350526013</desc><desc class=\"x left\">568.2406947890819</desc><desc class=\"y left\">241.0809077807021</desc><desc class=\"x_label\">123</desc></g><g class=\"dots\"><circle cx=\"572.7692307692308\" cy=\"187.18834517397227\" r=\"2.5\" class=\"dot reactive tooltip-trigger\"/><desc class=\"value\">1.604374722</desc><desc class=\"x left\">572.7692307692308</desc><desc class=\"y left\">187.18834517397227</desc><desc class=\"x_label\">124</desc></g></g></g><g transform=\"translate(196, 46)\" class=\"plot text-overlay\"><g class=\"series serie-0 color-0\"/><g class=\"series serie-1 color-1\"/><g class=\"series serie-2 color-2\"/><g class=\"series serie-3 color-3\"/><g class=\"series serie-4 color-4\"/><g class=\"series serie-5 color-5\"/></g><g transform=\"translate(196, 46)\" class=\"plot tooltip-overlay\"><g transform=\"translate(0 0)\" style=\"opacity: 0\" class=\"tooltip\"><rect rx=\"0\" ry=\"0\" width=\"0\" height=\"0\" class=\"tooltip-box\"/><g class=\"text\"/></g></g><g transform=\"translate(10, 56)\" class=\"legends\"><g id=\"activate-serie-0\" class=\"legend reactive activate-serie\"><rect x=\"0.0\" y=\"1.0\" width=\"12\" height=\"12\" class=\"color-0 reactive\"/><text x=\"17.0\" y=\"11.2\">MAX_HS_Vgs_T1T2</text></g><g id=\"activate-serie-1\" class=\"legend reactive activate-serie\"><rect x=\"0.0\" y=\"22.0\" width=\"12\" height=\"12\" class=\"color-1 reactive\"/><text x=\"17.0\" y=\"32.2\">MAX_HS_Vgs_T1T3</text></g><g id=\"activate-serie-2\" class=\"legend reactive activate-serie\"><rect x=\"0.0\" y=\"43.0\" width=\"12\" height=\"12\" class=\"color-2 reactive\"/><text x=\"17.0\" y=\"53.2\">MAX_HS_Vgs_T1T4</text></g><g id=\"activate-serie-3\" class=\"legend reactive activate-serie\"><rect x=\"0.0\" y=\"64.0\" width=\"12\" height=\"12\" class=\"color-3 reactive\"/><text x=\"17.0\" y=\"74.2\">MAX_HS_Vgs_T2T3</text></g><g id=\"activate-serie-4\" class=\"legend reactive activate-serie\"><rect x=\"0.0\" y=\"85.0\" width=\"12\" height=\"12\" class=\"color-4 reactive\"/><text x=\"17.0\" y=\"95.2\">MAX_HS_Vgs_T2T4</text></g><g id=\"activate-serie-5\" class=\"legend reactive activate-serie\"><rect x=\"0.0\" y=\"106.0\" width=\"12\" height=\"12\" class=\"color-5 reactive\"/><text x=\"17.0\" y=\"116.2\">MAX_HS_Vgs_T3T4</text></g></g><g transform=\"translate(790, 56)\" class=\"legends\"/></g></svg>",
      "text/plain": [
       "<IPython.core.display.SVG object>"
      ]
     },
     "metadata": {},
     "output_type": "display_data"
    }
   ],
   "source": [
    "#MAX_HS_Vgs_T1T2, MAX_HS_Vgs_T1T3, MAX_HS_Vgs_T1T4, MAX_HS_Vgs_T2T3, MAX_HS_Vgs_T2T4, MAX_HS_Vgs_T3T4\n",
    "line_chart = pygal.Line()\n",
    "line_chart.title = \"Max Differential Voltage Comparison\"\n",
    "line_chart.x_labels = map(str, range(0, 125))\n",
    "line_chart.add(\"MAX_HS_Vgs_T1T2\", MAX_HS_Vgs_T1T2)\n",
    "line_chart.add(\"MAX_HS_Vgs_T1T3\", MAX_HS_Vgs_T1T3)\n",
    "line_chart.add(\"MAX_HS_Vgs_T1T4\", MAX_HS_Vgs_T1T4)\n",
    "line_chart.add(\"MAX_HS_Vgs_T2T3\", MAX_HS_Vgs_T2T3)\n",
    "line_chart.add(\"MAX_HS_Vgs_T2T4\", MAX_HS_Vgs_T2T4)\n",
    "line_chart.add(\"MAX_HS_Vgs_T3T4\", MAX_HS_Vgs_T3T4)\n",
    "line_chart.render_to_file('/Users/rampageyao/Desktop/丹佛斯工作/Comparison.svg') \n",
    "display(SVG(line_chart.render(disable_xml_declaration=True)))"
   ]
  },
  {
   "cell_type": "code",
   "execution_count": 41,
   "metadata": {},
   "outputs": [],
   "source": [
    "def plot(df, str_col, col, str_ind, ind):\n",
    "    x = list(range(125))\n",
    "    dataframe = pd.DataFrame({\"index\":x, str_col: col.tolist(), str_ind: ind.tolist()})\n",
    "    #fg = sns.FacetGrid(data=dataframe, hue=str_ind)\n",
    "    #fg.map(plt.scatter, \"index\", str_col).add_legend()\n",
    "    #plt.show()\n",
    "    return dataframe"
   ]
  },
  {
   "cell_type": "code",
   "execution_count": 56,
   "metadata": {},
   "outputs": [
    {
     "data": {
      "application/vnd.plotly.v1+json": {
       "config": {
        "plotlyServerURL": "https://plot.ly"
       },
       "data": [
        {
         "alignmentgroup": "True",
         "hovertemplate": "INDEX_MAX_Vgs=T5T7<br>index=%{x}<br>MAX_Vgs=%{y}<extra></extra>",
         "legendgroup": "T5T7",
         "marker": {
          "color": "#636efa",
          "pattern": {
           "shape": ""
          }
         },
         "name": "T5T7",
         "offsetgroup": "T5T7",
         "orientation": "v",
         "showlegend": true,
         "textposition": "auto",
         "type": "bar",
         "x": [
          0,
          1,
          2,
          3,
          4,
          5,
          6,
          7,
          8,
          9,
          10,
          11,
          12,
          13,
          14,
          15,
          16,
          17,
          18,
          19,
          20,
          21,
          22,
          23,
          24,
          25,
          26,
          27,
          28,
          29,
          30,
          31,
          32,
          33,
          34,
          35,
          36,
          37,
          38,
          39,
          40,
          41,
          42,
          43,
          44,
          45,
          46,
          47,
          48,
          49,
          50,
          51,
          52,
          53,
          54,
          55,
          56,
          57,
          58,
          59,
          60,
          61,
          62,
          63,
          64,
          65,
          66,
          67,
          68,
          69,
          70,
          71,
          72,
          73,
          75,
          76,
          77,
          78,
          80,
          81,
          82,
          83,
          84,
          85,
          86,
          87,
          88,
          89,
          90,
          91,
          94,
          95,
          97,
          98,
          99,
          100,
          101,
          102,
          103,
          105,
          106,
          107,
          108,
          109,
          110,
          111,
          112,
          115,
          116,
          117,
          118,
          119,
          120,
          121,
          122,
          123,
          124
         ],
         "xaxis": "x",
         "y": [
          31.885388456559504,
          33.28544133687038,
          30.429738467050186,
          31.64147885358384,
          40.50173356290187,
          31.322637303908262,
          26.05268922739656,
          32.34469285632195,
          31.657588076244643,
          30.579741121928897,
          33.73099068128761,
          32.45418010601512,
          29.92178569049737,
          33.17391139942485,
          31.982647217754565,
          32.30683890352678,
          32.42026570740926,
          29.901306985481035,
          32.346772448047545,
          31.241822718740032,
          33.440718718628034,
          30.65335997644713,
          32.6139537901032,
          32.991725647300115,
          32.13629068000827,
          31.75134126471609,
          32.541960701169884,
          32.882319230299835,
          30.080769916467943,
          33.43528039311439,
          31.136411370669176,
          31.58368649956945,
          30.841320904504915,
          30.32103052629227,
          32.12271662671337,
          31.388057237651665,
          30.882675532780148,
          31.54887184018697,
          32.29709541398545,
          36.519237791664814,
          31.768334753407625,
          31.86040870372155,
          31.42282611339615,
          31.338955529826404,
          30.923437962673248,
          30.76416718243465,
          29.32555836502159,
          31.70558551139775,
          30.350147902666137,
          30.35522985783866,
          29.67457708665037,
          32.0418917476259,
          40.86300989598243,
          31.84537002330868,
          34.556299221564046,
          30.185701572839093,
          32.38855180488776,
          29.56563256800663,
          30.825456256407453,
          43.11891968092837,
          33.161663157409194,
          32.47775762774391,
          30.519447960969213,
          29.43921787384844,
          31.80707673885641,
          31.09910798045997,
          31.34429877654928,
          29.37398926338466,
          33.20482446493471,
          32.560586673221664,
          30.933025342060272,
          32.164691077887625,
          31.44203915660448,
          33.76393878294165,
          31.56589015155591,
          30.98000943951425,
          29.66337148381005,
          30.70343215598392,
          40.41909561151394,
          31.05925861723061,
          32.57998456848475,
          30.537016449916173,
          30.41980680865543,
          29.402089502936896,
          31.052908389658757,
          25.784503697926127,
          32.830061595681464,
          30.89793398805658,
          31.255481134353705,
          31.35911439057205,
          29.20966929172141,
          43.362210805796096,
          30.880745165227918,
          31.136385064018263,
          31.385901318378696,
          32.91833874528538,
          30.65281229123272,
          36.5358759531335,
          32.04863253696582,
          41.97440700956892,
          32.56048333698167,
          30.69830622821691,
          30.857466305570437,
          30.56479047760925,
          31.28524007187488,
          30.83496244993266,
          32.46792408187294,
          31.16412238410317,
          32.244404024821314,
          34.074095238471244,
          32.728149357409656,
          39.41718054243558,
          31.4049767525105,
          33.0063114199947,
          31.919157940034037,
          32.926225503735814,
          34.60590638103049
         ],
         "yaxis": "y"
        },
        {
         "alignmentgroup": "True",
         "hovertemplate": "INDEX_MAX_Vgs=T5T6<br>index=%{x}<br>MAX_Vgs=%{y}<extra></extra>",
         "legendgroup": "T5T6",
         "marker": {
          "color": "#EF553B",
          "pattern": {
           "shape": ""
          }
         },
         "name": "T5T6",
         "offsetgroup": "T5T6",
         "orientation": "v",
         "showlegend": true,
         "textposition": "auto",
         "type": "bar",
         "x": [
          74,
          79,
          92,
          93,
          96,
          114
         ],
         "xaxis": "x",
         "y": [
          30.74968319876164,
          31.7372146797794,
          32.35976445027289,
          31.185107949738704,
          30.891120054283952,
          32.02074680480065
         ],
         "yaxis": "y"
        },
        {
         "alignmentgroup": "True",
         "hovertemplate": "INDEX_MAX_Vgs=T7T8<br>index=%{x}<br>MAX_Vgs=%{y}<extra></extra>",
         "legendgroup": "T7T8",
         "marker": {
          "color": "#00cc96",
          "pattern": {
           "shape": ""
          }
         },
         "name": "T7T8",
         "offsetgroup": "T7T8",
         "orientation": "v",
         "showlegend": true,
         "textposition": "auto",
         "type": "bar",
         "x": [
          104,
          113
         ],
         "xaxis": "x",
         "y": [
          37.70030023072101,
          36.91310891952762
         ],
         "yaxis": "y"
        }
       ],
       "layout": {
        "barmode": "group",
        "legend": {
         "title": {
          "text": "INDEX_MAX_Vgs"
         },
         "tracegroupgap": 0
        },
        "margin": {
         "t": 60
        },
        "template": {
         "data": {
          "bar": [
           {
            "error_x": {
             "color": "#2a3f5f"
            },
            "error_y": {
             "color": "#2a3f5f"
            },
            "marker": {
             "line": {
              "color": "#E5ECF6",
              "width": 0.5
             },
             "pattern": {
              "fillmode": "overlay",
              "size": 10,
              "solidity": 0.2
             }
            },
            "type": "bar"
           }
          ],
          "barpolar": [
           {
            "marker": {
             "line": {
              "color": "#E5ECF6",
              "width": 0.5
             },
             "pattern": {
              "fillmode": "overlay",
              "size": 10,
              "solidity": 0.2
             }
            },
            "type": "barpolar"
           }
          ],
          "carpet": [
           {
            "aaxis": {
             "endlinecolor": "#2a3f5f",
             "gridcolor": "white",
             "linecolor": "white",
             "minorgridcolor": "white",
             "startlinecolor": "#2a3f5f"
            },
            "baxis": {
             "endlinecolor": "#2a3f5f",
             "gridcolor": "white",
             "linecolor": "white",
             "minorgridcolor": "white",
             "startlinecolor": "#2a3f5f"
            },
            "type": "carpet"
           }
          ],
          "choropleth": [
           {
            "colorbar": {
             "outlinewidth": 0,
             "ticks": ""
            },
            "type": "choropleth"
           }
          ],
          "contour": [
           {
            "colorbar": {
             "outlinewidth": 0,
             "ticks": ""
            },
            "colorscale": [
             [
              0,
              "#0d0887"
             ],
             [
              0.1111111111111111,
              "#46039f"
             ],
             [
              0.2222222222222222,
              "#7201a8"
             ],
             [
              0.3333333333333333,
              "#9c179e"
             ],
             [
              0.4444444444444444,
              "#bd3786"
             ],
             [
              0.5555555555555556,
              "#d8576b"
             ],
             [
              0.6666666666666666,
              "#ed7953"
             ],
             [
              0.7777777777777778,
              "#fb9f3a"
             ],
             [
              0.8888888888888888,
              "#fdca26"
             ],
             [
              1,
              "#f0f921"
             ]
            ],
            "type": "contour"
           }
          ],
          "contourcarpet": [
           {
            "colorbar": {
             "outlinewidth": 0,
             "ticks": ""
            },
            "type": "contourcarpet"
           }
          ],
          "heatmap": [
           {
            "colorbar": {
             "outlinewidth": 0,
             "ticks": ""
            },
            "colorscale": [
             [
              0,
              "#0d0887"
             ],
             [
              0.1111111111111111,
              "#46039f"
             ],
             [
              0.2222222222222222,
              "#7201a8"
             ],
             [
              0.3333333333333333,
              "#9c179e"
             ],
             [
              0.4444444444444444,
              "#bd3786"
             ],
             [
              0.5555555555555556,
              "#d8576b"
             ],
             [
              0.6666666666666666,
              "#ed7953"
             ],
             [
              0.7777777777777778,
              "#fb9f3a"
             ],
             [
              0.8888888888888888,
              "#fdca26"
             ],
             [
              1,
              "#f0f921"
             ]
            ],
            "type": "heatmap"
           }
          ],
          "heatmapgl": [
           {
            "colorbar": {
             "outlinewidth": 0,
             "ticks": ""
            },
            "colorscale": [
             [
              0,
              "#0d0887"
             ],
             [
              0.1111111111111111,
              "#46039f"
             ],
             [
              0.2222222222222222,
              "#7201a8"
             ],
             [
              0.3333333333333333,
              "#9c179e"
             ],
             [
              0.4444444444444444,
              "#bd3786"
             ],
             [
              0.5555555555555556,
              "#d8576b"
             ],
             [
              0.6666666666666666,
              "#ed7953"
             ],
             [
              0.7777777777777778,
              "#fb9f3a"
             ],
             [
              0.8888888888888888,
              "#fdca26"
             ],
             [
              1,
              "#f0f921"
             ]
            ],
            "type": "heatmapgl"
           }
          ],
          "histogram": [
           {
            "marker": {
             "pattern": {
              "fillmode": "overlay",
              "size": 10,
              "solidity": 0.2
             }
            },
            "type": "histogram"
           }
          ],
          "histogram2d": [
           {
            "colorbar": {
             "outlinewidth": 0,
             "ticks": ""
            },
            "colorscale": [
             [
              0,
              "#0d0887"
             ],
             [
              0.1111111111111111,
              "#46039f"
             ],
             [
              0.2222222222222222,
              "#7201a8"
             ],
             [
              0.3333333333333333,
              "#9c179e"
             ],
             [
              0.4444444444444444,
              "#bd3786"
             ],
             [
              0.5555555555555556,
              "#d8576b"
             ],
             [
              0.6666666666666666,
              "#ed7953"
             ],
             [
              0.7777777777777778,
              "#fb9f3a"
             ],
             [
              0.8888888888888888,
              "#fdca26"
             ],
             [
              1,
              "#f0f921"
             ]
            ],
            "type": "histogram2d"
           }
          ],
          "histogram2dcontour": [
           {
            "colorbar": {
             "outlinewidth": 0,
             "ticks": ""
            },
            "colorscale": [
             [
              0,
              "#0d0887"
             ],
             [
              0.1111111111111111,
              "#46039f"
             ],
             [
              0.2222222222222222,
              "#7201a8"
             ],
             [
              0.3333333333333333,
              "#9c179e"
             ],
             [
              0.4444444444444444,
              "#bd3786"
             ],
             [
              0.5555555555555556,
              "#d8576b"
             ],
             [
              0.6666666666666666,
              "#ed7953"
             ],
             [
              0.7777777777777778,
              "#fb9f3a"
             ],
             [
              0.8888888888888888,
              "#fdca26"
             ],
             [
              1,
              "#f0f921"
             ]
            ],
            "type": "histogram2dcontour"
           }
          ],
          "mesh3d": [
           {
            "colorbar": {
             "outlinewidth": 0,
             "ticks": ""
            },
            "type": "mesh3d"
           }
          ],
          "parcoords": [
           {
            "line": {
             "colorbar": {
              "outlinewidth": 0,
              "ticks": ""
             }
            },
            "type": "parcoords"
           }
          ],
          "pie": [
           {
            "automargin": true,
            "type": "pie"
           }
          ],
          "scatter": [
           {
            "marker": {
             "colorbar": {
              "outlinewidth": 0,
              "ticks": ""
             }
            },
            "type": "scatter"
           }
          ],
          "scatter3d": [
           {
            "line": {
             "colorbar": {
              "outlinewidth": 0,
              "ticks": ""
             }
            },
            "marker": {
             "colorbar": {
              "outlinewidth": 0,
              "ticks": ""
             }
            },
            "type": "scatter3d"
           }
          ],
          "scattercarpet": [
           {
            "marker": {
             "colorbar": {
              "outlinewidth": 0,
              "ticks": ""
             }
            },
            "type": "scattercarpet"
           }
          ],
          "scattergeo": [
           {
            "marker": {
             "colorbar": {
              "outlinewidth": 0,
              "ticks": ""
             }
            },
            "type": "scattergeo"
           }
          ],
          "scattergl": [
           {
            "marker": {
             "colorbar": {
              "outlinewidth": 0,
              "ticks": ""
             }
            },
            "type": "scattergl"
           }
          ],
          "scattermapbox": [
           {
            "marker": {
             "colorbar": {
              "outlinewidth": 0,
              "ticks": ""
             }
            },
            "type": "scattermapbox"
           }
          ],
          "scatterpolar": [
           {
            "marker": {
             "colorbar": {
              "outlinewidth": 0,
              "ticks": ""
             }
            },
            "type": "scatterpolar"
           }
          ],
          "scatterpolargl": [
           {
            "marker": {
             "colorbar": {
              "outlinewidth": 0,
              "ticks": ""
             }
            },
            "type": "scatterpolargl"
           }
          ],
          "scatterternary": [
           {
            "marker": {
             "colorbar": {
              "outlinewidth": 0,
              "ticks": ""
             }
            },
            "type": "scatterternary"
           }
          ],
          "surface": [
           {
            "colorbar": {
             "outlinewidth": 0,
             "ticks": ""
            },
            "colorscale": [
             [
              0,
              "#0d0887"
             ],
             [
              0.1111111111111111,
              "#46039f"
             ],
             [
              0.2222222222222222,
              "#7201a8"
             ],
             [
              0.3333333333333333,
              "#9c179e"
             ],
             [
              0.4444444444444444,
              "#bd3786"
             ],
             [
              0.5555555555555556,
              "#d8576b"
             ],
             [
              0.6666666666666666,
              "#ed7953"
             ],
             [
              0.7777777777777778,
              "#fb9f3a"
             ],
             [
              0.8888888888888888,
              "#fdca26"
             ],
             [
              1,
              "#f0f921"
             ]
            ],
            "type": "surface"
           }
          ],
          "table": [
           {
            "cells": {
             "fill": {
              "color": "#EBF0F8"
             },
             "line": {
              "color": "white"
             }
            },
            "header": {
             "fill": {
              "color": "#C8D4E3"
             },
             "line": {
              "color": "white"
             }
            },
            "type": "table"
           }
          ]
         },
         "layout": {
          "annotationdefaults": {
           "arrowcolor": "#2a3f5f",
           "arrowhead": 0,
           "arrowwidth": 1
          },
          "autotypenumbers": "strict",
          "coloraxis": {
           "colorbar": {
            "outlinewidth": 0,
            "ticks": ""
           }
          },
          "colorscale": {
           "diverging": [
            [
             0,
             "#8e0152"
            ],
            [
             0.1,
             "#c51b7d"
            ],
            [
             0.2,
             "#de77ae"
            ],
            [
             0.3,
             "#f1b6da"
            ],
            [
             0.4,
             "#fde0ef"
            ],
            [
             0.5,
             "#f7f7f7"
            ],
            [
             0.6,
             "#e6f5d0"
            ],
            [
             0.7,
             "#b8e186"
            ],
            [
             0.8,
             "#7fbc41"
            ],
            [
             0.9,
             "#4d9221"
            ],
            [
             1,
             "#276419"
            ]
           ],
           "sequential": [
            [
             0,
             "#0d0887"
            ],
            [
             0.1111111111111111,
             "#46039f"
            ],
            [
             0.2222222222222222,
             "#7201a8"
            ],
            [
             0.3333333333333333,
             "#9c179e"
            ],
            [
             0.4444444444444444,
             "#bd3786"
            ],
            [
             0.5555555555555556,
             "#d8576b"
            ],
            [
             0.6666666666666666,
             "#ed7953"
            ],
            [
             0.7777777777777778,
             "#fb9f3a"
            ],
            [
             0.8888888888888888,
             "#fdca26"
            ],
            [
             1,
             "#f0f921"
            ]
           ],
           "sequentialminus": [
            [
             0,
             "#0d0887"
            ],
            [
             0.1111111111111111,
             "#46039f"
            ],
            [
             0.2222222222222222,
             "#7201a8"
            ],
            [
             0.3333333333333333,
             "#9c179e"
            ],
            [
             0.4444444444444444,
             "#bd3786"
            ],
            [
             0.5555555555555556,
             "#d8576b"
            ],
            [
             0.6666666666666666,
             "#ed7953"
            ],
            [
             0.7777777777777778,
             "#fb9f3a"
            ],
            [
             0.8888888888888888,
             "#fdca26"
            ],
            [
             1,
             "#f0f921"
            ]
           ]
          },
          "colorway": [
           "#636efa",
           "#EF553B",
           "#00cc96",
           "#ab63fa",
           "#FFA15A",
           "#19d3f3",
           "#FF6692",
           "#B6E880",
           "#FF97FF",
           "#FECB52"
          ],
          "font": {
           "color": "#2a3f5f"
          },
          "geo": {
           "bgcolor": "white",
           "lakecolor": "white",
           "landcolor": "#E5ECF6",
           "showlakes": true,
           "showland": true,
           "subunitcolor": "white"
          },
          "hoverlabel": {
           "align": "left"
          },
          "hovermode": "closest",
          "mapbox": {
           "style": "light"
          },
          "paper_bgcolor": "white",
          "plot_bgcolor": "#E5ECF6",
          "polar": {
           "angularaxis": {
            "gridcolor": "white",
            "linecolor": "white",
            "ticks": ""
           },
           "bgcolor": "#E5ECF6",
           "radialaxis": {
            "gridcolor": "white",
            "linecolor": "white",
            "ticks": ""
           }
          },
          "scene": {
           "xaxis": {
            "backgroundcolor": "#E5ECF6",
            "gridcolor": "white",
            "gridwidth": 2,
            "linecolor": "white",
            "showbackground": true,
            "ticks": "",
            "zerolinecolor": "white"
           },
           "yaxis": {
            "backgroundcolor": "#E5ECF6",
            "gridcolor": "white",
            "gridwidth": 2,
            "linecolor": "white",
            "showbackground": true,
            "ticks": "",
            "zerolinecolor": "white"
           },
           "zaxis": {
            "backgroundcolor": "#E5ECF6",
            "gridcolor": "white",
            "gridwidth": 2,
            "linecolor": "white",
            "showbackground": true,
            "ticks": "",
            "zerolinecolor": "white"
           }
          },
          "shapedefaults": {
           "line": {
            "color": "#2a3f5f"
           }
          },
          "ternary": {
           "aaxis": {
            "gridcolor": "white",
            "linecolor": "white",
            "ticks": ""
           },
           "baxis": {
            "gridcolor": "white",
            "linecolor": "white",
            "ticks": ""
           },
           "bgcolor": "#E5ECF6",
           "caxis": {
            "gridcolor": "white",
            "linecolor": "white",
            "ticks": ""
           }
          },
          "title": {
           "x": 0.05
          },
          "xaxis": {
           "automargin": true,
           "gridcolor": "white",
           "linecolor": "white",
           "ticks": "",
           "title": {
            "standoff": 15
           },
           "zerolinecolor": "white",
           "zerolinewidth": 2
          },
          "yaxis": {
           "automargin": true,
           "gridcolor": "white",
           "linecolor": "white",
           "ticks": "",
           "title": {
            "standoff": 15
           },
           "zerolinecolor": "white",
           "zerolinewidth": 2
          }
         }
        },
        "xaxis": {
         "anchor": "y",
         "domain": [
          0,
          1
         ],
         "title": {
          "text": "index"
         }
        },
        "yaxis": {
         "anchor": "x",
         "domain": [
          0,
          1
         ],
         "title": {
          "text": "MAX_Vgs"
         }
        }
       }
      }
     },
     "metadata": {},
     "output_type": "display_data"
    }
   ],
   "source": [
    "# for high side and low side\n",
    "d = plot(df, \"MAX_Vgs\", df[\"MAX_Vgs\"], \"INDEX_MAX_Vgs\", df[\"INDEX_MAX_Vgs\"])\n",
    " \n",
    "fig = px.bar(d, x=\"index\", y=\"MAX_Vgs\", color=\"INDEX_MAX_Vgs\", barmode = 'group')\n",
    "fig.show()\n",
    "fig.write_html(\"/Users/rampageyao/Desktop/丹佛斯工作/Danfoss_Chips/MAX_Vgs.html\")"
   ]
  },
  {
   "cell_type": "code",
   "execution_count": 57,
   "metadata": {},
   "outputs": [
    {
     "data": {
      "application/vnd.plotly.v1+json": {
       "config": {
        "plotlyServerURL": "https://plot.ly"
       },
       "data": [
        {
         "alignmentgroup": "True",
         "hovertemplate": "INDEX_MIN_Vgs=T2T3<br>index=%{x}<br>MIN_Vgs=%{y}<extra></extra>",
         "legendgroup": "T2T3",
         "marker": {
          "color": "#636efa",
          "pattern": {
           "shape": ""
          }
         },
         "name": "T2T3",
         "offsetgroup": "T2T3",
         "orientation": "v",
         "showlegend": true,
         "textposition": "auto",
         "type": "bar",
         "x": [
          0,
          1,
          2,
          3,
          4,
          5,
          8,
          10,
          11,
          12,
          13,
          14,
          15,
          16,
          17,
          20,
          21,
          22,
          23,
          24,
          25,
          26,
          27,
          28,
          29,
          30,
          31,
          32,
          35,
          36,
          39,
          40,
          41,
          43,
          44,
          46,
          47,
          48,
          52,
          53,
          54,
          55,
          56,
          57,
          59,
          60,
          61,
          63,
          65,
          66,
          68,
          69,
          70,
          71,
          72,
          73,
          74,
          75,
          78,
          81,
          83,
          84,
          86,
          88,
          89,
          91,
          95,
          96,
          97,
          98,
          99,
          100,
          101,
          102,
          103,
          104,
          105,
          106,
          109,
          111,
          112,
          113,
          114,
          115,
          116,
          117,
          120,
          121,
          122,
          123,
          124
         ],
         "xaxis": "x",
         "y": [
          0.2942649805204951,
          0.4832224347852047,
          0.4751830799377785,
          0.5943574478664573,
          0.4392896032356361,
          1.049404683113652,
          0.489758565025463,
          0.7041926870066835,
          0.7325134781948464,
          0.939964601259594,
          0.3438023356300164,
          0.562823599634731,
          0.3352565034103349,
          0.4135810416902892,
          0.5835106817235709,
          0.6085344624160722,
          0.8602776627830626,
          0.5361331927389301,
          0.4444708961354422,
          0.7071847458265728,
          0.2943573748346182,
          0.7119270572297687,
          1.0394124837631329,
          1.0939159259795872,
          0.557244566107272,
          0.5591643525556833,
          0.6664305196223923,
          1.0404034239872928,
          0.6503075640111473,
          0.5605390967489265,
          0.5850747082710086,
          0.7631578247196629,
          0.2172032173283469,
          0.4651469178710385,
          0.5265110204678036,
          0.5445352101502197,
          0.1638346995896142,
          0.70370639409879,
          0.8617860393965202,
          0.4578115183539353,
          0.7128875115972733,
          0.7188290608517196,
          0.4686192510979658,
          0.2242282929724499,
          0.5918189356641612,
          0.4899394142927349,
          0.3676438640130186,
          0.1115616915101469,
          0.4534301349244796,
          0.5317233464725599,
          0.8416083695252592,
          0.710426566349156,
          0.1972445061379275,
          0.3671992701298716,
          1.113166492846874,
          0.7889825689924805,
          0.6782594995488633,
          0.6917102611923482,
          0.3992508866963931,
          1.0454968356968335,
          0.7484876704419574,
          0.684137964332594,
          0.588271787112923,
          0.7378883330418917,
          0.9489642994208278,
          0.7089129421968021,
          0.5441220639840041,
          0.248870174976334,
          0.3556691075483513,
          0.6985663004392109,
          0.2729562519650925,
          0.4347296801947453,
          0.586924090988111,
          0.5407364779994737,
          0.3801385019012286,
          0.8334574985496488,
          0.6546795272405461,
          0.4401442283871102,
          0.2876089612373107,
          0.5741315280383441,
          0.7274065995450463,
          0.8073485982956186,
          0.8871757374576745,
          0.2047072931109159,
          0.3423838991813568,
          0.5055583196449902,
          0.7358562729782196,
          0.3406429591227806,
          0.2785571405584051,
          0.7069433711052717,
          0.9226951355159568
         ],
         "yaxis": "y"
        },
        {
         "alignmentgroup": "True",
         "hovertemplate": "INDEX_MIN_Vgs=T1T4<br>index=%{x}<br>MIN_Vgs=%{y}<extra></extra>",
         "legendgroup": "T1T4",
         "marker": {
          "color": "#EF553B",
          "pattern": {
           "shape": ""
          }
         },
         "name": "T1T4",
         "offsetgroup": "T1T4",
         "orientation": "v",
         "showlegend": true,
         "textposition": "auto",
         "type": "bar",
         "x": [
          6,
          7,
          9,
          18,
          19,
          33,
          34,
          37,
          38,
          42,
          45,
          50,
          51,
          58,
          64,
          76,
          77,
          79,
          80,
          82,
          85,
          90,
          92,
          93,
          94,
          107,
          108,
          110,
          118
         ],
         "xaxis": "x",
         "y": [
          1.2594799229730933,
          0.8197686891160036,
          0.7108650877229898,
          0.632918800107575,
          0.4558900368723422,
          0.2084550291142148,
          0.6239223889043206,
          1.1899089702911985,
          0.6358859652017372,
          0.9163347104642736,
          0.2600407938190301,
          0.9512817164074604,
          0.5459943336729793,
          0.6336713809380745,
          0.4257571315342261,
          0.4959692123690997,
          0.201716211521429,
          0.2906855587687422,
          0.8758302528196396,
          0.4708518558296077,
          0.5655922337216848,
          0.3584758327828323,
          0.4546307719595908,
          0.7047636434437949,
          0.7616035282146632,
          0.5113079937395355,
          0.7485163715854588,
          0.7294900459029572,
          1.1707126952080955
         ],
         "yaxis": "y"
        },
        {
         "alignmentgroup": "True",
         "hovertemplate": "INDEX_MIN_Vgs=T6T7<br>index=%{x}<br>MIN_Vgs=%{y}<extra></extra>",
         "legendgroup": "T6T7",
         "marker": {
          "color": "#00cc96",
          "pattern": {
           "shape": ""
          }
         },
         "name": "T6T7",
         "offsetgroup": "T6T7",
         "orientation": "v",
         "showlegend": true,
         "textposition": "auto",
         "type": "bar",
         "x": [
          49
         ],
         "xaxis": "x",
         "y": [
          1.0550290301480452
         ],
         "yaxis": "y"
        },
        {
         "alignmentgroup": "True",
         "hovertemplate": "INDEX_MIN_Vgs=T5T8<br>index=%{x}<br>MIN_Vgs=%{y}<extra></extra>",
         "legendgroup": "T5T8",
         "marker": {
          "color": "#ab63fa",
          "pattern": {
           "shape": ""
          }
         },
         "name": "T5T8",
         "offsetgroup": "T5T8",
         "orientation": "v",
         "showlegend": true,
         "textposition": "auto",
         "type": "bar",
         "x": [
          62,
          67,
          87,
          119
         ],
         "xaxis": "x",
         "y": [
          0.9627856867057608,
          1.1983582194505953,
          0.9916397955858232,
          0.9313151533428988
         ],
         "yaxis": "y"
        }
       ],
       "layout": {
        "barmode": "group",
        "legend": {
         "title": {
          "text": "INDEX_MIN_Vgs"
         },
         "tracegroupgap": 0
        },
        "margin": {
         "t": 60
        },
        "template": {
         "data": {
          "bar": [
           {
            "error_x": {
             "color": "#2a3f5f"
            },
            "error_y": {
             "color": "#2a3f5f"
            },
            "marker": {
             "line": {
              "color": "#E5ECF6",
              "width": 0.5
             },
             "pattern": {
              "fillmode": "overlay",
              "size": 10,
              "solidity": 0.2
             }
            },
            "type": "bar"
           }
          ],
          "barpolar": [
           {
            "marker": {
             "line": {
              "color": "#E5ECF6",
              "width": 0.5
             },
             "pattern": {
              "fillmode": "overlay",
              "size": 10,
              "solidity": 0.2
             }
            },
            "type": "barpolar"
           }
          ],
          "carpet": [
           {
            "aaxis": {
             "endlinecolor": "#2a3f5f",
             "gridcolor": "white",
             "linecolor": "white",
             "minorgridcolor": "white",
             "startlinecolor": "#2a3f5f"
            },
            "baxis": {
             "endlinecolor": "#2a3f5f",
             "gridcolor": "white",
             "linecolor": "white",
             "minorgridcolor": "white",
             "startlinecolor": "#2a3f5f"
            },
            "type": "carpet"
           }
          ],
          "choropleth": [
           {
            "colorbar": {
             "outlinewidth": 0,
             "ticks": ""
            },
            "type": "choropleth"
           }
          ],
          "contour": [
           {
            "colorbar": {
             "outlinewidth": 0,
             "ticks": ""
            },
            "colorscale": [
             [
              0,
              "#0d0887"
             ],
             [
              0.1111111111111111,
              "#46039f"
             ],
             [
              0.2222222222222222,
              "#7201a8"
             ],
             [
              0.3333333333333333,
              "#9c179e"
             ],
             [
              0.4444444444444444,
              "#bd3786"
             ],
             [
              0.5555555555555556,
              "#d8576b"
             ],
             [
              0.6666666666666666,
              "#ed7953"
             ],
             [
              0.7777777777777778,
              "#fb9f3a"
             ],
             [
              0.8888888888888888,
              "#fdca26"
             ],
             [
              1,
              "#f0f921"
             ]
            ],
            "type": "contour"
           }
          ],
          "contourcarpet": [
           {
            "colorbar": {
             "outlinewidth": 0,
             "ticks": ""
            },
            "type": "contourcarpet"
           }
          ],
          "heatmap": [
           {
            "colorbar": {
             "outlinewidth": 0,
             "ticks": ""
            },
            "colorscale": [
             [
              0,
              "#0d0887"
             ],
             [
              0.1111111111111111,
              "#46039f"
             ],
             [
              0.2222222222222222,
              "#7201a8"
             ],
             [
              0.3333333333333333,
              "#9c179e"
             ],
             [
              0.4444444444444444,
              "#bd3786"
             ],
             [
              0.5555555555555556,
              "#d8576b"
             ],
             [
              0.6666666666666666,
              "#ed7953"
             ],
             [
              0.7777777777777778,
              "#fb9f3a"
             ],
             [
              0.8888888888888888,
              "#fdca26"
             ],
             [
              1,
              "#f0f921"
             ]
            ],
            "type": "heatmap"
           }
          ],
          "heatmapgl": [
           {
            "colorbar": {
             "outlinewidth": 0,
             "ticks": ""
            },
            "colorscale": [
             [
              0,
              "#0d0887"
             ],
             [
              0.1111111111111111,
              "#46039f"
             ],
             [
              0.2222222222222222,
              "#7201a8"
             ],
             [
              0.3333333333333333,
              "#9c179e"
             ],
             [
              0.4444444444444444,
              "#bd3786"
             ],
             [
              0.5555555555555556,
              "#d8576b"
             ],
             [
              0.6666666666666666,
              "#ed7953"
             ],
             [
              0.7777777777777778,
              "#fb9f3a"
             ],
             [
              0.8888888888888888,
              "#fdca26"
             ],
             [
              1,
              "#f0f921"
             ]
            ],
            "type": "heatmapgl"
           }
          ],
          "histogram": [
           {
            "marker": {
             "pattern": {
              "fillmode": "overlay",
              "size": 10,
              "solidity": 0.2
             }
            },
            "type": "histogram"
           }
          ],
          "histogram2d": [
           {
            "colorbar": {
             "outlinewidth": 0,
             "ticks": ""
            },
            "colorscale": [
             [
              0,
              "#0d0887"
             ],
             [
              0.1111111111111111,
              "#46039f"
             ],
             [
              0.2222222222222222,
              "#7201a8"
             ],
             [
              0.3333333333333333,
              "#9c179e"
             ],
             [
              0.4444444444444444,
              "#bd3786"
             ],
             [
              0.5555555555555556,
              "#d8576b"
             ],
             [
              0.6666666666666666,
              "#ed7953"
             ],
             [
              0.7777777777777778,
              "#fb9f3a"
             ],
             [
              0.8888888888888888,
              "#fdca26"
             ],
             [
              1,
              "#f0f921"
             ]
            ],
            "type": "histogram2d"
           }
          ],
          "histogram2dcontour": [
           {
            "colorbar": {
             "outlinewidth": 0,
             "ticks": ""
            },
            "colorscale": [
             [
              0,
              "#0d0887"
             ],
             [
              0.1111111111111111,
              "#46039f"
             ],
             [
              0.2222222222222222,
              "#7201a8"
             ],
             [
              0.3333333333333333,
              "#9c179e"
             ],
             [
              0.4444444444444444,
              "#bd3786"
             ],
             [
              0.5555555555555556,
              "#d8576b"
             ],
             [
              0.6666666666666666,
              "#ed7953"
             ],
             [
              0.7777777777777778,
              "#fb9f3a"
             ],
             [
              0.8888888888888888,
              "#fdca26"
             ],
             [
              1,
              "#f0f921"
             ]
            ],
            "type": "histogram2dcontour"
           }
          ],
          "mesh3d": [
           {
            "colorbar": {
             "outlinewidth": 0,
             "ticks": ""
            },
            "type": "mesh3d"
           }
          ],
          "parcoords": [
           {
            "line": {
             "colorbar": {
              "outlinewidth": 0,
              "ticks": ""
             }
            },
            "type": "parcoords"
           }
          ],
          "pie": [
           {
            "automargin": true,
            "type": "pie"
           }
          ],
          "scatter": [
           {
            "marker": {
             "colorbar": {
              "outlinewidth": 0,
              "ticks": ""
             }
            },
            "type": "scatter"
           }
          ],
          "scatter3d": [
           {
            "line": {
             "colorbar": {
              "outlinewidth": 0,
              "ticks": ""
             }
            },
            "marker": {
             "colorbar": {
              "outlinewidth": 0,
              "ticks": ""
             }
            },
            "type": "scatter3d"
           }
          ],
          "scattercarpet": [
           {
            "marker": {
             "colorbar": {
              "outlinewidth": 0,
              "ticks": ""
             }
            },
            "type": "scattercarpet"
           }
          ],
          "scattergeo": [
           {
            "marker": {
             "colorbar": {
              "outlinewidth": 0,
              "ticks": ""
             }
            },
            "type": "scattergeo"
           }
          ],
          "scattergl": [
           {
            "marker": {
             "colorbar": {
              "outlinewidth": 0,
              "ticks": ""
             }
            },
            "type": "scattergl"
           }
          ],
          "scattermapbox": [
           {
            "marker": {
             "colorbar": {
              "outlinewidth": 0,
              "ticks": ""
             }
            },
            "type": "scattermapbox"
           }
          ],
          "scatterpolar": [
           {
            "marker": {
             "colorbar": {
              "outlinewidth": 0,
              "ticks": ""
             }
            },
            "type": "scatterpolar"
           }
          ],
          "scatterpolargl": [
           {
            "marker": {
             "colorbar": {
              "outlinewidth": 0,
              "ticks": ""
             }
            },
            "type": "scatterpolargl"
           }
          ],
          "scatterternary": [
           {
            "marker": {
             "colorbar": {
              "outlinewidth": 0,
              "ticks": ""
             }
            },
            "type": "scatterternary"
           }
          ],
          "surface": [
           {
            "colorbar": {
             "outlinewidth": 0,
             "ticks": ""
            },
            "colorscale": [
             [
              0,
              "#0d0887"
             ],
             [
              0.1111111111111111,
              "#46039f"
             ],
             [
              0.2222222222222222,
              "#7201a8"
             ],
             [
              0.3333333333333333,
              "#9c179e"
             ],
             [
              0.4444444444444444,
              "#bd3786"
             ],
             [
              0.5555555555555556,
              "#d8576b"
             ],
             [
              0.6666666666666666,
              "#ed7953"
             ],
             [
              0.7777777777777778,
              "#fb9f3a"
             ],
             [
              0.8888888888888888,
              "#fdca26"
             ],
             [
              1,
              "#f0f921"
             ]
            ],
            "type": "surface"
           }
          ],
          "table": [
           {
            "cells": {
             "fill": {
              "color": "#EBF0F8"
             },
             "line": {
              "color": "white"
             }
            },
            "header": {
             "fill": {
              "color": "#C8D4E3"
             },
             "line": {
              "color": "white"
             }
            },
            "type": "table"
           }
          ]
         },
         "layout": {
          "annotationdefaults": {
           "arrowcolor": "#2a3f5f",
           "arrowhead": 0,
           "arrowwidth": 1
          },
          "autotypenumbers": "strict",
          "coloraxis": {
           "colorbar": {
            "outlinewidth": 0,
            "ticks": ""
           }
          },
          "colorscale": {
           "diverging": [
            [
             0,
             "#8e0152"
            ],
            [
             0.1,
             "#c51b7d"
            ],
            [
             0.2,
             "#de77ae"
            ],
            [
             0.3,
             "#f1b6da"
            ],
            [
             0.4,
             "#fde0ef"
            ],
            [
             0.5,
             "#f7f7f7"
            ],
            [
             0.6,
             "#e6f5d0"
            ],
            [
             0.7,
             "#b8e186"
            ],
            [
             0.8,
             "#7fbc41"
            ],
            [
             0.9,
             "#4d9221"
            ],
            [
             1,
             "#276419"
            ]
           ],
           "sequential": [
            [
             0,
             "#0d0887"
            ],
            [
             0.1111111111111111,
             "#46039f"
            ],
            [
             0.2222222222222222,
             "#7201a8"
            ],
            [
             0.3333333333333333,
             "#9c179e"
            ],
            [
             0.4444444444444444,
             "#bd3786"
            ],
            [
             0.5555555555555556,
             "#d8576b"
            ],
            [
             0.6666666666666666,
             "#ed7953"
            ],
            [
             0.7777777777777778,
             "#fb9f3a"
            ],
            [
             0.8888888888888888,
             "#fdca26"
            ],
            [
             1,
             "#f0f921"
            ]
           ],
           "sequentialminus": [
            [
             0,
             "#0d0887"
            ],
            [
             0.1111111111111111,
             "#46039f"
            ],
            [
             0.2222222222222222,
             "#7201a8"
            ],
            [
             0.3333333333333333,
             "#9c179e"
            ],
            [
             0.4444444444444444,
             "#bd3786"
            ],
            [
             0.5555555555555556,
             "#d8576b"
            ],
            [
             0.6666666666666666,
             "#ed7953"
            ],
            [
             0.7777777777777778,
             "#fb9f3a"
            ],
            [
             0.8888888888888888,
             "#fdca26"
            ],
            [
             1,
             "#f0f921"
            ]
           ]
          },
          "colorway": [
           "#636efa",
           "#EF553B",
           "#00cc96",
           "#ab63fa",
           "#FFA15A",
           "#19d3f3",
           "#FF6692",
           "#B6E880",
           "#FF97FF",
           "#FECB52"
          ],
          "font": {
           "color": "#2a3f5f"
          },
          "geo": {
           "bgcolor": "white",
           "lakecolor": "white",
           "landcolor": "#E5ECF6",
           "showlakes": true,
           "showland": true,
           "subunitcolor": "white"
          },
          "hoverlabel": {
           "align": "left"
          },
          "hovermode": "closest",
          "mapbox": {
           "style": "light"
          },
          "paper_bgcolor": "white",
          "plot_bgcolor": "#E5ECF6",
          "polar": {
           "angularaxis": {
            "gridcolor": "white",
            "linecolor": "white",
            "ticks": ""
           },
           "bgcolor": "#E5ECF6",
           "radialaxis": {
            "gridcolor": "white",
            "linecolor": "white",
            "ticks": ""
           }
          },
          "scene": {
           "xaxis": {
            "backgroundcolor": "#E5ECF6",
            "gridcolor": "white",
            "gridwidth": 2,
            "linecolor": "white",
            "showbackground": true,
            "ticks": "",
            "zerolinecolor": "white"
           },
           "yaxis": {
            "backgroundcolor": "#E5ECF6",
            "gridcolor": "white",
            "gridwidth": 2,
            "linecolor": "white",
            "showbackground": true,
            "ticks": "",
            "zerolinecolor": "white"
           },
           "zaxis": {
            "backgroundcolor": "#E5ECF6",
            "gridcolor": "white",
            "gridwidth": 2,
            "linecolor": "white",
            "showbackground": true,
            "ticks": "",
            "zerolinecolor": "white"
           }
          },
          "shapedefaults": {
           "line": {
            "color": "#2a3f5f"
           }
          },
          "ternary": {
           "aaxis": {
            "gridcolor": "white",
            "linecolor": "white",
            "ticks": ""
           },
           "baxis": {
            "gridcolor": "white",
            "linecolor": "white",
            "ticks": ""
           },
           "bgcolor": "#E5ECF6",
           "caxis": {
            "gridcolor": "white",
            "linecolor": "white",
            "ticks": ""
           }
          },
          "title": {
           "x": 0.05
          },
          "xaxis": {
           "automargin": true,
           "gridcolor": "white",
           "linecolor": "white",
           "ticks": "",
           "title": {
            "standoff": 15
           },
           "zerolinecolor": "white",
           "zerolinewidth": 2
          },
          "yaxis": {
           "automargin": true,
           "gridcolor": "white",
           "linecolor": "white",
           "ticks": "",
           "title": {
            "standoff": 15
           },
           "zerolinecolor": "white",
           "zerolinewidth": 2
          }
         }
        },
        "xaxis": {
         "anchor": "y",
         "domain": [
          0,
          1
         ],
         "title": {
          "text": "index"
         }
        },
        "yaxis": {
         "anchor": "x",
         "domain": [
          0,
          1
         ],
         "title": {
          "text": "MIN_Vgs"
         }
        }
       }
      }
     },
     "metadata": {},
     "output_type": "display_data"
    }
   ],
   "source": [
    "# for high side and low side\n",
    "d = plot(df, \"MIN_Vgs\", df[\"MIN_Vgs\"], \"INDEX_MIN_Vgs\", df[\"INDEX_MIN_Vgs\"])\n",
    " \n",
    "fig = px.bar(d, x=\"index\", y=\"MIN_Vgs\", color=\"INDEX_MIN_Vgs\", barmode = 'group')\n",
    "fig.show()\n",
    "fig.write_html(\"/Users/rampageyao/Desktop/丹佛斯工作/Danfoss_Chips/MIN_Vgs.html\")"
   ]
  }
 ],
 "metadata": {
  "interpreter": {
   "hash": "092bf18aecc55aef496ffbc6cc353c2203dc3161741cf495c00395ce4a3c9d87"
  },
  "kernelspec": {
   "display_name": "Python 3.8.8 64-bit ('anaconda3': virtualenv)",
   "name": "python3"
  },
  "language_info": {
   "name": "python",
   "version": ""
  }
 },
 "nbformat": 4,
 "nbformat_minor": 4
}