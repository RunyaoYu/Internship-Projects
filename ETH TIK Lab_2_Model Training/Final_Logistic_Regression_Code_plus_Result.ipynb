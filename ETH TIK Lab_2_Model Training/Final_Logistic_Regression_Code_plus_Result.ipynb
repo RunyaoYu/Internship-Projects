{
 "cells": [
  {
   "cell_type": "code",
   "execution_count": 1,
   "metadata": {},
   "outputs": [],
   "source": [
    "\"\"\"\n",
    "Author: Runyao Yu\n",
    "runyao.yu@tum.de\n",
    "Research Internship in ETH Zurich\n",
    "For Academic Use Purpose only\n",
    "\"\"\"\n",
    "\n",
    "# Basics + Viz\n",
    "import pandas as pd\n",
    "\n",
    "# Text pre-processing\n",
    "from sklearn.feature_extraction.text import TfidfVectorizer\n",
    "from sklearn.feature_selection import chi2\n",
    "import paddlehub as hub\n",
    "\n",
    "# Models\n",
    "from sklearn.pipeline import Pipeline\n",
    "from sklearn.model_selection import train_test_split\n",
    "from sklearn.linear_model import LogisticRegression\n",
    "from sklearn.multiclass import OneVsRestClassifier\n",
    "\n",
    "# Metrics\n",
    "from sklearn.metrics import classification_report\n",
    "\n",
    "import os\n",
    "import re"
   ]
  },
  {
   "cell_type": "code",
   "execution_count": 4,
   "metadata": {},
   "outputs": [],
   "source": [
    "topics_dict ={  \n",
    "                \"Appearance and figure\": '外貌长相身材',\n",
    "                \"Daily Life\": '日常生活',\n",
    "                \"Education and Careers\": '教育和职业',\n",
    "                \"Expressing emotional opinions and sharing experiences\": '表达情感见解看法，分享过往经历',\n",
    "                \"For more information\": '想要获得更多信息',\n",
    "                \"Interaction\": '和博主互动',\n",
    "                \"Location\": '地理位置',\n",
    "                \"Personal Information\": '个人信息',\n",
    "                \"Relationship\": '情感恋爱',\n",
    "                \"Sex\": '性',\n",
    "                \"Socialization\": '社交朋友',\n",
    "                \"Unrelated\": '与以上均无关',\n",
    "                \"Wanna know each other\": '想要认识对方'}"
   ]
  },
  {
   "cell_type": "code",
   "execution_count": 5,
   "metadata": {},
   "outputs": [],
   "source": [
    "def remove_punctuation(line):\n",
    "    line = str(line)\n",
    "    if line.strip()=='':\n",
    "        return ''\n",
    "    rule = re.compile(u\"[^A-Z0-1\\u4E00-\\u9FA5\\！\\？\\!\\?]\")\n",
    "    line = rule.sub('',line)\n",
    "    return line"
   ]
  },
  {
   "cell_type": "code",
   "execution_count": 6,
   "metadata": {},
   "outputs": [],
   "source": [
    "def file_processing(file_path, file_name):\n",
    "    df = pd.read_excel(file_path)\n",
    "    topic_name = topics_dict[file_name.split(\".\")[0]]\n",
    "    df[\"Topic\"] = df[topic_name]\n",
    "    \n",
    "    # 处理格式/processing data\n",
    "    for i in range(df[\"Topic\"].shape[0]):\n",
    "        cla = df[topic_name][i]\n",
    "        if cla == 1:\n",
    "            df[\"Topic\"][i] = topic_name\n",
    "        else:\n",
    "            df[\"Topic\"][i] = \"无关\"\n",
    "            \n",
    "    df = df.drop([topic_name], axis = 1)\n",
    "    \n",
    "    df['topic_id'] = df['Topic'].factorize()[0]\n",
    "    topic_id_df = df[['Topic', 'topic_id']].drop_duplicates().sort_values('topic_id').reset_index(drop=True)\n",
    "    topic_to_id = dict(topic_id_df.values)\n",
    "    id_to_topic = dict(topic_id_df[['topic_id', 'Topic']].values)\n",
    "    \n",
    "    #处理数据/processing data\n",
    "    df['clean_review'] = df['content'].apply(remove_punctuation)\n",
    "    lac = hub.Module(name=\"lac\")\n",
    "    df['cut_review'] = df['clean_review'].apply(lambda x: \" \".join([w for w in lac.lexical_analysis(texts=[x], use_gpu=False, batch_size=1)[0][\"word\"]]))\n",
    "    \n",
    "    return df"
   ]
  },
  {
   "cell_type": "code",
   "execution_count": 7,
   "metadata": {},
   "outputs": [],
   "source": [
    "def training(df):\n",
    "    train, test = train_test_split(df[['cut_review', 'topic_id']],\n",
    "                                test_size=0.2,\n",
    "                                random_state = 0)\n",
    "    onevr = Pipeline(steps=[('tfidf',TfidfVectorizer(sublinear_tf=True, min_df=1,\n",
    "                            ngram_range=(1, 2))),\n",
    "                            ('clasfi', OneVsRestClassifier(LogisticRegression(solver='sag'), n_jobs=-1))])\n",
    "    \n",
    "    topic_id_df = df[['Topic', 'topic_id']].drop_duplicates().sort_values('topic_id').reset_index(drop=True)\n",
    "    topic_to_id = dict(topic_id_df.values)\n",
    "    id_to_topic = dict(topic_id_df[['topic_id', 'Topic']].values)\n",
    "    \n",
    "    \n",
    "    for i in range(len(topic_to_id)):\n",
    "        print(f'Processing **{id_to_topic[i]}** posts...')\n",
    "\n",
    "        # Training logistic regression model on train data\n",
    "        onevr.fit(train['cut_review'], train['topic_id'] == i)\n",
    "\n",
    "        # calculating test accuracy\n",
    "        prediction = onevr.predict(test['cut_review'])\n",
    "    #     print(prediction)\n",
    "        temp_y = test['topic_id'].values == i\n",
    "\n",
    "        print(classification_report(temp_y, prediction))\n",
    "    #     print(f'Test accuracy is {accuracy_score(temp_y, prediction)}')\n",
    "        print(\"\\n\")"
   ]
  },
  {
   "cell_type": "code",
   "execution_count": 8,
   "metadata": {},
   "outputs": [
    {
     "name": "stderr",
     "output_type": "stream",
     "text": [
      "\u001b[33m[2021-09-25 13:58:35,258] [ WARNING]\u001b[0m - The _initialize method in HubModule will soon be deprecated, you can use the __init__() to handle the initialization of the object\u001b[0m\n"
     ]
    },
    {
     "name": "stdout",
     "output_type": "stream",
     "text": [
      "Processing **外貌长相身材** posts...\n",
      "              precision    recall  f1-score   support\n",
      "\n",
      "       False       0.83      0.99      0.90       268\n",
      "        True       0.89      0.23      0.36        70\n",
      "\n",
      "    accuracy                           0.83       338\n",
      "   macro avg       0.86      0.61      0.63       338\n",
      "weighted avg       0.84      0.83      0.79       338\n",
      "\n",
      "\n",
      "\n",
      "Processing **无关** posts...\n",
      "              precision    recall  f1-score   support\n",
      "\n",
      "       False       0.89      0.23      0.36        70\n",
      "        True       0.83      0.99      0.90       268\n",
      "\n",
      "    accuracy                           0.83       338\n",
      "   macro avg       0.86      0.61      0.63       338\n",
      "weighted avg       0.84      0.83      0.79       338\n",
      "\n",
      "\n",
      "\n",
      "====================================================================================================\n"
     ]
    },
    {
     "name": "stderr",
     "output_type": "stream",
     "text": [
      "\u001b[33m[2021-09-25 13:58:42,795] [ WARNING]\u001b[0m - The _initialize method in HubModule will soon be deprecated, you can use the __init__() to handle the initialization of the object\u001b[0m\n"
     ]
    },
    {
     "name": "stdout",
     "output_type": "stream",
     "text": [
      "Processing **日常生活** posts...\n",
      "              precision    recall  f1-score   support\n",
      "\n",
      "       False       0.80      1.00      0.89       273\n",
      "        True       0.80      0.06      0.11        71\n",
      "\n",
      "    accuracy                           0.80       344\n",
      "   macro avg       0.80      0.53      0.50       344\n",
      "weighted avg       0.80      0.80      0.73       344\n",
      "\n",
      "\n",
      "\n",
      "Processing **无关** posts...\n",
      "              precision    recall  f1-score   support\n",
      "\n",
      "       False       0.80      0.06      0.11        71\n",
      "        True       0.80      1.00      0.89       273\n",
      "\n",
      "    accuracy                           0.80       344\n",
      "   macro avg       0.80      0.53      0.50       344\n",
      "weighted avg       0.80      0.80      0.73       344\n",
      "\n",
      "\n",
      "\n",
      "====================================================================================================\n"
     ]
    },
    {
     "name": "stderr",
     "output_type": "stream",
     "text": [
      "\u001b[33m[2021-09-25 13:58:49,890] [ WARNING]\u001b[0m - The _initialize method in HubModule will soon be deprecated, you can use the __init__() to handle the initialization of the object\u001b[0m\n"
     ]
    },
    {
     "name": "stdout",
     "output_type": "stream",
     "text": [
      "Processing **教育和职业** posts...\n",
      "              precision    recall  f1-score   support\n",
      "\n",
      "       False       0.79      1.00      0.88       254\n",
      "        True       1.00      0.50      0.66       133\n",
      "\n",
      "    accuracy                           0.83       387\n",
      "   macro avg       0.90      0.75      0.77       387\n",
      "weighted avg       0.86      0.83      0.81       387\n",
      "\n",
      "\n",
      "\n",
      "Processing **无关** posts...\n",
      "              precision    recall  f1-score   support\n",
      "\n",
      "       False       1.00      0.50      0.66       133\n",
      "        True       0.79      1.00      0.88       254\n",
      "\n",
      "    accuracy                           0.83       387\n",
      "   macro avg       0.90      0.75      0.77       387\n",
      "weighted avg       0.86      0.83      0.81       387\n",
      "\n",
      "\n",
      "\n",
      "====================================================================================================\n"
     ]
    },
    {
     "name": "stderr",
     "output_type": "stream",
     "text": [
      "\u001b[33m[2021-09-25 13:58:54,851] [ WARNING]\u001b[0m - The _initialize method in HubModule will soon be deprecated, you can use the __init__() to handle the initialization of the object\u001b[0m\n"
     ]
    },
    {
     "name": "stdout",
     "output_type": "stream",
     "text": [
      "Processing **表达情感见解看法，分享过往经历** posts...\n",
      "              precision    recall  f1-score   support\n",
      "\n",
      "       False       0.95      0.80      0.87       271\n",
      "        True       0.85      0.96      0.90       308\n",
      "\n",
      "    accuracy                           0.89       579\n",
      "   macro avg       0.90      0.88      0.89       579\n",
      "weighted avg       0.89      0.89      0.89       579\n",
      "\n",
      "\n",
      "\n",
      "Processing **无关** posts...\n",
      "              precision    recall  f1-score   support\n",
      "\n",
      "       False       0.85      0.96      0.90       308\n",
      "        True       0.95      0.80      0.87       271\n",
      "\n",
      "    accuracy                           0.89       579\n",
      "   macro avg       0.90      0.88      0.89       579\n",
      "weighted avg       0.89      0.89      0.89       579\n",
      "\n",
      "\n",
      "\n",
      "====================================================================================================\n"
     ]
    },
    {
     "name": "stderr",
     "output_type": "stream",
     "text": [
      "\u001b[33m[2021-09-25 13:59:02,632] [ WARNING]\u001b[0m - The _initialize method in HubModule will soon be deprecated, you can use the __init__() to handle the initialization of the object\u001b[0m\n"
     ]
    },
    {
     "name": "stdout",
     "output_type": "stream",
     "text": [
      "Processing **想要获得更多信息** posts...\n",
      "              precision    recall  f1-score   support\n",
      "\n",
      "       False       0.75      0.98      0.85       248\n",
      "        True       0.90      0.31      0.46       119\n",
      "\n",
      "    accuracy                           0.77       367\n",
      "   macro avg       0.83      0.65      0.66       367\n",
      "weighted avg       0.80      0.77      0.72       367\n",
      "\n",
      "\n",
      "\n",
      "Processing **无关** posts...\n",
      "              precision    recall  f1-score   support\n",
      "\n",
      "       False       0.90      0.31      0.46       119\n",
      "        True       0.75      0.98      0.85       248\n",
      "\n",
      "    accuracy                           0.77       367\n",
      "   macro avg       0.83      0.65      0.66       367\n",
      "weighted avg       0.80      0.77      0.72       367\n",
      "\n",
      "\n",
      "\n",
      "====================================================================================================\n"
     ]
    },
    {
     "name": "stderr",
     "output_type": "stream",
     "text": [
      "\u001b[33m[2021-09-25 13:59:06,776] [ WARNING]\u001b[0m - The _initialize method in HubModule will soon be deprecated, you can use the __init__() to handle the initialization of the object\u001b[0m\n"
     ]
    },
    {
     "name": "stdout",
     "output_type": "stream",
     "text": [
      "Processing **和博主互动** posts...\n",
      "              precision    recall  f1-score   support\n",
      "\n",
      "       False       0.74      0.44      0.56       124\n",
      "        True       0.69      0.89      0.78       176\n",
      "\n",
      "    accuracy                           0.71       300\n",
      "   macro avg       0.72      0.67      0.67       300\n",
      "weighted avg       0.71      0.71      0.69       300\n",
      "\n",
      "\n",
      "\n",
      "Processing **无关** posts...\n",
      "              precision    recall  f1-score   support\n",
      "\n",
      "       False       0.69      0.89      0.78       176\n",
      "        True       0.74      0.44      0.56       124\n",
      "\n",
      "    accuracy                           0.71       300\n",
      "   macro avg       0.72      0.67      0.67       300\n",
      "weighted avg       0.71      0.71      0.69       300\n",
      "\n",
      "\n",
      "\n",
      "====================================================================================================\n"
     ]
    },
    {
     "name": "stderr",
     "output_type": "stream",
     "text": [
      "\u001b[33m[2021-09-25 13:59:10,506] [ WARNING]\u001b[0m - The _initialize method in HubModule will soon be deprecated, you can use the __init__() to handle the initialization of the object\u001b[0m\n"
     ]
    },
    {
     "name": "stdout",
     "output_type": "stream",
     "text": [
      "Processing **地理位置** posts...\n",
      "              precision    recall  f1-score   support\n",
      "\n",
      "       False       0.78      0.99      0.87       235\n",
      "        True       0.97      0.49      0.65       129\n",
      "\n",
      "    accuracy                           0.81       364\n",
      "   macro avg       0.87      0.74      0.76       364\n",
      "weighted avg       0.85      0.81      0.79       364\n",
      "\n",
      "\n",
      "\n",
      "Processing **无关** posts...\n",
      "              precision    recall  f1-score   support\n",
      "\n",
      "       False       0.97      0.49      0.65       129\n",
      "        True       0.78      0.99      0.87       235\n",
      "\n",
      "    accuracy                           0.81       364\n",
      "   macro avg       0.87      0.74      0.76       364\n",
      "weighted avg       0.85      0.81      0.79       364\n",
      "\n",
      "\n",
      "\n",
      "====================================================================================================\n"
     ]
    },
    {
     "name": "stderr",
     "output_type": "stream",
     "text": [
      "\u001b[33m[2021-09-25 13:59:14,683] [ WARNING]\u001b[0m - The _initialize method in HubModule will soon be deprecated, you can use the __init__() to handle the initialization of the object\u001b[0m\n"
     ]
    },
    {
     "name": "stdout",
     "output_type": "stream",
     "text": [
      "Processing **个人信息** posts...\n",
      "              precision    recall  f1-score   support\n",
      "\n",
      "       False       0.85      1.00      0.92       275\n",
      "        True       0.88      0.13      0.23        54\n",
      "\n",
      "    accuracy                           0.85       329\n",
      "   macro avg       0.86      0.56      0.57       329\n",
      "weighted avg       0.86      0.85      0.81       329\n",
      "\n",
      "\n",
      "\n",
      "Processing **无关** posts...\n",
      "              precision    recall  f1-score   support\n",
      "\n",
      "       False       0.88      0.13      0.23        54\n",
      "        True       0.85      1.00      0.92       275\n",
      "\n",
      "    accuracy                           0.85       329\n",
      "   macro avg       0.86      0.56      0.57       329\n",
      "weighted avg       0.86      0.85      0.81       329\n",
      "\n",
      "\n",
      "\n",
      "====================================================================================================\n"
     ]
    },
    {
     "name": "stderr",
     "output_type": "stream",
     "text": [
      "\u001b[33m[2021-09-25 13:59:18,592] [ WARNING]\u001b[0m - The _initialize method in HubModule will soon be deprecated, you can use the __init__() to handle the initialization of the object\u001b[0m\n"
     ]
    },
    {
     "name": "stdout",
     "output_type": "stream",
     "text": [
      "Processing **情感恋爱** posts...\n",
      "              precision    recall  f1-score   support\n",
      "\n",
      "       False       0.85      0.92      0.88       244\n",
      "        True       0.88      0.78      0.82       178\n",
      "\n",
      "    accuracy                           0.86       422\n",
      "   macro avg       0.86      0.85      0.85       422\n",
      "weighted avg       0.86      0.86      0.86       422\n",
      "\n",
      "\n",
      "\n",
      "Processing **无关** posts...\n",
      "              precision    recall  f1-score   support\n",
      "\n",
      "       False       0.88      0.78      0.82       178\n",
      "        True       0.85      0.92      0.88       244\n",
      "\n",
      "    accuracy                           0.86       422\n",
      "   macro avg       0.86      0.85      0.85       422\n",
      "weighted avg       0.86      0.86      0.86       422\n",
      "\n",
      "\n",
      "\n",
      "====================================================================================================\n"
     ]
    },
    {
     "name": "stderr",
     "output_type": "stream",
     "text": [
      "\u001b[33m[2021-09-25 13:59:23,802] [ WARNING]\u001b[0m - The _initialize method in HubModule will soon be deprecated, you can use the __init__() to handle the initialization of the object\u001b[0m\n"
     ]
    },
    {
     "name": "stdout",
     "output_type": "stream",
     "text": [
      "Processing **性** posts...\n",
      "              precision    recall  f1-score   support\n",
      "\n",
      "       False       0.84      1.00      0.91       274\n",
      "        True       1.00      0.06      0.11        54\n",
      "\n",
      "    accuracy                           0.84       328\n",
      "   macro avg       0.92      0.53      0.51       328\n",
      "weighted avg       0.87      0.84      0.78       328\n",
      "\n",
      "\n",
      "\n",
      "Processing **无关** posts...\n",
      "              precision    recall  f1-score   support\n",
      "\n",
      "       False       1.00      0.06      0.11        54\n",
      "        True       0.84      1.00      0.91       274\n",
      "\n",
      "    accuracy                           0.84       328\n",
      "   macro avg       0.92      0.53      0.51       328\n",
      "weighted avg       0.87      0.84      0.78       328\n",
      "\n",
      "\n",
      "\n",
      "====================================================================================================\n"
     ]
    },
    {
     "name": "stderr",
     "output_type": "stream",
     "text": [
      "\u001b[33m[2021-09-25 13:59:27,736] [ WARNING]\u001b[0m - The _initialize method in HubModule will soon be deprecated, you can use the __init__() to handle the initialization of the object\u001b[0m\n"
     ]
    },
    {
     "name": "stdout",
     "output_type": "stream",
     "text": [
      "Processing **社交朋友** posts...\n",
      "              precision    recall  f1-score   support\n",
      "\n",
      "       False       0.88      1.00      0.94       275\n",
      "        True       1.00      0.27      0.43        51\n",
      "\n",
      "    accuracy                           0.89       326\n",
      "   macro avg       0.94      0.64      0.68       326\n",
      "weighted avg       0.90      0.89      0.86       326\n",
      "\n",
      "\n",
      "\n",
      "Processing **无关** posts...\n",
      "              precision    recall  f1-score   support\n",
      "\n",
      "       False       1.00      0.27      0.43        51\n",
      "        True       0.88      1.00      0.94       275\n",
      "\n",
      "    accuracy                           0.89       326\n",
      "   macro avg       0.94      0.64      0.68       326\n",
      "weighted avg       0.90      0.89      0.86       326\n",
      "\n",
      "\n",
      "\n",
      "====================================================================================================\n"
     ]
    },
    {
     "name": "stderr",
     "output_type": "stream",
     "text": [
      "\u001b[33m[2021-09-25 13:59:31,375] [ WARNING]\u001b[0m - The _initialize method in HubModule will soon be deprecated, you can use the __init__() to handle the initialization of the object\u001b[0m\n"
     ]
    },
    {
     "name": "stdout",
     "output_type": "stream",
     "text": [
      "Processing **与以上均无关** posts...\n",
      "              precision    recall  f1-score   support\n",
      "\n",
      "       False       0.70      0.93      0.79       201\n",
      "        True       0.81      0.45      0.58       147\n",
      "\n",
      "    accuracy                           0.72       348\n",
      "   macro avg       0.76      0.69      0.69       348\n",
      "weighted avg       0.75      0.72      0.70       348\n",
      "\n",
      "\n",
      "\n",
      "Processing **无关** posts...\n",
      "              precision    recall  f1-score   support\n",
      "\n",
      "       False       0.81      0.45      0.58       147\n",
      "        True       0.70      0.93      0.79       201\n",
      "\n",
      "    accuracy                           0.72       348\n",
      "   macro avg       0.76      0.69      0.69       348\n",
      "weighted avg       0.75      0.72      0.70       348\n",
      "\n",
      "\n",
      "\n",
      "====================================================================================================\n"
     ]
    },
    {
     "name": "stderr",
     "output_type": "stream",
     "text": [
      "\u001b[33m[2021-09-25 13:59:35,394] [ WARNING]\u001b[0m - The _initialize method in HubModule will soon be deprecated, you can use the __init__() to handle the initialization of the object\u001b[0m\n"
     ]
    },
    {
     "name": "stdout",
     "output_type": "stream",
     "text": [
      "Processing **想要认识对方** posts...\n",
      "              precision    recall  f1-score   support\n",
      "\n",
      "       False       0.84      0.98      0.90       256\n",
      "        True       0.85      0.41      0.56        82\n",
      "\n",
      "    accuracy                           0.84       338\n",
      "   macro avg       0.84      0.70      0.73       338\n",
      "weighted avg       0.84      0.84      0.82       338\n",
      "\n",
      "\n",
      "\n",
      "Processing **无关** posts...\n",
      "              precision    recall  f1-score   support\n",
      "\n",
      "       False       0.85      0.41      0.56        82\n",
      "        True       0.84      0.98      0.90       256\n",
      "\n",
      "    accuracy                           0.84       338\n",
      "   macro avg       0.84      0.70      0.73       338\n",
      "weighted avg       0.84      0.84      0.82       338\n",
      "\n",
      "\n",
      "\n",
      "====================================================================================================\n"
     ]
    }
   ],
   "source": [
    "# 只需改变files_path，也就是存放每一类增补sh/only need to change the path where the augmented data stored\n",
    "files_path = './增补的数据'\n",
    "all_file = pd.DataFrame(os.walk(files_path))\n",
    "files = all_file[2][0]\n",
    "for file_name in files:\n",
    "    lujin = files_path + os.sep + file_name\n",
    "    df = file_processing(lujin, file_name) \n",
    "    training(df)\n",
    "    print(\"=\" * 100)"
   ]
  },
  {
   "cell_type": "code",
   "execution_count": null,
   "metadata": {},
   "outputs": [],
   "source": []
  }
 ],
 "metadata": {
  "interpreter": {
   "hash": "092bf18aecc55aef496ffbc6cc353c2203dc3161741cf495c00395ce4a3c9d87"
  },
  "kernelspec": {
   "display_name": "Python 3.8.8 64-bit ('anaconda3': virtualenv)",
   "name": "python3"
  },
  "language_info": {
   "name": "python",
   "version": ""
  }
 },
 "nbformat": 4,
 "nbformat_minor": 4
}