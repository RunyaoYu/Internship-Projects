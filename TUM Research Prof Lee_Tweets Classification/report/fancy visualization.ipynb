{
  "cells": [
    {
      "cell_type": "code",
      "execution_count": 1,
      "metadata": {
        "id": "Zeyj9XozAh_v"
      },
      "outputs": [],
      "source": [
        "\"\"\"\n",
        "Author: Runyao Yu\n",
        "runyao.yu@kpmg.com\n",
        "\"\"\""
      ]
    },
    {
      "cell_type": "code",
      "execution_count": 1,
      "metadata": {},
      "outputs": [
        {
          "data": {
            "text/plain": [
              "'5.3.1'"
            ]
          },
          "execution_count": 1,
          "metadata": {},
          "output_type": "execute_result"
        }
      ],
      "source": [
        "import numpy as np\n",
        "import pandas as pd\n",
        "import matplotlib.pyplot as plt\n",
        "from pygal.style import Style\n",
        "import pygal\n",
        "from IPython.display import SVG, display\n",
        "import plotly\n",
        "import plotly.express as px\n",
        "import plotly.graph_objects as go\n",
        "import plotly.io as pio\n",
        "import numpy as np\n",
        "\n",
        "#!  pip install -U kaleido\n",
        "#import kaleido\n",
        "\n",
        "np.random.seed(1)\n",
        "plotly.__version__"
      ]
    },
    {
      "cell_type": "code",
      "execution_count": 13,
      "metadata": {},
      "outputs": [
        {
          "data": {
            "image/svg+xml": "<svg xmlns=\"http://www.w3.org/2000/svg\" xmlns:xlink=\"http://www.w3.org/1999/xlink\" id=\"chart-13a2c37f-ae6a-4831-8c79-1e0714d4ab3e\" class=\"pygal-chart\" viewBox=\"0 0 800 600\"><!--Generated with pygal 2.4.0 (lxml) ©Kozea 2012-2016 on 2022-01-18--><!--http://pygal.org--><!--http://github.com/Kozea/pygal--><defs><style type=\"text/css\">#chart-13a2c37f-ae6a-4831-8c79-1e0714d4ab3e{-webkit-user-select:none;-webkit-font-smoothing:antialiased;font-family:Consolas,&quot;Liberation Mono&quot;,Menlo,Courier,monospace}#chart-13a2c37f-ae6a-4831-8c79-1e0714d4ab3e .title{font-family:Consolas,&quot;Liberation Mono&quot;,Menlo,Courier,monospace;font-size:16px}#chart-13a2c37f-ae6a-4831-8c79-1e0714d4ab3e .legends .legend text{font-family:Consolas,&quot;Liberation Mono&quot;,Menlo,Courier,monospace;font-size:14px}#chart-13a2c37f-ae6a-4831-8c79-1e0714d4ab3e .axis text{font-family:Consolas,&quot;Liberation Mono&quot;,Menlo,Courier,monospace;font-size:10px}#chart-13a2c37f-ae6a-4831-8c79-1e0714d4ab3e .axis text.major{font-family:Consolas,&quot;Liberation Mono&quot;,Menlo,Courier,monospace;font-size:10px}#chart-13a2c37f-ae6a-4831-8c79-1e0714d4ab3e .text-overlay text.value{font-family:Consolas,&quot;Liberation Mono&quot;,Menlo,Courier,monospace;font-size:16px}#chart-13a2c37f-ae6a-4831-8c79-1e0714d4ab3e .text-overlay text.label{font-family:Consolas,&quot;Liberation Mono&quot;,Menlo,Courier,monospace;font-size:10px}#chart-13a2c37f-ae6a-4831-8c79-1e0714d4ab3e .tooltip{font-family:Consolas,&quot;Liberation Mono&quot;,Menlo,Courier,monospace;font-size:14px}#chart-13a2c37f-ae6a-4831-8c79-1e0714d4ab3e text.no_data{font-family:Consolas,&quot;Liberation Mono&quot;,Menlo,Courier,monospace;font-size:64px}\n#chart-13a2c37f-ae6a-4831-8c79-1e0714d4ab3e{background-color:rgba(249,249,249,1)}#chart-13a2c37f-ae6a-4831-8c79-1e0714d4ab3e path,#chart-13a2c37f-ae6a-4831-8c79-1e0714d4ab3e line,#chart-13a2c37f-ae6a-4831-8c79-1e0714d4ab3e rect,#chart-13a2c37f-ae6a-4831-8c79-1e0714d4ab3e circle{-webkit-transition:150ms;-moz-transition:150ms;transition:150ms}#chart-13a2c37f-ae6a-4831-8c79-1e0714d4ab3e .graph &gt; .background{fill:rgba(249,249,249,1)}#chart-13a2c37f-ae6a-4831-8c79-1e0714d4ab3e .plot &gt; .background{fill:rgba(255,255,255,1)}#chart-13a2c37f-ae6a-4831-8c79-1e0714d4ab3e .graph{fill:rgba(0,0,0,.87)}#chart-13a2c37f-ae6a-4831-8c79-1e0714d4ab3e text.no_data{fill:rgba(0,0,0,1)}#chart-13a2c37f-ae6a-4831-8c79-1e0714d4ab3e .title{fill:rgba(0,0,0,1)}#chart-13a2c37f-ae6a-4831-8c79-1e0714d4ab3e .legends .legend text{fill:rgba(0,0,0,.87)}#chart-13a2c37f-ae6a-4831-8c79-1e0714d4ab3e .legends .legend:hover text{fill:rgba(0,0,0,1)}#chart-13a2c37f-ae6a-4831-8c79-1e0714d4ab3e .axis .line{stroke:rgba(0,0,0,1)}#chart-13a2c37f-ae6a-4831-8c79-1e0714d4ab3e .axis .guide.line{stroke:rgba(0,0,0,.54)}#chart-13a2c37f-ae6a-4831-8c79-1e0714d4ab3e .axis .major.line{stroke:rgba(0,0,0,.87)}#chart-13a2c37f-ae6a-4831-8c79-1e0714d4ab3e .axis text.major{fill:rgba(0,0,0,1)}#chart-13a2c37f-ae6a-4831-8c79-1e0714d4ab3e .axis.y .guides:hover .guide.line,#chart-13a2c37f-ae6a-4831-8c79-1e0714d4ab3e .line-graph .axis.x .guides:hover .guide.line,#chart-13a2c37f-ae6a-4831-8c79-1e0714d4ab3e .stackedline-graph .axis.x .guides:hover .guide.line,#chart-13a2c37f-ae6a-4831-8c79-1e0714d4ab3e .xy-graph .axis.x .guides:hover .guide.line{stroke:rgba(0,0,0,1)}#chart-13a2c37f-ae6a-4831-8c79-1e0714d4ab3e .axis .guides:hover text{fill:rgba(0,0,0,1)}#chart-13a2c37f-ae6a-4831-8c79-1e0714d4ab3e .reactive{fill-opacity:.7;stroke-opacity:.8}#chart-13a2c37f-ae6a-4831-8c79-1e0714d4ab3e .ci{stroke:rgba(0,0,0,.87)}#chart-13a2c37f-ae6a-4831-8c79-1e0714d4ab3e .reactive.active,#chart-13a2c37f-ae6a-4831-8c79-1e0714d4ab3e .active .reactive{fill-opacity:.8;stroke-opacity:.9;stroke-width:4}#chart-13a2c37f-ae6a-4831-8c79-1e0714d4ab3e .ci .reactive.active{stroke-width:1.5}#chart-13a2c37f-ae6a-4831-8c79-1e0714d4ab3e .series text{fill:rgba(0,0,0,1)}#chart-13a2c37f-ae6a-4831-8c79-1e0714d4ab3e .tooltip rect{fill:rgba(255,255,255,1);stroke:rgba(0,0,0,1);-webkit-transition:opacity 150ms;-moz-transition:opacity 150ms;transition:opacity 150ms}#chart-13a2c37f-ae6a-4831-8c79-1e0714d4ab3e .tooltip .label{fill:rgba(0,0,0,.87)}#chart-13a2c37f-ae6a-4831-8c79-1e0714d4ab3e .tooltip .label{fill:rgba(0,0,0,.87)}#chart-13a2c37f-ae6a-4831-8c79-1e0714d4ab3e .tooltip .legend{font-size:.8em;fill:rgba(0,0,0,.54)}#chart-13a2c37f-ae6a-4831-8c79-1e0714d4ab3e .tooltip .x_label{font-size:.6em;fill:rgba(0,0,0,1)}#chart-13a2c37f-ae6a-4831-8c79-1e0714d4ab3e .tooltip .xlink{font-size:.5em;text-decoration:underline}#chart-13a2c37f-ae6a-4831-8c79-1e0714d4ab3e .tooltip .value{font-size:1.5em}#chart-13a2c37f-ae6a-4831-8c79-1e0714d4ab3e .bound{font-size:.5em}#chart-13a2c37f-ae6a-4831-8c79-1e0714d4ab3e .max-value{font-size:.75em;fill:rgba(0,0,0,.54)}#chart-13a2c37f-ae6a-4831-8c79-1e0714d4ab3e .map-element{fill:rgba(255,255,255,1);stroke:rgba(0,0,0,.54) !important}#chart-13a2c37f-ae6a-4831-8c79-1e0714d4ab3e .map-element .reactive{fill-opacity:inherit;stroke-opacity:inherit}#chart-13a2c37f-ae6a-4831-8c79-1e0714d4ab3e .color-0,#chart-13a2c37f-ae6a-4831-8c79-1e0714d4ab3e .color-0 a:visited{stroke:#F44336;fill:#F44336}#chart-13a2c37f-ae6a-4831-8c79-1e0714d4ab3e .color-1,#chart-13a2c37f-ae6a-4831-8c79-1e0714d4ab3e .color-1 a:visited{stroke:#3F51B5;fill:#3F51B5}#chart-13a2c37f-ae6a-4831-8c79-1e0714d4ab3e .color-2,#chart-13a2c37f-ae6a-4831-8c79-1e0714d4ab3e .color-2 a:visited{stroke:#009688;fill:#009688}#chart-13a2c37f-ae6a-4831-8c79-1e0714d4ab3e .text-overlay .color-0 text{fill:black}#chart-13a2c37f-ae6a-4831-8c79-1e0714d4ab3e .text-overlay .color-1 text{fill:black}#chart-13a2c37f-ae6a-4831-8c79-1e0714d4ab3e .text-overlay .color-2 text{fill:black}\n#chart-13a2c37f-ae6a-4831-8c79-1e0714d4ab3e text.no_data{text-anchor:middle}#chart-13a2c37f-ae6a-4831-8c79-1e0714d4ab3e .guide.line{fill:none}#chart-13a2c37f-ae6a-4831-8c79-1e0714d4ab3e .centered{text-anchor:middle}#chart-13a2c37f-ae6a-4831-8c79-1e0714d4ab3e .title{text-anchor:middle}#chart-13a2c37f-ae6a-4831-8c79-1e0714d4ab3e .legends .legend text{fill-opacity:1}#chart-13a2c37f-ae6a-4831-8c79-1e0714d4ab3e .axis.x text{text-anchor:middle}#chart-13a2c37f-ae6a-4831-8c79-1e0714d4ab3e .axis.x:not(.web) text[transform]{text-anchor:start}#chart-13a2c37f-ae6a-4831-8c79-1e0714d4ab3e .axis.x:not(.web) text[transform].backwards{text-anchor:end}#chart-13a2c37f-ae6a-4831-8c79-1e0714d4ab3e .axis.y text{text-anchor:end}#chart-13a2c37f-ae6a-4831-8c79-1e0714d4ab3e .axis.y text[transform].backwards{text-anchor:start}#chart-13a2c37f-ae6a-4831-8c79-1e0714d4ab3e .axis.y2 text{text-anchor:start}#chart-13a2c37f-ae6a-4831-8c79-1e0714d4ab3e .axis.y2 text[transform].backwards{text-anchor:end}#chart-13a2c37f-ae6a-4831-8c79-1e0714d4ab3e .axis .guide.line{stroke-dasharray:4,4}#chart-13a2c37f-ae6a-4831-8c79-1e0714d4ab3e .axis .major.guide.line{stroke-dasharray:6,6}#chart-13a2c37f-ae6a-4831-8c79-1e0714d4ab3e .horizontal .axis.y .guide.line,#chart-13a2c37f-ae6a-4831-8c79-1e0714d4ab3e .horizontal .axis.y2 .guide.line,#chart-13a2c37f-ae6a-4831-8c79-1e0714d4ab3e .vertical .axis.x .guide.line{opacity:0}#chart-13a2c37f-ae6a-4831-8c79-1e0714d4ab3e .horizontal .axis.always_show .guide.line,#chart-13a2c37f-ae6a-4831-8c79-1e0714d4ab3e .vertical .axis.always_show .guide.line{opacity:1 !important}#chart-13a2c37f-ae6a-4831-8c79-1e0714d4ab3e .axis.y .guides:hover .guide.line,#chart-13a2c37f-ae6a-4831-8c79-1e0714d4ab3e .axis.y2 .guides:hover .guide.line,#chart-13a2c37f-ae6a-4831-8c79-1e0714d4ab3e .axis.x .guides:hover .guide.line{opacity:1}#chart-13a2c37f-ae6a-4831-8c79-1e0714d4ab3e .axis .guides:hover text{opacity:1}#chart-13a2c37f-ae6a-4831-8c79-1e0714d4ab3e .nofill{fill:none}#chart-13a2c37f-ae6a-4831-8c79-1e0714d4ab3e .subtle-fill{fill-opacity:.2}#chart-13a2c37f-ae6a-4831-8c79-1e0714d4ab3e .dot{stroke-width:1px;fill-opacity:1}#chart-13a2c37f-ae6a-4831-8c79-1e0714d4ab3e .dot.active{stroke-width:5px}#chart-13a2c37f-ae6a-4831-8c79-1e0714d4ab3e .dot.negative{fill:transparent}#chart-13a2c37f-ae6a-4831-8c79-1e0714d4ab3e text,#chart-13a2c37f-ae6a-4831-8c79-1e0714d4ab3e tspan{stroke:none !important}#chart-13a2c37f-ae6a-4831-8c79-1e0714d4ab3e .series text.active{opacity:1}#chart-13a2c37f-ae6a-4831-8c79-1e0714d4ab3e .tooltip rect{fill-opacity:.95;stroke-width:.5}#chart-13a2c37f-ae6a-4831-8c79-1e0714d4ab3e .tooltip text{fill-opacity:1}#chart-13a2c37f-ae6a-4831-8c79-1e0714d4ab3e .showable{visibility:hidden}#chart-13a2c37f-ae6a-4831-8c79-1e0714d4ab3e .showable.shown{visibility:visible}#chart-13a2c37f-ae6a-4831-8c79-1e0714d4ab3e .gauge-background{fill:rgba(229,229,229,1);stroke:none}#chart-13a2c37f-ae6a-4831-8c79-1e0714d4ab3e .bg-lines{stroke:rgba(249,249,249,1);stroke-width:2px}</style><script type=\"text/javascript\">window.pygal = window.pygal || {};window.pygal.config = window.pygal.config || {};window.pygal.config['13a2c37f-ae6a-4831-8c79-1e0714d4ab3e'] = {&quot;allow_interruptions&quot;: false, &quot;box_mode&quot;: &quot;extremes&quot;, &quot;classes&quot;: [&quot;pygal-chart&quot;], &quot;css&quot;: [&quot;file://style.css&quot;, &quot;file://graph.css&quot;], &quot;defs&quot;: [], &quot;disable_xml_declaration&quot;: true, &quot;dots_size&quot;: 2.5, &quot;dynamic_print_values&quot;: false, &quot;explicit_size&quot;: false, &quot;fill&quot;: false, &quot;force_uri_protocol&quot;: &quot;https&quot;, &quot;formatter&quot;: null, &quot;half_pie&quot;: false, &quot;height&quot;: 600, &quot;include_x_axis&quot;: false, &quot;inner_radius&quot;: 0, &quot;interpolate&quot;: null, &quot;interpolation_parameters&quot;: {}, &quot;interpolation_precision&quot;: 250, &quot;inverse_y_axis&quot;: false, &quot;js&quot;: [&quot;//kozea.github.io/pygal.js/2.0.x/pygal-tooltips.min.js&quot;], &quot;legend_at_bottom&quot;: false, &quot;legend_at_bottom_columns&quot;: null, &quot;legend_box_size&quot;: 12, &quot;logarithmic&quot;: false, &quot;margin&quot;: 20, &quot;margin_bottom&quot;: null, &quot;margin_left&quot;: null, &quot;margin_right&quot;: null, &quot;margin_top&quot;: null, &quot;max_scale&quot;: 16, &quot;min_scale&quot;: 4, &quot;missing_value_fill_truncation&quot;: &quot;x&quot;, &quot;no_data_text&quot;: &quot;No data&quot;, &quot;no_prefix&quot;: false, &quot;order_min&quot;: null, &quot;pretty_print&quot;: false, &quot;print_labels&quot;: false, &quot;print_values&quot;: false, &quot;print_values_position&quot;: &quot;center&quot;, &quot;print_zeroes&quot;: true, &quot;range&quot;: null, &quot;rounded_bars&quot;: null, &quot;secondary_range&quot;: null, &quot;show_dots&quot;: true, &quot;show_legend&quot;: true, &quot;show_minor_x_labels&quot;: true, &quot;show_minor_y_labels&quot;: true, &quot;show_only_major_dots&quot;: false, &quot;show_x_guides&quot;: false, &quot;show_x_labels&quot;: true, &quot;show_y_guides&quot;: true, &quot;show_y_labels&quot;: true, &quot;spacing&quot;: 10, &quot;stack_from_top&quot;: false, &quot;strict&quot;: false, &quot;stroke&quot;: true, &quot;stroke_style&quot;: null, &quot;style&quot;: {&quot;background&quot;: &quot;rgba(249, 249, 249, 1)&quot;, &quot;ci_colors&quot;: [], &quot;colors&quot;: [&quot;#F44336&quot;, &quot;#3F51B5&quot;, &quot;#009688&quot;, &quot;#FFC107&quot;, &quot;#FF5722&quot;, &quot;#9C27B0&quot;, &quot;#03A9F4&quot;, &quot;#8BC34A&quot;, &quot;#FF9800&quot;, &quot;#E91E63&quot;, &quot;#2196F3&quot;, &quot;#4CAF50&quot;, &quot;#FFEB3B&quot;, &quot;#673AB7&quot;, &quot;#00BCD4&quot;, &quot;#CDDC39&quot;, &quot;#9E9E9E&quot;, &quot;#607D8B&quot;], &quot;font_family&quot;: &quot;Consolas, \\&quot;Liberation Mono\\&quot;, Menlo, Courier, monospace&quot;, &quot;foreground&quot;: &quot;rgba(0, 0, 0, .87)&quot;, &quot;foreground_strong&quot;: &quot;rgba(0, 0, 0, 1)&quot;, &quot;foreground_subtle&quot;: &quot;rgba(0, 0, 0, .54)&quot;, &quot;guide_stroke_dasharray&quot;: &quot;4,4&quot;, &quot;label_font_family&quot;: &quot;Consolas, \\&quot;Liberation Mono\\&quot;, Menlo, Courier, monospace&quot;, &quot;label_font_size&quot;: 10, &quot;legend_font_family&quot;: &quot;Consolas, \\&quot;Liberation Mono\\&quot;, Menlo, Courier, monospace&quot;, &quot;legend_font_size&quot;: 14, &quot;major_guide_stroke_dasharray&quot;: &quot;6,6&quot;, &quot;major_label_font_family&quot;: &quot;Consolas, \\&quot;Liberation Mono\\&quot;, Menlo, Courier, monospace&quot;, &quot;major_label_font_size&quot;: 10, &quot;no_data_font_family&quot;: &quot;Consolas, \\&quot;Liberation Mono\\&quot;, Menlo, Courier, monospace&quot;, &quot;no_data_font_size&quot;: 64, &quot;opacity&quot;: &quot;.7&quot;, &quot;opacity_hover&quot;: &quot;.8&quot;, &quot;plot_background&quot;: &quot;rgba(255, 255, 255, 1)&quot;, &quot;stroke_opacity&quot;: &quot;.8&quot;, &quot;stroke_opacity_hover&quot;: &quot;.9&quot;, &quot;title_font_family&quot;: &quot;Consolas, \\&quot;Liberation Mono\\&quot;, Menlo, Courier, monospace&quot;, &quot;title_font_size&quot;: 16, &quot;tooltip_font_family&quot;: &quot;Consolas, \\&quot;Liberation Mono\\&quot;, Menlo, Courier, monospace&quot;, &quot;tooltip_font_size&quot;: 14, &quot;transition&quot;: &quot;150ms&quot;, &quot;value_background&quot;: &quot;rgba(229, 229, 229, 1)&quot;, &quot;value_colors&quot;: [], &quot;value_font_family&quot;: &quot;Consolas, \\&quot;Liberation Mono\\&quot;, Menlo, Courier, monospace&quot;, &quot;value_font_size&quot;: 16, &quot;value_label_font_family&quot;: &quot;Consolas, \\&quot;Liberation Mono\\&quot;, Menlo, Courier, monospace&quot;, &quot;value_label_font_size&quot;: 10}, &quot;title&quot;: &quot;Baseline Models&quot;, &quot;tooltip_border_radius&quot;: 0, &quot;tooltip_fancy_mode&quot;: true, &quot;truncate_label&quot;: null, &quot;truncate_legend&quot;: null, &quot;width&quot;: 800, &quot;x_label_rotation&quot;: 0, &quot;x_labels&quot;: [0, 1, 2, 3, 4, 5, 6, 7, 8, 9, 10, 11, 12, 13, 14, 15, 16, 17, 18, 19, 20, 21, 22, 23, 24, 25, 26, 27, 28, 29, 30, 31, 32, 33, 34, 35, 36, 37, 38, 39, 40, 41, 42, 43, 44, 45, 46, 47, 48, 49, 50, 51, 52, 53, 54, 55, 56, 57, 58, 59, 60, 61, 62, 63, 64, 65, 66, 67, 68, 69, 70, 71, 72, 73, 74, 75, 76, 77, 78, 79, 80, 81, 82, 83, 84, 85, 86, 87, 88, 89, 90, 91, 92, 93, 94, 95, 96, 97, 98, 99], &quot;x_labels_major&quot;: null, &quot;x_labels_major_count&quot;: null, &quot;x_labels_major_every&quot;: null, &quot;x_title&quot;: null, &quot;xrange&quot;: null, &quot;y_label_rotation&quot;: 0, &quot;y_labels&quot;: null, &quot;y_labels_major&quot;: null, &quot;y_labels_major_count&quot;: null, &quot;y_labels_major_every&quot;: null, &quot;y_title&quot;: null, &quot;zero&quot;: 0, &quot;legends&quot;: [&quot;RNN&quot;, &quot;LSTM&quot;, &quot;GRU&quot;]}</script><script type=\"text/javascript\" xlink:href=\"https://kozea.github.io/pygal.js/2.0.x/pygal-tooltips.min.js\"/></defs><title>Baseline Models</title><g class=\"graph line-graph vertical\"><rect x=\"0\" y=\"0\" width=\"800\" height=\"600\" class=\"background\"/><g transform=\"translate(103, 46)\" class=\"plot\"><rect x=\"0\" y=\"0\" width=\"676.4\" height=\"514\" class=\"background\"/><g class=\"axis y always_show\"><path d=\"M0.000000 514.000000 h676.400000\" class=\"line\"/><g class=\"guides\"><path d=\"M0.000000 390.771785 h676.400000\" class=\"guide line\"/><text x=\"-5\" y=\"394.27178499051485\" class=\"\">0.4</text><title>0.4</title></g><g class=\"guides\"><path d=\"M0.000000 273.474354 h676.400000\" class=\"major guide line\"/><text x=\"-5\" y=\"276.97435431337783\" class=\"major\">0.5</text><title>0.5</title></g><g class=\"guides\"><path d=\"M0.000000 156.176924 h676.400000\" class=\"guide line\"/><text x=\"-5\" y=\"159.67692363624076\" class=\"\">0.6</text><title>0.6</title></g><g class=\"guides\"><path d=\"M0.000000 38.879493 h676.400000\" class=\"guide line\"/><text x=\"-5\" y=\"42.37949295910374\" class=\"\">0.7</text><title>0.7</title></g></g><g class=\"axis x\"><g class=\"guides\"><path d=\"M13.007692 0.000000 v514.000000\" class=\"axis line\"/><text x=\"13.007692307692308\" y=\"529.0\" class=\"\">0</text></g><g class=\"guides\"><path d=\"M19.577234 0.000000 v514.000000\" class=\"guide line\"/><text x=\"19.577233877233876\" y=\"529.0\" class=\"\">1</text></g><g class=\"guides\"><path d=\"M26.146775 0.000000 v514.000000\" class=\"guide line\"/><text x=\"26.146775446775447\" y=\"529.0\" class=\"\">2</text></g><g class=\"guides\"><path d=\"M32.716317 0.000000 v514.000000\" class=\"guide line\"/><text x=\"32.716317016317014\" y=\"529.0\" class=\"\">3</text></g><g class=\"guides\"><path d=\"M39.285859 0.000000 v514.000000\" class=\"guide line\"/><text x=\"39.285858585858584\" y=\"529.0\" class=\"\">4</text></g><g class=\"guides\"><path d=\"M45.855400 0.000000 v514.000000\" class=\"guide line\"/><text x=\"45.85540015540015\" y=\"529.0\" class=\"\">5</text></g><g class=\"guides\"><path d=\"M52.424942 0.000000 v514.000000\" class=\"guide line\"/><text x=\"52.424941724941725\" y=\"529.0\" class=\"\">6</text></g><g class=\"guides\"><path d=\"M58.994483 0.000000 v514.000000\" class=\"guide line\"/><text x=\"58.99448329448329\" y=\"529.0\" class=\"\">7</text></g><g class=\"guides\"><path d=\"M65.564025 0.000000 v514.000000\" class=\"guide line\"/><text x=\"65.56402486402486\" y=\"529.0\" class=\"\">8</text></g><g class=\"guides\"><path d=\"M72.133566 0.000000 v514.000000\" class=\"guide line\"/><text x=\"72.13356643356643\" y=\"529.0\" class=\"\">9</text></g><g class=\"guides\"><path d=\"M78.703108 0.000000 v514.000000\" class=\"guide line\"/><text x=\"78.703108003108\" y=\"529.0\" class=\"\">…</text><title>10</title></g><g class=\"guides\"><path d=\"M85.272650 0.000000 v514.000000\" class=\"guide line\"/><text x=\"85.27264957264956\" y=\"529.0\" class=\"\">…</text><title>11</title></g><g class=\"guides\"><path d=\"M91.842191 0.000000 v514.000000\" class=\"guide line\"/><text x=\"91.84219114219113\" y=\"529.0\" class=\"\">…</text><title>12</title></g><g class=\"guides\"><path d=\"M98.411733 0.000000 v514.000000\" class=\"guide line\"/><text x=\"98.41173271173271\" y=\"529.0\" class=\"\">…</text><title>13</title></g><g class=\"guides\"><path d=\"M104.981274 0.000000 v514.000000\" class=\"guide line\"/><text x=\"104.98127428127427\" y=\"529.0\" class=\"\">…</text><title>14</title></g><g class=\"guides\"><path d=\"M111.550816 0.000000 v514.000000\" class=\"guide line\"/><text x=\"111.55081585081584\" y=\"529.0\" class=\"\">…</text><title>15</title></g><g class=\"guides\"><path d=\"M118.120357 0.000000 v514.000000\" class=\"guide line\"/><text x=\"118.12035742035741\" y=\"529.0\" class=\"\">…</text><title>16</title></g><g class=\"guides\"><path d=\"M124.689899 0.000000 v514.000000\" class=\"guide line\"/><text x=\"124.68989898989896\" y=\"529.0\" class=\"\">…</text><title>17</title></g><g class=\"guides\"><path d=\"M131.259441 0.000000 v514.000000\" class=\"guide line\"/><text x=\"131.25944055944055\" y=\"529.0\" class=\"\">…</text><title>18</title></g><g class=\"guides\"><path d=\"M137.828982 0.000000 v514.000000\" class=\"guide line\"/><text x=\"137.82898212898212\" y=\"529.0\" class=\"\">…</text><title>19</title></g><g class=\"guides\"><path d=\"M144.398524 0.000000 v514.000000\" class=\"guide line\"/><text x=\"144.3985236985237\" y=\"529.0\" class=\"\">…</text><title>20</title></g><g class=\"guides\"><path d=\"M150.968065 0.000000 v514.000000\" class=\"guide line\"/><text x=\"150.96806526806526\" y=\"529.0\" class=\"\">…</text><title>21</title></g><g class=\"guides\"><path d=\"M157.537607 0.000000 v514.000000\" class=\"guide line\"/><text x=\"157.53760683760683\" y=\"529.0\" class=\"\">…</text><title>22</title></g><g class=\"guides\"><path d=\"M164.107148 0.000000 v514.000000\" class=\"guide line\"/><text x=\"164.1071484071484\" y=\"529.0\" class=\"\">…</text><title>23</title></g><g class=\"guides\"><path d=\"M170.676690 0.000000 v514.000000\" class=\"guide line\"/><text x=\"170.67668997668997\" y=\"529.0\" class=\"\">…</text><title>24</title></g><g class=\"guides\"><path d=\"M177.246232 0.000000 v514.000000\" class=\"guide line\"/><text x=\"177.24623154623154\" y=\"529.0\" class=\"\">…</text><title>25</title></g><g class=\"guides\"><path d=\"M183.815773 0.000000 v514.000000\" class=\"guide line\"/><text x=\"183.8157731157731\" y=\"529.0\" class=\"\">…</text><title>26</title></g><g class=\"guides\"><path d=\"M190.385315 0.000000 v514.000000\" class=\"guide line\"/><text x=\"190.38531468531465\" y=\"529.0\" class=\"\">…</text><title>27</title></g><g class=\"guides\"><path d=\"M196.954856 0.000000 v514.000000\" class=\"guide line\"/><text x=\"196.95485625485622\" y=\"529.0\" class=\"\">…</text><title>28</title></g><g class=\"guides\"><path d=\"M203.524398 0.000000 v514.000000\" class=\"guide line\"/><text x=\"203.52439782439782\" y=\"529.0\" class=\"\">…</text><title>29</title></g><g class=\"guides\"><path d=\"M210.093939 0.000000 v514.000000\" class=\"guide line\"/><text x=\"210.0939393939394\" y=\"529.0\" class=\"\">…</text><title>30</title></g><g class=\"guides\"><path d=\"M216.663481 0.000000 v514.000000\" class=\"guide line\"/><text x=\"216.66348096348096\" y=\"529.0\" class=\"\">…</text><title>31</title></g><g class=\"guides\"><path d=\"M223.233023 0.000000 v514.000000\" class=\"guide line\"/><text x=\"223.23302253302253\" y=\"529.0\" class=\"\">…</text><title>32</title></g><g class=\"guides\"><path d=\"M229.802564 0.000000 v514.000000\" class=\"guide line\"/><text x=\"229.80256410256408\" y=\"529.0\" class=\"\">…</text><title>33</title></g><g class=\"guides\"><path d=\"M236.372106 0.000000 v514.000000\" class=\"guide line\"/><text x=\"236.37210567210565\" y=\"529.0\" class=\"\">…</text><title>34</title></g><g class=\"guides\"><path d=\"M242.941647 0.000000 v514.000000\" class=\"guide line\"/><text x=\"242.94164724164722\" y=\"529.0\" class=\"\">…</text><title>35</title></g><g class=\"guides\"><path d=\"M249.511189 0.000000 v514.000000\" class=\"guide line\"/><text x=\"249.5111888111888\" y=\"529.0\" class=\"\">…</text><title>36</title></g><g class=\"guides\"><path d=\"M256.080730 0.000000 v514.000000\" class=\"guide line\"/><text x=\"256.08073038073036\" y=\"529.0\" class=\"\">…</text><title>37</title></g><g class=\"guides\"><path d=\"M262.650272 0.000000 v514.000000\" class=\"guide line\"/><text x=\"262.65027195027193\" y=\"529.0\" class=\"\">…</text><title>38</title></g><g class=\"guides\"><path d=\"M269.219814 0.000000 v514.000000\" class=\"guide line\"/><text x=\"269.2198135198135\" y=\"529.0\" class=\"\">…</text><title>39</title></g><g class=\"guides\"><path d=\"M275.789355 0.000000 v514.000000\" class=\"guide line\"/><text x=\"275.78935508935507\" y=\"529.0\" class=\"\">…</text><title>40</title></g><g class=\"guides\"><path d=\"M282.358897 0.000000 v514.000000\" class=\"guide line\"/><text x=\"282.35889665889664\" y=\"529.0\" class=\"\">…</text><title>41</title></g><g class=\"guides\"><path d=\"M288.928438 0.000000 v514.000000\" class=\"guide line\"/><text x=\"288.9284382284382\" y=\"529.0\" class=\"\">…</text><title>42</title></g><g class=\"guides\"><path d=\"M295.497980 0.000000 v514.000000\" class=\"guide line\"/><text x=\"295.4979797979798\" y=\"529.0\" class=\"\">…</text><title>43</title></g><g class=\"guides\"><path d=\"M302.067521 0.000000 v514.000000\" class=\"guide line\"/><text x=\"302.06752136752135\" y=\"529.0\" class=\"\">…</text><title>44</title></g><g class=\"guides\"><path d=\"M308.637063 0.000000 v514.000000\" class=\"guide line\"/><text x=\"308.6370629370629\" y=\"529.0\" class=\"\">…</text><title>45</title></g><g class=\"guides\"><path d=\"M315.206605 0.000000 v514.000000\" class=\"guide line\"/><text x=\"315.2066045066045\" y=\"529.0\" class=\"\">…</text><title>46</title></g><g class=\"guides\"><path d=\"M321.776146 0.000000 v514.000000\" class=\"guide line\"/><text x=\"321.77614607614606\" y=\"529.0\" class=\"\">…</text><title>47</title></g><g class=\"guides\"><path d=\"M328.345688 0.000000 v514.000000\" class=\"guide line\"/><text x=\"328.34568764568763\" y=\"529.0\" class=\"\">…</text><title>48</title></g><g class=\"guides\"><path d=\"M334.915229 0.000000 v514.000000\" class=\"guide line\"/><text x=\"334.91522921522915\" y=\"529.0\" class=\"\">…</text><title>49</title></g><g class=\"guides\"><path d=\"M341.484771 0.000000 v514.000000\" class=\"guide line\"/><text x=\"341.4847707847708\" y=\"529.0\" class=\"\">…</text><title>50</title></g><g class=\"guides\"><path d=\"M348.054312 0.000000 v514.000000\" class=\"guide line\"/><text x=\"348.05431235431234\" y=\"529.0\" class=\"\">…</text><title>51</title></g><g class=\"guides\"><path d=\"M354.623854 0.000000 v514.000000\" class=\"guide line\"/><text x=\"354.6238539238539\" y=\"529.0\" class=\"\">…</text><title>52</title></g><g class=\"guides\"><path d=\"M361.193395 0.000000 v514.000000\" class=\"guide line\"/><text x=\"361.1933954933955\" y=\"529.0\" class=\"\">…</text><title>53</title></g><g class=\"guides\"><path d=\"M367.762937 0.000000 v514.000000\" class=\"guide line\"/><text x=\"367.762937062937\" y=\"529.0\" class=\"\">…</text><title>54</title></g><g class=\"guides\"><path d=\"M374.332479 0.000000 v514.000000\" class=\"guide line\"/><text x=\"374.3324786324786\" y=\"529.0\" class=\"\">…</text><title>55</title></g><g class=\"guides\"><path d=\"M380.902020 0.000000 v514.000000\" class=\"guide line\"/><text x=\"380.90202020202014\" y=\"529.0\" class=\"\">…</text><title>56</title></g><g class=\"guides\"><path d=\"M387.471562 0.000000 v514.000000\" class=\"guide line\"/><text x=\"387.47156177156177\" y=\"529.0\" class=\"\">…</text><title>57</title></g><g class=\"guides\"><path d=\"M394.041103 0.000000 v514.000000\" class=\"guide line\"/><text x=\"394.04110334110334\" y=\"529.0\" class=\"\">…</text><title>58</title></g><g class=\"guides\"><path d=\"M400.610645 0.000000 v514.000000\" class=\"guide line\"/><text x=\"400.61064491064485\" y=\"529.0\" class=\"\">…</text><title>59</title></g><g class=\"guides\"><path d=\"M407.180186 0.000000 v514.000000\" class=\"guide line\"/><text x=\"407.1801864801865\" y=\"529.0\" class=\"\">…</text><title>60</title></g><g class=\"guides\"><path d=\"M413.749728 0.000000 v514.000000\" class=\"guide line\"/><text x=\"413.749728049728\" y=\"529.0\" class=\"\">…</text><title>61</title></g><g class=\"guides\"><path d=\"M420.319270 0.000000 v514.000000\" class=\"guide line\"/><text x=\"420.3192696192696\" y=\"529.0\" class=\"\">…</text><title>62</title></g><g class=\"guides\"><path d=\"M426.888811 0.000000 v514.000000\" class=\"guide line\"/><text x=\"426.88881118881113\" y=\"529.0\" class=\"\">…</text><title>63</title></g><g class=\"guides\"><path d=\"M433.458353 0.000000 v514.000000\" class=\"guide line\"/><text x=\"433.45835275835276\" y=\"529.0\" class=\"\">…</text><title>64</title></g><g class=\"guides\"><path d=\"M440.027894 0.000000 v514.000000\" class=\"guide line\"/><text x=\"440.02789432789433\" y=\"529.0\" class=\"\">…</text><title>65</title></g><g class=\"guides\"><path d=\"M446.597436 0.000000 v514.000000\" class=\"guide line\"/><text x=\"446.59743589743584\" y=\"529.0\" class=\"\">…</text><title>66</title></g><g class=\"guides\"><path d=\"M453.166977 0.000000 v514.000000\" class=\"guide line\"/><text x=\"453.16697746697747\" y=\"529.0\" class=\"\">…</text><title>67</title></g><g class=\"guides\"><path d=\"M459.736519 0.000000 v514.000000\" class=\"guide line\"/><text x=\"459.736519036519\" y=\"529.0\" class=\"\">…</text><title>68</title></g><g class=\"guides\"><path d=\"M466.306061 0.000000 v514.000000\" class=\"guide line\"/><text x=\"466.3060606060606\" y=\"529.0\" class=\"\">…</text><title>69</title></g><g class=\"guides\"><path d=\"M472.875602 0.000000 v514.000000\" class=\"guide line\"/><text x=\"472.8756021756021\" y=\"529.0\" class=\"\">…</text><title>70</title></g><g class=\"guides\"><path d=\"M479.445144 0.000000 v514.000000\" class=\"guide line\"/><text x=\"479.4451437451437\" y=\"529.0\" class=\"\">…</text><title>71</title></g><g class=\"guides\"><path d=\"M486.014685 0.000000 v514.000000\" class=\"guide line\"/><text x=\"486.0146853146853\" y=\"529.0\" class=\"\">…</text><title>72</title></g><g class=\"guides\"><path d=\"M492.584227 0.000000 v514.000000\" class=\"guide line\"/><text x=\"492.58422688422684\" y=\"529.0\" class=\"\">…</text><title>73</title></g><g class=\"guides\"><path d=\"M499.153768 0.000000 v514.000000\" class=\"guide line\"/><text x=\"499.1537684537684\" y=\"529.0\" class=\"\">…</text><title>74</title></g><g class=\"guides\"><path d=\"M505.723310 0.000000 v514.000000\" class=\"guide line\"/><text x=\"505.72331002331\" y=\"529.0\" class=\"\">…</text><title>75</title></g><g class=\"guides\"><path d=\"M512.292852 0.000000 v514.000000\" class=\"guide line\"/><text x=\"512.2928515928515\" y=\"529.0\" class=\"\">…</text><title>76</title></g><g class=\"guides\"><path d=\"M518.862393 0.000000 v514.000000\" class=\"guide line\"/><text x=\"518.8623931623931\" y=\"529.0\" class=\"\">…</text><title>77</title></g><g class=\"guides\"><path d=\"M525.431935 0.000000 v514.000000\" class=\"guide line\"/><text x=\"525.4319347319347\" y=\"529.0\" class=\"\">…</text><title>78</title></g><g class=\"guides\"><path d=\"M532.001476 0.000000 v514.000000\" class=\"guide line\"/><text x=\"532.0014763014763\" y=\"529.0\" class=\"\">…</text><title>79</title></g><g class=\"guides\"><path d=\"M538.571018 0.000000 v514.000000\" class=\"guide line\"/><text x=\"538.5710178710178\" y=\"529.0\" class=\"\">…</text><title>80</title></g><g class=\"guides\"><path d=\"M545.140559 0.000000 v514.000000\" class=\"guide line\"/><text x=\"545.1405594405594\" y=\"529.0\" class=\"\">…</text><title>81</title></g><g class=\"guides\"><path d=\"M551.710101 0.000000 v514.000000\" class=\"guide line\"/><text x=\"551.710101010101\" y=\"529.0\" class=\"\">…</text><title>82</title></g><g class=\"guides\"><path d=\"M558.279643 0.000000 v514.000000\" class=\"guide line\"/><text x=\"558.2796425796425\" y=\"529.0\" class=\"\">…</text><title>83</title></g><g class=\"guides\"><path d=\"M564.849184 0.000000 v514.000000\" class=\"guide line\"/><text x=\"564.8491841491841\" y=\"529.0\" class=\"\">…</text><title>84</title></g><g class=\"guides\"><path d=\"M571.418726 0.000000 v514.000000\" class=\"guide line\"/><text x=\"571.4187257187257\" y=\"529.0\" class=\"\">…</text><title>85</title></g><g class=\"guides\"><path d=\"M577.988267 0.000000 v514.000000\" class=\"guide line\"/><text x=\"577.9882672882673\" y=\"529.0\" class=\"\">…</text><title>86</title></g><g class=\"guides\"><path d=\"M584.557809 0.000000 v514.000000\" class=\"guide line\"/><text x=\"584.5578088578088\" y=\"529.0\" class=\"\">…</text><title>87</title></g><g class=\"guides\"><path d=\"M591.127350 0.000000 v514.000000\" class=\"guide line\"/><text x=\"591.1273504273504\" y=\"529.0\" class=\"\">…</text><title>88</title></g><g class=\"guides\"><path d=\"M597.696892 0.000000 v514.000000\" class=\"guide line\"/><text x=\"597.696891996892\" y=\"529.0\" class=\"\">…</text><title>89</title></g><g class=\"guides\"><path d=\"M604.266434 0.000000 v514.000000\" class=\"guide line\"/><text x=\"604.2664335664335\" y=\"529.0\" class=\"\">…</text><title>90</title></g><g class=\"guides\"><path d=\"M610.835975 0.000000 v514.000000\" class=\"guide line\"/><text x=\"610.8359751359751\" y=\"529.0\" class=\"\">…</text><title>91</title></g><g class=\"guides\"><path d=\"M617.405517 0.000000 v514.000000\" class=\"guide line\"/><text x=\"617.4055167055167\" y=\"529.0\" class=\"\">…</text><title>92</title></g><g class=\"guides\"><path d=\"M623.975058 0.000000 v514.000000\" class=\"guide line\"/><text x=\"623.9750582750582\" y=\"529.0\" class=\"\">…</text><title>93</title></g><g class=\"guides\"><path d=\"M630.544600 0.000000 v514.000000\" class=\"guide line\"/><text x=\"630.5445998445998\" y=\"529.0\" class=\"\">…</text><title>94</title></g><g class=\"guides\"><path d=\"M637.114141 0.000000 v514.000000\" class=\"guide line\"/><text x=\"637.1141414141414\" y=\"529.0\" class=\"\">…</text><title>95</title></g><g class=\"guides\"><path d=\"M643.683683 0.000000 v514.000000\" class=\"guide line\"/><text x=\"643.683682983683\" y=\"529.0\" class=\"\">…</text><title>96</title></g><g class=\"guides\"><path d=\"M650.253225 0.000000 v514.000000\" class=\"guide line\"/><text x=\"650.2532245532245\" y=\"529.0\" class=\"\">…</text><title>97</title></g><g class=\"guides\"><path d=\"M656.822766 0.000000 v514.000000\" class=\"guide line\"/><text x=\"656.8227661227661\" y=\"529.0\" class=\"\">…</text><title>98</title></g><g class=\"guides\"><path d=\"M663.392308 0.000000 v514.000000\" class=\"guide line\"/><text x=\"663.3923076923077\" y=\"529.0\" class=\"\">…</text><title>99</title></g></g><g class=\"series serie-0 color-0\"><path d=\"M13.007692 504.115385 L19.577234 293.243579 26.146775 224.051291 32.716317 174.628228 39.285859 181.217970 45.855400 177.923099 52.424942 161.448745 58.994483 154.859003 65.564025 128.500036 72.133566 168.038487 78.703108 138.384649 85.272650 135.089778 91.842191 171.333358 98.411733 151.564132 104.981274 141.679520 111.550816 131.794907 118.120357 141.679520 124.689899 131.794907 131.259441 144.974391 137.828982 154.859003 144.398524 197.692324 150.968065 141.679520 157.537607 135.089778 164.107148 125.205096 170.676690 154.859003 177.246232 125.205096 183.815773 171.333358 190.385315 141.679520 196.954856 135.089778 203.524398 141.679520 210.093939 112.025612 216.663481 112.025612 223.233023 102.141000 229.802564 131.794907 236.372106 125.205096 242.941647 151.564132 249.511189 144.974391 256.080730 105.435870 262.650272 141.679520 269.219814 144.974391 275.789355 121.910225 282.358897 125.205096 288.928438 164.743616 295.497980 138.384649 302.067521 220.756421 308.637063 161.448745 315.206605 141.679520 321.776146 151.564132 328.345688 174.628228 334.915229 118.615354 341.484771 135.089778 348.054312 161.448745 354.623854 138.384649 361.193395 154.859003 367.762937 191.102583 374.332479 138.384649 380.902020 135.089778 387.471562 135.089778 394.041103 158.153874 400.610645 174.628228 407.180186 154.859003 413.749728 138.384649 420.319270 118.615354 426.888811 128.500036 433.458353 177.923099 440.027894 164.743616 446.597436 171.333358 453.166977 148.269262 459.736519 138.384649 466.306061 151.564132 472.875602 112.025612 479.445144 171.333358 486.014685 200.987195 492.584227 154.859003 499.153768 131.794907 505.723310 141.679520 512.292852 177.923099 518.862393 115.320483 525.431935 161.448745 532.001476 131.794907 538.571018 154.859003 545.140559 144.974391 551.710101 161.448745 558.279643 177.923099 564.849184 108.730741 571.418726 128.500036 577.988267 128.500036 584.557809 144.974391 591.127350 138.384649 597.696892 141.679520 604.266434 128.500036 610.835975 174.628228 617.405517 125.205096 623.975058 164.743616 630.544600 105.435870 637.114141 144.974391 643.683683 125.205096 650.253225 158.153874 656.822766 138.384649 663.392308 128.500036\" class=\"line reactive nofill\"/></g><g class=\"series serie-1 color-1\"><path d=\"M13.007692 369.025644 L19.577234 243.820517 26.146775 194.397454 32.716317 161.448745 39.285859 102.141000 45.855400 102.141000 52.424942 92.256387 58.994483 69.192291 65.564025 98.846129 72.133566 79.076904 78.703108 72.487162 85.272650 69.192291 91.842191 32.948711 98.411733 49.423066 104.981274 75.782033 111.550816 102.141000 118.120357 69.192291 124.689899 69.192291 131.259441 85.666645 137.828982 65.897420 144.398524 69.192291 150.968065 102.141000 157.537607 65.897420 164.107148 62.602549 170.676690 62.602549 177.246232 82.371774 183.815773 49.423066 190.385315 59.307678 196.954856 85.666645 203.524398 72.487162 210.093939 46.128195 216.663481 65.897420 223.233023 46.128195 229.802564 75.782033 236.372106 39.538453 242.941647 59.307678 249.511189 52.717937 256.080730 65.897420 262.650272 42.833324 269.219814 62.602549 275.789355 69.192291 282.358897 79.076904 288.928438 85.666645 295.497980 52.717937 302.067521 79.076904 308.637063 65.897420 315.206605 69.192291 321.776146 42.833324 328.345688 32.948711 334.915229 72.487162 341.484771 39.538453 348.054312 36.243582 354.623854 62.602549 361.193395 59.307678 367.762937 46.128195 374.332479 56.012807 380.902020 56.012807 387.471562 52.717937 394.041103 46.128195 400.610645 42.833324 407.180186 56.012807 413.749728 56.012807 420.319270 52.717937 426.888811 36.243582 433.458353 39.538453 440.027894 42.833324 446.597436 49.423066 453.166977 32.948711 459.736519 42.833324 466.306061 62.602549 472.875602 46.128195 479.445144 72.487162 486.014685 46.128195 492.584227 46.128195 499.153768 56.012807 505.723310 52.717937 512.292852 75.782033 518.862393 69.192291 525.431935 79.076904 532.001476 52.717937 538.571018 49.423066 545.140559 69.192291 551.710101 46.128195 558.279643 62.602549 564.849184 59.307678 571.418726 69.192291 577.988267 88.961516 584.557809 42.833324 591.127350 65.897420 597.696892 39.538453 604.266434 52.717937 610.835975 72.487162 617.405517 49.423066 623.975058 56.012807 630.544600 46.128195 637.114141 52.717937 643.683683 52.717937 650.253225 65.897420 656.822766 49.423066 663.392308 56.012807\" class=\"line reactive nofill\"/></g><g class=\"series serie-2 color-2\"><path d=\"M13.007692 411.858966 L19.577234 227.346162 26.146775 174.628228 32.716317 131.794907 39.285859 108.730741 45.855400 72.487162 52.424942 72.487162 58.994483 49.423066 65.564025 62.602549 72.133566 59.307678 78.703108 49.423066 85.272650 92.256387 91.842191 42.833324 98.411733 49.423066 104.981274 95.551258 111.550816 42.833324 118.120357 52.717937 124.689899 62.602549 131.259441 65.897420 137.828982 62.602549 144.398524 49.423066 150.968065 52.717937 157.537607 72.487162 164.107148 52.717937 170.676690 52.717937 177.246232 42.833324 183.815773 52.717937 190.385315 46.128195 196.954856 29.653841 203.524398 52.717937 210.093939 9.884615 216.663481 69.192291 223.233023 49.423066 229.802564 105.435870 236.372106 23.064099 242.941647 32.948711 249.511189 39.538453 256.080730 29.653841 262.650272 42.833324 269.219814 46.128195 275.789355 9.884615 282.358897 39.538453 288.928438 29.653841 295.497980 36.243582 302.067521 32.948711 308.637063 46.128195 315.206605 32.948711 321.776146 56.012807 328.345688 36.243582 334.915229 36.243582 341.484771 49.423066 348.054312 56.012807 354.623854 46.128195 361.193395 56.012807 367.762937 46.128195 374.332479 56.012807 380.902020 29.653841 387.471562 32.948711 394.041103 19.769228 400.610645 46.128195 407.180186 52.717937 413.749728 75.782033 420.319270 36.243582 426.888811 36.243582 433.458353 29.653841 440.027894 32.948711 446.597436 23.064099 453.166977 36.243582 459.736519 32.948711 466.306061 49.423066 472.875602 52.717937 479.445144 23.064099 486.014685 26.358970 492.584227 52.717937 499.153768 52.717937 505.723310 52.717937 512.292852 49.423066 518.862393 42.833324 525.431935 39.538453 532.001476 29.653841 538.571018 32.948711 545.140559 32.948711 551.710101 49.423066 558.279643 49.423066 564.849184 65.897420 571.418726 52.717937 577.988267 46.128195 584.557809 59.307678 591.127350 52.717937 597.696892 75.782033 604.266434 59.307678 610.835975 42.833324 617.405517 49.423066 623.975058 52.717937 630.544600 29.653841 637.114141 42.833324 643.683683 39.538453 650.253225 32.948711 656.822766 32.948711 663.392308 39.538453\" class=\"line reactive nofill\"/></g></g><g class=\"titles\"><text x=\"400.0\" y=\"26\" class=\"title plot_title\">Baseline Models</text></g><g transform=\"translate(103, 46)\" class=\"plot overlay\"><g class=\"series serie-0 color-0\"><g class=\"dots\"><circle cx=\"13.007692307692308\" cy=\"504.1153846153846\" r=\"2.5\" class=\"dot reactive tooltip-trigger\"/><desc class=\"value\">0.3033707738</desc><desc class=\"x top\">13.007692307692308</desc><desc class=\"y top\">504.1153846153846</desc><desc class=\"x_label\">0</desc></g><g class=\"dots\"><circle cx=\"19.577233877233876\" cy=\"293.2435794894312\" r=\"2.5\" class=\"dot reactive tooltip-trigger\"/><desc class=\"value\">0.4831460714</desc><desc class=\"x top\">19.577233877233876</desc><desc class=\"y top\">293.2435794894312</desc><desc class=\"x_label\">1</desc></g><g class=\"dots\"><circle cx=\"26.146775446775447\" cy=\"224.05129137324428\" r=\"2.5\" class=\"dot reactive tooltip-trigger\"/><desc class=\"value\">0.5421348214</desc><desc class=\"x \">26.146775446775447</desc><desc class=\"y \">224.05129137324428</desc><desc class=\"x_label\">2</desc></g><g class=\"dots\"><circle cx=\"32.716317016317014\" cy=\"174.62822843311073\" r=\"2.5\" class=\"dot reactive tooltip-trigger\"/><desc class=\"value\">0.5842696428</desc><desc class=\"x \">32.716317016317014</desc><desc class=\"y \">174.62822843311073</desc><desc class=\"x_label\">3</desc></g><g class=\"dots\"><circle cx=\"39.285858585858584\" cy=\"181.21797015846187\" r=\"2.5\" class=\"dot reactive tooltip-trigger\"/><desc class=\"value\">0.5786516666</desc><desc class=\"x \">39.285858585858584</desc><desc class=\"y \">181.21797015846187</desc><desc class=\"x_label\">4</desc></g><g class=\"dots\"><circle cx=\"45.85540015540015\" cy=\"177.9230992957863\" r=\"2.5\" class=\"dot reactive tooltip-trigger\"/><desc class=\"value\">0.5814606547</desc><desc class=\"x \">45.85540015540015</desc><desc class=\"y \">177.9230992957863</desc><desc class=\"x_label\">5</desc></g><g class=\"dots\"><circle cx=\"52.424941724941725\" cy=\"161.44874498240847\" r=\"2.5\" class=\"dot reactive tooltip-trigger\"/><desc class=\"value\">0.5955055952</desc><desc class=\"x \">52.424941724941725</desc><desc class=\"y \">161.44874498240847</desc><desc class=\"x_label\">6</desc></g><g class=\"dots\"><circle cx=\"58.99448329448329\" cy=\"154.85900325705728\" r=\"2.5\" class=\"dot reactive tooltip-trigger\"/><desc class=\"value\">0.6011235714</desc><desc class=\"x \">58.99448329448329</desc><desc class=\"y \">154.85900325705728</desc><desc class=\"x_label\">7</desc></g><g class=\"dots\"><circle cx=\"65.56402486402486\" cy=\"128.50003635565275\" r=\"2.5\" class=\"dot reactive tooltip-trigger\"/><desc class=\"value\">0.6235954762</desc><desc class=\"x \">65.56402486402486</desc><desc class=\"y \">128.50003635565275</desc><desc class=\"x_label\">8</desc></g><g class=\"dots\"><circle cx=\"72.13356643356643\" cy=\"168.0384867077596\" r=\"2.5\" class=\"dot reactive tooltip-trigger\"/><desc class=\"value\">0.589887619</desc><desc class=\"x \">72.13356643356643</desc><desc class=\"y \">168.0384867077596</desc><desc class=\"x_label\">9</desc></g><g class=\"dots\"><circle cx=\"78.703108003108\" cy=\"138.38464894367945\" r=\"2.5\" class=\"dot reactive tooltip-trigger\"/><desc class=\"value\">0.6151685119</desc><desc class=\"x \">78.703108003108</desc><desc class=\"y \">138.38464894367945</desc><desc class=\"x_label\">10</desc></g><g class=\"dots\"><circle cx=\"85.27264957264956\" cy=\"135.08977808100389\" r=\"2.5\" class=\"dot reactive tooltip-trigger\"/><desc class=\"value\">0.6179775</desc><desc class=\"x \">85.27264957264956</desc><desc class=\"y \">135.08977808100389</desc><desc class=\"x_label\">11</desc></g><g class=\"dots\"><circle cx=\"91.84219114219113\" cy=\"171.33335757043517\" r=\"2.5\" class=\"dot reactive tooltip-trigger\"/><desc class=\"value\">0.5870786309</desc><desc class=\"x \">91.84219114219113</desc><desc class=\"y \">171.33335757043517</desc><desc class=\"x_label\">12</desc></g><g class=\"dots\"><circle cx=\"98.41173271173271\" cy=\"151.56413239438172\" r=\"2.5\" class=\"dot reactive tooltip-trigger\"/><desc class=\"value\">0.6039325595</desc><desc class=\"x \">98.41173271173271</desc><desc class=\"y \">151.56413239438172</desc><desc class=\"x_label\">13</desc></g><g class=\"dots\"><circle cx=\"104.98127428127427\" cy=\"141.67951980635502\" r=\"2.5\" class=\"dot reactive tooltip-trigger\"/><desc class=\"value\">0.6123595238</desc><desc class=\"x \">104.98127428127427</desc><desc class=\"y \">141.67951980635502</desc><desc class=\"x_label\">14</desc></g><g class=\"dots\"><circle cx=\"111.55081585081584\" cy=\"131.79490721832832\" r=\"2.5\" class=\"dot reactive tooltip-trigger\"/><desc class=\"value\">0.6207864881</desc><desc class=\"x \">111.55081585081584</desc><desc class=\"y \">131.79490721832832</desc><desc class=\"x_label\">15</desc></g><g class=\"dots\"><circle cx=\"118.12035742035741\" cy=\"141.67951980635502\" r=\"2.5\" class=\"dot reactive tooltip-trigger\"/><desc class=\"value\">0.6123595238</desc><desc class=\"x \">118.12035742035741</desc><desc class=\"y \">141.67951980635502</desc><desc class=\"x_label\">16</desc></g><g class=\"dots\"><circle cx=\"124.68989898989896\" cy=\"131.79490721832832\" r=\"2.5\" class=\"dot reactive tooltip-trigger\"/><desc class=\"value\">0.6207864881</desc><desc class=\"x \">124.68989898989896</desc><desc class=\"y \">131.79490721832832</desc><desc class=\"x_label\">17</desc></g><g class=\"dots\"><circle cx=\"131.25944055944055\" cy=\"144.97439066903058\" r=\"2.5\" class=\"dot reactive tooltip-trigger\"/><desc class=\"value\">0.6095505357</desc><desc class=\"x \">131.25944055944055</desc><desc class=\"y \">144.97439066903058</desc><desc class=\"x_label\">18</desc></g><g class=\"dots\"><circle cx=\"137.82898212898212\" cy=\"154.85900325705728\" r=\"2.5\" class=\"dot reactive tooltip-trigger\"/><desc class=\"value\">0.6011235714</desc><desc class=\"x \">137.82898212898212</desc><desc class=\"y \">154.85900325705728</desc><desc class=\"x_label\">19</desc></g><g class=\"dots\"><circle cx=\"144.3985236985237\" cy=\"197.6923244718397\" r=\"2.5\" class=\"dot reactive tooltip-trigger\"/><desc class=\"value\">0.5646067262</desc><desc class=\"x \">144.3985236985237</desc><desc class=\"y \">197.6923244718397</desc><desc class=\"x_label\">20</desc></g><g class=\"dots\"><circle cx=\"150.96806526806526\" cy=\"141.67951980635502\" r=\"2.5\" class=\"dot reactive tooltip-trigger\"/><desc class=\"value\">0.6123595238</desc><desc class=\"x \">150.96806526806526</desc><desc class=\"y \">141.67951980635502</desc><desc class=\"x_label\">21</desc></g><g class=\"dots\"><circle cx=\"157.53760683760683\" cy=\"135.08977808100389\" r=\"2.5\" class=\"dot reactive tooltip-trigger\"/><desc class=\"value\">0.6179775</desc><desc class=\"x \">157.53760683760683</desc><desc class=\"y \">135.08977808100389</desc><desc class=\"x_label\">22</desc></g><g class=\"dots\"><circle cx=\"164.1071484071484\" cy=\"125.20509557826028\" r=\"2.5\" class=\"dot reactive tooltip-trigger\"/><desc class=\"value\">0.6264045238</desc><desc class=\"x \">164.1071484071484</desc><desc class=\"y \">125.20509557826028</desc><desc class=\"x_label\">23</desc></g><g class=\"dots\"><circle cx=\"170.67668997668997\" cy=\"154.85900325705728\" r=\"2.5\" class=\"dot reactive tooltip-trigger\"/><desc class=\"value\">0.6011235714</desc><desc class=\"x \">170.67668997668997</desc><desc class=\"y \">154.85900325705728</desc><desc class=\"x_label\">24</desc></g><g class=\"dots\"><circle cx=\"177.24623154623154\" cy=\"125.20509557826028\" r=\"2.5\" class=\"dot reactive tooltip-trigger\"/><desc class=\"value\">0.6264045238</desc><desc class=\"x \">177.24623154623154</desc><desc class=\"y \">125.20509557826028</desc><desc class=\"x_label\">25</desc></g><g class=\"dots\"><circle cx=\"183.8157731157731\" cy=\"171.33335757043517\" r=\"2.5\" class=\"dot reactive tooltip-trigger\"/><desc class=\"value\">0.5870786309</desc><desc class=\"x \">183.8157731157731</desc><desc class=\"y \">171.33335757043517</desc><desc class=\"x_label\">26</desc></g><g class=\"dots\"><circle cx=\"190.38531468531465\" cy=\"141.67951980635502\" r=\"2.5\" class=\"dot reactive tooltip-trigger\"/><desc class=\"value\">0.6123595238</desc><desc class=\"x \">190.38531468531465</desc><desc class=\"y \">141.67951980635502</desc><desc class=\"x_label\">27</desc></g><g class=\"dots\"><circle cx=\"196.95485625485622\" cy=\"135.08977808100389\" r=\"2.5\" class=\"dot reactive tooltip-trigger\"/><desc class=\"value\">0.6179775</desc><desc class=\"x \">196.95485625485622</desc><desc class=\"y \">135.08977808100389</desc><desc class=\"x_label\">28</desc></g><g class=\"dots\"><circle cx=\"203.52439782439782\" cy=\"141.67951980635502\" r=\"2.5\" class=\"dot reactive tooltip-trigger\"/><desc class=\"value\">0.6123595238</desc><desc class=\"x \">203.52439782439782</desc><desc class=\"y \">141.67951980635502</desc><desc class=\"x_label\">29</desc></g><g class=\"dots\"><circle cx=\"210.0939393939394\" cy=\"112.02561212755802\" r=\"2.5\" class=\"dot reactive tooltip-trigger\"/><desc class=\"value\">0.6376404762</desc><desc class=\"x \">210.0939393939394</desc><desc class=\"y \">112.02561212755802</desc><desc class=\"x_label\">30</desc></g><g class=\"dots\"><circle cx=\"216.66348096348096\" cy=\"112.02561212755802\" r=\"2.5\" class=\"dot reactive tooltip-trigger\"/><desc class=\"value\">0.6376404762</desc><desc class=\"x \">216.66348096348096</desc><desc class=\"y \">112.02561212755802</desc><desc class=\"x_label\">31</desc></g><g class=\"dots\"><circle cx=\"223.23302253302253\" cy=\"102.14099953953132\" r=\"2.5\" class=\"dot reactive tooltip-trigger\"/><desc class=\"value\">0.6460674405</desc><desc class=\"x \">223.23302253302253</desc><desc class=\"y \">102.14099953953132</desc><desc class=\"x_label\">32</desc></g><g class=\"dots\"><circle cx=\"229.80256410256408\" cy=\"131.79490721832832\" r=\"2.5\" class=\"dot reactive tooltip-trigger\"/><desc class=\"value\">0.6207864881</desc><desc class=\"x \">229.80256410256408</desc><desc class=\"y \">131.79490721832832</desc><desc class=\"x_label\">33</desc></g><g class=\"dots\"><circle cx=\"236.37210567210565\" cy=\"125.20509557826028\" r=\"2.5\" class=\"dot reactive tooltip-trigger\"/><desc class=\"value\">0.6264045238</desc><desc class=\"x \">236.37210567210565</desc><desc class=\"y \">125.20509557826028</desc><desc class=\"x_label\">34</desc></g><g class=\"dots\"><circle cx=\"242.94164724164722\" cy=\"151.56413239438172\" r=\"2.5\" class=\"dot reactive tooltip-trigger\"/><desc class=\"value\">0.6039325595</desc><desc class=\"x \">242.94164724164722</desc><desc class=\"y \">151.56413239438172</desc><desc class=\"x_label\">35</desc></g><g class=\"dots\"><circle cx=\"249.5111888111888\" cy=\"144.97439066903058\" r=\"2.5\" class=\"dot reactive tooltip-trigger\"/><desc class=\"value\">0.6095505357</desc><desc class=\"x \">249.5111888111888</desc><desc class=\"y \">144.97439066903058</desc><desc class=\"x_label\">36</desc></g><g class=\"dots\"><circle cx=\"256.08073038073036\" cy=\"105.43587040220689\" r=\"2.5\" class=\"dot reactive tooltip-trigger\"/><desc class=\"value\">0.6432584524</desc><desc class=\"x \">256.08073038073036</desc><desc class=\"y \">105.43587040220689</desc><desc class=\"x_label\">37</desc></g><g class=\"dots\"><circle cx=\"262.65027195027193\" cy=\"141.67951980635502\" r=\"2.5\" class=\"dot reactive tooltip-trigger\"/><desc class=\"value\">0.6123595238</desc><desc class=\"x \">262.65027195027193</desc><desc class=\"y \">141.67951980635502</desc><desc class=\"x_label\">38</desc></g><g class=\"dots\"><circle cx=\"269.2198135198135\" cy=\"144.97439066903058\" r=\"2.5\" class=\"dot reactive tooltip-trigger\"/><desc class=\"value\">0.6095505357</desc><desc class=\"x \">269.2198135198135</desc><desc class=\"y \">144.97439066903058</desc><desc class=\"x_label\">39</desc></g><g class=\"dots\"><circle cx=\"275.78935508935507\" cy=\"121.91022471558472\" r=\"2.5\" class=\"dot reactive tooltip-trigger\"/><desc class=\"value\">0.6292135119</desc><desc class=\"x \">275.78935508935507</desc><desc class=\"y \">121.91022471558472</desc><desc class=\"x_label\">40</desc></g><g class=\"dots\"><circle cx=\"282.35889665889664\" cy=\"125.20509557826028\" r=\"2.5\" class=\"dot reactive tooltip-trigger\"/><desc class=\"value\">0.6264045238</desc><desc class=\"x \">282.35889665889664</desc><desc class=\"y \">125.20509557826028</desc><desc class=\"x_label\">41</desc></g><g class=\"dots\"><circle cx=\"288.9284382284382\" cy=\"164.74361584508404\" r=\"2.5\" class=\"dot reactive tooltip-trigger\"/><desc class=\"value\">0.5926966071</desc><desc class=\"x \">288.9284382284382</desc><desc class=\"y \">164.74361584508404</desc><desc class=\"x_label\">42</desc></g><g class=\"dots\"><circle cx=\"295.4979797979798\" cy=\"138.38464894367945\" r=\"2.5\" class=\"dot reactive tooltip-trigger\"/><desc class=\"value\">0.6151685119</desc><desc class=\"x \">295.4979797979798</desc><desc class=\"y \">138.38464894367945</desc><desc class=\"x_label\">43</desc></g><g class=\"dots\"><circle cx=\"302.06752136752135\" cy=\"220.75642051056872\" r=\"2.5\" class=\"dot reactive tooltip-trigger\"/><desc class=\"value\">0.5449438095</desc><desc class=\"x \">302.06752136752135</desc><desc class=\"y \">220.75642051056872</desc><desc class=\"x_label\">44</desc></g><g class=\"dots\"><circle cx=\"308.6370629370629\" cy=\"161.44874498240847\" r=\"2.5\" class=\"dot reactive tooltip-trigger\"/><desc class=\"value\">0.5955055952</desc><desc class=\"x \">308.6370629370629</desc><desc class=\"y \">161.44874498240847</desc><desc class=\"x_label\">45</desc></g><g class=\"dots\"><circle cx=\"315.2066045066045\" cy=\"141.67951980635502\" r=\"2.5\" class=\"dot reactive tooltip-trigger\"/><desc class=\"value\">0.6123595238</desc><desc class=\"x \">315.2066045066045</desc><desc class=\"y \">141.67951980635502</desc><desc class=\"x_label\">46</desc></g><g class=\"dots\"><circle cx=\"321.77614607614606\" cy=\"151.56413239438172\" r=\"2.5\" class=\"dot reactive tooltip-trigger\"/><desc class=\"value\">0.6039325595</desc><desc class=\"x \">321.77614607614606</desc><desc class=\"y \">151.56413239438172</desc><desc class=\"x_label\">47</desc></g><g class=\"dots\"><circle cx=\"328.34568764568763\" cy=\"174.62822843311073\" r=\"2.5\" class=\"dot reactive tooltip-trigger\"/><desc class=\"value\">0.5842696428</desc><desc class=\"x \">328.34568764568763</desc><desc class=\"y \">174.62822843311073</desc><desc class=\"x_label\">48</desc></g><g class=\"dots\"><circle cx=\"334.91522921522915\" cy=\"118.61535385290915\" r=\"2.5\" class=\"dot reactive tooltip-trigger\"/><desc class=\"value\">0.6320225</desc><desc class=\"x \">334.91522921522915</desc><desc class=\"y \">118.61535385290915</desc><desc class=\"x_label\">49</desc></g><g class=\"dots\"><circle cx=\"341.4847707847708\" cy=\"135.08977808100389\" r=\"2.5\" class=\"dot reactive tooltip-trigger\"/><desc class=\"value\">0.6179775</desc><desc class=\"x left\">341.4847707847708</desc><desc class=\"y left\">135.08977808100389</desc><desc class=\"x_label\">50</desc></g><g class=\"dots\"><circle cx=\"348.05431235431234\" cy=\"161.44874498240847\" r=\"2.5\" class=\"dot reactive tooltip-trigger\"/><desc class=\"value\">0.5955055952</desc><desc class=\"x left\">348.05431235431234</desc><desc class=\"y left\">161.44874498240847</desc><desc class=\"x_label\">51</desc></g><g class=\"dots\"><circle cx=\"354.6238539238539\" cy=\"138.38464894367945\" r=\"2.5\" class=\"dot reactive tooltip-trigger\"/><desc class=\"value\">0.6151685119</desc><desc class=\"x left\">354.6238539238539</desc><desc class=\"y left\">138.38464894367945</desc><desc class=\"x_label\">52</desc></g><g class=\"dots\"><circle cx=\"361.1933954933955\" cy=\"154.85900325705728\" r=\"2.5\" class=\"dot reactive tooltip-trigger\"/><desc class=\"value\">0.6011235714</desc><desc class=\"x left\">361.1933954933955</desc><desc class=\"y left\">154.85900325705728</desc><desc class=\"x_label\">53</desc></g><g class=\"dots\"><circle cx=\"367.762937062937\" cy=\"191.10258274648857\" r=\"2.5\" class=\"dot reactive tooltip-trigger\"/><desc class=\"value\">0.5702247024</desc><desc class=\"x left\">367.762937062937</desc><desc class=\"y left\">191.10258274648857</desc><desc class=\"x_label\">54</desc></g><g class=\"dots\"><circle cx=\"374.3324786324786\" cy=\"138.38464894367945\" r=\"2.5\" class=\"dot reactive tooltip-trigger\"/><desc class=\"value\">0.6151685119</desc><desc class=\"x left\">374.3324786324786</desc><desc class=\"y left\">138.38464894367945</desc><desc class=\"x_label\">55</desc></g><g class=\"dots\"><circle cx=\"380.90202020202014\" cy=\"135.08977808100389\" r=\"2.5\" class=\"dot reactive tooltip-trigger\"/><desc class=\"value\">0.6179775</desc><desc class=\"x left\">380.90202020202014</desc><desc class=\"y left\">135.08977808100389</desc><desc class=\"x_label\">56</desc></g><g class=\"dots\"><circle cx=\"387.47156177156177\" cy=\"135.08977808100389\" r=\"2.5\" class=\"dot reactive tooltip-trigger\"/><desc class=\"value\">0.6179775</desc><desc class=\"x left\">387.47156177156177</desc><desc class=\"y left\">135.08977808100389</desc><desc class=\"x_label\">57</desc></g><g class=\"dots\"><circle cx=\"394.04110334110334\" cy=\"158.15387411973285\" r=\"2.5\" class=\"dot reactive tooltip-trigger\"/><desc class=\"value\">0.5983145833</desc><desc class=\"x left\">394.04110334110334</desc><desc class=\"y left\">158.15387411973285</desc><desc class=\"x_label\">58</desc></g><g class=\"dots\"><circle cx=\"400.61064491064485\" cy=\"174.62822843311073\" r=\"2.5\" class=\"dot reactive tooltip-trigger\"/><desc class=\"value\">0.5842696428</desc><desc class=\"x left\">400.61064491064485</desc><desc class=\"y left\">174.62822843311073</desc><desc class=\"x_label\">59</desc></g><g class=\"dots\"><circle cx=\"407.1801864801865\" cy=\"154.85900325705728\" r=\"2.5\" class=\"dot reactive tooltip-trigger\"/><desc class=\"value\">0.6011235714</desc><desc class=\"x left\">407.1801864801865</desc><desc class=\"y left\">154.85900325705728</desc><desc class=\"x_label\">60</desc></g><g class=\"dots\"><circle cx=\"413.749728049728\" cy=\"138.38464894367945\" r=\"2.5\" class=\"dot reactive tooltip-trigger\"/><desc class=\"value\">0.6151685119</desc><desc class=\"x left\">413.749728049728</desc><desc class=\"y left\">138.38464894367945</desc><desc class=\"x_label\">61</desc></g><g class=\"dots\"><circle cx=\"420.3192696192696\" cy=\"118.61535385290915\" r=\"2.5\" class=\"dot reactive tooltip-trigger\"/><desc class=\"value\">0.6320225</desc><desc class=\"x left\">420.3192696192696</desc><desc class=\"y left\">118.61535385290915</desc><desc class=\"x_label\">62</desc></g><g class=\"dots\"><circle cx=\"426.88881118881113\" cy=\"128.50003635565275\" r=\"2.5\" class=\"dot reactive tooltip-trigger\"/><desc class=\"value\">0.6235954762</desc><desc class=\"x left\">426.88881118881113</desc><desc class=\"y left\">128.50003635565275</desc><desc class=\"x_label\">63</desc></g><g class=\"dots\"><circle cx=\"433.45835275835276\" cy=\"177.9230992957863\" r=\"2.5\" class=\"dot reactive tooltip-trigger\"/><desc class=\"value\">0.5814606547</desc><desc class=\"x left\">433.45835275835276</desc><desc class=\"y left\">177.9230992957863</desc><desc class=\"x_label\">64</desc></g><g class=\"dots\"><circle cx=\"440.02789432789433\" cy=\"164.74361584508404\" r=\"2.5\" class=\"dot reactive tooltip-trigger\"/><desc class=\"value\">0.5926966071</desc><desc class=\"x left\">440.02789432789433</desc><desc class=\"y left\">164.74361584508404</desc><desc class=\"x_label\">65</desc></g><g class=\"dots\"><circle cx=\"446.59743589743584\" cy=\"171.33335757043517\" r=\"2.5\" class=\"dot reactive tooltip-trigger\"/><desc class=\"value\">0.5870786309</desc><desc class=\"x left\">446.59743589743584</desc><desc class=\"y left\">171.33335757043517</desc><desc class=\"x_label\">66</desc></g><g class=\"dots\"><circle cx=\"453.16697746697747\" cy=\"148.26926153170615\" r=\"2.5\" class=\"dot reactive tooltip-trigger\"/><desc class=\"value\">0.6067415476</desc><desc class=\"x left\">453.16697746697747</desc><desc class=\"y left\">148.26926153170615</desc><desc class=\"x_label\">67</desc></g><g class=\"dots\"><circle cx=\"459.736519036519\" cy=\"138.38464894367945\" r=\"2.5\" class=\"dot reactive tooltip-trigger\"/><desc class=\"value\">0.6151685119</desc><desc class=\"x left\">459.736519036519</desc><desc class=\"y left\">138.38464894367945</desc><desc class=\"x_label\">68</desc></g><g class=\"dots\"><circle cx=\"466.3060606060606\" cy=\"151.56413239438172\" r=\"2.5\" class=\"dot reactive tooltip-trigger\"/><desc class=\"value\">0.6039325595</desc><desc class=\"x left\">466.3060606060606</desc><desc class=\"y left\">151.56413239438172</desc><desc class=\"x_label\">69</desc></g><g class=\"dots\"><circle cx=\"472.8756021756021\" cy=\"112.02561212755802\" r=\"2.5\" class=\"dot reactive tooltip-trigger\"/><desc class=\"value\">0.6376404762</desc><desc class=\"x left\">472.8756021756021</desc><desc class=\"y left\">112.02561212755802</desc><desc class=\"x_label\">70</desc></g><g class=\"dots\"><circle cx=\"479.4451437451437\" cy=\"171.33335757043517\" r=\"2.5\" class=\"dot reactive tooltip-trigger\"/><desc class=\"value\">0.5870786309</desc><desc class=\"x left\">479.4451437451437</desc><desc class=\"y left\">171.33335757043517</desc><desc class=\"x_label\">71</desc></g><g class=\"dots\"><circle cx=\"486.0146853146853\" cy=\"200.98719533451526\" r=\"2.5\" class=\"dot reactive tooltip-trigger\"/><desc class=\"value\">0.5617977381</desc><desc class=\"x left\">486.0146853146853</desc><desc class=\"y left\">200.98719533451526</desc><desc class=\"x_label\">72</desc></g><g class=\"dots\"><circle cx=\"492.58422688422684\" cy=\"154.85900325705728\" r=\"2.5\" class=\"dot reactive tooltip-trigger\"/><desc class=\"value\">0.6011235714</desc><desc class=\"x left\">492.58422688422684</desc><desc class=\"y left\">154.85900325705728</desc><desc class=\"x_label\">73</desc></g><g class=\"dots\"><circle cx=\"499.1537684537684\" cy=\"131.79490721832832\" r=\"2.5\" class=\"dot reactive tooltip-trigger\"/><desc class=\"value\">0.6207864881</desc><desc class=\"x left\">499.1537684537684</desc><desc class=\"y left\">131.79490721832832</desc><desc class=\"x_label\">74</desc></g><g class=\"dots\"><circle cx=\"505.72331002331\" cy=\"141.67951980635502\" r=\"2.5\" class=\"dot reactive tooltip-trigger\"/><desc class=\"value\">0.6123595238</desc><desc class=\"x left\">505.72331002331</desc><desc class=\"y left\">141.67951980635502</desc><desc class=\"x_label\">75</desc></g><g class=\"dots\"><circle cx=\"512.2928515928515\" cy=\"177.9230992957863\" r=\"2.5\" class=\"dot reactive tooltip-trigger\"/><desc class=\"value\">0.5814606547</desc><desc class=\"x left\">512.2928515928515</desc><desc class=\"y left\">177.9230992957863</desc><desc class=\"x_label\">76</desc></g><g class=\"dots\"><circle cx=\"518.8623931623931\" cy=\"115.32048299023359\" r=\"2.5\" class=\"dot reactive tooltip-trigger\"/><desc class=\"value\">0.6348314881</desc><desc class=\"x left\">518.8623931623931</desc><desc class=\"y left\">115.32048299023359</desc><desc class=\"x_label\">77</desc></g><g class=\"dots\"><circle cx=\"525.4319347319347\" cy=\"161.44874498240847\" r=\"2.5\" class=\"dot reactive tooltip-trigger\"/><desc class=\"value\">0.5955055952</desc><desc class=\"x left\">525.4319347319347</desc><desc class=\"y left\">161.44874498240847</desc><desc class=\"x_label\">78</desc></g><g class=\"dots\"><circle cx=\"532.0014763014763\" cy=\"131.79490721832832\" r=\"2.5\" class=\"dot reactive tooltip-trigger\"/><desc class=\"value\">0.6207864881</desc><desc class=\"x left\">532.0014763014763</desc><desc class=\"y left\">131.79490721832832</desc><desc class=\"x_label\">79</desc></g><g class=\"dots\"><circle cx=\"538.5710178710178\" cy=\"154.85900325705728\" r=\"2.5\" class=\"dot reactive tooltip-trigger\"/><desc class=\"value\">0.6011235714</desc><desc class=\"x left\">538.5710178710178</desc><desc class=\"y left\">154.85900325705728</desc><desc class=\"x_label\">80</desc></g><g class=\"dots\"><circle cx=\"545.1405594405594\" cy=\"144.97439066903058\" r=\"2.5\" class=\"dot reactive tooltip-trigger\"/><desc class=\"value\">0.6095505357</desc><desc class=\"x left\">545.1405594405594</desc><desc class=\"y left\">144.97439066903058</desc><desc class=\"x_label\">81</desc></g><g class=\"dots\"><circle cx=\"551.710101010101\" cy=\"161.44874498240847\" r=\"2.5\" class=\"dot reactive tooltip-trigger\"/><desc class=\"value\">0.5955055952</desc><desc class=\"x left\">551.710101010101</desc><desc class=\"y left\">161.44874498240847</desc><desc class=\"x_label\">82</desc></g><g class=\"dots\"><circle cx=\"558.2796425796425\" cy=\"177.9230992957863\" r=\"2.5\" class=\"dot reactive tooltip-trigger\"/><desc class=\"value\">0.5814606547</desc><desc class=\"x left\">558.2796425796425</desc><desc class=\"y left\">177.9230992957863</desc><desc class=\"x_label\">83</desc></g><g class=\"dots\"><circle cx=\"564.8491841491841\" cy=\"108.73074126488245\" r=\"2.5\" class=\"dot reactive tooltip-trigger\"/><desc class=\"value\">0.6404494643</desc><desc class=\"x left\">564.8491841491841</desc><desc class=\"y left\">108.73074126488245</desc><desc class=\"x_label\">84</desc></g><g class=\"dots\"><circle cx=\"571.4187257187257\" cy=\"128.50003635565275\" r=\"2.5\" class=\"dot reactive tooltip-trigger\"/><desc class=\"value\">0.6235954762</desc><desc class=\"x left\">571.4187257187257</desc><desc class=\"y left\">128.50003635565275</desc><desc class=\"x_label\">85</desc></g><g class=\"dots\"><circle cx=\"577.9882672882673\" cy=\"128.50003635565275\" r=\"2.5\" class=\"dot reactive tooltip-trigger\"/><desc class=\"value\">0.6235954762</desc><desc class=\"x left\">577.9882672882673</desc><desc class=\"y left\">128.50003635565275</desc><desc class=\"x_label\">86</desc></g><g class=\"dots\"><circle cx=\"584.5578088578088\" cy=\"144.97439066903058\" r=\"2.5\" class=\"dot reactive tooltip-trigger\"/><desc class=\"value\">0.6095505357</desc><desc class=\"x left\">584.5578088578088</desc><desc class=\"y left\">144.97439066903058</desc><desc class=\"x_label\">87</desc></g><g class=\"dots\"><circle cx=\"591.1273504273504\" cy=\"138.38464894367945\" r=\"2.5\" class=\"dot reactive tooltip-trigger\"/><desc class=\"value\">0.6151685119</desc><desc class=\"x left\">591.1273504273504</desc><desc class=\"y left\">138.38464894367945</desc><desc class=\"x_label\">88</desc></g><g class=\"dots\"><circle cx=\"597.696891996892\" cy=\"141.67951980635502\" r=\"2.5\" class=\"dot reactive tooltip-trigger\"/><desc class=\"value\">0.6123595238</desc><desc class=\"x left\">597.696891996892</desc><desc class=\"y left\">141.67951980635502</desc><desc class=\"x_label\">89</desc></g><g class=\"dots\"><circle cx=\"604.2664335664335\" cy=\"128.50003635565275\" r=\"2.5\" class=\"dot reactive tooltip-trigger\"/><desc class=\"value\">0.6235954762</desc><desc class=\"x left\">604.2664335664335</desc><desc class=\"y left\">128.50003635565275</desc><desc class=\"x_label\">90</desc></g><g class=\"dots\"><circle cx=\"610.8359751359751\" cy=\"174.62822843311073\" r=\"2.5\" class=\"dot reactive tooltip-trigger\"/><desc class=\"value\">0.5842696428</desc><desc class=\"x left\">610.8359751359751</desc><desc class=\"y left\">174.62822843311073</desc><desc class=\"x_label\">91</desc></g><g class=\"dots\"><circle cx=\"617.4055167055167\" cy=\"125.20509557826028\" r=\"2.5\" class=\"dot reactive tooltip-trigger\"/><desc class=\"value\">0.6264045238</desc><desc class=\"x left\">617.4055167055167</desc><desc class=\"y left\">125.20509557826028</desc><desc class=\"x_label\">92</desc></g><g class=\"dots\"><circle cx=\"623.9750582750582\" cy=\"164.74361584508404\" r=\"2.5\" class=\"dot reactive tooltip-trigger\"/><desc class=\"value\">0.5926966071</desc><desc class=\"x left\">623.9750582750582</desc><desc class=\"y left\">164.74361584508404</desc><desc class=\"x_label\">93</desc></g><g class=\"dots\"><circle cx=\"630.5445998445998\" cy=\"105.43587040220689\" r=\"2.5\" class=\"dot reactive tooltip-trigger\"/><desc class=\"value\">0.6432584524</desc><desc class=\"x left\">630.5445998445998</desc><desc class=\"y left\">105.43587040220689</desc><desc class=\"x_label\">94</desc></g><g class=\"dots\"><circle cx=\"637.1141414141414\" cy=\"144.97439066903058\" r=\"2.5\" class=\"dot reactive tooltip-trigger\"/><desc class=\"value\">0.6095505357</desc><desc class=\"x left\">637.1141414141414</desc><desc class=\"y left\">144.97439066903058</desc><desc class=\"x_label\">95</desc></g><g class=\"dots\"><circle cx=\"643.683682983683\" cy=\"125.20509557826028\" r=\"2.5\" class=\"dot reactive tooltip-trigger\"/><desc class=\"value\">0.6264045238</desc><desc class=\"x left\">643.683682983683</desc><desc class=\"y left\">125.20509557826028</desc><desc class=\"x_label\">96</desc></g><g class=\"dots\"><circle cx=\"650.2532245532245\" cy=\"158.15387411973285\" r=\"2.5\" class=\"dot reactive tooltip-trigger\"/><desc class=\"value\">0.5983145833</desc><desc class=\"x left\">650.2532245532245</desc><desc class=\"y left\">158.15387411973285</desc><desc class=\"x_label\">97</desc></g><g class=\"dots\"><circle cx=\"656.8227661227661\" cy=\"138.38464894367945\" r=\"2.5\" class=\"dot reactive tooltip-trigger\"/><desc class=\"value\">0.6151685119</desc><desc class=\"x left\">656.8227661227661</desc><desc class=\"y left\">138.38464894367945</desc><desc class=\"x_label\">98</desc></g><g class=\"dots\"><circle cx=\"663.3923076923077\" cy=\"128.50003635565275\" r=\"2.5\" class=\"dot reactive tooltip-trigger\"/><desc class=\"value\">0.6235954762</desc><desc class=\"x left\">663.3923076923077</desc><desc class=\"y left\">128.50003635565275</desc><desc class=\"x_label\">99</desc></g></g><g class=\"series serie-1 color-1\"><g class=\"dots\"><circle cx=\"13.007692307692308\" cy=\"369.0256442883278\" r=\"2.5\" class=\"dot reactive tooltip-trigger\"/><desc class=\"value\">0.4185393155</desc><desc class=\"x top\">13.007692307692308</desc><desc class=\"y top\">369.0256442883278</desc><desc class=\"x_label\">0</desc></g><g class=\"dots\"><circle cx=\"19.577233877233876\" cy=\"243.82051654929768\" r=\"2.5\" class=\"dot reactive tooltip-trigger\"/><desc class=\"value\">0.5252808928</desc><desc class=\"x \">19.577233877233876</desc><desc class=\"y \">243.82051654929768</desc><desc class=\"x_label\">1</desc></g><g class=\"dots\"><circle cx=\"26.146775446775447\" cy=\"194.39745360916413\" r=\"2.5\" class=\"dot reactive tooltip-trigger\"/><desc class=\"value\">0.5674157143</desc><desc class=\"x \">26.146775446775447</desc><desc class=\"y \">194.39745360916413</desc><desc class=\"x_label\">2</desc></g><g class=\"dots\"><circle cx=\"32.716317016317014\" cy=\"161.44874498240847\" r=\"2.5\" class=\"dot reactive tooltip-trigger\"/><desc class=\"value\">0.5955055952</desc><desc class=\"x \">32.716317016317014</desc><desc class=\"y \">161.44874498240847</desc><desc class=\"x_label\">3</desc></g><g class=\"dots\"><circle cx=\"39.285858585858584\" cy=\"102.14099953953132\" r=\"2.5\" class=\"dot reactive tooltip-trigger\"/><desc class=\"value\">0.6460674405</desc><desc class=\"x \">39.285858585858584</desc><desc class=\"y \">102.14099953953132</desc><desc class=\"x_label\">4</desc></g><g class=\"dots\"><circle cx=\"45.85540015540015\" cy=\"102.14099953953132\" r=\"2.5\" class=\"dot reactive tooltip-trigger\"/><desc class=\"value\">0.6460674405</desc><desc class=\"x \">45.85540015540015</desc><desc class=\"y \">102.14099953953132</desc><desc class=\"x_label\">5</desc></g><g class=\"dots\"><circle cx=\"52.424941724941725\" cy=\"92.25638695150457\" r=\"2.5\" class=\"dot reactive tooltip-trigger\"/><desc class=\"value\">0.6544944048</desc><desc class=\"x \">52.424941724941725</desc><desc class=\"y \">92.25638695150457</desc><desc class=\"x_label\">6</desc></g><g class=\"dots\"><circle cx=\"58.99448329448329\" cy=\"69.1922909127756\" r=\"2.5\" class=\"dot reactive tooltip-trigger\"/><desc class=\"value\">0.6741573215</desc><desc class=\"x \">58.99448329448329</desc><desc class=\"y \">69.1922909127756</desc><desc class=\"x_label\">7</desc></g><g class=\"dots\"><circle cx=\"65.56402486402486\" cy=\"98.8461286768557\" r=\"2.5\" class=\"dot reactive tooltip-trigger\"/><desc class=\"value\">0.6488764286</desc><desc class=\"x \">65.56402486402486</desc><desc class=\"y \">98.8461286768557</desc><desc class=\"x_label\">8</desc></g><g class=\"dots\"><circle cx=\"72.13356643356643\" cy=\"79.0769035008023\" r=\"2.5\" class=\"dot reactive tooltip-trigger\"/><desc class=\"value\">0.6657303572</desc><desc class=\"x \">72.13356643356643</desc><desc class=\"y \">79.0769035008023</desc><desc class=\"x_label\">9</desc></g><g class=\"dots\"><circle cx=\"78.703108003108\" cy=\"72.48716177545117\" r=\"2.5\" class=\"dot reactive tooltip-trigger\"/><desc class=\"value\">0.6713483334</desc><desc class=\"x \">78.703108003108</desc><desc class=\"y \">72.48716177545117</desc><desc class=\"x_label\">10</desc></g><g class=\"dots\"><circle cx=\"85.27264957264956\" cy=\"69.1922909127756\" r=\"2.5\" class=\"dot reactive tooltip-trigger\"/><desc class=\"value\">0.6741573215</desc><desc class=\"x \">85.27264957264956</desc><desc class=\"y \">69.1922909127756</desc><desc class=\"x_label\">11</desc></g><g class=\"dots\"><circle cx=\"91.84219114219113\" cy=\"32.94871142334432\" r=\"2.5\" class=\"dot reactive tooltip-trigger\"/><desc class=\"value\">0.7050561905</desc><desc class=\"x \">91.84219114219113</desc><desc class=\"y \">32.94871142334432</desc><desc class=\"x_label\">12</desc></g><g class=\"dots\"><circle cx=\"98.41173271173271\" cy=\"49.42306573672215\" r=\"2.5\" class=\"dot reactive tooltip-trigger\"/><desc class=\"value\">0.69101125</desc><desc class=\"x \">98.41173271173271</desc><desc class=\"y \">49.42306573672215</desc><desc class=\"x_label\">13</desc></g><g class=\"dots\"><circle cx=\"104.98127428127427\" cy=\"75.78203263812674\" r=\"2.5\" class=\"dot reactive tooltip-trigger\"/><desc class=\"value\">0.6685393453</desc><desc class=\"x \">104.98127428127427</desc><desc class=\"y \">75.78203263812674</desc><desc class=\"x_label\">14</desc></g><g class=\"dots\"><circle cx=\"111.55081585081584\" cy=\"102.14099953953132\" r=\"2.5\" class=\"dot reactive tooltip-trigger\"/><desc class=\"value\">0.6460674405</desc><desc class=\"x \">111.55081585081584</desc><desc class=\"y \">102.14099953953132</desc><desc class=\"x_label\">15</desc></g><g class=\"dots\"><circle cx=\"118.12035742035741\" cy=\"69.1922909127756\" r=\"2.5\" class=\"dot reactive tooltip-trigger\"/><desc class=\"value\">0.6741573215</desc><desc class=\"x \">118.12035742035741</desc><desc class=\"y \">69.1922909127756</desc><desc class=\"x_label\">16</desc></g><g class=\"dots\"><circle cx=\"124.68989898989896\" cy=\"69.1922909127756\" r=\"2.5\" class=\"dot reactive tooltip-trigger\"/><desc class=\"value\">0.6741573215</desc><desc class=\"x \">124.68989898989896</desc><desc class=\"y \">69.1922909127756</desc><desc class=\"x_label\">17</desc></g><g class=\"dots\"><circle cx=\"131.25944055944055\" cy=\"85.66664522615343\" r=\"2.5\" class=\"dot reactive tooltip-trigger\"/><desc class=\"value\">0.660112381</desc><desc class=\"x \">131.25944055944055</desc><desc class=\"y \">85.66664522615343</desc><desc class=\"x_label\">18</desc></g><g class=\"dots\"><circle cx=\"137.82898212898212\" cy=\"65.89742005010004\" r=\"2.5\" class=\"dot reactive tooltip-trigger\"/><desc class=\"value\">0.6769663095</desc><desc class=\"x \">137.82898212898212</desc><desc class=\"y \">65.89742005010004</desc><desc class=\"x_label\">19</desc></g><g class=\"dots\"><circle cx=\"144.3985236985237\" cy=\"69.1922909127756\" r=\"2.5\" class=\"dot reactive tooltip-trigger\"/><desc class=\"value\">0.6741573215</desc><desc class=\"x \">144.3985236985237</desc><desc class=\"y \">69.1922909127756</desc><desc class=\"x_label\">20</desc></g><g class=\"dots\"><circle cx=\"150.96806526806526\" cy=\"102.14099953953132\" r=\"2.5\" class=\"dot reactive tooltip-trigger\"/><desc class=\"value\">0.6460674405</desc><desc class=\"x \">150.96806526806526</desc><desc class=\"y \">102.14099953953132</desc><desc class=\"x_label\">21</desc></g><g class=\"dots\"><circle cx=\"157.53760683760683\" cy=\"65.89742005010004\" r=\"2.5\" class=\"dot reactive tooltip-trigger\"/><desc class=\"value\">0.6769663095</desc><desc class=\"x \">157.53760683760683</desc><desc class=\"y \">65.89742005010004</desc><desc class=\"x_label\">22</desc></g><g class=\"dots\"><circle cx=\"164.1071484071484\" cy=\"62.60254918742447\" r=\"2.5\" class=\"dot reactive tooltip-trigger\"/><desc class=\"value\">0.6797752976</desc><desc class=\"x \">164.1071484071484</desc><desc class=\"y \">62.60254918742447</desc><desc class=\"x_label\">23</desc></g><g class=\"dots\"><circle cx=\"170.67668997668997\" cy=\"62.60254918742447\" r=\"2.5\" class=\"dot reactive tooltip-trigger\"/><desc class=\"value\">0.6797752976</desc><desc class=\"x \">170.67668997668997</desc><desc class=\"y \">62.60254918742447</desc><desc class=\"x_label\">24</desc></g><g class=\"dots\"><circle cx=\"177.24623154623154\" cy=\"82.37177436347787\" r=\"2.5\" class=\"dot reactive tooltip-trigger\"/><desc class=\"value\">0.6629213691</desc><desc class=\"x \">177.24623154623154</desc><desc class=\"y \">82.37177436347787</desc><desc class=\"x_label\">25</desc></g><g class=\"dots\"><circle cx=\"183.8157731157731\" cy=\"49.42306573672215\" r=\"2.5\" class=\"dot reactive tooltip-trigger\"/><desc class=\"value\">0.69101125</desc><desc class=\"x \">183.8157731157731</desc><desc class=\"y \">49.42306573672215</desc><desc class=\"x_label\">26</desc></g><g class=\"dots\"><circle cx=\"190.38531468531465\" cy=\"59.307678324748906\" r=\"2.5\" class=\"dot reactive tooltip-trigger\"/><desc class=\"value\">0.6825842857</desc><desc class=\"x \">190.38531468531465</desc><desc class=\"y \">59.307678324748906</desc><desc class=\"x_label\">27</desc></g><g class=\"dots\"><circle cx=\"196.95485625485622\" cy=\"85.66664522615343\" r=\"2.5\" class=\"dot reactive tooltip-trigger\"/><desc class=\"value\">0.660112381</desc><desc class=\"x \">196.95485625485622</desc><desc class=\"y \">85.66664522615343</desc><desc class=\"x_label\">28</desc></g><g class=\"dots\"><circle cx=\"203.52439782439782\" cy=\"72.48716177545117\" r=\"2.5\" class=\"dot reactive tooltip-trigger\"/><desc class=\"value\">0.6713483334</desc><desc class=\"x \">203.52439782439782</desc><desc class=\"y \">72.48716177545117</desc><desc class=\"x_label\">29</desc></g><g class=\"dots\"><circle cx=\"210.0939393939394\" cy=\"46.128194874046585\" r=\"2.5\" class=\"dot reactive tooltip-trigger\"/><desc class=\"value\">0.6938202381</desc><desc class=\"x \">210.0939393939394</desc><desc class=\"y \">46.128194874046585</desc><desc class=\"x_label\">30</desc></g><g class=\"dots\"><circle cx=\"216.66348096348096\" cy=\"65.89742005010004\" r=\"2.5\" class=\"dot reactive tooltip-trigger\"/><desc class=\"value\">0.6769663095</desc><desc class=\"x \">216.66348096348096</desc><desc class=\"y \">65.89742005010004</desc><desc class=\"x_label\">31</desc></g><g class=\"dots\"><circle cx=\"223.23302253302253\" cy=\"46.128194874046585\" r=\"2.5\" class=\"dot reactive tooltip-trigger\"/><desc class=\"value\">0.6938202381</desc><desc class=\"x \">223.23302253302253</desc><desc class=\"y \">46.128194874046585</desc><desc class=\"x_label\">32</desc></g><g class=\"dots\"><circle cx=\"229.80256410256408\" cy=\"75.78203263812674\" r=\"2.5\" class=\"dot reactive tooltip-trigger\"/><desc class=\"value\">0.6685393453</desc><desc class=\"x \">229.80256410256408</desc><desc class=\"y \">75.78203263812674</desc><desc class=\"x_label\">33</desc></g><g class=\"dots\"><circle cx=\"236.37210567210565\" cy=\"39.53845314869545\" r=\"2.5\" class=\"dot reactive tooltip-trigger\"/><desc class=\"value\">0.6994382143</desc><desc class=\"x \">236.37210567210565</desc><desc class=\"y \">39.53845314869545</desc><desc class=\"x_label\">34</desc></g><g class=\"dots\"><circle cx=\"242.94164724164722\" cy=\"59.307678324748906\" r=\"2.5\" class=\"dot reactive tooltip-trigger\"/><desc class=\"value\">0.6825842857</desc><desc class=\"x \">242.94164724164722</desc><desc class=\"y \">59.307678324748906</desc><desc class=\"x_label\">35</desc></g><g class=\"dots\"><circle cx=\"249.5111888111888\" cy=\"52.71793659939772\" r=\"2.5\" class=\"dot reactive tooltip-trigger\"/><desc class=\"value\">0.6882022619</desc><desc class=\"x \">249.5111888111888</desc><desc class=\"y \">52.71793659939772</desc><desc class=\"x_label\">36</desc></g><g class=\"dots\"><circle cx=\"256.08073038073036\" cy=\"65.89742005010004\" r=\"2.5\" class=\"dot reactive tooltip-trigger\"/><desc class=\"value\">0.6769663095</desc><desc class=\"x \">256.08073038073036</desc><desc class=\"y \">65.89742005010004</desc><desc class=\"x_label\">37</desc></g><g class=\"dots\"><circle cx=\"262.65027195027193\" cy=\"42.83332401137102\" r=\"2.5\" class=\"dot reactive tooltip-trigger\"/><desc class=\"value\">0.6966292262</desc><desc class=\"x \">262.65027195027193</desc><desc class=\"y \">42.83332401137102</desc><desc class=\"x_label\">38</desc></g><g class=\"dots\"><circle cx=\"269.2198135198135\" cy=\"62.60254918742447\" r=\"2.5\" class=\"dot reactive tooltip-trigger\"/><desc class=\"value\">0.6797752976</desc><desc class=\"x \">269.2198135198135</desc><desc class=\"y \">62.60254918742447</desc><desc class=\"x_label\">39</desc></g><g class=\"dots\"><circle cx=\"275.78935508935507\" cy=\"69.1922909127756\" r=\"2.5\" class=\"dot reactive tooltip-trigger\"/><desc class=\"value\">0.6741573215</desc><desc class=\"x \">275.78935508935507</desc><desc class=\"y \">69.1922909127756</desc><desc class=\"x_label\">40</desc></g><g class=\"dots\"><circle cx=\"282.35889665889664\" cy=\"79.0769035008023\" r=\"2.5\" class=\"dot reactive tooltip-trigger\"/><desc class=\"value\">0.6657303572</desc><desc class=\"x \">282.35889665889664</desc><desc class=\"y \">79.0769035008023</desc><desc class=\"x_label\">41</desc></g><g class=\"dots\"><circle cx=\"288.9284382284382\" cy=\"85.66664522615343\" r=\"2.5\" class=\"dot reactive tooltip-trigger\"/><desc class=\"value\">0.660112381</desc><desc class=\"x \">288.9284382284382</desc><desc class=\"y \">85.66664522615343</desc><desc class=\"x_label\">42</desc></g><g class=\"dots\"><circle cx=\"295.4979797979798\" cy=\"52.71793659939772\" r=\"2.5\" class=\"dot reactive tooltip-trigger\"/><desc class=\"value\">0.6882022619</desc><desc class=\"x \">295.4979797979798</desc><desc class=\"y \">52.71793659939772</desc><desc class=\"x_label\">43</desc></g><g class=\"dots\"><circle cx=\"302.06752136752135\" cy=\"79.0769035008023\" r=\"2.5\" class=\"dot reactive tooltip-trigger\"/><desc class=\"value\">0.6657303572</desc><desc class=\"x \">302.06752136752135</desc><desc class=\"y \">79.0769035008023</desc><desc class=\"x_label\">44</desc></g><g class=\"dots\"><circle cx=\"308.6370629370629\" cy=\"65.89742005010004\" r=\"2.5\" class=\"dot reactive tooltip-trigger\"/><desc class=\"value\">0.6769663095</desc><desc class=\"x \">308.6370629370629</desc><desc class=\"y \">65.89742005010004</desc><desc class=\"x_label\">45</desc></g><g class=\"dots\"><circle cx=\"315.2066045066045\" cy=\"69.1922909127756\" r=\"2.5\" class=\"dot reactive tooltip-trigger\"/><desc class=\"value\">0.6741573215</desc><desc class=\"x \">315.2066045066045</desc><desc class=\"y \">69.1922909127756</desc><desc class=\"x_label\">46</desc></g><g class=\"dots\"><circle cx=\"321.77614607614606\" cy=\"42.83332401137102\" r=\"2.5\" class=\"dot reactive tooltip-trigger\"/><desc class=\"value\">0.6966292262</desc><desc class=\"x \">321.77614607614606</desc><desc class=\"y \">42.83332401137102</desc><desc class=\"x_label\">47</desc></g><g class=\"dots\"><circle cx=\"328.34568764568763\" cy=\"32.94871142334432\" r=\"2.5\" class=\"dot reactive tooltip-trigger\"/><desc class=\"value\">0.7050561905</desc><desc class=\"x \">328.34568764568763</desc><desc class=\"y \">32.94871142334432</desc><desc class=\"x_label\">48</desc></g><g class=\"dots\"><circle cx=\"334.91522921522915\" cy=\"72.48716177545117\" r=\"2.5\" class=\"dot reactive tooltip-trigger\"/><desc class=\"value\">0.6713483334</desc><desc class=\"x \">334.91522921522915</desc><desc class=\"y \">72.48716177545117</desc><desc class=\"x_label\">49</desc></g><g class=\"dots\"><circle cx=\"341.4847707847708\" cy=\"39.53845314869545\" r=\"2.5\" class=\"dot reactive tooltip-trigger\"/><desc class=\"value\">0.6994382143</desc><desc class=\"x left\">341.4847707847708</desc><desc class=\"y left\">39.53845314869545</desc><desc class=\"x_label\">50</desc></g><g class=\"dots\"><circle cx=\"348.05431235431234\" cy=\"36.24358228601989\" r=\"2.5\" class=\"dot reactive tooltip-trigger\"/><desc class=\"value\">0.7022472024</desc><desc class=\"x left\">348.05431235431234</desc><desc class=\"y left\">36.24358228601989</desc><desc class=\"x_label\">51</desc></g><g class=\"dots\"><circle cx=\"354.6238539238539\" cy=\"62.60254918742447\" r=\"2.5\" class=\"dot reactive tooltip-trigger\"/><desc class=\"value\">0.6797752976</desc><desc class=\"x left\">354.6238539238539</desc><desc class=\"y left\">62.60254918742447</desc><desc class=\"x_label\">52</desc></g><g class=\"dots\"><circle cx=\"361.1933954933955\" cy=\"59.307678324748906\" r=\"2.5\" class=\"dot reactive tooltip-trigger\"/><desc class=\"value\">0.6825842857</desc><desc class=\"x left\">361.1933954933955</desc><desc class=\"y left\">59.307678324748906</desc><desc class=\"x_label\">53</desc></g><g class=\"dots\"><circle cx=\"367.762937062937\" cy=\"46.128194874046585\" r=\"2.5\" class=\"dot reactive tooltip-trigger\"/><desc class=\"value\">0.6938202381</desc><desc class=\"x left\">367.762937062937</desc><desc class=\"y left\">46.128194874046585</desc><desc class=\"x_label\">54</desc></g><g class=\"dots\"><circle cx=\"374.3324786324786\" cy=\"56.01280746207334\" r=\"2.5\" class=\"dot reactive tooltip-trigger\"/><desc class=\"value\">0.6853932738</desc><desc class=\"x left\">374.3324786324786</desc><desc class=\"y left\">56.01280746207334</desc><desc class=\"x_label\">55</desc></g><g class=\"dots\"><circle cx=\"380.90202020202014\" cy=\"56.01280746207334\" r=\"2.5\" class=\"dot reactive tooltip-trigger\"/><desc class=\"value\">0.6853932738</desc><desc class=\"x left\">380.90202020202014</desc><desc class=\"y left\">56.01280746207334</desc><desc class=\"x_label\">56</desc></g><g class=\"dots\"><circle cx=\"387.47156177156177\" cy=\"52.71793659939772\" r=\"2.5\" class=\"dot reactive tooltip-trigger\"/><desc class=\"value\">0.6882022619</desc><desc class=\"x left\">387.47156177156177</desc><desc class=\"y left\">52.71793659939772</desc><desc class=\"x_label\">57</desc></g><g class=\"dots\"><circle cx=\"394.04110334110334\" cy=\"46.128194874046585\" r=\"2.5\" class=\"dot reactive tooltip-trigger\"/><desc class=\"value\">0.6938202381</desc><desc class=\"x left\">394.04110334110334</desc><desc class=\"y left\">46.128194874046585</desc><desc class=\"x_label\">58</desc></g><g class=\"dots\"><circle cx=\"400.61064491064485\" cy=\"42.83332401137102\" r=\"2.5\" class=\"dot reactive tooltip-trigger\"/><desc class=\"value\">0.6966292262</desc><desc class=\"x left\">400.61064491064485</desc><desc class=\"y left\">42.83332401137102</desc><desc class=\"x_label\">59</desc></g><g class=\"dots\"><circle cx=\"407.1801864801865\" cy=\"56.01280746207334\" r=\"2.5\" class=\"dot reactive tooltip-trigger\"/><desc class=\"value\">0.6853932738</desc><desc class=\"x left\">407.1801864801865</desc><desc class=\"y left\">56.01280746207334</desc><desc class=\"x_label\">60</desc></g><g class=\"dots\"><circle cx=\"413.749728049728\" cy=\"56.01280746207334\" r=\"2.5\" class=\"dot reactive tooltip-trigger\"/><desc class=\"value\">0.6853932738</desc><desc class=\"x left\">413.749728049728</desc><desc class=\"y left\">56.01280746207334</desc><desc class=\"x_label\">61</desc></g><g class=\"dots\"><circle cx=\"420.3192696192696\" cy=\"52.71793659939772\" r=\"2.5\" class=\"dot reactive tooltip-trigger\"/><desc class=\"value\">0.6882022619</desc><desc class=\"x left\">420.3192696192696</desc><desc class=\"y left\">52.71793659939772</desc><desc class=\"x_label\">62</desc></g><g class=\"dots\"><circle cx=\"426.88881118881113\" cy=\"36.24358228601989\" r=\"2.5\" class=\"dot reactive tooltip-trigger\"/><desc class=\"value\">0.7022472024</desc><desc class=\"x left\">426.88881118881113</desc><desc class=\"y left\">36.24358228601989</desc><desc class=\"x_label\">63</desc></g><g class=\"dots\"><circle cx=\"433.45835275835276\" cy=\"39.53845314869545\" r=\"2.5\" class=\"dot reactive tooltip-trigger\"/><desc class=\"value\">0.6994382143</desc><desc class=\"x left\">433.45835275835276</desc><desc class=\"y left\">39.53845314869545</desc><desc class=\"x_label\">64</desc></g><g class=\"dots\"><circle cx=\"440.02789432789433\" cy=\"42.83332401137102\" r=\"2.5\" class=\"dot reactive tooltip-trigger\"/><desc class=\"value\">0.6966292262</desc><desc class=\"x left\">440.02789432789433</desc><desc class=\"y left\">42.83332401137102</desc><desc class=\"x_label\">65</desc></g><g class=\"dots\"><circle cx=\"446.59743589743584\" cy=\"49.42306573672215\" r=\"2.5\" class=\"dot reactive tooltip-trigger\"/><desc class=\"value\">0.69101125</desc><desc class=\"x left\">446.59743589743584</desc><desc class=\"y left\">49.42306573672215</desc><desc class=\"x_label\">66</desc></g><g class=\"dots\"><circle cx=\"453.16697746697747\" cy=\"32.94871142334432\" r=\"2.5\" class=\"dot reactive tooltip-trigger\"/><desc class=\"value\">0.7050561905</desc><desc class=\"x left\">453.16697746697747</desc><desc class=\"y left\">32.94871142334432</desc><desc class=\"x_label\">67</desc></g><g class=\"dots\"><circle cx=\"459.736519036519\" cy=\"42.83332401137102\" r=\"2.5\" class=\"dot reactive tooltip-trigger\"/><desc class=\"value\">0.6966292262</desc><desc class=\"x left\">459.736519036519</desc><desc class=\"y left\">42.83332401137102</desc><desc class=\"x_label\">68</desc></g><g class=\"dots\"><circle cx=\"466.3060606060606\" cy=\"62.60254918742447\" r=\"2.5\" class=\"dot reactive tooltip-trigger\"/><desc class=\"value\">0.6797752976</desc><desc class=\"x left\">466.3060606060606</desc><desc class=\"y left\">62.60254918742447</desc><desc class=\"x_label\">69</desc></g><g class=\"dots\"><circle cx=\"472.8756021756021\" cy=\"46.128194874046585\" r=\"2.5\" class=\"dot reactive tooltip-trigger\"/><desc class=\"value\">0.6938202381</desc><desc class=\"x left\">472.8756021756021</desc><desc class=\"y left\">46.128194874046585</desc><desc class=\"x_label\">70</desc></g><g class=\"dots\"><circle cx=\"479.4451437451437\" cy=\"72.48716177545117\" r=\"2.5\" class=\"dot reactive tooltip-trigger\"/><desc class=\"value\">0.6713483334</desc><desc class=\"x left\">479.4451437451437</desc><desc class=\"y left\">72.48716177545117</desc><desc class=\"x_label\">71</desc></g><g class=\"dots\"><circle cx=\"486.0146853146853\" cy=\"46.128194874046585\" r=\"2.5\" class=\"dot reactive tooltip-trigger\"/><desc class=\"value\">0.6938202381</desc><desc class=\"x left\">486.0146853146853</desc><desc class=\"y left\">46.128194874046585</desc><desc class=\"x_label\">72</desc></g><g class=\"dots\"><circle cx=\"492.58422688422684\" cy=\"46.128194874046585\" r=\"2.5\" class=\"dot reactive tooltip-trigger\"/><desc class=\"value\">0.6938202381</desc><desc class=\"x left\">492.58422688422684</desc><desc class=\"y left\">46.128194874046585</desc><desc class=\"x_label\">73</desc></g><g class=\"dots\"><circle cx=\"499.1537684537684\" cy=\"56.01280746207334\" r=\"2.5\" class=\"dot reactive tooltip-trigger\"/><desc class=\"value\">0.6853932738</desc><desc class=\"x left\">499.1537684537684</desc><desc class=\"y left\">56.01280746207334</desc><desc class=\"x_label\">74</desc></g><g class=\"dots\"><circle cx=\"505.72331002331\" cy=\"52.71793659939772\" r=\"2.5\" class=\"dot reactive tooltip-trigger\"/><desc class=\"value\">0.6882022619</desc><desc class=\"x left\">505.72331002331</desc><desc class=\"y left\">52.71793659939772</desc><desc class=\"x_label\">75</desc></g><g class=\"dots\"><circle cx=\"512.2928515928515\" cy=\"75.78203263812674\" r=\"2.5\" class=\"dot reactive tooltip-trigger\"/><desc class=\"value\">0.6685393453</desc><desc class=\"x left\">512.2928515928515</desc><desc class=\"y left\">75.78203263812674</desc><desc class=\"x_label\">76</desc></g><g class=\"dots\"><circle cx=\"518.8623931623931\" cy=\"69.1922909127756\" r=\"2.5\" class=\"dot reactive tooltip-trigger\"/><desc class=\"value\">0.6741573215</desc><desc class=\"x left\">518.8623931623931</desc><desc class=\"y left\">69.1922909127756</desc><desc class=\"x_label\">77</desc></g><g class=\"dots\"><circle cx=\"525.4319347319347\" cy=\"79.0769035008023\" r=\"2.5\" class=\"dot reactive tooltip-trigger\"/><desc class=\"value\">0.6657303572</desc><desc class=\"x left\">525.4319347319347</desc><desc class=\"y left\">79.0769035008023</desc><desc class=\"x_label\">78</desc></g><g class=\"dots\"><circle cx=\"532.0014763014763\" cy=\"52.71793659939772\" r=\"2.5\" class=\"dot reactive tooltip-trigger\"/><desc class=\"value\">0.6882022619</desc><desc class=\"x left\">532.0014763014763</desc><desc class=\"y left\">52.71793659939772</desc><desc class=\"x_label\">79</desc></g><g class=\"dots\"><circle cx=\"538.5710178710178\" cy=\"49.42306573672215\" r=\"2.5\" class=\"dot reactive tooltip-trigger\"/><desc class=\"value\">0.69101125</desc><desc class=\"x left\">538.5710178710178</desc><desc class=\"y left\">49.42306573672215</desc><desc class=\"x_label\">80</desc></g><g class=\"dots\"><circle cx=\"545.1405594405594\" cy=\"69.1922909127756\" r=\"2.5\" class=\"dot reactive tooltip-trigger\"/><desc class=\"value\">0.6741573215</desc><desc class=\"x left\">545.1405594405594</desc><desc class=\"y left\">69.1922909127756</desc><desc class=\"x_label\">81</desc></g><g class=\"dots\"><circle cx=\"551.710101010101\" cy=\"46.128194874046585\" r=\"2.5\" class=\"dot reactive tooltip-trigger\"/><desc class=\"value\">0.6938202381</desc><desc class=\"x left\">551.710101010101</desc><desc class=\"y left\">46.128194874046585</desc><desc class=\"x_label\">82</desc></g><g class=\"dots\"><circle cx=\"558.2796425796425\" cy=\"62.60254918742447\" r=\"2.5\" class=\"dot reactive tooltip-trigger\"/><desc class=\"value\">0.6797752976</desc><desc class=\"x left\">558.2796425796425</desc><desc class=\"y left\">62.60254918742447</desc><desc class=\"x_label\">83</desc></g><g class=\"dots\"><circle cx=\"564.8491841491841\" cy=\"59.307678324748906\" r=\"2.5\" class=\"dot reactive tooltip-trigger\"/><desc class=\"value\">0.6825842857</desc><desc class=\"x left\">564.8491841491841</desc><desc class=\"y left\">59.307678324748906</desc><desc class=\"x_label\">84</desc></g><g class=\"dots\"><circle cx=\"571.4187257187257\" cy=\"69.1922909127756\" r=\"2.5\" class=\"dot reactive tooltip-trigger\"/><desc class=\"value\">0.6741573215</desc><desc class=\"x left\">571.4187257187257</desc><desc class=\"y left\">69.1922909127756</desc><desc class=\"x_label\">85</desc></g><g class=\"dots\"><circle cx=\"577.9882672882673\" cy=\"88.961516088829\" r=\"2.5\" class=\"dot reactive tooltip-trigger\"/><desc class=\"value\">0.6573033929</desc><desc class=\"x left\">577.9882672882673</desc><desc class=\"y left\">88.961516088829</desc><desc class=\"x_label\">86</desc></g><g class=\"dots\"><circle cx=\"584.5578088578088\" cy=\"42.83332401137102\" r=\"2.5\" class=\"dot reactive tooltip-trigger\"/><desc class=\"value\">0.6966292262</desc><desc class=\"x left\">584.5578088578088</desc><desc class=\"y left\">42.83332401137102</desc><desc class=\"x_label\">87</desc></g><g class=\"dots\"><circle cx=\"591.1273504273504\" cy=\"65.89742005010004\" r=\"2.5\" class=\"dot reactive tooltip-trigger\"/><desc class=\"value\">0.6769663095</desc><desc class=\"x left\">591.1273504273504</desc><desc class=\"y left\">65.89742005010004</desc><desc class=\"x_label\">88</desc></g><g class=\"dots\"><circle cx=\"597.696891996892\" cy=\"39.53845314869545\" r=\"2.5\" class=\"dot reactive tooltip-trigger\"/><desc class=\"value\">0.6994382143</desc><desc class=\"x left\">597.696891996892</desc><desc class=\"y left\">39.53845314869545</desc><desc class=\"x_label\">89</desc></g><g class=\"dots\"><circle cx=\"604.2664335664335\" cy=\"52.71793659939772\" r=\"2.5\" class=\"dot reactive tooltip-trigger\"/><desc class=\"value\">0.6882022619</desc><desc class=\"x left\">604.2664335664335</desc><desc class=\"y left\">52.71793659939772</desc><desc class=\"x_label\">90</desc></g><g class=\"dots\"><circle cx=\"610.8359751359751\" cy=\"72.48716177545117\" r=\"2.5\" class=\"dot reactive tooltip-trigger\"/><desc class=\"value\">0.6713483334</desc><desc class=\"x left\">610.8359751359751</desc><desc class=\"y left\">72.48716177545117</desc><desc class=\"x_label\">91</desc></g><g class=\"dots\"><circle cx=\"617.4055167055167\" cy=\"49.42306573672215\" r=\"2.5\" class=\"dot reactive tooltip-trigger\"/><desc class=\"value\">0.69101125</desc><desc class=\"x left\">617.4055167055167</desc><desc class=\"y left\">49.42306573672215</desc><desc class=\"x_label\">92</desc></g><g class=\"dots\"><circle cx=\"623.9750582750582\" cy=\"56.01280746207334\" r=\"2.5\" class=\"dot reactive tooltip-trigger\"/><desc class=\"value\">0.6853932738</desc><desc class=\"x left\">623.9750582750582</desc><desc class=\"y left\">56.01280746207334</desc><desc class=\"x_label\">93</desc></g><g class=\"dots\"><circle cx=\"630.5445998445998\" cy=\"46.128194874046585\" r=\"2.5\" class=\"dot reactive tooltip-trigger\"/><desc class=\"value\">0.6938202381</desc><desc class=\"x left\">630.5445998445998</desc><desc class=\"y left\">46.128194874046585</desc><desc class=\"x_label\">94</desc></g><g class=\"dots\"><circle cx=\"637.1141414141414\" cy=\"52.71793659939772\" r=\"2.5\" class=\"dot reactive tooltip-trigger\"/><desc class=\"value\">0.6882022619</desc><desc class=\"x left\">637.1141414141414</desc><desc class=\"y left\">52.71793659939772</desc><desc class=\"x_label\">95</desc></g><g class=\"dots\"><circle cx=\"643.683682983683\" cy=\"52.71793659939772\" r=\"2.5\" class=\"dot reactive tooltip-trigger\"/><desc class=\"value\">0.6882022619</desc><desc class=\"x left\">643.683682983683</desc><desc class=\"y left\">52.71793659939772</desc><desc class=\"x_label\">96</desc></g><g class=\"dots\"><circle cx=\"650.2532245532245\" cy=\"65.89742005010004\" r=\"2.5\" class=\"dot reactive tooltip-trigger\"/><desc class=\"value\">0.6769663095</desc><desc class=\"x left\">650.2532245532245</desc><desc class=\"y left\">65.89742005010004</desc><desc class=\"x_label\">97</desc></g><g class=\"dots\"><circle cx=\"656.8227661227661\" cy=\"49.42306573672215\" r=\"2.5\" class=\"dot reactive tooltip-trigger\"/><desc class=\"value\">0.69101125</desc><desc class=\"x left\">656.8227661227661</desc><desc class=\"y left\">49.42306573672215</desc><desc class=\"x_label\">98</desc></g><g class=\"dots\"><circle cx=\"663.3923076923077\" cy=\"56.01280746207334\" r=\"2.5\" class=\"dot reactive tooltip-trigger\"/><desc class=\"value\">0.6853932738</desc><desc class=\"x left\">663.3923076923077</desc><desc class=\"y left\">56.01280746207334</desc><desc class=\"x_label\">99</desc></g></g><g class=\"series serie-2 color-2\"><g class=\"dots\"><circle cx=\"13.007692307692308\" cy=\"411.8589655031102\" r=\"2.5\" class=\"dot reactive tooltip-trigger\"/><desc class=\"value\">0.3820224702</desc><desc class=\"x top\">13.007692307692308</desc><desc class=\"y top\">411.8589655031102</desc><desc class=\"x_label\">0</desc></g><g class=\"dots\"><circle cx=\"19.577233877233876\" cy=\"227.34616223591985\" r=\"2.5\" class=\"dot reactive tooltip-trigger\"/><desc class=\"value\">0.5393258333</desc><desc class=\"x \">19.577233877233876</desc><desc class=\"y \">227.34616223591985</desc><desc class=\"x_label\">1</desc></g><g class=\"dots\"><circle cx=\"26.146775446775447\" cy=\"174.62822843311073\" r=\"2.5\" class=\"dot reactive tooltip-trigger\"/><desc class=\"value\">0.5842696428</desc><desc class=\"x \">26.146775446775447</desc><desc class=\"y \">174.62822843311073</desc><desc class=\"x_label\">2</desc></g><g class=\"dots\"><circle cx=\"32.716317016317014\" cy=\"131.79490721832832\" r=\"2.5\" class=\"dot reactive tooltip-trigger\"/><desc class=\"value\">0.6207864881</desc><desc class=\"x \">32.716317016317014</desc><desc class=\"y \">131.79490721832832</desc><desc class=\"x_label\">3</desc></g><g class=\"dots\"><circle cx=\"39.285858585858584\" cy=\"108.73074126488245\" r=\"2.5\" class=\"dot reactive tooltip-trigger\"/><desc class=\"value\">0.6404494643</desc><desc class=\"x \">39.285858585858584</desc><desc class=\"y \">108.73074126488245</desc><desc class=\"x_label\">4</desc></g><g class=\"dots\"><circle cx=\"45.85540015540015\" cy=\"72.48716177545117\" r=\"2.5\" class=\"dot reactive tooltip-trigger\"/><desc class=\"value\">0.6713483334</desc><desc class=\"x \">45.85540015540015</desc><desc class=\"y \">72.48716177545117</desc><desc class=\"x_label\">5</desc></g><g class=\"dots\"><circle cx=\"52.424941724941725\" cy=\"72.48716177545117\" r=\"2.5\" class=\"dot reactive tooltip-trigger\"/><desc class=\"value\">0.6713483334</desc><desc class=\"x \">52.424941724941725</desc><desc class=\"y \">72.48716177545117</desc><desc class=\"x_label\">6</desc></g><g class=\"dots\"><circle cx=\"58.99448329448329\" cy=\"49.42306573672215\" r=\"2.5\" class=\"dot reactive tooltip-trigger\"/><desc class=\"value\">0.69101125</desc><desc class=\"x \">58.99448329448329</desc><desc class=\"y \">49.42306573672215</desc><desc class=\"x_label\">7</desc></g><g class=\"dots\"><circle cx=\"65.56402486402486\" cy=\"62.60254918742447\" r=\"2.5\" class=\"dot reactive tooltip-trigger\"/><desc class=\"value\">0.6797752976</desc><desc class=\"x \">65.56402486402486</desc><desc class=\"y \">62.60254918742447</desc><desc class=\"x_label\">8</desc></g><g class=\"dots\"><circle cx=\"72.13356643356643\" cy=\"59.307678324748906\" r=\"2.5\" class=\"dot reactive tooltip-trigger\"/><desc class=\"value\">0.6825842857</desc><desc class=\"x \">72.13356643356643</desc><desc class=\"y \">59.307678324748906</desc><desc class=\"x_label\">9</desc></g><g class=\"dots\"><circle cx=\"78.703108003108\" cy=\"49.42306573672215\" r=\"2.5\" class=\"dot reactive tooltip-trigger\"/><desc class=\"value\">0.69101125</desc><desc class=\"x \">78.703108003108</desc><desc class=\"y \">49.42306573672215</desc><desc class=\"x_label\">10</desc></g><g class=\"dots\"><circle cx=\"85.27264957264956\" cy=\"92.25638695150457\" r=\"2.5\" class=\"dot reactive tooltip-trigger\"/><desc class=\"value\">0.6544944048</desc><desc class=\"x \">85.27264957264956</desc><desc class=\"y \">92.25638695150457</desc><desc class=\"x_label\">11</desc></g><g class=\"dots\"><circle cx=\"91.84219114219113\" cy=\"42.83332401137102\" r=\"2.5\" class=\"dot reactive tooltip-trigger\"/><desc class=\"value\">0.6966292262</desc><desc class=\"x \">91.84219114219113</desc><desc class=\"y \">42.83332401137102</desc><desc class=\"x_label\">12</desc></g><g class=\"dots\"><circle cx=\"98.41173271173271\" cy=\"49.42306573672215\" r=\"2.5\" class=\"dot reactive tooltip-trigger\"/><desc class=\"value\">0.69101125</desc><desc class=\"x \">98.41173271173271</desc><desc class=\"y \">49.42306573672215</desc><desc class=\"x_label\">13</desc></g><g class=\"dots\"><circle cx=\"104.98127428127427\" cy=\"95.55125781418013\" r=\"2.5\" class=\"dot reactive tooltip-trigger\"/><desc class=\"value\">0.6516854167</desc><desc class=\"x \">104.98127428127427</desc><desc class=\"y \">95.55125781418013</desc><desc class=\"x_label\">14</desc></g><g class=\"dots\"><circle cx=\"111.55081585081584\" cy=\"42.83332401137102\" r=\"2.5\" class=\"dot reactive tooltip-trigger\"/><desc class=\"value\">0.6966292262</desc><desc class=\"x \">111.55081585081584</desc><desc class=\"y \">42.83332401137102</desc><desc class=\"x_label\">15</desc></g><g class=\"dots\"><circle cx=\"118.12035742035741\" cy=\"52.71793659939772\" r=\"2.5\" class=\"dot reactive tooltip-trigger\"/><desc class=\"value\">0.6882022619</desc><desc class=\"x \">118.12035742035741</desc><desc class=\"y \">52.71793659939772</desc><desc class=\"x_label\">16</desc></g><g class=\"dots\"><circle cx=\"124.68989898989896\" cy=\"62.60254918742447\" r=\"2.5\" class=\"dot reactive tooltip-trigger\"/><desc class=\"value\">0.6797752976</desc><desc class=\"x \">124.68989898989896</desc><desc class=\"y \">62.60254918742447</desc><desc class=\"x_label\">17</desc></g><g class=\"dots\"><circle cx=\"131.25944055944055\" cy=\"65.89742005010004\" r=\"2.5\" class=\"dot reactive tooltip-trigger\"/><desc class=\"value\">0.6769663095</desc><desc class=\"x \">131.25944055944055</desc><desc class=\"y \">65.89742005010004</desc><desc class=\"x_label\">18</desc></g><g class=\"dots\"><circle cx=\"137.82898212898212\" cy=\"62.60254918742447\" r=\"2.5\" class=\"dot reactive tooltip-trigger\"/><desc class=\"value\">0.6797752976</desc><desc class=\"x \">137.82898212898212</desc><desc class=\"y \">62.60254918742447</desc><desc class=\"x_label\">19</desc></g><g class=\"dots\"><circle cx=\"144.3985236985237\" cy=\"49.42306573672215\" r=\"2.5\" class=\"dot reactive tooltip-trigger\"/><desc class=\"value\">0.69101125</desc><desc class=\"x \">144.3985236985237</desc><desc class=\"y \">49.42306573672215</desc><desc class=\"x_label\">20</desc></g><g class=\"dots\"><circle cx=\"150.96806526806526\" cy=\"52.71793659939772\" r=\"2.5\" class=\"dot reactive tooltip-trigger\"/><desc class=\"value\">0.6882022619</desc><desc class=\"x \">150.96806526806526</desc><desc class=\"y \">52.71793659939772</desc><desc class=\"x_label\">21</desc></g><g class=\"dots\"><circle cx=\"157.53760683760683\" cy=\"72.48716177545117\" r=\"2.5\" class=\"dot reactive tooltip-trigger\"/><desc class=\"value\">0.6713483334</desc><desc class=\"x \">157.53760683760683</desc><desc class=\"y \">72.48716177545117</desc><desc class=\"x_label\">22</desc></g><g class=\"dots\"><circle cx=\"164.1071484071484\" cy=\"52.71793659939772\" r=\"2.5\" class=\"dot reactive tooltip-trigger\"/><desc class=\"value\">0.6882022619</desc><desc class=\"x \">164.1071484071484</desc><desc class=\"y \">52.71793659939772</desc><desc class=\"x_label\">23</desc></g><g class=\"dots\"><circle cx=\"170.67668997668997\" cy=\"52.71793659939772\" r=\"2.5\" class=\"dot reactive tooltip-trigger\"/><desc class=\"value\">0.6882022619</desc><desc class=\"x \">170.67668997668997</desc><desc class=\"y \">52.71793659939772</desc><desc class=\"x_label\">24</desc></g><g class=\"dots\"><circle cx=\"177.24623154623154\" cy=\"42.83332401137102\" r=\"2.5\" class=\"dot reactive tooltip-trigger\"/><desc class=\"value\">0.6966292262</desc><desc class=\"x \">177.24623154623154</desc><desc class=\"y \">42.83332401137102</desc><desc class=\"x_label\">25</desc></g><g class=\"dots\"><circle cx=\"183.8157731157731\" cy=\"52.71793659939772\" r=\"2.5\" class=\"dot reactive tooltip-trigger\"/><desc class=\"value\">0.6882022619</desc><desc class=\"x \">183.8157731157731</desc><desc class=\"y \">52.71793659939772</desc><desc class=\"x_label\">26</desc></g><g class=\"dots\"><circle cx=\"190.38531468531465\" cy=\"46.128194874046585\" r=\"2.5\" class=\"dot reactive tooltip-trigger\"/><desc class=\"value\">0.6938202381</desc><desc class=\"x \">190.38531468531465</desc><desc class=\"y \">46.128194874046585</desc><desc class=\"x_label\">27</desc></g><g class=\"dots\"><circle cx=\"196.95485625485622\" cy=\"29.653840560668755\" r=\"2.5\" class=\"dot reactive tooltip-trigger\"/><desc class=\"value\">0.7078651786</desc><desc class=\"x \">196.95485625485622</desc><desc class=\"y \">29.653840560668755</desc><desc class=\"x_label\">28</desc></g><g class=\"dots\"><circle cx=\"203.52439782439782\" cy=\"52.71793659939772\" r=\"2.5\" class=\"dot reactive tooltip-trigger\"/><desc class=\"value\">0.6882022619</desc><desc class=\"x \">203.52439782439782</desc><desc class=\"y \">52.71793659939772</desc><desc class=\"x_label\">29</desc></g><g class=\"dots\"><circle cx=\"210.0939393939394\" cy=\"9.884615384615358\" r=\"2.5\" class=\"dot reactive tooltip-trigger\"/><desc class=\"value\">0.7247191072</desc><desc class=\"x \">210.0939393939394</desc><desc class=\"y \">9.884615384615358</desc><desc class=\"x_label\">30</desc></g><g class=\"dots\"><circle cx=\"216.66348096348096\" cy=\"69.1922909127756\" r=\"2.5\" class=\"dot reactive tooltip-trigger\"/><desc class=\"value\">0.6741573215</desc><desc class=\"x \">216.66348096348096</desc><desc class=\"y \">69.1922909127756</desc><desc class=\"x_label\">31</desc></g><g class=\"dots\"><circle cx=\"223.23302253302253\" cy=\"49.42306573672215\" r=\"2.5\" class=\"dot reactive tooltip-trigger\"/><desc class=\"value\">0.69101125</desc><desc class=\"x \">223.23302253302253</desc><desc class=\"y \">49.42306573672215</desc><desc class=\"x_label\">32</desc></g><g class=\"dots\"><circle cx=\"229.80256410256408\" cy=\"105.43587040220689\" r=\"2.5\" class=\"dot reactive tooltip-trigger\"/><desc class=\"value\">0.6432584524</desc><desc class=\"x \">229.80256410256408</desc><desc class=\"y \">105.43587040220689</desc><desc class=\"x_label\">33</desc></g><g class=\"dots\"><circle cx=\"236.37210567210565\" cy=\"23.064098835317623\" r=\"2.5\" class=\"dot reactive tooltip-trigger\"/><desc class=\"value\">0.7134831548</desc><desc class=\"x \">236.37210567210565</desc><desc class=\"y \">23.064098835317623</desc><desc class=\"x_label\">34</desc></g><g class=\"dots\"><circle cx=\"242.94164724164722\" cy=\"32.94871142334432\" r=\"2.5\" class=\"dot reactive tooltip-trigger\"/><desc class=\"value\">0.7050561905</desc><desc class=\"x \">242.94164724164722</desc><desc class=\"y \">32.94871142334432</desc><desc class=\"x_label\">35</desc></g><g class=\"dots\"><circle cx=\"249.5111888111888\" cy=\"39.53845314869545\" r=\"2.5\" class=\"dot reactive tooltip-trigger\"/><desc class=\"value\">0.6994382143</desc><desc class=\"x \">249.5111888111888</desc><desc class=\"y \">39.53845314869545</desc><desc class=\"x_label\">36</desc></g><g class=\"dots\"><circle cx=\"256.08073038073036\" cy=\"29.653840560668755\" r=\"2.5\" class=\"dot reactive tooltip-trigger\"/><desc class=\"value\">0.7078651786</desc><desc class=\"x \">256.08073038073036</desc><desc class=\"y \">29.653840560668755</desc><desc class=\"x_label\">37</desc></g><g class=\"dots\"><circle cx=\"262.65027195027193\" cy=\"42.83332401137102\" r=\"2.5\" class=\"dot reactive tooltip-trigger\"/><desc class=\"value\">0.6966292262</desc><desc class=\"x \">262.65027195027193</desc><desc class=\"y \">42.83332401137102</desc><desc class=\"x_label\">38</desc></g><g class=\"dots\"><circle cx=\"269.2198135198135\" cy=\"46.128194874046585\" r=\"2.5\" class=\"dot reactive tooltip-trigger\"/><desc class=\"value\">0.6938202381</desc><desc class=\"x \">269.2198135198135</desc><desc class=\"y \">46.128194874046585</desc><desc class=\"x_label\">39</desc></g><g class=\"dots\"><circle cx=\"275.78935508935507\" cy=\"9.884615384615358\" r=\"2.5\" class=\"dot reactive tooltip-trigger\"/><desc class=\"value\">0.7247191072</desc><desc class=\"x \">275.78935508935507</desc><desc class=\"y \">9.884615384615358</desc><desc class=\"x_label\">40</desc></g><g class=\"dots\"><circle cx=\"282.35889665889664\" cy=\"39.53845314869545\" r=\"2.5\" class=\"dot reactive tooltip-trigger\"/><desc class=\"value\">0.6994382143</desc><desc class=\"x \">282.35889665889664</desc><desc class=\"y \">39.53845314869545</desc><desc class=\"x_label\">41</desc></g><g class=\"dots\"><circle cx=\"288.9284382284382\" cy=\"29.653840560668755\" r=\"2.5\" class=\"dot reactive tooltip-trigger\"/><desc class=\"value\">0.7078651786</desc><desc class=\"x \">288.9284382284382</desc><desc class=\"y \">29.653840560668755</desc><desc class=\"x_label\">42</desc></g><g class=\"dots\"><circle cx=\"295.4979797979798\" cy=\"36.24358228601989\" r=\"2.5\" class=\"dot reactive tooltip-trigger\"/><desc class=\"value\">0.7022472024</desc><desc class=\"x \">295.4979797979798</desc><desc class=\"y \">36.24358228601989</desc><desc class=\"x_label\">43</desc></g><g class=\"dots\"><circle cx=\"302.06752136752135\" cy=\"32.94871142334432\" r=\"2.5\" class=\"dot reactive tooltip-trigger\"/><desc class=\"value\">0.7050561905</desc><desc class=\"x \">302.06752136752135</desc><desc class=\"y \">32.94871142334432</desc><desc class=\"x_label\">44</desc></g><g class=\"dots\"><circle cx=\"308.6370629370629\" cy=\"46.128194874046585\" r=\"2.5\" class=\"dot reactive tooltip-trigger\"/><desc class=\"value\">0.6938202381</desc><desc class=\"x \">308.6370629370629</desc><desc class=\"y \">46.128194874046585</desc><desc class=\"x_label\">45</desc></g><g class=\"dots\"><circle cx=\"315.2066045066045\" cy=\"32.94871142334432\" r=\"2.5\" class=\"dot reactive tooltip-trigger\"/><desc class=\"value\">0.7050561905</desc><desc class=\"x \">315.2066045066045</desc><desc class=\"y \">32.94871142334432</desc><desc class=\"x_label\">46</desc></g><g class=\"dots\"><circle cx=\"321.77614607614606\" cy=\"56.01280746207334\" r=\"2.5\" class=\"dot reactive tooltip-trigger\"/><desc class=\"value\">0.6853932738</desc><desc class=\"x \">321.77614607614606</desc><desc class=\"y \">56.01280746207334</desc><desc class=\"x_label\">47</desc></g><g class=\"dots\"><circle cx=\"328.34568764568763\" cy=\"36.24358228601989\" r=\"2.5\" class=\"dot reactive tooltip-trigger\"/><desc class=\"value\">0.7022472024</desc><desc class=\"x \">328.34568764568763</desc><desc class=\"y \">36.24358228601989</desc><desc class=\"x_label\">48</desc></g><g class=\"dots\"><circle cx=\"334.91522921522915\" cy=\"36.24358228601989\" r=\"2.5\" class=\"dot reactive tooltip-trigger\"/><desc class=\"value\">0.7022472024</desc><desc class=\"x \">334.91522921522915</desc><desc class=\"y \">36.24358228601989</desc><desc class=\"x_label\">49</desc></g><g class=\"dots\"><circle cx=\"341.4847707847708\" cy=\"49.42306573672215\" r=\"2.5\" class=\"dot reactive tooltip-trigger\"/><desc class=\"value\">0.69101125</desc><desc class=\"x left\">341.4847707847708</desc><desc class=\"y left\">49.42306573672215</desc><desc class=\"x_label\">50</desc></g><g class=\"dots\"><circle cx=\"348.05431235431234\" cy=\"56.01280746207334\" r=\"2.5\" class=\"dot reactive tooltip-trigger\"/><desc class=\"value\">0.6853932738</desc><desc class=\"x left\">348.05431235431234</desc><desc class=\"y left\">56.01280746207334</desc><desc class=\"x_label\">51</desc></g><g class=\"dots\"><circle cx=\"354.6238539238539\" cy=\"46.128194874046585\" r=\"2.5\" class=\"dot reactive tooltip-trigger\"/><desc class=\"value\">0.6938202381</desc><desc class=\"x left\">354.6238539238539</desc><desc class=\"y left\">46.128194874046585</desc><desc class=\"x_label\">52</desc></g><g class=\"dots\"><circle cx=\"361.1933954933955\" cy=\"56.01280746207334\" r=\"2.5\" class=\"dot reactive tooltip-trigger\"/><desc class=\"value\">0.6853932738</desc><desc class=\"x left\">361.1933954933955</desc><desc class=\"y left\">56.01280746207334</desc><desc class=\"x_label\">53</desc></g><g class=\"dots\"><circle cx=\"367.762937062937\" cy=\"46.128194874046585\" r=\"2.5\" class=\"dot reactive tooltip-trigger\"/><desc class=\"value\">0.6938202381</desc><desc class=\"x left\">367.762937062937</desc><desc class=\"y left\">46.128194874046585</desc><desc class=\"x_label\">54</desc></g><g class=\"dots\"><circle cx=\"374.3324786324786\" cy=\"56.01280746207334\" r=\"2.5\" class=\"dot reactive tooltip-trigger\"/><desc class=\"value\">0.6853932738</desc><desc class=\"x left\">374.3324786324786</desc><desc class=\"y left\">56.01280746207334</desc><desc class=\"x_label\">55</desc></g><g class=\"dots\"><circle cx=\"380.90202020202014\" cy=\"29.653840560668755\" r=\"2.5\" class=\"dot reactive tooltip-trigger\"/><desc class=\"value\">0.7078651786</desc><desc class=\"x left\">380.90202020202014</desc><desc class=\"y left\">29.653840560668755</desc><desc class=\"x_label\">56</desc></g><g class=\"dots\"><circle cx=\"387.47156177156177\" cy=\"32.94871142334432\" r=\"2.5\" class=\"dot reactive tooltip-trigger\"/><desc class=\"value\">0.7050561905</desc><desc class=\"x left\">387.47156177156177</desc><desc class=\"y left\">32.94871142334432</desc><desc class=\"x_label\">57</desc></g><g class=\"dots\"><circle cx=\"394.04110334110334\" cy=\"19.769227972642057\" r=\"2.5\" class=\"dot reactive tooltip-trigger\"/><desc class=\"value\">0.7162921429</desc><desc class=\"x left\">394.04110334110334</desc><desc class=\"y left\">19.769227972642057</desc><desc class=\"x_label\">58</desc></g><g class=\"dots\"><circle cx=\"400.61064491064485\" cy=\"46.128194874046585\" r=\"2.5\" class=\"dot reactive tooltip-trigger\"/><desc class=\"value\">0.6938202381</desc><desc class=\"x left\">400.61064491064485</desc><desc class=\"y left\">46.128194874046585</desc><desc class=\"x_label\">59</desc></g><g class=\"dots\"><circle cx=\"407.1801864801865\" cy=\"52.71793659939772\" r=\"2.5\" class=\"dot reactive tooltip-trigger\"/><desc class=\"value\">0.6882022619</desc><desc class=\"x left\">407.1801864801865</desc><desc class=\"y left\">52.71793659939772</desc><desc class=\"x_label\">60</desc></g><g class=\"dots\"><circle cx=\"413.749728049728\" cy=\"75.78203263812674\" r=\"2.5\" class=\"dot reactive tooltip-trigger\"/><desc class=\"value\">0.6685393453</desc><desc class=\"x left\">413.749728049728</desc><desc class=\"y left\">75.78203263812674</desc><desc class=\"x_label\">61</desc></g><g class=\"dots\"><circle cx=\"420.3192696192696\" cy=\"36.24358228601989\" r=\"2.5\" class=\"dot reactive tooltip-trigger\"/><desc class=\"value\">0.7022472024</desc><desc class=\"x left\">420.3192696192696</desc><desc class=\"y left\">36.24358228601989</desc><desc class=\"x_label\">62</desc></g><g class=\"dots\"><circle cx=\"426.88881118881113\" cy=\"36.24358228601989\" r=\"2.5\" class=\"dot reactive tooltip-trigger\"/><desc class=\"value\">0.7022472024</desc><desc class=\"x left\">426.88881118881113</desc><desc class=\"y left\">36.24358228601989</desc><desc class=\"x_label\">63</desc></g><g class=\"dots\"><circle cx=\"433.45835275835276\" cy=\"29.653840560668755\" r=\"2.5\" class=\"dot reactive tooltip-trigger\"/><desc class=\"value\">0.7078651786</desc><desc class=\"x left\">433.45835275835276</desc><desc class=\"y left\">29.653840560668755</desc><desc class=\"x_label\">64</desc></g><g class=\"dots\"><circle cx=\"440.02789432789433\" cy=\"32.94871142334432\" r=\"2.5\" class=\"dot reactive tooltip-trigger\"/><desc class=\"value\">0.7050561905</desc><desc class=\"x left\">440.02789432789433</desc><desc class=\"y left\">32.94871142334432</desc><desc class=\"x_label\">65</desc></g><g class=\"dots\"><circle cx=\"446.59743589743584\" cy=\"23.064098835317623\" r=\"2.5\" class=\"dot reactive tooltip-trigger\"/><desc class=\"value\">0.7134831548</desc><desc class=\"x left\">446.59743589743584</desc><desc class=\"y left\">23.064098835317623</desc><desc class=\"x_label\">66</desc></g><g class=\"dots\"><circle cx=\"453.16697746697747\" cy=\"36.24358228601989\" r=\"2.5\" class=\"dot reactive tooltip-trigger\"/><desc class=\"value\">0.7022472024</desc><desc class=\"x left\">453.16697746697747</desc><desc class=\"y left\">36.24358228601989</desc><desc class=\"x_label\">67</desc></g><g class=\"dots\"><circle cx=\"459.736519036519\" cy=\"32.94871142334432\" r=\"2.5\" class=\"dot reactive tooltip-trigger\"/><desc class=\"value\">0.7050561905</desc><desc class=\"x left\">459.736519036519</desc><desc class=\"y left\">32.94871142334432</desc><desc class=\"x_label\">68</desc></g><g class=\"dots\"><circle cx=\"466.3060606060606\" cy=\"49.42306573672215\" r=\"2.5\" class=\"dot reactive tooltip-trigger\"/><desc class=\"value\">0.69101125</desc><desc class=\"x left\">466.3060606060606</desc><desc class=\"y left\">49.42306573672215</desc><desc class=\"x_label\">69</desc></g><g class=\"dots\"><circle cx=\"472.8756021756021\" cy=\"52.71793659939772\" r=\"2.5\" class=\"dot reactive tooltip-trigger\"/><desc class=\"value\">0.6882022619</desc><desc class=\"x left\">472.8756021756021</desc><desc class=\"y left\">52.71793659939772</desc><desc class=\"x_label\">70</desc></g><g class=\"dots\"><circle cx=\"479.4451437451437\" cy=\"23.064098835317623\" r=\"2.5\" class=\"dot reactive tooltip-trigger\"/><desc class=\"value\">0.7134831548</desc><desc class=\"x left\">479.4451437451437</desc><desc class=\"y left\">23.064098835317623</desc><desc class=\"x_label\">71</desc></g><g class=\"dots\"><circle cx=\"486.0146853146853\" cy=\"26.35896969799319\" r=\"2.5\" class=\"dot reactive tooltip-trigger\"/><desc class=\"value\">0.7106741667</desc><desc class=\"x left\">486.0146853146853</desc><desc class=\"y left\">26.35896969799319</desc><desc class=\"x_label\">72</desc></g><g class=\"dots\"><circle cx=\"492.58422688422684\" cy=\"52.71793659939772\" r=\"2.5\" class=\"dot reactive tooltip-trigger\"/><desc class=\"value\">0.6882022619</desc><desc class=\"x left\">492.58422688422684</desc><desc class=\"y left\">52.71793659939772</desc><desc class=\"x_label\">73</desc></g><g class=\"dots\"><circle cx=\"499.1537684537684\" cy=\"52.71793659939772\" r=\"2.5\" class=\"dot reactive tooltip-trigger\"/><desc class=\"value\">0.6882022619</desc><desc class=\"x left\">499.1537684537684</desc><desc class=\"y left\">52.71793659939772</desc><desc class=\"x_label\">74</desc></g><g class=\"dots\"><circle cx=\"505.72331002331\" cy=\"52.71793659939772\" r=\"2.5\" class=\"dot reactive tooltip-trigger\"/><desc class=\"value\">0.6882022619</desc><desc class=\"x left\">505.72331002331</desc><desc class=\"y left\">52.71793659939772</desc><desc class=\"x_label\">75</desc></g><g class=\"dots\"><circle cx=\"512.2928515928515\" cy=\"49.42306573672215\" r=\"2.5\" class=\"dot reactive tooltip-trigger\"/><desc class=\"value\">0.69101125</desc><desc class=\"x left\">512.2928515928515</desc><desc class=\"y left\">49.42306573672215</desc><desc class=\"x_label\">76</desc></g><g class=\"dots\"><circle cx=\"518.8623931623931\" cy=\"42.83332401137102\" r=\"2.5\" class=\"dot reactive tooltip-trigger\"/><desc class=\"value\">0.6966292262</desc><desc class=\"x left\">518.8623931623931</desc><desc class=\"y left\">42.83332401137102</desc><desc class=\"x_label\">77</desc></g><g class=\"dots\"><circle cx=\"525.4319347319347\" cy=\"39.53845314869545\" r=\"2.5\" class=\"dot reactive tooltip-trigger\"/><desc class=\"value\">0.6994382143</desc><desc class=\"x left\">525.4319347319347</desc><desc class=\"y left\">39.53845314869545</desc><desc class=\"x_label\">78</desc></g><g class=\"dots\"><circle cx=\"532.0014763014763\" cy=\"29.653840560668755\" r=\"2.5\" class=\"dot reactive tooltip-trigger\"/><desc class=\"value\">0.7078651786</desc><desc class=\"x left\">532.0014763014763</desc><desc class=\"y left\">29.653840560668755</desc><desc class=\"x_label\">79</desc></g><g class=\"dots\"><circle cx=\"538.5710178710178\" cy=\"32.94871142334432\" r=\"2.5\" class=\"dot reactive tooltip-trigger\"/><desc class=\"value\">0.7050561905</desc><desc class=\"x left\">538.5710178710178</desc><desc class=\"y left\">32.94871142334432</desc><desc class=\"x_label\">80</desc></g><g class=\"dots\"><circle cx=\"545.1405594405594\" cy=\"32.94871142334432\" r=\"2.5\" class=\"dot reactive tooltip-trigger\"/><desc class=\"value\">0.7050561905</desc><desc class=\"x left\">545.1405594405594</desc><desc class=\"y left\">32.94871142334432</desc><desc class=\"x_label\">81</desc></g><g class=\"dots\"><circle cx=\"551.710101010101\" cy=\"49.42306573672215\" r=\"2.5\" class=\"dot reactive tooltip-trigger\"/><desc class=\"value\">0.69101125</desc><desc class=\"x left\">551.710101010101</desc><desc class=\"y left\">49.42306573672215</desc><desc class=\"x_label\">82</desc></g><g class=\"dots\"><circle cx=\"558.2796425796425\" cy=\"49.42306573672215\" r=\"2.5\" class=\"dot reactive tooltip-trigger\"/><desc class=\"value\">0.69101125</desc><desc class=\"x left\">558.2796425796425</desc><desc class=\"y left\">49.42306573672215</desc><desc class=\"x_label\">83</desc></g><g class=\"dots\"><circle cx=\"564.8491841491841\" cy=\"65.89742005010004\" r=\"2.5\" class=\"dot reactive tooltip-trigger\"/><desc class=\"value\">0.6769663095</desc><desc class=\"x left\">564.8491841491841</desc><desc class=\"y left\">65.89742005010004</desc><desc class=\"x_label\">84</desc></g><g class=\"dots\"><circle cx=\"571.4187257187257\" cy=\"52.71793659939772\" r=\"2.5\" class=\"dot reactive tooltip-trigger\"/><desc class=\"value\">0.6882022619</desc><desc class=\"x left\">571.4187257187257</desc><desc class=\"y left\">52.71793659939772</desc><desc class=\"x_label\">85</desc></g><g class=\"dots\"><circle cx=\"577.9882672882673\" cy=\"46.128194874046585\" r=\"2.5\" class=\"dot reactive tooltip-trigger\"/><desc class=\"value\">0.6938202381</desc><desc class=\"x left\">577.9882672882673</desc><desc class=\"y left\">46.128194874046585</desc><desc class=\"x_label\">86</desc></g><g class=\"dots\"><circle cx=\"584.5578088578088\" cy=\"59.307678324748906\" r=\"2.5\" class=\"dot reactive tooltip-trigger\"/><desc class=\"value\">0.6825842857</desc><desc class=\"x left\">584.5578088578088</desc><desc class=\"y left\">59.307678324748906</desc><desc class=\"x_label\">87</desc></g><g class=\"dots\"><circle cx=\"591.1273504273504\" cy=\"52.71793659939772\" r=\"2.5\" class=\"dot reactive tooltip-trigger\"/><desc class=\"value\">0.6882022619</desc><desc class=\"x left\">591.1273504273504</desc><desc class=\"y left\">52.71793659939772</desc><desc class=\"x_label\">88</desc></g><g class=\"dots\"><circle cx=\"597.696891996892\" cy=\"75.78203263812674\" r=\"2.5\" class=\"dot reactive tooltip-trigger\"/><desc class=\"value\">0.6685393453</desc><desc class=\"x left\">597.696891996892</desc><desc class=\"y left\">75.78203263812674</desc><desc class=\"x_label\">89</desc></g><g class=\"dots\"><circle cx=\"604.2664335664335\" cy=\"59.307678324748906\" r=\"2.5\" class=\"dot reactive tooltip-trigger\"/><desc class=\"value\">0.6825842857</desc><desc class=\"x left\">604.2664335664335</desc><desc class=\"y left\">59.307678324748906</desc><desc class=\"x_label\">90</desc></g><g class=\"dots\"><circle cx=\"610.8359751359751\" cy=\"42.83332401137102\" r=\"2.5\" class=\"dot reactive tooltip-trigger\"/><desc class=\"value\">0.6966292262</desc><desc class=\"x left\">610.8359751359751</desc><desc class=\"y left\">42.83332401137102</desc><desc class=\"x_label\">91</desc></g><g class=\"dots\"><circle cx=\"617.4055167055167\" cy=\"49.42306573672215\" r=\"2.5\" class=\"dot reactive tooltip-trigger\"/><desc class=\"value\">0.69101125</desc><desc class=\"x left\">617.4055167055167</desc><desc class=\"y left\">49.42306573672215</desc><desc class=\"x_label\">92</desc></g><g class=\"dots\"><circle cx=\"623.9750582750582\" cy=\"52.71793659939772\" r=\"2.5\" class=\"dot reactive tooltip-trigger\"/><desc class=\"value\">0.6882022619</desc><desc class=\"x left\">623.9750582750582</desc><desc class=\"y left\">52.71793659939772</desc><desc class=\"x_label\">93</desc></g><g class=\"dots\"><circle cx=\"630.5445998445998\" cy=\"29.653840560668755\" r=\"2.5\" class=\"dot reactive tooltip-trigger\"/><desc class=\"value\">0.7078651786</desc><desc class=\"x left\">630.5445998445998</desc><desc class=\"y left\">29.653840560668755</desc><desc class=\"x_label\">94</desc></g><g class=\"dots\"><circle cx=\"637.1141414141414\" cy=\"42.83332401137102\" r=\"2.5\" class=\"dot reactive tooltip-trigger\"/><desc class=\"value\">0.6966292262</desc><desc class=\"x left\">637.1141414141414</desc><desc class=\"y left\">42.83332401137102</desc><desc class=\"x_label\">95</desc></g><g class=\"dots\"><circle cx=\"643.683682983683\" cy=\"39.53845314869545\" r=\"2.5\" class=\"dot reactive tooltip-trigger\"/><desc class=\"value\">0.6994382143</desc><desc class=\"x left\">643.683682983683</desc><desc class=\"y left\">39.53845314869545</desc><desc class=\"x_label\">96</desc></g><g class=\"dots\"><circle cx=\"650.2532245532245\" cy=\"32.94871142334432\" r=\"2.5\" class=\"dot reactive tooltip-trigger\"/><desc class=\"value\">0.7050561905</desc><desc class=\"x left\">650.2532245532245</desc><desc class=\"y left\">32.94871142334432</desc><desc class=\"x_label\">97</desc></g><g class=\"dots\"><circle cx=\"656.8227661227661\" cy=\"32.94871142334432\" r=\"2.5\" class=\"dot reactive tooltip-trigger\"/><desc class=\"value\">0.7050561905</desc><desc class=\"x left\">656.8227661227661</desc><desc class=\"y left\">32.94871142334432</desc><desc class=\"x_label\">98</desc></g><g class=\"dots\"><circle cx=\"663.3923076923077\" cy=\"39.53845314869545\" r=\"2.5\" class=\"dot reactive tooltip-trigger\"/><desc class=\"value\">0.6994382143</desc><desc class=\"x left\">663.3923076923077</desc><desc class=\"y left\">39.53845314869545</desc><desc class=\"x_label\">99</desc></g></g></g><g transform=\"translate(103, 46)\" class=\"plot text-overlay\"><g class=\"series serie-0 color-0\"/><g class=\"series serie-1 color-1\"/><g class=\"series serie-2 color-2\"/></g><g transform=\"translate(103, 46)\" class=\"plot tooltip-overlay\"><g transform=\"translate(0 0)\" style=\"opacity: 0\" class=\"tooltip\"><rect rx=\"0\" ry=\"0\" width=\"0\" height=\"0\" class=\"tooltip-box\"/><g class=\"text\"/></g></g><g transform=\"translate(10, 56)\" class=\"legends\"><g id=\"activate-serie-0\" class=\"legend reactive activate-serie\"><rect x=\"0.0\" y=\"1.0\" width=\"12\" height=\"12\" class=\"color-0 reactive\"/><text x=\"17.0\" y=\"11.2\">RNN</text></g><g id=\"activate-serie-1\" class=\"legend reactive activate-serie\"><rect x=\"0.0\" y=\"22.0\" width=\"12\" height=\"12\" class=\"color-1 reactive\"/><text x=\"17.0\" y=\"32.2\">LSTM</text></g><g id=\"activate-serie-2\" class=\"legend reactive activate-serie\"><rect x=\"0.0\" y=\"43.0\" width=\"12\" height=\"12\" class=\"color-2 reactive\"/><text x=\"17.0\" y=\"53.2\">GRU</text></g></g><g transform=\"translate(790, 56)\" class=\"legends\"/></g></svg>",
            "text/plain": [
              "<IPython.core.display.SVG object>"
            ]
          },
          "metadata": {},
          "output_type": "display_data"
        }
      ],
      "source": [
        "x = [0, 1, 2, 3, 4, 5, 6, 7, 8, 9, 10, 11, 12, 13, 14, 15, 16, 17, 18, 19, 20, 21, 22, 23, 24, 25, 26, 27, 28, 29, 30, 31, 32, 33, 34, 35, 36, 37, 38, 39, 40, 41, 42, 43, 44, 45, 46, 47, 48, 49, 50, 51, 52, 53, 54, 55, 56, 57, 58, 59, 60, 61, 62, 63, 64, 65, 66, 67, 68, 69, 70, 71, 72, 73, 74, 75, 76, 77, 78, 79, 80, 81, 82, 83, 84, 85, 86, 87, 88, 89, 90, 91, 92, 93, 94, 95, 96, 97, 98, 99]\n",
        "RNN = [0.30337077379226685, 0.483146071434021, 0.5421348214149475, 0.584269642829895, 0.5786516666412354, 0.5814606547355652, 0.5955055952072144, 0.601123571395874, 0.6235954761505127, 0.5898876190185547, 0.6151685118675232, 0.617977499961853, 0.5870786309242249, 0.6039325594902039, 0.6123595237731934, 0.6207864880561829, 0.6123595237731934, 0.6207864880561829, 0.6095505356788635, 0.601123571395874, 0.5646067261695862, 0.6123595237731934, 0.617977499961853, 0.6264045238494873, 0.601123571395874, 0.6264045238494873, 0.5870786309242249, 0.6123595237731934, 0.617977499961853, 0.6123595237731934, 0.6376404762268066, 0.6376404762268066, 0.6460674405097961, 0.6207864880561829, 0.6264045238494873, 0.6039325594902039, 0.6095505356788635, 0.6432584524154663, 0.6123595237731934, 0.6095505356788635, 0.6292135119438171, 0.6264045238494873, 0.5926966071128845, 0.6151685118675232, 0.5449438095092773, 0.5955055952072144, 0.6123595237731934, 0.6039325594902039, 0.584269642829895, 0.632022500038147, 0.617977499961853, 0.5955055952072144, 0.6151685118675232, 0.601123571395874, 0.5702247023582458, 0.6151685118675232, 0.617977499961853, 0.617977499961853, 0.5983145833015442, 0.584269642829895, 0.601123571395874, 0.6151685118675232, 0.632022500038147, 0.6235954761505127, 0.5814606547355652, 0.5926966071128845, 0.5870786309242249, 0.6067415475845337, 0.6151685118675232, 0.6039325594902039, 0.6376404762268066, 0.5870786309242249, 0.5617977380752563, 0.601123571395874, 0.6207864880561829, 0.6123595237731934, 0.5814606547355652, 0.6348314881324768, 0.5955055952072144, 0.6207864880561829, 0.601123571395874, 0.6095505356788635, 0.5955055952072144, 0.5814606547355652, 0.6404494643211365, 0.6235954761505127, 0.6235954761505127, 0.6095505356788635, 0.6151685118675232, 0.6123595237731934, 0.6235954761505127, 0.584269642829895, 0.6264045238494873, 0.5926966071128845, 0.6432584524154663, 0.6095505356788635, 0.6264045238494873, 0.5983145833015442, 0.6151685118675232, 0.6235954761505127]\n",
        "LSTM = [0.4185393154621124, 0.5252808928489685, 0.567415714263916, 0.5955055952072144, 0.6460674405097961, 0.6460674405097961, 0.6544944047927856, 0.6741573214530945, 0.648876428604126, 0.665730357170105, 0.6713483333587646, 0.6741573214530945, 0.7050561904907227, 0.6910112500190735, 0.6685393452644348, 0.6460674405097961, 0.6741573214530945, 0.6741573214530945, 0.6601123809814453, 0.6769663095474243, 0.6741573214530945, 0.6460674405097961, 0.6769663095474243, 0.6797752976417542, 0.6797752976417542, 0.6629213690757751, 0.6910112500190735, 0.682584285736084, 0.6601123809814453, 0.6713483333587646, 0.6938202381134033, 0.6769663095474243, 0.6938202381134033, 0.6685393452644348, 0.699438214302063, 0.682584285736084, 0.6882022619247437, 0.6769663095474243, 0.6966292262077332, 0.6797752976417542, 0.6741573214530945, 0.665730357170105, 0.6601123809814453, 0.6882022619247437, 0.665730357170105, 0.6769663095474243, 0.6741573214530945, 0.6966292262077332, 0.7050561904907227, 0.6713483333587646, 0.699438214302063, 0.7022472023963928, 0.6797752976417542, 0.682584285736084, 0.6938202381134033, 0.6853932738304138, 0.6853932738304138, 0.6882022619247437, 0.6938202381134033, 0.6966292262077332, 0.6853932738304138, 0.6853932738304138, 0.6882022619247437, 0.7022472023963928, 0.699438214302063, 0.6966292262077332, 0.6910112500190735, 0.7050561904907227, 0.6966292262077332, 0.6797752976417542, 0.6938202381134033, 0.6713483333587646, 0.6938202381134033, 0.6938202381134033, 0.6853932738304138, 0.6882022619247437, 0.6685393452644348, 0.6741573214530945, 0.665730357170105, 0.6882022619247437, 0.6910112500190735, 0.6741573214530945, 0.6938202381134033, 0.6797752976417542, 0.682584285736084, 0.6741573214530945, 0.6573033928871155, 0.6966292262077332, 0.6769663095474243, 0.699438214302063, 0.6882022619247437, 0.6713483333587646, 0.6910112500190735, 0.6853932738304138, 0.6938202381134033, 0.6882022619247437, 0.6882022619247437, 0.6769663095474243, 0.6910112500190735, 0.6853932738304138]\n",
        "GRU = [0.3820224702358246, 0.5393258333206177, 0.584269642829895, 0.6207864880561829, 0.6404494643211365, 0.6713483333587646, 0.6713483333587646, 0.6910112500190735, 0.6797752976417542, 0.682584285736084, 0.6910112500190735, 0.6544944047927856, 0.6966292262077332, 0.6910112500190735, 0.6516854166984558, 0.6966292262077332, 0.6882022619247437, 0.6797752976417542, 0.6769663095474243, 0.6797752976417542, 0.6910112500190735, 0.6882022619247437, 0.6713483333587646, 0.6882022619247437, 0.6882022619247437, 0.6966292262077332, 0.6882022619247437, 0.6938202381134033, 0.7078651785850525, 0.6882022619247437, 0.7247191071510315, 0.6741573214530945, 0.6910112500190735, 0.6432584524154663, 0.7134831547737122, 0.7050561904907227, 0.699438214302063, 0.7078651785850525, 0.6966292262077332, 0.6938202381134033, 0.7247191071510315, 0.699438214302063, 0.7078651785850525, 0.7022472023963928, 0.7050561904907227, 0.6938202381134033, 0.7050561904907227, 0.6853932738304138, 0.7022472023963928, 0.7022472023963928, 0.6910112500190735, 0.6853932738304138, 0.6938202381134033, 0.6853932738304138, 0.6938202381134033, 0.6853932738304138, 0.7078651785850525, 0.7050561904907227, 0.716292142868042, 0.6938202381134033, 0.6882022619247437, 0.6685393452644348, 0.7022472023963928, 0.7022472023963928, 0.7078651785850525, 0.7050561904907227, 0.7134831547737122, 0.7022472023963928, 0.7050561904907227, 0.6910112500190735, 0.6882022619247437, 0.7134831547737122, 0.7106741666793823, 0.6882022619247437, 0.6882022619247437, 0.6882022619247437, 0.6910112500190735, 0.6966292262077332, 0.699438214302063, 0.7078651785850525, 0.7050561904907227, 0.7050561904907227, 0.6910112500190735, 0.6910112500190735, 0.6769663095474243, 0.6882022619247437, 0.6938202381134033, 0.682584285736084, 0.6882022619247437, 0.6685393452644348, 0.682584285736084, 0.6966292262077332, 0.6910112500190735, 0.6882022619247437, 0.7078651785850525, 0.6966292262077332, 0.699438214302063, 0.7050561904907227, 0.7050561904907227, 0.699438214302063]\n",
        "\n",
        "line_chart = pygal.Line()\n",
        "line_chart.title = \"Baseline Models\"\n",
        "line_chart.x_labels = x\n",
        "line_chart.add(\"RNN\", RNN)\n",
        "line_chart.add(\"LSTM\", LSTM)\n",
        "line_chart.add(\"GRU\", GRU)\n",
        "line_chart.render_to_file('/Users/rampageyao/Downloads/base.svg') \n",
        "display(SVG(line_chart.render(disable_xml_declaration=True)))"
      ]
    },
    {
      "cell_type": "code",
      "execution_count": 50,
      "metadata": {},
      "outputs": [
        {
          "data": {
            "application/vnd.plotly.v1+json": {
              "config": {
                "plotlyServerURL": "https://plot.ly"
              },
              "data": [
                {
                  "mode": "lines+markers",
                  "name": "RNN",
                  "type": "scatter",
                  "x": [
                    0,
                    1,
                    2,
                    3,
                    4,
                    5,
                    6,
                    7,
                    8,
                    9,
                    10,
                    11,
                    12,
                    13,
                    14,
                    15,
                    16,
                    17,
                    18,
                    19,
                    20,
                    21,
                    22,
                    23,
                    24,
                    25,
                    26,
                    27,
                    28,
                    29,
                    30,
                    31,
                    32,
                    33,
                    34,
                    35,
                    36,
                    37,
                    38,
                    39,
                    40,
                    41,
                    42,
                    43,
                    44,
                    45,
                    46,
                    47,
                    48,
                    49,
                    50,
                    51,
                    52,
                    53,
                    54,
                    55,
                    56,
                    57,
                    58,
                    59,
                    60,
                    61,
                    62,
                    63,
                    64,
                    65,
                    66,
                    67,
                    68,
                    69,
                    70,
                    71,
                    72,
                    73,
                    74,
                    75,
                    76,
                    77,
                    78,
                    79,
                    80,
                    81,
                    82,
                    83,
                    84,
                    85,
                    86,
                    87,
                    88,
                    89,
                    90,
                    91,
                    92,
                    93,
                    94,
                    95,
                    96,
                    97,
                    98,
                    99
                  ],
                  "y": [
                    0.30337077379226685,
                    0.483146071434021,
                    0.5421348214149475,
                    0.584269642829895,
                    0.5786516666412354,
                    0.5814606547355652,
                    0.5955055952072144,
                    0.601123571395874,
                    0.6235954761505127,
                    0.5898876190185547,
                    0.6151685118675232,
                    0.617977499961853,
                    0.5870786309242249,
                    0.6039325594902039,
                    0.6123595237731934,
                    0.6207864880561829,
                    0.6123595237731934,
                    0.6207864880561829,
                    0.6095505356788635,
                    0.601123571395874,
                    0.5646067261695862,
                    0.6123595237731934,
                    0.617977499961853,
                    0.6264045238494873,
                    0.601123571395874,
                    0.6264045238494873,
                    0.5870786309242249,
                    0.6123595237731934,
                    0.617977499961853,
                    0.6123595237731934,
                    0.6376404762268066,
                    0.6376404762268066,
                    0.6460674405097961,
                    0.6207864880561829,
                    0.6264045238494873,
                    0.6039325594902039,
                    0.6095505356788635,
                    0.6432584524154663,
                    0.6123595237731934,
                    0.6095505356788635,
                    0.6292135119438171,
                    0.6264045238494873,
                    0.5926966071128845,
                    0.6151685118675232,
                    0.5449438095092773,
                    0.5955055952072144,
                    0.6123595237731934,
                    0.6039325594902039,
                    0.584269642829895,
                    0.632022500038147,
                    0.617977499961853,
                    0.5955055952072144,
                    0.6151685118675232,
                    0.601123571395874,
                    0.5702247023582458,
                    0.6151685118675232,
                    0.617977499961853,
                    0.617977499961853,
                    0.5983145833015442,
                    0.584269642829895,
                    0.601123571395874,
                    0.6151685118675232,
                    0.632022500038147,
                    0.6235954761505127,
                    0.5814606547355652,
                    0.5926966071128845,
                    0.5870786309242249,
                    0.6067415475845337,
                    0.6151685118675232,
                    0.6039325594902039,
                    0.6376404762268066,
                    0.5870786309242249,
                    0.5617977380752563,
                    0.601123571395874,
                    0.6207864880561829,
                    0.6123595237731934,
                    0.5814606547355652,
                    0.6348314881324768,
                    0.5955055952072144,
                    0.6207864880561829,
                    0.601123571395874,
                    0.6095505356788635,
                    0.5955055952072144,
                    0.5814606547355652,
                    0.6404494643211365,
                    0.6235954761505127,
                    0.6235954761505127,
                    0.6095505356788635,
                    0.6151685118675232,
                    0.6123595237731934,
                    0.6235954761505127,
                    0.584269642829895,
                    0.6264045238494873,
                    0.5926966071128845,
                    0.6432584524154663,
                    0.6095505356788635,
                    0.6264045238494873,
                    0.5983145833015442,
                    0.6151685118675232,
                    0.6235954761505127
                  ]
                },
                {
                  "mode": "lines+markers",
                  "name": "LSTM",
                  "type": "scatter",
                  "x": [
                    0,
                    1,
                    2,
                    3,
                    4,
                    5,
                    6,
                    7,
                    8,
                    9,
                    10,
                    11,
                    12,
                    13,
                    14,
                    15,
                    16,
                    17,
                    18,
                    19,
                    20,
                    21,
                    22,
                    23,
                    24,
                    25,
                    26,
                    27,
                    28,
                    29,
                    30,
                    31,
                    32,
                    33,
                    34,
                    35,
                    36,
                    37,
                    38,
                    39,
                    40,
                    41,
                    42,
                    43,
                    44,
                    45,
                    46,
                    47,
                    48,
                    49,
                    50,
                    51,
                    52,
                    53,
                    54,
                    55,
                    56,
                    57,
                    58,
                    59,
                    60,
                    61,
                    62,
                    63,
                    64,
                    65,
                    66,
                    67,
                    68,
                    69,
                    70,
                    71,
                    72,
                    73,
                    74,
                    75,
                    76,
                    77,
                    78,
                    79,
                    80,
                    81,
                    82,
                    83,
                    84,
                    85,
                    86,
                    87,
                    88,
                    89,
                    90,
                    91,
                    92,
                    93,
                    94,
                    95,
                    96,
                    97,
                    98,
                    99
                  ],
                  "y": [
                    0.4185393154621124,
                    0.5252808928489685,
                    0.567415714263916,
                    0.5955055952072144,
                    0.6460674405097961,
                    0.6460674405097961,
                    0.6544944047927856,
                    0.6741573214530945,
                    0.648876428604126,
                    0.665730357170105,
                    0.6713483333587646,
                    0.6741573214530945,
                    0.7050561904907227,
                    0.6910112500190735,
                    0.6685393452644348,
                    0.6460674405097961,
                    0.6741573214530945,
                    0.6741573214530945,
                    0.6601123809814453,
                    0.6769663095474243,
                    0.6741573214530945,
                    0.6460674405097961,
                    0.6769663095474243,
                    0.6797752976417542,
                    0.6797752976417542,
                    0.6629213690757751,
                    0.6910112500190735,
                    0.682584285736084,
                    0.6601123809814453,
                    0.6713483333587646,
                    0.6938202381134033,
                    0.6769663095474243,
                    0.6938202381134033,
                    0.6685393452644348,
                    0.699438214302063,
                    0.682584285736084,
                    0.6882022619247437,
                    0.6769663095474243,
                    0.6966292262077332,
                    0.6797752976417542,
                    0.6741573214530945,
                    0.665730357170105,
                    0.6601123809814453,
                    0.6882022619247437,
                    0.665730357170105,
                    0.6769663095474243,
                    0.6741573214530945,
                    0.6966292262077332,
                    0.7050561904907227,
                    0.6713483333587646,
                    0.699438214302063,
                    0.7022472023963928,
                    0.6797752976417542,
                    0.682584285736084,
                    0.6938202381134033,
                    0.6853932738304138,
                    0.6853932738304138,
                    0.6882022619247437,
                    0.6938202381134033,
                    0.6966292262077332,
                    0.6853932738304138,
                    0.6853932738304138,
                    0.6882022619247437,
                    0.7022472023963928,
                    0.699438214302063,
                    0.6966292262077332,
                    0.6910112500190735,
                    0.7050561904907227,
                    0.6966292262077332,
                    0.6797752976417542,
                    0.6938202381134033,
                    0.6713483333587646,
                    0.6938202381134033,
                    0.6938202381134033,
                    0.6853932738304138,
                    0.6882022619247437,
                    0.6685393452644348,
                    0.6741573214530945,
                    0.665730357170105,
                    0.6882022619247437,
                    0.6910112500190735,
                    0.6741573214530945,
                    0.6938202381134033,
                    0.6797752976417542,
                    0.682584285736084,
                    0.6741573214530945,
                    0.6573033928871155,
                    0.6966292262077332,
                    0.6769663095474243,
                    0.699438214302063,
                    0.6882022619247437,
                    0.6713483333587646,
                    0.6910112500190735,
                    0.6853932738304138,
                    0.6938202381134033,
                    0.6882022619247437,
                    0.6882022619247437,
                    0.6769663095474243,
                    0.6910112500190735,
                    0.6853932738304138
                  ]
                },
                {
                  "mode": "lines+markers",
                  "name": "GRU",
                  "type": "scatter",
                  "x": [
                    0,
                    1,
                    2,
                    3,
                    4,
                    5,
                    6,
                    7,
                    8,
                    9,
                    10,
                    11,
                    12,
                    13,
                    14,
                    15,
                    16,
                    17,
                    18,
                    19,
                    20,
                    21,
                    22,
                    23,
                    24,
                    25,
                    26,
                    27,
                    28,
                    29,
                    30,
                    31,
                    32,
                    33,
                    34,
                    35,
                    36,
                    37,
                    38,
                    39,
                    40,
                    41,
                    42,
                    43,
                    44,
                    45,
                    46,
                    47,
                    48,
                    49,
                    50,
                    51,
                    52,
                    53,
                    54,
                    55,
                    56,
                    57,
                    58,
                    59,
                    60,
                    61,
                    62,
                    63,
                    64,
                    65,
                    66,
                    67,
                    68,
                    69,
                    70,
                    71,
                    72,
                    73,
                    74,
                    75,
                    76,
                    77,
                    78,
                    79,
                    80,
                    81,
                    82,
                    83,
                    84,
                    85,
                    86,
                    87,
                    88,
                    89,
                    90,
                    91,
                    92,
                    93,
                    94,
                    95,
                    96,
                    97,
                    98,
                    99
                  ],
                  "y": [
                    0.3820224702358246,
                    0.5393258333206177,
                    0.584269642829895,
                    0.6207864880561829,
                    0.6404494643211365,
                    0.6713483333587646,
                    0.6713483333587646,
                    0.6910112500190735,
                    0.6797752976417542,
                    0.682584285736084,
                    0.6910112500190735,
                    0.6544944047927856,
                    0.6966292262077332,
                    0.6910112500190735,
                    0.6516854166984558,
                    0.6966292262077332,
                    0.6882022619247437,
                    0.6797752976417542,
                    0.6769663095474243,
                    0.6797752976417542,
                    0.6910112500190735,
                    0.6882022619247437,
                    0.6713483333587646,
                    0.6882022619247437,
                    0.6882022619247437,
                    0.6966292262077332,
                    0.6882022619247437,
                    0.6938202381134033,
                    0.7078651785850525,
                    0.6882022619247437,
                    0.7247191071510315,
                    0.6741573214530945,
                    0.6910112500190735,
                    0.6432584524154663,
                    0.7134831547737122,
                    0.7050561904907227,
                    0.699438214302063,
                    0.7078651785850525,
                    0.6966292262077332,
                    0.6938202381134033,
                    0.7247191071510315,
                    0.699438214302063,
                    0.7078651785850525,
                    0.7022472023963928,
                    0.7050561904907227,
                    0.6938202381134033,
                    0.7050561904907227,
                    0.6853932738304138,
                    0.7022472023963928,
                    0.7022472023963928,
                    0.6910112500190735,
                    0.6853932738304138,
                    0.6938202381134033,
                    0.6853932738304138,
                    0.6938202381134033,
                    0.6853932738304138,
                    0.7078651785850525,
                    0.7050561904907227,
                    0.716292142868042,
                    0.6938202381134033,
                    0.6882022619247437,
                    0.6685393452644348,
                    0.7022472023963928,
                    0.7022472023963928,
                    0.7078651785850525,
                    0.7050561904907227,
                    0.7134831547737122,
                    0.7022472023963928,
                    0.7050561904907227,
                    0.6910112500190735,
                    0.6882022619247437,
                    0.7134831547737122,
                    0.7106741666793823,
                    0.6882022619247437,
                    0.6882022619247437,
                    0.6882022619247437,
                    0.6910112500190735,
                    0.6966292262077332,
                    0.699438214302063,
                    0.7078651785850525,
                    0.7050561904907227,
                    0.7050561904907227,
                    0.6910112500190735,
                    0.6910112500190735,
                    0.6769663095474243,
                    0.6882022619247437,
                    0.6938202381134033,
                    0.682584285736084,
                    0.6882022619247437,
                    0.6685393452644348,
                    0.682584285736084,
                    0.6966292262077332,
                    0.6910112500190735,
                    0.6882022619247437,
                    0.7078651785850525,
                    0.6966292262077332,
                    0.699438214302063,
                    0.7050561904907227,
                    0.7050561904907227,
                    0.699438214302063
                  ]
                }
              ],
              "layout": {
                "autosize": false,
                "margin": {
                  "autoexpand": false,
                  "l": 50,
                  "r": 90,
                  "t": 100
                },
                "plot_bgcolor": "white",
                "template": {
                  "data": {
                    "bar": [
                      {
                        "error_x": {
                          "color": "#2a3f5f"
                        },
                        "error_y": {
                          "color": "#2a3f5f"
                        },
                        "marker": {
                          "line": {
                            "color": "#E5ECF6",
                            "width": 0.5
                          },
                          "pattern": {
                            "fillmode": "overlay",
                            "size": 10,
                            "solidity": 0.2
                          }
                        },
                        "type": "bar"
                      }
                    ],
                    "barpolar": [
                      {
                        "marker": {
                          "line": {
                            "color": "#E5ECF6",
                            "width": 0.5
                          },
                          "pattern": {
                            "fillmode": "overlay",
                            "size": 10,
                            "solidity": 0.2
                          }
                        },
                        "type": "barpolar"
                      }
                    ],
                    "carpet": [
                      {
                        "aaxis": {
                          "endlinecolor": "#2a3f5f",
                          "gridcolor": "white",
                          "linecolor": "white",
                          "minorgridcolor": "white",
                          "startlinecolor": "#2a3f5f"
                        },
                        "baxis": {
                          "endlinecolor": "#2a3f5f",
                          "gridcolor": "white",
                          "linecolor": "white",
                          "minorgridcolor": "white",
                          "startlinecolor": "#2a3f5f"
                        },
                        "type": "carpet"
                      }
                    ],
                    "choropleth": [
                      {
                        "colorbar": {
                          "outlinewidth": 0,
                          "ticks": ""
                        },
                        "type": "choropleth"
                      }
                    ],
                    "contour": [
                      {
                        "colorbar": {
                          "outlinewidth": 0,
                          "ticks": ""
                        },
                        "colorscale": [
                          [
                            0,
                            "#0d0887"
                          ],
                          [
                            0.1111111111111111,
                            "#46039f"
                          ],
                          [
                            0.2222222222222222,
                            "#7201a8"
                          ],
                          [
                            0.3333333333333333,
                            "#9c179e"
                          ],
                          [
                            0.4444444444444444,
                            "#bd3786"
                          ],
                          [
                            0.5555555555555556,
                            "#d8576b"
                          ],
                          [
                            0.6666666666666666,
                            "#ed7953"
                          ],
                          [
                            0.7777777777777778,
                            "#fb9f3a"
                          ],
                          [
                            0.8888888888888888,
                            "#fdca26"
                          ],
                          [
                            1,
                            "#f0f921"
                          ]
                        ],
                        "type": "contour"
                      }
                    ],
                    "contourcarpet": [
                      {
                        "colorbar": {
                          "outlinewidth": 0,
                          "ticks": ""
                        },
                        "type": "contourcarpet"
                      }
                    ],
                    "heatmap": [
                      {
                        "colorbar": {
                          "outlinewidth": 0,
                          "ticks": ""
                        },
                        "colorscale": [
                          [
                            0,
                            "#0d0887"
                          ],
                          [
                            0.1111111111111111,
                            "#46039f"
                          ],
                          [
                            0.2222222222222222,
                            "#7201a8"
                          ],
                          [
                            0.3333333333333333,
                            "#9c179e"
                          ],
                          [
                            0.4444444444444444,
                            "#bd3786"
                          ],
                          [
                            0.5555555555555556,
                            "#d8576b"
                          ],
                          [
                            0.6666666666666666,
                            "#ed7953"
                          ],
                          [
                            0.7777777777777778,
                            "#fb9f3a"
                          ],
                          [
                            0.8888888888888888,
                            "#fdca26"
                          ],
                          [
                            1,
                            "#f0f921"
                          ]
                        ],
                        "type": "heatmap"
                      }
                    ],
                    "heatmapgl": [
                      {
                        "colorbar": {
                          "outlinewidth": 0,
                          "ticks": ""
                        },
                        "colorscale": [
                          [
                            0,
                            "#0d0887"
                          ],
                          [
                            0.1111111111111111,
                            "#46039f"
                          ],
                          [
                            0.2222222222222222,
                            "#7201a8"
                          ],
                          [
                            0.3333333333333333,
                            "#9c179e"
                          ],
                          [
                            0.4444444444444444,
                            "#bd3786"
                          ],
                          [
                            0.5555555555555556,
                            "#d8576b"
                          ],
                          [
                            0.6666666666666666,
                            "#ed7953"
                          ],
                          [
                            0.7777777777777778,
                            "#fb9f3a"
                          ],
                          [
                            0.8888888888888888,
                            "#fdca26"
                          ],
                          [
                            1,
                            "#f0f921"
                          ]
                        ],
                        "type": "heatmapgl"
                      }
                    ],
                    "histogram": [
                      {
                        "marker": {
                          "pattern": {
                            "fillmode": "overlay",
                            "size": 10,
                            "solidity": 0.2
                          }
                        },
                        "type": "histogram"
                      }
                    ],
                    "histogram2d": [
                      {
                        "colorbar": {
                          "outlinewidth": 0,
                          "ticks": ""
                        },
                        "colorscale": [
                          [
                            0,
                            "#0d0887"
                          ],
                          [
                            0.1111111111111111,
                            "#46039f"
                          ],
                          [
                            0.2222222222222222,
                            "#7201a8"
                          ],
                          [
                            0.3333333333333333,
                            "#9c179e"
                          ],
                          [
                            0.4444444444444444,
                            "#bd3786"
                          ],
                          [
                            0.5555555555555556,
                            "#d8576b"
                          ],
                          [
                            0.6666666666666666,
                            "#ed7953"
                          ],
                          [
                            0.7777777777777778,
                            "#fb9f3a"
                          ],
                          [
                            0.8888888888888888,
                            "#fdca26"
                          ],
                          [
                            1,
                            "#f0f921"
                          ]
                        ],
                        "type": "histogram2d"
                      }
                    ],
                    "histogram2dcontour": [
                      {
                        "colorbar": {
                          "outlinewidth": 0,
                          "ticks": ""
                        },
                        "colorscale": [
                          [
                            0,
                            "#0d0887"
                          ],
                          [
                            0.1111111111111111,
                            "#46039f"
                          ],
                          [
                            0.2222222222222222,
                            "#7201a8"
                          ],
                          [
                            0.3333333333333333,
                            "#9c179e"
                          ],
                          [
                            0.4444444444444444,
                            "#bd3786"
                          ],
                          [
                            0.5555555555555556,
                            "#d8576b"
                          ],
                          [
                            0.6666666666666666,
                            "#ed7953"
                          ],
                          [
                            0.7777777777777778,
                            "#fb9f3a"
                          ],
                          [
                            0.8888888888888888,
                            "#fdca26"
                          ],
                          [
                            1,
                            "#f0f921"
                          ]
                        ],
                        "type": "histogram2dcontour"
                      }
                    ],
                    "mesh3d": [
                      {
                        "colorbar": {
                          "outlinewidth": 0,
                          "ticks": ""
                        },
                        "type": "mesh3d"
                      }
                    ],
                    "parcoords": [
                      {
                        "line": {
                          "colorbar": {
                            "outlinewidth": 0,
                            "ticks": ""
                          }
                        },
                        "type": "parcoords"
                      }
                    ],
                    "pie": [
                      {
                        "automargin": true,
                        "type": "pie"
                      }
                    ],
                    "scatter": [
                      {
                        "marker": {
                          "colorbar": {
                            "outlinewidth": 0,
                            "ticks": ""
                          }
                        },
                        "type": "scatter"
                      }
                    ],
                    "scatter3d": [
                      {
                        "line": {
                          "colorbar": {
                            "outlinewidth": 0,
                            "ticks": ""
                          }
                        },
                        "marker": {
                          "colorbar": {
                            "outlinewidth": 0,
                            "ticks": ""
                          }
                        },
                        "type": "scatter3d"
                      }
                    ],
                    "scattercarpet": [
                      {
                        "marker": {
                          "colorbar": {
                            "outlinewidth": 0,
                            "ticks": ""
                          }
                        },
                        "type": "scattercarpet"
                      }
                    ],
                    "scattergeo": [
                      {
                        "marker": {
                          "colorbar": {
                            "outlinewidth": 0,
                            "ticks": ""
                          }
                        },
                        "type": "scattergeo"
                      }
                    ],
                    "scattergl": [
                      {
                        "marker": {
                          "colorbar": {
                            "outlinewidth": 0,
                            "ticks": ""
                          }
                        },
                        "type": "scattergl"
                      }
                    ],
                    "scattermapbox": [
                      {
                        "marker": {
                          "colorbar": {
                            "outlinewidth": 0,
                            "ticks": ""
                          }
                        },
                        "type": "scattermapbox"
                      }
                    ],
                    "scatterpolar": [
                      {
                        "marker": {
                          "colorbar": {
                            "outlinewidth": 0,
                            "ticks": ""
                          }
                        },
                        "type": "scatterpolar"
                      }
                    ],
                    "scatterpolargl": [
                      {
                        "marker": {
                          "colorbar": {
                            "outlinewidth": 0,
                            "ticks": ""
                          }
                        },
                        "type": "scatterpolargl"
                      }
                    ],
                    "scatterternary": [
                      {
                        "marker": {
                          "colorbar": {
                            "outlinewidth": 0,
                            "ticks": ""
                          }
                        },
                        "type": "scatterternary"
                      }
                    ],
                    "surface": [
                      {
                        "colorbar": {
                          "outlinewidth": 0,
                          "ticks": ""
                        },
                        "colorscale": [
                          [
                            0,
                            "#0d0887"
                          ],
                          [
                            0.1111111111111111,
                            "#46039f"
                          ],
                          [
                            0.2222222222222222,
                            "#7201a8"
                          ],
                          [
                            0.3333333333333333,
                            "#9c179e"
                          ],
                          [
                            0.4444444444444444,
                            "#bd3786"
                          ],
                          [
                            0.5555555555555556,
                            "#d8576b"
                          ],
                          [
                            0.6666666666666666,
                            "#ed7953"
                          ],
                          [
                            0.7777777777777778,
                            "#fb9f3a"
                          ],
                          [
                            0.8888888888888888,
                            "#fdca26"
                          ],
                          [
                            1,
                            "#f0f921"
                          ]
                        ],
                        "type": "surface"
                      }
                    ],
                    "table": [
                      {
                        "cells": {
                          "fill": {
                            "color": "#EBF0F8"
                          },
                          "line": {
                            "color": "white"
                          }
                        },
                        "header": {
                          "fill": {
                            "color": "#C8D4E3"
                          },
                          "line": {
                            "color": "white"
                          }
                        },
                        "type": "table"
                      }
                    ]
                  },
                  "layout": {
                    "annotationdefaults": {
                      "arrowcolor": "#2a3f5f",
                      "arrowhead": 0,
                      "arrowwidth": 1
                    },
                    "autotypenumbers": "strict",
                    "coloraxis": {
                      "colorbar": {
                        "outlinewidth": 0,
                        "ticks": ""
                      }
                    },
                    "colorscale": {
                      "diverging": [
                        [
                          0,
                          "#8e0152"
                        ],
                        [
                          0.1,
                          "#c51b7d"
                        ],
                        [
                          0.2,
                          "#de77ae"
                        ],
                        [
                          0.3,
                          "#f1b6da"
                        ],
                        [
                          0.4,
                          "#fde0ef"
                        ],
                        [
                          0.5,
                          "#f7f7f7"
                        ],
                        [
                          0.6,
                          "#e6f5d0"
                        ],
                        [
                          0.7,
                          "#b8e186"
                        ],
                        [
                          0.8,
                          "#7fbc41"
                        ],
                        [
                          0.9,
                          "#4d9221"
                        ],
                        [
                          1,
                          "#276419"
                        ]
                      ],
                      "sequential": [
                        [
                          0,
                          "#0d0887"
                        ],
                        [
                          0.1111111111111111,
                          "#46039f"
                        ],
                        [
                          0.2222222222222222,
                          "#7201a8"
                        ],
                        [
                          0.3333333333333333,
                          "#9c179e"
                        ],
                        [
                          0.4444444444444444,
                          "#bd3786"
                        ],
                        [
                          0.5555555555555556,
                          "#d8576b"
                        ],
                        [
                          0.6666666666666666,
                          "#ed7953"
                        ],
                        [
                          0.7777777777777778,
                          "#fb9f3a"
                        ],
                        [
                          0.8888888888888888,
                          "#fdca26"
                        ],
                        [
                          1,
                          "#f0f921"
                        ]
                      ],
                      "sequentialminus": [
                        [
                          0,
                          "#0d0887"
                        ],
                        [
                          0.1111111111111111,
                          "#46039f"
                        ],
                        [
                          0.2222222222222222,
                          "#7201a8"
                        ],
                        [
                          0.3333333333333333,
                          "#9c179e"
                        ],
                        [
                          0.4444444444444444,
                          "#bd3786"
                        ],
                        [
                          0.5555555555555556,
                          "#d8576b"
                        ],
                        [
                          0.6666666666666666,
                          "#ed7953"
                        ],
                        [
                          0.7777777777777778,
                          "#fb9f3a"
                        ],
                        [
                          0.8888888888888888,
                          "#fdca26"
                        ],
                        [
                          1,
                          "#f0f921"
                        ]
                      ]
                    },
                    "colorway": [
                      "#636efa",
                      "#EF553B",
                      "#00cc96",
                      "#ab63fa",
                      "#FFA15A",
                      "#19d3f3",
                      "#FF6692",
                      "#B6E880",
                      "#FF97FF",
                      "#FECB52"
                    ],
                    "font": {
                      "color": "#2a3f5f"
                    },
                    "geo": {
                      "bgcolor": "white",
                      "lakecolor": "white",
                      "landcolor": "#E5ECF6",
                      "showlakes": true,
                      "showland": true,
                      "subunitcolor": "white"
                    },
                    "hoverlabel": {
                      "align": "left"
                    },
                    "hovermode": "closest",
                    "mapbox": {
                      "style": "light"
                    },
                    "paper_bgcolor": "white",
                    "plot_bgcolor": "#E5ECF6",
                    "polar": {
                      "angularaxis": {
                        "gridcolor": "white",
                        "linecolor": "white",
                        "ticks": ""
                      },
                      "bgcolor": "#E5ECF6",
                      "radialaxis": {
                        "gridcolor": "white",
                        "linecolor": "white",
                        "ticks": ""
                      }
                    },
                    "scene": {
                      "xaxis": {
                        "backgroundcolor": "#E5ECF6",
                        "gridcolor": "white",
                        "gridwidth": 2,
                        "linecolor": "white",
                        "showbackground": true,
                        "ticks": "",
                        "zerolinecolor": "white"
                      },
                      "yaxis": {
                        "backgroundcolor": "#E5ECF6",
                        "gridcolor": "white",
                        "gridwidth": 2,
                        "linecolor": "white",
                        "showbackground": true,
                        "ticks": "",
                        "zerolinecolor": "white"
                      },
                      "zaxis": {
                        "backgroundcolor": "#E5ECF6",
                        "gridcolor": "white",
                        "gridwidth": 2,
                        "linecolor": "white",
                        "showbackground": true,
                        "ticks": "",
                        "zerolinecolor": "white"
                      }
                    },
                    "shapedefaults": {
                      "line": {
                        "color": "#2a3f5f"
                      }
                    },
                    "ternary": {
                      "aaxis": {
                        "gridcolor": "white",
                        "linecolor": "white",
                        "ticks": ""
                      },
                      "baxis": {
                        "gridcolor": "white",
                        "linecolor": "white",
                        "ticks": ""
                      },
                      "bgcolor": "#E5ECF6",
                      "caxis": {
                        "gridcolor": "white",
                        "linecolor": "white",
                        "ticks": ""
                      }
                    },
                    "title": {
                      "x": 0.05
                    },
                    "xaxis": {
                      "automargin": true,
                      "gridcolor": "white",
                      "linecolor": "white",
                      "ticks": "",
                      "title": {
                        "standoff": 15
                      },
                      "zerolinecolor": "white",
                      "zerolinewidth": 2
                    },
                    "yaxis": {
                      "automargin": true,
                      "gridcolor": "white",
                      "linecolor": "white",
                      "ticks": "",
                      "title": {
                        "standoff": 15
                      },
                      "zerolinecolor": "white",
                      "zerolinewidth": 2
                    }
                  }
                },
                "xaxis": {
                  "title": {
                    "text": "Epoch"
                  }
                },
                "yaxis": {
                  "title": {
                    "text": "Validation Accuracy"
                  }
                }
              }
            }
          },
          "metadata": {},
          "output_type": "display_data"
        }
      ],
      "source": [
        "fig = go.Figure()\n",
        "fig.add_trace(go.Scatter(x=random_x, y=random_y0,\n",
        "                    mode='lines+markers', name='RNN'))\n",
        "fig.add_trace(go.Scatter(x=random_x, y=random_y1,\n",
        "                    mode='lines+markers', name='LSTM'))\n",
        "fig.add_trace(go.Scatter(x=random_x, y=random_y2,\n",
        "                    mode='lines+markers', name='GRU'))\n",
        "\n",
        "fig.update_layout(xaxis_title='Epoch', yaxis_title='Validation Accuracy', autosize=False, margin=dict(autoexpand=False,l=50,r=90,t=100,), plot_bgcolor='black'\n",
        ")"
      ]
    },
    {
      "cell_type": "code",
      "execution_count": 2,
      "metadata": {},
      "outputs": [
        {
          "data": {
            "application/vnd.plotly.v1+json": {
              "config": {
                "plotlyServerURL": "https://plot.ly"
              },
              "data": [
                {
                  "line": {
                    "width": 1
                  },
                  "mode": "lines+markers",
                  "name": "RNN",
                  "type": "scatter",
                  "x": [
                    0,
                    1,
                    2,
                    3,
                    4,
                    5,
                    6,
                    7,
                    8,
                    9,
                    10,
                    11,
                    12,
                    13,
                    14,
                    15,
                    16,
                    17,
                    18,
                    19,
                    20,
                    21,
                    22,
                    23,
                    24,
                    25,
                    26,
                    27,
                    28,
                    29,
                    30,
                    31,
                    32,
                    33,
                    34,
                    35,
                    36,
                    37,
                    38,
                    39,
                    40,
                    41,
                    42,
                    43,
                    44,
                    45,
                    46,
                    47,
                    48,
                    49,
                    50,
                    51,
                    52,
                    53,
                    54,
                    55,
                    56,
                    57,
                    58,
                    59,
                    60,
                    61,
                    62,
                    63,
                    64,
                    65,
                    66,
                    67,
                    68,
                    69,
                    70,
                    71,
                    72,
                    73,
                    74,
                    75,
                    76,
                    77,
                    78,
                    79,
                    80,
                    81,
                    82,
                    83,
                    84,
                    85,
                    86,
                    87,
                    88,
                    89,
                    90,
                    91,
                    92,
                    93,
                    94,
                    95,
                    96,
                    97,
                    98,
                    99
                  ],
                  "y": [
                    0.30337077379226685,
                    0.483146071434021,
                    0.5421348214149475,
                    0.584269642829895,
                    0.5786516666412354,
                    0.5814606547355652,
                    0.5955055952072144,
                    0.601123571395874,
                    0.6235954761505127,
                    0.5898876190185547,
                    0.6151685118675232,
                    0.617977499961853,
                    0.5870786309242249,
                    0.6039325594902039,
                    0.6123595237731934,
                    0.6207864880561829,
                    0.6123595237731934,
                    0.6207864880561829,
                    0.6095505356788635,
                    0.601123571395874,
                    0.5646067261695862,
                    0.6123595237731934,
                    0.617977499961853,
                    0.6264045238494873,
                    0.601123571395874,
                    0.6264045238494873,
                    0.5870786309242249,
                    0.6123595237731934,
                    0.617977499961853,
                    0.6123595237731934,
                    0.6376404762268066,
                    0.6376404762268066,
                    0.6460674405097961,
                    0.6207864880561829,
                    0.6264045238494873,
                    0.6039325594902039,
                    0.6095505356788635,
                    0.6432584524154663,
                    0.6123595237731934,
                    0.6095505356788635,
                    0.6292135119438171,
                    0.6264045238494873,
                    0.5926966071128845,
                    0.6151685118675232,
                    0.5449438095092773,
                    0.5955055952072144,
                    0.6123595237731934,
                    0.6039325594902039,
                    0.584269642829895,
                    0.632022500038147,
                    0.617977499961853,
                    0.5955055952072144,
                    0.6151685118675232,
                    0.601123571395874,
                    0.5702247023582458,
                    0.6151685118675232,
                    0.617977499961853,
                    0.617977499961853,
                    0.5983145833015442,
                    0.584269642829895,
                    0.601123571395874,
                    0.6151685118675232,
                    0.632022500038147,
                    0.6235954761505127,
                    0.5814606547355652,
                    0.5926966071128845,
                    0.5870786309242249,
                    0.6067415475845337,
                    0.6151685118675232,
                    0.6039325594902039,
                    0.6376404762268066,
                    0.5870786309242249,
                    0.5617977380752563,
                    0.601123571395874,
                    0.6207864880561829,
                    0.6123595237731934,
                    0.5814606547355652,
                    0.6348314881324768,
                    0.5955055952072144,
                    0.6207864880561829,
                    0.601123571395874,
                    0.6095505356788635,
                    0.5955055952072144,
                    0.5814606547355652,
                    0.6404494643211365,
                    0.6235954761505127,
                    0.6235954761505127,
                    0.6095505356788635,
                    0.6151685118675232,
                    0.6123595237731934,
                    0.6235954761505127,
                    0.584269642829895,
                    0.6264045238494873,
                    0.5926966071128845,
                    0.6432584524154663,
                    0.6095505356788635,
                    0.6264045238494873,
                    0.5983145833015442,
                    0.6151685118675232,
                    0.6235954761505127
                  ]
                },
                {
                  "line": {
                    "width": 1
                  },
                  "mode": "lines+markers",
                  "name": "LSTM",
                  "type": "scatter",
                  "x": [
                    0,
                    1,
                    2,
                    3,
                    4,
                    5,
                    6,
                    7,
                    8,
                    9,
                    10,
                    11,
                    12,
                    13,
                    14,
                    15,
                    16,
                    17,
                    18,
                    19,
                    20,
                    21,
                    22,
                    23,
                    24,
                    25,
                    26,
                    27,
                    28,
                    29,
                    30,
                    31,
                    32,
                    33,
                    34,
                    35,
                    36,
                    37,
                    38,
                    39,
                    40,
                    41,
                    42,
                    43,
                    44,
                    45,
                    46,
                    47,
                    48,
                    49,
                    50,
                    51,
                    52,
                    53,
                    54,
                    55,
                    56,
                    57,
                    58,
                    59,
                    60,
                    61,
                    62,
                    63,
                    64,
                    65,
                    66,
                    67,
                    68,
                    69,
                    70,
                    71,
                    72,
                    73,
                    74,
                    75,
                    76,
                    77,
                    78,
                    79,
                    80,
                    81,
                    82,
                    83,
                    84,
                    85,
                    86,
                    87,
                    88,
                    89,
                    90,
                    91,
                    92,
                    93,
                    94,
                    95,
                    96,
                    97,
                    98,
                    99
                  ],
                  "y": [
                    0.4185393154621124,
                    0.5252808928489685,
                    0.567415714263916,
                    0.5955055952072144,
                    0.6460674405097961,
                    0.6460674405097961,
                    0.6544944047927856,
                    0.6741573214530945,
                    0.648876428604126,
                    0.665730357170105,
                    0.6713483333587646,
                    0.6741573214530945,
                    0.7050561904907227,
                    0.6910112500190735,
                    0.6685393452644348,
                    0.6460674405097961,
                    0.6741573214530945,
                    0.6741573214530945,
                    0.6601123809814453,
                    0.6769663095474243,
                    0.6741573214530945,
                    0.6460674405097961,
                    0.6769663095474243,
                    0.6797752976417542,
                    0.6797752976417542,
                    0.6629213690757751,
                    0.6910112500190735,
                    0.682584285736084,
                    0.6601123809814453,
                    0.6713483333587646,
                    0.6938202381134033,
                    0.6769663095474243,
                    0.6938202381134033,
                    0.6685393452644348,
                    0.699438214302063,
                    0.682584285736084,
                    0.6882022619247437,
                    0.6769663095474243,
                    0.6966292262077332,
                    0.6797752976417542,
                    0.6741573214530945,
                    0.665730357170105,
                    0.6601123809814453,
                    0.6882022619247437,
                    0.665730357170105,
                    0.6769663095474243,
                    0.6741573214530945,
                    0.6966292262077332,
                    0.7050561904907227,
                    0.6713483333587646,
                    0.699438214302063,
                    0.7022472023963928,
                    0.6797752976417542,
                    0.682584285736084,
                    0.6938202381134033,
                    0.6853932738304138,
                    0.6853932738304138,
                    0.6882022619247437,
                    0.6938202381134033,
                    0.6966292262077332,
                    0.6853932738304138,
                    0.6853932738304138,
                    0.6882022619247437,
                    0.7022472023963928,
                    0.699438214302063,
                    0.6966292262077332,
                    0.6910112500190735,
                    0.7050561904907227,
                    0.6966292262077332,
                    0.6797752976417542,
                    0.6938202381134033,
                    0.6713483333587646,
                    0.6938202381134033,
                    0.6938202381134033,
                    0.6853932738304138,
                    0.6882022619247437,
                    0.6685393452644348,
                    0.6741573214530945,
                    0.665730357170105,
                    0.6882022619247437,
                    0.6910112500190735,
                    0.6741573214530945,
                    0.6938202381134033,
                    0.6797752976417542,
                    0.682584285736084,
                    0.6741573214530945,
                    0.6573033928871155,
                    0.6966292262077332,
                    0.6769663095474243,
                    0.699438214302063,
                    0.6882022619247437,
                    0.6713483333587646,
                    0.6910112500190735,
                    0.6853932738304138,
                    0.6938202381134033,
                    0.6882022619247437,
                    0.6882022619247437,
                    0.6769663095474243,
                    0.6910112500190735,
                    0.6853932738304138
                  ]
                },
                {
                  "line": {
                    "width": 1
                  },
                  "mode": "lines+markers",
                  "name": "GRU",
                  "type": "scatter",
                  "x": [
                    0,
                    1,
                    2,
                    3,
                    4,
                    5,
                    6,
                    7,
                    8,
                    9,
                    10,
                    11,
                    12,
                    13,
                    14,
                    15,
                    16,
                    17,
                    18,
                    19,
                    20,
                    21,
                    22,
                    23,
                    24,
                    25,
                    26,
                    27,
                    28,
                    29,
                    30,
                    31,
                    32,
                    33,
                    34,
                    35,
                    36,
                    37,
                    38,
                    39,
                    40,
                    41,
                    42,
                    43,
                    44,
                    45,
                    46,
                    47,
                    48,
                    49,
                    50,
                    51,
                    52,
                    53,
                    54,
                    55,
                    56,
                    57,
                    58,
                    59,
                    60,
                    61,
                    62,
                    63,
                    64,
                    65,
                    66,
                    67,
                    68,
                    69,
                    70,
                    71,
                    72,
                    73,
                    74,
                    75,
                    76,
                    77,
                    78,
                    79,
                    80,
                    81,
                    82,
                    83,
                    84,
                    85,
                    86,
                    87,
                    88,
                    89,
                    90,
                    91,
                    92,
                    93,
                    94,
                    95,
                    96,
                    97,
                    98,
                    99
                  ],
                  "y": [
                    0.3820224702358246,
                    0.5393258333206177,
                    0.584269642829895,
                    0.6207864880561829,
                    0.6404494643211365,
                    0.6713483333587646,
                    0.6713483333587646,
                    0.6910112500190735,
                    0.6797752976417542,
                    0.682584285736084,
                    0.6910112500190735,
                    0.6544944047927856,
                    0.6966292262077332,
                    0.6910112500190735,
                    0.6516854166984558,
                    0.6966292262077332,
                    0.6882022619247437,
                    0.6797752976417542,
                    0.6769663095474243,
                    0.6797752976417542,
                    0.6910112500190735,
                    0.6882022619247437,
                    0.6713483333587646,
                    0.6882022619247437,
                    0.6882022619247437,
                    0.6966292262077332,
                    0.6882022619247437,
                    0.6938202381134033,
                    0.7078651785850525,
                    0.6882022619247437,
                    0.7247191071510315,
                    0.6741573214530945,
                    0.6910112500190735,
                    0.6432584524154663,
                    0.7134831547737122,
                    0.7050561904907227,
                    0.699438214302063,
                    0.7078651785850525,
                    0.6966292262077332,
                    0.6938202381134033,
                    0.7247191071510315,
                    0.699438214302063,
                    0.7078651785850525,
                    0.7022472023963928,
                    0.7050561904907227,
                    0.6938202381134033,
                    0.7050561904907227,
                    0.6853932738304138,
                    0.7022472023963928,
                    0.7022472023963928,
                    0.6910112500190735,
                    0.6853932738304138,
                    0.6938202381134033,
                    0.6853932738304138,
                    0.6938202381134033,
                    0.6853932738304138,
                    0.7078651785850525,
                    0.7050561904907227,
                    0.716292142868042,
                    0.6938202381134033,
                    0.6882022619247437,
                    0.6685393452644348,
                    0.7022472023963928,
                    0.7022472023963928,
                    0.7078651785850525,
                    0.7050561904907227,
                    0.7134831547737122,
                    0.7022472023963928,
                    0.7050561904907227,
                    0.6910112500190735,
                    0.6882022619247437,
                    0.7134831547737122,
                    0.7106741666793823,
                    0.6882022619247437,
                    0.6882022619247437,
                    0.6882022619247437,
                    0.6910112500190735,
                    0.6966292262077332,
                    0.699438214302063,
                    0.7078651785850525,
                    0.7050561904907227,
                    0.7050561904907227,
                    0.6910112500190735,
                    0.6910112500190735,
                    0.6769663095474243,
                    0.6882022619247437,
                    0.6938202381134033,
                    0.682584285736084,
                    0.6882022619247437,
                    0.6685393452644348,
                    0.682584285736084,
                    0.6966292262077332,
                    0.6910112500190735,
                    0.6882022619247437,
                    0.7078651785850525,
                    0.6966292262077332,
                    0.699438214302063,
                    0.7050561904907227,
                    0.7050561904907227,
                    0.699438214302063
                  ]
                }
              ],
              "layout": {
                "autosize": false,
                "margin": {
                  "autoexpand": false,
                  "l": 170,
                  "r": 150,
                  "t": 50
                },
                "plot_bgcolor": "black",
                "template": {
                  "data": {
                    "bar": [
                      {
                        "error_x": {
                          "color": "#2a3f5f"
                        },
                        "error_y": {
                          "color": "#2a3f5f"
                        },
                        "marker": {
                          "line": {
                            "color": "#E5ECF6",
                            "width": 0.5
                          },
                          "pattern": {
                            "fillmode": "overlay",
                            "size": 10,
                            "solidity": 0.2
                          }
                        },
                        "type": "bar"
                      }
                    ],
                    "barpolar": [
                      {
                        "marker": {
                          "line": {
                            "color": "#E5ECF6",
                            "width": 0.5
                          },
                          "pattern": {
                            "fillmode": "overlay",
                            "size": 10,
                            "solidity": 0.2
                          }
                        },
                        "type": "barpolar"
                      }
                    ],
                    "carpet": [
                      {
                        "aaxis": {
                          "endlinecolor": "#2a3f5f",
                          "gridcolor": "white",
                          "linecolor": "white",
                          "minorgridcolor": "white",
                          "startlinecolor": "#2a3f5f"
                        },
                        "baxis": {
                          "endlinecolor": "#2a3f5f",
                          "gridcolor": "white",
                          "linecolor": "white",
                          "minorgridcolor": "white",
                          "startlinecolor": "#2a3f5f"
                        },
                        "type": "carpet"
                      }
                    ],
                    "choropleth": [
                      {
                        "colorbar": {
                          "outlinewidth": 0,
                          "ticks": ""
                        },
                        "type": "choropleth"
                      }
                    ],
                    "contour": [
                      {
                        "colorbar": {
                          "outlinewidth": 0,
                          "ticks": ""
                        },
                        "colorscale": [
                          [
                            0,
                            "#0d0887"
                          ],
                          [
                            0.1111111111111111,
                            "#46039f"
                          ],
                          [
                            0.2222222222222222,
                            "#7201a8"
                          ],
                          [
                            0.3333333333333333,
                            "#9c179e"
                          ],
                          [
                            0.4444444444444444,
                            "#bd3786"
                          ],
                          [
                            0.5555555555555556,
                            "#d8576b"
                          ],
                          [
                            0.6666666666666666,
                            "#ed7953"
                          ],
                          [
                            0.7777777777777778,
                            "#fb9f3a"
                          ],
                          [
                            0.8888888888888888,
                            "#fdca26"
                          ],
                          [
                            1,
                            "#f0f921"
                          ]
                        ],
                        "type": "contour"
                      }
                    ],
                    "contourcarpet": [
                      {
                        "colorbar": {
                          "outlinewidth": 0,
                          "ticks": ""
                        },
                        "type": "contourcarpet"
                      }
                    ],
                    "heatmap": [
                      {
                        "colorbar": {
                          "outlinewidth": 0,
                          "ticks": ""
                        },
                        "colorscale": [
                          [
                            0,
                            "#0d0887"
                          ],
                          [
                            0.1111111111111111,
                            "#46039f"
                          ],
                          [
                            0.2222222222222222,
                            "#7201a8"
                          ],
                          [
                            0.3333333333333333,
                            "#9c179e"
                          ],
                          [
                            0.4444444444444444,
                            "#bd3786"
                          ],
                          [
                            0.5555555555555556,
                            "#d8576b"
                          ],
                          [
                            0.6666666666666666,
                            "#ed7953"
                          ],
                          [
                            0.7777777777777778,
                            "#fb9f3a"
                          ],
                          [
                            0.8888888888888888,
                            "#fdca26"
                          ],
                          [
                            1,
                            "#f0f921"
                          ]
                        ],
                        "type": "heatmap"
                      }
                    ],
                    "heatmapgl": [
                      {
                        "colorbar": {
                          "outlinewidth": 0,
                          "ticks": ""
                        },
                        "colorscale": [
                          [
                            0,
                            "#0d0887"
                          ],
                          [
                            0.1111111111111111,
                            "#46039f"
                          ],
                          [
                            0.2222222222222222,
                            "#7201a8"
                          ],
                          [
                            0.3333333333333333,
                            "#9c179e"
                          ],
                          [
                            0.4444444444444444,
                            "#bd3786"
                          ],
                          [
                            0.5555555555555556,
                            "#d8576b"
                          ],
                          [
                            0.6666666666666666,
                            "#ed7953"
                          ],
                          [
                            0.7777777777777778,
                            "#fb9f3a"
                          ],
                          [
                            0.8888888888888888,
                            "#fdca26"
                          ],
                          [
                            1,
                            "#f0f921"
                          ]
                        ],
                        "type": "heatmapgl"
                      }
                    ],
                    "histogram": [
                      {
                        "marker": {
                          "pattern": {
                            "fillmode": "overlay",
                            "size": 10,
                            "solidity": 0.2
                          }
                        },
                        "type": "histogram"
                      }
                    ],
                    "histogram2d": [
                      {
                        "colorbar": {
                          "outlinewidth": 0,
                          "ticks": ""
                        },
                        "colorscale": [
                          [
                            0,
                            "#0d0887"
                          ],
                          [
                            0.1111111111111111,
                            "#46039f"
                          ],
                          [
                            0.2222222222222222,
                            "#7201a8"
                          ],
                          [
                            0.3333333333333333,
                            "#9c179e"
                          ],
                          [
                            0.4444444444444444,
                            "#bd3786"
                          ],
                          [
                            0.5555555555555556,
                            "#d8576b"
                          ],
                          [
                            0.6666666666666666,
                            "#ed7953"
                          ],
                          [
                            0.7777777777777778,
                            "#fb9f3a"
                          ],
                          [
                            0.8888888888888888,
                            "#fdca26"
                          ],
                          [
                            1,
                            "#f0f921"
                          ]
                        ],
                        "type": "histogram2d"
                      }
                    ],
                    "histogram2dcontour": [
                      {
                        "colorbar": {
                          "outlinewidth": 0,
                          "ticks": ""
                        },
                        "colorscale": [
                          [
                            0,
                            "#0d0887"
                          ],
                          [
                            0.1111111111111111,
                            "#46039f"
                          ],
                          [
                            0.2222222222222222,
                            "#7201a8"
                          ],
                          [
                            0.3333333333333333,
                            "#9c179e"
                          ],
                          [
                            0.4444444444444444,
                            "#bd3786"
                          ],
                          [
                            0.5555555555555556,
                            "#d8576b"
                          ],
                          [
                            0.6666666666666666,
                            "#ed7953"
                          ],
                          [
                            0.7777777777777778,
                            "#fb9f3a"
                          ],
                          [
                            0.8888888888888888,
                            "#fdca26"
                          ],
                          [
                            1,
                            "#f0f921"
                          ]
                        ],
                        "type": "histogram2dcontour"
                      }
                    ],
                    "mesh3d": [
                      {
                        "colorbar": {
                          "outlinewidth": 0,
                          "ticks": ""
                        },
                        "type": "mesh3d"
                      }
                    ],
                    "parcoords": [
                      {
                        "line": {
                          "colorbar": {
                            "outlinewidth": 0,
                            "ticks": ""
                          }
                        },
                        "type": "parcoords"
                      }
                    ],
                    "pie": [
                      {
                        "automargin": true,
                        "type": "pie"
                      }
                    ],
                    "scatter": [
                      {
                        "marker": {
                          "colorbar": {
                            "outlinewidth": 0,
                            "ticks": ""
                          }
                        },
                        "type": "scatter"
                      }
                    ],
                    "scatter3d": [
                      {
                        "line": {
                          "colorbar": {
                            "outlinewidth": 0,
                            "ticks": ""
                          }
                        },
                        "marker": {
                          "colorbar": {
                            "outlinewidth": 0,
                            "ticks": ""
                          }
                        },
                        "type": "scatter3d"
                      }
                    ],
                    "scattercarpet": [
                      {
                        "marker": {
                          "colorbar": {
                            "outlinewidth": 0,
                            "ticks": ""
                          }
                        },
                        "type": "scattercarpet"
                      }
                    ],
                    "scattergeo": [
                      {
                        "marker": {
                          "colorbar": {
                            "outlinewidth": 0,
                            "ticks": ""
                          }
                        },
                        "type": "scattergeo"
                      }
                    ],
                    "scattergl": [
                      {
                        "marker": {
                          "colorbar": {
                            "outlinewidth": 0,
                            "ticks": ""
                          }
                        },
                        "type": "scattergl"
                      }
                    ],
                    "scattermapbox": [
                      {
                        "marker": {
                          "colorbar": {
                            "outlinewidth": 0,
                            "ticks": ""
                          }
                        },
                        "type": "scattermapbox"
                      }
                    ],
                    "scatterpolar": [
                      {
                        "marker": {
                          "colorbar": {
                            "outlinewidth": 0,
                            "ticks": ""
                          }
                        },
                        "type": "scatterpolar"
                      }
                    ],
                    "scatterpolargl": [
                      {
                        "marker": {
                          "colorbar": {
                            "outlinewidth": 0,
                            "ticks": ""
                          }
                        },
                        "type": "scatterpolargl"
                      }
                    ],
                    "scatterternary": [
                      {
                        "marker": {
                          "colorbar": {
                            "outlinewidth": 0,
                            "ticks": ""
                          }
                        },
                        "type": "scatterternary"
                      }
                    ],
                    "surface": [
                      {
                        "colorbar": {
                          "outlinewidth": 0,
                          "ticks": ""
                        },
                        "colorscale": [
                          [
                            0,
                            "#0d0887"
                          ],
                          [
                            0.1111111111111111,
                            "#46039f"
                          ],
                          [
                            0.2222222222222222,
                            "#7201a8"
                          ],
                          [
                            0.3333333333333333,
                            "#9c179e"
                          ],
                          [
                            0.4444444444444444,
                            "#bd3786"
                          ],
                          [
                            0.5555555555555556,
                            "#d8576b"
                          ],
                          [
                            0.6666666666666666,
                            "#ed7953"
                          ],
                          [
                            0.7777777777777778,
                            "#fb9f3a"
                          ],
                          [
                            0.8888888888888888,
                            "#fdca26"
                          ],
                          [
                            1,
                            "#f0f921"
                          ]
                        ],
                        "type": "surface"
                      }
                    ],
                    "table": [
                      {
                        "cells": {
                          "fill": {
                            "color": "#EBF0F8"
                          },
                          "line": {
                            "color": "white"
                          }
                        },
                        "header": {
                          "fill": {
                            "color": "#C8D4E3"
                          },
                          "line": {
                            "color": "white"
                          }
                        },
                        "type": "table"
                      }
                    ]
                  },
                  "layout": {
                    "annotationdefaults": {
                      "arrowcolor": "#2a3f5f",
                      "arrowhead": 0,
                      "arrowwidth": 1
                    },
                    "autotypenumbers": "strict",
                    "coloraxis": {
                      "colorbar": {
                        "outlinewidth": 0,
                        "ticks": ""
                      }
                    },
                    "colorscale": {
                      "diverging": [
                        [
                          0,
                          "#8e0152"
                        ],
                        [
                          0.1,
                          "#c51b7d"
                        ],
                        [
                          0.2,
                          "#de77ae"
                        ],
                        [
                          0.3,
                          "#f1b6da"
                        ],
                        [
                          0.4,
                          "#fde0ef"
                        ],
                        [
                          0.5,
                          "#f7f7f7"
                        ],
                        [
                          0.6,
                          "#e6f5d0"
                        ],
                        [
                          0.7,
                          "#b8e186"
                        ],
                        [
                          0.8,
                          "#7fbc41"
                        ],
                        [
                          0.9,
                          "#4d9221"
                        ],
                        [
                          1,
                          "#276419"
                        ]
                      ],
                      "sequential": [
                        [
                          0,
                          "#0d0887"
                        ],
                        [
                          0.1111111111111111,
                          "#46039f"
                        ],
                        [
                          0.2222222222222222,
                          "#7201a8"
                        ],
                        [
                          0.3333333333333333,
                          "#9c179e"
                        ],
                        [
                          0.4444444444444444,
                          "#bd3786"
                        ],
                        [
                          0.5555555555555556,
                          "#d8576b"
                        ],
                        [
                          0.6666666666666666,
                          "#ed7953"
                        ],
                        [
                          0.7777777777777778,
                          "#fb9f3a"
                        ],
                        [
                          0.8888888888888888,
                          "#fdca26"
                        ],
                        [
                          1,
                          "#f0f921"
                        ]
                      ],
                      "sequentialminus": [
                        [
                          0,
                          "#0d0887"
                        ],
                        [
                          0.1111111111111111,
                          "#46039f"
                        ],
                        [
                          0.2222222222222222,
                          "#7201a8"
                        ],
                        [
                          0.3333333333333333,
                          "#9c179e"
                        ],
                        [
                          0.4444444444444444,
                          "#bd3786"
                        ],
                        [
                          0.5555555555555556,
                          "#d8576b"
                        ],
                        [
                          0.6666666666666666,
                          "#ed7953"
                        ],
                        [
                          0.7777777777777778,
                          "#fb9f3a"
                        ],
                        [
                          0.8888888888888888,
                          "#fdca26"
                        ],
                        [
                          1,
                          "#f0f921"
                        ]
                      ]
                    },
                    "colorway": [
                      "#636efa",
                      "#EF553B",
                      "#00cc96",
                      "#ab63fa",
                      "#FFA15A",
                      "#19d3f3",
                      "#FF6692",
                      "#B6E880",
                      "#FF97FF",
                      "#FECB52"
                    ],
                    "font": {
                      "color": "#2a3f5f"
                    },
                    "geo": {
                      "bgcolor": "white",
                      "lakecolor": "white",
                      "landcolor": "#E5ECF6",
                      "showlakes": true,
                      "showland": true,
                      "subunitcolor": "white"
                    },
                    "hoverlabel": {
                      "align": "left"
                    },
                    "hovermode": "closest",
                    "mapbox": {
                      "style": "light"
                    },
                    "paper_bgcolor": "white",
                    "plot_bgcolor": "#E5ECF6",
                    "polar": {
                      "angularaxis": {
                        "gridcolor": "white",
                        "linecolor": "white",
                        "ticks": ""
                      },
                      "bgcolor": "#E5ECF6",
                      "radialaxis": {
                        "gridcolor": "white",
                        "linecolor": "white",
                        "ticks": ""
                      }
                    },
                    "scene": {
                      "xaxis": {
                        "backgroundcolor": "#E5ECF6",
                        "gridcolor": "white",
                        "gridwidth": 2,
                        "linecolor": "white",
                        "showbackground": true,
                        "ticks": "",
                        "zerolinecolor": "white"
                      },
                      "yaxis": {
                        "backgroundcolor": "#E5ECF6",
                        "gridcolor": "white",
                        "gridwidth": 2,
                        "linecolor": "white",
                        "showbackground": true,
                        "ticks": "",
                        "zerolinecolor": "white"
                      },
                      "zaxis": {
                        "backgroundcolor": "#E5ECF6",
                        "gridcolor": "white",
                        "gridwidth": 2,
                        "linecolor": "white",
                        "showbackground": true,
                        "ticks": "",
                        "zerolinecolor": "white"
                      }
                    },
                    "shapedefaults": {
                      "line": {
                        "color": "#2a3f5f"
                      }
                    },
                    "ternary": {
                      "aaxis": {
                        "gridcolor": "white",
                        "linecolor": "white",
                        "ticks": ""
                      },
                      "baxis": {
                        "gridcolor": "white",
                        "linecolor": "white",
                        "ticks": ""
                      },
                      "bgcolor": "#E5ECF6",
                      "caxis": {
                        "gridcolor": "white",
                        "linecolor": "white",
                        "ticks": ""
                      }
                    },
                    "title": {
                      "x": 0.05
                    },
                    "xaxis": {
                      "automargin": true,
                      "gridcolor": "white",
                      "linecolor": "white",
                      "ticks": "",
                      "title": {
                        "standoff": 15
                      },
                      "zerolinecolor": "white",
                      "zerolinewidth": 2
                    },
                    "yaxis": {
                      "automargin": true,
                      "gridcolor": "white",
                      "linecolor": "white",
                      "ticks": "",
                      "title": {
                        "standoff": 15
                      },
                      "zerolinecolor": "white",
                      "zerolinewidth": 2
                    }
                  }
                },
                "xaxis": {
                  "showgrid": true,
                  "showline": true,
                  "showticklabels": true,
                  "title": {
                    "text": "Epoch"
                  }
                },
                "yaxis": {
                  "showgrid": true,
                  "showline": true,
                  "showticklabels": true,
                  "title": {
                    "text": "Validation Accuracy"
                  },
                  "zeroline": true
                }
              }
            }
          },
          "metadata": {},
          "output_type": "display_data"
        }
      ],
      "source": [
        "x = [0, 1, 2, 3, 4, 5, 6, 7, 8, 9, 10, 11, 12, 13, 14, 15, 16, 17, 18, 19, 20, 21, 22, 23, 24, 25, 26, 27, 28, 29, 30, 31, 32, 33, 34, 35, 36, 37, 38, 39, 40, 41, 42, 43, 44, 45, 46, 47, 48, 49, 50, 51, 52, 53, 54, 55, 56, 57, 58, 59, 60, 61, 62, 63, 64, 65, 66, 67, 68, 69, 70, 71, 72, 73, 74, 75, 76, 77, 78, 79, 80, 81, 82, 83, 84, 85, 86, 87, 88, 89, 90, 91, 92, 93, 94, 95, 96, 97, 98, 99]\n",
        "RNN = [0.30337077379226685, 0.483146071434021, 0.5421348214149475, 0.584269642829895, 0.5786516666412354, 0.5814606547355652, 0.5955055952072144, 0.601123571395874, 0.6235954761505127, 0.5898876190185547, 0.6151685118675232, 0.617977499961853, 0.5870786309242249, 0.6039325594902039, 0.6123595237731934, 0.6207864880561829, 0.6123595237731934, 0.6207864880561829, 0.6095505356788635, 0.601123571395874, 0.5646067261695862, 0.6123595237731934, 0.617977499961853, 0.6264045238494873, 0.601123571395874, 0.6264045238494873, 0.5870786309242249, 0.6123595237731934, 0.617977499961853, 0.6123595237731934, 0.6376404762268066, 0.6376404762268066, 0.6460674405097961, 0.6207864880561829, 0.6264045238494873, 0.6039325594902039, 0.6095505356788635, 0.6432584524154663, 0.6123595237731934, 0.6095505356788635, 0.6292135119438171, 0.6264045238494873, 0.5926966071128845, 0.6151685118675232, 0.5449438095092773, 0.5955055952072144, 0.6123595237731934, 0.6039325594902039, 0.584269642829895, 0.632022500038147, 0.617977499961853, 0.5955055952072144, 0.6151685118675232, 0.601123571395874, 0.5702247023582458, 0.6151685118675232, 0.617977499961853, 0.617977499961853, 0.5983145833015442, 0.584269642829895, 0.601123571395874, 0.6151685118675232, 0.632022500038147, 0.6235954761505127, 0.5814606547355652, 0.5926966071128845, 0.5870786309242249, 0.6067415475845337, 0.6151685118675232, 0.6039325594902039, 0.6376404762268066, 0.5870786309242249, 0.5617977380752563, 0.601123571395874, 0.6207864880561829, 0.6123595237731934, 0.5814606547355652, 0.6348314881324768, 0.5955055952072144, 0.6207864880561829, 0.601123571395874, 0.6095505356788635, 0.5955055952072144, 0.5814606547355652, 0.6404494643211365, 0.6235954761505127, 0.6235954761505127, 0.6095505356788635, 0.6151685118675232, 0.6123595237731934, 0.6235954761505127, 0.584269642829895, 0.6264045238494873, 0.5926966071128845, 0.6432584524154663, 0.6095505356788635, 0.6264045238494873, 0.5983145833015442, 0.6151685118675232, 0.6235954761505127]\n",
        "LSTM = [0.4185393154621124, 0.5252808928489685, 0.567415714263916, 0.5955055952072144, 0.6460674405097961, 0.6460674405097961, 0.6544944047927856, 0.6741573214530945, 0.648876428604126, 0.665730357170105, 0.6713483333587646, 0.6741573214530945, 0.7050561904907227, 0.6910112500190735, 0.6685393452644348, 0.6460674405097961, 0.6741573214530945, 0.6741573214530945, 0.6601123809814453, 0.6769663095474243, 0.6741573214530945, 0.6460674405097961, 0.6769663095474243, 0.6797752976417542, 0.6797752976417542, 0.6629213690757751, 0.6910112500190735, 0.682584285736084, 0.6601123809814453, 0.6713483333587646, 0.6938202381134033, 0.6769663095474243, 0.6938202381134033, 0.6685393452644348, 0.699438214302063, 0.682584285736084, 0.6882022619247437, 0.6769663095474243, 0.6966292262077332, 0.6797752976417542, 0.6741573214530945, 0.665730357170105, 0.6601123809814453, 0.6882022619247437, 0.665730357170105, 0.6769663095474243, 0.6741573214530945, 0.6966292262077332, 0.7050561904907227, 0.6713483333587646, 0.699438214302063, 0.7022472023963928, 0.6797752976417542, 0.682584285736084, 0.6938202381134033, 0.6853932738304138, 0.6853932738304138, 0.6882022619247437, 0.6938202381134033, 0.6966292262077332, 0.6853932738304138, 0.6853932738304138, 0.6882022619247437, 0.7022472023963928, 0.699438214302063, 0.6966292262077332, 0.6910112500190735, 0.7050561904907227, 0.6966292262077332, 0.6797752976417542, 0.6938202381134033, 0.6713483333587646, 0.6938202381134033, 0.6938202381134033, 0.6853932738304138, 0.6882022619247437, 0.6685393452644348, 0.6741573214530945, 0.665730357170105, 0.6882022619247437, 0.6910112500190735, 0.6741573214530945, 0.6938202381134033, 0.6797752976417542, 0.682584285736084, 0.6741573214530945, 0.6573033928871155, 0.6966292262077332, 0.6769663095474243, 0.699438214302063, 0.6882022619247437, 0.6713483333587646, 0.6910112500190735, 0.6853932738304138, 0.6938202381134033, 0.6882022619247437, 0.6882022619247437, 0.6769663095474243, 0.6910112500190735, 0.6853932738304138]\n",
        "GRU = [0.3820224702358246, 0.5393258333206177, 0.584269642829895, 0.6207864880561829, 0.6404494643211365, 0.6713483333587646, 0.6713483333587646, 0.6910112500190735, 0.6797752976417542, 0.682584285736084, 0.6910112500190735, 0.6544944047927856, 0.6966292262077332, 0.6910112500190735, 0.6516854166984558, 0.6966292262077332, 0.6882022619247437, 0.6797752976417542, 0.6769663095474243, 0.6797752976417542, 0.6910112500190735, 0.6882022619247437, 0.6713483333587646, 0.6882022619247437, 0.6882022619247437, 0.6966292262077332, 0.6882022619247437, 0.6938202381134033, 0.7078651785850525, 0.6882022619247437, 0.7247191071510315, 0.6741573214530945, 0.6910112500190735, 0.6432584524154663, 0.7134831547737122, 0.7050561904907227, 0.699438214302063, 0.7078651785850525, 0.6966292262077332, 0.6938202381134033, 0.7247191071510315, 0.699438214302063, 0.7078651785850525, 0.7022472023963928, 0.7050561904907227, 0.6938202381134033, 0.7050561904907227, 0.6853932738304138, 0.7022472023963928, 0.7022472023963928, 0.6910112500190735, 0.6853932738304138, 0.6938202381134033, 0.6853932738304138, 0.6938202381134033, 0.6853932738304138, 0.7078651785850525, 0.7050561904907227, 0.716292142868042, 0.6938202381134033, 0.6882022619247437, 0.6685393452644348, 0.7022472023963928, 0.7022472023963928, 0.7078651785850525, 0.7050561904907227, 0.7134831547737122, 0.7022472023963928, 0.7050561904907227, 0.6910112500190735, 0.6882022619247437, 0.7134831547737122, 0.7106741666793823, 0.6882022619247437, 0.6882022619247437, 0.6882022619247437, 0.6910112500190735, 0.6966292262077332, 0.699438214302063, 0.7078651785850525, 0.7050561904907227, 0.7050561904907227, 0.6910112500190735, 0.6910112500190735, 0.6769663095474243, 0.6882022619247437, 0.6938202381134033, 0.682584285736084, 0.6882022619247437, 0.6685393452644348, 0.682584285736084, 0.6966292262077332, 0.6910112500190735, 0.6882022619247437, 0.7078651785850525, 0.6966292262077332, 0.699438214302063, 0.7050561904907227, 0.7050561904907227, 0.699438214302063]\n",
        "\n",
        "random_x = x\n",
        "random_y0 = RNN\n",
        "random_y1 = LSTM\n",
        "random_y2 = GRU\n",
        "\n",
        "fig = go.Figure()\n",
        "fig.add_trace(go.Scatter(x=random_x, y=random_y0, line = dict(width=1), \n",
        "                    mode='lines+markers', name='RNN'))\n",
        "fig.add_trace(go.Scatter(x=random_x, y=random_y1, line = dict(width=1),\n",
        "                    mode='lines+markers', name='LSTM'))\n",
        "fig.add_trace(go.Scatter(x=random_x, y=random_y2, line = dict(width=1),\n",
        "                    mode='lines+markers', name='GRU'))\n",
        "\n",
        "fig.update_layout(  xaxis_title='Epoch', yaxis_title='Validation Accuracy', \n",
        "                    xaxis=dict(showline=True, showgrid=True, showticklabels=True), \n",
        "                    yaxis=dict(showgrid=True, zeroline=True, showline=True, showticklabels=True), \n",
        "                    autosize=False,\n",
        "                    margin=dict(autoexpand=False,l=170,r=150,t=50,),plot_bgcolor='black')\n",
        "fig.show()"
      ]
    },
    {
      "cell_type": "code",
      "execution_count": 22,
      "metadata": {},
      "outputs": [],
      "source": [
        "def plot_favorite(x, RNN, LSTM, GRU):\n",
        "    random_x = x\n",
        "    random_y0 = RNN\n",
        "    random_y1 = LSTM\n",
        "    random_y2 = GRU\n",
        "\n",
        "    fig = go.Figure()\n",
        "    fig.add_trace(go.Scatter(x=random_x, y=random_y0, line = dict(width=1), \n",
        "                        mode='lines+markers', name='RNN'))\n",
        "    fig.add_trace(go.Scatter(x=random_x, y=random_y1, line = dict(width=1),\n",
        "                        mode='lines+markers', name='LSTM'))\n",
        "    fig.add_trace(go.Scatter(x=random_x, y=random_y2, line = dict(width=1),\n",
        "                        mode='lines+markers', name='GRU'))\n",
        "\n",
        "    fig.update_layout(  xaxis_title='Epoch', yaxis_title='Validation Accuracy', \n",
        "                        xaxis=dict(showline=True, showgrid=True, showticklabels=True), \n",
        "                        yaxis=dict(showgrid=True, zeroline=True, showline=True, showticklabels=True), \n",
        "                        autosize=False,\n",
        "                        margin=dict(autoexpand=False,l=170,r=150,t=50,),plot_bgcolor='black')\n",
        "    fig.show()"
      ]
    },
    {
      "cell_type": "code",
      "execution_count": 23,
      "metadata": {},
      "outputs": [
        {
          "data": {
            "application/vnd.plotly.v1+json": {
              "config": {
                "plotlyServerURL": "https://plot.ly"
              },
              "data": [
                {
                  "line": {
                    "width": 1
                  },
                  "mode": "lines+markers",
                  "name": "RNN",
                  "type": "scatter",
                  "x": [
                    0,
                    1,
                    2,
                    3,
                    4,
                    5,
                    6,
                    7,
                    8,
                    9,
                    10,
                    11,
                    12,
                    13,
                    14,
                    15,
                    16,
                    17,
                    18,
                    19,
                    20,
                    21,
                    22,
                    23,
                    24,
                    25,
                    26,
                    27,
                    28,
                    29,
                    30,
                    31,
                    32,
                    33,
                    34,
                    35,
                    36,
                    37,
                    38,
                    39,
                    40,
                    41,
                    42,
                    43,
                    44,
                    45,
                    46,
                    47,
                    48,
                    49,
                    50,
                    51,
                    52,
                    53,
                    54,
                    55,
                    56,
                    57,
                    58,
                    59,
                    60,
                    61,
                    62,
                    63,
                    64,
                    65,
                    66,
                    67,
                    68,
                    69,
                    70,
                    71,
                    72,
                    73,
                    74,
                    75,
                    76,
                    77,
                    78,
                    79,
                    80,
                    81,
                    82,
                    83,
                    84,
                    85,
                    86,
                    87,
                    88,
                    89,
                    90,
                    91,
                    92,
                    93,
                    94,
                    95,
                    96,
                    97,
                    98,
                    99
                  ],
                  "y": [
                    0.30337077379226685,
                    0.483146071434021,
                    0.5421348214149475,
                    0.584269642829895,
                    0.5786516666412354,
                    0.5814606547355652,
                    0.5955055952072144,
                    0.601123571395874,
                    0.6235954761505127,
                    0.5898876190185547,
                    0.6151685118675232,
                    0.617977499961853,
                    0.5870786309242249,
                    0.6039325594902039,
                    0.6123595237731934,
                    0.6207864880561829,
                    0.6123595237731934,
                    0.6207864880561829,
                    0.6095505356788635,
                    0.601123571395874,
                    0.5646067261695862,
                    0.6123595237731934,
                    0.617977499961853,
                    0.6264045238494873,
                    0.601123571395874,
                    0.6264045238494873,
                    0.5870786309242249,
                    0.6123595237731934,
                    0.617977499961853,
                    0.6123595237731934,
                    0.6376404762268066,
                    0.6376404762268066,
                    0.6460674405097961,
                    0.6207864880561829,
                    0.6264045238494873,
                    0.6039325594902039,
                    0.6095505356788635,
                    0.6432584524154663,
                    0.6123595237731934,
                    0.6095505356788635,
                    0.6292135119438171,
                    0.6264045238494873,
                    0.5926966071128845,
                    0.6151685118675232,
                    0.5449438095092773,
                    0.5955055952072144,
                    0.6123595237731934,
                    0.6039325594902039,
                    0.584269642829895,
                    0.632022500038147,
                    0.617977499961853,
                    0.5955055952072144,
                    0.6151685118675232,
                    0.601123571395874,
                    0.5702247023582458,
                    0.6151685118675232,
                    0.617977499961853,
                    0.617977499961853,
                    0.5983145833015442,
                    0.584269642829895,
                    0.601123571395874,
                    0.6151685118675232,
                    0.632022500038147,
                    0.6235954761505127,
                    0.5814606547355652,
                    0.5926966071128845,
                    0.5870786309242249,
                    0.6067415475845337,
                    0.6151685118675232,
                    0.6039325594902039,
                    0.6376404762268066,
                    0.5870786309242249,
                    0.5617977380752563,
                    0.601123571395874,
                    0.6207864880561829,
                    0.6123595237731934,
                    0.5814606547355652,
                    0.6348314881324768,
                    0.5955055952072144,
                    0.6207864880561829,
                    0.601123571395874,
                    0.6095505356788635,
                    0.5955055952072144,
                    0.5814606547355652,
                    0.6404494643211365,
                    0.6235954761505127,
                    0.6235954761505127,
                    0.6095505356788635,
                    0.6151685118675232,
                    0.6123595237731934,
                    0.6235954761505127,
                    0.584269642829895,
                    0.6264045238494873,
                    0.5926966071128845,
                    0.6432584524154663,
                    0.6095505356788635,
                    0.6264045238494873,
                    0.5983145833015442,
                    0.6151685118675232,
                    0.6235954761505127
                  ]
                },
                {
                  "line": {
                    "width": 1
                  },
                  "mode": "lines+markers",
                  "name": "LSTM",
                  "type": "scatter",
                  "x": [
                    0,
                    1,
                    2,
                    3,
                    4,
                    5,
                    6,
                    7,
                    8,
                    9,
                    10,
                    11,
                    12,
                    13,
                    14,
                    15,
                    16,
                    17,
                    18,
                    19,
                    20,
                    21,
                    22,
                    23,
                    24,
                    25,
                    26,
                    27,
                    28,
                    29,
                    30,
                    31,
                    32,
                    33,
                    34,
                    35,
                    36,
                    37,
                    38,
                    39,
                    40,
                    41,
                    42,
                    43,
                    44,
                    45,
                    46,
                    47,
                    48,
                    49,
                    50,
                    51,
                    52,
                    53,
                    54,
                    55,
                    56,
                    57,
                    58,
                    59,
                    60,
                    61,
                    62,
                    63,
                    64,
                    65,
                    66,
                    67,
                    68,
                    69,
                    70,
                    71,
                    72,
                    73,
                    74,
                    75,
                    76,
                    77,
                    78,
                    79,
                    80,
                    81,
                    82,
                    83,
                    84,
                    85,
                    86,
                    87,
                    88,
                    89,
                    90,
                    91,
                    92,
                    93,
                    94,
                    95,
                    96,
                    97,
                    98,
                    99
                  ],
                  "y": [
                    0.4185393154621124,
                    0.5252808928489685,
                    0.567415714263916,
                    0.5955055952072144,
                    0.6460674405097961,
                    0.6460674405097961,
                    0.6544944047927856,
                    0.6741573214530945,
                    0.648876428604126,
                    0.665730357170105,
                    0.6713483333587646,
                    0.6741573214530945,
                    0.7050561904907227,
                    0.6910112500190735,
                    0.6685393452644348,
                    0.6460674405097961,
                    0.6741573214530945,
                    0.6741573214530945,
                    0.6601123809814453,
                    0.6769663095474243,
                    0.6741573214530945,
                    0.6460674405097961,
                    0.6769663095474243,
                    0.6797752976417542,
                    0.6797752976417542,
                    0.6629213690757751,
                    0.6910112500190735,
                    0.682584285736084,
                    0.6601123809814453,
                    0.6713483333587646,
                    0.6938202381134033,
                    0.6769663095474243,
                    0.6938202381134033,
                    0.6685393452644348,
                    0.699438214302063,
                    0.682584285736084,
                    0.6882022619247437,
                    0.6769663095474243,
                    0.6966292262077332,
                    0.6797752976417542,
                    0.6741573214530945,
                    0.665730357170105,
                    0.6601123809814453,
                    0.6882022619247437,
                    0.665730357170105,
                    0.6769663095474243,
                    0.6741573214530945,
                    0.6966292262077332,
                    0.7050561904907227,
                    0.6713483333587646,
                    0.699438214302063,
                    0.7022472023963928,
                    0.6797752976417542,
                    0.682584285736084,
                    0.6938202381134033,
                    0.6853932738304138,
                    0.6853932738304138,
                    0.6882022619247437,
                    0.6938202381134033,
                    0.6966292262077332,
                    0.6853932738304138,
                    0.6853932738304138,
                    0.6882022619247437,
                    0.7022472023963928,
                    0.699438214302063,
                    0.6966292262077332,
                    0.6910112500190735,
                    0.7050561904907227,
                    0.6966292262077332,
                    0.6797752976417542,
                    0.6938202381134033,
                    0.6713483333587646,
                    0.6938202381134033,
                    0.6938202381134033,
                    0.6853932738304138,
                    0.6882022619247437,
                    0.6685393452644348,
                    0.6741573214530945,
                    0.665730357170105,
                    0.6882022619247437,
                    0.6910112500190735,
                    0.6741573214530945,
                    0.6938202381134033,
                    0.6797752976417542,
                    0.682584285736084,
                    0.6741573214530945,
                    0.6573033928871155,
                    0.6966292262077332,
                    0.6769663095474243,
                    0.699438214302063,
                    0.6882022619247437,
                    0.6713483333587646,
                    0.6910112500190735,
                    0.6853932738304138,
                    0.6938202381134033,
                    0.6882022619247437,
                    0.6882022619247437,
                    0.6769663095474243,
                    0.6910112500190735,
                    0.6853932738304138
                  ]
                },
                {
                  "line": {
                    "width": 1
                  },
                  "mode": "lines+markers",
                  "name": "GRU",
                  "type": "scatter",
                  "x": [
                    0,
                    1,
                    2,
                    3,
                    4,
                    5,
                    6,
                    7,
                    8,
                    9,
                    10,
                    11,
                    12,
                    13,
                    14,
                    15,
                    16,
                    17,
                    18,
                    19,
                    20,
                    21,
                    22,
                    23,
                    24,
                    25,
                    26,
                    27,
                    28,
                    29,
                    30,
                    31,
                    32,
                    33,
                    34,
                    35,
                    36,
                    37,
                    38,
                    39,
                    40,
                    41,
                    42,
                    43,
                    44,
                    45,
                    46,
                    47,
                    48,
                    49,
                    50,
                    51,
                    52,
                    53,
                    54,
                    55,
                    56,
                    57,
                    58,
                    59,
                    60,
                    61,
                    62,
                    63,
                    64,
                    65,
                    66,
                    67,
                    68,
                    69,
                    70,
                    71,
                    72,
                    73,
                    74,
                    75,
                    76,
                    77,
                    78,
                    79,
                    80,
                    81,
                    82,
                    83,
                    84,
                    85,
                    86,
                    87,
                    88,
                    89,
                    90,
                    91,
                    92,
                    93,
                    94,
                    95,
                    96,
                    97,
                    98,
                    99
                  ],
                  "y": [
                    0.3820224702358246,
                    0.5393258333206177,
                    0.584269642829895,
                    0.6207864880561829,
                    0.6404494643211365,
                    0.6713483333587646,
                    0.6713483333587646,
                    0.6910112500190735,
                    0.6797752976417542,
                    0.682584285736084,
                    0.6910112500190735,
                    0.6544944047927856,
                    0.6966292262077332,
                    0.6910112500190735,
                    0.6516854166984558,
                    0.6966292262077332,
                    0.6882022619247437,
                    0.6797752976417542,
                    0.6769663095474243,
                    0.6797752976417542,
                    0.6910112500190735,
                    0.6882022619247437,
                    0.6713483333587646,
                    0.6882022619247437,
                    0.6882022619247437,
                    0.6966292262077332,
                    0.6882022619247437,
                    0.6938202381134033,
                    0.7078651785850525,
                    0.6882022619247437,
                    0.7247191071510315,
                    0.6741573214530945,
                    0.6910112500190735,
                    0.6432584524154663,
                    0.7134831547737122,
                    0.7050561904907227,
                    0.699438214302063,
                    0.7078651785850525,
                    0.6966292262077332,
                    0.6938202381134033,
                    0.7247191071510315,
                    0.699438214302063,
                    0.7078651785850525,
                    0.7022472023963928,
                    0.7050561904907227,
                    0.6938202381134033,
                    0.7050561904907227,
                    0.6853932738304138,
                    0.7022472023963928,
                    0.7022472023963928,
                    0.6910112500190735,
                    0.6853932738304138,
                    0.6938202381134033,
                    0.6853932738304138,
                    0.6938202381134033,
                    0.6853932738304138,
                    0.7078651785850525,
                    0.7050561904907227,
                    0.716292142868042,
                    0.6938202381134033,
                    0.6882022619247437,
                    0.6685393452644348,
                    0.7022472023963928,
                    0.7022472023963928,
                    0.7078651785850525,
                    0.7050561904907227,
                    0.7134831547737122,
                    0.7022472023963928,
                    0.7050561904907227,
                    0.6910112500190735,
                    0.6882022619247437,
                    0.7134831547737122,
                    0.7106741666793823,
                    0.6882022619247437,
                    0.6882022619247437,
                    0.6882022619247437,
                    0.6910112500190735,
                    0.6966292262077332,
                    0.699438214302063,
                    0.7078651785850525,
                    0.7050561904907227,
                    0.7050561904907227,
                    0.6910112500190735,
                    0.6910112500190735,
                    0.6769663095474243,
                    0.6882022619247437,
                    0.6938202381134033,
                    0.682584285736084,
                    0.6882022619247437,
                    0.6685393452644348,
                    0.682584285736084,
                    0.6966292262077332,
                    0.6910112500190735,
                    0.6882022619247437,
                    0.7078651785850525,
                    0.6966292262077332,
                    0.699438214302063,
                    0.7050561904907227,
                    0.7050561904907227,
                    0.699438214302063
                  ]
                }
              ],
              "layout": {
                "autosize": false,
                "margin": {
                  "autoexpand": false,
                  "l": 170,
                  "r": 150,
                  "t": 50
                },
                "plot_bgcolor": "black",
                "template": {
                  "data": {
                    "bar": [
                      {
                        "error_x": {
                          "color": "#2a3f5f"
                        },
                        "error_y": {
                          "color": "#2a3f5f"
                        },
                        "marker": {
                          "line": {
                            "color": "#E5ECF6",
                            "width": 0.5
                          },
                          "pattern": {
                            "fillmode": "overlay",
                            "size": 10,
                            "solidity": 0.2
                          }
                        },
                        "type": "bar"
                      }
                    ],
                    "barpolar": [
                      {
                        "marker": {
                          "line": {
                            "color": "#E5ECF6",
                            "width": 0.5
                          },
                          "pattern": {
                            "fillmode": "overlay",
                            "size": 10,
                            "solidity": 0.2
                          }
                        },
                        "type": "barpolar"
                      }
                    ],
                    "carpet": [
                      {
                        "aaxis": {
                          "endlinecolor": "#2a3f5f",
                          "gridcolor": "white",
                          "linecolor": "white",
                          "minorgridcolor": "white",
                          "startlinecolor": "#2a3f5f"
                        },
                        "baxis": {
                          "endlinecolor": "#2a3f5f",
                          "gridcolor": "white",
                          "linecolor": "white",
                          "minorgridcolor": "white",
                          "startlinecolor": "#2a3f5f"
                        },
                        "type": "carpet"
                      }
                    ],
                    "choropleth": [
                      {
                        "colorbar": {
                          "outlinewidth": 0,
                          "ticks": ""
                        },
                        "type": "choropleth"
                      }
                    ],
                    "contour": [
                      {
                        "colorbar": {
                          "outlinewidth": 0,
                          "ticks": ""
                        },
                        "colorscale": [
                          [
                            0,
                            "#0d0887"
                          ],
                          [
                            0.1111111111111111,
                            "#46039f"
                          ],
                          [
                            0.2222222222222222,
                            "#7201a8"
                          ],
                          [
                            0.3333333333333333,
                            "#9c179e"
                          ],
                          [
                            0.4444444444444444,
                            "#bd3786"
                          ],
                          [
                            0.5555555555555556,
                            "#d8576b"
                          ],
                          [
                            0.6666666666666666,
                            "#ed7953"
                          ],
                          [
                            0.7777777777777778,
                            "#fb9f3a"
                          ],
                          [
                            0.8888888888888888,
                            "#fdca26"
                          ],
                          [
                            1,
                            "#f0f921"
                          ]
                        ],
                        "type": "contour"
                      }
                    ],
                    "contourcarpet": [
                      {
                        "colorbar": {
                          "outlinewidth": 0,
                          "ticks": ""
                        },
                        "type": "contourcarpet"
                      }
                    ],
                    "heatmap": [
                      {
                        "colorbar": {
                          "outlinewidth": 0,
                          "ticks": ""
                        },
                        "colorscale": [
                          [
                            0,
                            "#0d0887"
                          ],
                          [
                            0.1111111111111111,
                            "#46039f"
                          ],
                          [
                            0.2222222222222222,
                            "#7201a8"
                          ],
                          [
                            0.3333333333333333,
                            "#9c179e"
                          ],
                          [
                            0.4444444444444444,
                            "#bd3786"
                          ],
                          [
                            0.5555555555555556,
                            "#d8576b"
                          ],
                          [
                            0.6666666666666666,
                            "#ed7953"
                          ],
                          [
                            0.7777777777777778,
                            "#fb9f3a"
                          ],
                          [
                            0.8888888888888888,
                            "#fdca26"
                          ],
                          [
                            1,
                            "#f0f921"
                          ]
                        ],
                        "type": "heatmap"
                      }
                    ],
                    "heatmapgl": [
                      {
                        "colorbar": {
                          "outlinewidth": 0,
                          "ticks": ""
                        },
                        "colorscale": [
                          [
                            0,
                            "#0d0887"
                          ],
                          [
                            0.1111111111111111,
                            "#46039f"
                          ],
                          [
                            0.2222222222222222,
                            "#7201a8"
                          ],
                          [
                            0.3333333333333333,
                            "#9c179e"
                          ],
                          [
                            0.4444444444444444,
                            "#bd3786"
                          ],
                          [
                            0.5555555555555556,
                            "#d8576b"
                          ],
                          [
                            0.6666666666666666,
                            "#ed7953"
                          ],
                          [
                            0.7777777777777778,
                            "#fb9f3a"
                          ],
                          [
                            0.8888888888888888,
                            "#fdca26"
                          ],
                          [
                            1,
                            "#f0f921"
                          ]
                        ],
                        "type": "heatmapgl"
                      }
                    ],
                    "histogram": [
                      {
                        "marker": {
                          "pattern": {
                            "fillmode": "overlay",
                            "size": 10,
                            "solidity": 0.2
                          }
                        },
                        "type": "histogram"
                      }
                    ],
                    "histogram2d": [
                      {
                        "colorbar": {
                          "outlinewidth": 0,
                          "ticks": ""
                        },
                        "colorscale": [
                          [
                            0,
                            "#0d0887"
                          ],
                          [
                            0.1111111111111111,
                            "#46039f"
                          ],
                          [
                            0.2222222222222222,
                            "#7201a8"
                          ],
                          [
                            0.3333333333333333,
                            "#9c179e"
                          ],
                          [
                            0.4444444444444444,
                            "#bd3786"
                          ],
                          [
                            0.5555555555555556,
                            "#d8576b"
                          ],
                          [
                            0.6666666666666666,
                            "#ed7953"
                          ],
                          [
                            0.7777777777777778,
                            "#fb9f3a"
                          ],
                          [
                            0.8888888888888888,
                            "#fdca26"
                          ],
                          [
                            1,
                            "#f0f921"
                          ]
                        ],
                        "type": "histogram2d"
                      }
                    ],
                    "histogram2dcontour": [
                      {
                        "colorbar": {
                          "outlinewidth": 0,
                          "ticks": ""
                        },
                        "colorscale": [
                          [
                            0,
                            "#0d0887"
                          ],
                          [
                            0.1111111111111111,
                            "#46039f"
                          ],
                          [
                            0.2222222222222222,
                            "#7201a8"
                          ],
                          [
                            0.3333333333333333,
                            "#9c179e"
                          ],
                          [
                            0.4444444444444444,
                            "#bd3786"
                          ],
                          [
                            0.5555555555555556,
                            "#d8576b"
                          ],
                          [
                            0.6666666666666666,
                            "#ed7953"
                          ],
                          [
                            0.7777777777777778,
                            "#fb9f3a"
                          ],
                          [
                            0.8888888888888888,
                            "#fdca26"
                          ],
                          [
                            1,
                            "#f0f921"
                          ]
                        ],
                        "type": "histogram2dcontour"
                      }
                    ],
                    "mesh3d": [
                      {
                        "colorbar": {
                          "outlinewidth": 0,
                          "ticks": ""
                        },
                        "type": "mesh3d"
                      }
                    ],
                    "parcoords": [
                      {
                        "line": {
                          "colorbar": {
                            "outlinewidth": 0,
                            "ticks": ""
                          }
                        },
                        "type": "parcoords"
                      }
                    ],
                    "pie": [
                      {
                        "automargin": true,
                        "type": "pie"
                      }
                    ],
                    "scatter": [
                      {
                        "marker": {
                          "colorbar": {
                            "outlinewidth": 0,
                            "ticks": ""
                          }
                        },
                        "type": "scatter"
                      }
                    ],
                    "scatter3d": [
                      {
                        "line": {
                          "colorbar": {
                            "outlinewidth": 0,
                            "ticks": ""
                          }
                        },
                        "marker": {
                          "colorbar": {
                            "outlinewidth": 0,
                            "ticks": ""
                          }
                        },
                        "type": "scatter3d"
                      }
                    ],
                    "scattercarpet": [
                      {
                        "marker": {
                          "colorbar": {
                            "outlinewidth": 0,
                            "ticks": ""
                          }
                        },
                        "type": "scattercarpet"
                      }
                    ],
                    "scattergeo": [
                      {
                        "marker": {
                          "colorbar": {
                            "outlinewidth": 0,
                            "ticks": ""
                          }
                        },
                        "type": "scattergeo"
                      }
                    ],
                    "scattergl": [
                      {
                        "marker": {
                          "colorbar": {
                            "outlinewidth": 0,
                            "ticks": ""
                          }
                        },
                        "type": "scattergl"
                      }
                    ],
                    "scattermapbox": [
                      {
                        "marker": {
                          "colorbar": {
                            "outlinewidth": 0,
                            "ticks": ""
                          }
                        },
                        "type": "scattermapbox"
                      }
                    ],
                    "scatterpolar": [
                      {
                        "marker": {
                          "colorbar": {
                            "outlinewidth": 0,
                            "ticks": ""
                          }
                        },
                        "type": "scatterpolar"
                      }
                    ],
                    "scatterpolargl": [
                      {
                        "marker": {
                          "colorbar": {
                            "outlinewidth": 0,
                            "ticks": ""
                          }
                        },
                        "type": "scatterpolargl"
                      }
                    ],
                    "scatterternary": [
                      {
                        "marker": {
                          "colorbar": {
                            "outlinewidth": 0,
                            "ticks": ""
                          }
                        },
                        "type": "scatterternary"
                      }
                    ],
                    "surface": [
                      {
                        "colorbar": {
                          "outlinewidth": 0,
                          "ticks": ""
                        },
                        "colorscale": [
                          [
                            0,
                            "#0d0887"
                          ],
                          [
                            0.1111111111111111,
                            "#46039f"
                          ],
                          [
                            0.2222222222222222,
                            "#7201a8"
                          ],
                          [
                            0.3333333333333333,
                            "#9c179e"
                          ],
                          [
                            0.4444444444444444,
                            "#bd3786"
                          ],
                          [
                            0.5555555555555556,
                            "#d8576b"
                          ],
                          [
                            0.6666666666666666,
                            "#ed7953"
                          ],
                          [
                            0.7777777777777778,
                            "#fb9f3a"
                          ],
                          [
                            0.8888888888888888,
                            "#fdca26"
                          ],
                          [
                            1,
                            "#f0f921"
                          ]
                        ],
                        "type": "surface"
                      }
                    ],
                    "table": [
                      {
                        "cells": {
                          "fill": {
                            "color": "#EBF0F8"
                          },
                          "line": {
                            "color": "white"
                          }
                        },
                        "header": {
                          "fill": {
                            "color": "#C8D4E3"
                          },
                          "line": {
                            "color": "white"
                          }
                        },
                        "type": "table"
                      }
                    ]
                  },
                  "layout": {
                    "annotationdefaults": {
                      "arrowcolor": "#2a3f5f",
                      "arrowhead": 0,
                      "arrowwidth": 1
                    },
                    "autotypenumbers": "strict",
                    "coloraxis": {
                      "colorbar": {
                        "outlinewidth": 0,
                        "ticks": ""
                      }
                    },
                    "colorscale": {
                      "diverging": [
                        [
                          0,
                          "#8e0152"
                        ],
                        [
                          0.1,
                          "#c51b7d"
                        ],
                        [
                          0.2,
                          "#de77ae"
                        ],
                        [
                          0.3,
                          "#f1b6da"
                        ],
                        [
                          0.4,
                          "#fde0ef"
                        ],
                        [
                          0.5,
                          "#f7f7f7"
                        ],
                        [
                          0.6,
                          "#e6f5d0"
                        ],
                        [
                          0.7,
                          "#b8e186"
                        ],
                        [
                          0.8,
                          "#7fbc41"
                        ],
                        [
                          0.9,
                          "#4d9221"
                        ],
                        [
                          1,
                          "#276419"
                        ]
                      ],
                      "sequential": [
                        [
                          0,
                          "#0d0887"
                        ],
                        [
                          0.1111111111111111,
                          "#46039f"
                        ],
                        [
                          0.2222222222222222,
                          "#7201a8"
                        ],
                        [
                          0.3333333333333333,
                          "#9c179e"
                        ],
                        [
                          0.4444444444444444,
                          "#bd3786"
                        ],
                        [
                          0.5555555555555556,
                          "#d8576b"
                        ],
                        [
                          0.6666666666666666,
                          "#ed7953"
                        ],
                        [
                          0.7777777777777778,
                          "#fb9f3a"
                        ],
                        [
                          0.8888888888888888,
                          "#fdca26"
                        ],
                        [
                          1,
                          "#f0f921"
                        ]
                      ],
                      "sequentialminus": [
                        [
                          0,
                          "#0d0887"
                        ],
                        [
                          0.1111111111111111,
                          "#46039f"
                        ],
                        [
                          0.2222222222222222,
                          "#7201a8"
                        ],
                        [
                          0.3333333333333333,
                          "#9c179e"
                        ],
                        [
                          0.4444444444444444,
                          "#bd3786"
                        ],
                        [
                          0.5555555555555556,
                          "#d8576b"
                        ],
                        [
                          0.6666666666666666,
                          "#ed7953"
                        ],
                        [
                          0.7777777777777778,
                          "#fb9f3a"
                        ],
                        [
                          0.8888888888888888,
                          "#fdca26"
                        ],
                        [
                          1,
                          "#f0f921"
                        ]
                      ]
                    },
                    "colorway": [
                      "#636efa",
                      "#EF553B",
                      "#00cc96",
                      "#ab63fa",
                      "#FFA15A",
                      "#19d3f3",
                      "#FF6692",
                      "#B6E880",
                      "#FF97FF",
                      "#FECB52"
                    ],
                    "font": {
                      "color": "#2a3f5f"
                    },
                    "geo": {
                      "bgcolor": "white",
                      "lakecolor": "white",
                      "landcolor": "#E5ECF6",
                      "showlakes": true,
                      "showland": true,
                      "subunitcolor": "white"
                    },
                    "hoverlabel": {
                      "align": "left"
                    },
                    "hovermode": "closest",
                    "mapbox": {
                      "style": "light"
                    },
                    "paper_bgcolor": "white",
                    "plot_bgcolor": "#E5ECF6",
                    "polar": {
                      "angularaxis": {
                        "gridcolor": "white",
                        "linecolor": "white",
                        "ticks": ""
                      },
                      "bgcolor": "#E5ECF6",
                      "radialaxis": {
                        "gridcolor": "white",
                        "linecolor": "white",
                        "ticks": ""
                      }
                    },
                    "scene": {
                      "xaxis": {
                        "backgroundcolor": "#E5ECF6",
                        "gridcolor": "white",
                        "gridwidth": 2,
                        "linecolor": "white",
                        "showbackground": true,
                        "ticks": "",
                        "zerolinecolor": "white"
                      },
                      "yaxis": {
                        "backgroundcolor": "#E5ECF6",
                        "gridcolor": "white",
                        "gridwidth": 2,
                        "linecolor": "white",
                        "showbackground": true,
                        "ticks": "",
                        "zerolinecolor": "white"
                      },
                      "zaxis": {
                        "backgroundcolor": "#E5ECF6",
                        "gridcolor": "white",
                        "gridwidth": 2,
                        "linecolor": "white",
                        "showbackground": true,
                        "ticks": "",
                        "zerolinecolor": "white"
                      }
                    },
                    "shapedefaults": {
                      "line": {
                        "color": "#2a3f5f"
                      }
                    },
                    "ternary": {
                      "aaxis": {
                        "gridcolor": "white",
                        "linecolor": "white",
                        "ticks": ""
                      },
                      "baxis": {
                        "gridcolor": "white",
                        "linecolor": "white",
                        "ticks": ""
                      },
                      "bgcolor": "#E5ECF6",
                      "caxis": {
                        "gridcolor": "white",
                        "linecolor": "white",
                        "ticks": ""
                      }
                    },
                    "title": {
                      "x": 0.05
                    },
                    "xaxis": {
                      "automargin": true,
                      "gridcolor": "white",
                      "linecolor": "white",
                      "ticks": "",
                      "title": {
                        "standoff": 15
                      },
                      "zerolinecolor": "white",
                      "zerolinewidth": 2
                    },
                    "yaxis": {
                      "automargin": true,
                      "gridcolor": "white",
                      "linecolor": "white",
                      "ticks": "",
                      "title": {
                        "standoff": 15
                      },
                      "zerolinecolor": "white",
                      "zerolinewidth": 2
                    }
                  }
                },
                "xaxis": {
                  "showgrid": true,
                  "showline": true,
                  "showticklabels": true,
                  "title": {
                    "text": "Epoch"
                  }
                },
                "yaxis": {
                  "showgrid": true,
                  "showline": true,
                  "showticklabels": true,
                  "title": {
                    "text": "Validation Accuracy"
                  },
                  "zeroline": true
                }
              }
            }
          },
          "metadata": {},
          "output_type": "display_data"
        }
      ],
      "source": [
        "# base\n",
        "x = [0, 1, 2, 3, 4, 5, 6, 7, 8, 9, 10, 11, 12, 13, 14, 15, 16, 17, 18, 19, 20, 21, 22, 23, 24, 25, 26, 27, 28, 29, 30, 31, 32, 33, 34, 35, 36, 37, 38, 39, 40, 41, 42, 43, 44, 45, 46, 47, 48, 49, 50, 51, 52, 53, 54, 55, 56, 57, 58, 59, 60, 61, 62, 63, 64, 65, 66, 67, 68, 69, 70, 71, 72, 73, 74, 75, 76, 77, 78, 79, 80, 81, 82, 83, 84, 85, 86, 87, 88, 89, 90, 91, 92, 93, 94, 95, 96, 97, 98, 99]\n",
        "RNN = [0.30337077379226685, 0.483146071434021, 0.5421348214149475, 0.584269642829895, 0.5786516666412354, 0.5814606547355652, 0.5955055952072144, 0.601123571395874, 0.6235954761505127, 0.5898876190185547, 0.6151685118675232, 0.617977499961853, 0.5870786309242249, 0.6039325594902039, 0.6123595237731934, 0.6207864880561829, 0.6123595237731934, 0.6207864880561829, 0.6095505356788635, 0.601123571395874, 0.5646067261695862, 0.6123595237731934, 0.617977499961853, 0.6264045238494873, 0.601123571395874, 0.6264045238494873, 0.5870786309242249, 0.6123595237731934, 0.617977499961853, 0.6123595237731934, 0.6376404762268066, 0.6376404762268066, 0.6460674405097961, 0.6207864880561829, 0.6264045238494873, 0.6039325594902039, 0.6095505356788635, 0.6432584524154663, 0.6123595237731934, 0.6095505356788635, 0.6292135119438171, 0.6264045238494873, 0.5926966071128845, 0.6151685118675232, 0.5449438095092773, 0.5955055952072144, 0.6123595237731934, 0.6039325594902039, 0.584269642829895, 0.632022500038147, 0.617977499961853, 0.5955055952072144, 0.6151685118675232, 0.601123571395874, 0.5702247023582458, 0.6151685118675232, 0.617977499961853, 0.617977499961853, 0.5983145833015442, 0.584269642829895, 0.601123571395874, 0.6151685118675232, 0.632022500038147, 0.6235954761505127, 0.5814606547355652, 0.5926966071128845, 0.5870786309242249, 0.6067415475845337, 0.6151685118675232, 0.6039325594902039, 0.6376404762268066, 0.5870786309242249, 0.5617977380752563, 0.601123571395874, 0.6207864880561829, 0.6123595237731934, 0.5814606547355652, 0.6348314881324768, 0.5955055952072144, 0.6207864880561829, 0.601123571395874, 0.6095505356788635, 0.5955055952072144, 0.5814606547355652, 0.6404494643211365, 0.6235954761505127, 0.6235954761505127, 0.6095505356788635, 0.6151685118675232, 0.6123595237731934, 0.6235954761505127, 0.584269642829895, 0.6264045238494873, 0.5926966071128845, 0.6432584524154663, 0.6095505356788635, 0.6264045238494873, 0.5983145833015442, 0.6151685118675232, 0.6235954761505127]\n",
        "LSTM = [0.4185393154621124, 0.5252808928489685, 0.567415714263916, 0.5955055952072144, 0.6460674405097961, 0.6460674405097961, 0.6544944047927856, 0.6741573214530945, 0.648876428604126, 0.665730357170105, 0.6713483333587646, 0.6741573214530945, 0.7050561904907227, 0.6910112500190735, 0.6685393452644348, 0.6460674405097961, 0.6741573214530945, 0.6741573214530945, 0.6601123809814453, 0.6769663095474243, 0.6741573214530945, 0.6460674405097961, 0.6769663095474243, 0.6797752976417542, 0.6797752976417542, 0.6629213690757751, 0.6910112500190735, 0.682584285736084, 0.6601123809814453, 0.6713483333587646, 0.6938202381134033, 0.6769663095474243, 0.6938202381134033, 0.6685393452644348, 0.699438214302063, 0.682584285736084, 0.6882022619247437, 0.6769663095474243, 0.6966292262077332, 0.6797752976417542, 0.6741573214530945, 0.665730357170105, 0.6601123809814453, 0.6882022619247437, 0.665730357170105, 0.6769663095474243, 0.6741573214530945, 0.6966292262077332, 0.7050561904907227, 0.6713483333587646, 0.699438214302063, 0.7022472023963928, 0.6797752976417542, 0.682584285736084, 0.6938202381134033, 0.6853932738304138, 0.6853932738304138, 0.6882022619247437, 0.6938202381134033, 0.6966292262077332, 0.6853932738304138, 0.6853932738304138, 0.6882022619247437, 0.7022472023963928, 0.699438214302063, 0.6966292262077332, 0.6910112500190735, 0.7050561904907227, 0.6966292262077332, 0.6797752976417542, 0.6938202381134033, 0.6713483333587646, 0.6938202381134033, 0.6938202381134033, 0.6853932738304138, 0.6882022619247437, 0.6685393452644348, 0.6741573214530945, 0.665730357170105, 0.6882022619247437, 0.6910112500190735, 0.6741573214530945, 0.6938202381134033, 0.6797752976417542, 0.682584285736084, 0.6741573214530945, 0.6573033928871155, 0.6966292262077332, 0.6769663095474243, 0.699438214302063, 0.6882022619247437, 0.6713483333587646, 0.6910112500190735, 0.6853932738304138, 0.6938202381134033, 0.6882022619247437, 0.6882022619247437, 0.6769663095474243, 0.6910112500190735, 0.6853932738304138]\n",
        "GRU = [0.3820224702358246, 0.5393258333206177, 0.584269642829895, 0.6207864880561829, 0.6404494643211365, 0.6713483333587646, 0.6713483333587646, 0.6910112500190735, 0.6797752976417542, 0.682584285736084, 0.6910112500190735, 0.6544944047927856, 0.6966292262077332, 0.6910112500190735, 0.6516854166984558, 0.6966292262077332, 0.6882022619247437, 0.6797752976417542, 0.6769663095474243, 0.6797752976417542, 0.6910112500190735, 0.6882022619247437, 0.6713483333587646, 0.6882022619247437, 0.6882022619247437, 0.6966292262077332, 0.6882022619247437, 0.6938202381134033, 0.7078651785850525, 0.6882022619247437, 0.7247191071510315, 0.6741573214530945, 0.6910112500190735, 0.6432584524154663, 0.7134831547737122, 0.7050561904907227, 0.699438214302063, 0.7078651785850525, 0.6966292262077332, 0.6938202381134033, 0.7247191071510315, 0.699438214302063, 0.7078651785850525, 0.7022472023963928, 0.7050561904907227, 0.6938202381134033, 0.7050561904907227, 0.6853932738304138, 0.7022472023963928, 0.7022472023963928, 0.6910112500190735, 0.6853932738304138, 0.6938202381134033, 0.6853932738304138, 0.6938202381134033, 0.6853932738304138, 0.7078651785850525, 0.7050561904907227, 0.716292142868042, 0.6938202381134033, 0.6882022619247437, 0.6685393452644348, 0.7022472023963928, 0.7022472023963928, 0.7078651785850525, 0.7050561904907227, 0.7134831547737122, 0.7022472023963928, 0.7050561904907227, 0.6910112500190735, 0.6882022619247437, 0.7134831547737122, 0.7106741666793823, 0.6882022619247437, 0.6882022619247437, 0.6882022619247437, 0.6910112500190735, 0.6966292262077332, 0.699438214302063, 0.7078651785850525, 0.7050561904907227, 0.7050561904907227, 0.6910112500190735, 0.6910112500190735, 0.6769663095474243, 0.6882022619247437, 0.6938202381134033, 0.682584285736084, 0.6882022619247437, 0.6685393452644348, 0.682584285736084, 0.6966292262077332, 0.6910112500190735, 0.6882022619247437, 0.7078651785850525, 0.6966292262077332, 0.699438214302063, 0.7050561904907227, 0.7050561904907227, 0.699438214302063]\n",
        "\n",
        "plot_favorite(x, RNN, LSTM, GRU)"
      ]
    },
    {
      "cell_type": "code",
      "execution_count": 77,
      "metadata": {},
      "outputs": [
        {
          "data": {
            "application/vnd.plotly.v1+json": {
              "config": {
                "plotlyServerURL": "https://plot.ly"
              },
              "data": [
                {
                  "line": {
                    "width": 1
                  },
                  "mode": "lines+markers",
                  "name": "RNN",
                  "type": "scatter",
                  "x": [
                    0,
                    1,
                    2,
                    3,
                    4,
                    5,
                    6,
                    7,
                    8,
                    9,
                    10,
                    11,
                    12,
                    13,
                    14,
                    15,
                    16,
                    17,
                    18,
                    19,
                    20,
                    21,
                    22,
                    23,
                    24,
                    25,
                    26,
                    27,
                    28,
                    29,
                    30,
                    31,
                    32,
                    33,
                    34,
                    35,
                    36,
                    37,
                    38,
                    39,
                    40,
                    41,
                    42,
                    43,
                    44,
                    45,
                    46,
                    47,
                    48,
                    49,
                    50,
                    51,
                    52,
                    53,
                    54,
                    55,
                    56,
                    57,
                    58,
                    59,
                    60,
                    61,
                    62,
                    63,
                    64,
                    65,
                    66,
                    67,
                    68,
                    69,
                    70,
                    71,
                    72,
                    73,
                    74,
                    75,
                    76,
                    77,
                    78,
                    79,
                    80,
                    81,
                    82,
                    83,
                    84,
                    85,
                    86,
                    87,
                    88,
                    89,
                    90,
                    91,
                    92,
                    93,
                    94,
                    95,
                    96,
                    97,
                    98,
                    99
                  ],
                  "y": [
                    0.283707857131958,
                    0.4101123511791229,
                    0.5056179761886597,
                    0.5449438095092773,
                    0.5589887499809265,
                    0.5589887499809265,
                    0.584269642829895,
                    0.601123571395874,
                    0.6067415475845337,
                    0.6292135119438171,
                    0.6207864880561829,
                    0.5983145833015442,
                    0.6095505356788635,
                    0.6348314881324768,
                    0.5983145833015442,
                    0.6376404762268066,
                    0.6207864880561829,
                    0.6235954761505127,
                    0.6095505356788635,
                    0.6348314881324768,
                    0.632022500038147,
                    0.6573033928871155,
                    0.6432584524154663,
                    0.6235954761505127,
                    0.6207864880561829,
                    0.6264045238494873,
                    0.6235954761505127,
                    0.6516854166984558,
                    0.632022500038147,
                    0.632022500038147,
                    0.6376404762268066,
                    0.6348314881324768,
                    0.632022500038147,
                    0.6348314881324768,
                    0.6460674405097961,
                    0.6151685118675232,
                    0.6404494643211365,
                    0.632022500038147,
                    0.6460674405097961,
                    0.6151685118675232,
                    0.6460674405097961,
                    0.6264045238494873,
                    0.6376404762268066,
                    0.6348314881324768,
                    0.6095505356788635,
                    0.6376404762268066,
                    0.6235954761505127,
                    0.6432584524154663,
                    0.6601123809814453,
                    0.6460674405097961,
                    0.6292135119438171,
                    0.648876428604126,
                    0.6095505356788635,
                    0.6460674405097961,
                    0.6264045238494873,
                    0.6376404762268066,
                    0.632022500038147,
                    0.6207864880561829,
                    0.6516854166984558,
                    0.6348314881324768,
                    0.6292135119438171,
                    0.6292135119438171,
                    0.6207864880561829,
                    0.6376404762268066,
                    0.6348314881324768,
                    0.648876428604126,
                    0.6264045238494873,
                    0.6292135119438171,
                    0.617977499961853,
                    0.632022500038147,
                    0.632022500038147,
                    0.6404494643211365,
                    0.6348314881324768,
                    0.648876428604126,
                    0.6376404762268066,
                    0.632022500038147,
                    0.6235954761505127,
                    0.6235954761505127,
                    0.6516854166984558,
                    0.648876428604126,
                    0.6460674405097961,
                    0.6235954761505127,
                    0.6123595237731934,
                    0.632022500038147,
                    0.6376404762268066,
                    0.6292135119438171,
                    0.6264045238494873,
                    0.6292135119438171,
                    0.6207864880561829,
                    0.601123571395874,
                    0.632022500038147,
                    0.6404494643211365,
                    0.6151685118675232,
                    0.6123595237731934,
                    0.6376404762268066,
                    0.6123595237731934,
                    0.6095505356788635,
                    0.6067415475845337,
                    0.601123571395874,
                    0.6376404762268066
                  ]
                },
                {
                  "line": {
                    "width": 1
                  },
                  "mode": "lines+markers",
                  "name": "LSTM",
                  "type": "scatter",
                  "x": [
                    0,
                    1,
                    2,
                    3,
                    4,
                    5,
                    6,
                    7,
                    8,
                    9,
                    10,
                    11,
                    12,
                    13,
                    14,
                    15,
                    16,
                    17,
                    18,
                    19,
                    20,
                    21,
                    22,
                    23,
                    24,
                    25,
                    26,
                    27,
                    28,
                    29,
                    30,
                    31,
                    32,
                    33,
                    34,
                    35,
                    36,
                    37,
                    38,
                    39,
                    40,
                    41,
                    42,
                    43,
                    44,
                    45,
                    46,
                    47,
                    48,
                    49,
                    50,
                    51,
                    52,
                    53,
                    54,
                    55,
                    56,
                    57,
                    58,
                    59,
                    60,
                    61,
                    62,
                    63,
                    64,
                    65,
                    66,
                    67,
                    68,
                    69,
                    70,
                    71,
                    72,
                    73,
                    74,
                    75,
                    76,
                    77,
                    78,
                    79,
                    80,
                    81,
                    82,
                    83,
                    84,
                    85,
                    86,
                    87,
                    88,
                    89,
                    90,
                    91,
                    92,
                    93,
                    94,
                    95,
                    96,
                    97,
                    98,
                    99
                  ],
                  "y": [
                    0.4073033630847931,
                    0.483146071434021,
                    0.5477527976036072,
                    0.584269642829895,
                    0.6264045238494873,
                    0.6348314881324768,
                    0.6404494643211365,
                    0.6573033928871155,
                    0.6853932738304138,
                    0.6882022619247437,
                    0.6769663095474243,
                    0.6966292262077332,
                    0.716292142868042,
                    0.7078651785850525,
                    0.7106741666793823,
                    0.7078651785850525,
                    0.7275280952453613,
                    0.699438214302063,
                    0.7219101190567017,
                    0.7134831547737122,
                    0.7050561904907227,
                    0.7191011309623718,
                    0.7050561904907227,
                    0.7050561904907227,
                    0.7247191071510315,
                    0.7022472023963928,
                    0.7247191071510315,
                    0.7247191071510315,
                    0.7078651785850525,
                    0.6938202381134033,
                    0.7022472023963928,
                    0.7247191071510315,
                    0.7022472023963928,
                    0.7078651785850525,
                    0.6797752976417542,
                    0.699438214302063,
                    0.7106741666793823,
                    0.699438214302063,
                    0.7106741666793823,
                    0.7050561904907227,
                    0.7275280952453613,
                    0.7078651785850525,
                    0.7106741666793823,
                    0.699438214302063,
                    0.7219101190567017,
                    0.7191011309623718,
                    0.7050561904907227,
                    0.6966292262077332,
                    0.7219101190567017,
                    0.7078651785850525,
                    0.7219101190567017,
                    0.7359550595283508,
                    0.7050561904907227,
                    0.716292142868042,
                    0.7275280952453613,
                    0.7415730357170105,
                    0.7303370833396912,
                    0.7275280952453613,
                    0.7303370833396912,
                    0.7387640476226807,
                    0.7106741666793823,
                    0.7191011309623718,
                    0.7247191071510315,
                    0.6938202381134033,
                    0.7247191071510315,
                    0.7303370833396912,
                    0.7275280952453613,
                    0.7134831547737122,
                    0.7022472023963928,
                    0.7078651785850525,
                    0.7134831547737122,
                    0.7247191071510315,
                    0.716292142868042,
                    0.7219101190567017,
                    0.7303370833396912,
                    0.7078651785850525,
                    0.7134831547737122,
                    0.7106741666793823,
                    0.716292142868042,
                    0.716292142868042,
                    0.7191011309623718,
                    0.7247191071510315,
                    0.7134831547737122,
                    0.6882022619247437,
                    0.7134831547737122,
                    0.7191011309623718,
                    0.7078651785850525,
                    0.7191011309623718,
                    0.7050561904907227,
                    0.7219101190567017,
                    0.7191011309623718,
                    0.7134831547737122,
                    0.7247191071510315,
                    0.6882022619247437,
                    0.7022472023963928,
                    0.6853932738304138,
                    0.6966292262077332,
                    0.7078651785850525,
                    0.699438214302063,
                    0.7106741666793823
                  ]
                },
                {
                  "line": {
                    "width": 1
                  },
                  "mode": "lines+markers",
                  "name": "GRU",
                  "type": "scatter",
                  "x": [
                    0,
                    1,
                    2,
                    3,
                    4,
                    5,
                    6,
                    7,
                    8,
                    9,
                    10,
                    11,
                    12,
                    13,
                    14,
                    15,
                    16,
                    17,
                    18,
                    19,
                    20,
                    21,
                    22,
                    23,
                    24,
                    25,
                    26,
                    27,
                    28,
                    29,
                    30,
                    31,
                    32,
                    33,
                    34,
                    35,
                    36,
                    37,
                    38,
                    39,
                    40,
                    41,
                    42,
                    43,
                    44,
                    45,
                    46,
                    47,
                    48,
                    49,
                    50,
                    51,
                    52,
                    53,
                    54,
                    55,
                    56,
                    57,
                    58,
                    59,
                    60,
                    61,
                    62,
                    63,
                    64,
                    65,
                    66,
                    67,
                    68,
                    69,
                    70,
                    71,
                    72,
                    73,
                    74,
                    75,
                    76,
                    77,
                    78,
                    79,
                    80,
                    81,
                    82,
                    83,
                    84,
                    85,
                    86,
                    87,
                    88,
                    89,
                    90,
                    91,
                    92,
                    93,
                    94,
                    95,
                    96,
                    97,
                    98,
                    99
                  ],
                  "y": [
                    0.3679775297641754,
                    0.5028089880943298,
                    0.5758426785469055,
                    0.6151685118675232,
                    0.6151685118675232,
                    0.6713483333587646,
                    0.6629213690757751,
                    0.6853932738304138,
                    0.6910112500190735,
                    0.6882022619247437,
                    0.7191011309623718,
                    0.6741573214530945,
                    0.6853932738304138,
                    0.6882022619247437,
                    0.682584285736084,
                    0.699438214302063,
                    0.7050561904907227,
                    0.7134831547737122,
                    0.699438214302063,
                    0.7050561904907227,
                    0.7022472023963928,
                    0.6853932738304138,
                    0.6797752976417542,
                    0.6741573214530945,
                    0.6966292262077332,
                    0.699438214302063,
                    0.7078651785850525,
                    0.6938202381134033,
                    0.6797752976417542,
                    0.7106741666793823,
                    0.7078651785850525,
                    0.7050561904907227,
                    0.7134831547737122,
                    0.6882022619247437,
                    0.6853932738304138,
                    0.7022472023963928,
                    0.6910112500190735,
                    0.6966292262077332,
                    0.7050561904907227,
                    0.716292142868042,
                    0.7134831547737122,
                    0.7050561904907227,
                    0.6966292262077332,
                    0.7191011309623718,
                    0.7134831547737122,
                    0.7106741666793823,
                    0.6938202381134033,
                    0.6910112500190735,
                    0.7106741666793823,
                    0.6910112500190735,
                    0.7303370833396912,
                    0.7050561904907227,
                    0.7106741666793823,
                    0.7134831547737122,
                    0.7022472023963928,
                    0.6938202381134033,
                    0.6966292262077332,
                    0.7303370833396912,
                    0.7134831547737122,
                    0.7219101190567017,
                    0.716292142868042,
                    0.6938202381134033,
                    0.7078651785850525,
                    0.7303370833396912,
                    0.7050561904907227,
                    0.7078651785850525,
                    0.6882022619247437,
                    0.7078651785850525,
                    0.7219101190567017,
                    0.6966292262077332,
                    0.7219101190567017,
                    0.7134831547737122,
                    0.716292142868042,
                    0.7359550595283508,
                    0.7106741666793823,
                    0.7106741666793823,
                    0.7022472023963928,
                    0.7191011309623718,
                    0.6966292262077332,
                    0.7191011309623718,
                    0.6853932738304138,
                    0.7134831547737122,
                    0.699438214302063,
                    0.7134831547737122,
                    0.7275280952453613,
                    0.7247191071510315,
                    0.7078651785850525,
                    0.7275280952453613,
                    0.7106741666793823,
                    0.716292142868042,
                    0.7303370833396912,
                    0.716292142868042,
                    0.7415730357170105,
                    0.716292142868042,
                    0.7219101190567017,
                    0.7078651785850525,
                    0.716292142868042,
                    0.7275280952453613,
                    0.7022472023963928,
                    0.7219101190567017
                  ]
                }
              ],
              "layout": {
                "autosize": false,
                "margin": {
                  "autoexpand": false,
                  "l": 170,
                  "r": 150,
                  "t": 50
                },
                "plot_bgcolor": "black",
                "template": {
                  "data": {
                    "bar": [
                      {
                        "error_x": {
                          "color": "#2a3f5f"
                        },
                        "error_y": {
                          "color": "#2a3f5f"
                        },
                        "marker": {
                          "line": {
                            "color": "#E5ECF6",
                            "width": 0.5
                          },
                          "pattern": {
                            "fillmode": "overlay",
                            "size": 10,
                            "solidity": 0.2
                          }
                        },
                        "type": "bar"
                      }
                    ],
                    "barpolar": [
                      {
                        "marker": {
                          "line": {
                            "color": "#E5ECF6",
                            "width": 0.5
                          },
                          "pattern": {
                            "fillmode": "overlay",
                            "size": 10,
                            "solidity": 0.2
                          }
                        },
                        "type": "barpolar"
                      }
                    ],
                    "carpet": [
                      {
                        "aaxis": {
                          "endlinecolor": "#2a3f5f",
                          "gridcolor": "white",
                          "linecolor": "white",
                          "minorgridcolor": "white",
                          "startlinecolor": "#2a3f5f"
                        },
                        "baxis": {
                          "endlinecolor": "#2a3f5f",
                          "gridcolor": "white",
                          "linecolor": "white",
                          "minorgridcolor": "white",
                          "startlinecolor": "#2a3f5f"
                        },
                        "type": "carpet"
                      }
                    ],
                    "choropleth": [
                      {
                        "colorbar": {
                          "outlinewidth": 0,
                          "ticks": ""
                        },
                        "type": "choropleth"
                      }
                    ],
                    "contour": [
                      {
                        "colorbar": {
                          "outlinewidth": 0,
                          "ticks": ""
                        },
                        "colorscale": [
                          [
                            0,
                            "#0d0887"
                          ],
                          [
                            0.1111111111111111,
                            "#46039f"
                          ],
                          [
                            0.2222222222222222,
                            "#7201a8"
                          ],
                          [
                            0.3333333333333333,
                            "#9c179e"
                          ],
                          [
                            0.4444444444444444,
                            "#bd3786"
                          ],
                          [
                            0.5555555555555556,
                            "#d8576b"
                          ],
                          [
                            0.6666666666666666,
                            "#ed7953"
                          ],
                          [
                            0.7777777777777778,
                            "#fb9f3a"
                          ],
                          [
                            0.8888888888888888,
                            "#fdca26"
                          ],
                          [
                            1,
                            "#f0f921"
                          ]
                        ],
                        "type": "contour"
                      }
                    ],
                    "contourcarpet": [
                      {
                        "colorbar": {
                          "outlinewidth": 0,
                          "ticks": ""
                        },
                        "type": "contourcarpet"
                      }
                    ],
                    "heatmap": [
                      {
                        "colorbar": {
                          "outlinewidth": 0,
                          "ticks": ""
                        },
                        "colorscale": [
                          [
                            0,
                            "#0d0887"
                          ],
                          [
                            0.1111111111111111,
                            "#46039f"
                          ],
                          [
                            0.2222222222222222,
                            "#7201a8"
                          ],
                          [
                            0.3333333333333333,
                            "#9c179e"
                          ],
                          [
                            0.4444444444444444,
                            "#bd3786"
                          ],
                          [
                            0.5555555555555556,
                            "#d8576b"
                          ],
                          [
                            0.6666666666666666,
                            "#ed7953"
                          ],
                          [
                            0.7777777777777778,
                            "#fb9f3a"
                          ],
                          [
                            0.8888888888888888,
                            "#fdca26"
                          ],
                          [
                            1,
                            "#f0f921"
                          ]
                        ],
                        "type": "heatmap"
                      }
                    ],
                    "heatmapgl": [
                      {
                        "colorbar": {
                          "outlinewidth": 0,
                          "ticks": ""
                        },
                        "colorscale": [
                          [
                            0,
                            "#0d0887"
                          ],
                          [
                            0.1111111111111111,
                            "#46039f"
                          ],
                          [
                            0.2222222222222222,
                            "#7201a8"
                          ],
                          [
                            0.3333333333333333,
                            "#9c179e"
                          ],
                          [
                            0.4444444444444444,
                            "#bd3786"
                          ],
                          [
                            0.5555555555555556,
                            "#d8576b"
                          ],
                          [
                            0.6666666666666666,
                            "#ed7953"
                          ],
                          [
                            0.7777777777777778,
                            "#fb9f3a"
                          ],
                          [
                            0.8888888888888888,
                            "#fdca26"
                          ],
                          [
                            1,
                            "#f0f921"
                          ]
                        ],
                        "type": "heatmapgl"
                      }
                    ],
                    "histogram": [
                      {
                        "marker": {
                          "pattern": {
                            "fillmode": "overlay",
                            "size": 10,
                            "solidity": 0.2
                          }
                        },
                        "type": "histogram"
                      }
                    ],
                    "histogram2d": [
                      {
                        "colorbar": {
                          "outlinewidth": 0,
                          "ticks": ""
                        },
                        "colorscale": [
                          [
                            0,
                            "#0d0887"
                          ],
                          [
                            0.1111111111111111,
                            "#46039f"
                          ],
                          [
                            0.2222222222222222,
                            "#7201a8"
                          ],
                          [
                            0.3333333333333333,
                            "#9c179e"
                          ],
                          [
                            0.4444444444444444,
                            "#bd3786"
                          ],
                          [
                            0.5555555555555556,
                            "#d8576b"
                          ],
                          [
                            0.6666666666666666,
                            "#ed7953"
                          ],
                          [
                            0.7777777777777778,
                            "#fb9f3a"
                          ],
                          [
                            0.8888888888888888,
                            "#fdca26"
                          ],
                          [
                            1,
                            "#f0f921"
                          ]
                        ],
                        "type": "histogram2d"
                      }
                    ],
                    "histogram2dcontour": [
                      {
                        "colorbar": {
                          "outlinewidth": 0,
                          "ticks": ""
                        },
                        "colorscale": [
                          [
                            0,
                            "#0d0887"
                          ],
                          [
                            0.1111111111111111,
                            "#46039f"
                          ],
                          [
                            0.2222222222222222,
                            "#7201a8"
                          ],
                          [
                            0.3333333333333333,
                            "#9c179e"
                          ],
                          [
                            0.4444444444444444,
                            "#bd3786"
                          ],
                          [
                            0.5555555555555556,
                            "#d8576b"
                          ],
                          [
                            0.6666666666666666,
                            "#ed7953"
                          ],
                          [
                            0.7777777777777778,
                            "#fb9f3a"
                          ],
                          [
                            0.8888888888888888,
                            "#fdca26"
                          ],
                          [
                            1,
                            "#f0f921"
                          ]
                        ],
                        "type": "histogram2dcontour"
                      }
                    ],
                    "mesh3d": [
                      {
                        "colorbar": {
                          "outlinewidth": 0,
                          "ticks": ""
                        },
                        "type": "mesh3d"
                      }
                    ],
                    "parcoords": [
                      {
                        "line": {
                          "colorbar": {
                            "outlinewidth": 0,
                            "ticks": ""
                          }
                        },
                        "type": "parcoords"
                      }
                    ],
                    "pie": [
                      {
                        "automargin": true,
                        "type": "pie"
                      }
                    ],
                    "scatter": [
                      {
                        "marker": {
                          "colorbar": {
                            "outlinewidth": 0,
                            "ticks": ""
                          }
                        },
                        "type": "scatter"
                      }
                    ],
                    "scatter3d": [
                      {
                        "line": {
                          "colorbar": {
                            "outlinewidth": 0,
                            "ticks": ""
                          }
                        },
                        "marker": {
                          "colorbar": {
                            "outlinewidth": 0,
                            "ticks": ""
                          }
                        },
                        "type": "scatter3d"
                      }
                    ],
                    "scattercarpet": [
                      {
                        "marker": {
                          "colorbar": {
                            "outlinewidth": 0,
                            "ticks": ""
                          }
                        },
                        "type": "scattercarpet"
                      }
                    ],
                    "scattergeo": [
                      {
                        "marker": {
                          "colorbar": {
                            "outlinewidth": 0,
                            "ticks": ""
                          }
                        },
                        "type": "scattergeo"
                      }
                    ],
                    "scattergl": [
                      {
                        "marker": {
                          "colorbar": {
                            "outlinewidth": 0,
                            "ticks": ""
                          }
                        },
                        "type": "scattergl"
                      }
                    ],
                    "scattermapbox": [
                      {
                        "marker": {
                          "colorbar": {
                            "outlinewidth": 0,
                            "ticks": ""
                          }
                        },
                        "type": "scattermapbox"
                      }
                    ],
                    "scatterpolar": [
                      {
                        "marker": {
                          "colorbar": {
                            "outlinewidth": 0,
                            "ticks": ""
                          }
                        },
                        "type": "scatterpolar"
                      }
                    ],
                    "scatterpolargl": [
                      {
                        "marker": {
                          "colorbar": {
                            "outlinewidth": 0,
                            "ticks": ""
                          }
                        },
                        "type": "scatterpolargl"
                      }
                    ],
                    "scatterternary": [
                      {
                        "marker": {
                          "colorbar": {
                            "outlinewidth": 0,
                            "ticks": ""
                          }
                        },
                        "type": "scatterternary"
                      }
                    ],
                    "surface": [
                      {
                        "colorbar": {
                          "outlinewidth": 0,
                          "ticks": ""
                        },
                        "colorscale": [
                          [
                            0,
                            "#0d0887"
                          ],
                          [
                            0.1111111111111111,
                            "#46039f"
                          ],
                          [
                            0.2222222222222222,
                            "#7201a8"
                          ],
                          [
                            0.3333333333333333,
                            "#9c179e"
                          ],
                          [
                            0.4444444444444444,
                            "#bd3786"
                          ],
                          [
                            0.5555555555555556,
                            "#d8576b"
                          ],
                          [
                            0.6666666666666666,
                            "#ed7953"
                          ],
                          [
                            0.7777777777777778,
                            "#fb9f3a"
                          ],
                          [
                            0.8888888888888888,
                            "#fdca26"
                          ],
                          [
                            1,
                            "#f0f921"
                          ]
                        ],
                        "type": "surface"
                      }
                    ],
                    "table": [
                      {
                        "cells": {
                          "fill": {
                            "color": "#EBF0F8"
                          },
                          "line": {
                            "color": "white"
                          }
                        },
                        "header": {
                          "fill": {
                            "color": "#C8D4E3"
                          },
                          "line": {
                            "color": "white"
                          }
                        },
                        "type": "table"
                      }
                    ]
                  },
                  "layout": {
                    "annotationdefaults": {
                      "arrowcolor": "#2a3f5f",
                      "arrowhead": 0,
                      "arrowwidth": 1
                    },
                    "autotypenumbers": "strict",
                    "coloraxis": {
                      "colorbar": {
                        "outlinewidth": 0,
                        "ticks": ""
                      }
                    },
                    "colorscale": {
                      "diverging": [
                        [
                          0,
                          "#8e0152"
                        ],
                        [
                          0.1,
                          "#c51b7d"
                        ],
                        [
                          0.2,
                          "#de77ae"
                        ],
                        [
                          0.3,
                          "#f1b6da"
                        ],
                        [
                          0.4,
                          "#fde0ef"
                        ],
                        [
                          0.5,
                          "#f7f7f7"
                        ],
                        [
                          0.6,
                          "#e6f5d0"
                        ],
                        [
                          0.7,
                          "#b8e186"
                        ],
                        [
                          0.8,
                          "#7fbc41"
                        ],
                        [
                          0.9,
                          "#4d9221"
                        ],
                        [
                          1,
                          "#276419"
                        ]
                      ],
                      "sequential": [
                        [
                          0,
                          "#0d0887"
                        ],
                        [
                          0.1111111111111111,
                          "#46039f"
                        ],
                        [
                          0.2222222222222222,
                          "#7201a8"
                        ],
                        [
                          0.3333333333333333,
                          "#9c179e"
                        ],
                        [
                          0.4444444444444444,
                          "#bd3786"
                        ],
                        [
                          0.5555555555555556,
                          "#d8576b"
                        ],
                        [
                          0.6666666666666666,
                          "#ed7953"
                        ],
                        [
                          0.7777777777777778,
                          "#fb9f3a"
                        ],
                        [
                          0.8888888888888888,
                          "#fdca26"
                        ],
                        [
                          1,
                          "#f0f921"
                        ]
                      ],
                      "sequentialminus": [
                        [
                          0,
                          "#0d0887"
                        ],
                        [
                          0.1111111111111111,
                          "#46039f"
                        ],
                        [
                          0.2222222222222222,
                          "#7201a8"
                        ],
                        [
                          0.3333333333333333,
                          "#9c179e"
                        ],
                        [
                          0.4444444444444444,
                          "#bd3786"
                        ],
                        [
                          0.5555555555555556,
                          "#d8576b"
                        ],
                        [
                          0.6666666666666666,
                          "#ed7953"
                        ],
                        [
                          0.7777777777777778,
                          "#fb9f3a"
                        ],
                        [
                          0.8888888888888888,
                          "#fdca26"
                        ],
                        [
                          1,
                          "#f0f921"
                        ]
                      ]
                    },
                    "colorway": [
                      "#636efa",
                      "#EF553B",
                      "#00cc96",
                      "#ab63fa",
                      "#FFA15A",
                      "#19d3f3",
                      "#FF6692",
                      "#B6E880",
                      "#FF97FF",
                      "#FECB52"
                    ],
                    "font": {
                      "color": "#2a3f5f"
                    },
                    "geo": {
                      "bgcolor": "white",
                      "lakecolor": "white",
                      "landcolor": "#E5ECF6",
                      "showlakes": true,
                      "showland": true,
                      "subunitcolor": "white"
                    },
                    "hoverlabel": {
                      "align": "left"
                    },
                    "hovermode": "closest",
                    "mapbox": {
                      "style": "light"
                    },
                    "paper_bgcolor": "white",
                    "plot_bgcolor": "#E5ECF6",
                    "polar": {
                      "angularaxis": {
                        "gridcolor": "white",
                        "linecolor": "white",
                        "ticks": ""
                      },
                      "bgcolor": "#E5ECF6",
                      "radialaxis": {
                        "gridcolor": "white",
                        "linecolor": "white",
                        "ticks": ""
                      }
                    },
                    "scene": {
                      "xaxis": {
                        "backgroundcolor": "#E5ECF6",
                        "gridcolor": "white",
                        "gridwidth": 2,
                        "linecolor": "white",
                        "showbackground": true,
                        "ticks": "",
                        "zerolinecolor": "white"
                      },
                      "yaxis": {
                        "backgroundcolor": "#E5ECF6",
                        "gridcolor": "white",
                        "gridwidth": 2,
                        "linecolor": "white",
                        "showbackground": true,
                        "ticks": "",
                        "zerolinecolor": "white"
                      },
                      "zaxis": {
                        "backgroundcolor": "#E5ECF6",
                        "gridcolor": "white",
                        "gridwidth": 2,
                        "linecolor": "white",
                        "showbackground": true,
                        "ticks": "",
                        "zerolinecolor": "white"
                      }
                    },
                    "shapedefaults": {
                      "line": {
                        "color": "#2a3f5f"
                      }
                    },
                    "ternary": {
                      "aaxis": {
                        "gridcolor": "white",
                        "linecolor": "white",
                        "ticks": ""
                      },
                      "baxis": {
                        "gridcolor": "white",
                        "linecolor": "white",
                        "ticks": ""
                      },
                      "bgcolor": "#E5ECF6",
                      "caxis": {
                        "gridcolor": "white",
                        "linecolor": "white",
                        "ticks": ""
                      }
                    },
                    "title": {
                      "x": 0.05
                    },
                    "xaxis": {
                      "automargin": true,
                      "gridcolor": "white",
                      "linecolor": "white",
                      "ticks": "",
                      "title": {
                        "standoff": 15
                      },
                      "zerolinecolor": "white",
                      "zerolinewidth": 2
                    },
                    "yaxis": {
                      "automargin": true,
                      "gridcolor": "white",
                      "linecolor": "white",
                      "ticks": "",
                      "title": {
                        "standoff": 15
                      },
                      "zerolinecolor": "white",
                      "zerolinewidth": 2
                    }
                  }
                },
                "xaxis": {
                  "showgrid": true,
                  "showline": true,
                  "showticklabels": true,
                  "title": {
                    "text": "Epoch"
                  }
                },
                "yaxis": {
                  "showgrid": true,
                  "showline": true,
                  "showticklabels": true,
                  "title": {
                    "text": "Validation Accuracy"
                  },
                  "zeroline": true
                }
              }
            }
          },
          "metadata": {},
          "output_type": "display_data"
        }
      ],
      "source": [
        "# dropout\n",
        "x = [0, 1, 2, 3, 4, 5, 6, 7, 8, 9, 10, 11, 12, 13, 14, 15, 16, 17, 18, 19, 20, 21, 22, 23, 24, 25, 26, 27, 28, 29, 30, 31, 32, 33, 34, 35, 36, 37, 38, 39, 40, 41, 42, 43, 44, 45, 46, 47, 48, 49, 50, 51, 52, 53, 54, 55, 56, 57, 58, 59, 60, 61, 62, 63, 64, 65, 66, 67, 68, 69, 70, 71, 72, 73, 74, 75, 76, 77, 78, 79, 80, 81, 82, 83, 84, 85, 86, 87, 88, 89, 90, 91, 92, 93, 94, 95, 96, 97, 98, 99]\n",
        "RNN = [0.283707857131958, 0.4101123511791229, 0.5056179761886597, 0.5449438095092773, 0.5589887499809265, 0.5589887499809265, 0.584269642829895, 0.601123571395874, 0.6067415475845337, 0.6292135119438171, 0.6207864880561829, 0.5983145833015442, 0.6095505356788635, 0.6348314881324768, 0.5983145833015442, 0.6376404762268066, 0.6207864880561829, 0.6235954761505127, 0.6095505356788635, 0.6348314881324768, 0.632022500038147, 0.6573033928871155, 0.6432584524154663, 0.6235954761505127, 0.6207864880561829, 0.6264045238494873, 0.6235954761505127, 0.6516854166984558, 0.632022500038147, 0.632022500038147, 0.6376404762268066, 0.6348314881324768, 0.632022500038147, 0.6348314881324768, 0.6460674405097961, 0.6151685118675232, 0.6404494643211365, 0.632022500038147, 0.6460674405097961, 0.6151685118675232, 0.6460674405097961, 0.6264045238494873, 0.6376404762268066, 0.6348314881324768, 0.6095505356788635, 0.6376404762268066, 0.6235954761505127, 0.6432584524154663, 0.6601123809814453, 0.6460674405097961, 0.6292135119438171, 0.648876428604126, 0.6095505356788635, 0.6460674405097961, 0.6264045238494873, 0.6376404762268066, 0.632022500038147, 0.6207864880561829, 0.6516854166984558, 0.6348314881324768, 0.6292135119438171, 0.6292135119438171, 0.6207864880561829, 0.6376404762268066, 0.6348314881324768, 0.648876428604126, 0.6264045238494873, 0.6292135119438171, 0.617977499961853, 0.632022500038147, 0.632022500038147, 0.6404494643211365, 0.6348314881324768, 0.648876428604126, 0.6376404762268066, 0.632022500038147, 0.6235954761505127, 0.6235954761505127, 0.6516854166984558, 0.648876428604126, 0.6460674405097961, 0.6235954761505127, 0.6123595237731934, 0.632022500038147, 0.6376404762268066, 0.6292135119438171, 0.6264045238494873, 0.6292135119438171, 0.6207864880561829, 0.601123571395874, 0.632022500038147, 0.6404494643211365, 0.6151685118675232, 0.6123595237731934, 0.6376404762268066, 0.6123595237731934, 0.6095505356788635, 0.6067415475845337, 0.601123571395874, 0.6376404762268066]\n",
        "LSTM = [0.4073033630847931, 0.483146071434021, 0.5477527976036072, 0.584269642829895, 0.6264045238494873, 0.6348314881324768, 0.6404494643211365, 0.6573033928871155, 0.6853932738304138, 0.6882022619247437, 0.6769663095474243, 0.6966292262077332, 0.716292142868042, 0.7078651785850525, 0.7106741666793823, 0.7078651785850525, 0.7275280952453613, 0.699438214302063, 0.7219101190567017, 0.7134831547737122, 0.7050561904907227, 0.7191011309623718, 0.7050561904907227, 0.7050561904907227, 0.7247191071510315, 0.7022472023963928, 0.7247191071510315, 0.7247191071510315, 0.7078651785850525, 0.6938202381134033, 0.7022472023963928, 0.7247191071510315, 0.7022472023963928, 0.7078651785850525, 0.6797752976417542, 0.699438214302063, 0.7106741666793823, 0.699438214302063, 0.7106741666793823, 0.7050561904907227, 0.7275280952453613, 0.7078651785850525, 0.7106741666793823, 0.699438214302063, 0.7219101190567017, 0.7191011309623718, 0.7050561904907227, 0.6966292262077332, 0.7219101190567017, 0.7078651785850525, 0.7219101190567017, 0.7359550595283508, 0.7050561904907227, 0.716292142868042, 0.7275280952453613, 0.7415730357170105, 0.7303370833396912, 0.7275280952453613, 0.7303370833396912, 0.7387640476226807, 0.7106741666793823, 0.7191011309623718, 0.7247191071510315, 0.6938202381134033, 0.7247191071510315, 0.7303370833396912, 0.7275280952453613, 0.7134831547737122, 0.7022472023963928, 0.7078651785850525, 0.7134831547737122, 0.7247191071510315, 0.716292142868042, 0.7219101190567017, 0.7303370833396912, 0.7078651785850525, 0.7134831547737122, 0.7106741666793823, 0.716292142868042, 0.716292142868042, 0.7191011309623718, 0.7247191071510315, 0.7134831547737122, 0.6882022619247437, 0.7134831547737122, 0.7191011309623718, 0.7078651785850525, 0.7191011309623718, 0.7050561904907227, 0.7219101190567017, 0.7191011309623718, 0.7134831547737122, 0.7247191071510315, 0.6882022619247437, 0.7022472023963928, 0.6853932738304138, 0.6966292262077332, 0.7078651785850525, 0.699438214302063, 0.7106741666793823]\n",
        "GRU = [0.3679775297641754, 0.5028089880943298, 0.5758426785469055, 0.6151685118675232, 0.6151685118675232, 0.6713483333587646, 0.6629213690757751, 0.6853932738304138, 0.6910112500190735, 0.6882022619247437, 0.7191011309623718, 0.6741573214530945, 0.6853932738304138, 0.6882022619247437, 0.682584285736084, 0.699438214302063, 0.7050561904907227, 0.7134831547737122, 0.699438214302063, 0.7050561904907227, 0.7022472023963928, 0.6853932738304138, 0.6797752976417542, 0.6741573214530945, 0.6966292262077332, 0.699438214302063, 0.7078651785850525, 0.6938202381134033, 0.6797752976417542, 0.7106741666793823, 0.7078651785850525, 0.7050561904907227, 0.7134831547737122, 0.6882022619247437, 0.6853932738304138, 0.7022472023963928, 0.6910112500190735, 0.6966292262077332, 0.7050561904907227, 0.716292142868042, 0.7134831547737122, 0.7050561904907227, 0.6966292262077332, 0.7191011309623718, 0.7134831547737122, 0.7106741666793823, 0.6938202381134033, 0.6910112500190735, 0.7106741666793823, 0.6910112500190735, 0.7303370833396912, 0.7050561904907227, 0.7106741666793823, 0.7134831547737122, 0.7022472023963928, 0.6938202381134033, 0.6966292262077332, 0.7303370833396912, 0.7134831547737122, 0.7219101190567017, 0.716292142868042, 0.6938202381134033, 0.7078651785850525, 0.7303370833396912, 0.7050561904907227, 0.7078651785850525, 0.6882022619247437, 0.7078651785850525, 0.7219101190567017, 0.6966292262077332, 0.7219101190567017, 0.7134831547737122, 0.716292142868042, 0.7359550595283508, 0.7106741666793823, 0.7106741666793823, 0.7022472023963928, 0.7191011309623718, 0.6966292262077332, 0.7191011309623718, 0.6853932738304138, 0.7134831547737122, 0.699438214302063, 0.7134831547737122, 0.7275280952453613, 0.7247191071510315, 0.7078651785850525, 0.7275280952453613, 0.7106741666793823, 0.716292142868042, 0.7303370833396912, 0.716292142868042, 0.7415730357170105, 0.716292142868042, 0.7219101190567017, 0.7078651785850525, 0.716292142868042, 0.7275280952453613, 0.7022472023963928, 0.7219101190567017]\n",
        "plot_favorite(x, RNN, LSTM, GRU)"
      ]
    },
    {
      "cell_type": "code",
      "execution_count": 78,
      "metadata": {},
      "outputs": [
        {
          "data": {
            "application/vnd.plotly.v1+json": {
              "config": {
                "plotlyServerURL": "https://plot.ly"
              },
              "data": [
                {
                  "line": {
                    "width": 1
                  },
                  "mode": "lines+markers",
                  "name": "RNN",
                  "type": "scatter",
                  "x": [
                    0,
                    1,
                    2,
                    3,
                    4,
                    5,
                    6,
                    7,
                    8,
                    9,
                    10,
                    11,
                    12,
                    13,
                    14,
                    15,
                    16,
                    17,
                    18,
                    19,
                    20,
                    21,
                    22,
                    23,
                    24,
                    25,
                    26,
                    27,
                    28,
                    29,
                    30,
                    31,
                    32,
                    33,
                    34,
                    35,
                    36,
                    37,
                    38,
                    39,
                    40,
                    41,
                    42,
                    43,
                    44,
                    45,
                    46,
                    47,
                    48,
                    49,
                    50,
                    51,
                    52,
                    53,
                    54,
                    55,
                    56,
                    57,
                    58,
                    59,
                    60,
                    61,
                    62,
                    63,
                    64,
                    65,
                    66,
                    67,
                    68,
                    69,
                    70,
                    71,
                    72,
                    73,
                    74,
                    75,
                    76,
                    77,
                    78,
                    79,
                    80,
                    81,
                    82,
                    83,
                    84,
                    85,
                    86,
                    87,
                    88,
                    89,
                    90,
                    91,
                    92,
                    93,
                    94,
                    95,
                    96,
                    97,
                    98,
                    99
                  ],
                  "y": [
                    0.27808988094329834,
                    0.4185393154621124,
                    0.5056179761886597,
                    0.5365168452262878,
                    0.5646067261695862,
                    0.5561797618865967,
                    0.584269642829895,
                    0.5955055952072144,
                    0.601123571395874,
                    0.617977499961853,
                    0.6151685118675232,
                    0.6095505356788635,
                    0.6123595237731934,
                    0.6292135119438171,
                    0.5983145833015442,
                    0.6376404762268066,
                    0.6235954761505127,
                    0.6264045238494873,
                    0.6123595237731934,
                    0.6376404762268066,
                    0.6264045238494873,
                    0.6629213690757751,
                    0.6376404762268066,
                    0.6292135119438171,
                    0.5983145833015442,
                    0.6264045238494873,
                    0.6264045238494873,
                    0.6544944047927856,
                    0.6404494643211365,
                    0.6264045238494873,
                    0.6264045238494873,
                    0.6235954761505127,
                    0.6235954761505127,
                    0.6404494643211365,
                    0.6432584524154663,
                    0.6207864880561829,
                    0.6348314881324768,
                    0.6264045238494873,
                    0.6207864880561829,
                    0.6151685118675232,
                    0.6601123809814453,
                    0.6151685118675232,
                    0.6404494643211365,
                    0.6629213690757751,
                    0.6292135119438171,
                    0.6235954761505127,
                    0.6235954761505127,
                    0.648876428604126,
                    0.6516854166984558,
                    0.6516854166984558,
                    0.6207864880561829,
                    0.6348314881324768,
                    0.6067415475845337,
                    0.617977499961853,
                    0.6460674405097961,
                    0.632022500038147,
                    0.632022500038147,
                    0.6348314881324768,
                    0.6460674405097961,
                    0.6207864880561829,
                    0.6123595237731934,
                    0.6432584524154663,
                    0.6067415475845337,
                    0.6573033928871155,
                    0.6432584524154663,
                    0.6432584524154663,
                    0.6404494643211365,
                    0.6404494643211365,
                    0.6573033928871155,
                    0.6348314881324768,
                    0.6601123809814453,
                    0.6292135119438171,
                    0.6376404762268066,
                    0.6432584524154663,
                    0.648876428604126,
                    0.6376404762268066,
                    0.6432584524154663,
                    0.6516854166984558,
                    0.6432584524154663,
                    0.6460674405097961,
                    0.6376404762268066,
                    0.6264045238494873,
                    0.6376404762268066,
                    0.6544944047927856,
                    0.632022500038147,
                    0.6376404762268066,
                    0.6123595237731934,
                    0.6123595237731934,
                    0.6460674405097961,
                    0.6376404762268066,
                    0.6544944047927856,
                    0.6432584524154663,
                    0.6460674405097961,
                    0.6404494643211365,
                    0.6432584524154663,
                    0.6264045238494873,
                    0.6544944047927856,
                    0.6292135119438171,
                    0.6404494643211365,
                    0.6292135119438171
                  ]
                },
                {
                  "line": {
                    "width": 1
                  },
                  "mode": "lines+markers",
                  "name": "LSTM",
                  "type": "scatter",
                  "x": [
                    0,
                    1,
                    2,
                    3,
                    4,
                    5,
                    6,
                    7,
                    8,
                    9,
                    10,
                    11,
                    12,
                    13,
                    14,
                    15,
                    16,
                    17,
                    18,
                    19,
                    20,
                    21,
                    22,
                    23,
                    24,
                    25,
                    26,
                    27,
                    28,
                    29,
                    30,
                    31,
                    32,
                    33,
                    34,
                    35,
                    36,
                    37,
                    38,
                    39,
                    40,
                    41,
                    42,
                    43,
                    44,
                    45,
                    46,
                    47,
                    48,
                    49,
                    50,
                    51,
                    52,
                    53,
                    54,
                    55,
                    56,
                    57,
                    58,
                    59,
                    60,
                    61,
                    62,
                    63,
                    64,
                    65,
                    66,
                    67,
                    68,
                    69,
                    70,
                    71,
                    72,
                    73,
                    74,
                    75,
                    76,
                    77,
                    78,
                    79,
                    80,
                    81,
                    82,
                    83,
                    84,
                    85,
                    86,
                    87,
                    88,
                    89,
                    90,
                    91,
                    92,
                    93,
                    94,
                    95,
                    96,
                    97,
                    98,
                    99
                  ],
                  "y": [
                    0.40449437499046326,
                    0.48033708333969116,
                    0.5421348214149475,
                    0.584269642829895,
                    0.6264045238494873,
                    0.6460674405097961,
                    0.6404494643211365,
                    0.6544944047927856,
                    0.6938202381134033,
                    0.6769663095474243,
                    0.6713483333587646,
                    0.6910112500190735,
                    0.699438214302063,
                    0.7106741666793823,
                    0.6910112500190735,
                    0.7050561904907227,
                    0.716292142868042,
                    0.6966292262077332,
                    0.7275280952453613,
                    0.7078651785850525,
                    0.7134831547737122,
                    0.7191011309623718,
                    0.7050561904907227,
                    0.7022472023963928,
                    0.7387640476226807,
                    0.7022472023963928,
                    0.7106741666793823,
                    0.7134831547737122,
                    0.7247191071510315,
                    0.7134831547737122,
                    0.7415730357170105,
                    0.7106741666793823,
                    0.7191011309623718,
                    0.7134831547737122,
                    0.6938202381134033,
                    0.7106741666793823,
                    0.7303370833396912,
                    0.6910112500190735,
                    0.7303370833396912,
                    0.7359550595283508,
                    0.7134831547737122,
                    0.7106741666793823,
                    0.716292142868042,
                    0.7219101190567017,
                    0.6769663095474243,
                    0.682584285736084,
                    0.7191011309623718,
                    0.6938202381134033,
                    0.7191011309623718,
                    0.7303370833396912,
                    0.733146071434021,
                    0.7303370833396912,
                    0.7106741666793823,
                    0.716292142868042,
                    0.7415730357170105,
                    0.7443820238113403,
                    0.7106741666793823,
                    0.7191011309623718,
                    0.716292142868042,
                    0.7191011309623718,
                    0.7078651785850525,
                    0.7247191071510315,
                    0.7275280952453613,
                    0.7106741666793823,
                    0.733146071434021,
                    0.7275280952453613,
                    0.7275280952453613,
                    0.7106741666793823,
                    0.733146071434021,
                    0.7078651785850525,
                    0.7247191071510315,
                    0.75,
                    0.7275280952453613,
                    0.7275280952453613,
                    0.7219101190567017,
                    0.7247191071510315,
                    0.7275280952453613,
                    0.7415730357170105,
                    0.7359550595283508,
                    0.7219101190567017,
                    0.7275280952453613,
                    0.716292142868042,
                    0.699438214302063,
                    0.7303370833396912,
                    0.7078651785850525,
                    0.7191011309623718,
                    0.7359550595283508,
                    0.7303370833396912,
                    0.7387640476226807,
                    0.7359550595283508,
                    0.7415730357170105,
                    0.7387640476226807,
                    0.733146071434021,
                    0.7078651785850525,
                    0.7303370833396912,
                    0.7219101190567017,
                    0.7219101190567017,
                    0.733146071434021,
                    0.7219101190567017,
                    0.716292142868042
                  ]
                },
                {
                  "line": {
                    "width": 1
                  },
                  "mode": "lines+markers",
                  "name": "GRU",
                  "type": "scatter",
                  "x": [
                    0,
                    1,
                    2,
                    3,
                    4,
                    5,
                    6,
                    7,
                    8,
                    9,
                    10,
                    11,
                    12,
                    13,
                    14,
                    15,
                    16,
                    17,
                    18,
                    19,
                    20,
                    21,
                    22,
                    23,
                    24,
                    25,
                    26,
                    27,
                    28,
                    29,
                    30,
                    31,
                    32,
                    33,
                    34,
                    35,
                    36,
                    37,
                    38,
                    39,
                    40,
                    41,
                    42,
                    43,
                    44,
                    45,
                    46,
                    47,
                    48,
                    49,
                    50,
                    51,
                    52,
                    53,
                    54,
                    55,
                    56,
                    57,
                    58,
                    59,
                    60,
                    61,
                    62,
                    63,
                    64,
                    65,
                    66,
                    67,
                    68,
                    69,
                    70,
                    71,
                    72,
                    73,
                    74,
                    75,
                    76,
                    77,
                    78,
                    79,
                    80,
                    81,
                    82,
                    83,
                    84,
                    85,
                    86,
                    87,
                    88,
                    89,
                    90,
                    91,
                    92,
                    93,
                    94,
                    95,
                    96,
                    97,
                    98,
                    99
                  ],
                  "y": [
                    0.3904494345188141,
                    0.516853928565979,
                    0.5589887499809265,
                    0.5955055952072144,
                    0.6348314881324768,
                    0.6544944047927856,
                    0.6629213690757751,
                    0.6685393452644348,
                    0.7050561904907227,
                    0.7078651785850525,
                    0.699438214302063,
                    0.6910112500190735,
                    0.7219101190567017,
                    0.7247191071510315,
                    0.7275280952453613,
                    0.7078651785850525,
                    0.7191011309623718,
                    0.7106741666793823,
                    0.7275280952453613,
                    0.716292142868042,
                    0.716292142868042,
                    0.7219101190567017,
                    0.7247191071510315,
                    0.7191011309623718,
                    0.7022472023963928,
                    0.7078651785850525,
                    0.7359550595283508,
                    0.7191011309623718,
                    0.7247191071510315,
                    0.7022472023963928,
                    0.7387640476226807,
                    0.7219101190567017,
                    0.7275280952453613,
                    0.75,
                    0.7359550595283508,
                    0.7359550595283508,
                    0.7275280952453613,
                    0.7303370833396912,
                    0.7219101190567017,
                    0.7471910119056702,
                    0.7387640476226807,
                    0.733146071434021,
                    0.7191011309623718,
                    0.7303370833396912,
                    0.7303370833396912,
                    0.6853932738304138,
                    0.7275280952453613,
                    0.733146071434021,
                    0.7303370833396912,
                    0.7219101190567017,
                    0.7134831547737122,
                    0.733146071434021,
                    0.7247191071510315,
                    0.7303370833396912,
                    0.7471910119056702,
                    0.7415730357170105,
                    0.7556179761886597,
                    0.7415730357170105,
                    0.7443820238113403,
                    0.7359550595283508,
                    0.7275280952453613,
                    0.733146071434021,
                    0.7471910119056702,
                    0.7528089880943298,
                    0.7584269642829895,
                    0.7359550595283508,
                    0.733146071434021,
                    0.7359550595283508,
                    0.7415730357170105,
                    0.7415730357170105,
                    0.716292142868042,
                    0.7247191071510315,
                    0.733146071434021,
                    0.7471910119056702,
                    0.7443820238113403,
                    0.7219101190567017,
                    0.7612359523773193,
                    0.75,
                    0.7471910119056702,
                    0.7359550595283508,
                    0.7359550595283508,
                    0.7443820238113403,
                    0.7359550595283508,
                    0.7528089880943298,
                    0.7415730357170105,
                    0.7415730357170105,
                    0.7584269642829895,
                    0.7247191071510315,
                    0.7443820238113403,
                    0.7191011309623718,
                    0.7247191071510315,
                    0.7528089880943298,
                    0.7471910119056702,
                    0.7387640476226807,
                    0.7359550595283508,
                    0.7443820238113403,
                    0.7556179761886597,
                    0.75,
                    0.75,
                    0.75
                  ]
                }
              ],
              "layout": {
                "autosize": false,
                "margin": {
                  "autoexpand": false,
                  "l": 170,
                  "r": 150,
                  "t": 50
                },
                "plot_bgcolor": "black",
                "template": {
                  "data": {
                    "bar": [
                      {
                        "error_x": {
                          "color": "#2a3f5f"
                        },
                        "error_y": {
                          "color": "#2a3f5f"
                        },
                        "marker": {
                          "line": {
                            "color": "#E5ECF6",
                            "width": 0.5
                          },
                          "pattern": {
                            "fillmode": "overlay",
                            "size": 10,
                            "solidity": 0.2
                          }
                        },
                        "type": "bar"
                      }
                    ],
                    "barpolar": [
                      {
                        "marker": {
                          "line": {
                            "color": "#E5ECF6",
                            "width": 0.5
                          },
                          "pattern": {
                            "fillmode": "overlay",
                            "size": 10,
                            "solidity": 0.2
                          }
                        },
                        "type": "barpolar"
                      }
                    ],
                    "carpet": [
                      {
                        "aaxis": {
                          "endlinecolor": "#2a3f5f",
                          "gridcolor": "white",
                          "linecolor": "white",
                          "minorgridcolor": "white",
                          "startlinecolor": "#2a3f5f"
                        },
                        "baxis": {
                          "endlinecolor": "#2a3f5f",
                          "gridcolor": "white",
                          "linecolor": "white",
                          "minorgridcolor": "white",
                          "startlinecolor": "#2a3f5f"
                        },
                        "type": "carpet"
                      }
                    ],
                    "choropleth": [
                      {
                        "colorbar": {
                          "outlinewidth": 0,
                          "ticks": ""
                        },
                        "type": "choropleth"
                      }
                    ],
                    "contour": [
                      {
                        "colorbar": {
                          "outlinewidth": 0,
                          "ticks": ""
                        },
                        "colorscale": [
                          [
                            0,
                            "#0d0887"
                          ],
                          [
                            0.1111111111111111,
                            "#46039f"
                          ],
                          [
                            0.2222222222222222,
                            "#7201a8"
                          ],
                          [
                            0.3333333333333333,
                            "#9c179e"
                          ],
                          [
                            0.4444444444444444,
                            "#bd3786"
                          ],
                          [
                            0.5555555555555556,
                            "#d8576b"
                          ],
                          [
                            0.6666666666666666,
                            "#ed7953"
                          ],
                          [
                            0.7777777777777778,
                            "#fb9f3a"
                          ],
                          [
                            0.8888888888888888,
                            "#fdca26"
                          ],
                          [
                            1,
                            "#f0f921"
                          ]
                        ],
                        "type": "contour"
                      }
                    ],
                    "contourcarpet": [
                      {
                        "colorbar": {
                          "outlinewidth": 0,
                          "ticks": ""
                        },
                        "type": "contourcarpet"
                      }
                    ],
                    "heatmap": [
                      {
                        "colorbar": {
                          "outlinewidth": 0,
                          "ticks": ""
                        },
                        "colorscale": [
                          [
                            0,
                            "#0d0887"
                          ],
                          [
                            0.1111111111111111,
                            "#46039f"
                          ],
                          [
                            0.2222222222222222,
                            "#7201a8"
                          ],
                          [
                            0.3333333333333333,
                            "#9c179e"
                          ],
                          [
                            0.4444444444444444,
                            "#bd3786"
                          ],
                          [
                            0.5555555555555556,
                            "#d8576b"
                          ],
                          [
                            0.6666666666666666,
                            "#ed7953"
                          ],
                          [
                            0.7777777777777778,
                            "#fb9f3a"
                          ],
                          [
                            0.8888888888888888,
                            "#fdca26"
                          ],
                          [
                            1,
                            "#f0f921"
                          ]
                        ],
                        "type": "heatmap"
                      }
                    ],
                    "heatmapgl": [
                      {
                        "colorbar": {
                          "outlinewidth": 0,
                          "ticks": ""
                        },
                        "colorscale": [
                          [
                            0,
                            "#0d0887"
                          ],
                          [
                            0.1111111111111111,
                            "#46039f"
                          ],
                          [
                            0.2222222222222222,
                            "#7201a8"
                          ],
                          [
                            0.3333333333333333,
                            "#9c179e"
                          ],
                          [
                            0.4444444444444444,
                            "#bd3786"
                          ],
                          [
                            0.5555555555555556,
                            "#d8576b"
                          ],
                          [
                            0.6666666666666666,
                            "#ed7953"
                          ],
                          [
                            0.7777777777777778,
                            "#fb9f3a"
                          ],
                          [
                            0.8888888888888888,
                            "#fdca26"
                          ],
                          [
                            1,
                            "#f0f921"
                          ]
                        ],
                        "type": "heatmapgl"
                      }
                    ],
                    "histogram": [
                      {
                        "marker": {
                          "pattern": {
                            "fillmode": "overlay",
                            "size": 10,
                            "solidity": 0.2
                          }
                        },
                        "type": "histogram"
                      }
                    ],
                    "histogram2d": [
                      {
                        "colorbar": {
                          "outlinewidth": 0,
                          "ticks": ""
                        },
                        "colorscale": [
                          [
                            0,
                            "#0d0887"
                          ],
                          [
                            0.1111111111111111,
                            "#46039f"
                          ],
                          [
                            0.2222222222222222,
                            "#7201a8"
                          ],
                          [
                            0.3333333333333333,
                            "#9c179e"
                          ],
                          [
                            0.4444444444444444,
                            "#bd3786"
                          ],
                          [
                            0.5555555555555556,
                            "#d8576b"
                          ],
                          [
                            0.6666666666666666,
                            "#ed7953"
                          ],
                          [
                            0.7777777777777778,
                            "#fb9f3a"
                          ],
                          [
                            0.8888888888888888,
                            "#fdca26"
                          ],
                          [
                            1,
                            "#f0f921"
                          ]
                        ],
                        "type": "histogram2d"
                      }
                    ],
                    "histogram2dcontour": [
                      {
                        "colorbar": {
                          "outlinewidth": 0,
                          "ticks": ""
                        },
                        "colorscale": [
                          [
                            0,
                            "#0d0887"
                          ],
                          [
                            0.1111111111111111,
                            "#46039f"
                          ],
                          [
                            0.2222222222222222,
                            "#7201a8"
                          ],
                          [
                            0.3333333333333333,
                            "#9c179e"
                          ],
                          [
                            0.4444444444444444,
                            "#bd3786"
                          ],
                          [
                            0.5555555555555556,
                            "#d8576b"
                          ],
                          [
                            0.6666666666666666,
                            "#ed7953"
                          ],
                          [
                            0.7777777777777778,
                            "#fb9f3a"
                          ],
                          [
                            0.8888888888888888,
                            "#fdca26"
                          ],
                          [
                            1,
                            "#f0f921"
                          ]
                        ],
                        "type": "histogram2dcontour"
                      }
                    ],
                    "mesh3d": [
                      {
                        "colorbar": {
                          "outlinewidth": 0,
                          "ticks": ""
                        },
                        "type": "mesh3d"
                      }
                    ],
                    "parcoords": [
                      {
                        "line": {
                          "colorbar": {
                            "outlinewidth": 0,
                            "ticks": ""
                          }
                        },
                        "type": "parcoords"
                      }
                    ],
                    "pie": [
                      {
                        "automargin": true,
                        "type": "pie"
                      }
                    ],
                    "scatter": [
                      {
                        "marker": {
                          "colorbar": {
                            "outlinewidth": 0,
                            "ticks": ""
                          }
                        },
                        "type": "scatter"
                      }
                    ],
                    "scatter3d": [
                      {
                        "line": {
                          "colorbar": {
                            "outlinewidth": 0,
                            "ticks": ""
                          }
                        },
                        "marker": {
                          "colorbar": {
                            "outlinewidth": 0,
                            "ticks": ""
                          }
                        },
                        "type": "scatter3d"
                      }
                    ],
                    "scattercarpet": [
                      {
                        "marker": {
                          "colorbar": {
                            "outlinewidth": 0,
                            "ticks": ""
                          }
                        },
                        "type": "scattercarpet"
                      }
                    ],
                    "scattergeo": [
                      {
                        "marker": {
                          "colorbar": {
                            "outlinewidth": 0,
                            "ticks": ""
                          }
                        },
                        "type": "scattergeo"
                      }
                    ],
                    "scattergl": [
                      {
                        "marker": {
                          "colorbar": {
                            "outlinewidth": 0,
                            "ticks": ""
                          }
                        },
                        "type": "scattergl"
                      }
                    ],
                    "scattermapbox": [
                      {
                        "marker": {
                          "colorbar": {
                            "outlinewidth": 0,
                            "ticks": ""
                          }
                        },
                        "type": "scattermapbox"
                      }
                    ],
                    "scatterpolar": [
                      {
                        "marker": {
                          "colorbar": {
                            "outlinewidth": 0,
                            "ticks": ""
                          }
                        },
                        "type": "scatterpolar"
                      }
                    ],
                    "scatterpolargl": [
                      {
                        "marker": {
                          "colorbar": {
                            "outlinewidth": 0,
                            "ticks": ""
                          }
                        },
                        "type": "scatterpolargl"
                      }
                    ],
                    "scatterternary": [
                      {
                        "marker": {
                          "colorbar": {
                            "outlinewidth": 0,
                            "ticks": ""
                          }
                        },
                        "type": "scatterternary"
                      }
                    ],
                    "surface": [
                      {
                        "colorbar": {
                          "outlinewidth": 0,
                          "ticks": ""
                        },
                        "colorscale": [
                          [
                            0,
                            "#0d0887"
                          ],
                          [
                            0.1111111111111111,
                            "#46039f"
                          ],
                          [
                            0.2222222222222222,
                            "#7201a8"
                          ],
                          [
                            0.3333333333333333,
                            "#9c179e"
                          ],
                          [
                            0.4444444444444444,
                            "#bd3786"
                          ],
                          [
                            0.5555555555555556,
                            "#d8576b"
                          ],
                          [
                            0.6666666666666666,
                            "#ed7953"
                          ],
                          [
                            0.7777777777777778,
                            "#fb9f3a"
                          ],
                          [
                            0.8888888888888888,
                            "#fdca26"
                          ],
                          [
                            1,
                            "#f0f921"
                          ]
                        ],
                        "type": "surface"
                      }
                    ],
                    "table": [
                      {
                        "cells": {
                          "fill": {
                            "color": "#EBF0F8"
                          },
                          "line": {
                            "color": "white"
                          }
                        },
                        "header": {
                          "fill": {
                            "color": "#C8D4E3"
                          },
                          "line": {
                            "color": "white"
                          }
                        },
                        "type": "table"
                      }
                    ]
                  },
                  "layout": {
                    "annotationdefaults": {
                      "arrowcolor": "#2a3f5f",
                      "arrowhead": 0,
                      "arrowwidth": 1
                    },
                    "autotypenumbers": "strict",
                    "coloraxis": {
                      "colorbar": {
                        "outlinewidth": 0,
                        "ticks": ""
                      }
                    },
                    "colorscale": {
                      "diverging": [
                        [
                          0,
                          "#8e0152"
                        ],
                        [
                          0.1,
                          "#c51b7d"
                        ],
                        [
                          0.2,
                          "#de77ae"
                        ],
                        [
                          0.3,
                          "#f1b6da"
                        ],
                        [
                          0.4,
                          "#fde0ef"
                        ],
                        [
                          0.5,
                          "#f7f7f7"
                        ],
                        [
                          0.6,
                          "#e6f5d0"
                        ],
                        [
                          0.7,
                          "#b8e186"
                        ],
                        [
                          0.8,
                          "#7fbc41"
                        ],
                        [
                          0.9,
                          "#4d9221"
                        ],
                        [
                          1,
                          "#276419"
                        ]
                      ],
                      "sequential": [
                        [
                          0,
                          "#0d0887"
                        ],
                        [
                          0.1111111111111111,
                          "#46039f"
                        ],
                        [
                          0.2222222222222222,
                          "#7201a8"
                        ],
                        [
                          0.3333333333333333,
                          "#9c179e"
                        ],
                        [
                          0.4444444444444444,
                          "#bd3786"
                        ],
                        [
                          0.5555555555555556,
                          "#d8576b"
                        ],
                        [
                          0.6666666666666666,
                          "#ed7953"
                        ],
                        [
                          0.7777777777777778,
                          "#fb9f3a"
                        ],
                        [
                          0.8888888888888888,
                          "#fdca26"
                        ],
                        [
                          1,
                          "#f0f921"
                        ]
                      ],
                      "sequentialminus": [
                        [
                          0,
                          "#0d0887"
                        ],
                        [
                          0.1111111111111111,
                          "#46039f"
                        ],
                        [
                          0.2222222222222222,
                          "#7201a8"
                        ],
                        [
                          0.3333333333333333,
                          "#9c179e"
                        ],
                        [
                          0.4444444444444444,
                          "#bd3786"
                        ],
                        [
                          0.5555555555555556,
                          "#d8576b"
                        ],
                        [
                          0.6666666666666666,
                          "#ed7953"
                        ],
                        [
                          0.7777777777777778,
                          "#fb9f3a"
                        ],
                        [
                          0.8888888888888888,
                          "#fdca26"
                        ],
                        [
                          1,
                          "#f0f921"
                        ]
                      ]
                    },
                    "colorway": [
                      "#636efa",
                      "#EF553B",
                      "#00cc96",
                      "#ab63fa",
                      "#FFA15A",
                      "#19d3f3",
                      "#FF6692",
                      "#B6E880",
                      "#FF97FF",
                      "#FECB52"
                    ],
                    "font": {
                      "color": "#2a3f5f"
                    },
                    "geo": {
                      "bgcolor": "white",
                      "lakecolor": "white",
                      "landcolor": "#E5ECF6",
                      "showlakes": true,
                      "showland": true,
                      "subunitcolor": "white"
                    },
                    "hoverlabel": {
                      "align": "left"
                    },
                    "hovermode": "closest",
                    "mapbox": {
                      "style": "light"
                    },
                    "paper_bgcolor": "white",
                    "plot_bgcolor": "#E5ECF6",
                    "polar": {
                      "angularaxis": {
                        "gridcolor": "white",
                        "linecolor": "white",
                        "ticks": ""
                      },
                      "bgcolor": "#E5ECF6",
                      "radialaxis": {
                        "gridcolor": "white",
                        "linecolor": "white",
                        "ticks": ""
                      }
                    },
                    "scene": {
                      "xaxis": {
                        "backgroundcolor": "#E5ECF6",
                        "gridcolor": "white",
                        "gridwidth": 2,
                        "linecolor": "white",
                        "showbackground": true,
                        "ticks": "",
                        "zerolinecolor": "white"
                      },
                      "yaxis": {
                        "backgroundcolor": "#E5ECF6",
                        "gridcolor": "white",
                        "gridwidth": 2,
                        "linecolor": "white",
                        "showbackground": true,
                        "ticks": "",
                        "zerolinecolor": "white"
                      },
                      "zaxis": {
                        "backgroundcolor": "#E5ECF6",
                        "gridcolor": "white",
                        "gridwidth": 2,
                        "linecolor": "white",
                        "showbackground": true,
                        "ticks": "",
                        "zerolinecolor": "white"
                      }
                    },
                    "shapedefaults": {
                      "line": {
                        "color": "#2a3f5f"
                      }
                    },
                    "ternary": {
                      "aaxis": {
                        "gridcolor": "white",
                        "linecolor": "white",
                        "ticks": ""
                      },
                      "baxis": {
                        "gridcolor": "white",
                        "linecolor": "white",
                        "ticks": ""
                      },
                      "bgcolor": "#E5ECF6",
                      "caxis": {
                        "gridcolor": "white",
                        "linecolor": "white",
                        "ticks": ""
                      }
                    },
                    "title": {
                      "x": 0.05
                    },
                    "xaxis": {
                      "automargin": true,
                      "gridcolor": "white",
                      "linecolor": "white",
                      "ticks": "",
                      "title": {
                        "standoff": 15
                      },
                      "zerolinecolor": "white",
                      "zerolinewidth": 2
                    },
                    "yaxis": {
                      "automargin": true,
                      "gridcolor": "white",
                      "linecolor": "white",
                      "ticks": "",
                      "title": {
                        "standoff": 15
                      },
                      "zerolinecolor": "white",
                      "zerolinewidth": 2
                    }
                  }
                },
                "xaxis": {
                  "showgrid": true,
                  "showline": true,
                  "showticklabels": true,
                  "title": {
                    "text": "Epoch"
                  }
                },
                "yaxis": {
                  "showgrid": true,
                  "showline": true,
                  "showticklabels": true,
                  "title": {
                    "text": "Validation Accuracy"
                  },
                  "zeroline": true
                }
              }
            }
          },
          "metadata": {},
          "output_type": "display_data"
        }
      ],
      "source": [
        "# dropout+adamW\n",
        "x = [0, 1, 2, 3, 4, 5, 6, 7, 8, 9, 10, 11, 12, 13, 14, 15, 16, 17, 18, 19, 20, 21, 22, 23, 24, 25, 26, 27, 28, 29, 30, 31, 32, 33, 34, 35, 36, 37, 38, 39, 40, 41, 42, 43, 44, 45, 46, 47, 48, 49, 50, 51, 52, 53, 54, 55, 56, 57, 58, 59, 60, 61, 62, 63, 64, 65, 66, 67, 68, 69, 70, 71, 72, 73, 74, 75, 76, 77, 78, 79, 80, 81, 82, 83, 84, 85, 86, 87, 88, 89, 90, 91, 92, 93, 94, 95, 96, 97, 98, 99]\n",
        "RNN = [0.27808988094329834, 0.4185393154621124, 0.5056179761886597, 0.5365168452262878, 0.5646067261695862, 0.5561797618865967, 0.584269642829895, 0.5955055952072144, 0.601123571395874, 0.617977499961853, 0.6151685118675232, 0.6095505356788635, 0.6123595237731934, 0.6292135119438171, 0.5983145833015442, 0.6376404762268066, 0.6235954761505127, 0.6264045238494873, 0.6123595237731934, 0.6376404762268066, 0.6264045238494873, 0.6629213690757751, 0.6376404762268066, 0.6292135119438171, 0.5983145833015442, 0.6264045238494873, 0.6264045238494873, 0.6544944047927856, 0.6404494643211365, 0.6264045238494873, 0.6264045238494873, 0.6235954761505127, 0.6235954761505127, 0.6404494643211365, 0.6432584524154663, 0.6207864880561829, 0.6348314881324768, 0.6264045238494873, 0.6207864880561829, 0.6151685118675232, 0.6601123809814453, 0.6151685118675232, 0.6404494643211365, 0.6629213690757751, 0.6292135119438171, 0.6235954761505127, 0.6235954761505127, 0.648876428604126, 0.6516854166984558, 0.6516854166984558, 0.6207864880561829, 0.6348314881324768, 0.6067415475845337, 0.617977499961853, 0.6460674405097961, 0.632022500038147, 0.632022500038147, 0.6348314881324768, 0.6460674405097961, 0.6207864880561829, 0.6123595237731934, 0.6432584524154663, 0.6067415475845337, 0.6573033928871155, 0.6432584524154663, 0.6432584524154663, 0.6404494643211365, 0.6404494643211365, 0.6573033928871155, 0.6348314881324768, 0.6601123809814453, 0.6292135119438171, 0.6376404762268066, 0.6432584524154663, 0.648876428604126, 0.6376404762268066, 0.6432584524154663, 0.6516854166984558, 0.6432584524154663, 0.6460674405097961, 0.6376404762268066, 0.6264045238494873, 0.6376404762268066, 0.6544944047927856, 0.632022500038147, 0.6376404762268066, 0.6123595237731934, 0.6123595237731934, 0.6460674405097961, 0.6376404762268066, 0.6544944047927856, 0.6432584524154663, 0.6460674405097961, 0.6404494643211365, 0.6432584524154663, 0.6264045238494873, 0.6544944047927856, 0.6292135119438171, 0.6404494643211365, 0.6292135119438171]\n",
        "LSTM = [0.40449437499046326, 0.48033708333969116, 0.5421348214149475, 0.584269642829895, 0.6264045238494873, 0.6460674405097961, 0.6404494643211365, 0.6544944047927856, 0.6938202381134033, 0.6769663095474243, 0.6713483333587646, 0.6910112500190735, 0.699438214302063, 0.7106741666793823, 0.6910112500190735, 0.7050561904907227, 0.716292142868042, 0.6966292262077332, 0.7275280952453613, 0.7078651785850525, 0.7134831547737122, 0.7191011309623718, 0.7050561904907227, 0.7022472023963928, 0.7387640476226807, 0.7022472023963928, 0.7106741666793823, 0.7134831547737122, 0.7247191071510315, 0.7134831547737122, 0.7415730357170105, 0.7106741666793823, 0.7191011309623718, 0.7134831547737122, 0.6938202381134033, 0.7106741666793823, 0.7303370833396912, 0.6910112500190735, 0.7303370833396912, 0.7359550595283508, 0.7134831547737122, 0.7106741666793823, 0.716292142868042, 0.7219101190567017, 0.6769663095474243, 0.682584285736084, 0.7191011309623718, 0.6938202381134033, 0.7191011309623718, 0.7303370833396912, 0.733146071434021, 0.7303370833396912, 0.7106741666793823, 0.716292142868042, 0.7415730357170105, 0.7443820238113403, 0.7106741666793823, 0.7191011309623718, 0.716292142868042, 0.7191011309623718, 0.7078651785850525, 0.7247191071510315, 0.7275280952453613, 0.7106741666793823, 0.733146071434021, 0.7275280952453613, 0.7275280952453613, 0.7106741666793823, 0.733146071434021, 0.7078651785850525, 0.7247191071510315, 0.75, 0.7275280952453613, 0.7275280952453613, 0.7219101190567017, 0.7247191071510315, 0.7275280952453613, 0.7415730357170105, 0.7359550595283508, 0.7219101190567017, 0.7275280952453613, 0.716292142868042, 0.699438214302063, 0.7303370833396912, 0.7078651785850525, 0.7191011309623718, 0.7359550595283508, 0.7303370833396912, 0.7387640476226807, 0.7359550595283508, 0.7415730357170105, 0.7387640476226807, 0.733146071434021, 0.7078651785850525, 0.7303370833396912, 0.7219101190567017, 0.7219101190567017, 0.733146071434021, 0.7219101190567017, 0.716292142868042]\n",
        "GRU = [0.3904494345188141, 0.516853928565979, 0.5589887499809265, 0.5955055952072144, 0.6348314881324768, 0.6544944047927856, 0.6629213690757751, 0.6685393452644348, 0.7050561904907227, 0.7078651785850525, 0.699438214302063, 0.6910112500190735, 0.7219101190567017, 0.7247191071510315, 0.7275280952453613, 0.7078651785850525, 0.7191011309623718, 0.7106741666793823, 0.7275280952453613, 0.716292142868042, 0.716292142868042, 0.7219101190567017, 0.7247191071510315, 0.7191011309623718, 0.7022472023963928, 0.7078651785850525, 0.7359550595283508, 0.7191011309623718, 0.7247191071510315, 0.7022472023963928, 0.7387640476226807, 0.7219101190567017, 0.7275280952453613, 0.75, 0.7359550595283508, 0.7359550595283508, 0.7275280952453613, 0.7303370833396912, 0.7219101190567017, 0.7471910119056702, 0.7387640476226807, 0.733146071434021, 0.7191011309623718, 0.7303370833396912, 0.7303370833396912, 0.6853932738304138, 0.7275280952453613, 0.733146071434021, 0.7303370833396912, 0.7219101190567017, 0.7134831547737122, 0.733146071434021, 0.7247191071510315, 0.7303370833396912, 0.7471910119056702, 0.7415730357170105, 0.7556179761886597, 0.7415730357170105, 0.7443820238113403, 0.7359550595283508, 0.7275280952453613, 0.733146071434021, 0.7471910119056702, 0.7528089880943298, 0.7584269642829895, 0.7359550595283508, 0.733146071434021, 0.7359550595283508, 0.7415730357170105, 0.7415730357170105, 0.716292142868042, 0.7247191071510315, 0.733146071434021, 0.7471910119056702, 0.7443820238113403, 0.7219101190567017, 0.7612359523773193, 0.75, 0.7471910119056702, 0.7359550595283508, 0.7359550595283508, 0.7443820238113403, 0.7359550595283508, 0.7528089880943298, 0.7415730357170105, 0.7415730357170105, 0.7584269642829895, 0.7247191071510315, 0.7443820238113403, 0.7191011309623718, 0.7247191071510315, 0.7528089880943298, 0.7471910119056702, 0.7387640476226807, 0.7359550595283508, 0.7443820238113403, 0.7556179761886597, 0.75, 0.75, 0.75]\n",
        "plot_favorite(x, RNN, LSTM, GRU)"
      ]
    },
    {
      "cell_type": "code",
      "execution_count": 3,
      "metadata": {},
      "outputs": [],
      "source": [
        "def plot_favorite_single(x, GRU):\n",
        "    random_x = x\n",
        "    random_y2 = GRU\n",
        "\n",
        "    fig = go.Figure()\n",
        "    fig.add_trace(go.Scatter(x=random_x, y=random_y2, line = dict(width=1, color='gold'),\n",
        "                        mode='lines+markers', name='GRU'))\n",
        "\n",
        "    fig.update_layout(  xaxis_title='Epoch', yaxis_title='Validation Accuracy', \n",
        "                        xaxis=dict(showline=True, showgrid=True, showticklabels=True), \n",
        "                        yaxis=dict(showgrid=True, zeroline=True, showline=True, showticklabels=True), \n",
        "                        autosize=False,\n",
        "                        margin=dict(autoexpand=False,l=170,r=150,t=50,),plot_bgcolor='black')\n",
        "    fig.show()"
      ]
    },
    {
      "cell_type": "code",
      "execution_count": 53,
      "metadata": {},
      "outputs": [
        {
          "data": {
            "application/vnd.plotly.v1+json": {
              "config": {
                "plotlyServerURL": "https://plot.ly"
              },
              "data": [
                {
                  "line": {
                    "color": "gold",
                    "width": 1
                  },
                  "mode": "lines+markers",
                  "name": "GRU",
                  "type": "scatter",
                  "x": [
                    0,
                    1,
                    2,
                    3,
                    4,
                    5,
                    6,
                    7,
                    8,
                    9,
                    10,
                    11,
                    12,
                    13,
                    14,
                    15,
                    16,
                    17,
                    18,
                    19,
                    20,
                    21,
                    22,
                    23,
                    24,
                    25,
                    26,
                    27,
                    28,
                    29,
                    30,
                    31,
                    32,
                    33,
                    34,
                    35,
                    36,
                    37,
                    38,
                    39,
                    40,
                    41,
                    42,
                    43,
                    44,
                    45,
                    46,
                    47,
                    48,
                    49,
                    50,
                    51,
                    52,
                    53,
                    54,
                    55,
                    56,
                    57,
                    58,
                    59,
                    60,
                    61,
                    62,
                    63,
                    64,
                    65,
                    66,
                    67,
                    68,
                    69,
                    70,
                    71,
                    72,
                    73,
                    74,
                    75,
                    76,
                    77,
                    78,
                    79,
                    80,
                    81,
                    82,
                    83,
                    84,
                    85,
                    86,
                    87,
                    88,
                    89,
                    90,
                    91,
                    92,
                    93,
                    94,
                    95,
                    96,
                    97,
                    98,
                    99,
                    100,
                    101,
                    102,
                    103,
                    104,
                    105,
                    106,
                    107,
                    108,
                    109,
                    110,
                    111,
                    112,
                    113,
                    114,
                    115,
                    116,
                    117,
                    118,
                    119,
                    120,
                    121,
                    122,
                    123,
                    124,
                    125,
                    126,
                    127,
                    128,
                    129,
                    130,
                    131,
                    132,
                    133,
                    134,
                    135,
                    136,
                    137,
                    138,
                    139,
                    140,
                    141,
                    142,
                    143,
                    144,
                    145,
                    146,
                    147,
                    148,
                    149,
                    150,
                    151,
                    152,
                    153,
                    154,
                    155,
                    156,
                    157,
                    158,
                    159,
                    160,
                    161,
                    162,
                    163,
                    164,
                    165,
                    166,
                    167,
                    168,
                    169,
                    170,
                    171,
                    172,
                    173,
                    174,
                    175,
                    176,
                    177,
                    178,
                    179,
                    180,
                    181,
                    182,
                    183,
                    184,
                    185,
                    186,
                    187,
                    188,
                    189,
                    190,
                    191,
                    192,
                    193,
                    194,
                    195,
                    196,
                    197,
                    198,
                    199,
                    200,
                    201,
                    202,
                    203,
                    204,
                    205,
                    206,
                    207,
                    208,
                    209,
                    210,
                    211,
                    212,
                    213,
                    214,
                    215,
                    216,
                    217,
                    218,
                    219,
                    220,
                    221,
                    222,
                    223,
                    224,
                    225,
                    226,
                    227,
                    228,
                    229,
                    230,
                    231,
                    232,
                    233,
                    234,
                    235,
                    236,
                    237,
                    238,
                    239,
                    240,
                    241,
                    242,
                    243,
                    244,
                    245,
                    246,
                    247,
                    248,
                    249,
                    250,
                    251,
                    252,
                    253,
                    254,
                    255,
                    256,
                    257,
                    258,
                    259,
                    260,
                    261,
                    262,
                    263,
                    264,
                    265,
                    266,
                    267,
                    268,
                    269,
                    270,
                    271,
                    272,
                    273,
                    274,
                    275,
                    276,
                    277,
                    278,
                    279,
                    280,
                    281,
                    282,
                    283,
                    284,
                    285,
                    286,
                    287,
                    288,
                    289,
                    290,
                    291,
                    292,
                    293,
                    294,
                    295,
                    296,
                    297,
                    298,
                    299
                  ],
                  "y": [
                    0.38764044642448425,
                    0.49438202381134033,
                    0.5561797618865967,
                    0.550561785697937,
                    0.5898876190185547,
                    0.5983145833015442,
                    0.6095505356788635,
                    0.6404494643211365,
                    0.6404494643211365,
                    0.6460674405097961,
                    0.632022500038147,
                    0.6685393452644348,
                    0.648876428604126,
                    0.6573033928871155,
                    0.6544944047927856,
                    0.6629213690757751,
                    0.6797752976417542,
                    0.6769663095474243,
                    0.6769663095474243,
                    0.6769663095474243,
                    0.6573033928871155,
                    0.6544944047927856,
                    0.6741573214530945,
                    0.6713483333587646,
                    0.6741573214530945,
                    0.6938202381134033,
                    0.6966292262077332,
                    0.6685393452644348,
                    0.6544944047927856,
                    0.665730357170105,
                    0.6516854166984558,
                    0.6853932738304138,
                    0.6713483333587646,
                    0.682584285736084,
                    0.6629213690757751,
                    0.6713483333587646,
                    0.6685393452644348,
                    0.6629213690757751,
                    0.6882022619247437,
                    0.6769663095474243,
                    0.6713483333587646,
                    0.6741573214530945,
                    0.6797752976417542,
                    0.6629213690757751,
                    0.6629213690757751,
                    0.682584285736084,
                    0.6910112500190735,
                    0.6601123809814453,
                    0.6685393452644348,
                    0.665730357170105,
                    0.682584285736084,
                    0.6853932738304138,
                    0.6910112500190735,
                    0.7050561904907227,
                    0.6769663095474243,
                    0.6629213690757751,
                    0.665730357170105,
                    0.6685393452644348,
                    0.6882022619247437,
                    0.6713483333587646,
                    0.6797752976417542,
                    0.6544944047927856,
                    0.665730357170105,
                    0.665730357170105,
                    0.6910112500190735,
                    0.6769663095474243,
                    0.6516854166984558,
                    0.6713483333587646,
                    0.665730357170105,
                    0.6601123809814453,
                    0.699438214302063,
                    0.6797752976417542,
                    0.6853932738304138,
                    0.682584285736084,
                    0.7050561904907227,
                    0.6966292262077332,
                    0.6741573214530945,
                    0.6573033928871155,
                    0.6853932738304138,
                    0.6769663095474243,
                    0.6966292262077332,
                    0.6966292262077332,
                    0.6741573214530945,
                    0.6910112500190735,
                    0.6797752976417542,
                    0.6882022619247437,
                    0.6573033928871155,
                    0.6573033928871155,
                    0.6713483333587646,
                    0.682584285736084,
                    0.6853932738304138,
                    0.6741573214530945,
                    0.6713483333587646,
                    0.6966292262077332,
                    0.6882022619247437,
                    0.6853932738304138,
                    0.6629213690757751,
                    0.682584285736084,
                    0.6882022619247437,
                    0.682584285736084,
                    0.7022472023963928,
                    0.6938202381134033,
                    0.7078651785850525,
                    0.6910112500190735,
                    0.6769663095474243,
                    0.6966292262077332,
                    0.6797752976417542,
                    0.6853932738304138,
                    0.6938202381134033,
                    0.699438214302063,
                    0.6882022619247437,
                    0.6573033928871155,
                    0.6629213690757751,
                    0.6797752976417542,
                    0.6713483333587646,
                    0.6685393452644348,
                    0.6713483333587646,
                    0.6853932738304138,
                    0.682584285736084,
                    0.6769663095474243,
                    0.6741573214530945,
                    0.6910112500190735,
                    0.6938202381134033,
                    0.682584285736084,
                    0.6769663095474243,
                    0.6769663095474243,
                    0.682584285736084,
                    0.6685393452644348,
                    0.6573033928871155,
                    0.6853932738304138,
                    0.7050561904907227,
                    0.699438214302063,
                    0.6882022619247437,
                    0.6910112500190735,
                    0.7106741666793823,
                    0.7106741666793823,
                    0.7106741666793823,
                    0.6938202381134033,
                    0.6966292262077332,
                    0.699438214302063,
                    0.6938202381134033,
                    0.699438214302063,
                    0.6938202381134033,
                    0.6910112500190735,
                    0.7078651785850525,
                    0.6966292262077332,
                    0.6741573214530945,
                    0.7022472023963928,
                    0.7078651785850525,
                    0.7050561904907227,
                    0.7050561904907227,
                    0.6882022619247437,
                    0.6910112500190735,
                    0.6853932738304138,
                    0.7078651785850525,
                    0.699438214302063,
                    0.6966292262077332,
                    0.6882022619247437,
                    0.699438214302063,
                    0.6910112500190735,
                    0.7106741666793823,
                    0.7078651785850525,
                    0.682584285736084,
                    0.6601123809814453,
                    0.682584285736084,
                    0.6966292262077332,
                    0.6853932738304138,
                    0.7134831547737122,
                    0.7247191071510315,
                    0.7219101190567017,
                    0.6882022619247437,
                    0.6910112500190735,
                    0.7050561904907227,
                    0.6966292262077332,
                    0.6938202381134033,
                    0.7303370833396912,
                    0.7078651785850525,
                    0.6797752976417542,
                    0.6938202381134033,
                    0.699438214302063,
                    0.7134831547737122,
                    0.7106741666793823,
                    0.7050561904907227,
                    0.7022472023963928,
                    0.6882022619247437,
                    0.6853932738304138,
                    0.6882022619247437,
                    0.682584285736084,
                    0.7191011309623718,
                    0.716292142868042,
                    0.716292142868042,
                    0.6938202381134033,
                    0.699438214302063,
                    0.7050561904907227,
                    0.7247191071510315,
                    0.7022472023963928,
                    0.6966292262077332,
                    0.7022472023963928,
                    0.6882022619247437,
                    0.7050561904907227,
                    0.7106741666793823,
                    0.7134831547737122,
                    0.699438214302063,
                    0.6910112500190735,
                    0.6910112500190735,
                    0.6966292262077332,
                    0.733146071434021,
                    0.7106741666793823,
                    0.716292142868042,
                    0.7247191071510315,
                    0.7106741666793823,
                    0.6938202381134033,
                    0.6938202381134033,
                    0.7134831547737122,
                    0.7106741666793823,
                    0.716292142868042,
                    0.7247191071510315,
                    0.7134831547737122,
                    0.7106741666793823,
                    0.7191011309623718,
                    0.733146071434021,
                    0.7443820238113403,
                    0.7247191071510315,
                    0.716292142868042,
                    0.7471910119056702,
                    0.7106741666793823,
                    0.7219101190567017,
                    0.7050561904907227,
                    0.699438214302063,
                    0.6910112500190735,
                    0.6797752976417542,
                    0.699438214302063,
                    0.7191011309623718,
                    0.716292142868042,
                    0.7050561904907227,
                    0.6910112500190735,
                    0.699438214302063,
                    0.6966292262077332,
                    0.7275280952453613,
                    0.716292142868042,
                    0.7078651785850525,
                    0.6853932738304138,
                    0.6910112500190735,
                    0.699438214302063,
                    0.7106741666793823,
                    0.7022472023963928,
                    0.6966292262077332,
                    0.716292142868042,
                    0.6910112500190735,
                    0.716292142868042,
                    0.6769663095474243,
                    0.6938202381134033,
                    0.682584285736084,
                    0.6938202381134033,
                    0.6910112500190735,
                    0.6910112500190735,
                    0.6797752976417542,
                    0.682584285736084,
                    0.6910112500190735,
                    0.6882022619247437,
                    0.682584285736084,
                    0.6966292262077332,
                    0.7022472023963928,
                    0.7078651785850525,
                    0.699438214302063,
                    0.7078651785850525,
                    0.699438214302063,
                    0.6910112500190735,
                    0.7134831547737122,
                    0.7106741666793823,
                    0.6966292262077332,
                    0.7022472023963928,
                    0.699438214302063,
                    0.6966292262077332,
                    0.6910112500190735,
                    0.7022472023963928,
                    0.7219101190567017,
                    0.7134831547737122,
                    0.716292142868042,
                    0.6966292262077332,
                    0.716292142868042,
                    0.7191011309623718,
                    0.7106741666793823,
                    0.7106741666793823,
                    0.7022472023963928,
                    0.7106741666793823,
                    0.716292142868042,
                    0.7106741666793823,
                    0.6910112500190735,
                    0.7106741666793823,
                    0.7219101190567017,
                    0.7387640476226807,
                    0.7219101190567017,
                    0.716292142868042,
                    0.733146071434021,
                    0.716292142868042,
                    0.7219101190567017,
                    0.7219101190567017,
                    0.7134831547737122,
                    0.7134831547737122
                  ]
                }
              ],
              "layout": {
                "autosize": false,
                "margin": {
                  "autoexpand": false,
                  "l": 170,
                  "r": 150,
                  "t": 50
                },
                "plot_bgcolor": "black",
                "template": {
                  "data": {
                    "bar": [
                      {
                        "error_x": {
                          "color": "#2a3f5f"
                        },
                        "error_y": {
                          "color": "#2a3f5f"
                        },
                        "marker": {
                          "line": {
                            "color": "#E5ECF6",
                            "width": 0.5
                          },
                          "pattern": {
                            "fillmode": "overlay",
                            "size": 10,
                            "solidity": 0.2
                          }
                        },
                        "type": "bar"
                      }
                    ],
                    "barpolar": [
                      {
                        "marker": {
                          "line": {
                            "color": "#E5ECF6",
                            "width": 0.5
                          },
                          "pattern": {
                            "fillmode": "overlay",
                            "size": 10,
                            "solidity": 0.2
                          }
                        },
                        "type": "barpolar"
                      }
                    ],
                    "carpet": [
                      {
                        "aaxis": {
                          "endlinecolor": "#2a3f5f",
                          "gridcolor": "white",
                          "linecolor": "white",
                          "minorgridcolor": "white",
                          "startlinecolor": "#2a3f5f"
                        },
                        "baxis": {
                          "endlinecolor": "#2a3f5f",
                          "gridcolor": "white",
                          "linecolor": "white",
                          "minorgridcolor": "white",
                          "startlinecolor": "#2a3f5f"
                        },
                        "type": "carpet"
                      }
                    ],
                    "choropleth": [
                      {
                        "colorbar": {
                          "outlinewidth": 0,
                          "ticks": ""
                        },
                        "type": "choropleth"
                      }
                    ],
                    "contour": [
                      {
                        "colorbar": {
                          "outlinewidth": 0,
                          "ticks": ""
                        },
                        "colorscale": [
                          [
                            0,
                            "#0d0887"
                          ],
                          [
                            0.1111111111111111,
                            "#46039f"
                          ],
                          [
                            0.2222222222222222,
                            "#7201a8"
                          ],
                          [
                            0.3333333333333333,
                            "#9c179e"
                          ],
                          [
                            0.4444444444444444,
                            "#bd3786"
                          ],
                          [
                            0.5555555555555556,
                            "#d8576b"
                          ],
                          [
                            0.6666666666666666,
                            "#ed7953"
                          ],
                          [
                            0.7777777777777778,
                            "#fb9f3a"
                          ],
                          [
                            0.8888888888888888,
                            "#fdca26"
                          ],
                          [
                            1,
                            "#f0f921"
                          ]
                        ],
                        "type": "contour"
                      }
                    ],
                    "contourcarpet": [
                      {
                        "colorbar": {
                          "outlinewidth": 0,
                          "ticks": ""
                        },
                        "type": "contourcarpet"
                      }
                    ],
                    "heatmap": [
                      {
                        "colorbar": {
                          "outlinewidth": 0,
                          "ticks": ""
                        },
                        "colorscale": [
                          [
                            0,
                            "#0d0887"
                          ],
                          [
                            0.1111111111111111,
                            "#46039f"
                          ],
                          [
                            0.2222222222222222,
                            "#7201a8"
                          ],
                          [
                            0.3333333333333333,
                            "#9c179e"
                          ],
                          [
                            0.4444444444444444,
                            "#bd3786"
                          ],
                          [
                            0.5555555555555556,
                            "#d8576b"
                          ],
                          [
                            0.6666666666666666,
                            "#ed7953"
                          ],
                          [
                            0.7777777777777778,
                            "#fb9f3a"
                          ],
                          [
                            0.8888888888888888,
                            "#fdca26"
                          ],
                          [
                            1,
                            "#f0f921"
                          ]
                        ],
                        "type": "heatmap"
                      }
                    ],
                    "heatmapgl": [
                      {
                        "colorbar": {
                          "outlinewidth": 0,
                          "ticks": ""
                        },
                        "colorscale": [
                          [
                            0,
                            "#0d0887"
                          ],
                          [
                            0.1111111111111111,
                            "#46039f"
                          ],
                          [
                            0.2222222222222222,
                            "#7201a8"
                          ],
                          [
                            0.3333333333333333,
                            "#9c179e"
                          ],
                          [
                            0.4444444444444444,
                            "#bd3786"
                          ],
                          [
                            0.5555555555555556,
                            "#d8576b"
                          ],
                          [
                            0.6666666666666666,
                            "#ed7953"
                          ],
                          [
                            0.7777777777777778,
                            "#fb9f3a"
                          ],
                          [
                            0.8888888888888888,
                            "#fdca26"
                          ],
                          [
                            1,
                            "#f0f921"
                          ]
                        ],
                        "type": "heatmapgl"
                      }
                    ],
                    "histogram": [
                      {
                        "marker": {
                          "pattern": {
                            "fillmode": "overlay",
                            "size": 10,
                            "solidity": 0.2
                          }
                        },
                        "type": "histogram"
                      }
                    ],
                    "histogram2d": [
                      {
                        "colorbar": {
                          "outlinewidth": 0,
                          "ticks": ""
                        },
                        "colorscale": [
                          [
                            0,
                            "#0d0887"
                          ],
                          [
                            0.1111111111111111,
                            "#46039f"
                          ],
                          [
                            0.2222222222222222,
                            "#7201a8"
                          ],
                          [
                            0.3333333333333333,
                            "#9c179e"
                          ],
                          [
                            0.4444444444444444,
                            "#bd3786"
                          ],
                          [
                            0.5555555555555556,
                            "#d8576b"
                          ],
                          [
                            0.6666666666666666,
                            "#ed7953"
                          ],
                          [
                            0.7777777777777778,
                            "#fb9f3a"
                          ],
                          [
                            0.8888888888888888,
                            "#fdca26"
                          ],
                          [
                            1,
                            "#f0f921"
                          ]
                        ],
                        "type": "histogram2d"
                      }
                    ],
                    "histogram2dcontour": [
                      {
                        "colorbar": {
                          "outlinewidth": 0,
                          "ticks": ""
                        },
                        "colorscale": [
                          [
                            0,
                            "#0d0887"
                          ],
                          [
                            0.1111111111111111,
                            "#46039f"
                          ],
                          [
                            0.2222222222222222,
                            "#7201a8"
                          ],
                          [
                            0.3333333333333333,
                            "#9c179e"
                          ],
                          [
                            0.4444444444444444,
                            "#bd3786"
                          ],
                          [
                            0.5555555555555556,
                            "#d8576b"
                          ],
                          [
                            0.6666666666666666,
                            "#ed7953"
                          ],
                          [
                            0.7777777777777778,
                            "#fb9f3a"
                          ],
                          [
                            0.8888888888888888,
                            "#fdca26"
                          ],
                          [
                            1,
                            "#f0f921"
                          ]
                        ],
                        "type": "histogram2dcontour"
                      }
                    ],
                    "mesh3d": [
                      {
                        "colorbar": {
                          "outlinewidth": 0,
                          "ticks": ""
                        },
                        "type": "mesh3d"
                      }
                    ],
                    "parcoords": [
                      {
                        "line": {
                          "colorbar": {
                            "outlinewidth": 0,
                            "ticks": ""
                          }
                        },
                        "type": "parcoords"
                      }
                    ],
                    "pie": [
                      {
                        "automargin": true,
                        "type": "pie"
                      }
                    ],
                    "scatter": [
                      {
                        "marker": {
                          "colorbar": {
                            "outlinewidth": 0,
                            "ticks": ""
                          }
                        },
                        "type": "scatter"
                      }
                    ],
                    "scatter3d": [
                      {
                        "line": {
                          "colorbar": {
                            "outlinewidth": 0,
                            "ticks": ""
                          }
                        },
                        "marker": {
                          "colorbar": {
                            "outlinewidth": 0,
                            "ticks": ""
                          }
                        },
                        "type": "scatter3d"
                      }
                    ],
                    "scattercarpet": [
                      {
                        "marker": {
                          "colorbar": {
                            "outlinewidth": 0,
                            "ticks": ""
                          }
                        },
                        "type": "scattercarpet"
                      }
                    ],
                    "scattergeo": [
                      {
                        "marker": {
                          "colorbar": {
                            "outlinewidth": 0,
                            "ticks": ""
                          }
                        },
                        "type": "scattergeo"
                      }
                    ],
                    "scattergl": [
                      {
                        "marker": {
                          "colorbar": {
                            "outlinewidth": 0,
                            "ticks": ""
                          }
                        },
                        "type": "scattergl"
                      }
                    ],
                    "scattermapbox": [
                      {
                        "marker": {
                          "colorbar": {
                            "outlinewidth": 0,
                            "ticks": ""
                          }
                        },
                        "type": "scattermapbox"
                      }
                    ],
                    "scatterpolar": [
                      {
                        "marker": {
                          "colorbar": {
                            "outlinewidth": 0,
                            "ticks": ""
                          }
                        },
                        "type": "scatterpolar"
                      }
                    ],
                    "scatterpolargl": [
                      {
                        "marker": {
                          "colorbar": {
                            "outlinewidth": 0,
                            "ticks": ""
                          }
                        },
                        "type": "scatterpolargl"
                      }
                    ],
                    "scatterternary": [
                      {
                        "marker": {
                          "colorbar": {
                            "outlinewidth": 0,
                            "ticks": ""
                          }
                        },
                        "type": "scatterternary"
                      }
                    ],
                    "surface": [
                      {
                        "colorbar": {
                          "outlinewidth": 0,
                          "ticks": ""
                        },
                        "colorscale": [
                          [
                            0,
                            "#0d0887"
                          ],
                          [
                            0.1111111111111111,
                            "#46039f"
                          ],
                          [
                            0.2222222222222222,
                            "#7201a8"
                          ],
                          [
                            0.3333333333333333,
                            "#9c179e"
                          ],
                          [
                            0.4444444444444444,
                            "#bd3786"
                          ],
                          [
                            0.5555555555555556,
                            "#d8576b"
                          ],
                          [
                            0.6666666666666666,
                            "#ed7953"
                          ],
                          [
                            0.7777777777777778,
                            "#fb9f3a"
                          ],
                          [
                            0.8888888888888888,
                            "#fdca26"
                          ],
                          [
                            1,
                            "#f0f921"
                          ]
                        ],
                        "type": "surface"
                      }
                    ],
                    "table": [
                      {
                        "cells": {
                          "fill": {
                            "color": "#EBF0F8"
                          },
                          "line": {
                            "color": "white"
                          }
                        },
                        "header": {
                          "fill": {
                            "color": "#C8D4E3"
                          },
                          "line": {
                            "color": "white"
                          }
                        },
                        "type": "table"
                      }
                    ]
                  },
                  "layout": {
                    "annotationdefaults": {
                      "arrowcolor": "#2a3f5f",
                      "arrowhead": 0,
                      "arrowwidth": 1
                    },
                    "autotypenumbers": "strict",
                    "coloraxis": {
                      "colorbar": {
                        "outlinewidth": 0,
                        "ticks": ""
                      }
                    },
                    "colorscale": {
                      "diverging": [
                        [
                          0,
                          "#8e0152"
                        ],
                        [
                          0.1,
                          "#c51b7d"
                        ],
                        [
                          0.2,
                          "#de77ae"
                        ],
                        [
                          0.3,
                          "#f1b6da"
                        ],
                        [
                          0.4,
                          "#fde0ef"
                        ],
                        [
                          0.5,
                          "#f7f7f7"
                        ],
                        [
                          0.6,
                          "#e6f5d0"
                        ],
                        [
                          0.7,
                          "#b8e186"
                        ],
                        [
                          0.8,
                          "#7fbc41"
                        ],
                        [
                          0.9,
                          "#4d9221"
                        ],
                        [
                          1,
                          "#276419"
                        ]
                      ],
                      "sequential": [
                        [
                          0,
                          "#0d0887"
                        ],
                        [
                          0.1111111111111111,
                          "#46039f"
                        ],
                        [
                          0.2222222222222222,
                          "#7201a8"
                        ],
                        [
                          0.3333333333333333,
                          "#9c179e"
                        ],
                        [
                          0.4444444444444444,
                          "#bd3786"
                        ],
                        [
                          0.5555555555555556,
                          "#d8576b"
                        ],
                        [
                          0.6666666666666666,
                          "#ed7953"
                        ],
                        [
                          0.7777777777777778,
                          "#fb9f3a"
                        ],
                        [
                          0.8888888888888888,
                          "#fdca26"
                        ],
                        [
                          1,
                          "#f0f921"
                        ]
                      ],
                      "sequentialminus": [
                        [
                          0,
                          "#0d0887"
                        ],
                        [
                          0.1111111111111111,
                          "#46039f"
                        ],
                        [
                          0.2222222222222222,
                          "#7201a8"
                        ],
                        [
                          0.3333333333333333,
                          "#9c179e"
                        ],
                        [
                          0.4444444444444444,
                          "#bd3786"
                        ],
                        [
                          0.5555555555555556,
                          "#d8576b"
                        ],
                        [
                          0.6666666666666666,
                          "#ed7953"
                        ],
                        [
                          0.7777777777777778,
                          "#fb9f3a"
                        ],
                        [
                          0.8888888888888888,
                          "#fdca26"
                        ],
                        [
                          1,
                          "#f0f921"
                        ]
                      ]
                    },
                    "colorway": [
                      "#636efa",
                      "#EF553B",
                      "#00cc96",
                      "#ab63fa",
                      "#FFA15A",
                      "#19d3f3",
                      "#FF6692",
                      "#B6E880",
                      "#FF97FF",
                      "#FECB52"
                    ],
                    "font": {
                      "color": "#2a3f5f"
                    },
                    "geo": {
                      "bgcolor": "white",
                      "lakecolor": "white",
                      "landcolor": "#E5ECF6",
                      "showlakes": true,
                      "showland": true,
                      "subunitcolor": "white"
                    },
                    "hoverlabel": {
                      "align": "left"
                    },
                    "hovermode": "closest",
                    "mapbox": {
                      "style": "light"
                    },
                    "paper_bgcolor": "white",
                    "plot_bgcolor": "#E5ECF6",
                    "polar": {
                      "angularaxis": {
                        "gridcolor": "white",
                        "linecolor": "white",
                        "ticks": ""
                      },
                      "bgcolor": "#E5ECF6",
                      "radialaxis": {
                        "gridcolor": "white",
                        "linecolor": "white",
                        "ticks": ""
                      }
                    },
                    "scene": {
                      "xaxis": {
                        "backgroundcolor": "#E5ECF6",
                        "gridcolor": "white",
                        "gridwidth": 2,
                        "linecolor": "white",
                        "showbackground": true,
                        "ticks": "",
                        "zerolinecolor": "white"
                      },
                      "yaxis": {
                        "backgroundcolor": "#E5ECF6",
                        "gridcolor": "white",
                        "gridwidth": 2,
                        "linecolor": "white",
                        "showbackground": true,
                        "ticks": "",
                        "zerolinecolor": "white"
                      },
                      "zaxis": {
                        "backgroundcolor": "#E5ECF6",
                        "gridcolor": "white",
                        "gridwidth": 2,
                        "linecolor": "white",
                        "showbackground": true,
                        "ticks": "",
                        "zerolinecolor": "white"
                      }
                    },
                    "shapedefaults": {
                      "line": {
                        "color": "#2a3f5f"
                      }
                    },
                    "ternary": {
                      "aaxis": {
                        "gridcolor": "white",
                        "linecolor": "white",
                        "ticks": ""
                      },
                      "baxis": {
                        "gridcolor": "white",
                        "linecolor": "white",
                        "ticks": ""
                      },
                      "bgcolor": "#E5ECF6",
                      "caxis": {
                        "gridcolor": "white",
                        "linecolor": "white",
                        "ticks": ""
                      }
                    },
                    "title": {
                      "x": 0.05
                    },
                    "xaxis": {
                      "automargin": true,
                      "gridcolor": "white",
                      "linecolor": "white",
                      "ticks": "",
                      "title": {
                        "standoff": 15
                      },
                      "zerolinecolor": "white",
                      "zerolinewidth": 2
                    },
                    "yaxis": {
                      "automargin": true,
                      "gridcolor": "white",
                      "linecolor": "white",
                      "ticks": "",
                      "title": {
                        "standoff": 15
                      },
                      "zerolinecolor": "white",
                      "zerolinewidth": 2
                    }
                  }
                },
                "xaxis": {
                  "showgrid": true,
                  "showline": true,
                  "showticklabels": true,
                  "title": {
                    "text": "Epoch"
                  }
                },
                "yaxis": {
                  "showgrid": true,
                  "showline": true,
                  "showticklabels": true,
                  "title": {
                    "text": "Validation Accuracy"
                  },
                  "zeroline": true
                }
              }
            }
          },
          "metadata": {},
          "output_type": "display_data"
        }
      ],
      "source": [
        "# attention\n",
        "x = [0, 1, 2, 3, 4, 5, 6, 7, 8, 9, 10, 11, 12, 13, 14, 15, 16, 17, 18, 19, 20, 21, 22, 23, 24, 25, 26, 27, 28, 29, 30, 31, 32, 33, 34, 35, 36, 37, 38, 39, 40, 41, 42, 43, 44, 45, 46, 47, 48, 49, 50, 51, 52, 53, 54, 55, 56, 57, 58, 59, 60, 61, 62, 63, 64, 65, 66, 67, 68, 69, 70, 71, 72, 73, 74, 75, 76, 77, 78, 79, 80, 81, 82, 83, 84, 85, 86, 87, 88, 89, 90, 91, 92, 93, 94, 95, 96, 97, 98, 99, 100, 101, 102, 103, 104, 105, 106, 107, 108, 109, 110, 111, 112, 113, 114, 115, 116, 117, 118, 119, 120, 121, 122, 123, 124, 125, 126, 127, 128, 129, 130, 131, 132, 133, 134, 135, 136, 137, 138, 139, 140, 141, 142, 143, 144, 145, 146, 147, 148, 149, 150, 151, 152, 153, 154, 155, 156, 157, 158, 159, 160, 161, 162, 163, 164, 165, 166, 167, 168, 169, 170, 171, 172, 173, 174, 175, 176, 177, 178, 179, 180, 181, 182, 183, 184, 185, 186, 187, 188, 189, 190, 191, 192, 193, 194, 195, 196, 197, 198, 199, 200, 201, 202, 203, 204, 205, 206, 207, 208, 209, 210, 211, 212, 213, 214, 215, 216, 217, 218, 219, 220, 221, 222, 223, 224, 225, 226, 227, 228, 229, 230, 231, 232, 233, 234, 235, 236, 237, 238, 239, 240, 241, 242, 243, 244, 245, 246, 247, 248, 249, 250, 251, 252, 253, 254, 255, 256, 257, 258, 259, 260, 261, 262, 263, 264, 265, 266, 267, 268, 269, 270, 271, 272, 273, 274, 275, 276, 277, 278, 279, 280, 281, 282, 283, 284, 285, 286, 287, 288, 289, 290, 291, 292, 293, 294, 295, 296, 297, 298, 299]\n",
        "GRU = [0.38764044642448425, 0.49438202381134033, 0.5561797618865967, 0.550561785697937, 0.5898876190185547, 0.5983145833015442, 0.6095505356788635, 0.6404494643211365, 0.6404494643211365, 0.6460674405097961, 0.632022500038147, 0.6685393452644348, 0.648876428604126, 0.6573033928871155, 0.6544944047927856, 0.6629213690757751, 0.6797752976417542, 0.6769663095474243, 0.6769663095474243, 0.6769663095474243, 0.6573033928871155, 0.6544944047927856, 0.6741573214530945, 0.6713483333587646, 0.6741573214530945, 0.6938202381134033, 0.6966292262077332, 0.6685393452644348, 0.6544944047927856, 0.665730357170105, 0.6516854166984558, 0.6853932738304138, 0.6713483333587646, 0.682584285736084, 0.6629213690757751, 0.6713483333587646, 0.6685393452644348, 0.6629213690757751, 0.6882022619247437, 0.6769663095474243, 0.6713483333587646, 0.6741573214530945, 0.6797752976417542, 0.6629213690757751, 0.6629213690757751, 0.682584285736084, 0.6910112500190735, 0.6601123809814453, 0.6685393452644348, 0.665730357170105, 0.682584285736084, 0.6853932738304138, 0.6910112500190735, 0.7050561904907227, 0.6769663095474243, 0.6629213690757751, 0.665730357170105, 0.6685393452644348, 0.6882022619247437, 0.6713483333587646, 0.6797752976417542, 0.6544944047927856, 0.665730357170105, 0.665730357170105, 0.6910112500190735, 0.6769663095474243, 0.6516854166984558, 0.6713483333587646, 0.665730357170105, 0.6601123809814453, 0.699438214302063, 0.6797752976417542, 0.6853932738304138, 0.682584285736084, 0.7050561904907227, 0.6966292262077332, 0.6741573214530945, 0.6573033928871155, 0.6853932738304138, 0.6769663095474243, 0.6966292262077332, 0.6966292262077332, 0.6741573214530945, 0.6910112500190735, 0.6797752976417542, 0.6882022619247437, 0.6573033928871155, 0.6573033928871155, 0.6713483333587646, 0.682584285736084, 0.6853932738304138, 0.6741573214530945, 0.6713483333587646, 0.6966292262077332, 0.6882022619247437, 0.6853932738304138, 0.6629213690757751, 0.682584285736084, 0.6882022619247437, 0.682584285736084, 0.7022472023963928, 0.6938202381134033, 0.7078651785850525, 0.6910112500190735, 0.6769663095474243, 0.6966292262077332, 0.6797752976417542, 0.6853932738304138, 0.6938202381134033, 0.699438214302063, 0.6882022619247437, 0.6573033928871155, 0.6629213690757751, 0.6797752976417542, 0.6713483333587646, 0.6685393452644348, 0.6713483333587646, 0.6853932738304138, 0.682584285736084, 0.6769663095474243, 0.6741573214530945, 0.6910112500190735, 0.6938202381134033, 0.682584285736084, 0.6769663095474243, 0.6769663095474243, 0.682584285736084, 0.6685393452644348, 0.6573033928871155, 0.6853932738304138, 0.7050561904907227, 0.699438214302063, 0.6882022619247437, 0.6910112500190735, 0.7106741666793823, 0.7106741666793823, 0.7106741666793823, 0.6938202381134033, 0.6966292262077332, 0.699438214302063, 0.6938202381134033, 0.699438214302063, 0.6938202381134033, 0.6910112500190735, 0.7078651785850525, 0.6966292262077332, 0.6741573214530945, 0.7022472023963928, 0.7078651785850525, 0.7050561904907227, 0.7050561904907227, 0.6882022619247437, 0.6910112500190735, 0.6853932738304138, 0.7078651785850525, 0.699438214302063, 0.6966292262077332, 0.6882022619247437, 0.699438214302063, 0.6910112500190735, 0.7106741666793823, 0.7078651785850525, 0.682584285736084, 0.6601123809814453, 0.682584285736084, 0.6966292262077332, 0.6853932738304138, 0.7134831547737122, 0.7247191071510315, 0.7219101190567017, 0.6882022619247437, 0.6910112500190735, 0.7050561904907227, 0.6966292262077332, 0.6938202381134033, 0.7303370833396912, 0.7078651785850525, 0.6797752976417542, 0.6938202381134033, 0.699438214302063, 0.7134831547737122, 0.7106741666793823, 0.7050561904907227, 0.7022472023963928, 0.6882022619247437, 0.6853932738304138, 0.6882022619247437, 0.682584285736084, 0.7191011309623718, 0.716292142868042, 0.716292142868042, 0.6938202381134033, 0.699438214302063, 0.7050561904907227, 0.7247191071510315, 0.7022472023963928, 0.6966292262077332, 0.7022472023963928, 0.6882022619247437, 0.7050561904907227, 0.7106741666793823, 0.7134831547737122, 0.699438214302063, 0.6910112500190735, 0.6910112500190735, 0.6966292262077332, 0.733146071434021, 0.7106741666793823, 0.716292142868042, 0.7247191071510315, 0.7106741666793823, 0.6938202381134033, 0.6938202381134033, 0.7134831547737122, 0.7106741666793823, 0.716292142868042, 0.7247191071510315, 0.7134831547737122, 0.7106741666793823, 0.7191011309623718, 0.733146071434021, 0.7443820238113403, 0.7247191071510315, 0.716292142868042, 0.7471910119056702, 0.7106741666793823, 0.7219101190567017, 0.7050561904907227, 0.699438214302063, 0.6910112500190735, 0.6797752976417542, 0.699438214302063, 0.7191011309623718, 0.716292142868042, 0.7050561904907227, 0.6910112500190735, 0.699438214302063, 0.6966292262077332, 0.7275280952453613, 0.716292142868042, 0.7078651785850525, 0.6853932738304138, 0.6910112500190735, 0.699438214302063, 0.7106741666793823, 0.7022472023963928, 0.6966292262077332, 0.716292142868042, 0.6910112500190735, 0.716292142868042, 0.6769663095474243, 0.6938202381134033, 0.682584285736084, 0.6938202381134033, 0.6910112500190735, 0.6910112500190735, 0.6797752976417542, 0.682584285736084, 0.6910112500190735, 0.6882022619247437, 0.682584285736084, 0.6966292262077332, 0.7022472023963928, 0.7078651785850525, 0.699438214302063, 0.7078651785850525, 0.699438214302063, 0.6910112500190735, 0.7134831547737122, 0.7106741666793823, 0.6966292262077332, 0.7022472023963928, 0.699438214302063, 0.6966292262077332, 0.6910112500190735, 0.7022472023963928, 0.7219101190567017, 0.7134831547737122, 0.716292142868042, 0.6966292262077332, 0.716292142868042, 0.7191011309623718, 0.7106741666793823, 0.7106741666793823, 0.7022472023963928, 0.7106741666793823, 0.716292142868042, 0.7106741666793823, 0.6910112500190735, 0.7106741666793823, 0.7219101190567017, 0.7387640476226807, 0.7219101190567017, 0.716292142868042, 0.733146071434021, 0.716292142868042, 0.7219101190567017, 0.7219101190567017, 0.7134831547737122, 0.7134831547737122]\n",
        "plot_favorite_single(x, GRU)"
      ]
    },
    {
      "cell_type": "code",
      "execution_count": 4,
      "metadata": {},
      "outputs": [
        {
          "data": {
            "application/vnd.plotly.v1+json": {
              "config": {
                "plotlyServerURL": "https://plot.ly"
              },
              "data": [
                {
                  "line": {
                    "color": "gold",
                    "width": 1
                  },
                  "mode": "lines+markers",
                  "name": "GRU",
                  "type": "scatter",
                  "x": [
                    0,
                    1,
                    2,
                    3,
                    4,
                    5,
                    6,
                    7,
                    8,
                    9,
                    10,
                    11,
                    12,
                    13,
                    14,
                    15,
                    16,
                    17,
                    18,
                    19,
                    20,
                    21,
                    22,
                    23,
                    24,
                    25,
                    26,
                    27,
                    28,
                    29,
                    30,
                    31,
                    32,
                    33,
                    34,
                    35,
                    36,
                    37,
                    38,
                    39,
                    40,
                    41,
                    42,
                    43,
                    44,
                    45,
                    46,
                    47,
                    48,
                    49,
                    50,
                    51,
                    52,
                    53,
                    54,
                    55,
                    56,
                    57,
                    58,
                    59,
                    60,
                    61,
                    62,
                    63,
                    64,
                    65,
                    66,
                    67,
                    68,
                    69,
                    70,
                    71,
                    72,
                    73,
                    74,
                    75,
                    76,
                    77,
                    78,
                    79,
                    80,
                    81,
                    82,
                    83,
                    84,
                    85,
                    86,
                    87,
                    88,
                    89,
                    90,
                    91,
                    92,
                    93,
                    94,
                    95,
                    96,
                    97,
                    98,
                    99,
                    100,
                    101,
                    102,
                    103,
                    104,
                    105,
                    106,
                    107,
                    108,
                    109,
                    110,
                    111,
                    112,
                    113,
                    114,
                    115,
                    116,
                    117,
                    118,
                    119,
                    120,
                    121,
                    122,
                    123,
                    124,
                    125,
                    126,
                    127,
                    128,
                    129,
                    130,
                    131,
                    132,
                    133,
                    134,
                    135,
                    136,
                    137,
                    138,
                    139,
                    140,
                    141,
                    142,
                    143,
                    144,
                    145,
                    146,
                    147,
                    148,
                    149,
                    150,
                    151,
                    152,
                    153,
                    154,
                    155,
                    156,
                    157,
                    158,
                    159,
                    160,
                    161,
                    162,
                    163,
                    164,
                    165,
                    166,
                    167,
                    168,
                    169,
                    170,
                    171,
                    172,
                    173,
                    174,
                    175,
                    176,
                    177,
                    178,
                    179,
                    180,
                    181,
                    182,
                    183,
                    184,
                    185,
                    186,
                    187,
                    188,
                    189,
                    190,
                    191,
                    192,
                    193,
                    194,
                    195,
                    196,
                    197,
                    198,
                    199,
                    200,
                    201,
                    202,
                    203,
                    204,
                    205,
                    206,
                    207,
                    208,
                    209,
                    210,
                    211,
                    212,
                    213,
                    214,
                    215,
                    216,
                    217,
                    218,
                    219,
                    220,
                    221,
                    222,
                    223,
                    224,
                    225,
                    226,
                    227,
                    228,
                    229,
                    230,
                    231,
                    232,
                    233,
                    234,
                    235,
                    236,
                    237,
                    238,
                    239,
                    240,
                    241,
                    242,
                    243,
                    244,
                    245,
                    246,
                    247,
                    248,
                    249,
                    250,
                    251,
                    252,
                    253,
                    254,
                    255,
                    256,
                    257,
                    258,
                    259,
                    260,
                    261,
                    262,
                    263,
                    264,
                    265,
                    266,
                    267,
                    268,
                    269,
                    270,
                    271,
                    272,
                    273,
                    274,
                    275,
                    276,
                    277,
                    278,
                    279,
                    280,
                    281,
                    282,
                    283,
                    284,
                    285,
                    286,
                    287,
                    288,
                    289,
                    290,
                    291,
                    292,
                    293,
                    294,
                    295,
                    296,
                    297,
                    298,
                    299
                  ],
                  "y": [
                    0.3651685416698456,
                    0.48033708333969116,
                    0.533707857131958,
                    0.5983145833015442,
                    0.6376404762268066,
                    0.6516854166984558,
                    0.6797752976417542,
                    0.6910112500190735,
                    0.6938202381134033,
                    0.7050561904907227,
                    0.6769663095474243,
                    0.7106741666793823,
                    0.6797752976417542,
                    0.6938202381134033,
                    0.6966292262077332,
                    0.7191011309623718,
                    0.6938202381134033,
                    0.6966292262077332,
                    0.7134831547737122,
                    0.7134831547737122,
                    0.6882022619247437,
                    0.7134831547737122,
                    0.7219101190567017,
                    0.716292142868042,
                    0.7022472023963928,
                    0.6966292262077332,
                    0.716292142868042,
                    0.7191011309623718,
                    0.7134831547737122,
                    0.7191011309623718,
                    0.7106741666793823,
                    0.7106741666793823,
                    0.7191011309623718,
                    0.7219101190567017,
                    0.7303370833396912,
                    0.6966292262077332,
                    0.716292142868042,
                    0.7106741666793823,
                    0.7078651785850525,
                    0.6966292262077332,
                    0.733146071434021,
                    0.7359550595283508,
                    0.716292142868042,
                    0.7303370833396912,
                    0.7022472023963928,
                    0.7303370833396912,
                    0.7078651785850525,
                    0.699438214302063,
                    0.6966292262077332,
                    0.7219101190567017,
                    0.7134831547737122,
                    0.7219101190567017,
                    0.7106741666793823,
                    0.7134831547737122,
                    0.733146071434021,
                    0.7219101190567017,
                    0.7050561904907227,
                    0.7022472023963928,
                    0.716292142868042,
                    0.7078651785850525,
                    0.733146071434021,
                    0.733146071434021,
                    0.733146071434021,
                    0.7219101190567017,
                    0.7528089880943298,
                    0.7191011309623718,
                    0.7584269642829895,
                    0.7387640476226807,
                    0.7471910119056702,
                    0.7303370833396912,
                    0.733146071434021,
                    0.733146071434021,
                    0.7528089880943298,
                    0.75,
                    0.7387640476226807,
                    0.7247191071510315,
                    0.7387640476226807,
                    0.7247191071510315,
                    0.7219101190567017,
                    0.7387640476226807,
                    0.7134831547737122,
                    0.7303370833396912,
                    0.7219101190567017,
                    0.7247191071510315,
                    0.7106741666793823,
                    0.733146071434021,
                    0.7303370833396912,
                    0.7219101190567017,
                    0.7219101190567017,
                    0.7247191071510315,
                    0.7359550595283508,
                    0.7303370833396912,
                    0.7191011309623718,
                    0.733146071434021,
                    0.7134831547737122,
                    0.7191011309623718,
                    0.7106741666793823,
                    0.7191011309623718,
                    0.7134831547737122,
                    0.7303370833396912,
                    0.7191011309623718,
                    0.7443820238113403,
                    0.733146071434021,
                    0.7219101190567017,
                    0.7303370833396912,
                    0.7247191071510315,
                    0.7275280952453613,
                    0.7471910119056702,
                    0.7359550595283508,
                    0.7415730357170105,
                    0.7303370833396912,
                    0.7387640476226807,
                    0.7584269642829895,
                    0.7219101190567017,
                    0.7106741666793823,
                    0.7584269642829895,
                    0.7359550595283508,
                    0.7387640476226807,
                    0.7303370833396912,
                    0.7303370833396912,
                    0.7584269642829895,
                    0.7303370833396912,
                    0.7247191071510315,
                    0.7387640476226807,
                    0.6938202381134033,
                    0.733146071434021,
                    0.7134831547737122,
                    0.7275280952453613,
                    0.7359550595283508,
                    0.7303370833396912,
                    0.733146071434021,
                    0.7359550595283508,
                    0.7275280952453613,
                    0.7528089880943298,
                    0.733146071434021,
                    0.7359550595283508,
                    0.7471910119056702,
                    0.7415730357170105,
                    0.7415730357170105,
                    0.7303370833396912,
                    0.7303370833396912,
                    0.733146071434021,
                    0.7387640476226807,
                    0.7359550595283508,
                    0.7247191071510315,
                    0.7359550595283508,
                    0.7303370833396912,
                    0.716292142868042,
                    0.7219101190567017,
                    0.7359550595283508,
                    0.7443820238113403,
                    0.7134831547737122,
                    0.733146071434021,
                    0.7471910119056702,
                    0.7415730357170105,
                    0.7387640476226807,
                    0.7359550595283508,
                    0.7303370833396912,
                    0.7247191071510315,
                    0.7219101190567017,
                    0.7415730357170105,
                    0.75,
                    0.7556179761886597,
                    0.7359550595283508,
                    0.7443820238113403,
                    0.7359550595283508,
                    0.7471910119056702,
                    0.733146071434021,
                    0.7443820238113403,
                    0.7359550595283508,
                    0.7359550595283508,
                    0.7303370833396912,
                    0.7471910119056702,
                    0.7387640476226807,
                    0.7471910119056702,
                    0.7415730357170105,
                    0.7528089880943298,
                    0.7415730357170105,
                    0.7247191071510315,
                    0.7359550595283508,
                    0.7415730357170105,
                    0.7303370833396912,
                    0.75,
                    0.733146071434021,
                    0.7471910119056702,
                    0.7359550595283508,
                    0.7443820238113403,
                    0.733146071434021,
                    0.7359550595283508,
                    0.75,
                    0.7415730357170105,
                    0.7471910119056702,
                    0.7191011309623718,
                    0.7303370833396912,
                    0.75,
                    0.7471910119056702,
                    0.7556179761886597,
                    0.7359550595283508,
                    0.733146071434021,
                    0.7303370833396912,
                    0.7415730357170105,
                    0.7415730357170105,
                    0.7471910119056702,
                    0.733146071434021,
                    0.75,
                    0.7387640476226807,
                    0.7443820238113403,
                    0.7303370833396912,
                    0.7303370833396912,
                    0.7359550595283508,
                    0.75,
                    0.7528089880943298,
                    0.75,
                    0.75,
                    0.7443820238113403,
                    0.7303370833396912,
                    0.733146071434021,
                    0.7303370833396912,
                    0.7303370833396912,
                    0.7556179761886597,
                    0.7584269642829895,
                    0.7584269642829895,
                    0.7528089880943298,
                    0.7387640476226807,
                    0.7471910119056702,
                    0.75,
                    0.7640449404716492,
                    0.7415730357170105,
                    0.7415730357170105,
                    0.7584269642829895,
                    0.7387640476226807,
                    0.7387640476226807,
                    0.7359550595283508,
                    0.7528089880943298,
                    0.7303370833396912,
                    0.7387640476226807,
                    0.7359550595283508,
                    0.7106741666793823,
                    0.7247191071510315,
                    0.7471910119056702,
                    0.7443820238113403,
                    0.7528089880943298,
                    0.7443820238113403,
                    0.733146071434021,
                    0.7471910119056702,
                    0.7471910119056702,
                    0.7359550595283508,
                    0.7471910119056702,
                    0.7528089880943298,
                    0.7612359523773193,
                    0.7443820238113403,
                    0.7556179761886597,
                    0.7415730357170105,
                    0.7471910119056702,
                    0.7584269642829895,
                    0.7303370833396912,
                    0.733146071434021,
                    0.7359550595283508,
                    0.7471910119056702,
                    0.7471910119056702,
                    0.7219101190567017,
                    0.7275280952453613,
                    0.7134831547737122,
                    0.733146071434021,
                    0.733146071434021,
                    0.7219101190567017,
                    0.7415730357170105,
                    0.75,
                    0.7247191071510315,
                    0.7415730357170105,
                    0.7387640476226807,
                    0.7275280952453613,
                    0.7275280952453613,
                    0.7471910119056702,
                    0.7443820238113403,
                    0.7471910119056702,
                    0.7134831547737122,
                    0.7359550595283508,
                    0.7528089880943298,
                    0.75,
                    0.7275280952453613,
                    0.7387640476226807,
                    0.7303370833396912,
                    0.7275280952453613,
                    0.7303370833396912,
                    0.7359550595283508,
                    0.7387640476226807,
                    0.75,
                    0.7471910119056702,
                    0.7556179761886597,
                    0.7415730357170105,
                    0.733146071434021,
                    0.75,
                    0.7471910119056702,
                    0.7443820238113403,
                    0.7528089880943298,
                    0.7556179761886597,
                    0.7247191071510315,
                    0.733146071434021,
                    0.7247191071510315
                  ]
                }
              ],
              "layout": {
                "autosize": false,
                "margin": {
                  "autoexpand": false,
                  "l": 170,
                  "r": 150,
                  "t": 50
                },
                "plot_bgcolor": "black",
                "template": {
                  "data": {
                    "bar": [
                      {
                        "error_x": {
                          "color": "#2a3f5f"
                        },
                        "error_y": {
                          "color": "#2a3f5f"
                        },
                        "marker": {
                          "line": {
                            "color": "#E5ECF6",
                            "width": 0.5
                          },
                          "pattern": {
                            "fillmode": "overlay",
                            "size": 10,
                            "solidity": 0.2
                          }
                        },
                        "type": "bar"
                      }
                    ],
                    "barpolar": [
                      {
                        "marker": {
                          "line": {
                            "color": "#E5ECF6",
                            "width": 0.5
                          },
                          "pattern": {
                            "fillmode": "overlay",
                            "size": 10,
                            "solidity": 0.2
                          }
                        },
                        "type": "barpolar"
                      }
                    ],
                    "carpet": [
                      {
                        "aaxis": {
                          "endlinecolor": "#2a3f5f",
                          "gridcolor": "white",
                          "linecolor": "white",
                          "minorgridcolor": "white",
                          "startlinecolor": "#2a3f5f"
                        },
                        "baxis": {
                          "endlinecolor": "#2a3f5f",
                          "gridcolor": "white",
                          "linecolor": "white",
                          "minorgridcolor": "white",
                          "startlinecolor": "#2a3f5f"
                        },
                        "type": "carpet"
                      }
                    ],
                    "choropleth": [
                      {
                        "colorbar": {
                          "outlinewidth": 0,
                          "ticks": ""
                        },
                        "type": "choropleth"
                      }
                    ],
                    "contour": [
                      {
                        "colorbar": {
                          "outlinewidth": 0,
                          "ticks": ""
                        },
                        "colorscale": [
                          [
                            0,
                            "#0d0887"
                          ],
                          [
                            0.1111111111111111,
                            "#46039f"
                          ],
                          [
                            0.2222222222222222,
                            "#7201a8"
                          ],
                          [
                            0.3333333333333333,
                            "#9c179e"
                          ],
                          [
                            0.4444444444444444,
                            "#bd3786"
                          ],
                          [
                            0.5555555555555556,
                            "#d8576b"
                          ],
                          [
                            0.6666666666666666,
                            "#ed7953"
                          ],
                          [
                            0.7777777777777778,
                            "#fb9f3a"
                          ],
                          [
                            0.8888888888888888,
                            "#fdca26"
                          ],
                          [
                            1,
                            "#f0f921"
                          ]
                        ],
                        "type": "contour"
                      }
                    ],
                    "contourcarpet": [
                      {
                        "colorbar": {
                          "outlinewidth": 0,
                          "ticks": ""
                        },
                        "type": "contourcarpet"
                      }
                    ],
                    "heatmap": [
                      {
                        "colorbar": {
                          "outlinewidth": 0,
                          "ticks": ""
                        },
                        "colorscale": [
                          [
                            0,
                            "#0d0887"
                          ],
                          [
                            0.1111111111111111,
                            "#46039f"
                          ],
                          [
                            0.2222222222222222,
                            "#7201a8"
                          ],
                          [
                            0.3333333333333333,
                            "#9c179e"
                          ],
                          [
                            0.4444444444444444,
                            "#bd3786"
                          ],
                          [
                            0.5555555555555556,
                            "#d8576b"
                          ],
                          [
                            0.6666666666666666,
                            "#ed7953"
                          ],
                          [
                            0.7777777777777778,
                            "#fb9f3a"
                          ],
                          [
                            0.8888888888888888,
                            "#fdca26"
                          ],
                          [
                            1,
                            "#f0f921"
                          ]
                        ],
                        "type": "heatmap"
                      }
                    ],
                    "heatmapgl": [
                      {
                        "colorbar": {
                          "outlinewidth": 0,
                          "ticks": ""
                        },
                        "colorscale": [
                          [
                            0,
                            "#0d0887"
                          ],
                          [
                            0.1111111111111111,
                            "#46039f"
                          ],
                          [
                            0.2222222222222222,
                            "#7201a8"
                          ],
                          [
                            0.3333333333333333,
                            "#9c179e"
                          ],
                          [
                            0.4444444444444444,
                            "#bd3786"
                          ],
                          [
                            0.5555555555555556,
                            "#d8576b"
                          ],
                          [
                            0.6666666666666666,
                            "#ed7953"
                          ],
                          [
                            0.7777777777777778,
                            "#fb9f3a"
                          ],
                          [
                            0.8888888888888888,
                            "#fdca26"
                          ],
                          [
                            1,
                            "#f0f921"
                          ]
                        ],
                        "type": "heatmapgl"
                      }
                    ],
                    "histogram": [
                      {
                        "marker": {
                          "pattern": {
                            "fillmode": "overlay",
                            "size": 10,
                            "solidity": 0.2
                          }
                        },
                        "type": "histogram"
                      }
                    ],
                    "histogram2d": [
                      {
                        "colorbar": {
                          "outlinewidth": 0,
                          "ticks": ""
                        },
                        "colorscale": [
                          [
                            0,
                            "#0d0887"
                          ],
                          [
                            0.1111111111111111,
                            "#46039f"
                          ],
                          [
                            0.2222222222222222,
                            "#7201a8"
                          ],
                          [
                            0.3333333333333333,
                            "#9c179e"
                          ],
                          [
                            0.4444444444444444,
                            "#bd3786"
                          ],
                          [
                            0.5555555555555556,
                            "#d8576b"
                          ],
                          [
                            0.6666666666666666,
                            "#ed7953"
                          ],
                          [
                            0.7777777777777778,
                            "#fb9f3a"
                          ],
                          [
                            0.8888888888888888,
                            "#fdca26"
                          ],
                          [
                            1,
                            "#f0f921"
                          ]
                        ],
                        "type": "histogram2d"
                      }
                    ],
                    "histogram2dcontour": [
                      {
                        "colorbar": {
                          "outlinewidth": 0,
                          "ticks": ""
                        },
                        "colorscale": [
                          [
                            0,
                            "#0d0887"
                          ],
                          [
                            0.1111111111111111,
                            "#46039f"
                          ],
                          [
                            0.2222222222222222,
                            "#7201a8"
                          ],
                          [
                            0.3333333333333333,
                            "#9c179e"
                          ],
                          [
                            0.4444444444444444,
                            "#bd3786"
                          ],
                          [
                            0.5555555555555556,
                            "#d8576b"
                          ],
                          [
                            0.6666666666666666,
                            "#ed7953"
                          ],
                          [
                            0.7777777777777778,
                            "#fb9f3a"
                          ],
                          [
                            0.8888888888888888,
                            "#fdca26"
                          ],
                          [
                            1,
                            "#f0f921"
                          ]
                        ],
                        "type": "histogram2dcontour"
                      }
                    ],
                    "mesh3d": [
                      {
                        "colorbar": {
                          "outlinewidth": 0,
                          "ticks": ""
                        },
                        "type": "mesh3d"
                      }
                    ],
                    "parcoords": [
                      {
                        "line": {
                          "colorbar": {
                            "outlinewidth": 0,
                            "ticks": ""
                          }
                        },
                        "type": "parcoords"
                      }
                    ],
                    "pie": [
                      {
                        "automargin": true,
                        "type": "pie"
                      }
                    ],
                    "scatter": [
                      {
                        "marker": {
                          "colorbar": {
                            "outlinewidth": 0,
                            "ticks": ""
                          }
                        },
                        "type": "scatter"
                      }
                    ],
                    "scatter3d": [
                      {
                        "line": {
                          "colorbar": {
                            "outlinewidth": 0,
                            "ticks": ""
                          }
                        },
                        "marker": {
                          "colorbar": {
                            "outlinewidth": 0,
                            "ticks": ""
                          }
                        },
                        "type": "scatter3d"
                      }
                    ],
                    "scattercarpet": [
                      {
                        "marker": {
                          "colorbar": {
                            "outlinewidth": 0,
                            "ticks": ""
                          }
                        },
                        "type": "scattercarpet"
                      }
                    ],
                    "scattergeo": [
                      {
                        "marker": {
                          "colorbar": {
                            "outlinewidth": 0,
                            "ticks": ""
                          }
                        },
                        "type": "scattergeo"
                      }
                    ],
                    "scattergl": [
                      {
                        "marker": {
                          "colorbar": {
                            "outlinewidth": 0,
                            "ticks": ""
                          }
                        },
                        "type": "scattergl"
                      }
                    ],
                    "scattermapbox": [
                      {
                        "marker": {
                          "colorbar": {
                            "outlinewidth": 0,
                            "ticks": ""
                          }
                        },
                        "type": "scattermapbox"
                      }
                    ],
                    "scatterpolar": [
                      {
                        "marker": {
                          "colorbar": {
                            "outlinewidth": 0,
                            "ticks": ""
                          }
                        },
                        "type": "scatterpolar"
                      }
                    ],
                    "scatterpolargl": [
                      {
                        "marker": {
                          "colorbar": {
                            "outlinewidth": 0,
                            "ticks": ""
                          }
                        },
                        "type": "scatterpolargl"
                      }
                    ],
                    "scatterternary": [
                      {
                        "marker": {
                          "colorbar": {
                            "outlinewidth": 0,
                            "ticks": ""
                          }
                        },
                        "type": "scatterternary"
                      }
                    ],
                    "surface": [
                      {
                        "colorbar": {
                          "outlinewidth": 0,
                          "ticks": ""
                        },
                        "colorscale": [
                          [
                            0,
                            "#0d0887"
                          ],
                          [
                            0.1111111111111111,
                            "#46039f"
                          ],
                          [
                            0.2222222222222222,
                            "#7201a8"
                          ],
                          [
                            0.3333333333333333,
                            "#9c179e"
                          ],
                          [
                            0.4444444444444444,
                            "#bd3786"
                          ],
                          [
                            0.5555555555555556,
                            "#d8576b"
                          ],
                          [
                            0.6666666666666666,
                            "#ed7953"
                          ],
                          [
                            0.7777777777777778,
                            "#fb9f3a"
                          ],
                          [
                            0.8888888888888888,
                            "#fdca26"
                          ],
                          [
                            1,
                            "#f0f921"
                          ]
                        ],
                        "type": "surface"
                      }
                    ],
                    "table": [
                      {
                        "cells": {
                          "fill": {
                            "color": "#EBF0F8"
                          },
                          "line": {
                            "color": "white"
                          }
                        },
                        "header": {
                          "fill": {
                            "color": "#C8D4E3"
                          },
                          "line": {
                            "color": "white"
                          }
                        },
                        "type": "table"
                      }
                    ]
                  },
                  "layout": {
                    "annotationdefaults": {
                      "arrowcolor": "#2a3f5f",
                      "arrowhead": 0,
                      "arrowwidth": 1
                    },
                    "autotypenumbers": "strict",
                    "coloraxis": {
                      "colorbar": {
                        "outlinewidth": 0,
                        "ticks": ""
                      }
                    },
                    "colorscale": {
                      "diverging": [
                        [
                          0,
                          "#8e0152"
                        ],
                        [
                          0.1,
                          "#c51b7d"
                        ],
                        [
                          0.2,
                          "#de77ae"
                        ],
                        [
                          0.3,
                          "#f1b6da"
                        ],
                        [
                          0.4,
                          "#fde0ef"
                        ],
                        [
                          0.5,
                          "#f7f7f7"
                        ],
                        [
                          0.6,
                          "#e6f5d0"
                        ],
                        [
                          0.7,
                          "#b8e186"
                        ],
                        [
                          0.8,
                          "#7fbc41"
                        ],
                        [
                          0.9,
                          "#4d9221"
                        ],
                        [
                          1,
                          "#276419"
                        ]
                      ],
                      "sequential": [
                        [
                          0,
                          "#0d0887"
                        ],
                        [
                          0.1111111111111111,
                          "#46039f"
                        ],
                        [
                          0.2222222222222222,
                          "#7201a8"
                        ],
                        [
                          0.3333333333333333,
                          "#9c179e"
                        ],
                        [
                          0.4444444444444444,
                          "#bd3786"
                        ],
                        [
                          0.5555555555555556,
                          "#d8576b"
                        ],
                        [
                          0.6666666666666666,
                          "#ed7953"
                        ],
                        [
                          0.7777777777777778,
                          "#fb9f3a"
                        ],
                        [
                          0.8888888888888888,
                          "#fdca26"
                        ],
                        [
                          1,
                          "#f0f921"
                        ]
                      ],
                      "sequentialminus": [
                        [
                          0,
                          "#0d0887"
                        ],
                        [
                          0.1111111111111111,
                          "#46039f"
                        ],
                        [
                          0.2222222222222222,
                          "#7201a8"
                        ],
                        [
                          0.3333333333333333,
                          "#9c179e"
                        ],
                        [
                          0.4444444444444444,
                          "#bd3786"
                        ],
                        [
                          0.5555555555555556,
                          "#d8576b"
                        ],
                        [
                          0.6666666666666666,
                          "#ed7953"
                        ],
                        [
                          0.7777777777777778,
                          "#fb9f3a"
                        ],
                        [
                          0.8888888888888888,
                          "#fdca26"
                        ],
                        [
                          1,
                          "#f0f921"
                        ]
                      ]
                    },
                    "colorway": [
                      "#636efa",
                      "#EF553B",
                      "#00cc96",
                      "#ab63fa",
                      "#FFA15A",
                      "#19d3f3",
                      "#FF6692",
                      "#B6E880",
                      "#FF97FF",
                      "#FECB52"
                    ],
                    "font": {
                      "color": "#2a3f5f"
                    },
                    "geo": {
                      "bgcolor": "white",
                      "lakecolor": "white",
                      "landcolor": "#E5ECF6",
                      "showlakes": true,
                      "showland": true,
                      "subunitcolor": "white"
                    },
                    "hoverlabel": {
                      "align": "left"
                    },
                    "hovermode": "closest",
                    "mapbox": {
                      "style": "light"
                    },
                    "paper_bgcolor": "white",
                    "plot_bgcolor": "#E5ECF6",
                    "polar": {
                      "angularaxis": {
                        "gridcolor": "white",
                        "linecolor": "white",
                        "ticks": ""
                      },
                      "bgcolor": "#E5ECF6",
                      "radialaxis": {
                        "gridcolor": "white",
                        "linecolor": "white",
                        "ticks": ""
                      }
                    },
                    "scene": {
                      "xaxis": {
                        "backgroundcolor": "#E5ECF6",
                        "gridcolor": "white",
                        "gridwidth": 2,
                        "linecolor": "white",
                        "showbackground": true,
                        "ticks": "",
                        "zerolinecolor": "white"
                      },
                      "yaxis": {
                        "backgroundcolor": "#E5ECF6",
                        "gridcolor": "white",
                        "gridwidth": 2,
                        "linecolor": "white",
                        "showbackground": true,
                        "ticks": "",
                        "zerolinecolor": "white"
                      },
                      "zaxis": {
                        "backgroundcolor": "#E5ECF6",
                        "gridcolor": "white",
                        "gridwidth": 2,
                        "linecolor": "white",
                        "showbackground": true,
                        "ticks": "",
                        "zerolinecolor": "white"
                      }
                    },
                    "shapedefaults": {
                      "line": {
                        "color": "#2a3f5f"
                      }
                    },
                    "ternary": {
                      "aaxis": {
                        "gridcolor": "white",
                        "linecolor": "white",
                        "ticks": ""
                      },
                      "baxis": {
                        "gridcolor": "white",
                        "linecolor": "white",
                        "ticks": ""
                      },
                      "bgcolor": "#E5ECF6",
                      "caxis": {
                        "gridcolor": "white",
                        "linecolor": "white",
                        "ticks": ""
                      }
                    },
                    "title": {
                      "x": 0.05
                    },
                    "xaxis": {
                      "automargin": true,
                      "gridcolor": "white",
                      "linecolor": "white",
                      "ticks": "",
                      "title": {
                        "standoff": 15
                      },
                      "zerolinecolor": "white",
                      "zerolinewidth": 2
                    },
                    "yaxis": {
                      "automargin": true,
                      "gridcolor": "white",
                      "linecolor": "white",
                      "ticks": "",
                      "title": {
                        "standoff": 15
                      },
                      "zerolinecolor": "white",
                      "zerolinewidth": 2
                    }
                  }
                },
                "xaxis": {
                  "showgrid": true,
                  "showline": true,
                  "showticklabels": true,
                  "title": {
                    "text": "Epoch"
                  }
                },
                "yaxis": {
                  "showgrid": true,
                  "showline": true,
                  "showticklabels": true,
                  "title": {
                    "text": "Validation Accuracy"
                  },
                  "zeroline": true
                }
              }
            }
          },
          "metadata": {},
          "output_type": "display_data"
        }
      ],
      "source": [
        "# bidirectional\n",
        "x = [0, 1, 2, 3, 4, 5, 6, 7, 8, 9, 10, 11, 12, 13, 14, 15, 16, 17, 18, 19, 20, 21, 22, 23, 24, 25, 26, 27, 28, 29, 30, 31, 32, 33, 34, 35, 36, 37, 38, 39, 40, 41, 42, 43, 44, 45, 46, 47, 48, 49, 50, 51, 52, 53, 54, 55, 56, 57, 58, 59, 60, 61, 62, 63, 64, 65, 66, 67, 68, 69, 70, 71, 72, 73, 74, 75, 76, 77, 78, 79, 80, 81, 82, 83, 84, 85, 86, 87, 88, 89, 90, 91, 92, 93, 94, 95, 96, 97, 98, 99, 100, 101, 102, 103, 104, 105, 106, 107, 108, 109, 110, 111, 112, 113, 114, 115, 116, 117, 118, 119, 120, 121, 122, 123, 124, 125, 126, 127, 128, 129, 130, 131, 132, 133, 134, 135, 136, 137, 138, 139, 140, 141, 142, 143, 144, 145, 146, 147, 148, 149, 150, 151, 152, 153, 154, 155, 156, 157, 158, 159, 160, 161, 162, 163, 164, 165, 166, 167, 168, 169, 170, 171, 172, 173, 174, 175, 176, 177, 178, 179, 180, 181, 182, 183, 184, 185, 186, 187, 188, 189, 190, 191, 192, 193, 194, 195, 196, 197, 198, 199, 200, 201, 202, 203, 204, 205, 206, 207, 208, 209, 210, 211, 212, 213, 214, 215, 216, 217, 218, 219, 220, 221, 222, 223, 224, 225, 226, 227, 228, 229, 230, 231, 232, 233, 234, 235, 236, 237, 238, 239, 240, 241, 242, 243, 244, 245, 246, 247, 248, 249, 250, 251, 252, 253, 254, 255, 256, 257, 258, 259, 260, 261, 262, 263, 264, 265, 266, 267, 268, 269, 270, 271, 272, 273, 274, 275, 276, 277, 278, 279, 280, 281, 282, 283, 284, 285, 286, 287, 288, 289, 290, 291, 292, 293, 294, 295, 296, 297, 298, 299]\n",
        "GRU = [0.3651685416698456, 0.48033708333969116, 0.533707857131958, 0.5983145833015442, 0.6376404762268066, 0.6516854166984558, 0.6797752976417542, 0.6910112500190735, 0.6938202381134033, 0.7050561904907227, 0.6769663095474243, 0.7106741666793823, 0.6797752976417542, 0.6938202381134033, 0.6966292262077332, 0.7191011309623718, 0.6938202381134033, 0.6966292262077332, 0.7134831547737122, 0.7134831547737122, 0.6882022619247437, 0.7134831547737122, 0.7219101190567017, 0.716292142868042, 0.7022472023963928, 0.6966292262077332, 0.716292142868042, 0.7191011309623718, 0.7134831547737122, 0.7191011309623718, 0.7106741666793823, 0.7106741666793823, 0.7191011309623718, 0.7219101190567017, 0.7303370833396912, 0.6966292262077332, 0.716292142868042, 0.7106741666793823, 0.7078651785850525, 0.6966292262077332, 0.733146071434021, 0.7359550595283508, 0.716292142868042, 0.7303370833396912, 0.7022472023963928, 0.7303370833396912, 0.7078651785850525, 0.699438214302063, 0.6966292262077332, 0.7219101190567017, 0.7134831547737122, 0.7219101190567017, 0.7106741666793823, 0.7134831547737122, 0.733146071434021, 0.7219101190567017, 0.7050561904907227, 0.7022472023963928, 0.716292142868042, 0.7078651785850525, 0.733146071434021, 0.733146071434021, 0.733146071434021, 0.7219101190567017, 0.7528089880943298, 0.7191011309623718, 0.7584269642829895, 0.7387640476226807, 0.7471910119056702, 0.7303370833396912, 0.733146071434021, 0.733146071434021, 0.7528089880943298, 0.75, 0.7387640476226807, 0.7247191071510315, 0.7387640476226807, 0.7247191071510315, 0.7219101190567017, 0.7387640476226807, 0.7134831547737122, 0.7303370833396912, 0.7219101190567017, 0.7247191071510315, 0.7106741666793823, 0.733146071434021, 0.7303370833396912, 0.7219101190567017, 0.7219101190567017, 0.7247191071510315, 0.7359550595283508, 0.7303370833396912, 0.7191011309623718, 0.733146071434021, 0.7134831547737122, 0.7191011309623718, 0.7106741666793823, 0.7191011309623718, 0.7134831547737122, 0.7303370833396912, 0.7191011309623718, 0.7443820238113403, 0.733146071434021, 0.7219101190567017, 0.7303370833396912, 0.7247191071510315, 0.7275280952453613, 0.7471910119056702, 0.7359550595283508, 0.7415730357170105, 0.7303370833396912, 0.7387640476226807, 0.7584269642829895, 0.7219101190567017, 0.7106741666793823, 0.7584269642829895, 0.7359550595283508, 0.7387640476226807, 0.7303370833396912, 0.7303370833396912, 0.7584269642829895, 0.7303370833396912, 0.7247191071510315, 0.7387640476226807, 0.6938202381134033, 0.733146071434021, 0.7134831547737122, 0.7275280952453613, 0.7359550595283508, 0.7303370833396912, 0.733146071434021, 0.7359550595283508, 0.7275280952453613, 0.7528089880943298, 0.733146071434021, 0.7359550595283508, 0.7471910119056702, 0.7415730357170105, 0.7415730357170105, 0.7303370833396912, 0.7303370833396912, 0.733146071434021, 0.7387640476226807, 0.7359550595283508, 0.7247191071510315, 0.7359550595283508, 0.7303370833396912, 0.716292142868042, 0.7219101190567017, 0.7359550595283508, 0.7443820238113403, 0.7134831547737122, 0.733146071434021, 0.7471910119056702, 0.7415730357170105, 0.7387640476226807, 0.7359550595283508, 0.7303370833396912, 0.7247191071510315, 0.7219101190567017, 0.7415730357170105, 0.75, 0.7556179761886597, 0.7359550595283508, 0.7443820238113403, 0.7359550595283508, 0.7471910119056702, 0.733146071434021, 0.7443820238113403, 0.7359550595283508, 0.7359550595283508, 0.7303370833396912, 0.7471910119056702, 0.7387640476226807, 0.7471910119056702, 0.7415730357170105, 0.7528089880943298, 0.7415730357170105, 0.7247191071510315, 0.7359550595283508, 0.7415730357170105, 0.7303370833396912, 0.75, 0.733146071434021, 0.7471910119056702, 0.7359550595283508, 0.7443820238113403, 0.733146071434021, 0.7359550595283508, 0.75, 0.7415730357170105, 0.7471910119056702, 0.7191011309623718, 0.7303370833396912, 0.75, 0.7471910119056702, 0.7556179761886597, 0.7359550595283508, 0.733146071434021, 0.7303370833396912, 0.7415730357170105, 0.7415730357170105, 0.7471910119056702, 0.733146071434021, 0.75, 0.7387640476226807, 0.7443820238113403, 0.7303370833396912, 0.7303370833396912, 0.7359550595283508, 0.75, 0.7528089880943298, 0.75, 0.75, 0.7443820238113403, 0.7303370833396912, 0.733146071434021, 0.7303370833396912, 0.7303370833396912, 0.7556179761886597, 0.7584269642829895, 0.7584269642829895, 0.7528089880943298, 0.7387640476226807, 0.7471910119056702, 0.75, 0.7640449404716492, 0.7415730357170105, 0.7415730357170105, 0.7584269642829895, 0.7387640476226807, 0.7387640476226807, 0.7359550595283508, 0.7528089880943298, 0.7303370833396912, 0.7387640476226807, 0.7359550595283508, 0.7106741666793823, 0.7247191071510315, 0.7471910119056702, 0.7443820238113403, 0.7528089880943298, 0.7443820238113403, 0.733146071434021, 0.7471910119056702, 0.7471910119056702, 0.7359550595283508, 0.7471910119056702, 0.7528089880943298, 0.7612359523773193, 0.7443820238113403, 0.7556179761886597, 0.7415730357170105, 0.7471910119056702, 0.7584269642829895, 0.7303370833396912, 0.733146071434021, 0.7359550595283508, 0.7471910119056702, 0.7471910119056702, 0.7219101190567017, 0.7275280952453613, 0.7134831547737122, 0.733146071434021, 0.733146071434021, 0.7219101190567017, 0.7415730357170105, 0.75, 0.7247191071510315, 0.7415730357170105, 0.7387640476226807, 0.7275280952453613, 0.7275280952453613, 0.7471910119056702, 0.7443820238113403, 0.7471910119056702, 0.7134831547737122, 0.7359550595283508, 0.7528089880943298, 0.75, 0.7275280952453613, 0.7387640476226807, 0.7303370833396912, 0.7275280952453613, 0.7303370833396912, 0.7359550595283508, 0.7387640476226807, 0.75, 0.7471910119056702, 0.7556179761886597, 0.7415730357170105, 0.733146071434021, 0.75, 0.7471910119056702, 0.7443820238113403, 0.7528089880943298, 0.7556179761886597, 0.7247191071510315, 0.733146071434021, 0.7247191071510315]\n",
        "plot_favorite_single(x, GRU)"
      ]
    },
    {
      "cell_type": "code",
      "execution_count": 7,
      "metadata": {},
      "outputs": [],
      "source": [
        "# complicated combination\n",
        "data = {}\n",
        "data[\"class\"] = [\"Validation Accuracy\"]\n",
        "data[\"Type A\"] = [0.7949]\n",
        "data[\"Type B\"] = [0.7725]           \n",
        "data[\"Type C\"] = [0.7472]          \n",
        "data[\"Type D\"] = [0.7528]\n",
        "\n",
        "data = pd.DataFrame(data)\n",
        "data.head()\n",
        "\n",
        "# Define the style\n",
        "custom_style = Style(colors=(\"#E6BCFF\", \"#00C9A8\", \"#00C2EB\", \"gold\"),background='transparent',label_font_size=14,) #, font_family='Roboto, Helvetica, Arial'\n",
        "\n",
        "# Set up the bar plot, ready for data\n",
        "c = pygal.Bar(\n",
        "    title=\" \",\n",
        "    style=custom_style,\n",
        "    y_title='Validation Accuracy',\n",
        "    width=1200,\n",
        "    x_label_rotation=270,\n",
        ")\n",
        "\n",
        "    # Add four data sets to the bar plot\n",
        "c.add(\"Type A\", data[\"Type A\"])\n",
        "c.add(\"Type B\", data[\"Type B\"])\n",
        "c.add(\"Type C\", data[\"Type C\"])\n",
        "c.add(\"Type D\", data[\"Type D\"])\n",
        "    # Define the X-labels\n",
        "#c.x_labels = data[\"class\"]\n",
        "c.legend_at_bottom=True\n",
        "c.x_label_rotation=45\n",
        "c.legend_at_bottom_columns=3\n",
        "    # Write this to an SVG file\n",
        "c.render_to_file(\"/Users/rampageyao/Downloads/combination.svg\")\n"
      ]
    },
    {
      "cell_type": "code",
      "execution_count": 5,
      "metadata": {},
      "outputs": [
        {
          "data": {
            "application/vnd.plotly.v1+json": {
              "config": {
                "plotlyServerURL": "https://plot.ly"
              },
              "data": [
                {
                  "marker": {
                    "color": "gold"
                  },
                  "type": "bar",
                  "width": [
                    0.4,
                    0.4,
                    0.4,
                    0.4
                  ],
                  "x": [
                    "Type A",
                    "Type B",
                    "Type C",
                    "Type D"
                  ],
                  "y": [
                    0.7949,
                    0.7725,
                    0.7472,
                    0.7528
                  ]
                }
              ],
              "layout": {
                "autosize": false,
                "margin": {
                  "autoexpand": false,
                  "l": 170,
                  "r": 150,
                  "t": 50
                },
                "plot_bgcolor": "black",
                "template": {
                  "data": {
                    "bar": [
                      {
                        "error_x": {
                          "color": "#2a3f5f"
                        },
                        "error_y": {
                          "color": "#2a3f5f"
                        },
                        "marker": {
                          "line": {
                            "color": "#E5ECF6",
                            "width": 0.5
                          },
                          "pattern": {
                            "fillmode": "overlay",
                            "size": 10,
                            "solidity": 0.2
                          }
                        },
                        "type": "bar"
                      }
                    ],
                    "barpolar": [
                      {
                        "marker": {
                          "line": {
                            "color": "#E5ECF6",
                            "width": 0.5
                          },
                          "pattern": {
                            "fillmode": "overlay",
                            "size": 10,
                            "solidity": 0.2
                          }
                        },
                        "type": "barpolar"
                      }
                    ],
                    "carpet": [
                      {
                        "aaxis": {
                          "endlinecolor": "#2a3f5f",
                          "gridcolor": "white",
                          "linecolor": "white",
                          "minorgridcolor": "white",
                          "startlinecolor": "#2a3f5f"
                        },
                        "baxis": {
                          "endlinecolor": "#2a3f5f",
                          "gridcolor": "white",
                          "linecolor": "white",
                          "minorgridcolor": "white",
                          "startlinecolor": "#2a3f5f"
                        },
                        "type": "carpet"
                      }
                    ],
                    "choropleth": [
                      {
                        "colorbar": {
                          "outlinewidth": 0,
                          "ticks": ""
                        },
                        "type": "choropleth"
                      }
                    ],
                    "contour": [
                      {
                        "colorbar": {
                          "outlinewidth": 0,
                          "ticks": ""
                        },
                        "colorscale": [
                          [
                            0,
                            "#0d0887"
                          ],
                          [
                            0.1111111111111111,
                            "#46039f"
                          ],
                          [
                            0.2222222222222222,
                            "#7201a8"
                          ],
                          [
                            0.3333333333333333,
                            "#9c179e"
                          ],
                          [
                            0.4444444444444444,
                            "#bd3786"
                          ],
                          [
                            0.5555555555555556,
                            "#d8576b"
                          ],
                          [
                            0.6666666666666666,
                            "#ed7953"
                          ],
                          [
                            0.7777777777777778,
                            "#fb9f3a"
                          ],
                          [
                            0.8888888888888888,
                            "#fdca26"
                          ],
                          [
                            1,
                            "#f0f921"
                          ]
                        ],
                        "type": "contour"
                      }
                    ],
                    "contourcarpet": [
                      {
                        "colorbar": {
                          "outlinewidth": 0,
                          "ticks": ""
                        },
                        "type": "contourcarpet"
                      }
                    ],
                    "heatmap": [
                      {
                        "colorbar": {
                          "outlinewidth": 0,
                          "ticks": ""
                        },
                        "colorscale": [
                          [
                            0,
                            "#0d0887"
                          ],
                          [
                            0.1111111111111111,
                            "#46039f"
                          ],
                          [
                            0.2222222222222222,
                            "#7201a8"
                          ],
                          [
                            0.3333333333333333,
                            "#9c179e"
                          ],
                          [
                            0.4444444444444444,
                            "#bd3786"
                          ],
                          [
                            0.5555555555555556,
                            "#d8576b"
                          ],
                          [
                            0.6666666666666666,
                            "#ed7953"
                          ],
                          [
                            0.7777777777777778,
                            "#fb9f3a"
                          ],
                          [
                            0.8888888888888888,
                            "#fdca26"
                          ],
                          [
                            1,
                            "#f0f921"
                          ]
                        ],
                        "type": "heatmap"
                      }
                    ],
                    "heatmapgl": [
                      {
                        "colorbar": {
                          "outlinewidth": 0,
                          "ticks": ""
                        },
                        "colorscale": [
                          [
                            0,
                            "#0d0887"
                          ],
                          [
                            0.1111111111111111,
                            "#46039f"
                          ],
                          [
                            0.2222222222222222,
                            "#7201a8"
                          ],
                          [
                            0.3333333333333333,
                            "#9c179e"
                          ],
                          [
                            0.4444444444444444,
                            "#bd3786"
                          ],
                          [
                            0.5555555555555556,
                            "#d8576b"
                          ],
                          [
                            0.6666666666666666,
                            "#ed7953"
                          ],
                          [
                            0.7777777777777778,
                            "#fb9f3a"
                          ],
                          [
                            0.8888888888888888,
                            "#fdca26"
                          ],
                          [
                            1,
                            "#f0f921"
                          ]
                        ],
                        "type": "heatmapgl"
                      }
                    ],
                    "histogram": [
                      {
                        "marker": {
                          "pattern": {
                            "fillmode": "overlay",
                            "size": 10,
                            "solidity": 0.2
                          }
                        },
                        "type": "histogram"
                      }
                    ],
                    "histogram2d": [
                      {
                        "colorbar": {
                          "outlinewidth": 0,
                          "ticks": ""
                        },
                        "colorscale": [
                          [
                            0,
                            "#0d0887"
                          ],
                          [
                            0.1111111111111111,
                            "#46039f"
                          ],
                          [
                            0.2222222222222222,
                            "#7201a8"
                          ],
                          [
                            0.3333333333333333,
                            "#9c179e"
                          ],
                          [
                            0.4444444444444444,
                            "#bd3786"
                          ],
                          [
                            0.5555555555555556,
                            "#d8576b"
                          ],
                          [
                            0.6666666666666666,
                            "#ed7953"
                          ],
                          [
                            0.7777777777777778,
                            "#fb9f3a"
                          ],
                          [
                            0.8888888888888888,
                            "#fdca26"
                          ],
                          [
                            1,
                            "#f0f921"
                          ]
                        ],
                        "type": "histogram2d"
                      }
                    ],
                    "histogram2dcontour": [
                      {
                        "colorbar": {
                          "outlinewidth": 0,
                          "ticks": ""
                        },
                        "colorscale": [
                          [
                            0,
                            "#0d0887"
                          ],
                          [
                            0.1111111111111111,
                            "#46039f"
                          ],
                          [
                            0.2222222222222222,
                            "#7201a8"
                          ],
                          [
                            0.3333333333333333,
                            "#9c179e"
                          ],
                          [
                            0.4444444444444444,
                            "#bd3786"
                          ],
                          [
                            0.5555555555555556,
                            "#d8576b"
                          ],
                          [
                            0.6666666666666666,
                            "#ed7953"
                          ],
                          [
                            0.7777777777777778,
                            "#fb9f3a"
                          ],
                          [
                            0.8888888888888888,
                            "#fdca26"
                          ],
                          [
                            1,
                            "#f0f921"
                          ]
                        ],
                        "type": "histogram2dcontour"
                      }
                    ],
                    "mesh3d": [
                      {
                        "colorbar": {
                          "outlinewidth": 0,
                          "ticks": ""
                        },
                        "type": "mesh3d"
                      }
                    ],
                    "parcoords": [
                      {
                        "line": {
                          "colorbar": {
                            "outlinewidth": 0,
                            "ticks": ""
                          }
                        },
                        "type": "parcoords"
                      }
                    ],
                    "pie": [
                      {
                        "automargin": true,
                        "type": "pie"
                      }
                    ],
                    "scatter": [
                      {
                        "marker": {
                          "colorbar": {
                            "outlinewidth": 0,
                            "ticks": ""
                          }
                        },
                        "type": "scatter"
                      }
                    ],
                    "scatter3d": [
                      {
                        "line": {
                          "colorbar": {
                            "outlinewidth": 0,
                            "ticks": ""
                          }
                        },
                        "marker": {
                          "colorbar": {
                            "outlinewidth": 0,
                            "ticks": ""
                          }
                        },
                        "type": "scatter3d"
                      }
                    ],
                    "scattercarpet": [
                      {
                        "marker": {
                          "colorbar": {
                            "outlinewidth": 0,
                            "ticks": ""
                          }
                        },
                        "type": "scattercarpet"
                      }
                    ],
                    "scattergeo": [
                      {
                        "marker": {
                          "colorbar": {
                            "outlinewidth": 0,
                            "ticks": ""
                          }
                        },
                        "type": "scattergeo"
                      }
                    ],
                    "scattergl": [
                      {
                        "marker": {
                          "colorbar": {
                            "outlinewidth": 0,
                            "ticks": ""
                          }
                        },
                        "type": "scattergl"
                      }
                    ],
                    "scattermapbox": [
                      {
                        "marker": {
                          "colorbar": {
                            "outlinewidth": 0,
                            "ticks": ""
                          }
                        },
                        "type": "scattermapbox"
                      }
                    ],
                    "scatterpolar": [
                      {
                        "marker": {
                          "colorbar": {
                            "outlinewidth": 0,
                            "ticks": ""
                          }
                        },
                        "type": "scatterpolar"
                      }
                    ],
                    "scatterpolargl": [
                      {
                        "marker": {
                          "colorbar": {
                            "outlinewidth": 0,
                            "ticks": ""
                          }
                        },
                        "type": "scatterpolargl"
                      }
                    ],
                    "scatterternary": [
                      {
                        "marker": {
                          "colorbar": {
                            "outlinewidth": 0,
                            "ticks": ""
                          }
                        },
                        "type": "scatterternary"
                      }
                    ],
                    "surface": [
                      {
                        "colorbar": {
                          "outlinewidth": 0,
                          "ticks": ""
                        },
                        "colorscale": [
                          [
                            0,
                            "#0d0887"
                          ],
                          [
                            0.1111111111111111,
                            "#46039f"
                          ],
                          [
                            0.2222222222222222,
                            "#7201a8"
                          ],
                          [
                            0.3333333333333333,
                            "#9c179e"
                          ],
                          [
                            0.4444444444444444,
                            "#bd3786"
                          ],
                          [
                            0.5555555555555556,
                            "#d8576b"
                          ],
                          [
                            0.6666666666666666,
                            "#ed7953"
                          ],
                          [
                            0.7777777777777778,
                            "#fb9f3a"
                          ],
                          [
                            0.8888888888888888,
                            "#fdca26"
                          ],
                          [
                            1,
                            "#f0f921"
                          ]
                        ],
                        "type": "surface"
                      }
                    ],
                    "table": [
                      {
                        "cells": {
                          "fill": {
                            "color": "#EBF0F8"
                          },
                          "line": {
                            "color": "white"
                          }
                        },
                        "header": {
                          "fill": {
                            "color": "#C8D4E3"
                          },
                          "line": {
                            "color": "white"
                          }
                        },
                        "type": "table"
                      }
                    ]
                  },
                  "layout": {
                    "annotationdefaults": {
                      "arrowcolor": "#2a3f5f",
                      "arrowhead": 0,
                      "arrowwidth": 1
                    },
                    "autotypenumbers": "strict",
                    "coloraxis": {
                      "colorbar": {
                        "outlinewidth": 0,
                        "ticks": ""
                      }
                    },
                    "colorscale": {
                      "diverging": [
                        [
                          0,
                          "#8e0152"
                        ],
                        [
                          0.1,
                          "#c51b7d"
                        ],
                        [
                          0.2,
                          "#de77ae"
                        ],
                        [
                          0.3,
                          "#f1b6da"
                        ],
                        [
                          0.4,
                          "#fde0ef"
                        ],
                        [
                          0.5,
                          "#f7f7f7"
                        ],
                        [
                          0.6,
                          "#e6f5d0"
                        ],
                        [
                          0.7,
                          "#b8e186"
                        ],
                        [
                          0.8,
                          "#7fbc41"
                        ],
                        [
                          0.9,
                          "#4d9221"
                        ],
                        [
                          1,
                          "#276419"
                        ]
                      ],
                      "sequential": [
                        [
                          0,
                          "#0d0887"
                        ],
                        [
                          0.1111111111111111,
                          "#46039f"
                        ],
                        [
                          0.2222222222222222,
                          "#7201a8"
                        ],
                        [
                          0.3333333333333333,
                          "#9c179e"
                        ],
                        [
                          0.4444444444444444,
                          "#bd3786"
                        ],
                        [
                          0.5555555555555556,
                          "#d8576b"
                        ],
                        [
                          0.6666666666666666,
                          "#ed7953"
                        ],
                        [
                          0.7777777777777778,
                          "#fb9f3a"
                        ],
                        [
                          0.8888888888888888,
                          "#fdca26"
                        ],
                        [
                          1,
                          "#f0f921"
                        ]
                      ],
                      "sequentialminus": [
                        [
                          0,
                          "#0d0887"
                        ],
                        [
                          0.1111111111111111,
                          "#46039f"
                        ],
                        [
                          0.2222222222222222,
                          "#7201a8"
                        ],
                        [
                          0.3333333333333333,
                          "#9c179e"
                        ],
                        [
                          0.4444444444444444,
                          "#bd3786"
                        ],
                        [
                          0.5555555555555556,
                          "#d8576b"
                        ],
                        [
                          0.6666666666666666,
                          "#ed7953"
                        ],
                        [
                          0.7777777777777778,
                          "#fb9f3a"
                        ],
                        [
                          0.8888888888888888,
                          "#fdca26"
                        ],
                        [
                          1,
                          "#f0f921"
                        ]
                      ]
                    },
                    "colorway": [
                      "#636efa",
                      "#EF553B",
                      "#00cc96",
                      "#ab63fa",
                      "#FFA15A",
                      "#19d3f3",
                      "#FF6692",
                      "#B6E880",
                      "#FF97FF",
                      "#FECB52"
                    ],
                    "font": {
                      "color": "#2a3f5f"
                    },
                    "geo": {
                      "bgcolor": "white",
                      "lakecolor": "white",
                      "landcolor": "#E5ECF6",
                      "showlakes": true,
                      "showland": true,
                      "subunitcolor": "white"
                    },
                    "hoverlabel": {
                      "align": "left"
                    },
                    "hovermode": "closest",
                    "mapbox": {
                      "style": "light"
                    },
                    "paper_bgcolor": "white",
                    "plot_bgcolor": "#E5ECF6",
                    "polar": {
                      "angularaxis": {
                        "gridcolor": "white",
                        "linecolor": "white",
                        "ticks": ""
                      },
                      "bgcolor": "#E5ECF6",
                      "radialaxis": {
                        "gridcolor": "white",
                        "linecolor": "white",
                        "ticks": ""
                      }
                    },
                    "scene": {
                      "xaxis": {
                        "backgroundcolor": "#E5ECF6",
                        "gridcolor": "white",
                        "gridwidth": 2,
                        "linecolor": "white",
                        "showbackground": true,
                        "ticks": "",
                        "zerolinecolor": "white"
                      },
                      "yaxis": {
                        "backgroundcolor": "#E5ECF6",
                        "gridcolor": "white",
                        "gridwidth": 2,
                        "linecolor": "white",
                        "showbackground": true,
                        "ticks": "",
                        "zerolinecolor": "white"
                      },
                      "zaxis": {
                        "backgroundcolor": "#E5ECF6",
                        "gridcolor": "white",
                        "gridwidth": 2,
                        "linecolor": "white",
                        "showbackground": true,
                        "ticks": "",
                        "zerolinecolor": "white"
                      }
                    },
                    "shapedefaults": {
                      "line": {
                        "color": "#2a3f5f"
                      }
                    },
                    "ternary": {
                      "aaxis": {
                        "gridcolor": "white",
                        "linecolor": "white",
                        "ticks": ""
                      },
                      "baxis": {
                        "gridcolor": "white",
                        "linecolor": "white",
                        "ticks": ""
                      },
                      "bgcolor": "#E5ECF6",
                      "caxis": {
                        "gridcolor": "white",
                        "linecolor": "white",
                        "ticks": ""
                      }
                    },
                    "title": {
                      "x": 0.05
                    },
                    "xaxis": {
                      "automargin": true,
                      "gridcolor": "white",
                      "linecolor": "white",
                      "ticks": "",
                      "title": {
                        "standoff": 15
                      },
                      "zerolinecolor": "white",
                      "zerolinewidth": 2
                    },
                    "yaxis": {
                      "automargin": true,
                      "gridcolor": "white",
                      "linecolor": "white",
                      "ticks": "",
                      "title": {
                        "standoff": 15
                      },
                      "zerolinecolor": "white",
                      "zerolinewidth": 2
                    }
                  }
                },
                "xaxis": {
                  "showgrid": true,
                  "showline": true,
                  "showticklabels": true,
                  "title": {
                    "text": "Type"
                  }
                },
                "yaxis": {
                  "showgrid": true,
                  "showline": true,
                  "showticklabels": true,
                  "title": {
                    "text": "Validation Accuracy"
                  },
                  "zeroline": true
                }
              }
            }
          },
          "metadata": {},
          "output_type": "display_data"
        }
      ],
      "source": [
        "models=['Type A', 'Type B', 'Type C', 'Type D']\n",
        "\n",
        "fig = go.Figure([go.Bar(x=models, y=[0.7949, 0.7725, 0.7472, 0.7528], marker_color = 'gold', width=[0.4, 0.4, 0.4, 0.4])])\n",
        "\n",
        "fig.update_layout(  xaxis_title='Type', yaxis_title='Validation Accuracy', \n",
        "                    xaxis=dict(showline=True, showgrid=True, showticklabels=True), \n",
        "                    yaxis=dict(showgrid=True, zeroline=True, showline=True, showticklabels=True), \n",
        "                    autosize=False,\n",
        "                    margin=dict(autoexpand=False,l=170,r=150,t=50,),plot_bgcolor='black')\n",
        "fig.show()"
      ]
    }
  ],
  "metadata": {
    "colab": {
      "collapsed_sections": [],
      "name": "Tool_Count_Augmented_Data.ipynb",
      "provenance": []
    },
    "interpreter": {
      "hash": "092bf18aecc55aef496ffbc6cc353c2203dc3161741cf495c00395ce4a3c9d87"
    },
    "kernelspec": {
      "display_name": "Python 3.8.8 64-bit ('base': conda)",
      "name": "python3"
    },
    "language_info": {
      "codemirror_mode": {
        "name": "ipython",
        "version": 3
      },
      "file_extension": ".py",
      "mimetype": "text/x-python",
      "name": "python",
      "nbconvert_exporter": "python",
      "pygments_lexer": "ipython3",
      "version": "3.8.8"
    }
  },
  "nbformat": 4,
  "nbformat_minor": 0
}