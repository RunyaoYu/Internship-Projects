{
  "cells": [
    {
      "cell_type": "code",
      "execution_count": 4,
      "metadata": {
        "colab": {
          "base_uri": "https://localhost:8080/"
        },
        "id": "dbtRKfVfCE3Y",
        "outputId": "81dddd93-d324-4da2-dbd3-fe8b7c40c539"
      },
      "outputs": [
        {
          "output_type": "stream",
          "name": "stdout",
          "text": [
            "Drive already mounted at /content/drive; to attempt to forcibly remount, call drive.mount(\"/content/drive\", force_remount=True).\n"
          ]
        }
      ],
      "source": [
        "import numpy as np\n",
        "import random\n",
        "import json\n",
        "import copy\n",
        "\n",
        "import torch\n",
        "import torch.nn as nn\n",
        "import torch.optim as optim\n",
        "from torch.utils.data import DataLoader, Dataset\n",
        "\n",
        "import glob\n",
        "\n",
        "from tqdm.notebook import tqdm\n",
        "\n",
        "from google.colab import drive\n",
        "drive.mount('/content/drive')"
      ]
    },
    {
      "cell_type": "code",
      "execution_count": 5,
      "metadata": {
        "id": "u6TzN9oqCE3b"
      },
      "outputs": [],
      "source": [
        "random.seed(0)\n",
        "np.random.seed(0)\n",
        "torch.manual_seed(0)\n",
        "torch.cuda.manual_seed_all(0)\n",
        "torch.backends.cudnn.deterministic=True "
      ]
    },
    {
      "cell_type": "code",
      "execution_count": 7,
      "metadata": {
        "id": "Y-BtvSPNCE3b"
      },
      "outputs": [],
      "source": [
        "meta = json.load(open('/content/drive/MyDrive/TUM/assignments i2dl/assignment2/meta.json', 'r'))\n",
        "tokens = meta['tokens']\n",
        "num_token = len(tokens)\n",
        "num_user = meta['num_user']"
      ]
    },
    {
      "cell_type": "code",
      "execution_count": 8,
      "metadata": {
        "colab": {
          "base_uri": "https://localhost:8080/"
        },
        "id": "6eZSvAqZCE3c",
        "outputId": "a2bf6d6c-c7c4-4342-be89-2a2196878342"
      },
      "outputs": [
        {
          "output_type": "stream",
          "name": "stdout",
          "text": [
            "In dataset, there are 13369 number of tokens (words) and these tweets are from 8 users\n"
          ]
        }
      ],
      "source": [
        "print('In dataset, there are {} number of tokens (words) and these tweets are from {} users'.format(num_token, num_user))"
      ]
    },
    {
      "cell_type": "code",
      "execution_count": 10,
      "metadata": {
        "id": "sy8ljndACE3f"
      },
      "outputs": [],
      "source": [
        "train_data = json.load(open('/content/drive/MyDrive/TUM/assignments i2dl/assignment2/train.json', 'r'))\n",
        "valid_data = json.load(open('/content/drive/MyDrive/TUM/assignments i2dl/assignment2/valid.json', 'r'))\n",
        "s_idx = 0"
      ]
    },
    {
      "cell_type": "code",
      "execution_count": 11,
      "metadata": {
        "colab": {
          "base_uri": "https://localhost:8080/"
        },
        "id": "C4fVEWquCE3g",
        "outputId": "54e46437-5657-43c0-e430-db59887f95d5"
      },
      "outputs": [
        {
          "output_type": "stream",
          "name": "stdout",
          "text": [
            "6400 tweets in train dataset, 356 tweets in valid dataset.\n",
            "Each json file is a list of dictionary, and each dictionary has information of tweets\n",
            "[TWEET INFO]: user id, sentence, processed token id.\n",
            "\n",
            "Sample train data:  {'user_id': 0, 'sentence': 'i recently met lakeisha crum the first in her family to go to college loved her story', 'token_id': [5721, 9659, 7459, 6629, 2686, 11853, 4447, 5870, 5460, 4236, 12017, 4981, 12017, 2197, 7047, 5460, 11310]}\n",
            "\n",
            "Note that: tokens.index(word) = token_id\n",
            "\n",
            "Example:\n",
            "[5721, 9659, 7459, 6629, 2686, 11853, 4447, 5870, 5460, 4236, 12017, 4981, 12017, 2197, 7047, 5460, 11310]\n",
            "[5721, 9659, 7459, 6629, 2686, 11853, 4447, 5870, 5460, 4236, 12017, 4981, 12017, 2197, 7047, 5460, 11310]\n"
          ]
        }
      ],
      "source": [
        "print('{} tweets in train dataset, {} tweets in valid dataset.'.format(len(train_data), len(valid_data)))\n",
        "print('Each json file is a list of dictionary, and each dictionary has information of tweets')\n",
        "print('[TWEET INFO]: user id, sentence, processed token id.')\n",
        "print()\n",
        "\n",
        "print('Sample train data: ', train_data[s_idx])\n",
        "print()\n",
        "print('Note that: tokens.index(word) = token_id')\n",
        "print()\n",
        "print('Example:')\n",
        "print(train_data[0]['token_id'])\n",
        "print([tokens.index(w) for w in train_data[s_idx]['sentence'].split()])"
      ]
    },
    {
      "cell_type": "code",
      "execution_count": 12,
      "metadata": {
        "id": "C4uwJzrdCE3h"
      },
      "outputs": [],
      "source": [
        "class tweetDataset(Dataset):\n",
        "    def __init__(self, data):\n",
        "        self.data = data\n",
        "        \n",
        "    def __len__(self):\n",
        "        return len(self.data)\n",
        "    \n",
        "    def __getitem__(self, idx):\n",
        "        sample = self.data[idx]\n",
        "        sample['token_id'] = torch.Tensor(sample['token_id'])\n",
        "        return sample"
      ]
    },
    {
      "cell_type": "code",
      "execution_count": 13,
      "metadata": {
        "id": "KmI9nYsWCE3h"
      },
      "outputs": [],
      "source": [
        "train_dataset = tweetDataset(train_data)\n",
        "valid_dataset = tweetDataset(valid_data)\n",
        "\n",
        "train_dataloader = DataLoader(train_dataset, batch_size=1, shuffle=True)\n",
        "valid_dataloader = DataLoader(valid_dataset, batch_size=1, shuffle=True)"
      ]
    },
    {
      "cell_type": "code",
      "execution_count": 14,
      "metadata": {
        "colab": {
          "base_uri": "https://localhost:8080/"
        },
        "id": "Eqj_CT2aCE3i",
        "outputId": "654aba5f-7b72-4676-883f-df493db339c0"
      },
      "outputs": [
        {
          "output_type": "stream",
          "name": "stdout",
          "text": [
            "Sample from train dataloader: \n",
            "USER ID:  tensor([7])\n",
            "TOKEN ID:  tensor([[ 3241., 13106.,  9990.,  8273., 12974.,   781.,  6760., 12919.,  5360.,\n",
            "          9394., 12017., 11108.,  8324.,  7987.,  8273., 12828., 11851.,  6847.]])\n",
            "TOKEN ID shape should be BATCH by LENGTH:  torch.Size([1, 18])\n"
          ]
        }
      ],
      "source": [
        "sample = next(iter(train_dataloader))\n",
        "\n",
        "print('Sample from train dataloader: ')\n",
        "print('USER ID: ', sample['user_id'])\n",
        "print('TOKEN ID: ', sample['token_id'])\n",
        "print('TOKEN ID shape should be BATCH by LENGTH: ', sample['token_id'].shape)"
      ]
    },
    {
      "cell_type": "code",
      "execution_count": 15,
      "metadata": {
        "id": "bJEIAWRVCE3j"
      },
      "outputs": [],
      "source": [
        "class Model(nn.Module):\n",
        "    def __init__(self, num_token, num_user, embed_dim, rnn_dim, num_layers):\n",
        "        super(Model, self).__init__()\n",
        "        self.num_token = num_token\n",
        "        self.num_user = num_user\n",
        "        self.embed_dim = embed_dim\n",
        "        self.rnn_dim = rnn_dim\n",
        "        self.num_layers = num_layers\n",
        "        \n",
        "        self.embedding = nn.Embedding(num_token, embed_dim)\n",
        "        self.rnn = nn.LSTM(embed_dim, rnn_dim, num_layers=num_layers, batch_first=True)\n",
        "        self.out_linear = nn.Linear(rnn_dim, num_user)\n",
        "        \n",
        "    def forward(self, token_id):\n",
        "        embed = self.embedding(token_id)\n",
        "        out, _ = self.rnn(embed)\n",
        "        return self.out_linear(out[:, -1])"
      ]
    },
    {
      "cell_type": "code",
      "execution_count": 16,
      "metadata": {
        "id": "2RSOYh-ZCE3k"
      },
      "outputs": [],
      "source": [
        "device = 'cuda'\n",
        "\n",
        "model = Model(num_token, num_user, embed_dim=512, rnn_dim=1024, num_layers=1).to(device)\n",
        "optimizer = optim.Adam(model.parameters(), lr=1e-5, weight_decay=1e-7)"
      ]
    },
    {
      "cell_type": "code",
      "execution_count": 17,
      "metadata": {
        "colab": {
          "base_uri": "https://localhost:8080/"
        },
        "id": "EbR3kk_jCE3k",
        "outputId": "e34f1a0a-f856-4bbb-9a4c-715bd7ca612a"
      },
      "outputs": [
        {
          "output_type": "stream",
          "name": "stdout",
          "text": [
            "Number of parameters: 13152776\n",
            "[NOTE] Number of parameters SHOULD NOT exceed 20,000,000 (20 million).\n"
          ]
        }
      ],
      "source": [
        "num_param = sum(p.numel() for p in model.parameters())\n",
        "print('Number of parameters: {}'.format(num_param))\n",
        "print('[NOTE] Number of parameters SHOULD NOT exceed 20,000,000 (20 million).')"
      ]
    },
    {
      "cell_type": "code",
      "execution_count": 18,
      "metadata": {
        "colab": {
          "base_uri": "https://localhost:8080/"
        },
        "id": "_jqi_BNZCE3l",
        "outputId": "89e7d747-731b-4cac-fdfe-61c414a6db92"
      },
      "outputs": [
        {
          "output_type": "stream",
          "name": "stdout",
          "text": [
            "Prediction shape would be BATCH X NUM_USER(OUTPUT) :  torch.Size([1, 8])\n"
          ]
        }
      ],
      "source": [
        "pred = model(sample['token_id'].long().to(device))\n",
        "print('Prediction shape would be BATCH X NUM_USER(OUTPUT) : ', pred.shape)"
      ]
    },
    {
      "cell_type": "code",
      "execution_count": 19,
      "metadata": {
        "colab": {
          "base_uri": "https://localhost:8080/",
          "height": 1000,
          "referenced_widgets": [
            "0ab2190925824a44866fef21f867d35a",
            "ad0bcab1d66c4f8cbb9bb95909afe2c9",
            "97745d3ff70b44dca59a1a8c6fb52ae9",
            "6e51fdfd092f4b9f838cebce7650e4c8",
            "9202ecd7f19e4075b1aa32fa70d648e9",
            "4d2723afbe9a4a91b1275672ef6cdacd",
            "6662b7b84a9043bf912e4dee65a151cb",
            "6233b2f0b5164ccba1e982f730336c67",
            "4ea31c3d2fe84f3dba682255aad48011",
            "e2ff454b75ca4d96bfae37d0db564ea7",
            "562813c524204fa9a2b6ecefbd71c8a5"
          ]
        },
        "id": "EEs22Ms0CE3l",
        "outputId": "5723f681-dc22-44d0-ac6c-92b0b66a53c6"
      },
      "outputs": [
        {
          "output_type": "display_data",
          "data": {
            "application/vnd.jupyter.widget-view+json": {
              "model_id": "0ab2190925824a44866fef21f867d35a",
              "version_minor": 0,
              "version_major": 2
            },
            "text/plain": [
              "  0%|          | 0/100 [00:00<?, ?it/s]"
            ]
          },
          "metadata": {}
        },
        {
          "output_type": "stream",
          "name": "stdout",
          "text": [
            "[EPOCH 0] VALID ACCURACY: 0.4185393154621124\n",
            "[EPOCH 0] BEST VALID ACCURACY UPDATED: 0.4185393154621124\n",
            "[EPOCH 1] VALID ACCURACY: 0.5252808928489685\n",
            "[EPOCH 1] BEST VALID ACCURACY UPDATED: 0.5252808928489685\n",
            "[EPOCH 2] VALID ACCURACY: 0.567415714263916\n",
            "[EPOCH 2] BEST VALID ACCURACY UPDATED: 0.567415714263916\n",
            "[EPOCH 3] VALID ACCURACY: 0.5955055952072144\n",
            "[EPOCH 3] BEST VALID ACCURACY UPDATED: 0.5955055952072144\n",
            "[EPOCH 4] VALID ACCURACY: 0.6460674405097961\n",
            "[EPOCH 4] BEST VALID ACCURACY UPDATED: 0.6460674405097961\n",
            "[EPOCH 5] VALID ACCURACY: 0.6460674405097961\n",
            "[EPOCH 5] BEST VALID ACCURACY UPDATED: 0.6460674405097961\n",
            "[EPOCH 6] VALID ACCURACY: 0.6544944047927856\n",
            "[EPOCH 6] BEST VALID ACCURACY UPDATED: 0.6544944047927856\n",
            "[EPOCH 7] VALID ACCURACY: 0.6741573214530945\n",
            "[EPOCH 7] BEST VALID ACCURACY UPDATED: 0.6741573214530945\n",
            "[EPOCH 8] VALID ACCURACY: 0.648876428604126\n",
            "[EPOCH 9] VALID ACCURACY: 0.665730357170105\n",
            "[EPOCH 10] VALID ACCURACY: 0.6713483333587646\n",
            "[EPOCH 11] VALID ACCURACY: 0.6741573214530945\n",
            "[EPOCH 11] BEST VALID ACCURACY UPDATED: 0.6741573214530945\n",
            "[EPOCH 12] VALID ACCURACY: 0.7050561904907227\n",
            "[EPOCH 12] BEST VALID ACCURACY UPDATED: 0.7050561904907227\n",
            "[EPOCH 13] VALID ACCURACY: 0.6910112500190735\n",
            "[EPOCH 14] VALID ACCURACY: 0.6685393452644348\n",
            "[EPOCH 15] VALID ACCURACY: 0.6460674405097961\n",
            "[EPOCH 16] VALID ACCURACY: 0.6741573214530945\n",
            "[EPOCH 17] VALID ACCURACY: 0.6741573214530945\n",
            "[EPOCH 18] VALID ACCURACY: 0.6601123809814453\n",
            "[EPOCH 19] VALID ACCURACY: 0.6769663095474243\n",
            "[EPOCH 20] VALID ACCURACY: 0.6741573214530945\n",
            "[EPOCH 21] VALID ACCURACY: 0.6460674405097961\n",
            "[EPOCH 22] VALID ACCURACY: 0.6769663095474243\n",
            "[EPOCH 23] VALID ACCURACY: 0.6797752976417542\n",
            "[EPOCH 24] VALID ACCURACY: 0.6797752976417542\n",
            "[EPOCH 25] VALID ACCURACY: 0.6629213690757751\n",
            "[EPOCH 26] VALID ACCURACY: 0.6910112500190735\n",
            "[EPOCH 27] VALID ACCURACY: 0.682584285736084\n",
            "[EPOCH 28] VALID ACCURACY: 0.6601123809814453\n",
            "[EPOCH 29] VALID ACCURACY: 0.6713483333587646\n",
            "[EPOCH 30] VALID ACCURACY: 0.6938202381134033\n",
            "[EPOCH 31] VALID ACCURACY: 0.6769663095474243\n",
            "[EPOCH 32] VALID ACCURACY: 0.6938202381134033\n",
            "[EPOCH 33] VALID ACCURACY: 0.6685393452644348\n",
            "[EPOCH 34] VALID ACCURACY: 0.699438214302063\n",
            "[EPOCH 35] VALID ACCURACY: 0.682584285736084\n",
            "[EPOCH 36] VALID ACCURACY: 0.6882022619247437\n",
            "[EPOCH 37] VALID ACCURACY: 0.6769663095474243\n",
            "[EPOCH 38] VALID ACCURACY: 0.6966292262077332\n",
            "[EPOCH 39] VALID ACCURACY: 0.6797752976417542\n",
            "[EPOCH 40] VALID ACCURACY: 0.6741573214530945\n",
            "[EPOCH 41] VALID ACCURACY: 0.665730357170105\n",
            "[EPOCH 42] VALID ACCURACY: 0.6601123809814453\n",
            "[EPOCH 43] VALID ACCURACY: 0.6882022619247437\n",
            "[EPOCH 44] VALID ACCURACY: 0.665730357170105\n",
            "[EPOCH 45] VALID ACCURACY: 0.6769663095474243\n",
            "[EPOCH 46] VALID ACCURACY: 0.6741573214530945\n",
            "[EPOCH 47] VALID ACCURACY: 0.6966292262077332\n",
            "[EPOCH 48] VALID ACCURACY: 0.7050561904907227\n",
            "[EPOCH 48] BEST VALID ACCURACY UPDATED: 0.7050561904907227\n",
            "[EPOCH 49] VALID ACCURACY: 0.6713483333587646\n",
            "[EPOCH 50] VALID ACCURACY: 0.699438214302063\n",
            "[EPOCH 51] VALID ACCURACY: 0.7022472023963928\n",
            "[EPOCH 52] VALID ACCURACY: 0.6797752976417542\n",
            "[EPOCH 53] VALID ACCURACY: 0.682584285736084\n",
            "[EPOCH 54] VALID ACCURACY: 0.6938202381134033\n",
            "[EPOCH 55] VALID ACCURACY: 0.6853932738304138\n",
            "[EPOCH 56] VALID ACCURACY: 0.6853932738304138\n",
            "[EPOCH 57] VALID ACCURACY: 0.6882022619247437\n",
            "[EPOCH 58] VALID ACCURACY: 0.6938202381134033\n",
            "[EPOCH 59] VALID ACCURACY: 0.6966292262077332\n",
            "[EPOCH 60] VALID ACCURACY: 0.6853932738304138\n",
            "[EPOCH 61] VALID ACCURACY: 0.6853932738304138\n",
            "[EPOCH 62] VALID ACCURACY: 0.6882022619247437\n",
            "[EPOCH 63] VALID ACCURACY: 0.7022472023963928\n",
            "[EPOCH 64] VALID ACCURACY: 0.699438214302063\n",
            "[EPOCH 65] VALID ACCURACY: 0.6966292262077332\n",
            "[EPOCH 66] VALID ACCURACY: 0.6910112500190735\n",
            "[EPOCH 67] VALID ACCURACY: 0.7050561904907227\n",
            "[EPOCH 67] BEST VALID ACCURACY UPDATED: 0.7050561904907227\n",
            "[EPOCH 68] VALID ACCURACY: 0.6966292262077332\n",
            "[EPOCH 69] VALID ACCURACY: 0.6797752976417542\n",
            "[EPOCH 70] VALID ACCURACY: 0.6938202381134033\n",
            "[EPOCH 71] VALID ACCURACY: 0.6713483333587646\n",
            "[EPOCH 72] VALID ACCURACY: 0.6938202381134033\n",
            "[EPOCH 73] VALID ACCURACY: 0.6938202381134033\n",
            "[EPOCH 74] VALID ACCURACY: 0.6853932738304138\n",
            "[EPOCH 75] VALID ACCURACY: 0.6882022619247437\n",
            "[EPOCH 76] VALID ACCURACY: 0.6685393452644348\n",
            "[EPOCH 77] VALID ACCURACY: 0.6741573214530945\n",
            "[EPOCH 78] VALID ACCURACY: 0.665730357170105\n",
            "[EPOCH 79] VALID ACCURACY: 0.6882022619247437\n",
            "[EPOCH 80] VALID ACCURACY: 0.6910112500190735\n",
            "[EPOCH 81] VALID ACCURACY: 0.6741573214530945\n",
            "[EPOCH 82] VALID ACCURACY: 0.6938202381134033\n",
            "[EPOCH 83] VALID ACCURACY: 0.6797752976417542\n",
            "[EPOCH 84] VALID ACCURACY: 0.682584285736084\n",
            "[EPOCH 85] VALID ACCURACY: 0.6741573214530945\n",
            "[EPOCH 86] VALID ACCURACY: 0.6573033928871155\n",
            "[EPOCH 87] VALID ACCURACY: 0.6966292262077332\n",
            "[EPOCH 88] VALID ACCURACY: 0.6769663095474243\n",
            "[EPOCH 89] VALID ACCURACY: 0.699438214302063\n",
            "[EPOCH 90] VALID ACCURACY: 0.6882022619247437\n",
            "[EPOCH 91] VALID ACCURACY: 0.6713483333587646\n",
            "[EPOCH 92] VALID ACCURACY: 0.6910112500190735\n",
            "[EPOCH 93] VALID ACCURACY: 0.6853932738304138\n",
            "[EPOCH 94] VALID ACCURACY: 0.6938202381134033\n",
            "[EPOCH 95] VALID ACCURACY: 0.6882022619247437\n",
            "[EPOCH 96] VALID ACCURACY: 0.6882022619247437\n",
            "[EPOCH 97] VALID ACCURACY: 0.6769663095474243\n",
            "[EPOCH 98] VALID ACCURACY: 0.6910112500190735\n",
            "[EPOCH 99] VALID ACCURACY: 0.6853932738304138\n",
            "FINISHED TRAINING : BEST MODEL AT EPOCH 67 WITH ACCURACY 0.7050561904907227\n"
          ]
        }
      ],
      "source": [
        "criteria = nn.CrossEntropyLoss()\n",
        "avg_loss = 0.0\n",
        "best_valid_accu = 0.0\n",
        "best_epoch = -1\n",
        "best_model = None\n",
        "num_epoch = 100\n",
        "x,y = [],[]\n",
        "for epoch in tqdm(range(num_epoch)):\n",
        "    # start training\n",
        "    for sample in train_dataloader:\n",
        "        model.train()\n",
        "        optimizer.zero_grad()\n",
        "\n",
        "        pred = model(sample['token_id'].long().to(device))\n",
        "\n",
        "        loss = criteria(pred, sample['user_id'].long().to(device))\n",
        "\n",
        "        loss.backward()\n",
        "        optimizer.step()\n",
        "\n",
        "        avg_loss += loss.item() / len(train_dataloader)\n",
        "\n",
        "    # start validation\n",
        "    correct_cnt = 0.0\n",
        "    data_cnt = 0.0\n",
        "    for sample in valid_dataloader:\n",
        "        model.eval()\n",
        "\n",
        "        with torch.no_grad():\n",
        "            pred = model(sample['token_id'].long().to(device))\n",
        "\n",
        "        pred_user_id = torch.argmax(pred, dim=-1)\n",
        "\n",
        "        accu = pred_user_id.detach().cpu() == sample['user_id']\n",
        "\n",
        "        correct_cnt += torch.sum(accu)\n",
        "        data_cnt += sample['token_id'].shape[0]\n",
        "\n",
        "    # calculate best valid accuracy, and save the best model. \n",
        "    curr_valid_accu = (correct_cnt / data_cnt).item()\n",
        "    print('[EPOCH {}] VALID ACCURACY: {}'.format(epoch, curr_valid_accu))\n",
        "    x.append(epoch)\n",
        "    y.append(curr_valid_accu)\n",
        "    \n",
        "    best_valid_accu = max(best_valid_accu, curr_valid_accu)\n",
        "    if best_valid_accu == curr_valid_accu:\n",
        "        best_epoch = epoch\n",
        "        best_model = copy.deepcopy(model)\n",
        "        torch.save(best_model.state_dict(), 'best_baseline.pth')\n",
        "        print('[EPOCH {}] BEST VALID ACCURACY UPDATED: {}'.format(epoch, best_valid_accu))\n",
        "\n",
        "print('FINISHED TRAINING : BEST MODEL AT EPOCH {} WITH ACCURACY {}'.format(best_epoch, best_valid_accu))"
      ]
    },
    {
      "cell_type": "code",
      "source": [
        "print(x)\n",
        "print(y)\n",
        "\n",
        "import matplotlib.pyplot as plt\n",
        "plt.plot(x, y)\n",
        " \n",
        "# naming the x axis\n",
        "plt.xlabel('epoch')\n",
        "# naming the y axis\n",
        "plt.ylabel('validation accuracy')\n",
        " \n",
        "# giving a title to my graph\n",
        "plt.title('LSTM')\n",
        " \n",
        "# function to show the plot\n",
        "plt.show()"
      ],
      "metadata": {
        "colab": {
          "base_uri": "https://localhost:8080/",
          "height": 350
        },
        "id": "mN6x9j3vEuUs",
        "outputId": "8321bf05-8cdd-4cb8-95e0-210656df2c57"
      },
      "execution_count": 20,
      "outputs": [
        {
          "output_type": "stream",
          "name": "stdout",
          "text": [
            "[0, 1, 2, 3, 4, 5, 6, 7, 8, 9, 10, 11, 12, 13, 14, 15, 16, 17, 18, 19, 20, 21, 22, 23, 24, 25, 26, 27, 28, 29, 30, 31, 32, 33, 34, 35, 36, 37, 38, 39, 40, 41, 42, 43, 44, 45, 46, 47, 48, 49, 50, 51, 52, 53, 54, 55, 56, 57, 58, 59, 60, 61, 62, 63, 64, 65, 66, 67, 68, 69, 70, 71, 72, 73, 74, 75, 76, 77, 78, 79, 80, 81, 82, 83, 84, 85, 86, 87, 88, 89, 90, 91, 92, 93, 94, 95, 96, 97, 98, 99]\n",
            "[0.4185393154621124, 0.5252808928489685, 0.567415714263916, 0.5955055952072144, 0.6460674405097961, 0.6460674405097961, 0.6544944047927856, 0.6741573214530945, 0.648876428604126, 0.665730357170105, 0.6713483333587646, 0.6741573214530945, 0.7050561904907227, 0.6910112500190735, 0.6685393452644348, 0.6460674405097961, 0.6741573214530945, 0.6741573214530945, 0.6601123809814453, 0.6769663095474243, 0.6741573214530945, 0.6460674405097961, 0.6769663095474243, 0.6797752976417542, 0.6797752976417542, 0.6629213690757751, 0.6910112500190735, 0.682584285736084, 0.6601123809814453, 0.6713483333587646, 0.6938202381134033, 0.6769663095474243, 0.6938202381134033, 0.6685393452644348, 0.699438214302063, 0.682584285736084, 0.6882022619247437, 0.6769663095474243, 0.6966292262077332, 0.6797752976417542, 0.6741573214530945, 0.665730357170105, 0.6601123809814453, 0.6882022619247437, 0.665730357170105, 0.6769663095474243, 0.6741573214530945, 0.6966292262077332, 0.7050561904907227, 0.6713483333587646, 0.699438214302063, 0.7022472023963928, 0.6797752976417542, 0.682584285736084, 0.6938202381134033, 0.6853932738304138, 0.6853932738304138, 0.6882022619247437, 0.6938202381134033, 0.6966292262077332, 0.6853932738304138, 0.6853932738304138, 0.6882022619247437, 0.7022472023963928, 0.699438214302063, 0.6966292262077332, 0.6910112500190735, 0.7050561904907227, 0.6966292262077332, 0.6797752976417542, 0.6938202381134033, 0.6713483333587646, 0.6938202381134033, 0.6938202381134033, 0.6853932738304138, 0.6882022619247437, 0.6685393452644348, 0.6741573214530945, 0.665730357170105, 0.6882022619247437, 0.6910112500190735, 0.6741573214530945, 0.6938202381134033, 0.6797752976417542, 0.682584285736084, 0.6741573214530945, 0.6573033928871155, 0.6966292262077332, 0.6769663095474243, 0.699438214302063, 0.6882022619247437, 0.6713483333587646, 0.6910112500190735, 0.6853932738304138, 0.6938202381134033, 0.6882022619247437, 0.6882022619247437, 0.6769663095474243, 0.6910112500190735, 0.6853932738304138]\n"
          ]
        },
        {
          "output_type": "display_data",
          "data": {
            "image/png": "[encoded data removed]",
            "text/plain": [
              "<Figure size 432x288 with 1 Axes>"
            ]
          },
          "metadata": {
            "needs_background": "light"
          }
        }
      ]
    }
  ],
  "metadata": {
    "kernelspec": {
      "display_name": "py37",
      "language": "python",
      "name": "py37"
    },
    "language_info": {
      "codemirror_mode": {
        "name": "ipython",
        "version": 3
      },
      "file_extension": ".py",
      "mimetype": "text/x-python",
      "name": "python",
      "nbconvert_exporter": "python",
      "pygments_lexer": "ipython3",
      "version": "3.7.10"
    },
    "colab": {
      "name": "LSTM_without_attention.ipynb",
      "provenance": []
    },
    "accelerator": "GPU",
    "widgets": {
      "application/vnd.jupyter.widget-state+json": {
        "0ab2190925824a44866fef21f867d35a": {
          "model_module": "@jupyter-widgets/controls",
          "model_name": "HBoxModel",
          "model_module_version": "1.5.0",
          "state": {
            "_view_name": "HBoxView",
            "_dom_classes": [],
            "_model_name": "HBoxModel",
            "_view_module": "@jupyter-widgets/controls",
            "_model_module_version": "1.5.0",
            "_view_count": null,
            "_view_module_version": "1.5.0",
            "box_style": "",
            "layout": "IPY_MODEL_ad0bcab1d66c4f8cbb9bb95909afe2c9",
            "_model_module": "@jupyter-widgets/controls",
            "children": [
              "IPY_MODEL_97745d3ff70b44dca59a1a8c6fb52ae9",
              "IPY_MODEL_6e51fdfd092f4b9f838cebce7650e4c8",
              "IPY_MODEL_9202ecd7f19e4075b1aa32fa70d648e9"
            ]
          }
        },
        "ad0bcab1d66c4f8cbb9bb95909afe2c9": {
          "model_module": "@jupyter-widgets/base",
          "model_name": "LayoutModel",
          "model_module_version": "1.2.0",
          "state": {
            "_view_name": "LayoutView",
            "grid_template_rows": null,
            "right": null,
            "justify_content": null,
            "_view_module": "@jupyter-widgets/base",
            "overflow": null,
            "_model_module_version": "1.2.0",
            "_view_count": null,
            "flex_flow": null,
            "width": null,
            "min_width": null,
            "border": null,
            "align_items": null,
            "bottom": null,
            "_model_module": "@jupyter-widgets/base",
            "top": null,
            "grid_column": null,
            "overflow_y": null,
            "overflow_x": null,
            "grid_auto_flow": null,
            "grid_area": null,
            "grid_template_columns": null,
            "flex": null,
            "_model_name": "LayoutModel",
            "justify_items": null,
            "grid_row": null,
            "max_height": null,
            "align_content": null,
            "visibility": null,
            "align_self": null,
            "height": null,
            "min_height": null,
            "padding": null,
            "grid_auto_rows": null,
            "grid_gap": null,
            "max_width": null,
            "order": null,
            "_view_module_version": "1.2.0",
            "grid_template_areas": null,
            "object_position": null,
            "object_fit": null,
            "grid_auto_columns": null,
            "margin": null,
            "display": null,
            "left": null
          }
        },
        "97745d3ff70b44dca59a1a8c6fb52ae9": {
          "model_module": "@jupyter-widgets/controls",
          "model_name": "HTMLModel",
          "model_module_version": "1.5.0",
          "state": {
            "_view_name": "HTMLView",
            "style": "IPY_MODEL_4d2723afbe9a4a91b1275672ef6cdacd",
            "_dom_classes": [],
            "description": "",
            "_model_name": "HTMLModel",
            "placeholder": "​",
            "_view_module": "@jupyter-widgets/controls",
            "_model_module_version": "1.5.0",
            "value": "100%",
            "_view_count": null,
            "_view_module_version": "1.5.0",
            "description_tooltip": null,
            "_model_module": "@jupyter-widgets/controls",
            "layout": "IPY_MODEL_6662b7b84a9043bf912e4dee65a151cb"
          }
        },
        "6e51fdfd092f4b9f838cebce7650e4c8": {
          "model_module": "@jupyter-widgets/controls",
          "model_name": "FloatProgressModel",
          "model_module_version": "1.5.0",
          "state": {
            "_view_name": "ProgressView",
            "style": "IPY_MODEL_6233b2f0b5164ccba1e982f730336c67",
            "_dom_classes": [],
            "description": "",
            "_model_name": "FloatProgressModel",
            "bar_style": "success",
            "max": 100,
            "_view_module": "@jupyter-widgets/controls",
            "_model_module_version": "1.5.0",
            "value": 100,
            "_view_count": null,
            "_view_module_version": "1.5.0",
            "orientation": "horizontal",
            "min": 0,
            "description_tooltip": null,
            "_model_module": "@jupyter-widgets/controls",
            "layout": "IPY_MODEL_4ea31c3d2fe84f3dba682255aad48011"
          }
        },
        "9202ecd7f19e4075b1aa32fa70d648e9": {
          "model_module": "@jupyter-widgets/controls",
          "model_name": "HTMLModel",
          "model_module_version": "1.5.0",
          "state": {
            "_view_name": "HTMLView",
            "style": "IPY_MODEL_e2ff454b75ca4d96bfae37d0db564ea7",
            "_dom_classes": [],
            "description": "",
            "_model_name": "HTMLModel",
            "placeholder": "​",
            "_view_module": "@jupyter-widgets/controls",
            "_model_module_version": "1.5.0",
            "value": " 100/100 [1:08:03&lt;00:00, 40.84s/it]",
            "_view_count": null,
            "_view_module_version": "1.5.0",
            "description_tooltip": null,
            "_model_module": "@jupyter-widgets/controls",
            "layout": "IPY_MODEL_562813c524204fa9a2b6ecefbd71c8a5"
          }
        },
        "4d2723afbe9a4a91b1275672ef6cdacd": {
          "model_module": "@jupyter-widgets/controls",
          "model_name": "DescriptionStyleModel",
          "model_module_version": "1.5.0",
          "state": {
            "_view_name": "StyleView",
            "_model_name": "DescriptionStyleModel",
            "description_width": "",
            "_view_module": "@jupyter-widgets/base",
            "_model_module_version": "1.5.0",
            "_view_count": null,
            "_view_module_version": "1.2.0",
            "_model_module": "@jupyter-widgets/controls"
          }
        },
        "6662b7b84a9043bf912e4dee65a151cb": {
          "model_module": "@jupyter-widgets/base",
          "model_name": "LayoutModel",
          "model_module_version": "1.2.0",
          "state": {
            "_view_name": "LayoutView",
            "grid_template_rows": null,
            "right": null,
            "justify_content": null,
            "_view_module": "@jupyter-widgets/base",
            "overflow": null,
            "_model_module_version": "1.2.0",
            "_view_count": null,
            "flex_flow": null,
            "width": null,
            "min_width": null,
            "border": null,
            "align_items": null,
            "bottom": null,
            "_model_module": "@jupyter-widgets/base",
            "top": null,
            "grid_column": null,
            "overflow_y": null,
            "overflow_x": null,
            "grid_auto_flow": null,
            "grid_area": null,
            "grid_template_columns": null,
            "flex": null,
            "_model_name": "LayoutModel",
            "justify_items": null,
            "grid_row": null,
            "max_height": null,
            "align_content": null,
            "visibility": null,
            "align_self": null,
            "height": null,
            "min_height": null,
            "padding": null,
            "grid_auto_rows": null,
            "grid_gap": null,
            "max_width": null,
            "order": null,
            "_view_module_version": "1.2.0",
            "grid_template_areas": null,
            "object_position": null,
            "object_fit": null,
            "grid_auto_columns": null,
            "margin": null,
            "display": null,
            "left": null
          }
        },
        "6233b2f0b5164ccba1e982f730336c67": {
          "model_module": "@jupyter-widgets/controls",
          "model_name": "ProgressStyleModel",
          "model_module_version": "1.5.0",
          "state": {
            "_view_name": "StyleView",
            "_model_name": "ProgressStyleModel",
            "description_width": "",
            "_view_module": "@jupyter-widgets/base",
            "_model_module_version": "1.5.0",
            "_view_count": null,
            "_view_module_version": "1.2.0",
            "bar_color": null,
            "_model_module": "@jupyter-widgets/controls"
          }
        },
        "4ea31c3d2fe84f3dba682255aad48011": {
          "model_module": "@jupyter-widgets/base",
          "model_name": "LayoutModel",
          "model_module_version": "1.2.0",
          "state": {
            "_view_name": "LayoutView",
            "grid_template_rows": null,
            "right": null,
            "justify_content": null,
            "_view_module": "@jupyter-widgets/base",
            "overflow": null,
            "_model_module_version": "1.2.0",
            "_view_count": null,
            "flex_flow": null,
            "width": null,
            "min_width": null,
            "border": null,
            "align_items": null,
            "bottom": null,
            "_model_module": "@jupyter-widgets/base",
            "top": null,
            "grid_column": null,
            "overflow_y": null,
            "overflow_x": null,
            "grid_auto_flow": null,
            "grid_area": null,
            "grid_template_columns": null,
            "flex": null,
            "_model_name": "LayoutModel",
            "justify_items": null,
            "grid_row": null,
            "max_height": null,
            "align_content": null,
            "visibility": null,
            "align_self": null,
            "height": null,
            "min_height": null,
            "padding": null,
            "grid_auto_rows": null,
            "grid_gap": null,
            "max_width": null,
            "order": null,
            "_view_module_version": "1.2.0",
            "grid_template_areas": null,
            "object_position": null,
            "object_fit": null,
            "grid_auto_columns": null,
            "margin": null,
            "display": null,
            "left": null
          }
        },
        "e2ff454b75ca4d96bfae37d0db564ea7": {
          "model_module": "@jupyter-widgets/controls",
          "model_name": "DescriptionStyleModel",
          "model_module_version": "1.5.0",
          "state": {
            "_view_name": "StyleView",
            "_model_name": "DescriptionStyleModel",
            "description_width": "",
            "_view_module": "@jupyter-widgets/base",
            "_model_module_version": "1.5.0",
            "_view_count": null,
            "_view_module_version": "1.2.0",
            "_model_module": "@jupyter-widgets/controls"
          }
        },
        "562813c524204fa9a2b6ecefbd71c8a5": {
          "model_module": "@jupyter-widgets/base",
          "model_name": "LayoutModel",
          "model_module_version": "1.2.0",
          "state": {
            "_view_name": "LayoutView",
            "grid_template_rows": null,
            "right": null,
            "justify_content": null,
            "_view_module": "@jupyter-widgets/base",
            "overflow": null,
            "_model_module_version": "1.2.0",
            "_view_count": null,
            "flex_flow": null,
            "width": null,
            "min_width": null,
            "border": null,
            "align_items": null,
            "bottom": null,
            "_model_module": "@jupyter-widgets/base",
            "top": null,
            "grid_column": null,
            "overflow_y": null,
            "overflow_x": null,
            "grid_auto_flow": null,
            "grid_area": null,
            "grid_template_columns": null,
            "flex": null,
            "_model_name": "LayoutModel",
            "justify_items": null,
            "grid_row": null,
            "max_height": null,
            "align_content": null,
            "visibility": null,
            "align_self": null,
            "height": null,
            "min_height": null,
            "padding": null,
            "grid_auto_rows": null,
            "grid_gap": null,
            "max_width": null,
            "order": null,
            "_view_module_version": "1.2.0",
            "grid_template_areas": null,
            "object_position": null,
            "object_fit": null,
            "grid_auto_columns": null,
            "margin": null,
            "display": null,
            "left": null
          }
        }
      }
    }
  },
  "nbformat": 4,
  "nbformat_minor": 0
}