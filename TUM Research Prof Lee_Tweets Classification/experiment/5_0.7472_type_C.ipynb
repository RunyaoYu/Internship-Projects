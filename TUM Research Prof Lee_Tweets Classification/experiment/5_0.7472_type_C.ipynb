{
  "cells": [
    {
      "cell_type": "code",
      "execution_count": 31,
      "metadata": {
        "colab": {
          "base_uri": "https://localhost:8080/"
        },
        "id": "dbtRKfVfCE3Y",
        "outputId": "3edaac1f-ca5b-4590-ec11-ff39267bab19"
      },
      "outputs": [
        {
          "name": "stdout",
          "output_type": "stream",
          "text": [
            "Drive already mounted at /content/drive; to attempt to forcibly remount, call drive.mount(\"/content/drive\", force_remount=True).\n"
          ]
        }
      ],
      "source": [
        "import numpy as np\n",
        "import random\n",
        "import json\n",
        "import copy\n",
        "\n",
        "import torch\n",
        "import torch.nn as nn\n",
        "import torch.optim as optim\n",
        "from torch.utils.data import DataLoader, Dataset\n",
        "\n",
        "import glob\n",
        "\n",
        "from tqdm.notebook import tqdm\n",
        "\n",
        "from google.colab import drive\n",
        "drive.mount('/content/drive')"
      ]
    },
    {
      "cell_type": "code",
      "execution_count": 32,
      "metadata": {
        "id": "u6TzN9oqCE3b"
      },
      "outputs": [],
      "source": [
        "random.seed(777)\n",
        "np.random.seed(777)\n",
        "torch.manual_seed(777)\n",
        "torch.cuda.manual_seed_all(777)\n",
        "torch.backends.cudnn.deterministic=True "
      ]
    },
    {
      "cell_type": "code",
      "execution_count": 104,
      "metadata": {
        "id": "Y-BtvSPNCE3b"
      },
      "outputs": [],
      "source": [
        "meta = json.load(open('/content/drive/MyDrive/TUM/assignments i2dl/assignment2/meta.json', 'r'))\n",
        "tokens = meta['tokens']\n",
        "num_token = len(tokens)\n",
        "num_user = meta['num_user']"
      ]
    },
    {
      "cell_type": "code",
      "execution_count": 34,
      "metadata": {
        "colab": {
          "base_uri": "https://localhost:8080/"
        },
        "id": "6eZSvAqZCE3c",
        "outputId": "630087eb-b7e8-46ca-e80d-2c7ef2d38192"
      },
      "outputs": [
        {
          "name": "stdout",
          "output_type": "stream",
          "text": [
            "In dataset, there are 13369 number of tokens (words) and these tweets are from 8 users\n"
          ]
        }
      ],
      "source": [
        "print('In dataset, there are {} number of tokens (words) and these tweets are from {} users'.format(num_token, num_user))"
      ]
    },
    {
      "cell_type": "code",
      "execution_count": 105,
      "metadata": {
        "id": "sy8ljndACE3f"
      },
      "outputs": [],
      "source": [
        "train_data = json.load(open('/content/drive/MyDrive/TUM/assignments i2dl/assignment2/train.json', 'r'))\n",
        "valid_data = json.load(open('/content/drive/MyDrive/TUM/assignments i2dl/assignment2/valid.json', 'r'))\n",
        "s_idx = 0"
      ]
    },
    {
      "cell_type": "code",
      "execution_count": 84,
      "metadata": {
        "colab": {
          "base_uri": "https://localhost:8080/"
        },
        "id": "C4fVEWquCE3g",
        "outputId": "40f6447a-2f44-4c5a-ad31-07defa32d095"
      },
      "outputs": [
        {
          "name": "stdout",
          "output_type": "stream",
          "text": [
            "6400 tweets in train dataset, 356 tweets in valid dataset.\n",
            "Each json file is a list of dictionary, and each dictionary has information of tweets\n",
            "[TWEET INFO]: user id, sentence, processed token id.\n",
            "\n",
            "Sample train data:  {'user_id': 0, 'sentence': 'i recently met lakeisha crum the first in her family to go to college loved her story', 'token_id': [5721, 9659, 7459, 6629, 2686, 11853, 4447, 5870, 5460, 4236, 12017, 4981, 12017, 2197, 7047, 5460, 11310]}\n",
            "\n",
            "Note that: tokens.index(word) = token_id\n",
            "\n",
            "Example:\n",
            "[5721, 9659, 7459, 6629, 2686, 11853, 4447, 5870, 5460, 4236, 12017, 4981, 12017, 2197, 7047, 5460, 11310]\n",
            "[5721, 9659, 7459, 6629, 2686, 11853, 4447, 5870, 5460, 4236, 12017, 4981, 12017, 2197, 7047, 5460, 11310]\n"
          ]
        }
      ],
      "source": [
        "print('{} tweets in train dataset, {} tweets in valid dataset.'.format(len(train_data), len(valid_data)))\n",
        "print('Each json file is a list of dictionary, and each dictionary has information of tweets')\n",
        "print('[TWEET INFO]: user id, sentence, processed token id.')\n",
        "print()\n",
        "\n",
        "print('Sample train data: ', train_data[s_idx])\n",
        "print()\n",
        "print('Note that: tokens.index(word) = token_id')\n",
        "print()\n",
        "print('Example:')\n",
        "print(train_data[0]['token_id'])\n",
        "print([tokens.index(w) for w in train_data[s_idx]['sentence'].split()])"
      ]
    },
    {
      "cell_type": "code",
      "execution_count": 85,
      "metadata": {
        "id": "C4uwJzrdCE3h"
      },
      "outputs": [],
      "source": [
        "class tweetDataset(Dataset):\n",
        "    def __init__(self, data):\n",
        "        self.data = data\n",
        "        \n",
        "    def __len__(self):\n",
        "        return len(self.data)\n",
        "    \n",
        "    def __getitem__(self, idx):\n",
        "        sample = self.data[idx]\n",
        "        sample['token_id'] = torch.Tensor(sample['token_id'])\n",
        "        return sample"
      ]
    },
    {
      "cell_type": "code",
      "execution_count": 106,
      "metadata": {
        "id": "KmI9nYsWCE3h"
      },
      "outputs": [],
      "source": [
        "train_dataset = tweetDataset(train_data)\n",
        "valid_dataset = tweetDataset(valid_data)\n",
        "\n",
        "train_dataloader = DataLoader(train_dataset, batch_size=1, shuffle=True)\n",
        "valid_dataloader = DataLoader(valid_dataset, batch_size=1, shuffle=True)"
      ]
    },
    {
      "cell_type": "code",
      "execution_count": 107,
      "metadata": {
        "colab": {
          "base_uri": "https://localhost:8080/"
        },
        "id": "Eqj_CT2aCE3i",
        "outputId": "695c7b45-50da-442e-f428-be21a278cfec"
      },
      "outputs": [
        {
          "name": "stdout",
          "output_type": "stream",
          "text": [
            "Sample from train dataloader: \n",
            "USER ID:  tensor([5])\n",
            "TOKEN ID:  tensor([[ 5484., 11040.,   243.,   127.,  1048., 11512., 12017.,  6333.,  5870.,\n",
            "          8324., 11853.,   119.,   781., 11853.,  4970.,  2101., 11349., 11908.,\n",
            "          4686.,  2448.]])\n",
            "TOKEN ID shape should be BATCH by LENGTH:  torch.Size([1, 20])\n"
          ]
        }
      ],
      "source": [
        "sample = next(iter(train_dataloader))\n",
        "\n",
        "print('Sample from train dataloader: ')\n",
        "print('USER ID: ', sample['user_id'])\n",
        "print('TOKEN ID: ', sample['token_id'])\n",
        "print('TOKEN ID shape should be BATCH by LENGTH: ', sample['token_id'].shape)"
      ]
    },
    {
      "cell_type": "code",
      "execution_count": 87,
      "metadata": {
        "id": "bJEIAWRVCE3j"
      },
      "outputs": [],
      "source": [
        "class Model(nn.Module):\n",
        "    def __init__(self, num_token, num_user, embed_dim, rnn_dim, num_layers):\n",
        "        super(Model, self).__init__()\n",
        "        self.num_token = num_token\n",
        "        self.num_user = num_user\n",
        "        self.embed_dim = embed_dim\n",
        "        self.rnn_dim = rnn_dim\n",
        "        self.num_layers = num_layers\n",
        "        \n",
        "        self.embedding = nn.Embedding(num_token, embed_dim)\n",
        "        self.rnn = nn.GRU(embed_dim, rnn_dim, num_layers=num_layers, batch_first=True, bidirectional=True)\n",
        "\n",
        "        self.dropout = nn.Dropout(p=0.2)\n",
        "        self.attn = nn.MultiheadAttention(2*rnn_dim, 1, dropout=0.2)\n",
        "        self.out_linear = nn.Linear(2*rnn_dim, num_user)\n",
        "\n",
        "    def forward(self, token_id):\n",
        "        embed = self.embedding(token_id)\n",
        "        embed = self.dropout(embed)\n",
        "        out, _ = self.rnn(embed)\n",
        "        out = self.dropout(out)\n",
        "        out, _ = self.attn(out, out, out)\n",
        "        return self.out_linear(out[:, -1])"
      ]
    },
    {
      "cell_type": "code",
      "execution_count": 108,
      "metadata": {
        "id": "2RSOYh-ZCE3k"
      },
      "outputs": [],
      "source": [
        "device = 'cuda'\n",
        "\n",
        "model = Model(num_token, num_user, embed_dim=256, rnn_dim=833, num_layers=1).to(device)\n",
        "optimizer = optim.AdamW(model.parameters(), lr=1e-5, weight_decay=1e-7)"
      ]
    },
    {
      "cell_type": "code",
      "execution_count": 109,
      "metadata": {
        "colab": {
          "base_uri": "https://localhost:8080/"
        },
        "id": "EbR3kk_jCE3k",
        "outputId": "66ea7873-5a9f-45b2-da4a-9835b271906c"
      },
      "outputs": [
        {
          "name": "stdout",
          "output_type": "stream",
          "text": [
            "Number of parameters: 19997506\n",
            "[NOTE] Number of parameters SHOULD NOT exceed 20,000,000 (20 million).\n"
          ]
        }
      ],
      "source": [
        "num_param = sum(p.numel() for p in model.parameters())\n",
        "print('Number of parameters: {}'.format(num_param))\n",
        "print('[NOTE] Number of parameters SHOULD NOT exceed 20,000,000 (20 million).')"
      ]
    },
    {
      "cell_type": "code",
      "execution_count": 110,
      "metadata": {
        "colab": {
          "base_uri": "https://localhost:8080/"
        },
        "id": "_jqi_BNZCE3l",
        "outputId": "c1232ac9-cfcd-49df-d7a9-0c0caf219c0f"
      },
      "outputs": [
        {
          "name": "stdout",
          "output_type": "stream",
          "text": [
            "Prediction shape would be BATCH X NUM_USER(OUTPUT) :  torch.Size([1, 8])\n"
          ]
        }
      ],
      "source": [
        "pred = model(sample['token_id'].long().to(device))\n",
        "print('Prediction shape would be BATCH X NUM_USER(OUTPUT) : ', pred.shape)"
      ]
    },
    {
      "cell_type": "code",
      "execution_count": 111,
      "metadata": {
        "colab": {
          "base_uri": "https://localhost:8080/",
          "height": 1000,
          "referenced_widgets": [
            "0cc880f8a49e4f688dfd6417688d1d8a",
            "6bab9496c8794cdab3c8373a8c87535c",
            "0949dfc21def44e4a6ba6f3c9b22bf80",
            "3880aac1c509458fb6deaca98162a577",
            "6a33d6c9dc2a493fb113ea1f6a9db064",
            "97ea950ad1e44f0b8cac9143ee718389",
            "546da18e4b1045edb2cefc2135c0a3cf",
            "b5abc67acac94208a0339220b91e00c1",
            "b177076d697e412e8dd3bfe6a3a0bcba",
            "ae6505c4eb264b9380b1f6427d9372d3",
            "520be6c06b854882973f174dba3c697e"
          ]
        },
        "id": "EEs22Ms0CE3l",
        "outputId": "8b570007-852d-45a8-d50a-2edad7418884"
      },
      "outputs": [
        {
          "data": {
            "application/vnd.jupyter.widget-view+json": {
              "model_id": "0cc880f8a49e4f688dfd6417688d1d8a",
              "version_major": 2,
              "version_minor": 0
            },
            "text/plain": [
              "  0%|          | 0/300 [00:00<?, ?it/s]"
            ]
          },
          "metadata": {},
          "output_type": "display_data"
        },
        {
          "name": "stdout",
          "output_type": "stream",
          "text": [
            "[EPOCH 0] VALID ACCURACY: 0.34550562500953674\n",
            "[EPOCH 0] BEST VALID ACCURACY UPDATED: 0.34550562500953674\n",
            "[EPOCH 1] VALID ACCURACY: 0.4241572916507721\n",
            "[EPOCH 1] BEST VALID ACCURACY UPDATED: 0.4241572916507721\n",
            "[EPOCH 2] VALID ACCURACY: 0.47752809524536133\n",
            "[EPOCH 2] BEST VALID ACCURACY UPDATED: 0.47752809524536133\n",
            "[EPOCH 3] VALID ACCURACY: 0.5449438095092773\n",
            "[EPOCH 3] BEST VALID ACCURACY UPDATED: 0.5449438095092773\n",
            "[EPOCH 4] VALID ACCURACY: 0.5224719047546387\n",
            "[EPOCH 5] VALID ACCURACY: 0.5617977380752563\n",
            "[EPOCH 5] BEST VALID ACCURACY UPDATED: 0.5617977380752563\n",
            "[EPOCH 6] VALID ACCURACY: 0.5561797618865967\n",
            "[EPOCH 7] VALID ACCURACY: 0.584269642829895\n",
            "[EPOCH 7] BEST VALID ACCURACY UPDATED: 0.584269642829895\n",
            "[EPOCH 8] VALID ACCURACY: 0.6151685118675232\n",
            "[EPOCH 8] BEST VALID ACCURACY UPDATED: 0.6151685118675232\n",
            "[EPOCH 9] VALID ACCURACY: 0.6067415475845337\n",
            "[EPOCH 10] VALID ACCURACY: 0.617977499961853\n",
            "[EPOCH 10] BEST VALID ACCURACY UPDATED: 0.617977499961853\n",
            "[EPOCH 11] VALID ACCURACY: 0.6460674405097961\n",
            "[EPOCH 11] BEST VALID ACCURACY UPDATED: 0.6460674405097961\n",
            "[EPOCH 12] VALID ACCURACY: 0.632022500038147\n",
            "[EPOCH 13] VALID ACCURACY: 0.6432584524154663\n",
            "[EPOCH 14] VALID ACCURACY: 0.6544944047927856\n",
            "[EPOCH 14] BEST VALID ACCURACY UPDATED: 0.6544944047927856\n",
            "[EPOCH 15] VALID ACCURACY: 0.6516854166984558\n",
            "[EPOCH 16] VALID ACCURACY: 0.6797752976417542\n",
            "[EPOCH 16] BEST VALID ACCURACY UPDATED: 0.6797752976417542\n",
            "[EPOCH 17] VALID ACCURACY: 0.632022500038147\n",
            "[EPOCH 18] VALID ACCURACY: 0.6573033928871155\n",
            "[EPOCH 19] VALID ACCURACY: 0.6404494643211365\n",
            "[EPOCH 20] VALID ACCURACY: 0.6601123809814453\n",
            "[EPOCH 21] VALID ACCURACY: 0.6797752976417542\n",
            "[EPOCH 21] BEST VALID ACCURACY UPDATED: 0.6797752976417542\n",
            "[EPOCH 22] VALID ACCURACY: 0.6601123809814453\n",
            "[EPOCH 23] VALID ACCURACY: 0.6853932738304138\n",
            "[EPOCH 23] BEST VALID ACCURACY UPDATED: 0.6853932738304138\n",
            "[EPOCH 24] VALID ACCURACY: 0.6629213690757751\n",
            "[EPOCH 25] VALID ACCURACY: 0.665730357170105\n",
            "[EPOCH 26] VALID ACCURACY: 0.665730357170105\n",
            "[EPOCH 27] VALID ACCURACY: 0.6797752976417542\n",
            "[EPOCH 28] VALID ACCURACY: 0.6601123809814453\n",
            "[EPOCH 29] VALID ACCURACY: 0.6741573214530945\n",
            "[EPOCH 30] VALID ACCURACY: 0.6769663095474243\n",
            "[EPOCH 31] VALID ACCURACY: 0.6966292262077332\n",
            "[EPOCH 31] BEST VALID ACCURACY UPDATED: 0.6966292262077332\n",
            "[EPOCH 32] VALID ACCURACY: 0.6853932738304138\n",
            "[EPOCH 33] VALID ACCURACY: 0.6769663095474243\n",
            "[EPOCH 34] VALID ACCURACY: 0.6882022619247437\n",
            "[EPOCH 35] VALID ACCURACY: 0.682584285736084\n",
            "[EPOCH 36] VALID ACCURACY: 0.682584285736084\n",
            "[EPOCH 37] VALID ACCURACY: 0.6797752976417542\n",
            "[EPOCH 38] VALID ACCURACY: 0.6797752976417542\n",
            "[EPOCH 39] VALID ACCURACY: 0.7022472023963928\n",
            "[EPOCH 39] BEST VALID ACCURACY UPDATED: 0.7022472023963928\n",
            "[EPOCH 40] VALID ACCURACY: 0.6853932738304138\n",
            "[EPOCH 41] VALID ACCURACY: 0.699438214302063\n",
            "[EPOCH 42] VALID ACCURACY: 0.6797752976417542\n",
            "[EPOCH 43] VALID ACCURACY: 0.6938202381134033\n",
            "[EPOCH 44] VALID ACCURACY: 0.6938202381134033\n",
            "[EPOCH 45] VALID ACCURACY: 0.6966292262077332\n",
            "[EPOCH 46] VALID ACCURACY: 0.6966292262077332\n",
            "[EPOCH 47] VALID ACCURACY: 0.6882022619247437\n",
            "[EPOCH 48] VALID ACCURACY: 0.6797752976417542\n",
            "[EPOCH 49] VALID ACCURACY: 0.6938202381134033\n",
            "[EPOCH 50] VALID ACCURACY: 0.682584285736084\n",
            "[EPOCH 51] VALID ACCURACY: 0.6797752976417542\n",
            "[EPOCH 52] VALID ACCURACY: 0.6910112500190735\n",
            "[EPOCH 53] VALID ACCURACY: 0.6938202381134033\n",
            "[EPOCH 54] VALID ACCURACY: 0.6685393452644348\n",
            "[EPOCH 55] VALID ACCURACY: 0.6938202381134033\n",
            "[EPOCH 56] VALID ACCURACY: 0.7022472023963928\n",
            "[EPOCH 56] BEST VALID ACCURACY UPDATED: 0.7022472023963928\n",
            "[EPOCH 57] VALID ACCURACY: 0.699438214302063\n",
            "[EPOCH 58] VALID ACCURACY: 0.7050561904907227\n",
            "[EPOCH 58] BEST VALID ACCURACY UPDATED: 0.7050561904907227\n",
            "[EPOCH 59] VALID ACCURACY: 0.6882022619247437\n",
            "[EPOCH 60] VALID ACCURACY: 0.7191011309623718\n",
            "[EPOCH 60] BEST VALID ACCURACY UPDATED: 0.7191011309623718\n",
            "[EPOCH 61] VALID ACCURACY: 0.6797752976417542\n",
            "[EPOCH 62] VALID ACCURACY: 0.699438214302063\n",
            "[EPOCH 63] VALID ACCURACY: 0.716292142868042\n",
            "[EPOCH 64] VALID ACCURACY: 0.682584285736084\n",
            "[EPOCH 65] VALID ACCURACY: 0.7022472023963928\n",
            "[EPOCH 66] VALID ACCURACY: 0.6938202381134033\n",
            "[EPOCH 67] VALID ACCURACY: 0.6938202381134033\n",
            "[EPOCH 68] VALID ACCURACY: 0.7078651785850525\n",
            "[EPOCH 69] VALID ACCURACY: 0.6853932738304138\n",
            "[EPOCH 70] VALID ACCURACY: 0.6966292262077332\n",
            "[EPOCH 71] VALID ACCURACY: 0.7050561904907227\n",
            "[EPOCH 72] VALID ACCURACY: 0.6741573214530945\n",
            "[EPOCH 73] VALID ACCURACY: 0.7050561904907227\n",
            "[EPOCH 74] VALID ACCURACY: 0.6966292262077332\n",
            "[EPOCH 75] VALID ACCURACY: 0.6910112500190735\n",
            "[EPOCH 76] VALID ACCURACY: 0.7050561904907227\n",
            "[EPOCH 77] VALID ACCURACY: 0.6797752976417542\n",
            "[EPOCH 78] VALID ACCURACY: 0.699438214302063\n",
            "[EPOCH 79] VALID ACCURACY: 0.7078651785850525\n",
            "[EPOCH 80] VALID ACCURACY: 0.6966292262077332\n",
            "[EPOCH 81] VALID ACCURACY: 0.716292142868042\n",
            "[EPOCH 82] VALID ACCURACY: 0.6938202381134033\n",
            "[EPOCH 83] VALID ACCURACY: 0.6910112500190735\n",
            "[EPOCH 84] VALID ACCURACY: 0.6769663095474243\n",
            "[EPOCH 85] VALID ACCURACY: 0.7106741666793823\n",
            "[EPOCH 86] VALID ACCURACY: 0.682584285736084\n",
            "[EPOCH 87] VALID ACCURACY: 0.6910112500190735\n",
            "[EPOCH 88] VALID ACCURACY: 0.6882022619247437\n",
            "[EPOCH 89] VALID ACCURACY: 0.699438214302063\n",
            "[EPOCH 90] VALID ACCURACY: 0.6882022619247437\n",
            "[EPOCH 91] VALID ACCURACY: 0.6882022619247437\n",
            "[EPOCH 92] VALID ACCURACY: 0.7022472023963928\n",
            "[EPOCH 93] VALID ACCURACY: 0.6910112500190735\n",
            "[EPOCH 94] VALID ACCURACY: 0.6853932738304138\n",
            "[EPOCH 95] VALID ACCURACY: 0.7050561904907227\n",
            "[EPOCH 96] VALID ACCURACY: 0.7022472023963928\n",
            "[EPOCH 97] VALID ACCURACY: 0.699438214302063\n",
            "[EPOCH 98] VALID ACCURACY: 0.7219101190567017\n",
            "[EPOCH 98] BEST VALID ACCURACY UPDATED: 0.7219101190567017\n",
            "[EPOCH 99] VALID ACCURACY: 0.7191011309623718\n",
            "[EPOCH 100] VALID ACCURACY: 0.7022472023963928\n",
            "[EPOCH 101] VALID ACCURACY: 0.716292142868042\n",
            "[EPOCH 102] VALID ACCURACY: 0.7078651785850525\n",
            "[EPOCH 103] VALID ACCURACY: 0.7191011309623718\n",
            "[EPOCH 104] VALID ACCURACY: 0.7050561904907227\n",
            "[EPOCH 105] VALID ACCURACY: 0.6853932738304138\n",
            "[EPOCH 106] VALID ACCURACY: 0.6685393452644348\n",
            "[EPOCH 107] VALID ACCURACY: 0.6910112500190735\n",
            "[EPOCH 108] VALID ACCURACY: 0.7106741666793823\n",
            "[EPOCH 109] VALID ACCURACY: 0.7106741666793823\n",
            "[EPOCH 110] VALID ACCURACY: 0.7078651785850525\n",
            "[EPOCH 111] VALID ACCURACY: 0.716292142868042\n",
            "[EPOCH 112] VALID ACCURACY: 0.7106741666793823\n",
            "[EPOCH 113] VALID ACCURACY: 0.7219101190567017\n",
            "[EPOCH 113] BEST VALID ACCURACY UPDATED: 0.7219101190567017\n",
            "[EPOCH 114] VALID ACCURACY: 0.7050561904907227\n",
            "[EPOCH 115] VALID ACCURACY: 0.7078651785850525\n",
            "[EPOCH 116] VALID ACCURACY: 0.7134831547737122\n",
            "[EPOCH 117] VALID ACCURACY: 0.7022472023963928\n",
            "[EPOCH 118] VALID ACCURACY: 0.7078651785850525\n",
            "[EPOCH 119] VALID ACCURACY: 0.7303370833396912\n",
            "[EPOCH 119] BEST VALID ACCURACY UPDATED: 0.7303370833396912\n",
            "[EPOCH 120] VALID ACCURACY: 0.7022472023963928\n",
            "[EPOCH 121] VALID ACCURACY: 0.699438214302063\n",
            "[EPOCH 122] VALID ACCURACY: 0.7106741666793823\n",
            "[EPOCH 123] VALID ACCURACY: 0.7134831547737122\n",
            "[EPOCH 124] VALID ACCURACY: 0.7191011309623718\n",
            "[EPOCH 125] VALID ACCURACY: 0.7078651785850525\n",
            "[EPOCH 126] VALID ACCURACY: 0.7219101190567017\n",
            "[EPOCH 127] VALID ACCURACY: 0.7191011309623718\n",
            "[EPOCH 128] VALID ACCURACY: 0.699438214302063\n",
            "[EPOCH 129] VALID ACCURACY: 0.7022472023963928\n",
            "[EPOCH 130] VALID ACCURACY: 0.6882022619247437\n",
            "[EPOCH 131] VALID ACCURACY: 0.6938202381134033\n",
            "[EPOCH 132] VALID ACCURACY: 0.6910112500190735\n",
            "[EPOCH 133] VALID ACCURACY: 0.7050561904907227\n",
            "[EPOCH 134] VALID ACCURACY: 0.6966292262077332\n",
            "[EPOCH 135] VALID ACCURACY: 0.6966292262077332\n",
            "[EPOCH 136] VALID ACCURACY: 0.6910112500190735\n",
            "[EPOCH 137] VALID ACCURACY: 0.6966292262077332\n",
            "[EPOCH 138] VALID ACCURACY: 0.665730357170105\n",
            "[EPOCH 139] VALID ACCURACY: 0.6910112500190735\n",
            "[EPOCH 140] VALID ACCURACY: 0.6769663095474243\n",
            "[EPOCH 141] VALID ACCURACY: 0.6910112500190735\n",
            "[EPOCH 142] VALID ACCURACY: 0.6910112500190735\n",
            "[EPOCH 143] VALID ACCURACY: 0.6853932738304138\n",
            "[EPOCH 144] VALID ACCURACY: 0.6882022619247437\n",
            "[EPOCH 145] VALID ACCURACY: 0.6713483333587646\n",
            "[EPOCH 146] VALID ACCURACY: 0.699438214302063\n",
            "[EPOCH 147] VALID ACCURACY: 0.7022472023963928\n",
            "[EPOCH 148] VALID ACCURACY: 0.6938202381134033\n",
            "[EPOCH 149] VALID ACCURACY: 0.6938202381134033\n",
            "[EPOCH 150] VALID ACCURACY: 0.7078651785850525\n",
            "[EPOCH 151] VALID ACCURACY: 0.7106741666793823\n",
            "[EPOCH 152] VALID ACCURACY: 0.6713483333587646\n",
            "[EPOCH 153] VALID ACCURACY: 0.6797752976417542\n",
            "[EPOCH 154] VALID ACCURACY: 0.6601123809814453\n",
            "[EPOCH 155] VALID ACCURACY: 0.6910112500190735\n",
            "[EPOCH 156] VALID ACCURACY: 0.6797752976417542\n",
            "[EPOCH 157] VALID ACCURACY: 0.682584285736084\n",
            "[EPOCH 158] VALID ACCURACY: 0.699438214302063\n",
            "[EPOCH 159] VALID ACCURACY: 0.6938202381134033\n",
            "[EPOCH 160] VALID ACCURACY: 0.6713483333587646\n",
            "[EPOCH 161] VALID ACCURACY: 0.7022472023963928\n",
            "[EPOCH 162] VALID ACCURACY: 0.699438214302063\n",
            "[EPOCH 163] VALID ACCURACY: 0.7191011309623718\n",
            "[EPOCH 164] VALID ACCURACY: 0.7050561904907227\n",
            "[EPOCH 165] VALID ACCURACY: 0.6853932738304138\n",
            "[EPOCH 166] VALID ACCURACY: 0.6882022619247437\n",
            "[EPOCH 167] VALID ACCURACY: 0.7022472023963928\n",
            "[EPOCH 168] VALID ACCURACY: 0.716292142868042\n",
            "[EPOCH 169] VALID ACCURACY: 0.6910112500190735\n",
            "[EPOCH 170] VALID ACCURACY: 0.7050561904907227\n",
            "[EPOCH 171] VALID ACCURACY: 0.7191011309623718\n",
            "[EPOCH 172] VALID ACCURACY: 0.7022472023963928\n",
            "[EPOCH 173] VALID ACCURACY: 0.7022472023963928\n",
            "[EPOCH 174] VALID ACCURACY: 0.716292142868042\n",
            "[EPOCH 175] VALID ACCURACY: 0.7106741666793823\n",
            "[EPOCH 176] VALID ACCURACY: 0.7078651785850525\n",
            "[EPOCH 177] VALID ACCURACY: 0.7134831547737122\n",
            "[EPOCH 178] VALID ACCURACY: 0.6853932738304138\n",
            "[EPOCH 179] VALID ACCURACY: 0.699438214302063\n",
            "[EPOCH 180] VALID ACCURACY: 0.7022472023963928\n",
            "[EPOCH 181] VALID ACCURACY: 0.7106741666793823\n",
            "[EPOCH 182] VALID ACCURACY: 0.7191011309623718\n",
            "[EPOCH 183] VALID ACCURACY: 0.7191011309623718\n",
            "[EPOCH 184] VALID ACCURACY: 0.7191011309623718\n",
            "[EPOCH 185] VALID ACCURACY: 0.7303370833396912\n",
            "[EPOCH 185] BEST VALID ACCURACY UPDATED: 0.7303370833396912\n",
            "[EPOCH 186] VALID ACCURACY: 0.7134831547737122\n",
            "[EPOCH 187] VALID ACCURACY: 0.7219101190567017\n",
            "[EPOCH 188] VALID ACCURACY: 0.733146071434021\n",
            "[EPOCH 188] BEST VALID ACCURACY UPDATED: 0.733146071434021\n",
            "[EPOCH 189] VALID ACCURACY: 0.7134831547737122\n",
            "[EPOCH 190] VALID ACCURACY: 0.7050561904907227\n",
            "[EPOCH 191] VALID ACCURACY: 0.7134831547737122\n",
            "[EPOCH 192] VALID ACCURACY: 0.7275280952453613\n",
            "[EPOCH 193] VALID ACCURACY: 0.7078651785850525\n",
            "[EPOCH 194] VALID ACCURACY: 0.6853932738304138\n",
            "[EPOCH 195] VALID ACCURACY: 0.6882022619247437\n",
            "[EPOCH 196] VALID ACCURACY: 0.6797752976417542\n",
            "[EPOCH 197] VALID ACCURACY: 0.7078651785850525\n",
            "[EPOCH 198] VALID ACCURACY: 0.7106741666793823\n",
            "[EPOCH 199] VALID ACCURACY: 0.6966292262077332\n",
            "[EPOCH 200] VALID ACCURACY: 0.7303370833396912\n",
            "[EPOCH 201] VALID ACCURACY: 0.7247191071510315\n",
            "[EPOCH 202] VALID ACCURACY: 0.7275280952453613\n",
            "[EPOCH 203] VALID ACCURACY: 0.7275280952453613\n",
            "[EPOCH 204] VALID ACCURACY: 0.7359550595283508\n",
            "[EPOCH 204] BEST VALID ACCURACY UPDATED: 0.7359550595283508\n",
            "[EPOCH 205] VALID ACCURACY: 0.7191011309623718\n",
            "[EPOCH 206] VALID ACCURACY: 0.7191011309623718\n",
            "[EPOCH 207] VALID ACCURACY: 0.7106741666793823\n",
            "[EPOCH 208] VALID ACCURACY: 0.716292142868042\n",
            "[EPOCH 209] VALID ACCURACY: 0.7219101190567017\n",
            "[EPOCH 210] VALID ACCURACY: 0.7134831547737122\n",
            "[EPOCH 211] VALID ACCURACY: 0.6938202381134033\n",
            "[EPOCH 212] VALID ACCURACY: 0.7219101190567017\n",
            "[EPOCH 213] VALID ACCURACY: 0.699438214302063\n",
            "[EPOCH 214] VALID ACCURACY: 0.7219101190567017\n",
            "[EPOCH 215] VALID ACCURACY: 0.7134831547737122\n",
            "[EPOCH 216] VALID ACCURACY: 0.7050561904907227\n",
            "[EPOCH 217] VALID ACCURACY: 0.716292142868042\n",
            "[EPOCH 218] VALID ACCURACY: 0.7443820238113403\n",
            "[EPOCH 218] BEST VALID ACCURACY UPDATED: 0.7443820238113403\n",
            "[EPOCH 219] VALID ACCURACY: 0.7275280952453613\n",
            "[EPOCH 220] VALID ACCURACY: 0.7219101190567017\n",
            "[EPOCH 221] VALID ACCURACY: 0.7247191071510315\n",
            "[EPOCH 222] VALID ACCURACY: 0.7387640476226807\n",
            "[EPOCH 223] VALID ACCURACY: 0.7050561904907227\n",
            "[EPOCH 224] VALID ACCURACY: 0.7387640476226807\n",
            "[EPOCH 225] VALID ACCURACY: 0.7387640476226807\n",
            "[EPOCH 226] VALID ACCURACY: 0.7387640476226807\n",
            "[EPOCH 227] VALID ACCURACY: 0.7303370833396912\n",
            "[EPOCH 228] VALID ACCURACY: 0.7471910119056702\n",
            "[EPOCH 228] BEST VALID ACCURACY UPDATED: 0.7471910119056702\n",
            "[EPOCH 229] VALID ACCURACY: 0.733146071434021\n",
            "[EPOCH 230] VALID ACCURACY: 0.7191011309623718\n",
            "[EPOCH 231] VALID ACCURACY: 0.7247191071510315\n",
            "[EPOCH 232] VALID ACCURACY: 0.7303370833396912\n",
            "[EPOCH 233] VALID ACCURACY: 0.7303370833396912\n",
            "[EPOCH 234] VALID ACCURACY: 0.7415730357170105\n",
            "[EPOCH 235] VALID ACCURACY: 0.7443820238113403\n",
            "[EPOCH 236] VALID ACCURACY: 0.7415730357170105\n",
            "[EPOCH 237] VALID ACCURACY: 0.7359550595283508\n",
            "[EPOCH 238] VALID ACCURACY: 0.7275280952453613\n",
            "[EPOCH 239] VALID ACCURACY: 0.7359550595283508\n",
            "[EPOCH 240] VALID ACCURACY: 0.7247191071510315\n",
            "[EPOCH 241] VALID ACCURACY: 0.7247191071510315\n",
            "[EPOCH 242] VALID ACCURACY: 0.7247191071510315\n",
            "[EPOCH 243] VALID ACCURACY: 0.7191011309623718\n",
            "[EPOCH 244] VALID ACCURACY: 0.7022472023963928\n",
            "[EPOCH 245] VALID ACCURACY: 0.7247191071510315\n",
            "[EPOCH 246] VALID ACCURACY: 0.7303370833396912\n",
            "[EPOCH 247] VALID ACCURACY: 0.7106741666793823\n",
            "[EPOCH 248] VALID ACCURACY: 0.7303370833396912\n",
            "[EPOCH 249] VALID ACCURACY: 0.7191011309623718\n",
            "[EPOCH 250] VALID ACCURACY: 0.7415730357170105\n",
            "[EPOCH 251] VALID ACCURACY: 0.7106741666793823\n",
            "[EPOCH 252] VALID ACCURACY: 0.7275280952453613\n",
            "[EPOCH 253] VALID ACCURACY: 0.7359550595283508\n",
            "[EPOCH 254] VALID ACCURACY: 0.7303370833396912\n",
            "[EPOCH 255] VALID ACCURACY: 0.7219101190567017\n",
            "[EPOCH 256] VALID ACCURACY: 0.7134831547737122\n",
            "[EPOCH 257] VALID ACCURACY: 0.7275280952453613\n",
            "[EPOCH 258] VALID ACCURACY: 0.7191011309623718\n",
            "[EPOCH 259] VALID ACCURACY: 0.7191011309623718\n",
            "[EPOCH 260] VALID ACCURACY: 0.7247191071510315\n",
            "[EPOCH 261] VALID ACCURACY: 0.7303370833396912\n",
            "[EPOCH 262] VALID ACCURACY: 0.7078651785850525\n",
            "[EPOCH 263] VALID ACCURACY: 0.7275280952453613\n",
            "[EPOCH 264] VALID ACCURACY: 0.733146071434021\n",
            "[EPOCH 265] VALID ACCURACY: 0.7359550595283508\n",
            "[EPOCH 266] VALID ACCURACY: 0.7275280952453613\n",
            "[EPOCH 267] VALID ACCURACY: 0.7022472023963928\n",
            "[EPOCH 268] VALID ACCURACY: 0.7471910119056702\n",
            "[EPOCH 268] BEST VALID ACCURACY UPDATED: 0.7471910119056702\n",
            "[EPOCH 269] VALID ACCURACY: 0.7303370833396912\n",
            "[EPOCH 270] VALID ACCURACY: 0.7303370833396912\n",
            "[EPOCH 271] VALID ACCURACY: 0.733146071434021\n",
            "[EPOCH 272] VALID ACCURACY: 0.7247191071510315\n",
            "[EPOCH 273] VALID ACCURACY: 0.7050561904907227\n",
            "[EPOCH 274] VALID ACCURACY: 0.7050561904907227\n",
            "[EPOCH 275] VALID ACCURACY: 0.6966292262077332\n",
            "[EPOCH 276] VALID ACCURACY: 0.6966292262077332\n",
            "[EPOCH 277] VALID ACCURACY: 0.7219101190567017\n",
            "[EPOCH 278] VALID ACCURACY: 0.7078651785850525\n",
            "[EPOCH 279] VALID ACCURACY: 0.7219101190567017\n",
            "[EPOCH 280] VALID ACCURACY: 0.716292142868042\n",
            "[EPOCH 281] VALID ACCURACY: 0.7303370833396912\n",
            "[EPOCH 282] VALID ACCURACY: 0.7106741666793823\n",
            "[EPOCH 283] VALID ACCURACY: 0.7106741666793823\n",
            "[EPOCH 284] VALID ACCURACY: 0.7022472023963928\n",
            "[EPOCH 285] VALID ACCURACY: 0.7022472023963928\n",
            "[EPOCH 286] VALID ACCURACY: 0.7134831547737122\n",
            "[EPOCH 287] VALID ACCURACY: 0.7219101190567017\n",
            "[EPOCH 288] VALID ACCURACY: 0.7050561904907227\n",
            "[EPOCH 289] VALID ACCURACY: 0.7191011309623718\n",
            "[EPOCH 290] VALID ACCURACY: 0.7247191071510315\n",
            "[EPOCH 291] VALID ACCURACY: 0.699438214302063\n",
            "[EPOCH 292] VALID ACCURACY: 0.733146071434021\n",
            "[EPOCH 293] VALID ACCURACY: 0.7247191071510315\n",
            "[EPOCH 294] VALID ACCURACY: 0.7219101190567017\n",
            "[EPOCH 295] VALID ACCURACY: 0.7303370833396912\n",
            "[EPOCH 296] VALID ACCURACY: 0.7191011309623718\n",
            "[EPOCH 297] VALID ACCURACY: 0.7191011309623718\n",
            "[EPOCH 298] VALID ACCURACY: 0.7078651785850525\n",
            "[EPOCH 299] VALID ACCURACY: 0.7247191071510315\n",
            "FINISHED TRAINING : BEST MODEL AT EPOCH 268 WITH ACCURACY 0.7471910119056702\n"
          ]
        }
      ],
      "source": [
        "criteria = nn.CrossEntropyLoss()\n",
        "avg_loss = 0.0\n",
        "best_valid_accu = 0.0\n",
        "best_epoch = -1\n",
        "best_model = None\n",
        "num_epoch = 300\n",
        "x,y = [],[]\n",
        "for epoch in tqdm(range(num_epoch)):\n",
        "    # start training\n",
        "    for sample in train_dataloader:\n",
        "        model.train()\n",
        "        optimizer.zero_grad()\n",
        "\n",
        "        pred = model(sample['token_id'].long().to(device))\n",
        "\n",
        "        loss = criteria(pred, sample['user_id'].long().to(device))\n",
        "\n",
        "        loss.backward()\n",
        "        optimizer.step()\n",
        "\n",
        "        avg_loss += loss.item() / len(train_dataloader)\n",
        "\n",
        "    # start validation\n",
        "    correct_cnt = 0.0\n",
        "    data_cnt = 0.0\n",
        "    for sample in valid_dataloader:\n",
        "        model.eval()\n",
        "\n",
        "        with torch.no_grad():\n",
        "            pred = model(sample['token_id'].long().to(device))\n",
        "\n",
        "        pred_user_id = torch.argmax(pred, dim=-1)\n",
        "\n",
        "        accu = pred_user_id.detach().cpu() == sample['user_id']\n",
        "\n",
        "        correct_cnt += torch.sum(accu)\n",
        "        data_cnt += sample['token_id'].shape[0]\n",
        "\n",
        "    # calculate best valid accuracy, and save the best model. \n",
        "    curr_valid_accu = (correct_cnt / data_cnt).item()\n",
        "    print('[EPOCH {}] VALID ACCURACY: {}'.format(epoch, curr_valid_accu))\n",
        "    x.append(epoch)\n",
        "    y.append(curr_valid_accu)\n",
        "    \n",
        "    best_valid_accu = max(best_valid_accu, curr_valid_accu)\n",
        "    if best_valid_accu == curr_valid_accu:\n",
        "        best_epoch = epoch\n",
        "        best_model = copy.deepcopy(model)\n",
        "        torch.save(best_model.state_dict(), 'LSTM_best_baseline.pth')\n",
        "        print('[EPOCH {}] BEST VALID ACCURACY UPDATED: {}'.format(epoch, best_valid_accu))\n",
        "\n",
        "print('FINISHED TRAINING : BEST MODEL AT EPOCH {} WITH ACCURACY {}'.format(best_epoch, best_valid_accu))"
      ]
    },
    {
      "cell_type": "code",
      "execution_count": 112,
      "metadata": {
        "colab": {
          "base_uri": "https://localhost:8080/",
          "height": 350
        },
        "id": "mN6x9j3vEuUs",
        "outputId": "54561c46-9b06-4dd5-c819-674b56c218c5"
      },
      "outputs": [
        {
          "name": "stdout",
          "output_type": "stream",
          "text": [
            "[0, 1, 2, 3, 4, 5, 6, 7, 8, 9, 10, 11, 12, 13, 14, 15, 16, 17, 18, 19, 20, 21, 22, 23, 24, 25, 26, 27, 28, 29, 30, 31, 32, 33, 34, 35, 36, 37, 38, 39, 40, 41, 42, 43, 44, 45, 46, 47, 48, 49, 50, 51, 52, 53, 54, 55, 56, 57, 58, 59, 60, 61, 62, 63, 64, 65, 66, 67, 68, 69, 70, 71, 72, 73, 74, 75, 76, 77, 78, 79, 80, 81, 82, 83, 84, 85, 86, 87, 88, 89, 90, 91, 92, 93, 94, 95, 96, 97, 98, 99, 100, 101, 102, 103, 104, 105, 106, 107, 108, 109, 110, 111, 112, 113, 114, 115, 116, 117, 118, 119, 120, 121, 122, 123, 124, 125, 126, 127, 128, 129, 130, 131, 132, 133, 134, 135, 136, 137, 138, 139, 140, 141, 142, 143, 144, 145, 146, 147, 148, 149, 150, 151, 152, 153, 154, 155, 156, 157, 158, 159, 160, 161, 162, 163, 164, 165, 166, 167, 168, 169, 170, 171, 172, 173, 174, 175, 176, 177, 178, 179, 180, 181, 182, 183, 184, 185, 186, 187, 188, 189, 190, 191, 192, 193, 194, 195, 196, 197, 198, 199, 200, 201, 202, 203, 204, 205, 206, 207, 208, 209, 210, 211, 212, 213, 214, 215, 216, 217, 218, 219, 220, 221, 222, 223, 224, 225, 226, 227, 228, 229, 230, 231, 232, 233, 234, 235, 236, 237, 238, 239, 240, 241, 242, 243, 244, 245, 246, 247, 248, 249, 250, 251, 252, 253, 254, 255, 256, 257, 258, 259, 260, 261, 262, 263, 264, 265, 266, 267, 268, 269, 270, 271, 272, 273, 274, 275, 276, 277, 278, 279, 280, 281, 282, 283, 284, 285, 286, 287, 288, 289, 290, 291, 292, 293, 294, 295, 296, 297, 298, 299]\n",
            "[0.34550562500953674, 0.4241572916507721, 0.47752809524536133, 0.5449438095092773, 0.5224719047546387, 0.5617977380752563, 0.5561797618865967, 0.584269642829895, 0.6151685118675232, 0.6067415475845337, 0.617977499961853, 0.6460674405097961, 0.632022500038147, 0.6432584524154663, 0.6544944047927856, 0.6516854166984558, 0.6797752976417542, 0.632022500038147, 0.6573033928871155, 0.6404494643211365, 0.6601123809814453, 0.6797752976417542, 0.6601123809814453, 0.6853932738304138, 0.6629213690757751, 0.665730357170105, 0.665730357170105, 0.6797752976417542, 0.6601123809814453, 0.6741573214530945, 0.6769663095474243, 0.6966292262077332, 0.6853932738304138, 0.6769663095474243, 0.6882022619247437, 0.682584285736084, 0.682584285736084, 0.6797752976417542, 0.6797752976417542, 0.7022472023963928, 0.6853932738304138, 0.699438214302063, 0.6797752976417542, 0.6938202381134033, 0.6938202381134033, 0.6966292262077332, 0.6966292262077332, 0.6882022619247437, 0.6797752976417542, 0.6938202381134033, 0.682584285736084, 0.6797752976417542, 0.6910112500190735, 0.6938202381134033, 0.6685393452644348, 0.6938202381134033, 0.7022472023963928, 0.699438214302063, 0.7050561904907227, 0.6882022619247437, 0.7191011309623718, 0.6797752976417542, 0.699438214302063, 0.716292142868042, 0.682584285736084, 0.7022472023963928, 0.6938202381134033, 0.6938202381134033, 0.7078651785850525, 0.6853932738304138, 0.6966292262077332, 0.7050561904907227, 0.6741573214530945, 0.7050561904907227, 0.6966292262077332, 0.6910112500190735, 0.7050561904907227, 0.6797752976417542, 0.699438214302063, 0.7078651785850525, 0.6966292262077332, 0.716292142868042, 0.6938202381134033, 0.6910112500190735, 0.6769663095474243, 0.7106741666793823, 0.682584285736084, 0.6910112500190735, 0.6882022619247437, 0.699438214302063, 0.6882022619247437, 0.6882022619247437, 0.7022472023963928, 0.6910112500190735, 0.6853932738304138, 0.7050561904907227, 0.7022472023963928, 0.699438214302063, 0.7219101190567017, 0.7191011309623718, 0.7022472023963928, 0.716292142868042, 0.7078651785850525, 0.7191011309623718, 0.7050561904907227, 0.6853932738304138, 0.6685393452644348, 0.6910112500190735, 0.7106741666793823, 0.7106741666793823, 0.7078651785850525, 0.716292142868042, 0.7106741666793823, 0.7219101190567017, 0.7050561904907227, 0.7078651785850525, 0.7134831547737122, 0.7022472023963928, 0.7078651785850525, 0.7303370833396912, 0.7022472023963928, 0.699438214302063, 0.7106741666793823, 0.7134831547737122, 0.7191011309623718, 0.7078651785850525, 0.7219101190567017, 0.7191011309623718, 0.699438214302063, 0.7022472023963928, 0.6882022619247437, 0.6938202381134033, 0.6910112500190735, 0.7050561904907227, 0.6966292262077332, 0.6966292262077332, 0.6910112500190735, 0.6966292262077332, 0.665730357170105, 0.6910112500190735, 0.6769663095474243, 0.6910112500190735, 0.6910112500190735, 0.6853932738304138, 0.6882022619247437, 0.6713483333587646, 0.699438214302063, 0.7022472023963928, 0.6938202381134033, 0.6938202381134033, 0.7078651785850525, 0.7106741666793823, 0.6713483333587646, 0.6797752976417542, 0.6601123809814453, 0.6910112500190735, 0.6797752976417542, 0.682584285736084, 0.699438214302063, 0.6938202381134033, 0.6713483333587646, 0.7022472023963928, 0.699438214302063, 0.7191011309623718, 0.7050561904907227, 0.6853932738304138, 0.6882022619247437, 0.7022472023963928, 0.716292142868042, 0.6910112500190735, 0.7050561904907227, 0.7191011309623718, 0.7022472023963928, 0.7022472023963928, 0.716292142868042, 0.7106741666793823, 0.7078651785850525, 0.7134831547737122, 0.6853932738304138, 0.699438214302063, 0.7022472023963928, 0.7106741666793823, 0.7191011309623718, 0.7191011309623718, 0.7191011309623718, 0.7303370833396912, 0.7134831547737122, 0.7219101190567017, 0.733146071434021, 0.7134831547737122, 0.7050561904907227, 0.7134831547737122, 0.7275280952453613, 0.7078651785850525, 0.6853932738304138, 0.6882022619247437, 0.6797752976417542, 0.7078651785850525, 0.7106741666793823, 0.6966292262077332, 0.7303370833396912, 0.7247191071510315, 0.7275280952453613, 0.7275280952453613, 0.7359550595283508, 0.7191011309623718, 0.7191011309623718, 0.7106741666793823, 0.716292142868042, 0.7219101190567017, 0.7134831547737122, 0.6938202381134033, 0.7219101190567017, 0.699438214302063, 0.7219101190567017, 0.7134831547737122, 0.7050561904907227, 0.716292142868042, 0.7443820238113403, 0.7275280952453613, 0.7219101190567017, 0.7247191071510315, 0.7387640476226807, 0.7050561904907227, 0.7387640476226807, 0.7387640476226807, 0.7387640476226807, 0.7303370833396912, 0.7471910119056702, 0.733146071434021, 0.7191011309623718, 0.7247191071510315, 0.7303370833396912, 0.7303370833396912, 0.7415730357170105, 0.7443820238113403, 0.7415730357170105, 0.7359550595283508, 0.7275280952453613, 0.7359550595283508, 0.7247191071510315, 0.7247191071510315, 0.7247191071510315, 0.7191011309623718, 0.7022472023963928, 0.7247191071510315, 0.7303370833396912, 0.7106741666793823, 0.7303370833396912, 0.7191011309623718, 0.7415730357170105, 0.7106741666793823, 0.7275280952453613, 0.7359550595283508, 0.7303370833396912, 0.7219101190567017, 0.7134831547737122, 0.7275280952453613, 0.7191011309623718, 0.7191011309623718, 0.7247191071510315, 0.7303370833396912, 0.7078651785850525, 0.7275280952453613, 0.733146071434021, 0.7359550595283508, 0.7275280952453613, 0.7022472023963928, 0.7471910119056702, 0.7303370833396912, 0.7303370833396912, 0.733146071434021, 0.7247191071510315, 0.7050561904907227, 0.7050561904907227, 0.6966292262077332, 0.6966292262077332, 0.7219101190567017, 0.7078651785850525, 0.7219101190567017, 0.716292142868042, 0.7303370833396912, 0.7106741666793823, 0.7106741666793823, 0.7022472023963928, 0.7022472023963928, 0.7134831547737122, 0.7219101190567017, 0.7050561904907227, 0.7191011309623718, 0.7247191071510315, 0.699438214302063, 0.733146071434021, 0.7247191071510315, 0.7219101190567017, 0.7303370833396912, 0.7191011309623718, 0.7191011309623718, 0.7078651785850525, 0.7247191071510315]\n"
          ]
        },
        {
          "data": {
            "image/png": "[encoded data removed]",
            "text/plain": [
              "<Figure size 432x288 with 1 Axes>"
            ]
          },
          "metadata": {
            "needs_background": "light"
          },
          "output_type": "display_data"
        }
      ],
      "source": [
        "print(x)\n",
        "print(y)\n",
        "\n",
        "import matplotlib.pyplot as plt\n",
        "plt.plot(x, y)\n",
        " \n",
        "# naming the x axis\n",
        "plt.xlabel('epoch')\n",
        "# naming the y axis\n",
        "plt.ylabel('validation accuracy')\n",
        " \n",
        "# giving a title to my graph\n",
        "plt.title('LSTM')\n",
        " \n",
        "# function to show the plot\n",
        "plt.show()"
      ]
    }
  ],
  "metadata": {
    "accelerator": "GPU",
    "colab": {
      "collapsed_sections": [],
      "name": "GRU_bidi_attention.ipynb",
      "provenance": []
    },
    "kernelspec": {
      "display_name": "py37",
      "language": "python",
      "name": "py37"
    },
    "language_info": {
      "codemirror_mode": {
        "name": "ipython",
        "version": 3
      },
      "file_extension": ".py",
      "mimetype": "text/x-python",
      "name": "python",
      "nbconvert_exporter": "python",
      "pygments_lexer": "ipython3",
      "version": "3.7.10"
    },
    "widgets": {
      "application/vnd.jupyter.widget-state+json": {
        "0949dfc21def44e4a6ba6f3c9b22bf80": {
          "model_module": "@jupyter-widgets/controls",
          "model_module_version": "1.5.0",
          "model_name": "HTMLModel",
          "state": {
            "_dom_classes": [],
            "_model_module": "@jupyter-widgets/controls",
            "_model_module_version": "1.5.0",
            "_model_name": "HTMLModel",
            "_view_count": null,
            "_view_module": "@jupyter-widgets/controls",
            "_view_module_version": "1.5.0",
            "_view_name": "HTMLView",
            "description": "",
            "description_tooltip": null,
            "layout": "IPY_MODEL_546da18e4b1045edb2cefc2135c0a3cf",
            "placeholder": "​",
            "style": "IPY_MODEL_97ea950ad1e44f0b8cac9143ee718389",
            "value": "100%"
          }
        },
        "0cc880f8a49e4f688dfd6417688d1d8a": {
          "model_module": "@jupyter-widgets/controls",
          "model_module_version": "1.5.0",
          "model_name": "HBoxModel",
          "state": {
            "_dom_classes": [],
            "_model_module": "@jupyter-widgets/controls",
            "_model_module_version": "1.5.0",
            "_model_name": "HBoxModel",
            "_view_count": null,
            "_view_module": "@jupyter-widgets/controls",
            "_view_module_version": "1.5.0",
            "_view_name": "HBoxView",
            "box_style": "",
            "children": [
              "IPY_MODEL_0949dfc21def44e4a6ba6f3c9b22bf80",
              "IPY_MODEL_3880aac1c509458fb6deaca98162a577",
              "IPY_MODEL_6a33d6c9dc2a493fb113ea1f6a9db064"
            ],
            "layout": "IPY_MODEL_6bab9496c8794cdab3c8373a8c87535c"
          }
        },
        "3880aac1c509458fb6deaca98162a577": {
          "model_module": "@jupyter-widgets/controls",
          "model_module_version": "1.5.0",
          "model_name": "FloatProgressModel",
          "state": {
            "_dom_classes": [],
            "_model_module": "@jupyter-widgets/controls",
            "_model_module_version": "1.5.0",
            "_model_name": "FloatProgressModel",
            "_view_count": null,
            "_view_module": "@jupyter-widgets/controls",
            "_view_module_version": "1.5.0",
            "_view_name": "ProgressView",
            "bar_style": "success",
            "description": "",
            "description_tooltip": null,
            "layout": "IPY_MODEL_b177076d697e412e8dd3bfe6a3a0bcba",
            "max": 300,
            "min": 0,
            "orientation": "horizontal",
            "style": "IPY_MODEL_b5abc67acac94208a0339220b91e00c1",
            "value": 300
          }
        },
        "520be6c06b854882973f174dba3c697e": {
          "model_module": "@jupyter-widgets/base",
          "model_module_version": "1.2.0",
          "model_name": "LayoutModel",
          "state": {
            "_model_module": "@jupyter-widgets/base",
            "_model_module_version": "1.2.0",
            "_model_name": "LayoutModel",
            "_view_count": null,
            "_view_module": "@jupyter-widgets/base",
            "_view_module_version": "1.2.0",
            "_view_name": "LayoutView",
            "align_content": null,
            "align_items": null,
            "align_self": null,
            "border": null,
            "bottom": null,
            "display": null,
            "flex": null,
            "flex_flow": null,
            "grid_area": null,
            "grid_auto_columns": null,
            "grid_auto_flow": null,
            "grid_auto_rows": null,
            "grid_column": null,
            "grid_gap": null,
            "grid_row": null,
            "grid_template_areas": null,
            "grid_template_columns": null,
            "grid_template_rows": null,
            "height": null,
            "justify_content": null,
            "justify_items": null,
            "left": null,
            "margin": null,
            "max_height": null,
            "max_width": null,
            "min_height": null,
            "min_width": null,
            "object_fit": null,
            "object_position": null,
            "order": null,
            "overflow": null,
            "overflow_x": null,
            "overflow_y": null,
            "padding": null,
            "right": null,
            "top": null,
            "visibility": null,
            "width": null
          }
        },
        "546da18e4b1045edb2cefc2135c0a3cf": {
          "model_module": "@jupyter-widgets/base",
          "model_module_version": "1.2.0",
          "model_name": "LayoutModel",
          "state": {
            "_model_module": "@jupyter-widgets/base",
            "_model_module_version": "1.2.0",
            "_model_name": "LayoutModel",
            "_view_count": null,
            "_view_module": "@jupyter-widgets/base",
            "_view_module_version": "1.2.0",
            "_view_name": "LayoutView",
            "align_content": null,
            "align_items": null,
            "align_self": null,
            "border": null,
            "bottom": null,
            "display": null,
            "flex": null,
            "flex_flow": null,
            "grid_area": null,
            "grid_auto_columns": null,
            "grid_auto_flow": null,
            "grid_auto_rows": null,
            "grid_column": null,
            "grid_gap": null,
            "grid_row": null,
            "grid_template_areas": null,
            "grid_template_columns": null,
            "grid_template_rows": null,
            "height": null,
            "justify_content": null,
            "justify_items": null,
            "left": null,
            "margin": null,
            "max_height": null,
            "max_width": null,
            "min_height": null,
            "min_width": null,
            "object_fit": null,
            "object_position": null,
            "order": null,
            "overflow": null,
            "overflow_x": null,
            "overflow_y": null,
            "padding": null,
            "right": null,
            "top": null,
            "visibility": null,
            "width": null
          }
        },
        "6a33d6c9dc2a493fb113ea1f6a9db064": {
          "model_module": "@jupyter-widgets/controls",
          "model_module_version": "1.5.0",
          "model_name": "HTMLModel",
          "state": {
            "_dom_classes": [],
            "_model_module": "@jupyter-widgets/controls",
            "_model_module_version": "1.5.0",
            "_model_name": "HTMLModel",
            "_view_count": null,
            "_view_module": "@jupyter-widgets/controls",
            "_view_module_version": "1.5.0",
            "_view_name": "HTMLView",
            "description": "",
            "description_tooltip": null,
            "layout": "IPY_MODEL_520be6c06b854882973f174dba3c697e",
            "placeholder": "​",
            "style": "IPY_MODEL_ae6505c4eb264b9380b1f6427d9372d3",
            "value": " 300/300 [7:48:08&lt;00:00, 93.49s/it]"
          }
        },
        "6bab9496c8794cdab3c8373a8c87535c": {
          "model_module": "@jupyter-widgets/base",
          "model_module_version": "1.2.0",
          "model_name": "LayoutModel",
          "state": {
            "_model_module": "@jupyter-widgets/base",
            "_model_module_version": "1.2.0",
            "_model_name": "LayoutModel",
            "_view_count": null,
            "_view_module": "@jupyter-widgets/base",
            "_view_module_version": "1.2.0",
            "_view_name": "LayoutView",
            "align_content": null,
            "align_items": null,
            "align_self": null,
            "border": null,
            "bottom": null,
            "display": null,
            "flex": null,
            "flex_flow": null,
            "grid_area": null,
            "grid_auto_columns": null,
            "grid_auto_flow": null,
            "grid_auto_rows": null,
            "grid_column": null,
            "grid_gap": null,
            "grid_row": null,
            "grid_template_areas": null,
            "grid_template_columns": null,
            "grid_template_rows": null,
            "height": null,
            "justify_content": null,
            "justify_items": null,
            "left": null,
            "margin": null,
            "max_height": null,
            "max_width": null,
            "min_height": null,
            "min_width": null,
            "object_fit": null,
            "object_position": null,
            "order": null,
            "overflow": null,
            "overflow_x": null,
            "overflow_y": null,
            "padding": null,
            "right": null,
            "top": null,
            "visibility": null,
            "width": null
          }
        },
        "97ea950ad1e44f0b8cac9143ee718389": {
          "model_module": "@jupyter-widgets/controls",
          "model_module_version": "1.5.0",
          "model_name": "DescriptionStyleModel",
          "state": {
            "_model_module": "@jupyter-widgets/controls",
            "_model_module_version": "1.5.0",
            "_model_name": "DescriptionStyleModel",
            "_view_count": null,
            "_view_module": "@jupyter-widgets/base",
            "_view_module_version": "1.2.0",
            "_view_name": "StyleView",
            "description_width": ""
          }
        },
        "ae6505c4eb264b9380b1f6427d9372d3": {
          "model_module": "@jupyter-widgets/controls",
          "model_module_version": "1.5.0",
          "model_name": "DescriptionStyleModel",
          "state": {
            "_model_module": "@jupyter-widgets/controls",
            "_model_module_version": "1.5.0",
            "_model_name": "DescriptionStyleModel",
            "_view_count": null,
            "_view_module": "@jupyter-widgets/base",
            "_view_module_version": "1.2.0",
            "_view_name": "StyleView",
            "description_width": ""
          }
        },
        "b177076d697e412e8dd3bfe6a3a0bcba": {
          "model_module": "@jupyter-widgets/base",
          "model_module_version": "1.2.0",
          "model_name": "LayoutModel",
          "state": {
            "_model_module": "@jupyter-widgets/base",
            "_model_module_version": "1.2.0",
            "_model_name": "LayoutModel",
            "_view_count": null,
            "_view_module": "@jupyter-widgets/base",
            "_view_module_version": "1.2.0",
            "_view_name": "LayoutView",
            "align_content": null,
            "align_items": null,
            "align_self": null,
            "border": null,
            "bottom": null,
            "display": null,
            "flex": null,
            "flex_flow": null,
            "grid_area": null,
            "grid_auto_columns": null,
            "grid_auto_flow": null,
            "grid_auto_rows": null,
            "grid_column": null,
            "grid_gap": null,
            "grid_row": null,
            "grid_template_areas": null,
            "grid_template_columns": null,
            "grid_template_rows": null,
            "height": null,
            "justify_content": null,
            "justify_items": null,
            "left": null,
            "margin": null,
            "max_height": null,
            "max_width": null,
            "min_height": null,
            "min_width": null,
            "object_fit": null,
            "object_position": null,
            "order": null,
            "overflow": null,
            "overflow_x": null,
            "overflow_y": null,
            "padding": null,
            "right": null,
            "top": null,
            "visibility": null,
            "width": null
          }
        },
        "b5abc67acac94208a0339220b91e00c1": {
          "model_module": "@jupyter-widgets/controls",
          "model_module_version": "1.5.0",
          "model_name": "ProgressStyleModel",
          "state": {
            "_model_module": "@jupyter-widgets/controls",
            "_model_module_version": "1.5.0",
            "_model_name": "ProgressStyleModel",
            "_view_count": null,
            "_view_module": "@jupyter-widgets/base",
            "_view_module_version": "1.2.0",
            "_view_name": "StyleView",
            "bar_color": null,
            "description_width": ""
          }
        }
      }
    }
  },
  "nbformat": 4,
  "nbformat_minor": 0
}