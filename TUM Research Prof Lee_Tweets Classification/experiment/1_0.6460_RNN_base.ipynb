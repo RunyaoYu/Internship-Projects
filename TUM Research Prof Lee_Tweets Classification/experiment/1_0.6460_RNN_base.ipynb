{
  "cells": [
    {
      "cell_type": "code",
      "execution_count": 1,
      "metadata": {
        "id": "dbtRKfVfCE3Y",
        "colab": {
          "base_uri": "https://localhost:8080/"
        },
        "outputId": "120c0198-9fa4-40a8-be23-86a0e2cba94a"
      },
      "outputs": [
        {
          "output_type": "stream",
          "name": "stdout",
          "text": [
            "Mounted at /content/drive\n"
          ]
        }
      ],
      "source": [
        "import numpy as np\n",
        "import random\n",
        "import json\n",
        "import copy\n",
        "\n",
        "import torch\n",
        "import torch.nn as nn\n",
        "import torch.optim as optim\n",
        "from torch.utils.data import DataLoader, Dataset\n",
        "\n",
        "import glob\n",
        "\n",
        "from tqdm.notebook import tqdm\n",
        "\n",
        "from google.colab import drive\n",
        "drive.mount('/content/drive')"
      ]
    },
    {
      "cell_type": "code",
      "execution_count": 2,
      "metadata": {
        "id": "u6TzN9oqCE3b"
      },
      "outputs": [],
      "source": [
        "random.seed(0)\n",
        "np.random.seed(0)\n",
        "torch.manual_seed(0)\n",
        "torch.cuda.manual_seed_all(0)\n",
        "torch.backends.cudnn.deterministic=True "
      ]
    },
    {
      "cell_type": "code",
      "execution_count": 3,
      "metadata": {
        "id": "Y-BtvSPNCE3b",
        "colab": {
          "base_uri": "https://localhost:8080/"
        },
        "outputId": "b73c4dbd-7332-4d5c-ec38-c64ba56c025d"
      },
      "outputs": [
        {
          "output_type": "stream",
          "name": "stdout",
          "text": [
            "In dataset, there are 13369 number of tokens (words) and these tweets are from 8 users\n"
          ]
        }
      ],
      "source": [
        "meta = json.load(open('/content/drive/MyDrive/TUM/assignments i2dl/assignment2/meta.json', 'r'))\n",
        "tokens = meta['tokens']\n",
        "num_token = len(tokens)\n",
        "num_user = meta['num_user']\n",
        "print('In dataset, there are {} number of tokens (words) and these tweets are from {} users'.format(num_token, num_user))"
      ]
    },
    {
      "cell_type": "code",
      "execution_count": 4,
      "metadata": {
        "id": "sy8ljndACE3f",
        "colab": {
          "base_uri": "https://localhost:8080/"
        },
        "outputId": "53469062-5c90-4f68-fa82-4e3257fd2225"
      },
      "outputs": [
        {
          "output_type": "stream",
          "name": "stdout",
          "text": [
            "6400 tweets in train dataset, 356 tweets in valid dataset.\n",
            "Each json file is a list of dictionary, and each dictionary has information of tweets\n",
            "[TWEET INFO]: user id, sentence, processed token id.\n",
            "\n",
            "Sample train data:  {'user_id': 0, 'sentence': 'i recently met lakeisha crum the first in her family to go to college loved her story', 'token_id': [5721, 9659, 7459, 6629, 2686, 11853, 4447, 5870, 5460, 4236, 12017, 4981, 12017, 2197, 7047, 5460, 11310]}\n",
            "\n",
            "Note that: tokens.index(word) = token_id\n",
            "\n",
            "Example:\n",
            "[5721, 9659, 7459, 6629, 2686, 11853, 4447, 5870, 5460, 4236, 12017, 4981, 12017, 2197, 7047, 5460, 11310]\n",
            "[5721, 9659, 7459, 6629, 2686, 11853, 4447, 5870, 5460, 4236, 12017, 4981, 12017, 2197, 7047, 5460, 11310]\n"
          ]
        }
      ],
      "source": [
        "train_data = json.load(open('/content/drive/MyDrive/TUM/assignments i2dl/assignment2/train.json', 'r'))\n",
        "valid_data = json.load(open('/content/drive/MyDrive/TUM/assignments i2dl/assignment2/valid.json', 'r'))\n",
        "s_idx = 0\n",
        "print('{} tweets in train dataset, {} tweets in valid dataset.'.format(len(train_data), len(valid_data)))\n",
        "print('Each json file is a list of dictionary, and each dictionary has information of tweets')\n",
        "print('[TWEET INFO]: user id, sentence, processed token id.')\n",
        "print()\n",
        "\n",
        "print('Sample train data: ', train_data[s_idx])\n",
        "print()\n",
        "print('Note that: tokens.index(word) = token_id')\n",
        "print()\n",
        "print('Example:')\n",
        "print(train_data[0]['token_id'])\n",
        "print([tokens.index(w) for w in train_data[s_idx]['sentence'].split()])"
      ]
    },
    {
      "cell_type": "code",
      "execution_count": 5,
      "metadata": {
        "id": "C4uwJzrdCE3h"
      },
      "outputs": [],
      "source": [
        "class tweetDataset(Dataset):\n",
        "    def __init__(self, data):\n",
        "        self.data = data\n",
        "        \n",
        "    def __len__(self):\n",
        "        return len(self.data)\n",
        "    \n",
        "    def __getitem__(self, idx):\n",
        "        sample = self.data[idx]\n",
        "        sample['token_id'] = torch.Tensor(sample['token_id'])\n",
        "        return sample"
      ]
    },
    {
      "cell_type": "code",
      "execution_count": 6,
      "metadata": {
        "id": "KmI9nYsWCE3h"
      },
      "outputs": [],
      "source": [
        "train_dataset = tweetDataset(train_data)\n",
        "valid_dataset = tweetDataset(valid_data)\n",
        "\n",
        "train_dataloader = DataLoader(train_dataset, batch_size=1, shuffle=True)\n",
        "valid_dataloader = DataLoader(valid_dataset, batch_size=1, shuffle=True)"
      ]
    },
    {
      "cell_type": "code",
      "execution_count": 7,
      "metadata": {
        "colab": {
          "base_uri": "https://localhost:8080/"
        },
        "id": "Eqj_CT2aCE3i",
        "outputId": "37cc3ba2-d19d-4bfe-d40a-c0d7a470507e"
      },
      "outputs": [
        {
          "output_type": "stream",
          "name": "stdout",
          "text": [
            "Sample from train dataloader: \n",
            "USER ID:  tensor([7])\n",
            "TOKEN ID:  tensor([[ 3241., 13106.,  9990.,  8273., 12974.,   781.,  6760., 12919.,  5360.,\n",
            "          9394., 12017., 11108.,  8324.,  7987.,  8273., 12828., 11851.,  6847.]])\n",
            "TOKEN ID shape should be BATCH by LENGTH:  torch.Size([1, 18])\n"
          ]
        }
      ],
      "source": [
        "sample = next(iter(train_dataloader))\n",
        "\n",
        "print('Sample from train dataloader: ')\n",
        "print('USER ID: ', sample['user_id'])\n",
        "print('TOKEN ID: ', sample['token_id'])\n",
        "print('TOKEN ID shape should be BATCH by LENGTH: ', sample['token_id'].shape)"
      ]
    },
    {
      "cell_type": "code",
      "execution_count": 8,
      "metadata": {
        "id": "bJEIAWRVCE3j"
      },
      "outputs": [],
      "source": [
        "class Model(nn.Module):\n",
        "    def __init__(self, num_token, num_user, embed_dim, rnn_dim, num_layers):\n",
        "        super(Model, self).__init__()\n",
        "        self.num_token = num_token\n",
        "        self.num_user = num_user\n",
        "        self.embed_dim = embed_dim\n",
        "        self.rnn_dim = rnn_dim\n",
        "        self.num_layers = num_layers\n",
        "        \n",
        "        self.embedding = nn.Embedding(num_token, embed_dim)\n",
        "        self.rnn = nn.RNN(embed_dim, rnn_dim, num_layers=num_layers, batch_first=True)\n",
        "        self.out_linear = nn.Linear(rnn_dim, num_user)\n",
        "        \n",
        "    def forward(self, token_id):\n",
        "        embed = self.embedding(token_id)\n",
        "        out, _ = self.rnn(embed)\n",
        "        return self.out_linear(out[:, -1])"
      ]
    },
    {
      "cell_type": "code",
      "execution_count": 9,
      "metadata": {
        "id": "2RSOYh-ZCE3k"
      },
      "outputs": [],
      "source": [
        "device = 'cuda'\n",
        "#device = 'cpu'\n",
        "\n",
        "model = Model(num_token, num_user, embed_dim=512, rnn_dim=1024, num_layers=1).to(device)\n",
        "optimizer = optim.Adam(model.parameters(), lr=1e-5, weight_decay=1e-7)"
      ]
    },
    {
      "cell_type": "code",
      "execution_count": 10,
      "metadata": {
        "colab": {
          "base_uri": "https://localhost:8080/"
        },
        "id": "EbR3kk_jCE3k",
        "outputId": "2f5a316d-7315-4d46-80e3-ac9593196604"
      },
      "outputs": [
        {
          "output_type": "stream",
          "name": "stdout",
          "text": [
            "Number of parameters: 8428040\n",
            "[NOTE] Number of parameters SHOULD NOT exceed 20,000,000 (20 million).\n",
            "Prediction shape would be BATCH X NUM_USER(OUTPUT) :  torch.Size([1, 8])\n"
          ]
        }
      ],
      "source": [
        "num_param = sum(p.numel() for p in model.parameters())\n",
        "print('Number of parameters: {}'.format(num_param))\n",
        "print('[NOTE] Number of parameters SHOULD NOT exceed 20,000,000 (20 million).')\n",
        "pred = model(sample['token_id'].long().to(device))\n",
        "print('Prediction shape would be BATCH X NUM_USER(OUTPUT) : ', pred.shape)"
      ]
    },
    {
      "cell_type": "code",
      "execution_count": 11,
      "metadata": {
        "colab": {
          "base_uri": "https://localhost:8080/",
          "height": 1000,
          "referenced_widgets": [
            "59d03cb8f998474493e336552a3fe035",
            "c880a52d2f60451082b3af2589fd8bfd",
            "0c5003541ce84b5cb38145a8941754da",
            "19ba97c4781349cc8466789a02e471df",
            "f91333488a2e4a65a58a47a28c2d47dd",
            "5886fe9a00cb4d4ea338ed84daae567a",
            "35a05acd46e147269e6f09897d9e7c71",
            "dfc5defcc2b24a56ac818cf55fc39a71",
            "a4733122d33b4d79b14971aa7cb1f29f",
            "702d5486ffcf4d6faa342a31cf8020f0",
            "026ea3f7532b4e5590a39dc42f12f259"
          ]
        },
        "id": "EEs22Ms0CE3l",
        "outputId": "5ff88382-59e2-4030-f2c9-a3100b827c82"
      },
      "outputs": [
        {
          "output_type": "display_data",
          "data": {
            "application/vnd.jupyter.widget-view+json": {
              "model_id": "59d03cb8f998474493e336552a3fe035",
              "version_minor": 0,
              "version_major": 2
            },
            "text/plain": [
              "  0%|          | 0/100 [00:00<?, ?it/s]"
            ]
          },
          "metadata": {}
        },
        {
          "output_type": "stream",
          "name": "stdout",
          "text": [
            "[EPOCH 0] VALID ACCURACY: 0.30337077379226685\n",
            "[EPOCH 0] BEST VALID ACCURACY UPDATED: 0.30337077379226685\n",
            "[EPOCH 1] VALID ACCURACY: 0.483146071434021\n",
            "[EPOCH 1] BEST VALID ACCURACY UPDATED: 0.483146071434021\n",
            "[EPOCH 2] VALID ACCURACY: 0.5421348214149475\n",
            "[EPOCH 2] BEST VALID ACCURACY UPDATED: 0.5421348214149475\n",
            "[EPOCH 3] VALID ACCURACY: 0.584269642829895\n",
            "[EPOCH 3] BEST VALID ACCURACY UPDATED: 0.584269642829895\n",
            "[EPOCH 4] VALID ACCURACY: 0.5786516666412354\n",
            "[EPOCH 5] VALID ACCURACY: 0.5814606547355652\n",
            "[EPOCH 6] VALID ACCURACY: 0.5955055952072144\n",
            "[EPOCH 6] BEST VALID ACCURACY UPDATED: 0.5955055952072144\n",
            "[EPOCH 7] VALID ACCURACY: 0.601123571395874\n",
            "[EPOCH 7] BEST VALID ACCURACY UPDATED: 0.601123571395874\n",
            "[EPOCH 8] VALID ACCURACY: 0.6235954761505127\n",
            "[EPOCH 8] BEST VALID ACCURACY UPDATED: 0.6235954761505127\n",
            "[EPOCH 9] VALID ACCURACY: 0.5898876190185547\n",
            "[EPOCH 10] VALID ACCURACY: 0.6151685118675232\n",
            "[EPOCH 11] VALID ACCURACY: 0.617977499961853\n",
            "[EPOCH 12] VALID ACCURACY: 0.5870786309242249\n",
            "[EPOCH 13] VALID ACCURACY: 0.6039325594902039\n",
            "[EPOCH 14] VALID ACCURACY: 0.6123595237731934\n",
            "[EPOCH 15] VALID ACCURACY: 0.6207864880561829\n",
            "[EPOCH 16] VALID ACCURACY: 0.6123595237731934\n",
            "[EPOCH 17] VALID ACCURACY: 0.6207864880561829\n",
            "[EPOCH 18] VALID ACCURACY: 0.6095505356788635\n",
            "[EPOCH 19] VALID ACCURACY: 0.601123571395874\n",
            "[EPOCH 20] VALID ACCURACY: 0.5646067261695862\n",
            "[EPOCH 21] VALID ACCURACY: 0.6123595237731934\n",
            "[EPOCH 22] VALID ACCURACY: 0.617977499961853\n",
            "[EPOCH 23] VALID ACCURACY: 0.6264045238494873\n",
            "[EPOCH 23] BEST VALID ACCURACY UPDATED: 0.6264045238494873\n",
            "[EPOCH 24] VALID ACCURACY: 0.601123571395874\n",
            "[EPOCH 25] VALID ACCURACY: 0.6264045238494873\n",
            "[EPOCH 25] BEST VALID ACCURACY UPDATED: 0.6264045238494873\n",
            "[EPOCH 26] VALID ACCURACY: 0.5870786309242249\n",
            "[EPOCH 27] VALID ACCURACY: 0.6123595237731934\n",
            "[EPOCH 28] VALID ACCURACY: 0.617977499961853\n",
            "[EPOCH 29] VALID ACCURACY: 0.6123595237731934\n",
            "[EPOCH 30] VALID ACCURACY: 0.6376404762268066\n",
            "[EPOCH 30] BEST VALID ACCURACY UPDATED: 0.6376404762268066\n",
            "[EPOCH 31] VALID ACCURACY: 0.6376404762268066\n",
            "[EPOCH 31] BEST VALID ACCURACY UPDATED: 0.6376404762268066\n",
            "[EPOCH 32] VALID ACCURACY: 0.6460674405097961\n",
            "[EPOCH 32] BEST VALID ACCURACY UPDATED: 0.6460674405097961\n",
            "[EPOCH 33] VALID ACCURACY: 0.6207864880561829\n",
            "[EPOCH 34] VALID ACCURACY: 0.6264045238494873\n",
            "[EPOCH 35] VALID ACCURACY: 0.6039325594902039\n",
            "[EPOCH 36] VALID ACCURACY: 0.6095505356788635\n",
            "[EPOCH 37] VALID ACCURACY: 0.6432584524154663\n",
            "[EPOCH 38] VALID ACCURACY: 0.6123595237731934\n",
            "[EPOCH 39] VALID ACCURACY: 0.6095505356788635\n",
            "[EPOCH 40] VALID ACCURACY: 0.6292135119438171\n",
            "[EPOCH 41] VALID ACCURACY: 0.6264045238494873\n",
            "[EPOCH 42] VALID ACCURACY: 0.5926966071128845\n",
            "[EPOCH 43] VALID ACCURACY: 0.6151685118675232\n",
            "[EPOCH 44] VALID ACCURACY: 0.5449438095092773\n",
            "[EPOCH 45] VALID ACCURACY: 0.5955055952072144\n",
            "[EPOCH 46] VALID ACCURACY: 0.6123595237731934\n",
            "[EPOCH 47] VALID ACCURACY: 0.6039325594902039\n",
            "[EPOCH 48] VALID ACCURACY: 0.584269642829895\n",
            "[EPOCH 49] VALID ACCURACY: 0.632022500038147\n",
            "[EPOCH 50] VALID ACCURACY: 0.617977499961853\n",
            "[EPOCH 51] VALID ACCURACY: 0.5955055952072144\n",
            "[EPOCH 52] VALID ACCURACY: 0.6151685118675232\n",
            "[EPOCH 53] VALID ACCURACY: 0.601123571395874\n",
            "[EPOCH 54] VALID ACCURACY: 0.5702247023582458\n",
            "[EPOCH 55] VALID ACCURACY: 0.6151685118675232\n",
            "[EPOCH 56] VALID ACCURACY: 0.617977499961853\n",
            "[EPOCH 57] VALID ACCURACY: 0.617977499961853\n",
            "[EPOCH 58] VALID ACCURACY: 0.5983145833015442\n",
            "[EPOCH 59] VALID ACCURACY: 0.584269642829895\n",
            "[EPOCH 60] VALID ACCURACY: 0.601123571395874\n",
            "[EPOCH 61] VALID ACCURACY: 0.6151685118675232\n",
            "[EPOCH 62] VALID ACCURACY: 0.632022500038147\n",
            "[EPOCH 63] VALID ACCURACY: 0.6235954761505127\n",
            "[EPOCH 64] VALID ACCURACY: 0.5814606547355652\n",
            "[EPOCH 65] VALID ACCURACY: 0.5926966071128845\n",
            "[EPOCH 66] VALID ACCURACY: 0.5870786309242249\n",
            "[EPOCH 67] VALID ACCURACY: 0.6067415475845337\n",
            "[EPOCH 68] VALID ACCURACY: 0.6151685118675232\n",
            "[EPOCH 69] VALID ACCURACY: 0.6039325594902039\n",
            "[EPOCH 70] VALID ACCURACY: 0.6376404762268066\n",
            "[EPOCH 71] VALID ACCURACY: 0.5870786309242249\n",
            "[EPOCH 72] VALID ACCURACY: 0.5617977380752563\n",
            "[EPOCH 73] VALID ACCURACY: 0.601123571395874\n",
            "[EPOCH 74] VALID ACCURACY: 0.6207864880561829\n",
            "[EPOCH 75] VALID ACCURACY: 0.6123595237731934\n",
            "[EPOCH 76] VALID ACCURACY: 0.5814606547355652\n",
            "[EPOCH 77] VALID ACCURACY: 0.6348314881324768\n",
            "[EPOCH 78] VALID ACCURACY: 0.5955055952072144\n",
            "[EPOCH 79] VALID ACCURACY: 0.6207864880561829\n",
            "[EPOCH 80] VALID ACCURACY: 0.601123571395874\n",
            "[EPOCH 81] VALID ACCURACY: 0.6095505356788635\n",
            "[EPOCH 82] VALID ACCURACY: 0.5955055952072144\n",
            "[EPOCH 83] VALID ACCURACY: 0.5814606547355652\n",
            "[EPOCH 84] VALID ACCURACY: 0.6404494643211365\n",
            "[EPOCH 85] VALID ACCURACY: 0.6235954761505127\n",
            "[EPOCH 86] VALID ACCURACY: 0.6235954761505127\n",
            "[EPOCH 87] VALID ACCURACY: 0.6095505356788635\n",
            "[EPOCH 88] VALID ACCURACY: 0.6151685118675232\n",
            "[EPOCH 89] VALID ACCURACY: 0.6123595237731934\n",
            "[EPOCH 90] VALID ACCURACY: 0.6235954761505127\n",
            "[EPOCH 91] VALID ACCURACY: 0.584269642829895\n",
            "[EPOCH 92] VALID ACCURACY: 0.6264045238494873\n",
            "[EPOCH 93] VALID ACCURACY: 0.5926966071128845\n",
            "[EPOCH 94] VALID ACCURACY: 0.6432584524154663\n",
            "[EPOCH 95] VALID ACCURACY: 0.6095505356788635\n",
            "[EPOCH 96] VALID ACCURACY: 0.6264045238494873\n",
            "[EPOCH 97] VALID ACCURACY: 0.5983145833015442\n",
            "[EPOCH 98] VALID ACCURACY: 0.6151685118675232\n",
            "[EPOCH 99] VALID ACCURACY: 0.6235954761505127\n",
            "FINISHED TRAINING : BEST MODEL AT EPOCH 32 WITH ACCURACY 0.6460674405097961\n"
          ]
        }
      ],
      "source": [
        "criteria = nn.CrossEntropyLoss()\n",
        "avg_loss = 0.0\n",
        "best_valid_accu = 0.0\n",
        "best_epoch = -1\n",
        "best_model = None\n",
        "num_epoch = 100\n",
        "x,y = [],[]\n",
        "\n",
        "for epoch in tqdm(range(num_epoch)):\n",
        "    # start training\n",
        "    for sample in train_dataloader:\n",
        "        model.train()\n",
        "        optimizer.zero_grad()\n",
        "\n",
        "        pred = model(sample['token_id'].long().to(device))\n",
        "\n",
        "        loss = criteria(pred, sample['user_id'].long().to(device))\n",
        "\n",
        "        loss.backward()\n",
        "        optimizer.step()\n",
        "\n",
        "        avg_loss += loss.item() / len(train_dataloader)\n",
        "\n",
        "    # start validation\n",
        "    correct_cnt = 0.0\n",
        "    data_cnt = 0.0\n",
        "    for sample in valid_dataloader:\n",
        "        model.eval()\n",
        "\n",
        "        with torch.no_grad():\n",
        "            pred = model(sample['token_id'].long().to(device))\n",
        "\n",
        "        pred_user_id = torch.argmax(pred, dim=-1)\n",
        "\n",
        "        accu = pred_user_id.detach().cpu() == sample['user_id']\n",
        "\n",
        "        correct_cnt += torch.sum(accu)\n",
        "        data_cnt += sample['token_id'].shape[0]\n",
        "\n",
        "    # calculate best valid accuracy, and save the best model. \n",
        "    curr_valid_accu = (correct_cnt / data_cnt).item()\n",
        "    print('[EPOCH {}] VALID ACCURACY: {}'.format(epoch, curr_valid_accu))\n",
        "    x.append(epoch)\n",
        "    y.append(curr_valid_accu)\n",
        "\n",
        "    best_valid_accu = max(best_valid_accu, curr_valid_accu)\n",
        "    if best_valid_accu == curr_valid_accu:\n",
        "        best_epoch = epoch\n",
        "        best_model = copy.deepcopy(model)\n",
        "        torch.save(best_model.state_dict(), 'best_baseline.pth')\n",
        "        print('[EPOCH {}] BEST VALID ACCURACY UPDATED: {}'.format(epoch, best_valid_accu))\n",
        "\n",
        "print('FINISHED TRAINING : BEST MODEL AT EPOCH {} WITH ACCURACY {}'.format(best_epoch, best_valid_accu))"
      ]
    },
    {
      "cell_type": "code",
      "source": [
        "print(x)\n",
        "print(y)\n",
        "\n",
        "import matplotlib.pyplot as plt\n",
        "plt.plot(x, y)\n",
        " \n",
        "# naming the x axis\n",
        "plt.xlabel('epoch')\n",
        "# naming the y axis\n",
        "plt.ylabel('validation accuracy')\n",
        " \n",
        "# giving a title to my graph\n",
        "plt.title('RNN')\n",
        " \n",
        "# function to show the plot\n",
        "plt.show()"
      ],
      "metadata": {
        "id": "7QVc7k0eUptd",
        "colab": {
          "base_uri": "https://localhost:8080/",
          "height": 350
        },
        "outputId": "12b76cc4-a1b7-4735-c57e-13a0f146db53"
      },
      "execution_count": 12,
      "outputs": [
        {
          "output_type": "stream",
          "name": "stdout",
          "text": [
            "[0, 1, 2, 3, 4, 5, 6, 7, 8, 9, 10, 11, 12, 13, 14, 15, 16, 17, 18, 19, 20, 21, 22, 23, 24, 25, 26, 27, 28, 29, 30, 31, 32, 33, 34, 35, 36, 37, 38, 39, 40, 41, 42, 43, 44, 45, 46, 47, 48, 49, 50, 51, 52, 53, 54, 55, 56, 57, 58, 59, 60, 61, 62, 63, 64, 65, 66, 67, 68, 69, 70, 71, 72, 73, 74, 75, 76, 77, 78, 79, 80, 81, 82, 83, 84, 85, 86, 87, 88, 89, 90, 91, 92, 93, 94, 95, 96, 97, 98, 99]\n",
            "[0.30337077379226685, 0.483146071434021, 0.5421348214149475, 0.584269642829895, 0.5786516666412354, 0.5814606547355652, 0.5955055952072144, 0.601123571395874, 0.6235954761505127, 0.5898876190185547, 0.6151685118675232, 0.617977499961853, 0.5870786309242249, 0.6039325594902039, 0.6123595237731934, 0.6207864880561829, 0.6123595237731934, 0.6207864880561829, 0.6095505356788635, 0.601123571395874, 0.5646067261695862, 0.6123595237731934, 0.617977499961853, 0.6264045238494873, 0.601123571395874, 0.6264045238494873, 0.5870786309242249, 0.6123595237731934, 0.617977499961853, 0.6123595237731934, 0.6376404762268066, 0.6376404762268066, 0.6460674405097961, 0.6207864880561829, 0.6264045238494873, 0.6039325594902039, 0.6095505356788635, 0.6432584524154663, 0.6123595237731934, 0.6095505356788635, 0.6292135119438171, 0.6264045238494873, 0.5926966071128845, 0.6151685118675232, 0.5449438095092773, 0.5955055952072144, 0.6123595237731934, 0.6039325594902039, 0.584269642829895, 0.632022500038147, 0.617977499961853, 0.5955055952072144, 0.6151685118675232, 0.601123571395874, 0.5702247023582458, 0.6151685118675232, 0.617977499961853, 0.617977499961853, 0.5983145833015442, 0.584269642829895, 0.601123571395874, 0.6151685118675232, 0.632022500038147, 0.6235954761505127, 0.5814606547355652, 0.5926966071128845, 0.5870786309242249, 0.6067415475845337, 0.6151685118675232, 0.6039325594902039, 0.6376404762268066, 0.5870786309242249, 0.5617977380752563, 0.601123571395874, 0.6207864880561829, 0.6123595237731934, 0.5814606547355652, 0.6348314881324768, 0.5955055952072144, 0.6207864880561829, 0.601123571395874, 0.6095505356788635, 0.5955055952072144, 0.5814606547355652, 0.6404494643211365, 0.6235954761505127, 0.6235954761505127, 0.6095505356788635, 0.6151685118675232, 0.6123595237731934, 0.6235954761505127, 0.584269642829895, 0.6264045238494873, 0.5926966071128845, 0.6432584524154663, 0.6095505356788635, 0.6264045238494873, 0.5983145833015442, 0.6151685118675232, 0.6235954761505127]\n"
          ]
        },
        {
          "output_type": "display_data",
          "data": {
            "image/png": "[encoded data removed]",
            "text/plain": [
              "<Figure size 432x288 with 1 Axes>"
            ]
          },
          "metadata": {
            "needs_background": "light"
          }
        }
      ]
    }
  ],
  "metadata": {
    "kernelspec": {
      "display_name": "py37",
      "language": "python",
      "name": "py37"
    },
    "language_info": {
      "codemirror_mode": {
        "name": "ipython",
        "version": 3
      },
      "file_extension": ".py",
      "mimetype": "text/x-python",
      "name": "python",
      "nbconvert_exporter": "python",
      "pygments_lexer": "ipython3",
      "version": "3.7.10"
    },
    "colab": {
      "name": "RNN_without_attention.ipynb",
      "provenance": []
    },
    "accelerator": "GPU",
    "widgets": {
      "application/vnd.jupyter.widget-state+json": {
        "59d03cb8f998474493e336552a3fe035": {
          "model_module": "@jupyter-widgets/controls",
          "model_name": "HBoxModel",
          "model_module_version": "1.5.0",
          "state": {
            "_view_name": "HBoxView",
            "_dom_classes": [],
            "_model_name": "HBoxModel",
            "_view_module": "@jupyter-widgets/controls",
            "_model_module_version": "1.5.0",
            "_view_count": null,
            "_view_module_version": "1.5.0",
            "box_style": "",
            "layout": "IPY_MODEL_c880a52d2f60451082b3af2589fd8bfd",
            "_model_module": "@jupyter-widgets/controls",
            "children": [
              "IPY_MODEL_0c5003541ce84b5cb38145a8941754da",
              "IPY_MODEL_19ba97c4781349cc8466789a02e471df",
              "IPY_MODEL_f91333488a2e4a65a58a47a28c2d47dd"
            ]
          }
        },
        "c880a52d2f60451082b3af2589fd8bfd": {
          "model_module": "@jupyter-widgets/base",
          "model_name": "LayoutModel",
          "model_module_version": "1.2.0",
          "state": {
            "_view_name": "LayoutView",
            "grid_template_rows": null,
            "right": null,
            "justify_content": null,
            "_view_module": "@jupyter-widgets/base",
            "overflow": null,
            "_model_module_version": "1.2.0",
            "_view_count": null,
            "flex_flow": null,
            "width": null,
            "min_width": null,
            "border": null,
            "align_items": null,
            "bottom": null,
            "_model_module": "@jupyter-widgets/base",
            "top": null,
            "grid_column": null,
            "overflow_y": null,
            "overflow_x": null,
            "grid_auto_flow": null,
            "grid_area": null,
            "grid_template_columns": null,
            "flex": null,
            "_model_name": "LayoutModel",
            "justify_items": null,
            "grid_row": null,
            "max_height": null,
            "align_content": null,
            "visibility": null,
            "align_self": null,
            "height": null,
            "min_height": null,
            "padding": null,
            "grid_auto_rows": null,
            "grid_gap": null,
            "max_width": null,
            "order": null,
            "_view_module_version": "1.2.0",
            "grid_template_areas": null,
            "object_position": null,
            "object_fit": null,
            "grid_auto_columns": null,
            "margin": null,
            "display": null,
            "left": null
          }
        },
        "0c5003541ce84b5cb38145a8941754da": {
          "model_module": "@jupyter-widgets/controls",
          "model_name": "HTMLModel",
          "model_module_version": "1.5.0",
          "state": {
            "_view_name": "HTMLView",
            "style": "IPY_MODEL_5886fe9a00cb4d4ea338ed84daae567a",
            "_dom_classes": [],
            "description": "",
            "_model_name": "HTMLModel",
            "placeholder": "​",
            "_view_module": "@jupyter-widgets/controls",
            "_model_module_version": "1.5.0",
            "value": "100%",
            "_view_count": null,
            "_view_module_version": "1.5.0",
            "description_tooltip": null,
            "_model_module": "@jupyter-widgets/controls",
            "layout": "IPY_MODEL_35a05acd46e147269e6f09897d9e7c71"
          }
        },
        "19ba97c4781349cc8466789a02e471df": {
          "model_module": "@jupyter-widgets/controls",
          "model_name": "FloatProgressModel",
          "model_module_version": "1.5.0",
          "state": {
            "_view_name": "ProgressView",
            "style": "IPY_MODEL_dfc5defcc2b24a56ac818cf55fc39a71",
            "_dom_classes": [],
            "description": "",
            "_model_name": "FloatProgressModel",
            "bar_style": "success",
            "max": 100,
            "_view_module": "@jupyter-widgets/controls",
            "_model_module_version": "1.5.0",
            "value": 100,
            "_view_count": null,
            "_view_module_version": "1.5.0",
            "orientation": "horizontal",
            "min": 0,
            "description_tooltip": null,
            "_model_module": "@jupyter-widgets/controls",
            "layout": "IPY_MODEL_a4733122d33b4d79b14971aa7cb1f29f"
          }
        },
        "f91333488a2e4a65a58a47a28c2d47dd": {
          "model_module": "@jupyter-widgets/controls",
          "model_name": "HTMLModel",
          "model_module_version": "1.5.0",
          "state": {
            "_view_name": "HTMLView",
            "style": "IPY_MODEL_702d5486ffcf4d6faa342a31cf8020f0",
            "_dom_classes": [],
            "description": "",
            "_model_name": "HTMLModel",
            "placeholder": "​",
            "_view_module": "@jupyter-widgets/controls",
            "_model_module_version": "1.5.0",
            "value": " 100/100 [39:08&lt;00:00, 23.43s/it]",
            "_view_count": null,
            "_view_module_version": "1.5.0",
            "description_tooltip": null,
            "_model_module": "@jupyter-widgets/controls",
            "layout": "IPY_MODEL_026ea3f7532b4e5590a39dc42f12f259"
          }
        },
        "5886fe9a00cb4d4ea338ed84daae567a": {
          "model_module": "@jupyter-widgets/controls",
          "model_name": "DescriptionStyleModel",
          "model_module_version": "1.5.0",
          "state": {
            "_view_name": "StyleView",
            "_model_name": "DescriptionStyleModel",
            "description_width": "",
            "_view_module": "@jupyter-widgets/base",
            "_model_module_version": "1.5.0",
            "_view_count": null,
            "_view_module_version": "1.2.0",
            "_model_module": "@jupyter-widgets/controls"
          }
        },
        "35a05acd46e147269e6f09897d9e7c71": {
          "model_module": "@jupyter-widgets/base",
          "model_name": "LayoutModel",
          "model_module_version": "1.2.0",
          "state": {
            "_view_name": "LayoutView",
            "grid_template_rows": null,
            "right": null,
            "justify_content": null,
            "_view_module": "@jupyter-widgets/base",
            "overflow": null,
            "_model_module_version": "1.2.0",
            "_view_count": null,
            "flex_flow": null,
            "width": null,
            "min_width": null,
            "border": null,
            "align_items": null,
            "bottom": null,
            "_model_module": "@jupyter-widgets/base",
            "top": null,
            "grid_column": null,
            "overflow_y": null,
            "overflow_x": null,
            "grid_auto_flow": null,
            "grid_area": null,
            "grid_template_columns": null,
            "flex": null,
            "_model_name": "LayoutModel",
            "justify_items": null,
            "grid_row": null,
            "max_height": null,
            "align_content": null,
            "visibility": null,
            "align_self": null,
            "height": null,
            "min_height": null,
            "padding": null,
            "grid_auto_rows": null,
            "grid_gap": null,
            "max_width": null,
            "order": null,
            "_view_module_version": "1.2.0",
            "grid_template_areas": null,
            "object_position": null,
            "object_fit": null,
            "grid_auto_columns": null,
            "margin": null,
            "display": null,
            "left": null
          }
        },
        "dfc5defcc2b24a56ac818cf55fc39a71": {
          "model_module": "@jupyter-widgets/controls",
          "model_name": "ProgressStyleModel",
          "model_module_version": "1.5.0",
          "state": {
            "_view_name": "StyleView",
            "_model_name": "ProgressStyleModel",
            "description_width": "",
            "_view_module": "@jupyter-widgets/base",
            "_model_module_version": "1.5.0",
            "_view_count": null,
            "_view_module_version": "1.2.0",
            "bar_color": null,
            "_model_module": "@jupyter-widgets/controls"
          }
        },
        "a4733122d33b4d79b14971aa7cb1f29f": {
          "model_module": "@jupyter-widgets/base",
          "model_name": "LayoutModel",
          "model_module_version": "1.2.0",
          "state": {
            "_view_name": "LayoutView",
            "grid_template_rows": null,
            "right": null,
            "justify_content": null,
            "_view_module": "@jupyter-widgets/base",
            "overflow": null,
            "_model_module_version": "1.2.0",
            "_view_count": null,
            "flex_flow": null,
            "width": null,
            "min_width": null,
            "border": null,
            "align_items": null,
            "bottom": null,
            "_model_module": "@jupyter-widgets/base",
            "top": null,
            "grid_column": null,
            "overflow_y": null,
            "overflow_x": null,
            "grid_auto_flow": null,
            "grid_area": null,
            "grid_template_columns": null,
            "flex": null,
            "_model_name": "LayoutModel",
            "justify_items": null,
            "grid_row": null,
            "max_height": null,
            "align_content": null,
            "visibility": null,
            "align_self": null,
            "height": null,
            "min_height": null,
            "padding": null,
            "grid_auto_rows": null,
            "grid_gap": null,
            "max_width": null,
            "order": null,
            "_view_module_version": "1.2.0",
            "grid_template_areas": null,
            "object_position": null,
            "object_fit": null,
            "grid_auto_columns": null,
            "margin": null,
            "display": null,
            "left": null
          }
        },
        "702d5486ffcf4d6faa342a31cf8020f0": {
          "model_module": "@jupyter-widgets/controls",
          "model_name": "DescriptionStyleModel",
          "model_module_version": "1.5.0",
          "state": {
            "_view_name": "StyleView",
            "_model_name": "DescriptionStyleModel",
            "description_width": "",
            "_view_module": "@jupyter-widgets/base",
            "_model_module_version": "1.5.0",
            "_view_count": null,
            "_view_module_version": "1.2.0",
            "_model_module": "@jupyter-widgets/controls"
          }
        },
        "026ea3f7532b4e5590a39dc42f12f259": {
          "model_module": "@jupyter-widgets/base",
          "model_name": "LayoutModel",
          "model_module_version": "1.2.0",
          "state": {
            "_view_name": "LayoutView",
            "grid_template_rows": null,
            "right": null,
            "justify_content": null,
            "_view_module": "@jupyter-widgets/base",
            "overflow": null,
            "_model_module_version": "1.2.0",
            "_view_count": null,
            "flex_flow": null,
            "width": null,
            "min_width": null,
            "border": null,
            "align_items": null,
            "bottom": null,
            "_model_module": "@jupyter-widgets/base",
            "top": null,
            "grid_column": null,
            "overflow_y": null,
            "overflow_x": null,
            "grid_auto_flow": null,
            "grid_area": null,
            "grid_template_columns": null,
            "flex": null,
            "_model_name": "LayoutModel",
            "justify_items": null,
            "grid_row": null,
            "max_height": null,
            "align_content": null,
            "visibility": null,
            "align_self": null,
            "height": null,
            "min_height": null,
            "padding": null,
            "grid_auto_rows": null,
            "grid_gap": null,
            "max_width": null,
            "order": null,
            "_view_module_version": "1.2.0",
            "grid_template_areas": null,
            "object_position": null,
            "object_fit": null,
            "grid_auto_columns": null,
            "margin": null,
            "display": null,
            "left": null
          }
        }
      }
    }
  },
  "nbformat": 4,
  "nbformat_minor": 0
}