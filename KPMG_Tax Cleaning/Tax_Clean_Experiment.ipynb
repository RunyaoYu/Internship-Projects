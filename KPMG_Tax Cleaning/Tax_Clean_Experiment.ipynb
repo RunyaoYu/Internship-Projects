{
  "cells": [
    {
      "cell_type": "code",
      "execution_count": 54,
      "metadata": {},
      "outputs": [],
      "source": [
        "import numpy as np\n",
        "import pandas as pd\n",
        "import itertools"
      ]
    },
    {
      "cell_type": "code",
      "execution_count": 2,
      "metadata": {
        "id": "sDyArdj_41u_"
      },
      "outputs": [],
      "source": [
        "# specify your path\n",
        "file_path = 'AKW 2020.txt'\n",
        "\n",
        "with open(file_path) as f:\n",
        "    lines = f.readlines()"
      ]
    },
    {
      "cell_type": "code",
      "execution_count": 8,
      "metadata": {},
      "outputs": [
        {
          "name": "stdout",
          "output_type": "stream",
          "text": [
            "how many lines in total: 784261\n",
            "how do columns look like: |BuKr| M|Jahr|Buch.dat. |Belegdatum|Meldedatum|Belegnr   |Art|St|Vor|Satz   |      Steuerbasisbetrag| Basisbetrag in Fremdw.|Währ |FWähr|Steuerk.|Hauptbuch |Umsatzsteuer-Id.Nr  |Geschäftspartnername               |ISO|Land           |Straße                             |Ort                                |Postleitz.|Ausgleich |  UmrechKurs|Beschreibung                  |abzuf. Ausg. St.|           Bruttobetrag|Debitor   |  Ausgangssteuer|Ausgangssteuer in Fremdw.     |\n",
            "\n"
          ]
        }
      ],
      "source": [
        "# take a look at data\n",
        "print('how many lines in total:', len(lines))\n",
        "print('how do columns look like:', lines[29])"
      ]
    },
    {
      "cell_type": "code",
      "execution_count": 44,
      "metadata": {},
      "outputs": [
        {
          "name": "stdout",
          "output_type": "stream",
          "text": [
            "['BuKr', ' M', 'Jahr', 'Buch.dat. ', 'Belegdatum', 'Meldedatum', 'Belegnr   ', 'Art', 'St', 'Vor', 'Satz   ', '      Steuerbasisbetrag', ' Basisbetrag in Fremdw.', 'Währ ', 'FWähr', 'Steuerk.', 'Hauptbuch ', 'Umsatzsteuer-Id.Nr  ', 'Geschäftspartnername               ', 'ISO', 'Land           ', 'Straße                             ', 'Ort                                ', 'Postleitz.', 'Ausgleich ', '  UmrechKurs', 'Beschreibung                  ', 'abzuf. Ausg. St.', '           Bruttobetrag', 'Debitor   ', '  Ausgangssteuer', 'Ausgangssteuer in Fremdw.     ']\n",
            "32\n"
          ]
        }
      ],
      "source": [
        "def cut_line(line, cut_symbol = '|'):\n",
        "    cut_list = [l for l in (line).split(cut_symbol)]\n",
        "    if '' in cut_list:\n",
        "        cut_list.remove('')\n",
        "    if '\\n' in cut_list:\n",
        "        cut_list.remove('\\n')\n",
        "    return cut_list\n",
        "\n",
        "cut_list = cut_line(lines[29])\n",
        "print(cut_list)\n",
        "print(len(cut_list))"
      ]
    },
    {
      "cell_type": "code",
      "execution_count": 47,
      "metadata": {},
      "outputs": [],
      "source": [
        "new_lines = [cut_line(line) for line in lines]"
      ]
    },
    {
      "cell_type": "code",
      "execution_count": 29,
      "metadata": {},
      "outputs": [
        {
          "name": "stdout",
          "output_type": "stream",
          "text": [
            "12254\n"
          ]
        }
      ],
      "source": [
        "# check how many times header appears\n",
        "\n",
        "key_columns = 'BuKr' # you can change arbitrary column name in the future \n",
        "\n",
        "count = 0\n",
        "for line in lines:\n",
        "    if key_columns in line:\n",
        "        #print(line)\n",
        "        count += 1\n",
        "print(count)"
      ]
    },
    {
      "cell_type": "code",
      "execution_count": 30,
      "metadata": {},
      "outputs": [
        {
          "name": "stdout",
          "output_type": "stream",
          "text": [
            "7523\n"
          ]
        }
      ],
      "source": [
        "# check for ausgangsteuer\n",
        "\n",
        "key_columns = 'BuKr' # you can change arbitrary column name in the future \n",
        "key_columns_add = 'Ausgangssteuer in Fremdw.     '\n",
        "\n",
        "count_1 = 0\n",
        "for line in lines:\n",
        "    if key_columns in line and key_columns_add in line:\n",
        "        #print(line)\n",
        "        count_1 += 1\n",
        "print(count_1)"
      ]
    },
    {
      "cell_type": "code",
      "execution_count": 31,
      "metadata": {},
      "outputs": [
        {
          "name": "stdout",
          "output_type": "stream",
          "text": [
            "4731\n"
          ]
        }
      ],
      "source": [
        "# check for eingangsteuer\n",
        "\n",
        "key_columns = 'BuKr' # you can change arbitrary column name in the future \n",
        "key_columns_add = 'Eingangssteuer in Fremdw.     '\n",
        "\n",
        "count_2 = 0\n",
        "for line in lines:\n",
        "    if key_columns in line and key_columns_add in line:\n",
        "        #print(line)\n",
        "        count_2 += 1\n",
        "print(count_2)"
      ]
    },
    {
      "cell_type": "code",
      "execution_count": 32,
      "metadata": {},
      "outputs": [
        {
          "name": "stdout",
          "output_type": "stream",
          "text": [
            "True\n"
          ]
        }
      ],
      "source": [
        "# validate\n",
        "\n",
        "if count == count_1 + count_2:\n",
        "    print(True)"
      ]
    },
    {
      "cell_type": "code",
      "execution_count": 37,
      "metadata": {},
      "outputs": [
        {
          "name": "stdout",
          "output_type": "stream",
          "text": [
            "   BuKr   M  Jahr  Buch.dat.   Belegdatum  Meldedatum  Belegnr     Art  St  \\\n",
            "0  DE10   1  2020  01.01.2020  01.01.2020              1000007940  AB   A9   \n",
            "1  DE10   1  2020  01.01.2020  01.01.2020              1000018044  AB   A9   \n",
            "\n",
            "   Vor  ...  Ort                                  Postleitz.  Ausgleich   \\\n",
            "0  MWS  ...  Colombo                              05          01.01.2020   \n",
            "1  MWS  ...  Dhaka                                1207        01.01.2020   \n",
            "\n",
            "     UmrechKurs  Beschreibung                    abzuf. Ausg. St.  \\\n",
            "0                Ausgangssteuer Ausland steuer              0,00    \n",
            "1                Ausgangssteuer Ausland steuer              0,00    \n",
            "\n",
            "              Bruttobetrag  Debitor       Ausgangssteuer  \\\n",
            "0                    0,01   910373337              0,00    \n",
            "1                    0,01   910451709              0,00    \n",
            "\n",
            "   Ausgangssteuer in Fremdw.       \n",
            "0                                  \n",
            "1                                  \n",
            "\n",
            "[2 rows x 32 columns]\n"
          ]
        }
      ],
      "source": [
        "# try iteratively form dataframe\n",
        "\n",
        "columns = cut_line(lines[29])\n",
        "row1 = cut_line(lines[31])\n",
        "row2 = cut_line(lines[32])\n",
        "\n",
        "temp_list = []\n",
        "temp_list.append(row1)\n",
        "temp_list.append(row2)\n",
        "\n",
        "df = pd.DataFrame(temp_list, columns=columns)\n",
        "print(df)\n"
      ]
    },
    {
      "cell_type": "code",
      "execution_count": 34,
      "metadata": {},
      "outputs": [
        {
          "name": "stdout",
          "output_type": "stream",
          "text": [
            "7523\n",
            "12254\n",
            "31\n",
            "86\n"
          ]
        }
      ],
      "source": [
        "key_columns = 'BuKr' # you can change arbitrary column name in the future \n",
        "key_columns_add = 'Ausgangssteuer in Fremdw.     '\n",
        "\n",
        "key_separate = 'DE10'\n",
        "\n",
        "begin_index, endin_index = [], []\n",
        "\n",
        "for i in range(len(new_lines)):\n",
        "    if key_columns in new_lines[i] and key_columns_add in new_lines[i]:\n",
        "        begin_index.append(i+2)\n",
        "    if key_separate not in new_lines[i] and key_separate in new_lines[i-1]: \n",
        "        endin_index.append(i)\n",
        "    \n",
        "\n",
        "print(len(begin_index))\n",
        "print(len(endin_index))\n",
        "\n",
        "print(begin_index[0])\n",
        "print(endin_index[0])\n"
      ]
    },
    {
      "cell_type": "code",
      "execution_count": 35,
      "metadata": {},
      "outputs": [
        {
          "name": "stdout",
          "output_type": "stream",
          "text": [
            "['--------------------------------------------------------------------------------------------------------------------------------------------------------------------------------------------------------------------------------------------------------------------------------------------------------------------------------------------------------------------------------------------------------------------------------------------------------------------------------------']\n",
            "\n",
            "\n",
            "['DE10', ' 1', '2020', '01.01.2020', '01.01.2020', '          ', '1000007940', 'AB ', 'A9', 'MWS', '  0,000', '                  0,01 ', '                       ', 'EUR  ', '     ', '5521100 ', '1090100   ', '                    ', 'TUDAWE TRADING COMPANY PVT LTD     ', 'LK ', 'Sri Lanka      ', 'No. 509, Elvitigala Road           ', 'Colombo                            ', '05        ', '01.01.2020', '            ', 'Ausgangssteuer Ausland steuer ', '           0,00 ', '                  0,01 ', '910373337 ', '           0,00 ', '                              ']\n"
          ]
        }
      ],
      "source": [
        "print(new_lines[30])\n",
        "print('\\n')\n",
        "print(new_lines[31])"
      ]
    },
    {
      "cell_type": "code",
      "execution_count": 31,
      "metadata": {},
      "outputs": [
        {
          "name": "stdout",
          "output_type": "stream",
          "text": [
            "[29, 30, 31, 32, 33, 34, 35, 36, 37, 38, 39]\n"
          ]
        }
      ],
      "source": [
        "print(list(range(29,40)))"
      ]
    },
    {
      "cell_type": "code",
      "execution_count": 36,
      "metadata": {},
      "outputs": [
        {
          "name": "stdout",
          "output_type": "stream",
          "text": [
            "7523\n",
            "[31, 32, 33, 34, 35, 36, 37, 38, 39, 40, 41, 42, 43, 44, 45, 46, 47, 48, 49, 50, 51, 52, 53, 54, 55, 56, 57, 58, 59, 60, 61, 62, 63, 64, 65, 66, 67, 68, 69, 70, 71, 72, 73, 74, 75, 76, 77, 78, 79, 80, 81, 82, 83, 84, 85]\n"
          ]
        }
      ],
      "source": [
        "save_index = []\n",
        "\n",
        "for j in range(len(begin_index)):\n",
        "    temp_save_index = list(range(begin_index[j], endin_index[j]))\n",
        "    save_index.append(temp_save_index)\n",
        "\n",
        "print(len(save_index))\n",
        "print(save_index[0])"
      ]
    },
    {
      "cell_type": "code",
      "execution_count": 37,
      "metadata": {},
      "outputs": [
        {
          "name": "stdout",
          "output_type": "stream",
          "text": [
            "[481439, 481440, 481441, 481442, 481443, 481444, 481445, 481446, 481447, 481448, 481449, 481450, 481451, 481452, 481453, 481454, 481455, 481456, 481457, 481458, 481459, 481460, 481461, 481462, 481463, 481464, 481465, 481466, 481467, 481468, 481469, 481470, 481471, 481472, 481473, 481474, 481475, 481476]\n"
          ]
        }
      ],
      "source": [
        "print(save_index[-1])"
      ]
    },
    {
      "cell_type": "code",
      "execution_count": 41,
      "metadata": {},
      "outputs": [
        {
          "name": "stdout",
          "output_type": "stream",
          "text": [
            "['DE10', '15', '2020', '31.12.2020', '15.12.2020', '          ', '4500218706', 'KG ', 'E1', 'ESA', ' 16,000', '          1.763.976,00 ', '                       ', 'EUR  ', '     ', '5521200 ', '3319200   ', 'IT01732570203       ', 'CEM  S.P.A.                        ', 'IT ', 'Italien        ', \"VIA CA'ROSSA  N.1                  \", 'QUISTELLO (MANTOVA)                ', '46026     ', '31.12.2020', '            ', 'Erwerbssteuer 16% EG-Warenlie ', '     282.236,16 ', '          2.046.212,16 ', '2290      ', '     282.236,16 ', '                              ']\n"
          ]
        }
      ],
      "source": [
        "print(new_lines[481476])"
      ]
    },
    {
      "cell_type": "code",
      "execution_count": 1,
      "metadata": {},
      "outputs": [],
      "source": [
        "# specify your path\n",
        "file_path = 'AKW 2020.txt'\n",
        "\n",
        "with open(file_path) as f:\n",
        "    lines = f.readlines()"
      ]
    },
    {
      "cell_type": "code",
      "execution_count": 2,
      "metadata": {},
      "outputs": [],
      "source": [
        "def cut_line(line, cut_symbol = '|'):\n",
        "    cut_list = [l for l in (line).split(cut_symbol)]\n",
        "    if '' in cut_list:\n",
        "        cut_list.remove('')\n",
        "    if '\\n' in cut_list:\n",
        "        cut_list.remove('\\n')\n",
        "    return cut_list"
      ]
    },
    {
      "cell_type": "code",
      "execution_count": 3,
      "metadata": {},
      "outputs": [],
      "source": [
        "new_lines = [cut_line(line) for line in lines]"
      ]
    },
    {
      "cell_type": "code",
      "execution_count": 42,
      "metadata": {},
      "outputs": [],
      "source": [
        "key_columns = 'BuKr' # you can change arbitrary column name in the future \n",
        "key_columns_add = 'Ausgangssteuer in Fremdw.     '\n",
        "key_separate = 'DE10'\n",
        "begin_index, endin_index = [], []\n",
        "\n",
        "for i in range(len(new_lines)):\n",
        "    if key_columns in new_lines[i] and key_columns_add in new_lines[i]:\n",
        "        begin_index.append(i+2)\n",
        "    if key_separate not in new_lines[i] and key_separate in new_lines[i-1]: \n",
        "        endin_index.append(i)\n",
        "\n",
        "save_index = []\n",
        "for j in range(len(begin_index)):\n",
        "    temp_save_index = list(range(begin_index[j], endin_index[j]))\n",
        "    save_index.append(temp_save_index)\n",
        "\n"
      ]
    },
    {
      "cell_type": "code",
      "execution_count": 43,
      "metadata": {},
      "outputs": [
        {
          "name": "stdout",
          "output_type": "stream",
          "text": [
            "7523\n",
            "[481439, 481440, 481441, 481442, 481443, 481444, 481445, 481446, 481447, 481448, 481449, 481450, 481451, 481452, 481453, 481454, 481455, 481456, 481457, 481458, 481459, 481460, 481461, 481462, 481463, 481464, 481465, 481466, 481467, 481468, 481469, 481470, 481471, 481472, 481473, 481474, 481475, 481476]\n"
          ]
        }
      ],
      "source": [
        "print(len(save_index))\n",
        "print(save_index[-1])"
      ]
    },
    {
      "cell_type": "code",
      "execution_count": 46,
      "metadata": {},
      "outputs": [],
      "source": [
        "columns = new_lines[29]\n",
        "\n",
        "temp_list = []\n",
        "\n",
        "for m in range(len(save_index)):\n",
        "    for n in range(len(save_index[m])):\n",
        "        temp_list.append(new_lines[save_index[m][n]])\n",
        "        #print(save_index[m][n])\n",
        "\n"
      ]
    },
    {
      "cell_type": "code",
      "execution_count": 47,
      "metadata": {},
      "outputs": [
        {
          "name": "stdout",
          "output_type": "stream",
          "text": [
            "413748\n"
          ]
        }
      ],
      "source": [
        "print(len(temp_list))"
      ]
    },
    {
      "cell_type": "code",
      "execution_count": 52,
      "metadata": {},
      "outputs": [
        {
          "name": "stdout",
          "output_type": "stream",
          "text": [
            "this row has been split wrongly: 95819 length: 33\n"
          ]
        }
      ],
      "source": [
        "columns = new_lines[29]\n",
        "\n",
        "temp_list = []\n",
        "\n",
        "for m in range(len(save_index)):\n",
        "    for n in range(len(save_index[m])):\n",
        "        if len(new_lines[save_index[m][n]]) == len(columns):\n",
        "            temp_list.append(new_lines[save_index[m][n]])\n",
        "            #print(save_index[m][n])\n",
        "        else:\n",
        "            print('this row has been split wrongly:',save_index[m][n], 'length:', len(new_lines[save_index[m][n]]))\n",
        "\n"
      ]
    },
    {
      "cell_type": "code",
      "execution_count": 55,
      "metadata": {},
      "outputs": [
        {
          "data": {
            "text/html": [
              "<div>\n",
              "<style scoped>\n",
              "    .dataframe tbody tr th:only-of-type {\n",
              "        vertical-align: middle;\n",
              "    }\n",
              "\n",
              "    .dataframe tbody tr th {\n",
              "        vertical-align: top;\n",
              "    }\n",
              "\n",
              "    .dataframe thead th {\n",
              "        text-align: right;\n",
              "    }\n",
              "</style>\n",
              "<table border=\"1\" class=\"dataframe\">\n",
              "  <thead>\n",
              "    <tr style=\"text-align: right;\">\n",
              "      <th></th>\n",
              "      <th>BuKr</th>\n",
              "      <th>M</th>\n",
              "      <th>Jahr</th>\n",
              "      <th>Buch.dat.</th>\n",
              "      <th>Belegdatum</th>\n",
              "      <th>Meldedatum</th>\n",
              "      <th>Belegnr</th>\n",
              "      <th>Art</th>\n",
              "      <th>St</th>\n",
              "      <th>Vor</th>\n",
              "      <th>...</th>\n",
              "      <th>Ort</th>\n",
              "      <th>Postleitz.</th>\n",
              "      <th>Ausgleich</th>\n",
              "      <th>UmrechKurs</th>\n",
              "      <th>Beschreibung</th>\n",
              "      <th>abzuf. Ausg. St.</th>\n",
              "      <th>Bruttobetrag</th>\n",
              "      <th>Debitor</th>\n",
              "      <th>Ausgangssteuer</th>\n",
              "      <th>Ausgangssteuer in Fremdw.</th>\n",
              "    </tr>\n",
              "  </thead>\n",
              "  <tbody>\n",
              "    <tr>\n",
              "      <th>0</th>\n",
              "      <td>DE10</td>\n",
              "      <td>1</td>\n",
              "      <td>2020</td>\n",
              "      <td>01.01.2020</td>\n",
              "      <td>01.01.2020</td>\n",
              "      <td></td>\n",
              "      <td>1000007940</td>\n",
              "      <td>AB</td>\n",
              "      <td>A9</td>\n",
              "      <td>MWS</td>\n",
              "      <td>...</td>\n",
              "      <td>Colombo</td>\n",
              "      <td>05</td>\n",
              "      <td>01.01.2020</td>\n",
              "      <td></td>\n",
              "      <td>Ausgangssteuer Ausland steuer</td>\n",
              "      <td>0,00</td>\n",
              "      <td>0,01</td>\n",
              "      <td>910373337</td>\n",
              "      <td>0,00</td>\n",
              "      <td></td>\n",
              "    </tr>\n",
              "    <tr>\n",
              "      <th>1</th>\n",
              "      <td>DE10</td>\n",
              "      <td>1</td>\n",
              "      <td>2020</td>\n",
              "      <td>01.01.2020</td>\n",
              "      <td>01.01.2020</td>\n",
              "      <td></td>\n",
              "      <td>1000018044</td>\n",
              "      <td>AB</td>\n",
              "      <td>A9</td>\n",
              "      <td>MWS</td>\n",
              "      <td>...</td>\n",
              "      <td>Dhaka</td>\n",
              "      <td>1207</td>\n",
              "      <td>01.01.2020</td>\n",
              "      <td></td>\n",
              "      <td>Ausgangssteuer Ausland steuer</td>\n",
              "      <td>0,00</td>\n",
              "      <td>0,01</td>\n",
              "      <td>910451709</td>\n",
              "      <td>0,00</td>\n",
              "      <td></td>\n",
              "    </tr>\n",
              "    <tr>\n",
              "      <th>2</th>\n",
              "      <td>DE10</td>\n",
              "      <td>1</td>\n",
              "      <td>2020</td>\n",
              "      <td>01.01.2020</td>\n",
              "      <td>01.01.2020</td>\n",
              "      <td></td>\n",
              "      <td>1000018045</td>\n",
              "      <td>AB</td>\n",
              "      <td>A9</td>\n",
              "      <td>MWS</td>\n",
              "      <td>...</td>\n",
              "      <td>Dhaka</td>\n",
              "      <td>1207</td>\n",
              "      <td>23.01.2020</td>\n",
              "      <td></td>\n",
              "      <td>Ausgangssteuer Ausland steuer</td>\n",
              "      <td>0,00</td>\n",
              "      <td>0,99-</td>\n",
              "      <td>910451709</td>\n",
              "      <td>0,00</td>\n",
              "      <td></td>\n",
              "    </tr>\n",
              "    <tr>\n",
              "      <th>3</th>\n",
              "      <td>DE10</td>\n",
              "      <td>1</td>\n",
              "      <td>2020</td>\n",
              "      <td>01.01.2020</td>\n",
              "      <td>01.01.2020</td>\n",
              "      <td></td>\n",
              "      <td>1200000012</td>\n",
              "      <td>YC</td>\n",
              "      <td>AZ</td>\n",
              "      <td>MWS</td>\n",
              "      <td>...</td>\n",
              "      <td></td>\n",
              "      <td></td>\n",
              "      <td></td>\n",
              "      <td></td>\n",
              "      <td>Kein Steuervorgang (SD)</td>\n",
              "      <td>0,00</td>\n",
              "      <td>89.248,77-</td>\n",
              "      <td></td>\n",
              "      <td>0,00</td>\n",
              "      <td></td>\n",
              "    </tr>\n",
              "    <tr>\n",
              "      <th>4</th>\n",
              "      <td>DE10</td>\n",
              "      <td>1</td>\n",
              "      <td>2020</td>\n",
              "      <td>01.01.2020</td>\n",
              "      <td>01.01.2020</td>\n",
              "      <td></td>\n",
              "      <td>1200000014</td>\n",
              "      <td>YC</td>\n",
              "      <td>AZ</td>\n",
              "      <td>MWS</td>\n",
              "      <td>...</td>\n",
              "      <td>Winnenden</td>\n",
              "      <td>71364</td>\n",
              "      <td>17.02.2020</td>\n",
              "      <td></td>\n",
              "      <td>Kein Steuervorgang (SD)</td>\n",
              "      <td>0,00</td>\n",
              "      <td>5.017,91-</td>\n",
              "      <td>920377020</td>\n",
              "      <td>0,00</td>\n",
              "      <td></td>\n",
              "    </tr>\n",
              "  </tbody>\n",
              "</table>\n",
              "<p>5 rows × 32 columns</p>\n",
              "</div>"
            ],
            "text/plain": [
              "   BuKr   M  Jahr  Buch.dat.   Belegdatum  Meldedatum  Belegnr     Art  St  \\\n",
              "0  DE10   1  2020  01.01.2020  01.01.2020              1000007940  AB   A9   \n",
              "1  DE10   1  2020  01.01.2020  01.01.2020              1000018044  AB   A9   \n",
              "2  DE10   1  2020  01.01.2020  01.01.2020              1000018045  AB   A9   \n",
              "3  DE10   1  2020  01.01.2020  01.01.2020              1200000012  YC   AZ   \n",
              "4  DE10   1  2020  01.01.2020  01.01.2020              1200000014  YC   AZ   \n",
              "\n",
              "   Vor  ...  Ort                                  Postleitz.  Ausgleich   \\\n",
              "0  MWS  ...  Colombo                              05          01.01.2020   \n",
              "1  MWS  ...  Dhaka                                1207        01.01.2020   \n",
              "2  MWS  ...  Dhaka                                1207        23.01.2020   \n",
              "3  MWS  ...                                                                \n",
              "4  MWS  ...  Winnenden                            71364       17.02.2020   \n",
              "\n",
              "     UmrechKurs  Beschreibung                    abzuf. Ausg. St.  \\\n",
              "0                Ausgangssteuer Ausland steuer              0,00    \n",
              "1                Ausgangssteuer Ausland steuer              0,00    \n",
              "2                Ausgangssteuer Ausland steuer              0,00    \n",
              "3                Kein Steuervorgang (SD)                    0,00    \n",
              "4                Kein Steuervorgang (SD)                    0,00    \n",
              "\n",
              "              Bruttobetrag  Debitor       Ausgangssteuer  \\\n",
              "0                    0,01   910373337              0,00    \n",
              "1                    0,01   910451709              0,00    \n",
              "2                    0,99-  910451709              0,00    \n",
              "3               89.248,77-                         0,00    \n",
              "4                5.017,91-  920377020              0,00    \n",
              "\n",
              "   Ausgangssteuer in Fremdw.       \n",
              "0                                  \n",
              "1                                  \n",
              "2                                  \n",
              "3                                  \n",
              "4                                  \n",
              "\n",
              "[5 rows x 32 columns]"
            ]
          },
          "execution_count": 55,
          "metadata": {},
          "output_type": "execute_result"
        }
      ],
      "source": [
        "df = pd.DataFrame(temp_list, columns=columns)\n",
        "df.head()"
      ]
    },
    {
      "cell_type": "code",
      "execution_count": 58,
      "metadata": {},
      "outputs": [
        {
          "data": {
            "text/html": [
              "<div>\n",
              "<style scoped>\n",
              "    .dataframe tbody tr th:only-of-type {\n",
              "        vertical-align: middle;\n",
              "    }\n",
              "\n",
              "    .dataframe tbody tr th {\n",
              "        vertical-align: top;\n",
              "    }\n",
              "\n",
              "    .dataframe thead th {\n",
              "        text-align: right;\n",
              "    }\n",
              "</style>\n",
              "<table border=\"1\" class=\"dataframe\">\n",
              "  <thead>\n",
              "    <tr style=\"text-align: right;\">\n",
              "      <th></th>\n",
              "      <th>BuKr</th>\n",
              "      <th>M</th>\n",
              "      <th>Jahr</th>\n",
              "      <th>Buch.dat.</th>\n",
              "      <th>Belegdatum</th>\n",
              "      <th>Meldedatum</th>\n",
              "      <th>Belegnr</th>\n",
              "      <th>Art</th>\n",
              "      <th>St</th>\n",
              "      <th>Vor</th>\n",
              "      <th>...</th>\n",
              "      <th>Ort</th>\n",
              "      <th>Postleitz.</th>\n",
              "      <th>Ausgleich</th>\n",
              "      <th>UmrechKurs</th>\n",
              "      <th>Beschreibung</th>\n",
              "      <th>abzuf. Ausg. St.</th>\n",
              "      <th>Bruttobetrag</th>\n",
              "      <th>Debitor</th>\n",
              "      <th>Ausgangssteuer</th>\n",
              "      <th>Ausgangssteuer in Fremdw.</th>\n",
              "    </tr>\n",
              "  </thead>\n",
              "  <tbody>\n",
              "    <tr>\n",
              "      <th>count</th>\n",
              "      <td>413747</td>\n",
              "      <td>413747</td>\n",
              "      <td>413747</td>\n",
              "      <td>413747</td>\n",
              "      <td>413747</td>\n",
              "      <td>413747</td>\n",
              "      <td>413747</td>\n",
              "      <td>413747</td>\n",
              "      <td>413747</td>\n",
              "      <td>413747</td>\n",
              "      <td>...</td>\n",
              "      <td>413747</td>\n",
              "      <td>413747</td>\n",
              "      <td>413747</td>\n",
              "      <td>413747</td>\n",
              "      <td>413747</td>\n",
              "      <td>413747</td>\n",
              "      <td>413747</td>\n",
              "      <td>413747</td>\n",
              "      <td>413747</td>\n",
              "      <td>413747</td>\n",
              "    </tr>\n",
              "    <tr>\n",
              "      <th>unique</th>\n",
              "      <td>1</td>\n",
              "      <td>15</td>\n",
              "      <td>1</td>\n",
              "      <td>341</td>\n",
              "      <td>492</td>\n",
              "      <td>1</td>\n",
              "      <td>384165</td>\n",
              "      <td>24</td>\n",
              "      <td>34</td>\n",
              "      <td>2</td>\n",
              "      <td>...</td>\n",
              "      <td>1124</td>\n",
              "      <td>1070</td>\n",
              "      <td>445</td>\n",
              "      <td>804</td>\n",
              "      <td>30</td>\n",
              "      <td>35611</td>\n",
              "      <td>142192</td>\n",
              "      <td>1408</td>\n",
              "      <td>35611</td>\n",
              "      <td>786</td>\n",
              "    </tr>\n",
              "    <tr>\n",
              "      <th>top</th>\n",
              "      <td>DE10</td>\n",
              "      <td>7</td>\n",
              "      <td>2020</td>\n",
              "      <td>22.10.2020</td>\n",
              "      <td>29.05.2020</td>\n",
              "      <td></td>\n",
              "      <td>9000000182</td>\n",
              "      <td>RV</td>\n",
              "      <td>A6</td>\n",
              "      <td>MWS</td>\n",
              "      <td>...</td>\n",
              "      <td>Made</td>\n",
              "      <td>4921 PJ</td>\n",
              "      <td></td>\n",
              "      <td></td>\n",
              "      <td>Ausgangssteuer 0% EG-Warenlie</td>\n",
              "      <td>0,00</td>\n",
              "      <td>24,62-</td>\n",
              "      <td></td>\n",
              "      <td>0,00</td>\n",
              "      <td></td>\n",
              "    </tr>\n",
              "    <tr>\n",
              "      <th>freq</th>\n",
              "      <td>413747</td>\n",
              "      <td>38614</td>\n",
              "      <td>413747</td>\n",
              "      <td>2473</td>\n",
              "      <td>2538</td>\n",
              "      <td>413747</td>\n",
              "      <td>5</td>\n",
              "      <td>364866</td>\n",
              "      <td>168075</td>\n",
              "      <td>385648</td>\n",
              "      <td>...</td>\n",
              "      <td>58375</td>\n",
              "      <td>58375</td>\n",
              "      <td>60455</td>\n",
              "      <td>411241</td>\n",
              "      <td>168075</td>\n",
              "      <td>338141</td>\n",
              "      <td>1590</td>\n",
              "      <td>59726</td>\n",
              "      <td>338141</td>\n",
              "      <td>412559</td>\n",
              "    </tr>\n",
              "  </tbody>\n",
              "</table>\n",
              "<p>4 rows × 32 columns</p>\n",
              "</div>"
            ],
            "text/plain": [
              "          BuKr       M    Jahr  Buch.dat.   Belegdatum  Meldedatum  \\\n",
              "count   413747  413747  413747      413747      413747      413747   \n",
              "unique       1      15       1         341         492           1   \n",
              "top       DE10       7    2020  22.10.2020  29.05.2020               \n",
              "freq    413747   38614  413747        2473        2538      413747   \n",
              "\n",
              "        Belegnr        Art      St     Vor  ...  \\\n",
              "count       413747  413747  413747  413747  ...   \n",
              "unique      384165      24      34       2  ...   \n",
              "top     9000000182     RV       A6     MWS  ...   \n",
              "freq             5  364866  168075  385648  ...   \n",
              "\n",
              "        Ort                                  Postleitz.  Ausgleich   \\\n",
              "count                                413747      413747      413747   \n",
              "unique                                 1124        1070         445   \n",
              "top     Made                                 4921 PJ                  \n",
              "freq                                  58375       58375       60455   \n",
              "\n",
              "          UmrechKurs  Beschreibung                    abzuf. Ausg. St.  \\\n",
              "count         413747                          413747            413747   \n",
              "unique           804                              30             35611   \n",
              "top                   Ausgangssteuer 0% EG-Warenlie              0,00    \n",
              "freq          411241                          168075            338141   \n",
              "\n",
              "                   Bruttobetrag  Debitor       Ausgangssteuer  \\\n",
              "count                    413747      413747            413747   \n",
              "unique                   142192        1408             35611   \n",
              "top                      24,62-                         0,00    \n",
              "freq                       1590       59726            338141   \n",
              "\n",
              "        Ausgangssteuer in Fremdw.       \n",
              "count                           413747  \n",
              "unique                             786  \n",
              "top                                     \n",
              "freq                            412559  \n",
              "\n",
              "[4 rows x 32 columns]"
            ]
          },
          "execution_count": 58,
          "metadata": {},
          "output_type": "execute_result"
        }
      ],
      "source": [
        "df.describe()"
      ]
    },
    {
      "cell_type": "markdown",
      "metadata": {},
      "source": [
        "eingang\n"
      ]
    },
    {
      "cell_type": "code",
      "execution_count": 59,
      "metadata": {},
      "outputs": [],
      "source": [
        "file_path = 'AKW 2020.txt'\n",
        "\n",
        "def cut_line(line, cut_symbol = '|'):\n",
        "    cut_list = [l for l in (line).split(cut_symbol)]\n",
        "    if '' in cut_list:\n",
        "        cut_list.remove('')\n",
        "    if '\\n' in cut_list:\n",
        "        cut_list.remove('\\n')\n",
        "    return cut_list\n",
        "\n",
        "cut_list = cut_line(lines[29])\n",
        "print(cut_list)\n",
        "print(len(cut_list))\n",
        "\n",
        "\n",
        "with open(file_path) as f:\n",
        "    lines = f.readlines()\n",
        "new_lines = [cut_line(line) for line in lines]"
      ]
    },
    {
      "cell_type": "code",
      "execution_count": 65,
      "metadata": {},
      "outputs": [
        {
          "name": "stdout",
          "output_type": "stream",
          "text": [
            "4731\n",
            "12254\n",
            "481486\n",
            "86\n"
          ]
        }
      ],
      "source": [
        "key_columns = 'BuKr' # you can change arbitrary column name in the future \n",
        "key_columns_add = 'Eingangssteuer in Fremdw.     '\n",
        "\n",
        "key_separate = 'DE10'\n",
        "\n",
        "begin_index, endin_index = [], []\n",
        "\n",
        "for i in range(len(new_lines)):\n",
        "    if key_columns in new_lines[i] and key_columns_add in new_lines[i]:\n",
        "        begin_index.append(i+2)\n",
        "    if key_separate not in new_lines[i] and key_separate in new_lines[i-1]: \n",
        "        endin_index.append(i)\n",
        "    \n",
        "\n",
        "print(len(begin_index))\n",
        "print(len(endin_index))\n",
        "\n",
        "print(begin_index[0])\n",
        "print(endin_index[0])"
      ]
    },
    {
      "cell_type": "code",
      "execution_count": 68,
      "metadata": {},
      "outputs": [],
      "source": [
        "gap = len(endin_index) - len(begin_index)\n",
        "endin_index = [endin_index[z+gap] for z in range(len(begin_index))]\n"
      ]
    },
    {
      "cell_type": "code",
      "execution_count": 71,
      "metadata": {},
      "outputs": [
        {
          "name": "stdout",
          "output_type": "stream",
          "text": [
            "4731\n",
            "481541\n"
          ]
        }
      ],
      "source": [
        "print(len(endin_index))\n",
        "print(endin_index[0])"
      ]
    },
    {
      "cell_type": "code",
      "execution_count": 73,
      "metadata": {},
      "outputs": [
        {
          "name": "stdout",
          "output_type": "stream",
          "text": [
            "['DE10', ' 1', '2020', '13.01.2020', '13.01.2020', '          ', '4500007321', 'RE ', 'VN', 'VST', ' 19,000', '              2.979,50 ', '                       ', 'EUR  ', '     ', '5521500 ', '2122410   ', 'DE260383605         ', 'ics for automotive GmbH            ', 'DE ', 'Deutschland    ', 'Am Föhrenried 16 ', ' 18              ', 'Baindt                             ', '88255     ', '27.01.2020', '            ', 'Vorsteuer Inland 19%          ', '         566,11 ', '              3.545,61 ', '900165234 ', '         566,11 ', '                              ']\n",
            "33\n"
          ]
        }
      ],
      "source": [
        "print(new_lines[490749])\n",
        "print(len(new_lines[490749]))"
      ]
    }
  ],
  "metadata": {
    "colab": {
      "name": "Untitled2.ipynb",
      "provenance": []
    },
    "kernelspec": {
      "display_name": "Python 3",
      "name": "python3"
    },
    "language_info": {
      "codemirror_mode": {
        "name": "ipython",
        "version": 3
      },
      "file_extension": ".py",
      "mimetype": "text/x-python",
      "name": "python",
      "nbconvert_exporter": "python",
      "pygments_lexer": "ipython3",
      "version": "3.9.7"
    }
  },
  "nbformat": 4,
  "nbformat_minor": 0
}
