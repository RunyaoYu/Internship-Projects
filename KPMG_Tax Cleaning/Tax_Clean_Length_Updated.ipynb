{
  "cells": [
    {
      "cell_type": "code",
      "execution_count": 2,
      "metadata": {
        "id": "sDyArdj_41u_"
      },
      "outputs": [],
      "source": [
        "import numpy as np\n",
        "import pandas as pd\n",
        "import itertools"
      ]
    },
    {
      "cell_type": "code",
      "execution_count": null,
      "metadata": {},
      "outputs": [],
      "source": [
        "encoding='latin1'"
      ]
    },
    {
      "cell_type": "code",
      "execution_count": 15,
      "metadata": {},
      "outputs": [],
      "source": [
        "# these functions are to find the row index of desired data\n",
        "def cut_line(line, cut_symbol = '|'):\n",
        "    cut_list = [l for l in (line).split(cut_symbol)]\n",
        "    if '' in cut_list:\n",
        "        cut_list.remove('')\n",
        "    if '\\n' in cut_list:\n",
        "        cut_list.remove('\\n')\n",
        "    return cut_list\n",
        "\n",
        "\n",
        "def return_new_lines(file_path, key_1, key_2, find_length=False):\n",
        "    with open(file_path, encoding='latin1') as f:\n",
        "        lines = f.readlines()\n",
        "    new_lines = [cut_line(line) for line in lines]\n",
        "\n",
        "    for i in range(len(new_lines)):\n",
        "        if key_1 in new_lines[i] and key_2 in new_lines[i]:\n",
        "            start = i+2\n",
        "            col = i\n",
        "            break\n",
        "            \n",
        "    if find_length:\n",
        "        lengths = [len(ele) for ele in new_lines[start]]\n",
        "    else:\n",
        "        lengths = 'KPMG'\n",
        "    return new_lines, lengths, start, col\n",
        "\n",
        "\n",
        "def store_index(file_path, key_1, key_2, key_3):\n",
        "    new_lines, _, _, _ = return_new_lines(file_path, key_1, key_2, find_length=False)\n",
        "\n",
        "    begin_index, endin_index = [], []\n",
        "    for i in range(len(new_lines)):\n",
        "        if key_1 in new_lines[i] and key_2 in new_lines[i]:\n",
        "            begin_index.append(i+2)\n",
        "        if key_3 not in new_lines[i] and key_3 in new_lines[i-1]: \n",
        "            endin_index.append(i)\n",
        "\n",
        "    if key_2 == 'Eingangssteuer in Fremdw.     ':\n",
        "        gap = len(endin_index) - len(begin_index)\n",
        "        endin_index = [endin_index[z+gap] for z in range(len(begin_index))]\n",
        "\n",
        "    save_index = []\n",
        "    for j in range(len(begin_index)):\n",
        "        temp_save_index = list(range(begin_index[j], endin_index[j]))\n",
        "        save_index.append(temp_save_index)\n",
        "    return save_index\n"
      ]
    },
    {
      "cell_type": "code",
      "execution_count": 25,
      "metadata": {},
      "outputs": [],
      "source": [
        "# these functions are to separate row elements using lengths as the constraint and form dataframe\n",
        "def read_lines(file_path):\n",
        "    with open(file_path,encoding='latin1') as f:\n",
        "        lines = f.readlines()\n",
        "    return lines\n",
        "\n",
        "\n",
        "def separate_row_element(lengths, line):\n",
        "    row = []\n",
        "    count = 1\n",
        "    for i in range(len(lengths)):\n",
        "        row_element = []\n",
        "        for j in range(lengths[i]):\n",
        "            row_element.append(line[count])\n",
        "            count+=1\n",
        "        count+=1\n",
        "        row.append(''.join(row_element))\n",
        "    return row\n",
        "\n",
        "\n",
        "def generate_df(new_lines, col, start, save_index, lines):\n",
        "    temp_list = []\n",
        "    columns = new_lines[col] \n",
        "\n",
        "    for m in range(len(save_index)):\n",
        "        for n in range(len(save_index[m])):\n",
        "            if len(lines[save_index[m][n]]) == len(lines[start]):\n",
        "                line = separate_row_element(lengths, lines[save_index[m][n]])\n",
        "                temp_list.append(line)\n",
        "            else: \n",
        "                print(\"wrong length error: should be: {}, \".format(len(lines[start])), \"current: {}. \" .format(len(lines[save_index[m][n]])), \"row index: {}\" .format(save_index[m][n]))\n",
        "    if key_2 == 'Ausgangssteuer in Fremdw.     ':  \n",
        "        print('for Ausgangssteuer, there are in total {} rows.'.format(len(temp_list)))\n",
        "    else:\n",
        "        print('for Eingangssteuer, there are in total {} rows.'.format(len(temp_list)))\n",
        "    \n",
        "    print('\\n')\n",
        "    df = pd.DataFrame(temp_list, columns=columns)\n",
        "    df.head()\n",
        "    return df"
      ]
    },
    {
      "cell_type": "code",
      "execution_count": 26,
      "metadata": {},
      "outputs": [],
      "source": [
        "# this function is to export dataframe as desired format\n",
        "def export_data(type, df, key_2): # excel or csv\n",
        "    if type == 'excel':\n",
        "        if key_2 == 'Ausgangssteuer in Fremdw.     ':\n",
        "            df.to_excel(\"Ausgangssteuer.xlsx\")\n",
        "        else:\n",
        "            df.to_excel(\"Eingangssteuer.xlsx\")\n",
        "    if type == 'csv':\n",
        "        if key_2 == 'Ausgangssteuer in Fremdw.     ':\n",
        "            df.to_csv(\"Ausgangssteuer.csv\")\n",
        "        else:\n",
        "            df.to_csv(\"Eingangssteuer.csv\")"
      ]
    },
    {
      "cell_type": "code",
      "execution_count": 66,
      "metadata": {},
      "outputs": [],
      "source": [
        "# path of .txt\n",
        "file_path = '/Users/rampageyao/Desktop/KPMG Work/KPMG/Tax_Cleaning/AKW 2020.TXT' \n",
        "\n",
        "# arbitrary symbol from desired classes\n",
        "key_1 = 'BuKr' \n",
        "\n",
        "# options: 'Ausgangssteuer in Fremdw.     ' or 'Eingangssteuer in Fremdw.     '\n",
        "key_2 = 'Ausgangssteuer in Fremdw.     ' \n",
        "\n",
        "# arbitrary symbol from desired data value\n",
        "key_3 = 'DE10' "
      ]
    },
    {
      "cell_type": "code",
      "execution_count": 71,
      "metadata": {},
      "outputs": [
        {
          "name": "stdout",
          "output_type": "stream",
          "text": [
            "[31, 32, 33, 34, 35, 36, 37, 38, 39, 40, 41, 42, 43, 44, 45, 46, 47, 48, 49, 50, 51, 52, 53, 54, 55, 56, 57, 58, 59, 60, 61, 62, 63, 64, 65, 66, 67, 68, 69, 70, 71, 72, 73, 74, 75, 76, 77, 78, 79, 80, 81, 82, 83, 84, 85]\n"
          ]
        }
      ],
      "source": [
        "\n",
        "save_index = store_index(file_path, key_1, key_2, key_3)\n",
        "print(save_index[0])"
      ]
    },
    {
      "cell_type": "code",
      "execution_count": 83,
      "metadata": {},
      "outputs": [
        {
          "name": "stdout",
          "output_type": "stream",
          "text": [
            "[4, 2, 4, 10, 10, 10, 10, 3, 2, 3, 7, 23, 23, 5, 5, 8, 10, 20, 35, 3, 15, 35, 35, 10, 10, 12, 30, 16, 23, 10, 16, 30] 31\n"
          ]
        }
      ],
      "source": [
        "new_lines, lengths, start, col = return_new_lines(file_path, key_1, key_2, find_length=True)\n",
        "print(lengths, start)"
      ]
    },
    {
      "cell_type": "code",
      "execution_count": 35,
      "metadata": {},
      "outputs": [
        {
          "name": "stdout",
          "output_type": "stream",
          "text": [
            "[4, 2, 4, 10, 10, 10, 10, 3, 2, 3, 7, 23, 23, 5, 5, 8, 10, 20, 35, 3, 15, 35, 35, 10, 10, 12, 30, 16, 23, 10, 16, 30]\n",
            "32\n"
          ]
        }
      ],
      "source": [
        "print(lengths)\n",
        "print(len(lengths))"
      ]
    },
    {
      "cell_type": "code",
      "execution_count": 6,
      "metadata": {},
      "outputs": [],
      "source": []
    },
    {
      "cell_type": "code",
      "execution_count": 23,
      "metadata": {},
      "outputs": [],
      "source": [
        "lines = read_lines(file_path)"
      ]
    },
    {
      "cell_type": "code",
      "execution_count": 24,
      "metadata": {},
      "outputs": [
        {
          "name": "stdout",
          "output_type": "stream",
          "text": [
            "|DE10| 1|2020|01.01.2020|01.01.2020|          |1000007940|AB |A9|MWS|  0,000|                  0,01 |                       |EUR  |     |5521100 |1090100   |                    |TUDAWE TRADING COMPANY PVT LTD     |LK |Sri Lanka      |No. 509, Elvitigala Road           |Colombo                            |05        |01.01.2020|            |Ausgangssteuer Ausland steuer |           0,00 |                  0,01 |910373337 |           0,00 |                              |\n",
            "\n"
          ]
        }
      ],
      "source": [
        "print(lines[31])"
      ]
    },
    {
      "cell_type": "code",
      "execution_count": 45,
      "metadata": {},
      "outputs": [
        {
          "name": "stdout",
          "output_type": "stream",
          "text": [
            "|\n",
            "D\n",
            "E\n",
            "473\n"
          ]
        }
      ],
      "source": [
        "print(lines[31][0])\n",
        "print(lines[31][1])\n",
        "print(lines[31][2])\n",
        "print(len(lines[31]))"
      ]
    },
    {
      "cell_type": "code",
      "execution_count": 40,
      "metadata": {},
      "outputs": [
        {
          "name": "stdout",
          "output_type": "stream",
          "text": [
            "['|', 'D', 'E', '1', '0', '|', ' ', '1', '|', '2', '0', '2', '0', '|', '0', '1', '.', '0', '1', '.', '2', '0', '2', '0', '|', '0', '1', '.', '0', '1', '.', '2', '0', '2', '0', '|', ' ', ' ', ' ', ' ', ' ', ' ', ' ', ' ', ' ', ' ', '|', '1', '0', '0', '0', '0', '0', '7', '9', '4', '0', '|', 'A', 'B', ' ', '|', 'A', '9', '|', 'M', 'W', 'S', '|', ' ', ' ', '0', ',', '0', '0', '0', '|', ' ', ' ', ' ', ' ', ' ', ' ', ' ', ' ', ' ', ' ', ' ', ' ', ' ', ' ', ' ', ' ', ' ', ' ', '0', ',', '0', '1', ' ', '|', ' ', ' ', ' ', ' ', ' ', ' ', ' ', ' ', ' ', ' ', ' ', ' ', ' ', ' ', ' ', ' ', ' ', ' ', ' ', ' ', ' ', ' ', ' ', '|', 'E', 'U', 'R', ' ', ' ', '|', ' ', ' ', ' ', ' ', ' ', '|', '5', '5', '2', '1', '1', '0', '0', ' ', '|', '1', '0', '9', '0', '1', '0', '0', ' ', ' ', ' ', '|', ' ', ' ', ' ', ' ', ' ', ' ', ' ', ' ', ' ', ' ', ' ', ' ', ' ', ' ', ' ', ' ', ' ', ' ', ' ', ' ', '|', 'T', 'U', 'D', 'A', 'W', 'E', ' ', 'T', 'R', 'A', 'D', 'I', 'N', 'G', ' ', 'C', 'O', 'M', 'P', 'A', 'N', 'Y', ' ', 'P', 'V', 'T', ' ', 'L', 'T', 'D', ' ', ' ', ' ', ' ', ' ', '|', 'L', 'K', ' ', '|', 'S', 'r', 'i', ' ', 'L', 'a', 'n', 'k', 'a', ' ', ' ', ' ', ' ', ' ', ' ', '|', 'N', 'o', '.', ' ', '5', '0', '9', ',', ' ', 'E', 'l', 'v', 'i', 't', 'i', 'g', 'a', 'l', 'a', ' ', 'R', 'o', 'a', 'd', ' ', ' ', ' ', ' ', ' ', ' ', ' ', ' ', ' ', ' ', ' ', '|', 'C', 'o', 'l', 'o', 'm', 'b', 'o', ' ', ' ', ' ', ' ', ' ', ' ', ' ', ' ', ' ', ' ', ' ', ' ', ' ', ' ', ' ', ' ', ' ', ' ', ' ', ' ', ' ', ' ', ' ', ' ', ' ', ' ', ' ', ' ', '|', '0', '5', ' ', ' ', ' ', ' ', ' ', ' ', ' ', ' ', '|', '0', '1', '.', '0', '1', '.', '2', '0', '2', '0', '|', ' ', ' ', ' ', ' ', ' ', ' ', ' ', ' ', ' ', ' ', ' ', ' ', '|', 'A', 'u', 's', 'g', 'a', 'n', 'g', 's', 's', 't', 'e', 'u', 'e', 'r', ' ', 'A', 'u', 's', 'l', 'a', 'n', 'd', ' ', 's', 't', 'e', 'u', 'e', 'r', ' ', '|', ' ', ' ', ' ', ' ', ' ', ' ', ' ', ' ', ' ', ' ', ' ', '0', ',', '0', '0', ' ', '|', ' ', ' ', ' ', ' ', ' ', ' ', ' ', ' ', ' ', ' ', ' ', ' ', ' ', ' ', ' ', ' ', ' ', ' ', '0', ',', '0', '1', ' ', '|', '9', '1', '0', '3', '7', '3', '3', '3', '7', ' ', '|', ' ', ' ', ' ', ' ', ' ', ' ', ' ', ' ', ' ', ' ', ' ', '0', ',', '0', '0', ' ', '|', ' ', ' ', ' ', ' ', ' ', ' ', ' ', ' ', ' ', ' ', ' ', ' ', ' ', ' ', ' ', ' ', ' ', ' ', ' ', ' ', ' ', ' ', ' ', ' ', ' ', ' ', ' ', ' ', ' ', ' ', '|', '\\n']\n",
            "\n",
            "\n",
            "|DE10| 1|2020|01.01.2020|01.01.2020|          |1000007940|AB |A9|MWS|  0,000|                  0,01 |                       |EUR  |     |5521100 |1090100   |                    |TUDAWE TRADING COMPANY PVT LTD     |LK |Sri Lanka      |No. 509, Elvitigala Road           |Colombo                            |05        |01.01.2020|            |Ausgangssteuer Ausland steuer |           0,00 |                  0,01 |910373337 |           0,00 |                              |\n",
            "\n"
          ]
        }
      ],
      "source": [
        "test_row = []\n",
        "test_row = [ele for ele in lines[31]]\n",
        "print(test_row)\n",
        "print('\\n')\n",
        "print(''.join(test_row))"
      ]
    },
    {
      "cell_type": "code",
      "execution_count": 79,
      "metadata": {},
      "outputs": [],
      "source": [
        "row = separate_row_element(lengths, lines[31])"
      ]
    },
    {
      "cell_type": "code",
      "execution_count": 80,
      "metadata": {},
      "outputs": [
        {
          "name": "stdout",
          "output_type": "stream",
          "text": [
            "['DE10', ' 1', '2020', '01.01.2020', '01.01.2020', '          ', '1000007940', 'AB ', 'A9', 'MWS', '  0,000', '                  0,01 ', '                       ', 'EUR  ', '     ', '5521100 ', '1090100   ', '                    ', 'TUDAWE TRADING COMPANY PVT LTD     ', 'LK ', 'Sri Lanka      ', 'No. 509, Elvitigala Road           ', 'Colombo                            ', '05        ', '01.01.2020', '            ', 'Ausgangssteuer Ausland steuer ', '           0,00 ', '                  0,01 ', '910373337 ', '           0,00 ', '                              ']\n"
          ]
        }
      ],
      "source": [
        "print(row)"
      ]
    },
    {
      "cell_type": "code",
      "execution_count": 84,
      "metadata": {},
      "outputs": [
        {
          "name": "stdout",
          "output_type": "stream",
          "text": [
            "['BuKr', ' M', 'Jahr', 'Buch.dat. ', 'Belegdatum', 'Meldedatum', 'Belegnr   ', 'Art', 'St', 'Vor', 'Satz   ', '      Steuerbasisbetrag', ' Basisbetrag in Fremdw.', 'Währ ', 'FWähr', 'Steuerk.', 'Hauptbuch ', 'Umsatzsteuer-Id.Nr  ', 'Geschäftspartnername               ', 'ISO', 'Land           ', 'Straße                             ', 'Ort                                ', 'Postleitz.', 'Ausgleich ', '  UmrechKurs', 'Beschreibung                  ', 'abzuf. Ausg. St.', '           Bruttobetrag', 'Debitor   ', '  Ausgangssteuer', 'Ausgangssteuer in Fremdw.     ']\n"
          ]
        }
      ],
      "source": [
        "print(new_lines[col] )"
      ]
    },
    {
      "cell_type": "code",
      "execution_count": 87,
      "metadata": {},
      "outputs": [
        {
          "ename": "IndexError",
          "evalue": "string index out of range",
          "output_type": "error",
          "traceback": [
            "\u001b[0;31m---------------------------------------------------------------------------\u001b[0m",
            "\u001b[0;31mIndexError\u001b[0m                                Traceback (most recent call last)",
            "\u001b[0;32m<ipython-input-87-ae5182fcb722>\u001b[0m in \u001b[0;36m<module>\u001b[0;34m\u001b[0m\n\u001b[1;32m      4\u001b[0m \u001b[0;32mfor\u001b[0m \u001b[0mm\u001b[0m \u001b[0;32min\u001b[0m \u001b[0mrange\u001b[0m\u001b[0;34m(\u001b[0m\u001b[0mlen\u001b[0m\u001b[0;34m(\u001b[0m\u001b[0msave_index\u001b[0m\u001b[0;34m)\u001b[0m\u001b[0;34m)\u001b[0m\u001b[0;34m:\u001b[0m\u001b[0;34m\u001b[0m\u001b[0;34m\u001b[0m\u001b[0m\n\u001b[1;32m      5\u001b[0m     \u001b[0;32mfor\u001b[0m \u001b[0mn\u001b[0m \u001b[0;32min\u001b[0m \u001b[0mrange\u001b[0m\u001b[0;34m(\u001b[0m\u001b[0mlen\u001b[0m\u001b[0;34m(\u001b[0m\u001b[0msave_index\u001b[0m\u001b[0;34m[\u001b[0m\u001b[0mm\u001b[0m\u001b[0;34m]\u001b[0m\u001b[0;34m)\u001b[0m\u001b[0;34m)\u001b[0m\u001b[0;34m:\u001b[0m\u001b[0;34m\u001b[0m\u001b[0;34m\u001b[0m\u001b[0m\n\u001b[0;32m----> 6\u001b[0;31m         \u001b[0mline\u001b[0m \u001b[0;34m=\u001b[0m \u001b[0mseparate_row_element\u001b[0m\u001b[0;34m(\u001b[0m\u001b[0mlengths\u001b[0m\u001b[0;34m,\u001b[0m \u001b[0mlines\u001b[0m\u001b[0;34m[\u001b[0m\u001b[0msave_index\u001b[0m\u001b[0;34m[\u001b[0m\u001b[0mm\u001b[0m\u001b[0;34m]\u001b[0m\u001b[0;34m[\u001b[0m\u001b[0mn\u001b[0m\u001b[0;34m]\u001b[0m\u001b[0;34m]\u001b[0m\u001b[0;34m)\u001b[0m\u001b[0;34m\u001b[0m\u001b[0;34m\u001b[0m\u001b[0m\n\u001b[0m\u001b[1;32m      7\u001b[0m         \u001b[0mtemp_list\u001b[0m\u001b[0;34m.\u001b[0m\u001b[0mappend\u001b[0m\u001b[0;34m(\u001b[0m\u001b[0mline\u001b[0m\u001b[0;34m)\u001b[0m\u001b[0;34m\u001b[0m\u001b[0;34m\u001b[0m\u001b[0m\n\u001b[1;32m      8\u001b[0m         \u001b[0;31m#print(save_index[m][n])\u001b[0m\u001b[0;34m\u001b[0m\u001b[0;34m\u001b[0m\u001b[0;34m\u001b[0m\u001b[0m\n",
            "\u001b[0;32m<ipython-input-78-0e429957af0e>\u001b[0m in \u001b[0;36mseparate_row_element\u001b[0;34m(lengths, line)\u001b[0m\n\u001b[1;32m      5\u001b[0m         \u001b[0mrow_element\u001b[0m \u001b[0;34m=\u001b[0m \u001b[0;34m[\u001b[0m\u001b[0;34m]\u001b[0m\u001b[0;34m\u001b[0m\u001b[0;34m\u001b[0m\u001b[0m\n\u001b[1;32m      6\u001b[0m         \u001b[0;32mfor\u001b[0m \u001b[0mj\u001b[0m \u001b[0;32min\u001b[0m \u001b[0mrange\u001b[0m\u001b[0;34m(\u001b[0m\u001b[0mlengths\u001b[0m\u001b[0;34m[\u001b[0m\u001b[0mi\u001b[0m\u001b[0;34m]\u001b[0m\u001b[0;34m)\u001b[0m\u001b[0;34m:\u001b[0m\u001b[0;34m\u001b[0m\u001b[0;34m\u001b[0m\u001b[0m\n\u001b[0;32m----> 7\u001b[0;31m             \u001b[0mrow_element\u001b[0m\u001b[0;34m.\u001b[0m\u001b[0mappend\u001b[0m\u001b[0;34m(\u001b[0m\u001b[0mline\u001b[0m\u001b[0;34m[\u001b[0m\u001b[0mcount\u001b[0m\u001b[0;34m]\u001b[0m\u001b[0;34m)\u001b[0m\u001b[0;34m\u001b[0m\u001b[0;34m\u001b[0m\u001b[0m\n\u001b[0m\u001b[1;32m      8\u001b[0m             \u001b[0mcount\u001b[0m\u001b[0;34m+=\u001b[0m\u001b[0;36m1\u001b[0m\u001b[0;34m\u001b[0m\u001b[0;34m\u001b[0m\u001b[0m\n\u001b[1;32m      9\u001b[0m         \u001b[0mcount\u001b[0m\u001b[0;34m+=\u001b[0m\u001b[0;36m1\u001b[0m\u001b[0;34m\u001b[0m\u001b[0;34m\u001b[0m\u001b[0m\n",
            "\u001b[0;31mIndexError\u001b[0m: string index out of range"
          ]
        }
      ],
      "source": [
        "temp_list = []\n",
        "columns = new_lines[col] \n",
        "\n",
        "for m in range(len(save_index)):\n",
        "    for n in range(len(save_index[m])):\n",
        "        line = separate_row_element(lengths, lines[save_index[m][n]])\n",
        "        temp_list.append(line)\n",
        "        #print(save_index[m][n])\n",
        "if key_2 == 'Ausgangssteuer in Fremdw.     ':  \n",
        "    print('for Ausgangssteuer, there are totoal {} rows.'.format(len(temp_list)))\n",
        "else:\n",
        "    print('for Eingangssteuer, there are totoal {} rows.'.format(len(temp_list)))\n",
        "\n",
        "df = pd.DataFrame(temp_list, columns=columns)"
      ]
    },
    {
      "cell_type": "code",
      "execution_count": 92,
      "metadata": {},
      "outputs": [
        {
          "name": "stdout",
          "output_type": "stream",
          "text": [
            "['DE10', ' 1', '2020', '28.01.2020', '28.01.2020', '          ', '4500020444', 'RE ', 'E9', 'ESA', ' 19,000', '                792,00-', '                       ', 'EUR  ', '     ', '5521200 ', '5000000   ', 'IT01069540332       ', 'Escar S.r.l.                       ', 'IT ', 'Italien        ', 'Via Rossetti 4                     ', 'Cortemaggiore (PC)                 ', '29016     ', '26.02.2020', '            ', 'Reverse Charge 19 % (§13b Ste ', '         150,48-', '                942,48-', '9105890   ', '         150,48-', '                              ']\n",
            "32\n"
          ]
        }
      ],
      "source": [
        "line = separate_row_element(lengths, lines[31915])\n",
        "print(line)\n",
        "print(len(line))"
      ]
    },
    {
      "cell_type": "code",
      "execution_count": 94,
      "metadata": {},
      "outputs": [
        {
          "name": "stdout",
          "output_type": "stream",
          "text": [
            "|DE10| 1|2020|28.01.2020|28.01.2020|          |4500020444|RE |E9|ESA| 19,000|                792,00-|                       |EUR  |     |5521200 |5000000   |IT01069540332       |Escar S.r.l.                       |IT |Italien        |Via Rossetti 4                     |Cortemaggiore (PC)                 |29016     |26.02.2020|            |Reverse Charge 19 % (§13b Ste |         150,48-|                942,48-|9105890   |         150,48-|                              |\n",
            "\n",
            "473\n"
          ]
        }
      ],
      "source": [
        "line = lines[31915]\n",
        "print(line)\n",
        "print(len(line))"
      ]
    },
    {
      "cell_type": "code",
      "execution_count": 93,
      "metadata": {},
      "outputs": [
        {
          "name": "stdout",
          "output_type": "stream",
          "text": [
            "|DE10| 1|2020|29.01.2020|29.01.2020|          |300009728 |NA |Z4|MWS|  0,000|                435,43-|              3.324,00-|EUR  |CNY  |5521100 |2099840   |                    |Hangzhou  ############ |CN |China          | No.11 Ave No.1,                   |Hangzhou                           |310018    |29.07.2020| 7,63380    |Ausgangs-Dienstleistung 0% (D |           0,00 |                435,43-|9113574   |           0,00 |                              |\n",
            "\n",
            "461\n"
          ]
        }
      ],
      "source": [
        "line = lines[31916]\n",
        "print(line)\n",
        "print(len(line))"
      ]
    },
    {
      "cell_type": "code",
      "execution_count": 97,
      "metadata": {},
      "outputs": [
        {
          "name": "stdout",
          "output_type": "stream",
          "text": [
            "wrong length error: should be: 473,  current: 461 index: 31916\n",
            "wrong length error: should be: 473,  current: 461 index: 93713\n",
            "wrong length error: should be: 473,  current: 461 index: 369760\n",
            "wrong length error: should be: 473,  current: 461 index: 369761\n",
            "wrong length error: should be: 473,  current: 461 index: 369762\n",
            "wrong length error: should be: 473,  current: 461 index: 369763\n",
            "wrong length error: should be: 473,  current: 461 index: 444496\n",
            "for Ausgangssteuer, there are totoal 413741 rows.\n"
          ]
        },
        {
          "data": {
            "text/html": [
              "<div>\n",
              "<style scoped>\n",
              "    .dataframe tbody tr th:only-of-type {\n",
              "        vertical-align: middle;\n",
              "    }\n",
              "\n",
              "    .dataframe tbody tr th {\n",
              "        vertical-align: top;\n",
              "    }\n",
              "\n",
              "    .dataframe thead th {\n",
              "        text-align: right;\n",
              "    }\n",
              "</style>\n",
              "<table border=\"1\" class=\"dataframe\">\n",
              "  <thead>\n",
              "    <tr style=\"text-align: right;\">\n",
              "      <th></th>\n",
              "      <th>BuKr</th>\n",
              "      <th>M</th>\n",
              "      <th>Jahr</th>\n",
              "      <th>Buch.dat.</th>\n",
              "      <th>Belegdatum</th>\n",
              "      <th>Meldedatum</th>\n",
              "      <th>Belegnr</th>\n",
              "      <th>Art</th>\n",
              "      <th>St</th>\n",
              "      <th>Vor</th>\n",
              "      <th>...</th>\n",
              "      <th>Ort</th>\n",
              "      <th>Postleitz.</th>\n",
              "      <th>Ausgleich</th>\n",
              "      <th>UmrechKurs</th>\n",
              "      <th>Beschreibung</th>\n",
              "      <th>abzuf. Ausg. St.</th>\n",
              "      <th>Bruttobetrag</th>\n",
              "      <th>Debitor</th>\n",
              "      <th>Ausgangssteuer</th>\n",
              "      <th>Ausgangssteuer in Fremdw.</th>\n",
              "    </tr>\n",
              "  </thead>\n",
              "  <tbody>\n",
              "    <tr>\n",
              "      <th>0</th>\n",
              "      <td>DE10</td>\n",
              "      <td>1</td>\n",
              "      <td>2020</td>\n",
              "      <td>01.01.2020</td>\n",
              "      <td>01.01.2020</td>\n",
              "      <td></td>\n",
              "      <td>1000007940</td>\n",
              "      <td>AB</td>\n",
              "      <td>A9</td>\n",
              "      <td>MWS</td>\n",
              "      <td>...</td>\n",
              "      <td>Colombo</td>\n",
              "      <td>05</td>\n",
              "      <td>01.01.2020</td>\n",
              "      <td></td>\n",
              "      <td>Ausgangssteuer Ausland steuer</td>\n",
              "      <td>0,00</td>\n",
              "      <td>0,01</td>\n",
              "      <td>910373337</td>\n",
              "      <td>0,00</td>\n",
              "      <td></td>\n",
              "    </tr>\n",
              "    <tr>\n",
              "      <th>1</th>\n",
              "      <td>DE10</td>\n",
              "      <td>1</td>\n",
              "      <td>2020</td>\n",
              "      <td>01.01.2020</td>\n",
              "      <td>01.01.2020</td>\n",
              "      <td></td>\n",
              "      <td>1000018044</td>\n",
              "      <td>AB</td>\n",
              "      <td>A9</td>\n",
              "      <td>MWS</td>\n",
              "      <td>...</td>\n",
              "      <td>Dhaka</td>\n",
              "      <td>1207</td>\n",
              "      <td>01.01.2020</td>\n",
              "      <td></td>\n",
              "      <td>Ausgangssteuer Ausland steuer</td>\n",
              "      <td>0,00</td>\n",
              "      <td>0,01</td>\n",
              "      <td>910451709</td>\n",
              "      <td>0,00</td>\n",
              "      <td></td>\n",
              "    </tr>\n",
              "    <tr>\n",
              "      <th>2</th>\n",
              "      <td>DE10</td>\n",
              "      <td>1</td>\n",
              "      <td>2020</td>\n",
              "      <td>01.01.2020</td>\n",
              "      <td>01.01.2020</td>\n",
              "      <td></td>\n",
              "      <td>1000018045</td>\n",
              "      <td>AB</td>\n",
              "      <td>A9</td>\n",
              "      <td>MWS</td>\n",
              "      <td>...</td>\n",
              "      <td>Dhaka</td>\n",
              "      <td>1207</td>\n",
              "      <td>23.01.2020</td>\n",
              "      <td></td>\n",
              "      <td>Ausgangssteuer Ausland steuer</td>\n",
              "      <td>0,00</td>\n",
              "      <td>0,99-</td>\n",
              "      <td>910451709</td>\n",
              "      <td>0,00</td>\n",
              "      <td></td>\n",
              "    </tr>\n",
              "    <tr>\n",
              "      <th>3</th>\n",
              "      <td>DE10</td>\n",
              "      <td>1</td>\n",
              "      <td>2020</td>\n",
              "      <td>01.01.2020</td>\n",
              "      <td>01.01.2020</td>\n",
              "      <td></td>\n",
              "      <td>1200000012</td>\n",
              "      <td>YC</td>\n",
              "      <td>AZ</td>\n",
              "      <td>MWS</td>\n",
              "      <td>...</td>\n",
              "      <td></td>\n",
              "      <td></td>\n",
              "      <td></td>\n",
              "      <td></td>\n",
              "      <td>Kein Steuervorgang (SD)</td>\n",
              "      <td>0,00</td>\n",
              "      <td>89.248,77-</td>\n",
              "      <td></td>\n",
              "      <td>0,00</td>\n",
              "      <td></td>\n",
              "    </tr>\n",
              "    <tr>\n",
              "      <th>4</th>\n",
              "      <td>DE10</td>\n",
              "      <td>1</td>\n",
              "      <td>2020</td>\n",
              "      <td>01.01.2020</td>\n",
              "      <td>01.01.2020</td>\n",
              "      <td></td>\n",
              "      <td>1200000014</td>\n",
              "      <td>YC</td>\n",
              "      <td>AZ</td>\n",
              "      <td>MWS</td>\n",
              "      <td>...</td>\n",
              "      <td>Winnenden</td>\n",
              "      <td>71364</td>\n",
              "      <td>17.02.2020</td>\n",
              "      <td></td>\n",
              "      <td>Kein Steuervorgang (SD)</td>\n",
              "      <td>0,00</td>\n",
              "      <td>5.017,91-</td>\n",
              "      <td>920377020</td>\n",
              "      <td>0,00</td>\n",
              "      <td></td>\n",
              "    </tr>\n",
              "  </tbody>\n",
              "</table>\n",
              "<p>5 rows × 32 columns</p>\n",
              "</div>"
            ],
            "text/plain": [
              "   BuKr   M  Jahr  Buch.dat.   Belegdatum  Meldedatum  Belegnr     Art  St  \\\n",
              "0  DE10   1  2020  01.01.2020  01.01.2020              1000007940  AB   A9   \n",
              "1  DE10   1  2020  01.01.2020  01.01.2020              1000018044  AB   A9   \n",
              "2  DE10   1  2020  01.01.2020  01.01.2020              1000018045  AB   A9   \n",
              "3  DE10   1  2020  01.01.2020  01.01.2020              1200000012  YC   AZ   \n",
              "4  DE10   1  2020  01.01.2020  01.01.2020              1200000014  YC   AZ   \n",
              "\n",
              "   Vor  ...  Ort                                  Postleitz.  Ausgleich   \\\n",
              "0  MWS  ...  Colombo                              05          01.01.2020   \n",
              "1  MWS  ...  Dhaka                                1207        01.01.2020   \n",
              "2  MWS  ...  Dhaka                                1207        23.01.2020   \n",
              "3  MWS  ...                                                                \n",
              "4  MWS  ...  Winnenden                            71364       17.02.2020   \n",
              "\n",
              "     UmrechKurs  Beschreibung                    abzuf. Ausg. St.  \\\n",
              "0                Ausgangssteuer Ausland steuer              0,00    \n",
              "1                Ausgangssteuer Ausland steuer              0,00    \n",
              "2                Ausgangssteuer Ausland steuer              0,00    \n",
              "3                Kein Steuervorgang (SD)                    0,00    \n",
              "4                Kein Steuervorgang (SD)                    0,00    \n",
              "\n",
              "              Bruttobetrag  Debitor       Ausgangssteuer  \\\n",
              "0                    0,01   910373337              0,00    \n",
              "1                    0,01   910451709              0,00    \n",
              "2                    0,99-  910451709              0,00    \n",
              "3               89.248,77-                         0,00    \n",
              "4                5.017,91-  920377020              0,00    \n",
              "\n",
              "   Ausgangssteuer in Fremdw.       \n",
              "0                                  \n",
              "1                                  \n",
              "2                                  \n",
              "3                                  \n",
              "4                                  \n",
              "\n",
              "[5 rows x 32 columns]"
            ]
          },
          "execution_count": 97,
          "metadata": {},
          "output_type": "execute_result"
        }
      ],
      "source": [
        "df = generate_df(new_lines, col, start, save_index)\n",
        "df.head()"
      ]
    },
    {
      "cell_type": "code",
      "execution_count": null,
      "metadata": {},
      "outputs": [],
      "source": []
    },
    {
      "cell_type": "code",
      "execution_count": null,
      "metadata": {},
      "outputs": [],
      "source": []
    },
    {
      "cell_type": "markdown",
      "metadata": {},
      "source": [
        "**now run them together**\n",
        "\n",
        "remember there are two types, i.e., Augangssteuer & Eingangssteuer"
      ]
    },
    {
      "cell_type": "code",
      "execution_count": 27,
      "metadata": {},
      "outputs": [],
      "source": [
        "# path of .txt\n",
        "file_path = '/Users/rampageyao/Desktop/KPMG Work/KPMG/Tax_Cleaning/AKW 2020.TXT' \n",
        "\n",
        "# arbitrary symbol from desired classes\n",
        "key_1 = 'BuKr' \n",
        "\n",
        "# options: 'Ausgangssteuer in Fremdw.     ' or 'Eingangssteuer in Fremdw.     '\n",
        "key_2 = 'Ausgangssteuer in Fremdw.     ' \n",
        "\n",
        "# arbitrary symbol from desired data value\n",
        "key_3 = 'DE10' \n",
        "\n",
        "# options: 'csv' or 'excel'\n",
        "Type = 'csv'"
      ]
    },
    {
      "cell_type": "code",
      "execution_count": 28,
      "metadata": {},
      "outputs": [
        {
          "name": "stdout",
          "output_type": "stream",
          "text": [
            "wrong length error: should be: 473,  current: 461 row index: 31916\n",
            "wrong length error: should be: 473,  current: 461 row index: 93713\n",
            "wrong length error: should be: 473,  current: 461 row index: 369760\n",
            "wrong length error: should be: 473,  current: 461 row index: 369761\n",
            "wrong length error: should be: 473,  current: 461 row index: 369762\n",
            "wrong length error: should be: 473,  current: 461 row index: 369763\n",
            "wrong length error: should be: 473,  current: 461 row index: 444496\n",
            "for Ausgangssteuer, there are totoal 413741 rows.\n",
            "\n",
            "\n"
          ]
        }
      ],
      "source": [
        "save_index = store_index(file_path, key_1, key_2, key_3)\n",
        "new_lines, lengths, start, col = return_new_lines(file_path, key_1, key_2, find_length=True)\n",
        "lines = read_lines(file_path)\n",
        "df = generate_df(new_lines, col, start, save_index, lines)\n",
        "export_data(Type, df, key_2)"
      ]
    },
    {
      "cell_type": "code",
      "execution_count": 29,
      "metadata": {},
      "outputs": [],
      "source": [
        "# path of .txt\n",
        "file_path = '/Users/rampageyao/Desktop/KPMG Work/KPMG/Tax_Cleaning/AKW 2020.TXT' \n",
        "\n",
        "# arbitrary symbol from desired classes\n",
        "key_1 = 'BuKr' \n",
        "\n",
        "# options: 'Ausgangssteuer in Fremdw.     ' or 'Eingangssteuer in Fremdw.     '\n",
        "key_2 = 'Eingangssteuer in Fremdw.     ' \n",
        "\n",
        "# arbitrary symbol from desired data value\n",
        "key_3 = 'DE10' \n",
        "\n",
        "# options: 'csv' or 'excel'\n",
        "Type = 'csv'"
      ]
    },
    {
      "cell_type": "code",
      "execution_count": 30,
      "metadata": {},
      "outputs": [
        {
          "name": "stdout",
          "output_type": "stream",
          "text": [
            "wrong length error: should be: 473,  current: 454 row index: 546141\n",
            "wrong length error: should be: 473,  current: 454 row index: 546478\n",
            "wrong length error: should be: 473,  current: 461 row index: 611202\n",
            "wrong length error: should be: 473,  current: 454 row index: 617188\n",
            "wrong length error: should be: 473,  current: 461 row index: 640120\n",
            "wrong length error: should be: 473,  current: 461 row index: 716074\n",
            "wrong length error: should be: 473,  current: 461 row index: 724497\n",
            "wrong length error: should be: 473,  current: 461 row index: 728511\n",
            "wrong length error: should be: 473,  current: 461 row index: 728513\n",
            "wrong length error: should be: 473,  current: 461 row index: 728514\n",
            "wrong length error: should be: 473,  current: 461 row index: 728515\n",
            "wrong length error: should be: 473,  current: 461 row index: 728516\n",
            "wrong length error: should be: 473,  current: 461 row index: 747088\n",
            "wrong length error: should be: 473,  current: 461 row index: 755966\n",
            "wrong length error: should be: 473,  current: 461 row index: 755969\n",
            "wrong length error: should be: 473,  current: 461 row index: 766650\n",
            "wrong length error: should be: 473,  current: 460 row index: 776051\n",
            "wrong length error: should be: 473,  current: 461 row index: 779906\n",
            "wrong length error: should be: 473,  current: 461 row index: 779908\n",
            "for Eingangssteuer, there are totoal 260185 rows.\n",
            "\n",
            "\n"
          ]
        }
      ],
      "source": [
        "save_index = store_index(file_path, key_1, key_2, key_3)\n",
        "new_lines, lengths, start, col = return_new_lines(file_path, key_1, key_2, find_length=True)\n",
        "lines = read_lines(file_path)\n",
        "df = generate_df(new_lines, col, start, save_index, lines)\n",
        "export_data(Type, df, key_2)"
      ]
    }
  ],
  "metadata": {
    "colab": {
      "name": "Untitled2.ipynb",
      "provenance": []
    },
    "interpreter": {
      "hash": "092bf18aecc55aef496ffbc6cc353c2203dc3161741cf495c00395ce4a3c9d87"
    },
    "kernelspec": {
      "display_name": "Python 3.8.8 64-bit ('base': conda)",
      "name": "python3"
    },
    "language_info": {
      "name": "python",
      "version": ""
    }
  },
  "nbformat": 4,
  "nbformat_minor": 0
}