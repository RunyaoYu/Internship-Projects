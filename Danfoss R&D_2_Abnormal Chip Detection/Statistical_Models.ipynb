{
  "cells": [
    {
      "cell_type": "code",
      "execution_count": 55,
      "metadata": {
        "id": "Z1271thXZo1b"
      },
      "outputs": [],
      "source": [
        "import numpy as np\n",
        "import pandas as pd\n",
        "import matplotlib.pyplot as plt\n",
        "import seaborn as sns\n",
        "from sklearn.model_selection import train_test_split, GridSearchCV\n",
        "from sklearn.preprocessing import StandardScaler\n",
        "from sklearn.pipeline import Pipeline\n",
        "from sklearn.metrics import confusion_matrix, accuracy_score\n",
        "from imblearn.over_sampling import RandomOverSampler\n",
        "from sklearn.linear_model import LogisticRegression\n",
        "from sklearn.svm import SVC\n",
        "from sklearn.decomposition import PCA\n",
        "from sklearn.ensemble import RandomForestClassifier\n",
        "from xgboost import XGBClassifier\n",
        "from sklearn.metrics import classification_report\n",
        "import joblib"
      ]
    },
    {
      "cell_type": "code",
      "execution_count": 56,
      "metadata": {},
      "outputs": [
        {
          "data": {
            "text/html": [
              "<div>\n",
              "<style scoped>\n",
              "    .dataframe tbody tr th:only-of-type {\n",
              "        vertical-align: middle;\n",
              "    }\n",
              "\n",
              "    .dataframe tbody tr th {\n",
              "        vertical-align: top;\n",
              "    }\n",
              "\n",
              "    .dataframe thead th {\n",
              "        text-align: right;\n",
              "    }\n",
              "</style>\n",
              "<table border=\"1\" class=\"dataframe\">\n",
              "  <thead>\n",
              "    <tr style=\"text-align: right;\">\n",
              "      <th></th>\n",
              "      <th>Unnamed: 0</th>\n",
              "      <th>Unnamed: 0.1</th>\n",
              "      <th>Start_Vgs</th>\n",
              "      <th>End_Vgs</th>\n",
              "      <th>Mean_Vgs</th>\n",
              "      <th>Max_Vgs</th>\n",
              "      <th>Min_Vgs</th>\n",
              "      <th>AutoCorr_Mean_Vgs</th>\n",
              "      <th>Energy_Vgs</th>\n",
              "      <th>label</th>\n",
              "    </tr>\n",
              "  </thead>\n",
              "  <tbody>\n",
              "    <tr>\n",
              "      <th>0</th>\n",
              "      <td>0</td>\n",
              "      <td>ScopeData_135L0636_155020200_T2_100_2447_0_1_D...</td>\n",
              "      <td>-4.289999</td>\n",
              "      <td>-3.68</td>\n",
              "      <td>-4.047227</td>\n",
              "      <td>-0.86</td>\n",
              "      <td>-8.020000</td>\n",
              "      <td>12293.736527</td>\n",
              "      <td>-0.000012</td>\n",
              "      <td>1</td>\n",
              "    </tr>\n",
              "    <tr>\n",
              "      <th>1</th>\n",
              "      <td>1</td>\n",
              "      <td>ScopeData_135L0636_155020200_T2_101_2448_0_1_D...</td>\n",
              "      <td>-4.190000</td>\n",
              "      <td>-3.68</td>\n",
              "      <td>-4.028073</td>\n",
              "      <td>0.10</td>\n",
              "      <td>-8.940000</td>\n",
              "      <td>12177.819805</td>\n",
              "      <td>-0.000012</td>\n",
              "      <td>1</td>\n",
              "    </tr>\n",
              "    <tr>\n",
              "      <th>2</th>\n",
              "      <td>2</td>\n",
              "      <td>ScopeData_135L0636_155020200_T2_102_2449_0_1_D...</td>\n",
              "      <td>-4.140000</td>\n",
              "      <td>-3.60</td>\n",
              "      <td>-3.960613</td>\n",
              "      <td>-2.16</td>\n",
              "      <td>-6.730000</td>\n",
              "      <td>11773.011529</td>\n",
              "      <td>-0.000012</td>\n",
              "      <td>1</td>\n",
              "    </tr>\n",
              "    <tr>\n",
              "      <th>3</th>\n",
              "      <td>3</td>\n",
              "      <td>ScopeData_135L0636_155020200_T2_103_2450_0_1_D...</td>\n",
              "      <td>-4.220000</td>\n",
              "      <td>-3.62</td>\n",
              "      <td>-4.014753</td>\n",
              "      <td>-0.09</td>\n",
              "      <td>-8.629999</td>\n",
              "      <td>12097.391208</td>\n",
              "      <td>-0.000012</td>\n",
              "      <td>1</td>\n",
              "    </tr>\n",
              "    <tr>\n",
              "      <th>4</th>\n",
              "      <td>4</td>\n",
              "      <td>ScopeData_135L0636_155020200_T2_103_2493_1_1_D...</td>\n",
              "      <td>-4.180000</td>\n",
              "      <td>-3.66</td>\n",
              "      <td>-4.026740</td>\n",
              "      <td>0.04</td>\n",
              "      <td>-9.240000</td>\n",
              "      <td>12169.757789</td>\n",
              "      <td>-0.000012</td>\n",
              "      <td>1</td>\n",
              "    </tr>\n",
              "  </tbody>\n",
              "</table>\n",
              "</div>"
            ],
            "text/plain": [
              "   Unnamed: 0                                       Unnamed: 0.1  Start_Vgs  \\\n",
              "0           0  ScopeData_135L0636_155020200_T2_100_2447_0_1_D...  -4.289999   \n",
              "1           1  ScopeData_135L0636_155020200_T2_101_2448_0_1_D...  -4.190000   \n",
              "2           2  ScopeData_135L0636_155020200_T2_102_2449_0_1_D...  -4.140000   \n",
              "3           3  ScopeData_135L0636_155020200_T2_103_2450_0_1_D...  -4.220000   \n",
              "4           4  ScopeData_135L0636_155020200_T2_103_2493_1_1_D...  -4.180000   \n",
              "\n",
              "   End_Vgs  Mean_Vgs  Max_Vgs   Min_Vgs  AutoCorr_Mean_Vgs  Energy_Vgs  label  \n",
              "0    -3.68 -4.047227    -0.86 -8.020000       12293.736527   -0.000012      1  \n",
              "1    -3.68 -4.028073     0.10 -8.940000       12177.819805   -0.000012      1  \n",
              "2    -3.60 -3.960613    -2.16 -6.730000       11773.011529   -0.000012      1  \n",
              "3    -3.62 -4.014753    -0.09 -8.629999       12097.391208   -0.000012      1  \n",
              "4    -3.66 -4.026740     0.04 -9.240000       12169.757789   -0.000012      1  "
            ]
          },
          "execution_count": 56,
          "metadata": {},
          "output_type": "execute_result"
        }
      ],
      "source": [
        "data = pd.read_csv(\"C:/Runyao/11.23/concate_all.csv\")\n",
        "data.head()"
      ]
    },
    {
      "cell_type": "code",
      "execution_count": 57,
      "metadata": {},
      "outputs": [
        {
          "data": {
            "text/html": [
              "<div>\n",
              "<style scoped>\n",
              "    .dataframe tbody tr th:only-of-type {\n",
              "        vertical-align: middle;\n",
              "    }\n",
              "\n",
              "    .dataframe tbody tr th {\n",
              "        vertical-align: top;\n",
              "    }\n",
              "\n",
              "    .dataframe thead th {\n",
              "        text-align: right;\n",
              "    }\n",
              "</style>\n",
              "<table border=\"1\" class=\"dataframe\">\n",
              "  <thead>\n",
              "    <tr style=\"text-align: right;\">\n",
              "      <th></th>\n",
              "      <th>Start_Vgs</th>\n",
              "      <th>End_Vgs</th>\n",
              "      <th>Mean_Vgs</th>\n",
              "      <th>Max_Vgs</th>\n",
              "      <th>Min_Vgs</th>\n",
              "      <th>AutoCorr_Mean_Vgs</th>\n",
              "      <th>Energy_Vgs</th>\n",
              "      <th>label</th>\n",
              "    </tr>\n",
              "  </thead>\n",
              "  <tbody>\n",
              "    <tr>\n",
              "      <th>0</th>\n",
              "      <td>-4.289999</td>\n",
              "      <td>-3.68</td>\n",
              "      <td>-4.047227</td>\n",
              "      <td>-0.86</td>\n",
              "      <td>-8.020000</td>\n",
              "      <td>12293.736527</td>\n",
              "      <td>-0.000012</td>\n",
              "      <td>1</td>\n",
              "    </tr>\n",
              "    <tr>\n",
              "      <th>1</th>\n",
              "      <td>-4.190000</td>\n",
              "      <td>-3.68</td>\n",
              "      <td>-4.028073</td>\n",
              "      <td>0.10</td>\n",
              "      <td>-8.940000</td>\n",
              "      <td>12177.819805</td>\n",
              "      <td>-0.000012</td>\n",
              "      <td>1</td>\n",
              "    </tr>\n",
              "    <tr>\n",
              "      <th>2</th>\n",
              "      <td>-4.140000</td>\n",
              "      <td>-3.60</td>\n",
              "      <td>-3.960613</td>\n",
              "      <td>-2.16</td>\n",
              "      <td>-6.730000</td>\n",
              "      <td>11773.011529</td>\n",
              "      <td>-0.000012</td>\n",
              "      <td>1</td>\n",
              "    </tr>\n",
              "    <tr>\n",
              "      <th>3</th>\n",
              "      <td>-4.220000</td>\n",
              "      <td>-3.62</td>\n",
              "      <td>-4.014753</td>\n",
              "      <td>-0.09</td>\n",
              "      <td>-8.629999</td>\n",
              "      <td>12097.391208</td>\n",
              "      <td>-0.000012</td>\n",
              "      <td>1</td>\n",
              "    </tr>\n",
              "    <tr>\n",
              "      <th>4</th>\n",
              "      <td>-4.180000</td>\n",
              "      <td>-3.66</td>\n",
              "      <td>-4.026740</td>\n",
              "      <td>0.04</td>\n",
              "      <td>-9.240000</td>\n",
              "      <td>12169.757789</td>\n",
              "      <td>-0.000012</td>\n",
              "      <td>1</td>\n",
              "    </tr>\n",
              "  </tbody>\n",
              "</table>\n",
              "</div>"
            ],
            "text/plain": [
              "   Start_Vgs  End_Vgs  Mean_Vgs  Max_Vgs   Min_Vgs  AutoCorr_Mean_Vgs  \\\n",
              "0  -4.289999    -3.68 -4.047227    -0.86 -8.020000       12293.736527   \n",
              "1  -4.190000    -3.68 -4.028073     0.10 -8.940000       12177.819805   \n",
              "2  -4.140000    -3.60 -3.960613    -2.16 -6.730000       11773.011529   \n",
              "3  -4.220000    -3.62 -4.014753    -0.09 -8.629999       12097.391208   \n",
              "4  -4.180000    -3.66 -4.026740     0.04 -9.240000       12169.757789   \n",
              "\n",
              "   Energy_Vgs  label  \n",
              "0   -0.000012      1  \n",
              "1   -0.000012      1  \n",
              "2   -0.000012      1  \n",
              "3   -0.000012      1  \n",
              "4   -0.000012      1  "
            ]
          },
          "execution_count": 57,
          "metadata": {},
          "output_type": "execute_result"
        }
      ],
      "source": [
        "module_name = data.iloc[:,1].tolist()\n",
        "x = data.iloc[:,2:-1]\n",
        "y = data.iloc[:,-1].tolist()\n",
        "data.drop(columns=data.columns[[0,1]], axis=1, inplace=True)\n",
        "data.head()"
      ]
    },
    {
      "cell_type": "code",
      "execution_count": 33,
      "metadata": {},
      "outputs": [
        {
          "data": {
            "image/png": "[encoded data removed]",
            "text/plain": [
              "<Figure size 1080x864 with 2 Axes>"
            ]
          },
          "metadata": {
            "needs_background": "light"
          },
          "output_type": "display_data"
        },
        {
          "name": "stdout",
          "output_type": "stream",
          "text": [
            "\n",
            "\n",
            "High Correlation:\n",
            "AutoCorr_Mean_Vgs  Energy_Vgs          -0.999998\n",
            "Energy_Vgs         AutoCorr_Mean_Vgs   -0.999998\n",
            "Mean_Vgs           AutoCorr_Mean_Vgs   -0.999998\n",
            "AutoCorr_Mean_Vgs  Mean_Vgs            -0.999998\n",
            "                   End_Vgs             -0.865759\n",
            "                                          ...   \n",
            "Max_Vgs            Max_Vgs              1.000000\n",
            "Mean_Vgs           Mean_Vgs             1.000000\n",
            "End_Vgs            End_Vgs              1.000000\n",
            "Energy_Vgs         Energy_Vgs           1.000000\n",
            "label              label                1.000000\n",
            "Length: 62, dtype: float64\n"
          ]
        }
      ],
      "source": [
        "def correlation_matrix(dataframe, th=0.5):\n",
        "    corr_mat2 = dataframe.corr(method='spearman')\n",
        "    fig, ax = plt.subplots(figsize=(15, 12))         # Sample figsize in inches\n",
        "    sns.heatmap(corr_mat2, annot=True, linewidths=.5, ax=ax)\n",
        "    plt.show()\n",
        "    corr_pairs = corr_mat2.unstack()\n",
        "    sorted_pairs = corr_pairs.sort_values(kind=\"quicksort\")\n",
        "    strong_pairs = sorted_pairs[abs(sorted_pairs) > th]\n",
        "    print('\\n')\n",
        "    print('High Correlation:')\n",
        "    print(strong_pairs)\n",
        "\n",
        "correlation_matrix(data, th=0.46)"
      ]
    },
    {
      "cell_type": "code",
      "execution_count": 58,
      "metadata": {},
      "outputs": [
        {
          "data": {
            "text/html": [
              "<div>\n",
              "<style scoped>\n",
              "    .dataframe tbody tr th:only-of-type {\n",
              "        vertical-align: middle;\n",
              "    }\n",
              "\n",
              "    .dataframe tbody tr th {\n",
              "        vertical-align: top;\n",
              "    }\n",
              "\n",
              "    .dataframe thead th {\n",
              "        text-align: right;\n",
              "    }\n",
              "</style>\n",
              "<table border=\"1\" class=\"dataframe\">\n",
              "  <thead>\n",
              "    <tr style=\"text-align: right;\">\n",
              "      <th></th>\n",
              "      <th>Start_Vgs</th>\n",
              "      <th>End_Vgs</th>\n",
              "      <th>Max_Vgs</th>\n",
              "      <th>Min_Vgs</th>\n",
              "      <th>Energy_Vgs</th>\n",
              "      <th>label</th>\n",
              "    </tr>\n",
              "  </thead>\n",
              "  <tbody>\n",
              "    <tr>\n",
              "      <th>0</th>\n",
              "      <td>-4.289999</td>\n",
              "      <td>-3.68</td>\n",
              "      <td>-0.86</td>\n",
              "      <td>-8.020000</td>\n",
              "      <td>-0.000012</td>\n",
              "      <td>1</td>\n",
              "    </tr>\n",
              "    <tr>\n",
              "      <th>1</th>\n",
              "      <td>-4.190000</td>\n",
              "      <td>-3.68</td>\n",
              "      <td>0.10</td>\n",
              "      <td>-8.940000</td>\n",
              "      <td>-0.000012</td>\n",
              "      <td>1</td>\n",
              "    </tr>\n",
              "    <tr>\n",
              "      <th>2</th>\n",
              "      <td>-4.140000</td>\n",
              "      <td>-3.60</td>\n",
              "      <td>-2.16</td>\n",
              "      <td>-6.730000</td>\n",
              "      <td>-0.000012</td>\n",
              "      <td>1</td>\n",
              "    </tr>\n",
              "    <tr>\n",
              "      <th>3</th>\n",
              "      <td>-4.220000</td>\n",
              "      <td>-3.62</td>\n",
              "      <td>-0.09</td>\n",
              "      <td>-8.629999</td>\n",
              "      <td>-0.000012</td>\n",
              "      <td>1</td>\n",
              "    </tr>\n",
              "    <tr>\n",
              "      <th>4</th>\n",
              "      <td>-4.180000</td>\n",
              "      <td>-3.66</td>\n",
              "      <td>0.04</td>\n",
              "      <td>-9.240000</td>\n",
              "      <td>-0.000012</td>\n",
              "      <td>1</td>\n",
              "    </tr>\n",
              "  </tbody>\n",
              "</table>\n",
              "</div>"
            ],
            "text/plain": [
              "   Start_Vgs  End_Vgs  Max_Vgs   Min_Vgs  Energy_Vgs  label\n",
              "0  -4.289999    -3.68    -0.86 -8.020000   -0.000012      1\n",
              "1  -4.190000    -3.68     0.10 -8.940000   -0.000012      1\n",
              "2  -4.140000    -3.60    -2.16 -6.730000   -0.000012      1\n",
              "3  -4.220000    -3.62    -0.09 -8.629999   -0.000012      1\n",
              "4  -4.180000    -3.66     0.04 -9.240000   -0.000012      1"
            ]
          },
          "execution_count": 58,
          "metadata": {},
          "output_type": "execute_result"
        }
      ],
      "source": [
        "data.drop(columns=['AutoCorr_Mean_Vgs',\"Mean_Vgs\"],inplace=True)\n",
        "data.head()"
      ]
    },
    {
      "cell_type": "code",
      "execution_count": 59,
      "metadata": {},
      "outputs": [
        {
          "data": {
            "image/png": "[encoded data removed]",
            "text/plain": [
              "<Figure size 432x288 with 1 Axes>"
            ]
          },
          "metadata": {
            "needs_background": "light"
          },
          "output_type": "display_data"
        }
      ],
      "source": [
        "data_c = data.copy()\n",
        "X = data_c.iloc[:,:5]\n",
        "y = data_c.iloc[:,5]\n",
        "X_train_c, X_test_c, y_train_c, y_test_c = train_test_split(X, y, test_size=0.2, random_state=1)\n",
        "\n",
        "f,a = plt.subplots()\n",
        "sns.histplot(y_train_c, label='train',ax=a,stat='count',alpha =0.7,color='orange')\n",
        "sns.histplot(y_test_c,label='test',ax=a,stat='count',alpha =0.7,color='purple')\n",
        "sns.histplot(y, label='full', ax=a,stat='count',alpha=0.7,color='green')\n",
        "a.set_xlabel('Class')\n",
        "a.legend()\n",
        "plt.show()"
      ]
    },
    {
      "cell_type": "code",
      "execution_count": 60,
      "metadata": {},
      "outputs": [
        {
          "data": {
            "image/png": "[encoded data removed]",
            "text/plain": [
              "<Figure size 432x288 with 1 Axes>"
            ]
          },
          "metadata": {
            "needs_background": "light"
          },
          "output_type": "display_data"
        }
      ],
      "source": [
        "\n",
        "ros = RandomOverSampler(random_state=2)\n",
        "X_data_c_ros, y_data_c_ros = ros.fit_resample(data_c.iloc[:,0:5], data_c.iloc[:,5])\n",
        "X_train_c_ros, y_train_c_ros = ros.fit_resample(X_train_c, y_train_c)\n",
        "X_test_c_ros, y_test_c_ros = X_test_c, y_test_c # re-assign test set\n",
        "\n",
        "f,a = plt.subplots()\n",
        "sns.histplot(y_train_c_ros, label='train',ax =a,stat='count',alpha =0.7,color='orange')\n",
        "sns.histplot(y_test_c_ros,label='test',ax=a,stat='count',alpha =0.7,color='purple')\n",
        "sns.histplot(y_data_c_ros, label='full', ax=a,stat='count',alpha=0.7,color='green')\n",
        "a.set_xlabel('Class')\n",
        "a.legend()\n",
        "plt.show()"
      ]
    },
    {
      "cell_type": "code",
      "execution_count": 43,
      "metadata": {},
      "outputs": [
        {
          "name": "stdout",
          "output_type": "stream",
          "text": [
            "{'clf__C': 1.0974987654930568e-06}\n",
            "0.9956652540155915\n",
            "              precision    recall  f1-score   support\n",
            "\n",
            "          -1       1.00      0.99      1.00       120\n",
            "           1       0.99      1.00      1.00       180\n",
            "\n",
            "    accuracy                           1.00       300\n",
            "   macro avg       1.00      1.00      1.00       300\n",
            "weighted avg       1.00      1.00      1.00       300\n",
            "\n",
            "Training Accuracy: 0.996\n",
            "Test Accuracy: 0.997\n"
          ]
        },
        {
          "data": {
            "text/plain": [
              "[Text(0.5, 1.0, 'Confusion Matrix for test set')]"
            ]
          },
          "execution_count": 43,
          "metadata": {},
          "output_type": "execute_result"
        },
        {
          "data": {
            "image/png": "[encoded data removed]",
            "text/plain": [
              "<Figure size 720x288 with 4 Axes>"
            ]
          },
          "metadata": {
            "needs_background": "light"
          },
          "output_type": "display_data"
        }
      ],
      "source": [
        "# logistic regression\n",
        "\n",
        "ct = StandardScaler()\n",
        "model = LogisticRegression()\n",
        "pipe = Pipeline([('scaler', ct),('clf',model)]) \n",
        "\n",
        "space = dict()\n",
        "space['clf__C'] = np.logspace(-10,10,100)\n",
        "logreg_cv = GridSearchCV(pipe, space, scoring='accuracy', n_jobs=-1, cv=5, refit=True)\n",
        "logreg_cv.fit(X_train_c_ros,y_train_c_ros)\n",
        "\n",
        "print(logreg_cv.best_params_)\n",
        "print(logreg_cv.best_score_)\n",
        "\n",
        "y_pred_train_c = logreg_cv.predict(X_train_c_ros)\n",
        "y_pred_test_c = logreg_cv.predict(X_test_c_ros)\n",
        "\n",
        "print(classification_report(y_test_c_ros, y_pred_test_c))\n",
        "print(\"Training Accuracy: {:.3f}\".format(accuracy_score(y_train_c_ros, y_pred_train_c)))\n",
        "print(\"Test Accuracy: {:.3f}\".format(accuracy_score(y_test_c_ros,y_pred_test_c)))\n",
        "\n",
        "# confusion matix\n",
        "conf_train = confusion_matrix(y_train_c_ros,y_pred_train_c)\n",
        "conf_test = confusion_matrix(y_test_c_ros,y_pred_test_c)\n",
        "\n",
        "fg, (ax1, ax2) = plt.subplots(1,2,figsize=(10,4))\n",
        "sns.heatmap(conf_train, annot=True, fmt=\"d\", ax=ax1)\n",
        "ax1.set(xlabel=\"predicted label\")\n",
        "ax1.set(ylabel=\"actual label\")\n",
        "ax1.set_xticklabels(['0','1'])\n",
        "ax1.set_yticklabels(['0','1'])\n",
        "ax1.set(title=\"Confusion Matrix for training set\")\n",
        "sns.heatmap(conf_test, annot=True, fmt=\"d\", ax=ax2)\n",
        "ax2.set(xlabel=\"predicted label\")\n",
        "ax2.set(ylabel=\"actual label\")\n",
        "ax2.set_xticklabels(['0','1'])\n",
        "ax2.set_yticklabels(['0','1'])\n",
        "ax2.set(title=\"Confusion Matrix for test set\")"
      ]
    },
    {
      "cell_type": "code",
      "execution_count": 44,
      "metadata": {},
      "outputs": [
        {
          "data": {
            "text/plain": [
              "Text(0.5, 0, 'Logistic Regression Feature Importance')"
            ]
          },
          "execution_count": 44,
          "metadata": {},
          "output_type": "execute_result"
        },
        {
          "data": {
            "image/png": "[encoded data removed]",
            "text/plain": [
              "<Figure size 432x288 with 1 Axes>"
            ]
          },
          "metadata": {
            "needs_background": "light"
          },
          "output_type": "display_data"
        }
      ],
      "source": [
        "coef = logreg_cv.best_estimator_.named_steps['clf'].coef_[0]\n",
        "sorted_idx = coef.argsort()\n",
        "coef.sort()\n",
        "\n",
        "plt.barh(X.columns[sorted_idx], coef, color='r')\n",
        "plt.xlabel(\"Logistic Regression Feature Importance\")"
      ]
    },
    {
      "cell_type": "code",
      "execution_count": 49,
      "metadata": {},
      "outputs": [
        {
          "name": "stdout",
          "output_type": "stream",
          "text": [
            "Fitting 5 folds for each of 90 candidates, totalling 450 fits\n"
          ]
        },
        {
          "name": "stderr",
          "output_type": "stream",
          "text": [
            "C:\\Anaconda\\Anaconda\\lib\\site-packages\\sklearn\\model_selection\\_search.py:918: UserWarning: One or more of the test scores are non-finite: [0.99566525 0.99566525 0.99566525 0.99566525 0.99566525 0.99566525\n",
            "        nan        nan        nan        nan        nan        nan\n",
            "        nan        nan        nan        nan        nan        nan\n",
            " 0.99566525 0.99566525 0.99566525 0.99638728 0.99711191 0.99711191\n",
            "        nan        nan        nan        nan        nan        nan\n",
            "        nan        nan        nan        nan        nan        nan\n",
            " 0.99566525 0.99638989 0.99566525 0.99566787 0.99638989 0.99566787\n",
            "        nan        nan        nan        nan        nan        nan\n",
            "        nan        nan        nan        nan        nan        nan\n",
            " 0.99638728 0.99566525 0.99566525 0.99711191 0.99711191 0.99638989\n",
            "        nan        nan        nan        nan        nan        nan\n",
            "        nan        nan        nan        nan        nan        nan\n",
            " 0.99566525 0.99638728 0.99566525 0.99566787 0.99566787 0.99566787\n",
            "        nan        nan        nan        nan        nan        nan\n",
            "        nan        nan        nan        nan        nan        nan]\n",
            "  warnings.warn(\n"
          ]
        },
        {
          "name": "stdout",
          "output_type": "stream",
          "text": [
            "{'max_depth': 3, 'max_features': 4, 'n_estimators': 40}\n",
            "0.9971119133574007\n",
            "              precision    recall  f1-score   support\n",
            "\n",
            "          -1       1.00      0.99      1.00       120\n",
            "           1       0.99      1.00      1.00       180\n",
            "\n",
            "    accuracy                           1.00       300\n",
            "   macro avg       1.00      1.00      1.00       300\n",
            "weighted avg       1.00      1.00      1.00       300\n",
            "\n",
            "Training Accuracy: 0.997\n",
            "Test Accuracy: 0.997\n"
          ]
        },
        {
          "data": {
            "text/plain": [
              "[Text(0.5, 1.0, 'Confusion Matrix for test set')]"
            ]
          },
          "execution_count": 49,
          "metadata": {},
          "output_type": "execute_result"
        },
        {
          "data": {
            "image/png": "[encoded data removed]",
            "text/plain": [
              "<Figure size 720x288 with 4 Axes>"
            ]
          },
          "metadata": {
            "needs_background": "light"
          },
          "output_type": "display_data"
        }
      ],
      "source": [
        "# random forest\n",
        "\n",
        "rf = RandomForestClassifier()\n",
        "parameters = {'n_estimators':range(10,100,30),'max_features':range(1,19,3),'max_depth':[1,3,5,15,20]}\n",
        "rf_cv = GridSearchCV(rf, parameters, n_jobs=-1, verbose=1, scoring='accuracy', cv=5)\n",
        "rf_cv.get_params().keys()\n",
        "rf_cv.fit(X_train_c_ros,y_train_c_ros)\n",
        "\n",
        "print(rf_cv.best_params_)\n",
        "print(rf_cv.best_score_)\n",
        "\n",
        "y_pred_train_c = rf_cv.predict(X_train_c_ros)\n",
        "y_pred_test_c = rf_cv.predict(X_test_c_ros)\n",
        "\n",
        "print(classification_report(y_test_c_ros, y_pred_test_c))\n",
        "print(\"Training Accuracy: {:.3f}\".format(accuracy_score(y_train_c_ros, y_pred_train_c)))\n",
        "print(\"Test Accuracy: {:.3f}\".format(accuracy_score(y_test_c_ros,y_pred_test_c)))\n",
        "\n",
        "# confusion matix\n",
        "conf_train = confusion_matrix(y_train_c_ros,y_pred_train_c)\n",
        "conf_test = confusion_matrix(y_test_c_ros,y_pred_test_c)\n",
        "\n",
        "fg, (ax1, ax2) = plt.subplots(1,2,figsize=(10,4))\n",
        "sns.heatmap(conf_train, annot=True, fmt=\"d\", ax=ax1)\n",
        "ax1.set(xlabel=\"predicted label\")\n",
        "ax1.set(ylabel=\"actual label\")\n",
        "ax1.set_xticklabels(['0','1'])\n",
        "ax1.set_yticklabels(['0','1'])\n",
        "ax1.set(title=\"Confusion Matrix for training set\")\n",
        "sns.heatmap(conf_test, annot=True, fmt=\"d\", ax=ax2)\n",
        "ax2.set(xlabel=\"predicted label\")\n",
        "ax2.set(ylabel=\"actual label\")\n",
        "ax2.set_xticklabels(['0','1'])\n",
        "ax2.set_yticklabels(['0','1'])\n",
        "ax2.set(title=\"Confusion Matrix for test set\")"
      ]
    },
    {
      "cell_type": "code",
      "execution_count": 50,
      "metadata": {},
      "outputs": [
        {
          "data": {
            "text/plain": [
              "Text(0.5, 0, 'Random Forest Feature Importance')"
            ]
          },
          "execution_count": 50,
          "metadata": {},
          "output_type": "execute_result"
        },
        {
          "data": {
            "image/png": "[encoded data removed]",
            "text/plain": [
              "<Figure size 432x288 with 1 Axes>"
            ]
          },
          "metadata": {
            "needs_background": "light"
          },
          "output_type": "display_data"
        }
      ],
      "source": [
        "coef = rf_cv.best_estimator_.feature_importances_\n",
        "sorted_idx = coef.argsort()\n",
        "coef.sort()\n",
        "\n",
        "plt.barh(X.columns[sorted_idx], coef,color='r')\n",
        "plt.xlabel(\"Random Forest Feature Importance\")"
      ]
    },
    {
      "cell_type": "code",
      "execution_count": 53,
      "metadata": {},
      "outputs": [
        {
          "name": "stdout",
          "output_type": "stream",
          "text": [
            "{'PCA': PCA(n_components=1), 'PCA__n_components': 1, 'SVC__C': 0.1, 'SVC__gamma': 10, 'SVC__kernel': 'linear'}\n",
            "0.9956521739130435\n",
            "              precision    recall  f1-score   support\n",
            "\n",
            "          -1       1.00      0.99      1.00       120\n",
            "           1       0.99      1.00      1.00       180\n",
            "\n",
            "    accuracy                           1.00       300\n",
            "   macro avg       1.00      1.00      1.00       300\n",
            "weighted avg       1.00      1.00      1.00       300\n",
            "\n",
            "Training Accuracy: 0.996\n",
            "Test Accuracy: 0.997\n"
          ]
        },
        {
          "data": {
            "text/plain": [
              "[Text(0.5, 1.0, 'Confusion Matrix for test set')]"
            ]
          },
          "execution_count": 53,
          "metadata": {},
          "output_type": "execute_result"
        },
        {
          "data": {
            "image/png": "[encoded data removed]",
            "text/plain": [
              "<Figure size 720x288 with 4 Axes>"
            ]
          },
          "metadata": {
            "needs_background": "light"
          },
          "output_type": "display_data"
        }
      ],
      "source": [
        "# support vector machine\n",
        "\n",
        "model_svc = Pipeline(steps=[('StandardScaler', StandardScaler()), ('PCA', 'passthrough'), ('SVC', SVC())])\n",
        "param_grid = [\n",
        "    {\n",
        "    'PCA': [PCA()],\n",
        "    'PCA__n_components': np.arange(X_train_c.shape[1])+1,\n",
        "    'SVC__kernel': ['linear'],\n",
        "    'SVC__C': [0.1, 1, 10, 100],\n",
        "    'SVC__gamma':[10, 1, 0.1, 0.01, 0.001, 0.0001]\n",
        "    },\n",
        "    {\n",
        "    'PCA': ['passthrough'],\n",
        "    'SVC__kernel': ['linear'],\n",
        "    'SVC__C': [0.1, 1, 10, 100],\n",
        "    'SVC__gamma':[10, 1, 0.1, 0.01, 0.001, 0.0001]\n",
        "    }\n",
        "]\n",
        "\n",
        "svm_cv = GridSearchCV(model_svc, param_grid, scoring='accuracy', n_jobs=-1, cv=10)\n",
        "svm_cv.fit(X_train_c_ros,y_train_c_ros)\n",
        "\n",
        "print(svm_cv.best_params_)\n",
        "print(svm_cv.best_score_)\n",
        "\n",
        "y_pred_train_c = svm_cv.predict(X_train_c_ros)\n",
        "y_pred_test_c = svm_cv.predict(X_test_c_ros)\n",
        "\n",
        "print(classification_report(y_test_c_ros, y_pred_test_c))\n",
        "print(\"Training Accuracy: {:.3f}\".format(accuracy_score(y_train_c_ros, y_pred_train_c)))\n",
        "print(\"Test Accuracy: {:.3f}\".format(accuracy_score(y_test_c_ros,y_pred_test_c)))\n",
        "\n",
        "# confusion matix\n",
        "conf_train = confusion_matrix(y_train_c_ros,y_pred_train_c)\n",
        "conf_test = confusion_matrix(y_test_c_ros,y_pred_test_c)\n",
        "\n",
        "fg, (ax1, ax2) = plt.subplots(1,2,figsize=(10,4))\n",
        "sns.heatmap(conf_train, annot=True, fmt=\"d\", ax=ax1)\n",
        "ax1.set(xlabel=\"predicted label\")\n",
        "ax1.set(ylabel=\"actual label\")\n",
        "ax1.set_xticklabels(['0','1'])\n",
        "ax1.set_yticklabels(['0','1'])\n",
        "ax1.set(title=\"Confusion Matrix for training set\")\n",
        "sns.heatmap(conf_test, annot=True, fmt=\"d\", ax=ax2)\n",
        "ax2.set(xlabel=\"predicted label\")\n",
        "ax2.set(ylabel=\"actual label\")\n",
        "ax2.set_xticklabels(['0','1'])\n",
        "ax2.set_yticklabels(['0','1'])\n",
        "ax2.set(title=\"Confusion Matrix for test set\")"
      ]
    },
    {
      "cell_type": "code",
      "execution_count": 52,
      "metadata": {},
      "outputs": [
        {
          "data": {
            "text/plain": [
              "Text(0.5, 0, 'SVC Feature Importance')"
            ]
          },
          "execution_count": 52,
          "metadata": {},
          "output_type": "execute_result"
        },
        {
          "data": {
            "image/png": "[encoded data removed]",
            "text/plain": [
              "<Figure size 432x288 with 1 Axes>"
            ]
          },
          "metadata": {
            "needs_background": "light"
          },
          "output_type": "display_data"
        }
      ],
      "source": [
        "coef = svm_cv.best_estimator_.named_steps['SVC'].coef_[0]\n",
        "sorted_idx = coef.argsort()\n",
        "coef = sorted(coef)\n",
        "plt.barh(X.columns[sorted_idx], coef,color='r')\n",
        "plt.xlabel(\"SVC Feature Importance\")"
      ]
    },
    {
      "cell_type": "code",
      "execution_count": 67,
      "metadata": {},
      "outputs": [
        {
          "name": "stdout",
          "output_type": "stream",
          "text": [
            "Fitting 5 folds for each of 140 candidates, totalling 700 fits\n"
          ]
        },
        {
          "name": "stderr",
          "output_type": "stream",
          "text": [
            "C:\\Anaconda\\Anaconda\\lib\\site-packages\\xgboost\\sklearn.py:1224: UserWarning: The use of label encoder in XGBClassifier is deprecated and will be removed in a future release. To remove this warning, do the following: 1) Pass option use_label_encoder=False when constructing XGBClassifier object; and 2) Encode your labels (y) as integers starting with 0, i.e. 0, 1, 2, ..., [num_class - 1].\n",
            "  warnings.warn(label_encoder_deprecation_msg, UserWarning)\n"
          ]
        },
        {
          "name": "stdout",
          "output_type": "stream",
          "text": [
            "[16:07:27] WARNING: C:/Users/Administrator/workspace/xgboost-win64_release_1.5.0/src/learner.cc:1115: Starting in XGBoost 1.3.0, the default evaluation metric used with the objective 'binary:logistic' was changed from 'error' to 'logloss'. Explicitly set eval_metric if you'd like to restore the old behavior.\n",
            "{'max_depth': 3, 'n_estimators': 260}\n",
            "0.9963898916967509\n",
            "              precision    recall  f1-score   support\n",
            "\n",
            "          -1       1.00      0.99      1.00       120\n",
            "           1       0.99      1.00      1.00       180\n",
            "\n",
            "    accuracy                           1.00       300\n",
            "   macro avg       1.00      1.00      1.00       300\n",
            "weighted avg       1.00      1.00      1.00       300\n",
            "\n",
            "Training Accuracy: 1.000\n",
            "Test Accuracy: 0.997\n"
          ]
        },
        {
          "data": {
            "text/plain": [
              "[Text(0.5, 1.0, 'Confusion Matrix for test set')]"
            ]
          },
          "execution_count": 67,
          "metadata": {},
          "output_type": "execute_result"
        },
        {
          "data": {
            "image/png": "[encoded data removed]",
            "text/plain": [
              "<Figure size 720x288 with 4 Axes>"
            ]
          },
          "metadata": {
            "needs_background": "light"
          },
          "output_type": "display_data"
        }
      ],
      "source": [
        "# xgboost\n",
        "\n",
        "XGB = XGBClassifier(objective='binary:logistic', booster='gbtree')\n",
        "parameters = {'n_estimators': range(10,700,50),'max_depth':range(1,20,2)}\n",
        "XGB_cv = GridSearchCV(XGB, parameters, n_jobs=-1, verbose=1, scoring='accuracy', cv=5)\n",
        "XGB_cv.get_params().keys()\n",
        "XGB_cv.fit(X_train_c_ros,y_train_c_ros)\n",
        "\n",
        "print(XGB_cv.best_params_)\n",
        "print(XGB_cv.best_score_)\n",
        "\n",
        "y_pred_train_c = XGB_cv.predict(X_train_c_ros)\n",
        "y_pred_test_c = XGB_cv.predict(X_test_c_ros)\n",
        "\n",
        "print(classification_report(y_test_c_ros, y_pred_test_c))\n",
        "\n",
        "print(\"Training Accuracy: {:.3f}\".format(accuracy_score(y_train_c_ros, y_pred_train_c)))\n",
        "print(\"Test Accuracy: {:.3f}\".format(accuracy_score(y_test_c_ros,y_pred_test_c)))\n",
        "\n",
        "# confusion matix\n",
        "conf_train = confusion_matrix(y_train_c_ros,y_pred_train_c)\n",
        "conf_test = confusion_matrix(y_test_c_ros,y_pred_test_c)\n",
        "\n",
        "fg, (ax1, ax2) = plt.subplots(1,2,figsize=(10,4))\n",
        "sns.heatmap(conf_train, annot=True, fmt=\"d\", ax=ax1)\n",
        "ax1.set(xlabel=\"predicted label\")\n",
        "ax1.set(ylabel=\"actual label\")\n",
        "ax1.set_xticklabels(['0','1'])\n",
        "ax1.set_yticklabels(['0','1'])\n",
        "ax1.set(title=\"Confusion Matrix for training set\")\n",
        "sns.heatmap(conf_test, annot=True, fmt=\"d\", ax=ax2)\n",
        "ax2.set(xlabel=\"predicted label\")\n",
        "ax2.set(ylabel=\"actual label\")\n",
        "ax2.set_xticklabels(['0','1'])\n",
        "ax2.set_yticklabels(['0','1'])\n",
        "ax2.set(title=\"Confusion Matrix for test set\")"
      ]
    },
    {
      "cell_type": "code",
      "execution_count": 84,
      "metadata": {},
      "outputs": [
        {
          "data": {
            "text/plain": [
              "<AxesSubplot:>"
            ]
          },
          "execution_count": 84,
          "metadata": {},
          "output_type": "execute_result"
        },
        {
          "data": {
            "image/png": "[encoded data removed]",
            "text/plain": [
              "<Figure size 432x288 with 1 Axes>"
            ]
          },
          "metadata": {
            "needs_background": "light"
          },
          "output_type": "display_data"
        }
      ],
      "source": [
        "%matplotlib inline\n",
        "Predictors = ['Start_Vgs', 'End_Vgs', 'Max_Vgs', 'Min_Vgs', 'Energy_Vgs']\n",
        "feature_importances = pd.Series(XGB_cv.best_estimator_.feature_importances_, index=Predictors)\n",
        "feature_importances.nlargest(5).plot(kind='barh')"
      ]
    },
    {
      "cell_type": "code",
      "execution_count": 73,
      "metadata": {},
      "outputs": [
        {
          "data": {
            "text/plain": [
              "['C:/Runyao/XGB.joblib']"
            ]
          },
          "execution_count": 73,
          "metadata": {},
          "output_type": "execute_result"
        }
      ],
      "source": [
        "# save model\n",
        "\n",
        "joblib.dump(XGB_cv, \"C:/Runyao/XGB.joblib\")"
      ]
    },
    {
      "cell_type": "code",
      "execution_count": null,
      "metadata": {},
      "outputs": [],
      "source": [
        "test_data = pd.read_csv(\"C:/Runyao/11.23/feature_155820280_11.23.csv\")\n",
        "test_data.drop(columns=test_data.columns[[0,1]], axis=1, inplace=True)\n",
        "test_data.drop(columns=['AutoCorr_Mean_Vgs',\"Mean_Vgs\"],inplace=True)"
      ]
    },
    {
      "cell_type": "code",
      "execution_count": 78,
      "metadata": {},
      "outputs": [
        {
          "data": {
            "text/plain": [
              "array([-1, -1, -1, -1, -1, -1, -1, -1, -1, -1, -1, -1, -1, -1, -1, -1, -1,\n",
              "       -1, -1, -1, -1, -1, -1, -1, -1, -1, -1, -1, -1, -1, -1, -1, -1, -1,\n",
              "       -1, -1, -1, -1, -1, -1, -1, -1, -1, -1, -1, -1, -1, -1, -1, -1, -1,\n",
              "       -1, -1, -1, -1, -1, -1, -1, -1, -1, -1, -1, -1, -1, -1, -1, -1, -1,\n",
              "       -1, -1, -1, -1, -1, -1, -1, -1, -1, -1, -1, -1, -1, -1, -1, -1, -1,\n",
              "       -1, -1, -1, -1, -1, -1, -1, -1, -1, -1, -1, -1, -1, -1, -1, -1, -1,\n",
              "       -1, -1, -1, -1, -1, -1, -1, -1, -1, -1, -1, -1, -1, -1, -1, -1, -1,\n",
              "       -1, -1, -1, -1, -1, -1, -1, -1, -1, -1, -1, -1, -1, -1, -1, -1, -1,\n",
              "       -1, -1, -1, -1, -1, -1, -1, -1, -1, -1, -1, -1, -1, -1, -1, -1, -1,\n",
              "       -1, -1, -1, -1, -1, -1, -1, -1, -1, -1, -1, -1, -1, -1, -1, -1, -1,\n",
              "       -1, -1, -1, -1, -1, -1, -1, -1, -1, -1, -1, -1, -1, -1, -1, -1, -1,\n",
              "       -1, -1], dtype=int64)"
            ]
          },
          "execution_count": 78,
          "metadata": {},
          "output_type": "execute_result"
        }
      ],
      "source": [
        "loaded_XGB = joblib.load(\"C:/Runyao/XGB.joblib\")\n",
        "loaded_XGB.predict(test_data)"
      ]
    }
  ],
  "metadata": {
    "colab": {
      "name": "empty.ipynb",
      "provenance": []
    },
    "interpreter": {
      "hash": "092bf18aecc55aef496ffbc6cc353c2203dc3161741cf495c00395ce4a3c9d87"
    },
    "kernelspec": {
      "display_name": "Python 3.8.8 64-bit ('anaconda3': virtualenv)",
      "name": "python3"
    },
    "language_info": {
      "name": "python",
      "version": ""
    }
  },
  "nbformat": 4,
  "nbformat_minor": 0
}