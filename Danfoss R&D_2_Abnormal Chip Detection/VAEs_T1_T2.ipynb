{
  "cells": [
    {
      "cell_type": "code",
      "execution_count": null,
      "metadata": {},
      "outputs": [],
      "source": [
        "import pandas as pd\n",
        "import keras\n",
        "from keras import layers\n",
        "from keras import backend as K\n",
        "from keras.models import Model\n",
        "import numpy as np\n",
        "import tensorflow as tf \n",
        "from sklearn.manifold import TSNE\n",
        "import matplotlib.pyplot as plt"
      ]
    },
    {
      "cell_type": "code",
      "execution_count": 25,
      "metadata": {
        "colab": {
          "base_uri": "https://localhost:8080/"
        },
        "id": "3xsrc_8yWfwN",
        "outputId": "456bfd47-cc0a-4fd2-9889-3d445dea9173"
      },
      "outputs": [
        {
          "name": "stdout",
          "output_type": "stream",
          "text": [
            "<class 'pandas.core.frame.DataFrame'>\n",
            "RangeIndex: 728 entries, 0 to 727\n",
            "Data columns (total 10 columns):\n",
            " #   Column                 Non-Null Count  Dtype  \n",
            "---  ------                 --------------  -----  \n",
            " 0   t_off [us]             728 non-null    float64\n",
            " 1   E_off [mJ]             728 non-null    float64\n",
            " 2   v_peak_off [V]         728 non-null    float64\n",
            " 3   avg_di/dt_off [kA/us]  728 non-null    float64\n",
            " 4   avg_dv/dt_off [kV/us]  728 non-null    float64\n",
            " 5   t_on [us]              728 non-null    float64\n",
            " 6   E_on [mJ]              728 non-null    float64\n",
            " 7   i_peak_on [A]          728 non-null    float64\n",
            " 8   avg_di/dt_on [kA/us]   728 non-null    float64\n",
            " 9   avg_dv/dt_on [kV/us]   728 non-null    float64\n",
            "dtypes: float64(10)\n",
            "memory usage: 57.0 KB\n"
          ]
        }
      ],
      "source": [
        "data = pd.read_csv('135L0587_139834200_pass.csv')\n",
        "data = data[['t_off [us]','E_off [mJ]','v_peak_off [V]','avg_di/dt_off [kA/us]','avg_dv/dt_off [kV/us]','t_on [us]','E_on [mJ]','i_peak_on [A]','avg_di/dt_on [kA/us]','avg_dv/dt_on [kV/us]']]\n",
        "data.info()\n"
      ]
    },
    {
      "cell_type": "code",
      "execution_count": 26,
      "metadata": {
        "colab": {
          "base_uri": "https://localhost:8080/",
          "height": 204
        },
        "id": "oaAEGNp9UUVl",
        "outputId": "ea1563cd-ece6-409f-ffe0-efd064305cd4"
      },
      "outputs": [
        {
          "data": {
            "text/html": [
              "<div>\n",
              "<style scoped>\n",
              "    .dataframe tbody tr th:only-of-type {\n",
              "        vertical-align: middle;\n",
              "    }\n",
              "\n",
              "    .dataframe tbody tr th {\n",
              "        vertical-align: top;\n",
              "    }\n",
              "\n",
              "    .dataframe thead th {\n",
              "        text-align: right;\n",
              "    }\n",
              "</style>\n",
              "<table border=\"1\" class=\"dataframe\">\n",
              "  <thead>\n",
              "    <tr style=\"text-align: right;\">\n",
              "      <th></th>\n",
              "      <th>t_off [us]</th>\n",
              "      <th>E_off [mJ]</th>\n",
              "      <th>v_peak_off [V]</th>\n",
              "      <th>avg_di/dt_off [kA/us]</th>\n",
              "      <th>avg_dv/dt_off [kV/us]</th>\n",
              "      <th>t_on [us]</th>\n",
              "      <th>E_on [mJ]</th>\n",
              "      <th>i_peak_on [A]</th>\n",
              "      <th>avg_di/dt_on [kA/us]</th>\n",
              "      <th>avg_dv/dt_on [kV/us]</th>\n",
              "    </tr>\n",
              "  </thead>\n",
              "  <tbody>\n",
              "    <tr>\n",
              "      <th>0</th>\n",
              "      <td>0.898</td>\n",
              "      <td>162.482768</td>\n",
              "      <td>698.8000</td>\n",
              "      <td>-6.281048</td>\n",
              "      <td>2.429225</td>\n",
              "      <td>0.438</td>\n",
              "      <td>6.360069</td>\n",
              "      <td>1853.100000</td>\n",
              "      <td>8.743648</td>\n",
              "      <td>-2.211688</td>\n",
              "    </tr>\n",
              "    <tr>\n",
              "      <th>1</th>\n",
              "      <td>0.890</td>\n",
              "      <td>159.765714</td>\n",
              "      <td>695.4000</td>\n",
              "      <td>-6.233871</td>\n",
              "      <td>2.428169</td>\n",
              "      <td>0.436</td>\n",
              "      <td>6.331655</td>\n",
              "      <td>1849.200000</td>\n",
              "      <td>8.781762</td>\n",
              "      <td>-2.199675</td>\n",
              "    </tr>\n",
              "    <tr>\n",
              "      <th>2</th>\n",
              "      <td>0.884</td>\n",
              "      <td>157.678569</td>\n",
              "      <td>694.7925</td>\n",
              "      <td>-6.321511</td>\n",
              "      <td>2.479767</td>\n",
              "      <td>0.436</td>\n",
              "      <td>6.541971</td>\n",
              "      <td>1866.192593</td>\n",
              "      <td>8.920937</td>\n",
              "      <td>-2.215757</td>\n",
              "    </tr>\n",
              "    <tr>\n",
              "      <th>3</th>\n",
              "      <td>0.884</td>\n",
              "      <td>160.198292</td>\n",
              "      <td>699.0000</td>\n",
              "      <td>-6.101447</td>\n",
              "      <td>2.468841</td>\n",
              "      <td>0.436</td>\n",
              "      <td>6.339535</td>\n",
              "      <td>1870.800000</td>\n",
              "      <td>8.772541</td>\n",
              "      <td>-2.227273</td>\n",
              "    </tr>\n",
              "    <tr>\n",
              "      <th>4</th>\n",
              "      <td>0.888</td>\n",
              "      <td>159.374572</td>\n",
              "      <td>689.4000</td>\n",
              "      <td>-6.340761</td>\n",
              "      <td>2.427817</td>\n",
              "      <td>0.442</td>\n",
              "      <td>7.210611</td>\n",
              "      <td>1860.300000</td>\n",
              "      <td>9.017500</td>\n",
              "      <td>-2.143125</td>\n",
              "    </tr>\n",
              "  </tbody>\n",
              "</table>\n",
              "</div>"
            ],
            "text/plain": [
              "   t_off [us]  E_off [mJ]  ...  avg_di/dt_on [kA/us]  avg_dv/dt_on [kV/us]\n",
              "0       0.898  162.482768  ...              8.743648             -2.211688\n",
              "1       0.890  159.765714  ...              8.781762             -2.199675\n",
              "2       0.884  157.678569  ...              8.920937             -2.215757\n",
              "3       0.884  160.198292  ...              8.772541             -2.227273\n",
              "4       0.888  159.374572  ...              9.017500             -2.143125\n",
              "\n",
              "[5 rows x 10 columns]"
            ]
          },
          "execution_count": 26,
          "metadata": {
            "tags": []
          },
          "output_type": "execute_result"
        }
      ],
      "source": [
        "data.head()"
      ]
    },
    {
      "cell_type": "code",
      "execution_count": 3,
      "metadata": {
        "colab": {
          "base_uri": "https://localhost:8080/"
        },
        "id": "3QXJ-Rxx4T96",
        "outputId": "f1134e4c-0fad-4107-a1ce-68c739742a39"
      },
      "outputs": [
        {
          "data": {
            "text/plain": [
              "(728, 10, 1)"
            ]
          },
          "execution_count": 3,
          "metadata": {
            "tags": []
          },
          "output_type": "execute_result"
        }
      ],
      "source": [
        "\n",
        "x_train = data.astype('float32') / 1.\n",
        "x_train = x_train.values.reshape(x_train.shape + (1,))\n",
        "x_train.shape"
      ]
    },
    {
      "cell_type": "code",
      "execution_count": 27,
      "metadata": {
        "id": "X1HpynfkWfvw"
      },
      "outputs": [],
      "source": [
        "feature_shape = (10,1) # Depends on how many features we want to use, in this case 10: V_peak, Energy, Gradient etc.\n",
        "batch_size = 128\n",
        "latent_dim = 10  # Dimensionality of the latent space: can be defined manuelly\n",
        "\n",
        "input_fea = keras.Input(shape=feature_shape)\n",
        "\n",
        "x = layers.Conv1D(32, 3, padding='same', activation='relu')(input_fea)\n",
        "x = layers.Conv1D(64, 3, padding='same', activation='relu',strides=(2))(x)\n",
        "x = layers.Conv1D(64, 3, padding='same', activation='relu')(x)\n",
        "x = layers.Conv1D(64, 3, padding='same', activation='relu')(x)\n",
        "shape_before_flattening = K.int_shape(x)\n",
        "\n",
        "x = layers.Flatten()(x)\n",
        "x = layers.Dense(32, activation='relu')(x)\n",
        "x = layers.Dense(32, activation='relu')(x)\n",
        "x = layers.Dense(32, activation='relu')(x)\n",
        "\n",
        "# mapping inputs to our latent distribution parameters z_mean and z_log_var\n",
        "z_mean = layers.Dense(latent_dim, name='z_mean')(x)\n",
        "z_log_var = layers.Dense(latent_dim, name='z_log_var')(x)\n"
      ]
    },
    {
      "cell_type": "code",
      "execution_count": 28,
      "metadata": {
        "id": "bVZuKqlw5iNK"
      },
      "outputs": [],
      "source": [
        "class Sampling(layers.Layer):\n",
        "    def call(self, args):\n",
        "        z_mean, z_log_var = args\n",
        "        batch = K.shape(z_mean)[0]\n",
        "        dim = K.shape(z_mean)[1] #latent_dim\n",
        "        epsilon = K.random_normal(shape=(batch, dim), mean=0., stddev=1.)\n",
        "        \n",
        "        return z_mean + K.exp(0.5 * z_log_var) * epsilon\n",
        "    \n",
        "# add a layer sampling to the encoder model  \n",
        "z = Sampling()([z_mean, z_log_var])"
      ]
    },
    {
      "cell_type": "markdown",
      "metadata": {
        "id": "VuZu6u925iNM"
      },
      "source": [
        "**Build an encoder model:**"
      ]
    },
    {
      "cell_type": "code",
      "execution_count": 29,
      "metadata": {
        "colab": {
          "base_uri": "https://localhost:8080/"
        },
        "id": "5Ww5qlj85iNN",
        "outputId": "b1003f4a-d682-43d9-8866-36c5c41a156e"
      },
      "outputs": [
        {
          "name": "stdout",
          "output_type": "stream",
          "text": [
            "Model: \"encoder\"\n",
            "__________________________________________________________________________________________________\n",
            "Layer (type)                    Output Shape         Param #     Connected to                     \n",
            "==================================================================================================\n",
            "input_3 (InputLayer)            [(None, 10, 1)]      0                                            \n",
            "__________________________________________________________________________________________________\n",
            "conv1d_5 (Conv1D)               (None, 10, 32)       128         input_3[0][0]                    \n",
            "__________________________________________________________________________________________________\n",
            "conv1d_6 (Conv1D)               (None, 5, 64)        6208        conv1d_5[0][0]                   \n",
            "__________________________________________________________________________________________________\n",
            "conv1d_7 (Conv1D)               (None, 5, 64)        12352       conv1d_6[0][0]                   \n",
            "__________________________________________________________________________________________________\n",
            "conv1d_8 (Conv1D)               (None, 5, 64)        12352       conv1d_7[0][0]                   \n",
            "__________________________________________________________________________________________________\n",
            "flatten_1 (Flatten)             (None, 320)          0           conv1d_8[0][0]                   \n",
            "__________________________________________________________________________________________________\n",
            "dense_2 (Dense)                 (None, 32)           10272       flatten_1[0][0]                  \n",
            "__________________________________________________________________________________________________\n",
            "dense_3 (Dense)                 (None, 32)           1056        dense_2[0][0]                    \n",
            "__________________________________________________________________________________________________\n",
            "dense_4 (Dense)                 (None, 32)           1056        dense_3[0][0]                    \n",
            "__________________________________________________________________________________________________\n",
            "z_mean (Dense)                  (None, 10)           330         dense_4[0][0]                    \n",
            "__________________________________________________________________________________________________\n",
            "z_log_var (Dense)               (None, 10)           330         dense_4[0][0]                    \n",
            "__________________________________________________________________________________________________\n",
            "sampling_1 (Sampling)           (None, 10)           0           z_mean[0][0]                     \n",
            "                                                                 z_log_var[0][0]                  \n",
            "==================================================================================================\n",
            "Total params: 44,084\n",
            "Trainable params: 44,084\n",
            "Non-trainable params: 0\n",
            "__________________________________________________________________________________________________\n"
          ]
        }
      ],
      "source": [
        "encoder = keras.Model(input_fea, [z_mean, z_log_var, z], name=\"encoder\")\n",
        "\n",
        "#print summary\n",
        "encoder.summary()"
      ]
    },
    {
      "cell_type": "markdown",
      "metadata": {
        "id": "DztILuUJGFoF"
      },
      "source": [
        "**Build a decoder model:**"
      ]
    },
    {
      "cell_type": "code",
      "execution_count": 30,
      "metadata": {
        "colab": {
          "base_uri": "https://localhost:8080/"
        },
        "id": "v_um-TiKWfv8",
        "outputId": "d9f3c484-6bcd-4805-b544-eebe9d5c400f"
      },
      "outputs": [
        {
          "name": "stdout",
          "output_type": "stream",
          "text": [
            "Latent vector shape (10,)\n",
            "(None, 10)\n",
            "(None, 5, 64)\n",
            "320\n",
            "\n",
            "Model: \"Decoder\"\n",
            "_________________________________________________________________\n",
            "Layer (type)                 Output Shape              Param #   \n",
            "=================================================================\n",
            "input_4 (InputLayer)         [(None, 10)]              0         \n",
            "_________________________________________________________________\n",
            "dense_5 (Dense)              (None, 320)               3520      \n",
            "_________________________________________________________________\n",
            "reshape_1 (Reshape)          (None, 5, 64)             0         \n",
            "_________________________________________________________________\n",
            "conv1d_transpose_1 (Conv1DTr (None, 10, 32)            6176      \n",
            "_________________________________________________________________\n",
            "conv1d_9 (Conv1D)            (None, 10, 1)             97        \n",
            "=================================================================\n",
            "Total params: 9,793\n",
            "Trainable params: 9,793\n",
            "Non-trainable params: 0\n",
            "_________________________________________________________________\n"
          ]
        }
      ],
      "source": [
        "# This is the input where we will feed `z`.\n",
        "print(\"Latent vector shape\", K.int_shape(z)[1:])\n",
        "print(K.int_shape(z)) # z sampling's dimension\n",
        "decoder_input = layers.Input(K.int_shape(z)[1:])\n",
        "print(shape_before_flattening) # shape_before_flattening[1:] erased none\n",
        "print(np.prod(shape_before_flattening[1:])) #except none\n",
        "print()\n",
        "x = layers.Dense(np.prod(shape_before_flattening[1:]), activation='relu')(decoder_input)\n",
        "x = layers.Reshape(shape_before_flattening[1:])(x)\n",
        "x = layers.Conv1DTranspose(32, 3, padding='same', activation='relu', strides=(2))(x)\n",
        "x = layers.Conv1D(1, 3,padding='same', activation='sigmoid')(x)\n",
        "\n",
        "decoder = Model(decoder_input, x, name='Decoder')\n",
        "z_decoded = decoder(z)\n",
        "decoder.summary()"
      ]
    },
    {
      "cell_type": "markdown",
      "metadata": {
        "id": "6FBdKpU_5iNO"
      },
      "source": [
        "**Create a VAE class model**\n"
      ]
    },
    {
      "cell_type": "code",
      "execution_count": 31,
      "metadata": {
        "id": "yxToNoNk5iNP"
      },
      "outputs": [],
      "source": [
        "# for using GradientTape, reduce_mean, reduce_sum\n",
        "class VAE(keras.Model):\n",
        "    def __init__(self, encoder, decoder, **kwargs):\n",
        "        super(VAE, self).__init__(**kwargs)\n",
        "        self.encoder = encoder\n",
        "        self.decoder = decoder\n",
        "        \n",
        "        # reconstruction loss\n",
        "        # the decoded samples should match the initial input images\n",
        "        self.reconstruction_loss_tracker = keras.metrics.Mean(\n",
        "            name=\"reconstruction_loss\"\n",
        "        )\n",
        "        # regularization loss\n",
        "        # to learn well-formed latent spaces and reduce overfitting\n",
        "        self.kl_loss_tracker = keras.metrics.Mean(name=\"kl_loss\")\n",
        "        \n",
        "        # regularization + reconstruction\n",
        "        self.total_loss_tracker = keras.metrics.Mean(name=\"total_loss\")\n",
        "\n",
        "    @property\n",
        "    def metrics(self):\n",
        "        return [\n",
        "            self.total_loss_tracker,\n",
        "            self.reconstruction_loss_tracker,\n",
        "            self.kl_loss_tracker,\n",
        "        ]\n",
        "\n",
        "    def train_step(self, data):\n",
        "        # Overwrite the train_setp method, to redefine what the fit funtion does.\n",
        "        # this is needed to dealk with custom loss functions\n",
        "        with tf.GradientTape() as tape:\n",
        "            z_mean, z_log_var, z = self.encoder(data)\n",
        "            z_decoded = self.decoder(z)\n",
        "            \n",
        "            # calculate losses\n",
        "            reconstruction_loss = tf.reduce_mean(tf.reduce_sum(keras.losses.binary_crossentropy(data, z_decoded), axis=(1, 2)))\n",
        "            kl_loss = -0.5 * (1 + z_log_var - K.square(z_mean) - K.exp(z_log_var))\n",
        "            kl_loss = tf.reduce_mean(tf.reduce_sum(kl_loss, axis=1))\n",
        "            \n",
        "            # sum losses\n",
        "            total_loss = reconstruction_loss + kl_loss\n",
        "            \n",
        "        # Calculate the gradient and update the weights (Backward pass)\n",
        "        grads = tape.gradient(total_loss, self.trainable_weights)\n",
        "        self.optimizer.apply_gradients(zip(grads, self.trainable_weights))\n",
        "        \n",
        "        # update loss metrics\n",
        "        self.total_loss_tracker.update_state(total_loss)\n",
        "        self.reconstruction_loss_tracker.update_state(reconstruction_loss)\n",
        "        self.kl_loss_tracker.update_state(kl_loss)\n",
        "        \n",
        "        return {\n",
        "            \"loss\": self.total_loss_tracker.result(),\n",
        "            \"reconstruction_loss\": self.reconstruction_loss_tracker.result(),\n",
        "            \"kl_loss\": self.kl_loss_tracker.result(),\n",
        "        }"
      ]
    },
    {
      "cell_type": "markdown",
      "metadata": {
        "id": "wymjz6wTWfwH"
      },
      "source": [
        "**Create a VAE model instance and pass `encoder` and `decoder`.**"
      ]
    },
    {
      "cell_type": "code",
      "execution_count": 32,
      "metadata": {
        "id": "M7dLgkZUWfwI"
      },
      "outputs": [],
      "source": [
        "# Instantiate a VAE object\n",
        "vae = VAE(encoder, decoder)\n",
        "\n",
        "# Configure it\n",
        "vae.compile(optimizer='rmsprop', loss=None)"
      ]
    },
    {
      "cell_type": "markdown",
      "metadata": {
        "id": "mnL1WFlj5iNT"
      },
      "source": [
        "### T-SNE Visualization"
      ]
    },
    {
      "cell_type": "markdown",
      "metadata": {
        "id": "4fBDA86omSj8"
      },
      "source": [
        "use **T-SNE** for visualiazation of reduced dimensionality.\n",
        "Here we reduce from 10 dimensional latent space to 2-D."
      ]
    },
    {
      "cell_type": "code",
      "execution_count": 37,
      "metadata": {
        "id": "aZ4F3-VRWfwX"
      },
      "outputs": [],
      "source": [
        "encoder = Model(input_fea, z_mean)\n",
        "encoded_input = encoder.predict(x_train)\n",
        "latent_space = TSNE(n_components=2).fit_transform(encoded_input)"
      ]
    },
    {
      "cell_type": "code",
      "execution_count": 38,
      "metadata": {
        "colab": {
          "base_uri": "https://localhost:8080/",
          "height": 265
        },
        "id": "NFR-Kb6zZVLU",
        "outputId": "263e54d1-3a2d-4d51-e34e-53ef8eb0f951"
      },
      "outputs": [
        {
          "data": {
            "image/png": "[encoded data removed]",
            "text/plain": [
              "<Figure size 432x288 with 2 Axes>"
            ]
          },
          "metadata": {
            "needs_background": "light",
            "tags": []
          },
          "output_type": "display_data"
        }
      ],
      "source": [
        "tsne_x = latent_space[:,0]\n",
        "tsne_y = latent_space[:,1]\n",
        "plt.scatter(tsne_x, tsne_y, cmap=plt.cm.get_cmap(\"jet\"))\n",
        "plt.colorbar(ticks=range(10))\n",
        "plt.clim(-0.5, 9.5)\n",
        "plt.show()"
      ]
    }
  ],
  "metadata": {
    "accelerator": "GPU",
    "colab": {
      "collapsed_sections": [],
      "name": "VAEs.ipynb",
      "provenance": []
    },
    "interpreter": {
      "hash": "092bf18aecc55aef496ffbc6cc353c2203dc3161741cf495c00395ce4a3c9d87"
    },
    "kernelspec": {
      "display_name": "Python 3.8.8 64-bit ('anaconda3': virtualenv)",
      "name": "python3"
    },
    "language_info": {
      "name": "python",
      "version": ""
    }
  },
  "nbformat": 4,
  "nbformat_minor": 0
}