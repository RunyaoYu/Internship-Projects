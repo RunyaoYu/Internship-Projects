{
 "cells": [
  {
   "cell_type": "code",
   "execution_count": 14,
   "metadata": {},
   "outputs": [],
   "source": [
    "#! pip install imblearn\n",
    "#! pip install xgboost\n",
    "\n",
    "#from imblearn.over_sampling import RandomOverSampler\n",
    "import seaborn as sns\n",
    "from sklearn.metrics import confusion_matrix\n",
    "import zipfile\n",
    "from zipfile import ZipFile\n",
    "from pathlib import Path\n",
    "from typing import Dict, Optional, List, Sequence, Tuple, Any\n",
    "import pandas as pd\n",
    "from pandas import DataFrame\n",
    "import numpy as np\n",
    "from sklearn.model_selection import train_test_split, StratifiedShuffleSplit\n",
    "from sklearn.feature_extraction.text import TfidfVectorizer\n",
    "from sklearn.pipeline import Pipeline\n",
    "from sklearn.preprocessing import FunctionTransformer\n",
    "from sklearn.preprocessing import StandardScaler\n",
    "from sklearn.model_selection import GridSearchCV\n",
    "from sklearn.model_selection import ParameterGrid\n",
    "from sklearn.ensemble import RandomForestClassifier\n",
    "from sklearn.linear_model import LogisticRegression\n",
    "#from xgboost import XGBClassifier\n",
    "from sklearn.metrics import accuracy_score, classification_report\n",
    "from docx import Document\n",
    "import matplotlib.pyplot as plt\n",
    "import dill as pkl  # dill is used because pickle cannot handle lambda functions\n",
    "import pickle\n",
    "from datetime import date\n",
    "from pathlib import Path\n",
    "import zipfile\n",
    "from zipfile import ZipFile\n",
    "import dill as pkl\n",
    "import os\n",
    "import pandas as pd\n",
    "import numpy as np\n",
    "import sklearn\n",
    "import matplotlib.pyplot as plt\n",
    "%matplotlib inline\n",
    "\n",
    "TODAY = date.today().strftime(\"%Y%m%d\")\n",
    "CLIENT = \"Uniper\"\n",
    "MIN_NUM_OF_SAMPLES = 5\n",
    "COUNTRY = 'ALL'\n",
    "SAVE_CLFS = True\n",
    "RES_DIR = Path(\"./retraining_october21/\")\n",
    "SCAN_ID_COL = \"filename\"  # document identifier col used when reducing global df to relevant examples for attribute"
   ]
  },
  {
   "cell_type": "code",
   "execution_count": 2,
   "id": "c703ff17",
   "metadata": {},
   "outputs": [],
   "source": [
    "if not os.path.exists(RES_DIR):\n",
    "    os.makedirs(RES_DIR)"
   ]
  },
  {
   "cell_type": "code",
   "execution_count": 3,
   "id": "448f60ae",
   "metadata": {},
   "outputs": [],
   "source": [
    "def reduce_to_relevant(df: DataFrame, col: str, min_num_samples: int) -> DataFrame:\n",
    "    # find rows for values that appear at least min_num_samples times\n",
    "    relevant = [x for x in df[col].value_counts().index\n",
    "                if df[col].value_counts()[x] >= min_num_samples]\n",
    "    # create boolean mask\n",
    "    mask = [(x in relevant) for x in df[col]]\n",
    "    print(\n",
    "        f\"Reduced to {len(df[mask])} samples from {len(relevant)} relevant classes. (N={min_num_samples})\"\n",
    "    )\n",
    "    return df[mask]\n",
    "\n",
    "\n",
    "def get_reduced_df(\n",
    "        df: DataFrame,\n",
    "        feature_col: str,\n",
    "        scan_id_col: str,\n",
    "        min_num_samples: int) -> DataFrame:\n",
    "    # keep only documents with unambiguous value for this col\n",
    "    df_ = df.drop_duplicates(subset=[scan_id_col, feature_col])\\\n",
    "            .groupby(scan_id_col)\\\n",
    "            .filter(lambda x: len(x) == 1)\n",
    "\n",
    "    return reduce_to_relevant(df_, feature_col, min_num_samples)\n",
    "\n",
    "\n",
    "def split_for_target_col(df, col, test_size=0.2, random_state=42):\n",
    "    return train_test_split(\n",
    "        df,\n",
    "        df[col],\n",
    "        test_size=test_size,\n",
    "        random_state=random_state\n",
    "    )\n",
    "\n",
    "\n",
    "def split_for_target_col_stratified(df, col, test_size=0.2, random_state=42,):\n",
    "    return train_test_split(df,\n",
    "        df[col],\n",
    "        test_size=test_size,\n",
    "        random_state=random_state,\n",
    "        stratify=df[col]\n",
    "    )\n",
    "\n",
    "\n",
    "def _get_top_n_results_with_confs(\n",
    "        clazzes: Sequence[str],\n",
    "        probs: List[float],\n",
    "        n: int = 1) -> List[Tuple[str, float]]:\n",
    "    return sorted(\n",
    "        zip(clazzes, probs),\n",
    "        key=lambda x: x[1],\n",
    "        reverse=True\n",
    "    )[:n]\n",
    "\n",
    "\n",
    "def get_results_for_target(\n",
    "        target_clf: Any,\n",
    "        df: DataFrame) -> List[Tuple[str, float]]:\n",
    "    probs = target_clf.predict_proba(df)\n",
    "    clazzes = target_clf.classes_\n",
    "    results = []\n",
    "    for prob_list in probs:\n",
    "        results.append(_get_top_n_results_with_confs(clazzes, prob_list)[0])\n",
    "    return results"
   ]
  },
  {
   "cell_type": "code",
   "execution_count": 4,
   "id": "c1cb4a3e",
   "metadata": {},
   "outputs": [],
   "source": [
    "%load_ext autoreload\n",
    "%autoreload 2"
   ]
  },
  {
   "cell_type": "code",
   "execution_count": 5,
   "id": "c3a68545",
   "metadata": {},
   "outputs": [
    {
     "name": "stdout",
     "output_type": "stream",
     "text": [
      "Models trained on Sunday 23. January 2022 with package versions: \n",
      "\n",
      "scikit-learn: 0.24.2\n",
      "dill: 0.3.4\n"
     ]
    }
   ],
   "source": [
    "tday = date.today().strftime(\"%A %d. %B %Y\") \n",
    "print(f\"Models trained on {tday} with package versions: \\n\")\n",
    "print(f\"scikit-learn: {sklearn.__version__}\")\n",
    "print(f\"dill: {pkl.__version__}\")"
   ]
  },
  {
   "cell_type": "code",
   "execution_count": 6,
   "id": "0b97ba05",
   "metadata": {},
   "outputs": [],
   "source": [
    "# dict used to enrich ground truth later\n",
    "country_to_country_group = {\n",
    "    \"DE\": 'de',\n",
    "    \"SE\": 'se',\n",
    "    \"AT\": 'at',\n",
    "    \"GB\": 'uk',\n",
    "    \"BE\": 'ubx',\n",
    "    \"NL\": 'ubx',\n",
    "    \"LU\": 'ubx'   \n",
    "}"
   ]
  },
  {
   "cell_type": "code",
   "execution_count": 7,
   "id": "9da3fd00",
   "metadata": {},
   "outputs": [],
   "source": [
    "df_ground_truth = pd.read_excel(\"C:/Users/runyaoyu/Desktop/Project1101/Sebastian/RetrainingOctober2021/Daten/Uniper_GT_09_21.xlsx\") #Uniper_GT_09_21.xlsx\n",
    "df_ground_truth.dropna(subset=['gl_document_scan_id'], inplace=True)\n",
    "df_ground_truth[\"gl_document_scan_id\"] = df_ground_truth[\"gl_document_scan_id\"].apply(lambda x: x.lower())\n"
   ]
  },
  {
   "cell_type": "code",
   "execution_count": 8,
   "id": "f2245e8e",
   "metadata": {},
   "outputs": [
    {
     "data": {
      "text/plain": [
       "de     47313\n",
       "se     36580\n",
       "ubx     4684\n",
       "uk      3829\n",
       "at      2429\n",
       "Name: country, dtype: int64"
      ]
     },
     "execution_count": 8,
     "metadata": {},
     "output_type": "execute_result"
    }
   ],
   "source": [
    "with open(\"C:/Users/runyaoyu/Desktop/Project1101/Sebastian/RetrainingOctober2021/Daten/texts_all_rt202110.pkl\", \"rb\") as file:\n",
    "    df_lume = pickle.load(file)\n",
    "\n",
    "df_merged = df_lume.merge(df_ground_truth, left_on=[\"filename\"], right_on=[\"gl_document_scan_id\"], how=\"inner\")\n",
    "df_merged[\"country\"] = df_merged['le_country_id'].apply(lambda x: country_to_country_group[x])\n",
    "df_merged[\"country\"].value_counts()\n"
   ]
  },
  {
   "cell_type": "code",
   "execution_count": 9,
   "id": "03f9c4c1",
   "metadata": {},
   "outputs": [
    {
     "name": "stdout",
     "output_type": "stream",
     "text": [
      "(94835, 57) \n",
      "\n",
      "shape de: (23618, 3)\n",
      "\n",
      "shape at: (478, 3)\n",
      "\n",
      "shape uk: (7865, 3)\n",
      "\n",
      "shape se: (22014, 3)\n",
      "\n",
      "shape ubx: (4629, 3)\n",
      "\n"
     ]
    }
   ],
   "source": [
    "df_lume = df_merged\n",
    "print(df_lume.shape, \"\\n\")\n",
    "\n",
    "for country in [\"de\", \"at\", \"uk\", \"se\", \"ubx\"]:\n",
    "    with open(f\"C:/Users/runyaoyu/Desktop/Project1101/Sebastian/RetrainingOctober2021/Daten/ocr_text_df_{country}.pkl\", 'rb') as file:  \n",
    "        df_lume_country = pickle.load(file)\n",
    "    df_lume_country[\"country\"] = country\n",
    "    print(f\"shape {country}: {df_lume_country.shape}\\n\")\n",
    "    df_lume = pd.concat([df_lume, df_lume_country], ignore_index=True)"
   ]
  },
  {
   "cell_type": "code",
   "execution_count": 10,
   "id": "0ff7a363",
   "metadata": {},
   "outputs": [],
   "source": [
    "df_lume = df_lume[[\"filename\", \"text\", \"country\", \"gl_posting_id\"]]\n",
    "df_lume.head()\n",
    "\n",
    "# some cleaning\n",
    "df_lume[\"filename\"] = df_lume[\"filename\"].apply(lambda filename: filename.lower())\n",
    "df_lume = df_lume[df_lume[\"text\"] != 0]\n",
    "df_lume = df_lume[df_lume[\"text\"] != '']\n",
    "df_lume[\"text\"] = df_lume[\"text\"].apply(lambda text: str(text).replace(\"\\r\\n\", \" \").replace(\"\\n\", \" \").lower())\n",
    "df_lume.dropna(subset=['text'], inplace=True)\n",
    "df_lume.drop_duplicates(inplace=True)"
   ]
  },
  {
   "cell_type": "code",
   "execution_count": 11,
   "id": "6585110e",
   "metadata": {},
   "outputs": [],
   "source": [
    "def get_certain_class_after_vec_country(df_lume, label):\n",
    "    label = label\n",
    "    df_attr = get_reduced_df(df_lume, label, SCAN_ID_COL, MIN_NUM_OF_SAMPLES)\n",
    "    x_train, x_test, y_train, y_test = split_for_target_col_stratified(df_attr, label)\n",
    "    vectorizer = TfidfVectorizer(max_features=20000, max_df=0.75, sublinear_tf=True,)\n",
    "    X_train = x_train['text']\n",
    "    X_train_vec = vectorizer.fit_transform(X_train)\n",
    "    X_test = x_test['text']\n",
    "    X_test_vec = vectorizer.transform(X_test)\n",
    "    return x_train, x_test, y_train, y_test, X_train_vec, X_test_vec"
   ]
  },
  {
   "cell_type": "code",
   "execution_count": 12,
   "id": "5efc4ebc",
   "metadata": {},
   "outputs": [
    {
     "name": "stdout",
     "output_type": "stream",
     "text": [
      "Reduced to 89503 samples from 5 relevant classes. (N=5)\n"
     ]
    }
   ],
   "source": [
    "# country\n",
    "label = 'country'\n",
    "x_train, x_test, y_train, y_test, X_train_vec, X_test_vec = get_certain_class_after_vec_country(df_lume, label)"
   ]
  },
  {
   "cell_type": "code",
   "execution_count": null,
   "id": "9a7cb421",
   "metadata": {},
   "outputs": [],
   "source": [
    "def see_before_balance(y_train, y_test, y):\n",
    "    f,a = plt.subplots()\n",
    "    sns.histplot(y_train, label='train',ax=a,stat='count',alpha =0.7,color='orange')\n",
    "    sns.histplot(y_test,label='test',ax=a,stat='count',alpha =0.7,color='purple')\n",
    "    sns.histplot(y, label='full', ax=a,stat='count',alpha=0.7,color='green')\n",
    "    a.set_xlabel('Class')\n",
    "    a.legend()\n",
    "    plt.show()\n",
    "\n",
    "\n",
    "def see_after_balance(y_train, y_test, y, X_train_vec, X_test_vec):\n",
    "    ros = RandomOverSampler(random_state=2)\n",
    "    X_train_vec, y_train = ros.fit_resample(X_train_vec, y_train)\n",
    "\n",
    "    f,a = plt.subplots()\n",
    "    sns.histplot(y_train, label='train',ax =a,stat='count',alpha =0.7,color='orange')\n",
    "    sns.histplot(y_test,label='test',ax=a,stat='count',alpha =0.7,color='green')\n",
    "\n",
    "    a.set_xlabel('Class')\n",
    "    a.legend()\n",
    "    plt.show()"
   ]
  },
  {
   "cell_type": "code",
   "execution_count": 13,
   "id": "36f4a59c",
   "metadata": {},
   "outputs": [],
   "source": [
    "# Runyao, added parameter search\n",
    "def train_statistical_model(model, X_train_vec, y_train, X_test_vec, y_test):\n",
    "\n",
    "    model.fit(X_train_vec, y_train)\n",
    "    y_train_pred = model.predict(X_train_vec)\n",
    "    y_test_pred = model.predict(X_test_vec)\n",
    "\n",
    "    print(model.best_params_)\n",
    "    print(model.best_score_)\n",
    "    print(\"Training Accuracy: {:.3f}\".format(accuracy_score(y_train, y_train_pred)))\n",
    "    print(\"Test Accuracy: {:.3f}\".format(accuracy_score(y_test, y_test_pred)))\n",
    "\n",
    "    print(classification_report(y_test, y_test_pred))\n",
    "\n",
    "    # confusion matix\n",
    "    conf_train = confusion_matrix(y_train, y_train_pred)\n",
    "    conf_test = confusion_matrix(y_test, y_test_pred)\n",
    "\n",
    "    fg, (ax1, ax2) = plt.subplots(1,2,figsize=(10,4))\n",
    "    sns.heatmap(conf_train, annot=True, fmt=\"d\", ax=ax1)\n",
    "    ax1.set(xlabel=\"predicted label\")\n",
    "    ax1.set(ylabel=\"actual label\")\n",
    "    #ax1.set_xticklabels(['0','1'])\n",
    "    #ax1.set_yticklabels(['0','1'])\n",
    "    ax1.set(title=\"Confusion Matrix for training set\")\n",
    "\n",
    "    sns.heatmap(conf_test, annot=True, fmt=\"d\", ax=ax2)\n",
    "    ax2.set(xlabel=\"predicted label\")\n",
    "    ax2.set(ylabel=\"actual label\")\n",
    "    #ax2.set_xticklabels(['0','1'])\n",
    "    #ax2.set_yticklabels(['0','1'])\n",
    "    ax2.set(title=\"Confusion Matrix for test set\")"
   ]
  },
  {
   "cell_type": "code",
   "execution_count": 16,
   "id": "58d3d629",
   "metadata": {},
   "outputs": [
    {
     "name": "stdout",
     "output_type": "stream",
     "text": [
      "Fitting 10 folds for each of 45 candidates, totalling 450 fits\n"
     ]
    },
    {
     "name": "stderr",
     "output_type": "stream",
     "text": [
      "C:\\Users\\runyaoyu\\anacondaaa\\lib\\site-packages\\sklearn\\model_selection\\_search.py:922: UserWarning: One or more of the test scores are non-finite: [0.99935755 0.99930169        nan 0.99931566 0.99935756 0.99810062\n",
      " 0.99810062 0.99762576 0.99810062 0.99814251        nan        nan\n",
      "        nan        nan        nan 0.99935755 0.99930169        nan\n",
      " 0.99927376 0.99930169 0.99808665 0.99808665 0.9975699  0.99808665\n",
      " 0.99810062        nan        nan        nan        nan        nan\n",
      " 0.99935755 0.99930169        nan 0.99930169 0.99927376 0.99807268\n",
      " 0.99807268 0.99750007 0.99807268 0.99807268        nan        nan\n",
      "        nan        nan        nan]\n",
      "  warnings.warn(\n",
      "C:\\Users\\runyaoyu\\anacondaaa\\lib\\site-packages\\sklearn\\linear_model\\_sag.py:328: ConvergenceWarning: The max_iter was reached which means the coef_ did not converge\n",
      "  warnings.warn(\"The max_iter was reached which means \"\n"
     ]
    },
    {
     "name": "stdout",
     "output_type": "stream",
     "text": [
      "{'C': 1, 'penalty': 'none', 'solver': 'saga'}\n",
      "0.9993575555519151\n",
      "Training Accuracy: 1.000\n",
      "Test Accuracy: 0.999\n",
      "              precision    recall  f1-score   support\n",
      "\n",
      "          at       1.00      1.00      1.00       153\n",
      "          de       1.00      1.00      1.00      7726\n",
      "          se       1.00      1.00      1.00      7005\n",
      "         ubx       1.00      1.00      1.00      1309\n",
      "          uk       1.00      1.00      1.00      1708\n",
      "\n",
      "    accuracy                           1.00     17901\n",
      "   macro avg       1.00      1.00      1.00     17901\n",
      "weighted avg       1.00      1.00      1.00     17901\n",
      "\n"
     ]
    },
    {
     "data": {
      "image/png": "[encoded data removed]",
      "text/plain": [
       "<Figure size 720x288 with 4 Axes>"
      ]
     },
     "metadata": {
      "needs_background": "light"
     },
     "output_type": "display_data"
    }
   ],
   "source": [
    "# Runyao, added parameter search\n",
    "lr = LogisticRegression()\n",
    "parameters = {'penalty': ['none', 'l2', 'elasticnet'], 'C':[1, 0.95, 0.9], 'solver': ['newton-cg', 'lbfgs', 'liblinear', 'sag', 'saga']}\n",
    "model = GridSearchCV(lr, parameters, n_jobs=-1, verbose=1, scoring='accuracy', cv=10)\n",
    "#model.get_params().keys()\n",
    "train_statistical_model(model, X_train_vec, y_train, X_test_vec, y_test)"
   ]
  },
  {
   "cell_type": "code",
   "execution_count": 17,
   "id": "a7051503",
   "metadata": {},
   "outputs": [
    {
     "data": {
      "text/plain": [
       "40.0    61677\n",
       "NaN     58383\n",
       "50.0     5581\n",
       "70.0        5\n",
       "91.0        4\n",
       "80.0        1\n",
       "Name: gl_posting_id, dtype: int64"
      ]
     },
     "execution_count": 17,
     "metadata": {},
     "output_type": "execute_result"
    }
   ],
   "source": [
    "df_lume['gl_posting_id'].value_counts(dropna=False)"
   ]
  },
  {
   "cell_type": "code",
   "execution_count": 18,
   "id": "78d9099d",
   "metadata": {},
   "outputs": [],
   "source": [
    "df_lume.dropna(subset=['gl_posting_id'], inplace=True)\n",
    "df_lume[\"gl_posting_id\"] = df_lume[\"gl_posting_id\"].apply(lambda x: int(x))"
   ]
  },
  {
   "cell_type": "code",
   "execution_count": 19,
   "id": "431232a5",
   "metadata": {},
   "outputs": [],
   "source": [
    "def get_certain_class_after_vec_gl_posting(df_lume, label):\n",
    "    label = label\n",
    "    df_attr = get_reduced_df(df_lume, label, SCAN_ID_COL, min_num_samples=6)\n",
    "    x_train, x_test, y_train, y_test = split_for_target_col_stratified(df_attr, label)\n",
    "    vectorizer = TfidfVectorizer(max_features=20000, max_df=0.75, sublinear_tf=True,)\n",
    "    X_train = x_train['text']\n",
    "    X_train_vec = vectorizer.fit_transform(X_train)\n",
    "    X_test = x_test['text']\n",
    "    X_test_vec = vectorizer.transform(X_test)\n",
    "    return x_train, x_test, y_train, y_test, X_train_vec, X_test_vec"
   ]
  },
  {
   "cell_type": "code",
   "execution_count": 20,
   "id": "9a39e460",
   "metadata": {},
   "outputs": [
    {
     "name": "stdout",
     "output_type": "stream",
     "text": [
      "Reduced to 62601 samples from 2 relevant classes. (N=6)\n"
     ]
    }
   ],
   "source": [
    "label = 'gl_posting_id'\n",
    "x_train, x_test, y_train, y_test, X_train_vec, X_test_vec = get_certain_class_after_vec_gl_posting(df_lume, label)"
   ]
  },
  {
   "cell_type": "code",
   "execution_count": 21,
   "id": "acc3f768",
   "metadata": {},
   "outputs": [
    {
     "name": "stdout",
     "output_type": "stream",
     "text": [
      "Fitting 10 folds for each of 45 candidates, totalling 450 fits\n"
     ]
    },
    {
     "name": "stderr",
     "output_type": "stream",
     "text": [
      "C:\\Users\\runyaoyu\\anacondaaa\\lib\\site-packages\\sklearn\\model_selection\\_search.py:922: UserWarning: One or more of the test scores are non-finite: [0.98759984 0.98823882        nan 0.98973642 0.98979633 0.97140575\n",
      " 0.97140575 0.97144569 0.97140575 0.97144569        nan        nan\n",
      "        nan        nan        nan 0.98759984 0.98823882        nan\n",
      " 0.98971645 0.98975639 0.97072684 0.97072684 0.97072684 0.97072684\n",
      " 0.97074681        nan        nan        nan        nan        nan\n",
      " 0.98759984 0.98823882        nan 0.98971645 0.98973642 0.97020767\n",
      " 0.97022764 0.97020767 0.97022764 0.97020767        nan        nan\n",
      "        nan        nan        nan]\n",
      "  warnings.warn(\n",
      "C:\\Users\\runyaoyu\\anacondaaa\\lib\\site-packages\\sklearn\\linear_model\\_sag.py:328: ConvergenceWarning: The max_iter was reached which means the coef_ did not converge\n",
      "  warnings.warn(\"The max_iter was reached which means \"\n"
     ]
    },
    {
     "name": "stdout",
     "output_type": "stream",
     "text": [
      "{'C': 1, 'penalty': 'none', 'solver': 'saga'}\n",
      "0.9897963258785942\n",
      "Training Accuracy: 1.000\n",
      "Test Accuracy: 0.989\n",
      "              precision    recall  f1-score   support\n",
      "\n",
      "          40       0.99      1.00      0.99     11829\n",
      "          50       0.95      0.85      0.90       692\n",
      "\n",
      "    accuracy                           0.99     12521\n",
      "   macro avg       0.97      0.92      0.95     12521\n",
      "weighted avg       0.99      0.99      0.99     12521\n",
      "\n"
     ]
    },
    {
     "data": {
      "image/png": "[encoded data removed]",
      "text/plain": [
       "<Figure size 720x288 with 4 Axes>"
      ]
     },
     "metadata": {
      "needs_background": "light"
     },
     "output_type": "display_data"
    }
   ],
   "source": [
    "# Runyao, added parameter search\n",
    "lr = LogisticRegression()\n",
    "parameters = {'penalty': ['none', 'l2', 'elasticnet'], 'C':[1, 0.95, 0.9], 'solver': ['newton-cg', 'lbfgs', 'liblinear', 'sag', 'saga']}\n",
    "model = GridSearchCV(lr, parameters, n_jobs=-1, verbose=1, scoring='accuracy', cv=10)\n",
    "#model.get_params().keys()\n",
    "train_statistical_model(model, X_train_vec, y_train, X_test_vec, y_test)"
   ]
  }
 ],
 "metadata": {
  "kernelspec": {
   "display_name": "Python 3 (ipykernel)",
   "language": "python",
   "name": "python3"
  },
  "language_info": {
   "codemirror_mode": {
    "name": "ipython",
    "version": 3
   },
   "file_extension": ".py",
   "mimetype": "text/x-python",
   "name": "python",
   "nbconvert_exporter": "python",
   "pygments_lexer": "ipython3",
   "version": "3.9.7"
  }
 },
 "nbformat": 4,
 "nbformat_minor": 5
}
