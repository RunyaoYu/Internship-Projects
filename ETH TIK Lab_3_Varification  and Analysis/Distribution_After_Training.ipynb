{
  "cells": [
    {
      "cell_type": "code",
      "execution_count": 1,
      "metadata": {
        "id": "IOxN_7oTgIWd"
      },
      "outputs": [],
      "source": [
        "\"\"\"\n",
        "Author: Runyao Yu\n",
        "runyao.yu@tum.de\n",
        "Research Internship in ETH Zurich\n",
        "For Academic Use Purpose only\n",
        "\"\"\"\n",
        "\n",
        "import pandas as pd\n",
        "import matplotlib.pyplot as plt\n",
        "import seaborn as sns\n",
        "import os"
      ]
    },
    {
      "cell_type": "code",
      "execution_count": 3,
      "metadata": {
        "id": "9xB5Aqe0gIWf"
      },
      "outputs": [],
      "source": [
        "def count_sub_class(data):\n",
        "    count = 0\n",
        "    label = data.iloc[:,11].tolist() #11 for bert， 9 for logistic\n",
        "    for i in range(len(label)):\n",
        "        if label[i] == 1:\n",
        "            count+=1\n",
        "    return count\n",
        "\n",
        "\n",
        "def selected_person(person_num, path):\n",
        "    Want_to_have_Relation, Want_to_have_more_Infor, Share_Opinion_and_Expe = 0, 0, 0\n",
        "    Relationship, Social_Contact_and_Friendship, Sex, Appearance_and_Figure, Location, Education_and_Career, Personal_Information, Daily_Life = 0, 0, 0, 0, 0, 0, 0, 0\n",
        "    for root, dirs, files in os.walk(path): \n",
        "        for name in files:\n",
        "            path = os.path.join(root, name)\n",
        "            if \"xlsx\" in path: # csv/xlsx\n",
        "                data = pd.read_excel(path)\n",
        "                #print('handsome boy is reading:', name[:], '...')\n",
        "                index = name.rfind(\"_\")\n",
        "                person = name[:index]\n",
        "                for k in range(len(person_num)):\n",
        "                    temp = str(person_num[k])\n",
        "                    if person == temp:\n",
        "                        if name[index+1:] == \"Wanna know each other.xlsx\":\n",
        "                            Want_to_have_Relation += count_sub_class(data)\n",
        "                        if name[index+1:] == \"For more information.xlsx\":\n",
        "                            Want_to_have_more_Infor += count_sub_class(data)\n",
        "                        if name[index+1:] == \"Expressing.xlsx\":\n",
        "                            Share_Opinion_and_Expe += count_sub_class(data)\n",
        "                        if name[index+1:] == \"Relation.xlsx\":\n",
        "                            Relationship += count_sub_class(data)\n",
        "                        if name[index+1:] == \"Socialization.xlsx\":\n",
        "                            Social_Contact_and_Friendship += count_sub_class(data)\n",
        "                        if name[index+1:] == \"Sex.xlsx\":\n",
        "                            Sex += count_sub_class(data)\n",
        "                        if name[index+1:] == \"Appearance.xlsx\":\n",
        "                            Appearance_and_Figure += count_sub_class(data)\n",
        "                        if name[index+1:] == \"Location.xlsx\":\n",
        "                            Location += count_sub_class(data)\n",
        "                        if name[index+1:] == \"Education and Careers.xlsx\":\n",
        "                            Education_and_Career += count_sub_class(data)\n",
        "                        if name[index+1:] == \"Personal Information.xlsx\":\n",
        "                            Personal_Information += count_sub_class(data)\n",
        "                        if name[index+1:] == \"Daily life.xlsx\":\n",
        "                            Daily_Life += count_sub_class(data)\n",
        "    return Want_to_have_Relation, Want_to_have_more_Infor, Share_Opinion_and_Expe, Relationship, Social_Contact_and_Friendship, Sex, Appearance_and_Figure, Location, Education_and_Career, Personal_Information, Daily_Life\n",
        "\n",
        "\n",
        "def find_most(Want_to_have_Relation, Want_to_have_more_Infor, Share_Opinion_and_Expe, Relationship, Social_Contact_and_Friendship, Sex, Appearance_and_Figure, Location, Education_and_Career, Personal_Information, Daily_Life):\n",
        "    all = [Want_to_have_Relation, Want_to_have_more_Infor, Share_Opinion_and_Expe, Relationship, Social_Contact_and_Friendship, Sex, Appearance_and_Figure, Location, Education_and_Career, Personal_Information, Daily_Life]\n",
        "    all_name = [\"Want_to_have_Relation\", \"Want_to_have_more_Infor\", \"Share_Opinion_and_Expe\", \"Relationship\", \"Social_Contact_and_Friendship\", \"Sex\", \"Appearance_and_Figure\", \"Location\", \"Education_and_Career\", \"Personal_Information\", \"Daily_Life\"]\n",
        "    sorted_all = sorted(all,reverse=True)\n",
        "    index0 = all.index(sorted_all[0])\n",
        "    index1 = all.index(sorted_all[1])\n",
        "    index2 = all.index(sorted_all[2])\n",
        "    print(\"{}:\".format(all_name[index0]),sorted_all[0])\n",
        "    print(\"{}:\".format(all_name[index1]),sorted_all[1])\n",
        "    print(\"{}:\".format(all_name[index2]),sorted_all[2])\n",
        "    #return all_name[index0], sorted_all[0], all_name[index1], sorted_all[1], all_name[index2], sorted_all[2]\n",
        "\n",
        "\n",
        "def find_most_motivation(Want_to_have_Relation, Want_to_have_more_Infor, Share_Opinion_and_Expe):\n",
        "    all = [Want_to_have_Relation, Want_to_have_more_Infor, Share_Opinion_and_Expe]\n",
        "    all_name = [\"Want_to_have_Relation\", \"Want_to_have_more_Infor\", \"Share_Opinion_and_Expe\"]\n",
        "    index = all.index(max(all))\n",
        "    print(\"{}:\".format(all_name[index]),max(all))\n",
        "    #return all_name[index], max(all)\n",
        "\n",
        "\n",
        "def find_most_topics(Relationship, Social_Contact_and_Friendship, Sex, Appearance_and_Figure, Location, Education_and_Career, Personal_Information, Daily_Life):\n",
        "    all = [Relationship, Social_Contact_and_Friendship, Sex, Appearance_and_Figure, Location, Education_and_Career, Personal_Information, Daily_Life]\n",
        "    all_name = [\"Relationship\", \"Social_Contact_and_Friendship\", \"Sex\", \"Appearance_and_Figure\", \"Location\", \"Education_and_Career\", \"Personal_Information\", \"Daily_Life\"]\n",
        "    sorted_all = sorted(all,reverse=True)\n",
        "    index0 = all.index(sorted_all[0])\n",
        "    index1 = all.index(sorted_all[1])\n",
        "    index2 = all.index(sorted_all[2])\n",
        "    print(\"{}:\".format(all_name[index0]),sorted_all[0])\n",
        "    print(\"{}:\".format(all_name[index1]),sorted_all[1])\n",
        "    print(\"{}:\".format(all_name[index2]),sorted_all[2])\n",
        "    #return all_name[index0], sorted_all[0], all_name[index1], sorted_all[1], all_name[index2], sorted_all[2]\n",
        "\n",
        "\n",
        "def selected_statistics_output(person_num,path):\n",
        "    Want_to_have_Relation, Want_to_have_more_Infor, Share_Opinion_and_Expe, Relationship, Social_Contact_and_Friendship, Sex, Appearance_and_Figure, Location, Education_and_Career, Personal_Information, Daily_Life = selected_person(person_num,path)\n",
        "    print(\"Distribution of Selected Numbers:\")\n",
        "    print(\"----------------------------------\")\n",
        "    print(\"Want_to_have_Relation:\", Want_to_have_Relation)\n",
        "    print(\"Want_to_have_more_Infor:\", Want_to_have_more_Infor)\n",
        "    print(\"Share_Opinion_and_Expe:\", Share_Opinion_and_Expe)\n",
        "    print(\"Relationship:\", Relationship)\n",
        "    print(\"Social_Contact_and_Friendship:\", Social_Contact_and_Friendship)\n",
        "    print(\"Sex:\", Sex)\n",
        "    print(\"Appearance_and_Figure:\", Appearance_and_Figure)\n",
        "    print(\"Location:\", Location)\n",
        "    print(\"Education_and_Career:\", Education_and_Career)\n",
        "    print(\"Personal_Information:\", Personal_Information)\n",
        "    print(\"Daily_Life:\", Daily_Life)\n",
        "    print(\"\\n\")\n",
        "\n",
        "    print(\"Most Motivation of Selected Numbers:\")\n",
        "    print(\"----------------------------------\")\n",
        "    find_most_motivation(Want_to_have_Relation, Want_to_have_more_Infor, Share_Opinion_and_Expe)\n",
        "    print(\"\\n\")\n",
        "    \n",
        "    print(\"Most Topics of Selected Numbers:\")\n",
        "    print(\"----------------------------------\")\n",
        "    find_most_topics(Relationship, Social_Contact_and_Friendship, Sex, Appearance_and_Figure, Location, Education_and_Career, Personal_Information, Daily_Life)\n",
        "\n",
        "    #print(\"most sub-classes of selected number:\")\n",
        "    #find_most(Want_to_have_Relation, Want_to_have_more_Infor, Share_Opinion_and_Expe, Relationship, Social_Contact_and_Friendship, Sex, Appearance_and_Figure, Location, Education_and_Career, Personal_Information, Daily_Life)\n",
        "    #print(\"----------------------------------\")\n",
        "    #print(\"\\n\")\n",
        "\n",
        "\n",
        "def total_statistics(path):\n",
        "    Want_to_have_Relation, Want_to_have_more_Infor, Share_Opinion_and_Expe = 0, 0, 0\n",
        "    Relationship, Social_Contact_and_Friendship, Sex, Appearance_and_Figure, Location, Education_and_Career, Personal_Information, Daily_Life = 0, 0, 0, 0, 0, 0, 0, 0\n",
        "\n",
        "    for root, dirs, files in os.walk(path): # add the path, make sure that under the main folder there is a folder (specific requirement for os.walk)\n",
        "        for name in files:\n",
        "            path = os.path.join(root, name)\n",
        "            if \"xlsx\" in path: #csv\n",
        "                data = pd.read_excel(path) # delimiter can be varied for different csv files; print csv_data[0] to check delimiter and header.\n",
        "                #print('handsome boy is reading:', name[:], '...')\n",
        "                index = name.rfind(\"_\")\n",
        "                # class name: name[index+1:]\n",
        "                # index name: name[:index]\n",
        "                if name[index+1:] == \"Wanna know each other.xlsx\":\n",
        "                    Want_to_have_Relation += count_sub_class(data)\n",
        "                if name[index+1:] == \"For more information.xlsx\":\n",
        "                    Want_to_have_more_Infor += count_sub_class(data)\n",
        "                if name[index+1:] == \"Expressing.xlsx\":\n",
        "                    Share_Opinion_and_Expe += count_sub_class(data)\n",
        "                if name[index+1:] == \"Relation.xlsx\":\n",
        "                    Relationship += count_sub_class(data)\n",
        "                if name[index+1:] == \"Socialization.xlsx\":\n",
        "                    Social_Contact_and_Friendship += count_sub_class(data)\n",
        "                if name[index+1:] == \"Sex.xlsx\":\n",
        "                    Sex += count_sub_class(data)\n",
        "                if name[index+1:] == \"Appearance.xlsx\":\n",
        "                    Appearance_and_Figure += count_sub_class(data)\n",
        "                if name[index+1:] == \"Location.xlsx\":\n",
        "                    Location += count_sub_class(data)\n",
        "                if name[index+1:] == \"Education and Careers.xlsx\":\n",
        "                    Education_and_Career += count_sub_class(data)\n",
        "                if name[index+1:] == \"Personal Information.xlsx\":\n",
        "                    Personal_Information += count_sub_class(data)\n",
        "                if name[index+1:] == \"Daily life.xlsx\":\n",
        "                    Daily_Life += count_sub_class(data)\n",
        "    print(\"Distribution of All Numbers:\")\n",
        "    print(\"----------------------------------\")\n",
        "    print(\"Want_to_have_Relation:\", Want_to_have_Relation)\n",
        "    print(\"Want_to_have_more_Infor:\", Want_to_have_more_Infor)\n",
        "    print(\"Share_Opinion_and_Expe:\", Share_Opinion_and_Expe)\n",
        "    print(\"Relationship:\", Relationship)\n",
        "    print(\"Social_Contact_and_Friendship:\", Social_Contact_and_Friendship)\n",
        "    print(\"Sex:\", Sex)\n",
        "    print(\"Appearance_and_Figure:\", Appearance_and_Figure)\n",
        "    print(\"Location:\", Location)\n",
        "    print(\"Education_and_Career:\", Education_and_Career)\n",
        "    print(\"Personal_Information:\", Personal_Information)\n",
        "    print(\"Daily_Life:\", Daily_Life)\n"
      ]
    },
    {
      "cell_type": "code",
      "execution_count": 4,
      "metadata": {
        "id": "ThUa3VX_gIWi"
      },
      "outputs": [],
      "source": [
        "# set the parameters here #\n",
        "# ----------------------------------------------------------------------------------\n",
        "path = \"/Users/rampageyao/Desktop/Predicted_Data/augmentation_comment/new_500comment\"\n",
        "person_num = [1,2,3]\n",
        "# ----------------------------------------------------------------------------------"
      ]
    },
    {
      "cell_type": "code",
      "execution_count": null,
      "metadata": {
        "id": "YeWTApVugIWj",
        "outputId": "e0effe26-0e9f-49ad-e940-959bcd1adf38"
      },
      "outputs": [
        {
          "name": "stdout",
          "output_type": "stream",
          "text": [
            "Distribution of All Numbers:\n",
            "----------------------------------\n",
            "Want_to_have_Relation: 6091\n",
            "Want_to_have_more_Infor: 6338\n",
            "Share_Opinion_and_Expe: 10798\n",
            "Relationship: 13499\n",
            "Social_Contact_and_Friendship: 3884\n",
            "Sex: 4722\n",
            "Appearance_and_Figure: 5614\n",
            "Location: 8342\n",
            "Education_and_Career: 7688\n",
            "Personal_Information: 7271\n",
            "Daily_Life: 5002\n"
          ]
        }
      ],
      "source": [
        "# BERT TOTAL\n",
        "path = \"/Users/rampageyao/Desktop/new_new_test/new_500comment\"\n",
        "total_statistics(path)\n"
      ]
    },
    {
      "cell_type": "code",
      "execution_count": 16,
      "metadata": {
        "colab": {
          "base_uri": "https://localhost:8080/",
          "height": 417
        },
        "id": "BiAa7xPdgIWk",
        "outputId": "a9cdd128-3084-432a-8d52-97c355d14be3"
      },
      "outputs": [
        {
          "data": {
            "image/png": "[encoded data removed]",
            "text/plain": [
              "<Figure size 648x504 with 1 Axes>"
            ]
          },
          "metadata": {},
          "output_type": "display_data"
        }
      ],
      "source": [
        "# interact\n",
        "def Pie(sizes):\n",
        "  plt.figure(figsize=(9,7)) #调节图形大小\n",
        "  labels = [\"Want to have Relation..\",\"Want to have more Info..\",\"Share Opinion and..\",\"Relationship\",\"Social Contact and..\",\"Sex\",\"Appearance and..\",\"Location\",\"Education and Career\",\"Personal Information\",\"Daily Life\"] #定义标签\n",
        "  colors = ['#1CAA15','#009CFF','#9999CC','#FF0068', '#75B2DF', '#7B9972', '#F3FCF0', '#F6EDD9','#FFD786','#DBA053','#A06D20'] #每块颜色定义\n",
        "  explode = (0.01,0.01,0.01,0.01,0.01,0.01,0.01,0.01,0.01,0.01,0.01)\n",
        "  #explode = (0,  0,    0,   0, 0,    0,    0,    0,  0,    0,    0) #将某一块分割出来，值越大分割出的间隙越大\n",
        "  patches,text1,text2 = plt.pie(sizes,\n",
        "                        explode=explode,\n",
        "                        labels=labels,\n",
        "                        colors=colors,\n",
        "                        autopct = '%2.1f%%', #数值保留固定小数位\n",
        "                        shadow = False, #无阴影设置\n",
        "                        startangle =90, #逆时针起始角度设置\n",
        "                        pctdistance = 0.6) #数值距圆心半径倍数的距离\n",
        "  #patches饼图的返回值，texts1饼图外label的文本，texts2饼图内部的文本\n",
        "  # x，y轴刻度设置一致，保证饼图为圆形\n",
        "  plt.axis('equal')\n",
        "  plt.savefig('/content/plot_total.png', dpi=600)\n",
        "  plt.show()\n",
        "\n",
        "sizes = [6091, 6338, 10798, 13499, 3884, 4722, 5614, 8342, 7688, 7271, 5002]\n",
        "Pie(sizes)"
      ]
    },
    {
      "cell_type": "code",
      "execution_count": null,
      "metadata": {
        "id": "8Gz1m5eogIWk"
      },
      "outputs": [],
      "source": [
        "import pygal\n",
        "sum_all = 6091+6338+10798+13499+3884+4722+5614+8342+7688+7271+5002\n",
        "data = {'Want to have Relationship':6091/sum_all, 'Want to have more Information':6338/sum_all, 'Share Opinion and..':10798/sum_all, 'Relationship':13499/sum_all, 'Social Contact and..':3884/sum_all, 'Sex':4722/sum_all, 'Appearance and Figure':5614/sum_all, 'Location':8342/sum_all, 'Education and Career':7688/sum_all, 'Personal Information':7271/sum_all, 'Daily Life':5002/sum_all}\n",
        "#sum_all = 6091+6338+10798+13499+3884+4722+5614+8342+7688+7271+5002\n",
        "#data = {'Want to have Relationship':6091, 'Want to have more Information':6338, 'Share Opinion and..':10798, 'Relationship':13499, 'Social Contact and..':3884, 'Sex':4722, 'Appearance and Figure':5614, 'Location':8342, 'Education and Career':7688, 'Personal Information':7271, 'Daily Life':5002}\n",
        "\n",
        "def Pie(data):\n",
        "    graph = pygal.Pie()# 创建图（饼图）/create figure\n",
        "    # 添加数据/add data\n",
        "    for k in data.keys():\n",
        "        graph.add(k, data[k])\n",
        "        \n",
        "    graph.title = 'Influence on Comments' # 设置图标题/set title\n",
        "    graph.legend_at_bottom = True # 设置图例位置（下面）/set position of explanation\n",
        "    graph.half_pie = True # if half circle\n",
        "    #graph.inner_radius = 0.5 # set radius\n",
        "    graph.render_to_file('/Users/rampageyao/Desktop/eth/Influence_on_Comments_1.svg')  \n",
        "\n",
        "Pie(data)"
      ]
    },
    {
      "cell_type": "code",
      "execution_count": 6,
      "metadata": {},
      "outputs": [
        {
          "data": {
            "text/html": [
              "<div>\n",
              "<style scoped>\n",
              "    .dataframe tbody tr th:only-of-type {\n",
              "        vertical-align: middle;\n",
              "    }\n",
              "\n",
              "    .dataframe tbody tr th {\n",
              "        vertical-align: top;\n",
              "    }\n",
              "\n",
              "    .dataframe thead th {\n",
              "        text-align: right;\n",
              "    }\n",
              "</style>\n",
              "<table border=\"1\" class=\"dataframe\">\n",
              "  <thead>\n",
              "    <tr style=\"text-align: right;\">\n",
              "      <th></th>\n",
              "      <th>Unnamed: 0</th>\n",
              "      <th>id</th>\n",
              "      <th>name</th>\n",
              "      <th>answer</th>\n",
              "      <th>找朋友</th>\n",
              "      <th>找对象</th>\n",
              "      <th>找炮友</th>\n",
              "      <th>分享</th>\n",
              "      <th>和以上无关</th>\n",
              "      <th>恋爱关系</th>\n",
              "      <th>社交/朋友</th>\n",
              "      <th>性</th>\n",
              "      <th>外貌/长相/身材</th>\n",
              "      <th>地理位置</th>\n",
              "      <th>教育/工作</th>\n",
              "      <th>个人信息</th>\n",
              "      <th>日常生活</th>\n",
              "      <th>无意义</th>\n",
              "    </tr>\n",
              "  </thead>\n",
              "  <tbody>\n",
              "    <tr>\n",
              "      <th>0</th>\n",
              "      <td>0</td>\n",
              "      <td>7e89fd170f75416553d793de7c29dfb8</td>\n",
              "      <td>无状态小黄</td>\n",
              "      <td>（恋爱了）被喜欢没有什么了不起的，被坚定的选择才值得骄傲。—————————————————...</td>\n",
              "      <td>1.0</td>\n",
              "      <td>1.0</td>\n",
              "      <td>0.0</td>\n",
              "      <td>1.0</td>\n",
              "      <td>0.0</td>\n",
              "      <td>1.0</td>\n",
              "      <td>1.0</td>\n",
              "      <td>1.0</td>\n",
              "      <td>1.0</td>\n",
              "      <td>1.0</td>\n",
              "      <td>1.0</td>\n",
              "      <td>1.0</td>\n",
              "      <td>1.0</td>\n",
              "      <td>0.0</td>\n",
              "    </tr>\n",
              "    <tr>\n",
              "      <th>1</th>\n",
              "      <td>1</td>\n",
              "      <td>80d4369b42aaac894635eb53519d732e</td>\n",
              "      <td>砖家级打怪兽</td>\n",
              "      <td>92年，27岁老叔叔，186cm，80kg。坐标在帝都，有稳定的工作。自己不帅气，但是想活的...</td>\n",
              "      <td>0.0</td>\n",
              "      <td>1.0</td>\n",
              "      <td>0.0</td>\n",
              "      <td>0.0</td>\n",
              "      <td>0.0</td>\n",
              "      <td>0.0</td>\n",
              "      <td>0.0</td>\n",
              "      <td>0.0</td>\n",
              "      <td>1.0</td>\n",
              "      <td>1.0</td>\n",
              "      <td>1.0</td>\n",
              "      <td>1.0</td>\n",
              "      <td>1.0</td>\n",
              "      <td>0.0</td>\n",
              "    </tr>\n",
              "    <tr>\n",
              "      <th>2</th>\n",
              "      <td>2</td>\n",
              "      <td>0</td>\n",
              "      <td>匿名用户</td>\n",
              "      <td>5.24更新开心开心(σﾟ∀ﾟ)σ5.4更新嘻嘻谢谢大家的鼓励和祝福(●´∇｀●)！我们会一...</td>\n",
              "      <td>0.0</td>\n",
              "      <td>0.0</td>\n",
              "      <td>0.0</td>\n",
              "      <td>1.0</td>\n",
              "      <td>0.0</td>\n",
              "      <td>1.0</td>\n",
              "      <td>0.0</td>\n",
              "      <td>0.0</td>\n",
              "      <td>0.0</td>\n",
              "      <td>1.0</td>\n",
              "      <td>0.0</td>\n",
              "      <td>0.0</td>\n",
              "      <td>1.0</td>\n",
              "      <td>0.0</td>\n",
              "    </tr>\n",
              "    <tr>\n",
              "      <th>3</th>\n",
              "      <td>3</td>\n",
              "      <td>1673fe848de163f1dc26be0d0a4b46f3</td>\n",
              "      <td>王六六</td>\n",
              "      <td>好久没更新了，来更新一下。健身小成果吧https://www.zhihu.com/video...</td>\n",
              "      <td>0.0</td>\n",
              "      <td>1.0</td>\n",
              "      <td>0.0</td>\n",
              "      <td>1.0</td>\n",
              "      <td>0.0</td>\n",
              "      <td>1.0</td>\n",
              "      <td>0.0</td>\n",
              "      <td>0.0</td>\n",
              "      <td>0.0</td>\n",
              "      <td>1.0</td>\n",
              "      <td>1.0</td>\n",
              "      <td>1.0</td>\n",
              "      <td>1.0</td>\n",
              "      <td>0.0</td>\n",
              "    </tr>\n",
              "    <tr>\n",
              "      <th>4</th>\n",
              "      <td>4</td>\n",
              "      <td>b44b26a9b69070306e82921777b73db8</td>\n",
              "      <td>Vincent</td>\n",
              "      <td>私聊我的朋友们，因为知乎确实不太可能做到及时回复，还请大家见谅。我有时间会一一回复。数据：2...</td>\n",
              "      <td>0.0</td>\n",
              "      <td>1.0</td>\n",
              "      <td>0.0</td>\n",
              "      <td>1.0</td>\n",
              "      <td>0.0</td>\n",
              "      <td>1.0</td>\n",
              "      <td>0.0</td>\n",
              "      <td>0.0</td>\n",
              "      <td>1.0</td>\n",
              "      <td>1.0</td>\n",
              "      <td>1.0</td>\n",
              "      <td>1.0</td>\n",
              "      <td>1.0</td>\n",
              "      <td>0.0</td>\n",
              "    </tr>\n",
              "  </tbody>\n",
              "</table>\n",
              "</div>"
            ],
            "text/plain": [
              "   Unnamed: 0                                id     name  \\\n",
              "0           0  7e89fd170f75416553d793de7c29dfb8    无状态小黄   \n",
              "1           1  80d4369b42aaac894635eb53519d732e   砖家级打怪兽   \n",
              "2           2                                 0     匿名用户   \n",
              "3           3  1673fe848de163f1dc26be0d0a4b46f3      王六六   \n",
              "4           4  b44b26a9b69070306e82921777b73db8  Vincent   \n",
              "\n",
              "                                              answer  找朋友  找对象  找炮友   分享  \\\n",
              "0  （恋爱了）被喜欢没有什么了不起的，被坚定的选择才值得骄傲。—————————————————...  1.0  1.0  0.0  1.0   \n",
              "1  92年，27岁老叔叔，186cm，80kg。坐标在帝都，有稳定的工作。自己不帅气，但是想活的...  0.0  1.0  0.0  0.0   \n",
              "2  5.24更新开心开心(σﾟ∀ﾟ)σ5.4更新嘻嘻谢谢大家的鼓励和祝福(●´∇｀●)！我们会一...  0.0  0.0  0.0  1.0   \n",
              "3  好久没更新了，来更新一下。健身小成果吧https://www.zhihu.com/video...  0.0  1.0  0.0  1.0   \n",
              "4  私聊我的朋友们，因为知乎确实不太可能做到及时回复，还请大家见谅。我有时间会一一回复。数据：2...  0.0  1.0  0.0  1.0   \n",
              "\n",
              "   和以上无关  恋爱关系  社交/朋友    性  外貌/长相/身材  地理位置  教育/工作  个人信息  日常生活  无意义  \n",
              "0    0.0   1.0    1.0  1.0       1.0   1.0    1.0   1.0   1.0  0.0  \n",
              "1    0.0   0.0    0.0  0.0       1.0   1.0    1.0   1.0   1.0  0.0  \n",
              "2    0.0   1.0    0.0  0.0       0.0   1.0    0.0   0.0   1.0  0.0  \n",
              "3    0.0   1.0    0.0  0.0       0.0   1.0    1.0   1.0   1.0  0.0  \n",
              "4    0.0   1.0    0.0  0.0       1.0   1.0    1.0   1.0   1.0  0.0  "
            ]
          },
          "execution_count": 6,
          "metadata": {},
          "output_type": "execute_result"
        }
      ],
      "source": [
        "df = pd.read_excel(\"/Users/rampageyao/Desktop/Research/Data/500_Self_Presentations_Labeled.xlsx\")\n",
        "df = df.fillna(0)\n",
        "df.head()"
      ]
    },
    {
      "cell_type": "code",
      "execution_count": 7,
      "metadata": {},
      "outputs": [],
      "source": [
        "#subclass selectable: \"找对象\",\"找炮友\",\"找朋友\",\"分享\",\"恋爱关系\",\"社交/朋友\",\"性\",\"外貌/长相/身材\",\"地理位置\",\"教育/工作\",\"个人信息\",\"日常生活\"\n",
        "def find_self_index(df,subclass):\n",
        "    temp = df[\"{}\".format(subclass)].tolist()\n",
        "    index_save = []\n",
        "    for i in range(len(temp)):\n",
        "        if temp[i] == 1.0:\n",
        "            index_save.append(i)\n",
        "    return index_save"
      ]
    },
    {
      "cell_type": "code",
      "execution_count": 8,
      "metadata": {},
      "outputs": [
        {
          "name": "stdout",
          "output_type": "stream",
          "text": [
            "[0, 1, 3, 4, 6, 7, 8, 10, 11, 13, 14, 16, 20, 23, 24, 28, 30, 34, 37, 38, 39, 40, 41, 42, 45, 47, 48, 49, 51, 52, 53, 54, 56, 58, 60, 61, 63, 65, 66, 67, 68, 70, 71, 72, 73, 74, 75, 76, 77, 78, 79, 80, 81, 82, 83, 84, 85, 86, 89, 91, 92, 93, 99, 100, 101, 102, 103, 105, 106, 107, 108, 109, 111, 112, 113, 114, 115, 116, 117, 118, 119, 121, 122, 123, 124, 125, 129, 130, 131, 132, 133, 134, 135, 136, 137, 138, 139, 140, 141, 142, 143, 144, 145, 146, 148, 149, 150, 151, 152, 154, 155, 156, 162, 164, 165, 166, 167, 168, 169, 170, 171, 173, 174, 175, 176, 178, 179, 180, 181, 182, 183, 184, 185, 187, 191, 192, 193, 194, 195, 196, 198, 200, 201, 202, 203, 205, 207, 208, 209, 210, 211, 212, 213, 216, 217, 218, 219, 221, 223, 224, 225, 226, 228, 230, 231, 232, 233, 234, 235, 236, 237, 238, 239, 240, 242, 243, 244, 245, 246, 247, 248, 249, 251, 253, 255, 256, 257, 258, 259, 260, 261, 262, 263, 265, 266, 267, 268, 269, 271, 272, 274, 275, 276, 277, 279, 280, 281, 282, 283, 284, 286, 288, 290, 292, 293, 294, 297, 298, 299, 300, 301, 303, 305, 306, 307, 308, 309, 311, 312, 314, 315, 316, 317, 318, 320, 321, 322, 323, 324, 325, 326, 327, 334, 337, 338, 339, 342, 343, 349, 350, 351, 353, 355, 357, 358, 360, 362, 364, 365, 366, 367, 368, 369, 370, 371, 372, 374, 378, 379, 381, 383, 384, 385, 388, 390, 391, 396, 397, 399, 400, 402, 403, 407, 408, 409, 412, 413, 415, 416, 418, 419, 420, 421, 422, 423, 424, 425, 427, 429, 430, 431, 432, 433, 434, 435, 436, 437, 438, 439, 440, 441, 443, 444, 446, 447, 448, 449, 450, 451, 452, 454, 455, 457, 461, 463, 464, 465, 466, 470, 472, 473, 474, 477, 479, 480, 481, 482, 484, 486, 487, 488, 492, 493, 498, 499, 500]\n",
            "\n",
            "\n",
            "[40, 123, 262, 307, 315, 316, 318, 342, 355, 356, 358, 365, 374, 407, 415, 424, 428, 433, 437, 446, 454, 456, 472, 477, 481, 487, 492, 493]\n",
            "\n",
            "\n",
            "[0, 5, 6, 18, 19, 27, 28, 36, 43, 49, 51, 71, 85, 87, 88, 101, 107, 118, 131, 169, 182, 191, 212, 215, 229, 255, 259, 262, 263, 266, 272, 273, 274, 288, 289, 296, 300, 301, 305, 307, 311, 318, 320, 324, 325, 326, 333, 338, 342, 355, 357, 358, 365, 366, 370, 374, 381, 384, 388, 389, 395, 400, 401, 402, 403, 407, 412, 415, 427, 428, 431, 432, 433, 436, 437, 438, 439, 441, 443, 446, 448, 449, 454, 456, 465, 466, 470, 472, 473, 476, 477, 481, 487, 492, 494, 496, 497, 498, 500]\n",
            "\n",
            "\n",
            "[0, 2, 3, 4, 5, 6, 7, 8, 9, 10, 12, 13, 14, 16, 17, 18, 19, 20, 21, 22, 23, 24, 25, 26, 28, 30, 31, 32, 33, 34, 36, 37, 38, 39, 40, 41, 42, 43, 44, 45, 46, 51, 52, 53, 54, 56, 57, 58, 59, 60, 61, 62, 63, 64, 65, 66, 67, 68, 69, 70, 71, 72, 73, 74, 75, 76, 77, 79, 80, 81, 82, 83, 84, 86, 87, 88, 89, 90, 92, 93, 94, 95, 97, 99, 100, 101, 102, 103, 104, 105, 106, 108, 109, 110, 111, 112, 113, 114, 116, 117, 118, 119, 121, 122, 124, 125, 126, 127, 128, 129, 130, 131, 132, 133, 134, 135, 136, 137, 138, 139, 140, 141, 142, 143, 144, 145, 146, 147, 148, 149, 150, 151, 152, 153, 154, 155, 156, 157, 158, 159, 160, 162, 164, 165, 166, 167, 168, 169, 171, 173, 175, 177, 179, 180, 181, 182, 183, 184, 185, 187, 189, 191, 192, 193, 194, 195, 196, 197, 198, 200, 201, 202, 203, 205, 206, 207, 208, 209, 211, 212, 213, 215, 216, 217, 219, 220, 221, 223, 224, 226, 229, 230, 231, 232, 233, 234, 235, 236, 237, 238, 239, 240, 241, 242, 243, 244, 245, 246, 249, 250, 251, 252, 253, 254, 255, 257, 258, 261, 263, 264, 265, 268, 269, 270, 272, 273, 275, 276, 277, 278, 280, 286, 287, 288, 290, 292, 293, 294, 295, 297, 298, 299, 300, 301, 302, 303, 305, 307, 308, 309, 311, 312, 313, 314, 315, 316, 317, 318, 319, 320, 321, 322, 324, 325, 326, 327, 329, 330, 331, 332, 335, 336, 337, 338, 339, 341, 342, 344, 347, 348, 349, 351, 352, 353, 357, 358, 359, 360, 361, 362, 364, 365, 366, 367, 368, 369, 371, 372, 373, 374, 375, 376, 377, 378, 379, 381, 382, 383, 384, 385, 386, 387, 388, 389, 390, 391, 394, 395, 396, 397, 398, 399, 400, 401, 402, 403, 404, 406, 407, 408, 409, 410, 411, 412, 413, 414, 415, 416, 418, 419, 420, 421, 422, 423, 424, 425, 426, 427, 429, 430, 432, 433, 434, 435, 436, 438, 439, 440, 441, 442, 443, 444, 445, 447, 448, 449, 450, 451, 452, 454, 455, 457, 458, 459, 460, 461, 462, 464, 465, 466, 468, 470, 471, 472, 473, 474, 475, 476, 477, 479, 480, 481, 482, 483, 484, 485, 486, 487, 488, 489, 491, 492, 493, 494, 495, 496, 498, 499, 500]\n",
            "\n",
            "\n",
            "[0, 2, 3, 4, 6, 7, 8, 9, 10, 12, 13, 14, 16, 17, 18, 19, 20, 21, 22, 23, 24, 25, 26, 28, 31, 33, 36, 38, 39, 40, 41, 43, 44, 45, 46, 51, 54, 56, 57, 58, 59, 60, 63, 64, 66, 67, 70, 71, 74, 75, 76, 77, 79, 82, 83, 86, 89, 90, 93, 95, 97, 99, 100, 101, 102, 104, 105, 110, 114, 119, 125, 127, 130, 132, 133, 135, 136, 138, 139, 140, 141, 144, 146, 147, 148, 149, 152, 153, 154, 157, 159, 164, 166, 167, 168, 169, 171, 173, 175, 177, 181, 183, 184, 185, 189, 193, 196, 197, 200, 203, 205, 206, 208, 211, 213, 216, 217, 221, 223, 224, 228, 229, 231, 232, 233, 236, 237, 238, 243, 245, 247, 249, 250, 251, 252, 253, 254, 255, 256, 257, 258, 259, 260, 261, 262, 263, 265, 266, 267, 268, 269, 270, 271, 272, 273, 274, 275, 276, 277, 278, 279, 280, 281, 282, 283, 284, 286, 287, 288, 290, 292, 293, 294, 295, 296, 298, 299, 300, 301, 302, 303, 305, 306, 307, 308, 309, 311, 312, 313, 314, 315, 316, 317, 318, 319, 320, 321, 322, 323, 324, 325, 326, 327, 329, 330, 331, 332, 333, 334, 335, 336, 337, 338, 339, 341, 342, 343, 345, 347, 348, 349, 351, 352, 353, 355, 356, 357, 358, 359, 360, 361, 362, 364, 365, 366, 367, 368, 369, 370, 371, 372, 373, 374, 375, 376, 377, 378, 379, 381, 382, 383, 384, 385, 388, 389, 391, 392, 394, 396, 397, 398, 399, 400, 402, 403, 404, 408, 409, 410, 411, 412, 413, 414, 416, 417, 418, 419, 420, 421, 422, 423, 424, 425, 426, 427, 429, 430, 432, 433, 434, 435, 436, 438, 439, 440, 441, 444, 445, 446, 447, 448, 449, 450, 451, 452, 454, 455, 457, 458, 459, 460, 461, 462, 463, 464, 465, 466, 468, 469, 470, 471, 472, 473, 474, 475, 476, 477, 478, 479, 480, 481, 482, 483, 484, 485, 486, 487, 488, 489, 491, 492, 493, 494, 495, 496, 498, 499, 500]\n",
            "\n",
            "\n",
            "[0, 5, 6, 10, 13, 14, 18, 19, 21, 24, 27, 28, 36, 43, 48, 49, 51, 62, 68, 70, 71, 83, 85, 87, 88, 94, 101, 108, 113, 118, 122, 131, 141, 164, 169, 179, 182, 191, 194, 201, 212, 215, 229, 234, 241, 244, 252, 255, 259, 260, 263, 266, 270, 273, 274, 284, 288, 289, 290, 292, 300, 304, 305, 311, 312, 318, 320, 321, 325, 326, 331, 333, 336, 338, 349, 357, 358, 365, 370, 372, 377, 379, 383, 386, 389, 390, 394, 395, 398, 401, 402, 404, 407, 412, 414, 415, 431, 436, 438, 439, 445, 452, 454, 457, 460, 468, 469, 471, 472, 473, 476, 480, 488, 489, 496, 497, 500]\n",
            "\n",
            "\n",
            "[0, 5, 6, 8, 14, 18, 24, 25, 28, 30, 34, 37, 38, 39, 40, 43, 44, 45, 47, 48, 56, 60, 61, 66, 67, 71, 73, 74, 75, 78, 79, 80, 86, 91, 94, 102, 105, 107, 108, 111, 112, 113, 114, 117, 119, 123, 125, 129, 132, 135, 136, 138, 139, 140, 144, 145, 148, 149, 152, 154, 155, 157, 162, 165, 167, 169, 170, 174, 178, 179, 181, 183, 184, 185, 187, 193, 196, 197, 200, 202, 203, 206, 207, 211, 216, 217, 218, 221, 223, 225, 226, 231, 232, 233, 234, 236, 238, 240, 242, 247, 249, 252, 253, 255, 256, 257, 258, 261, 263, 267, 269, 271, 275, 276, 277, 283, 286, 288, 290, 292, 293, 294, 297, 298, 299, 301, 302, 303, 305, 309, 311, 312, 315, 316, 317, 318, 320, 321, 322, 325, 331, 333, 334, 336, 338, 339, 341, 348, 353, 356, 357, 358, 359, 361, 366, 373, 374, 375, 378, 379, 381, 383, 386, 388, 391, 392, 394, 395, 396, 399, 400, 402, 407, 408, 409, 410, 411, 412, 415, 416, 421, 422, 423, 425, 426, 427, 428, 429, 430, 432, 434, 435, 436, 437, 438, 440, 441, 445, 446, 448, 450, 452, 454, 457, 458, 460, 461, 462, 464, 465, 466, 468, 469, 470, 472, 477, 479, 480, 481, 482, 483, 484, 486, 487, 488, 492, 493, 494, 496, 498, 499]\n",
            "\n",
            "\n",
            "[0, 1, 4, 6, 8, 11, 12, 14, 18, 20, 21, 23, 24, 25, 31, 32, 34, 38, 39, 41, 42, 43, 45, 49, 52, 58, 60, 61, 62, 67, 75, 76, 79, 80, 81, 83, 85, 92, 93, 103, 104, 105, 112, 114, 116, 117, 121, 131, 135, 136, 141, 142, 144, 146, 149, 153, 166, 167, 187, 193, 195, 196, 201, 207, 212, 221, 229, 236, 245, 248, 249, 250, 252, 255, 258, 261, 263, 264, 266, 267, 268, 269, 270, 271, 272, 273, 275, 276, 277, 279, 281, 282, 284, 286, 288, 290, 292, 293, 294, 295, 297, 299, 300, 301, 303, 305, 307, 312, 316, 318, 319, 320, 322, 323, 325, 330, 331, 332, 333, 334, 335, 338, 339, 341, 342, 343, 345, 349, 351, 358, 360, 361, 362, 368, 371, 372, 373, 374, 381, 382, 385, 387, 388, 390, 392, 398, 399, 400, 402, 404, 407, 408, 410, 411, 413, 414, 416, 419, 420, 423, 424, 425, 434, 435, 436, 438, 439, 440, 441, 444, 450, 452, 454, 455, 457, 462, 464, 465, 469, 470, 472, 477, 479, 480, 481, 482, 484, 485, 486, 487, 488, 489, 492, 493, 496, 497, 498, 500]\n",
            "\n",
            "\n",
            "[0, 1, 2, 3, 4, 5, 6, 8, 10, 11, 12, 13, 14, 16, 18, 19, 20, 21, 23, 24, 25, 26, 27, 28, 30, 31, 32, 36, 37, 38, 39, 40, 41, 42, 43, 44, 45, 48, 52, 53, 54, 56, 58, 60, 62, 63, 65, 66, 68, 69, 70, 71, 72, 73, 74, 75, 77, 78, 79, 80, 81, 82, 83, 84, 85, 86, 87, 88, 89, 90, 91, 92, 93, 94, 96, 100, 101, 102, 103, 105, 106, 107, 108, 109, 111, 112, 113, 114, 115, 116, 117, 118, 119, 121, 122, 123, 124, 125, 128, 129, 130, 131, 132, 133, 135, 137, 138, 139, 140, 142, 143, 145, 146, 148, 149, 150, 151, 152, 154, 155, 156, 157, 158, 159, 160, 162, 163, 164, 165, 166, 167, 168, 169, 170, 171, 173, 174, 175, 176, 178, 179, 180, 181, 182, 183, 184, 185, 187, 191, 193, 194, 195, 196, 198, 200, 201, 202, 203, 205, 207, 208, 209, 210, 211, 212, 213, 215, 216, 217, 218, 219, 223, 224, 225, 226, 229, 230, 231, 232, 233, 234, 235, 236, 237, 238, 239, 240, 242, 243, 244, 245, 247, 248, 249, 251, 253, 254, 255, 256, 257, 258, 259, 260, 261, 262, 263, 264, 265, 266, 267, 268, 269, 271, 272, 273, 274, 275, 276, 277, 279, 280, 281, 282, 283, 284, 286, 287, 288, 289, 292, 293, 294, 296, 297, 298, 299, 300, 301, 302, 303, 305, 308, 309, 310, 311, 312, 314, 315, 316, 317, 318, 320, 321, 322, 323, 324, 325, 326, 327, 329, 331, 332, 333, 334, 335, 336, 337, 338, 339, 340, 341, 342, 343, 344, 347, 348, 349, 350, 351, 353, 354, 355, 356, 357, 358, 360, 361, 364, 365, 366, 367, 369, 370, 371, 372, 373, 374, 375, 376, 377, 378, 379, 380, 381, 382, 383, 385, 386, 387, 388, 389, 390, 391, 392, 394, 395, 396, 397, 398, 399, 400, 402, 404, 406, 407, 408, 409, 410, 411, 412, 413, 414, 415, 416, 419, 420, 421, 422, 423, 424, 426, 427, 428, 430, 431, 432, 433, 434, 435, 436, 437, 438, 439, 440, 441, 442, 443, 444, 445, 446, 447, 448, 449, 451, 452, 453, 454, 456, 457, 458, 459, 460, 461, 462, 463, 464, 466, 467, 468, 469, 470, 471, 472, 473, 474, 475, 476, 477, 478, 479, 480, 481, 482, 483, 484, 485, 486, 488, 489, 492, 493, 494, 496, 497, 498, 499, 500]\n",
            "\n",
            "\n",
            "[0, 1, 3, 4, 5, 6, 7, 8, 10, 11, 12, 13, 14, 16, 18, 19, 20, 21, 24, 25, 26, 27, 28, 30, 31, 32, 36, 37, 38, 39, 40, 41, 42, 43, 44, 45, 48, 49, 52, 56, 57, 58, 59, 60, 62, 63, 65, 66, 67, 68, 69, 70, 71, 72, 73, 74, 76, 77, 79, 80, 81, 82, 83, 84, 85, 86, 87, 88, 89, 90, 91, 92, 93, 94, 95, 100, 101, 103, 106, 108, 109, 111, 113, 114, 115, 116, 117, 118, 119, 122, 123, 124, 125, 129, 130, 131, 132, 133, 134, 135, 137, 138, 139, 140, 141, 142, 143, 144, 145, 148, 149, 152, 153, 154, 156, 157, 158, 159, 160, 162, 164, 166, 167, 168, 169, 171, 173, 174, 175, 178, 179, 180, 181, 182, 183, 184, 187, 191, 192, 193, 194, 195, 196, 198, 200, 202, 203, 205, 208, 209, 211, 212, 213, 215, 216, 217, 219, 221, 223, 224, 226, 229, 230, 231, 232, 233, 234, 235, 236, 237, 238, 239, 240, 242, 243, 244, 245, 246, 247, 248, 249, 251, 253, 255, 257, 258, 259, 260, 261, 262, 263, 264, 265, 266, 267, 268, 269, 271, 273, 274, 275, 278, 279, 280, 284, 286, 288, 289, 290, 293, 294, 295, 296, 297, 298, 299, 301, 302, 304, 305, 308, 309, 311, 312, 317, 318, 319, 321, 322, 323, 325, 326, 329, 331, 332, 334, 336, 337, 339, 341, 342, 343, 344, 345, 347, 348, 349, 351, 353, 357, 358, 359, 361, 362, 364, 365, 367, 368, 369, 370, 371, 372, 373, 374, 375, 378, 379, 380, 381, 382, 383, 384, 385, 386, 387, 388, 390, 395, 396, 397, 401, 402, 404, 406, 407, 408, 412, 413, 414, 415, 416, 417, 418, 421, 423, 426, 427, 429, 430, 433, 434, 435, 436, 437, 438, 439, 441, 442, 443, 444, 445, 446, 447, 448, 449, 450, 451, 452, 453, 454, 455, 457, 458, 459, 460, 461, 462, 463, 464, 465, 466, 467, 468, 469, 470, 472, 473, 474, 475, 476, 477, 478, 479, 480, 481, 482, 483, 484, 485, 486, 487, 488, 489, 492, 493, 496, 497, 500]\n",
            "\n",
            "\n",
            "[0, 1, 3, 4, 5, 6, 7, 8, 11, 12, 13, 14, 16, 17, 18, 19, 20, 21, 22, 24, 25, 26, 28, 30, 31, 36, 37, 38, 39, 40, 41, 42, 43, 44, 45, 47, 48, 49, 51, 53, 54, 56, 57, 58, 65, 66, 67, 69, 71, 72, 73, 74, 75, 76, 78, 79, 80, 81, 82, 83, 85, 86, 87, 89, 91, 92, 93, 94, 96, 97, 100, 101, 102, 103, 105, 106, 108, 109, 111, 112, 113, 114, 115, 116, 117, 118, 119, 121, 122, 123, 124, 125, 128, 129, 130, 131, 132, 133, 134, 135, 136, 137, 138, 139, 140, 141, 142, 143, 144, 145, 146, 148, 149, 150, 152, 154, 155, 156, 157, 158, 159, 162, 164, 165, 166, 167, 168, 169, 170, 171, 174, 178, 179, 180, 181, 182, 183, 184, 185, 187, 191, 192, 193, 194, 195, 196, 198, 200, 202, 203, 205, 207, 208, 209, 211, 212, 215, 216, 217, 218, 219, 221, 223, 224, 225, 226, 228, 229, 230, 232, 233, 234, 236, 238, 239, 240, 242, 243, 244, 245, 246, 247, 249, 251, 253, 255, 256, 257, 258, 259, 260, 261, 262, 263, 264, 265, 268, 269, 271, 272, 274, 275, 276, 277, 279, 280, 281, 283, 284, 286, 288, 292, 293, 294, 295, 296, 297, 298, 299, 300, 301, 302, 303, 305, 307, 308, 309, 311, 312, 315, 316, 317, 318, 319, 320, 321, 322, 324, 325, 326, 327, 330, 331, 334, 335, 336, 337, 338, 339, 341, 342, 343, 345, 347, 348, 349, 351, 353, 354, 355, 356, 357, 359, 360, 361, 362, 364, 365, 366, 368, 369, 370, 371, 372, 373, 374, 375, 376, 377, 378, 380, 381, 382, 383, 385, 386, 388, 389, 390, 391, 392, 394, 395, 396, 397, 398, 399, 400, 402, 406, 407, 408, 409, 410, 411, 412, 413, 414, 415, 416, 418, 419, 421, 422, 423, 426, 427, 428, 429, 430, 431, 432, 433, 434, 435, 436, 437, 439, 440, 441, 443, 444, 445, 446, 447, 448, 449, 450, 451, 453, 454, 455, 456, 457, 458, 460, 461, 462, 463, 464, 465, 466, 467, 468, 470, 473, 474, 476, 477, 479, 480, 481, 482, 483, 484, 485, 486, 487, 488, 489, 493, 494, 496, 497, 498, 499, 500]\n",
            "\n",
            "\n",
            "[0, 1, 2, 3, 4, 5, 6, 7, 8, 10, 12, 13, 14, 16, 18, 19, 20, 21, 22, 23, 24, 25, 26, 28, 30, 31, 32, 34, 36, 37, 38, 39, 40, 41, 42, 43, 44, 45, 48, 49, 51, 52, 54, 56, 57, 58, 60, 63, 65, 66, 69, 70, 72, 73, 74, 75, 76, 77, 78, 79, 80, 81, 82, 83, 84, 86, 87, 88, 89, 90, 92, 94, 96, 97, 99, 100, 101, 102, 103, 104, 105, 106, 107, 108, 109, 110, 111, 112, 113, 114, 115, 116, 117, 118, 119, 122, 123, 124, 125, 129, 130, 131, 132, 133, 134, 135, 136, 137, 138, 139, 140, 141, 142, 143, 144, 145, 146, 147, 148, 149, 150, 151, 152, 153, 154, 155, 156, 158, 159, 160, 162, 164, 165, 166, 168, 169, 171, 173, 174, 175, 179, 180, 181, 183, 184, 185, 187, 191, 192, 193, 194, 195, 196, 197, 198, 200, 201, 202, 203, 205, 206, 207, 208, 209, 211, 212, 213, 215, 216, 217, 219, 220, 221, 223, 224, 226, 229, 230, 231, 232, 233, 234, 235, 236, 237, 238, 239, 240, 242, 243, 244, 245, 246, 248, 251, 253, 256, 257, 258, 260, 261, 262, 263, 264, 266, 267, 268, 269, 271, 273, 274, 275, 276, 277, 279, 280, 281, 282, 283, 286, 287, 288, 289, 290, 292, 293, 294, 295, 296, 297, 298, 299, 301, 302, 303, 305, 307, 308, 309, 310, 311, 312, 313, 314, 315, 316, 317, 318, 319, 320, 321, 322, 324, 325, 326, 327, 329, 330, 331, 332, 335, 336, 337, 338, 339, 341, 342, 344, 347, 353, 358, 360, 361, 364, 365, 366, 367, 368, 369, 370, 371, 372, 373, 374, 375, 376, 378, 379, 381, 382, 383, 385, 386, 388, 389, 391, 395, 397, 398, 399, 402, 404, 406, 407, 408, 410, 411, 413, 414, 418, 419, 420, 421, 423, 425, 426, 427, 429, 430, 432, 433, 434, 435, 436, 439, 440, 441, 443, 444, 445, 447, 448, 452, 454, 456, 457, 460, 461, 462, 463, 464, 465, 466, 468, 469, 470, 472, 473, 474, 475, 476, 477, 479, 480, 481, 483, 484, 485, 486, 487, 488, 489, 491, 492, 493, 494, 495, 496, 497, 499, 500]\n"
          ]
        }
      ],
      "source": [
        "index1 = find_self_index(df,\"找对象\")\n",
        "index2 = find_self_index(df,\"找炮友\")\n",
        "index3 = find_self_index(df,\"找朋友\")\n",
        "index4 = find_self_index(df,\"分享\")\n",
        "index5 = find_self_index(df,\"恋爱关系\")\n",
        "index6 = find_self_index(df,\"社交/朋友\")\n",
        "index7 = find_self_index(df,\"性\")\n",
        "index8 = find_self_index(df,\"外貌/长相/身材\")\n",
        "index9 = find_self_index(df,\"地理位置\")\n",
        "index10 = find_self_index(df,\"教育/工作\")\n",
        "index11 = find_self_index(df,\"个人信息\")\n",
        "index12 = find_self_index(df,\"日常生活\")\n",
        "\n",
        "#validation\n",
        "print(index1)\n",
        "print(\"\\n\")\n",
        "print(index2)\n",
        "print(\"\\n\")\n",
        "print(index3)\n",
        "print(\"\\n\")\n",
        "print(index4)\n",
        "print(\"\\n\")\n",
        "print(index5)\n",
        "print(\"\\n\")\n",
        "print(index6)\n",
        "print(\"\\n\")\n",
        "print(index7)\n",
        "print(\"\\n\")\n",
        "print(index8)\n",
        "print(\"\\n\")\n",
        "print(index9)\n",
        "print(\"\\n\")\n",
        "print(index10)\n",
        "print(\"\\n\")\n",
        "print(index11)\n",
        "print(\"\\n\")\n",
        "print(index12)"
      ]
    },
    {
      "cell_type": "code",
      "execution_count": 9,
      "metadata": {},
      "outputs": [],
      "source": [
        "path = \"/Users/rampageyao/Desktop/new_new_test/new_500comment\""
      ]
    },
    {
      "cell_type": "code",
      "execution_count": 13,
      "metadata": {},
      "outputs": [
        {
          "name": "stdout",
          "output_type": "stream",
          "text": [
            "Distribution of Selected Numbers:\n",
            "----------------------------------\n",
            "Want_to_have_Relation: 4314\n",
            "Want_to_have_more_Infor: 4377\n",
            "Share_Opinion_and_Expe: 7178\n",
            "Relationship: 8964\n",
            "Social_Contact_and_Friendship: 2747\n",
            "Sex: 3232\n",
            "Appearance_and_Figure: 3753\n",
            "Location: 5906\n",
            "Education_and_Career: 5290\n",
            "Personal_Information: 4994\n",
            "Daily_Life: 3366\n",
            "\n",
            "\n",
            "Most Motivation of Selected Numbers:\n",
            "----------------------------------\n",
            "Share_Opinion_and_Expe: 7178\n",
            "\n",
            "\n",
            "Most Topics of Selected Numbers:\n",
            "----------------------------------\n",
            "Relationship: 8964\n",
            "Location: 5906\n",
            "Education_and_Career: 5290\n"
          ]
        }
      ],
      "source": [
        "index1 = find_self_index(df,\"找对象\")\n",
        "selected_statistics_output(index1,path)"
      ]
    },
    {
      "cell_type": "code",
      "execution_count": 14,
      "metadata": {},
      "outputs": [
        {
          "name": "stdout",
          "output_type": "stream",
          "text": [
            "Distribution of Selected Numbers:\n",
            "----------------------------------\n",
            "Want_to_have_Relation: 175\n",
            "Want_to_have_more_Infor: 164\n",
            "Share_Opinion_and_Expe: 317\n",
            "Relationship: 403\n",
            "Social_Contact_and_Friendship: 88\n",
            "Sex: 167\n",
            "Appearance_and_Figure: 165\n",
            "Location: 245\n",
            "Education_and_Career: 212\n",
            "Personal_Information: 217\n",
            "Daily_Life: 142\n",
            "\n",
            "\n",
            "Most Motivation of Selected Numbers:\n",
            "----------------------------------\n",
            "Share_Opinion_and_Expe: 317\n",
            "\n",
            "\n",
            "Most Topics of Selected Numbers:\n",
            "----------------------------------\n",
            "Relationship: 403\n",
            "Location: 245\n",
            "Personal_Information: 217\n"
          ]
        }
      ],
      "source": [
        "index2 = find_self_index(df,\"找炮友\")\n",
        "selected_statistics_output(index2,path)"
      ]
    },
    {
      "cell_type": "code",
      "execution_count": 15,
      "metadata": {},
      "outputs": [
        {
          "name": "stdout",
          "output_type": "stream",
          "text": [
            "Distribution of Selected Numbers:\n",
            "----------------------------------\n",
            "Want_to_have_Relation: 1045\n",
            "Want_to_have_more_Infor: 1270\n",
            "Share_Opinion_and_Expe: 2101\n",
            "Relationship: 2570\n",
            "Social_Contact_and_Friendship: 713\n",
            "Sex: 870\n",
            "Appearance_and_Figure: 1004\n",
            "Location: 1528\n",
            "Education_and_Career: 1498\n",
            "Personal_Information: 1290\n",
            "Daily_Life: 975\n",
            "\n",
            "\n",
            "Most Motivation of Selected Numbers:\n",
            "----------------------------------\n",
            "Share_Opinion_and_Expe: 2101\n",
            "\n",
            "\n",
            "Most Topics of Selected Numbers:\n",
            "----------------------------------\n",
            "Relationship: 2570\n",
            "Location: 1528\n",
            "Education_and_Career: 1498\n"
          ]
        }
      ],
      "source": [
        "index3 = find_self_index(df,\"找朋友\")\n",
        "selected_statistics_output(index3,path)"
      ]
    },
    {
      "cell_type": "code",
      "execution_count": 16,
      "metadata": {},
      "outputs": [
        {
          "name": "stdout",
          "output_type": "stream",
          "text": [
            "Distribution of Selected Numbers:\n",
            "----------------------------------\n",
            "Want_to_have_Relation: 5211\n",
            "Want_to_have_more_Infor: 5471\n",
            "Share_Opinion_and_Expe: 9489\n",
            "Relationship: 11690\n",
            "Social_Contact_and_Friendship: 3329\n",
            "Sex: 4104\n",
            "Appearance_and_Figure: 4841\n",
            "Location: 7217\n",
            "Education_and_Career: 6652\n",
            "Personal_Information: 6331\n",
            "Daily_Life: 4348\n",
            "\n",
            "\n",
            "Most Motivation of Selected Numbers:\n",
            "----------------------------------\n",
            "Share_Opinion_and_Expe: 9489\n",
            "\n",
            "\n",
            "Most Topics of Selected Numbers:\n",
            "----------------------------------\n",
            "Relationship: 11690\n",
            "Location: 7217\n",
            "Education_and_Career: 6652\n"
          ]
        }
      ],
      "source": [
        "index4 = find_self_index(df,\"分享\")\n",
        "selected_statistics_output(index4,path)"
      ]
    },
    {
      "cell_type": "code",
      "execution_count": 17,
      "metadata": {},
      "outputs": [
        {
          "name": "stdout",
          "output_type": "stream",
          "text": [
            "Distribution of Selected Numbers:\n",
            "----------------------------------\n",
            "Want_to_have_Relation: 3881\n",
            "Want_to_have_more_Infor: 4125\n",
            "Share_Opinion_and_Expe: 7190\n",
            "Relationship: 8858\n",
            "Social_Contact_and_Friendship: 2586\n",
            "Sex: 3214\n",
            "Appearance_and_Figure: 3616\n",
            "Location: 5512\n",
            "Education_and_Career: 4879\n",
            "Personal_Information: 4790\n",
            "Daily_Life: 3207\n",
            "\n",
            "\n",
            "Most Motivation of Selected Numbers:\n",
            "----------------------------------\n",
            "Share_Opinion_and_Expe: 7190\n",
            "\n",
            "\n",
            "Most Topics of Selected Numbers:\n",
            "----------------------------------\n",
            "Relationship: 8858\n",
            "Location: 5512\n",
            "Education_and_Career: 4879\n"
          ]
        }
      ],
      "source": [
        "index5 = find_self_index(df,\"恋爱关系\")\n",
        "selected_statistics_output(index5,path)"
      ]
    },
    {
      "cell_type": "code",
      "execution_count": 18,
      "metadata": {},
      "outputs": [
        {
          "name": "stdout",
          "output_type": "stream",
          "text": [
            "Distribution of Selected Numbers:\n",
            "----------------------------------\n",
            "Want_to_have_Relation: 1472\n",
            "Want_to_have_more_Infor: 1607\n",
            "Share_Opinion_and_Expe: 2959\n",
            "Relationship: 3610\n",
            "Social_Contact_and_Friendship: 947\n",
            "Sex: 1155\n",
            "Appearance_and_Figure: 1455\n",
            "Location: 2129\n",
            "Education_and_Career: 1995\n",
            "Personal_Information: 1832\n",
            "Daily_Life: 1386\n",
            "\n",
            "\n",
            "Most Motivation of Selected Numbers:\n",
            "----------------------------------\n",
            "Share_Opinion_and_Expe: 2959\n",
            "\n",
            "\n",
            "Most Topics of Selected Numbers:\n",
            "----------------------------------\n",
            "Relationship: 3610\n",
            "Location: 2129\n",
            "Education_and_Career: 1995\n"
          ]
        }
      ],
      "source": [
        "index6 = find_self_index(df,\"社交/朋友\")\n",
        "selected_statistics_output(index6,path)"
      ]
    },
    {
      "cell_type": "code",
      "execution_count": 19,
      "metadata": {},
      "outputs": [
        {
          "name": "stdout",
          "output_type": "stream",
          "text": [
            "Distribution of Selected Numbers:\n",
            "----------------------------------\n",
            "Want_to_have_Relation: 2936\n",
            "Want_to_have_more_Infor: 2933\n",
            "Share_Opinion_and_Expe: 4651\n",
            "Relationship: 5804\n",
            "Social_Contact_and_Friendship: 1971\n",
            "Sex: 2089\n",
            "Appearance_and_Figure: 2402\n",
            "Location: 3861\n",
            "Education_and_Career: 3388\n",
            "Personal_Information: 3204\n",
            "Daily_Life: 2116\n",
            "\n",
            "\n",
            "Most Motivation of Selected Numbers:\n",
            "----------------------------------\n",
            "Share_Opinion_and_Expe: 4651\n",
            "\n",
            "\n",
            "Most Topics of Selected Numbers:\n",
            "----------------------------------\n",
            "Relationship: 5804\n",
            "Location: 3861\n",
            "Education_and_Career: 3388\n"
          ]
        }
      ],
      "source": [
        "index7 = find_self_index(df,\"性\")\n",
        "selected_statistics_output(index7,path)"
      ]
    },
    {
      "cell_type": "code",
      "execution_count": 10,
      "metadata": {},
      "outputs": [
        {
          "name": "stdout",
          "output_type": "stream",
          "text": [
            "Distribution of Selected Numbers:\n",
            "----------------------------------\n",
            "Want_to_have_Relation: 2507\n",
            "Want_to_have_more_Infor: 2528\n",
            "Share_Opinion_and_Expe: 4288\n",
            "Relationship: 5417\n",
            "Social_Contact_and_Friendship: 1598\n",
            "Sex: 1895\n",
            "Appearance_and_Figure: 2224\n",
            "Location: 3315\n",
            "Education_and_Career: 2991\n",
            "Personal_Information: 2974\n",
            "Daily_Life: 1998\n",
            "\n",
            "\n",
            "Most Motivation of Selected Numbers:\n",
            "----------------------------------\n",
            "Share_Opinion_and_Expe: 4288\n",
            "\n",
            "\n",
            "Most Topics of Selected Numbers:\n",
            "----------------------------------\n",
            "Relationship: 5417\n",
            "Location: 3315\n",
            "Education_and_Career: 2991\n"
          ]
        }
      ],
      "source": [
        "index8 = find_self_index(df,\"外貌/长相/身材\")\n",
        "selected_statistics_output(index8,path)"
      ]
    },
    {
      "cell_type": "code",
      "execution_count": 11,
      "metadata": {},
      "outputs": [
        {
          "name": "stdout",
          "output_type": "stream",
          "text": [
            "Distribution of Selected Numbers:\n",
            "----------------------------------\n",
            "Want_to_have_Relation: 5130\n",
            "Want_to_have_more_Infor: 5277\n",
            "Share_Opinion_and_Expe: 8760\n",
            "Relationship: 11083\n",
            "Social_Contact_and_Friendship: 3267\n",
            "Sex: 3859\n",
            "Appearance_and_Figure: 4628\n",
            "Location: 6929\n",
            "Education_and_Career: 6262\n",
            "Personal_Information: 6054\n",
            "Daily_Life: 4101\n",
            "\n",
            "\n",
            "Most Motivation of Selected Numbers:\n",
            "----------------------------------\n",
            "Share_Opinion_and_Expe: 8760\n",
            "\n",
            "\n",
            "Most Topics of Selected Numbers:\n",
            "----------------------------------\n",
            "Relationship: 11083\n",
            "Location: 6929\n",
            "Education_and_Career: 6262\n"
          ]
        }
      ],
      "source": [
        "index9 = find_self_index(df,\"地理位置\")\n",
        "selected_statistics_output(index9,path)"
      ]
    },
    {
      "cell_type": "code",
      "execution_count": 12,
      "metadata": {},
      "outputs": [
        {
          "name": "stdout",
          "output_type": "stream",
          "text": [
            "Distribution of Selected Numbers:\n",
            "----------------------------------\n",
            "Want_to_have_Relation: 4731\n",
            "Want_to_have_more_Infor: 4950\n",
            "Share_Opinion_and_Expe: 8413\n",
            "Relationship: 10378\n",
            "Social_Contact_and_Friendship: 3049\n",
            "Sex: 3641\n",
            "Appearance_and_Figure: 4235\n",
            "Location: 6572\n",
            "Education_and_Career: 6174\n",
            "Personal_Information: 5648\n",
            "Daily_Life: 3861\n",
            "\n",
            "\n",
            "Most Motivation of Selected Numbers:\n",
            "----------------------------------\n",
            "Share_Opinion_and_Expe: 8413\n",
            "\n",
            "\n",
            "Most Topics of Selected Numbers:\n",
            "----------------------------------\n",
            "Relationship: 10378\n",
            "Location: 6572\n",
            "Education_and_Career: 6174\n"
          ]
        }
      ],
      "source": [
        "index10 = find_self_index(df,\"教育/工作\")\n",
        "selected_statistics_output(index10,path)"
      ]
    },
    {
      "cell_type": "code",
      "execution_count": 13,
      "metadata": {},
      "outputs": [
        {
          "name": "stdout",
          "output_type": "stream",
          "text": [
            "Distribution of Selected Numbers:\n",
            "----------------------------------\n",
            "Want_to_have_Relation: 4826\n",
            "Want_to_have_more_Infor: 5030\n",
            "Share_Opinion_and_Expe: 8402\n",
            "Relationship: 10435\n",
            "Social_Contact_and_Friendship: 3114\n",
            "Sex: 3725\n",
            "Appearance_and_Figure: 4270\n",
            "Location: 6592\n",
            "Education_and_Career: 6001\n",
            "Personal_Information: 5659\n",
            "Daily_Life: 3841\n",
            "\n",
            "\n",
            "Most Motivation of Selected Numbers:\n",
            "----------------------------------\n",
            "Share_Opinion_and_Expe: 8402\n",
            "\n",
            "\n",
            "Most Topics of Selected Numbers:\n",
            "----------------------------------\n",
            "Relationship: 10435\n",
            "Location: 6592\n",
            "Education_and_Career: 6001\n"
          ]
        }
      ],
      "source": [
        "index11 = find_self_index(df,\"个人信息\")\n",
        "selected_statistics_output(index11,path)"
      ]
    },
    {
      "cell_type": "code",
      "execution_count": 14,
      "metadata": {},
      "outputs": [
        {
          "name": "stdout",
          "output_type": "stream",
          "text": [
            "Distribution of Selected Numbers:\n",
            "----------------------------------\n",
            "Want_to_have_Relation: 4827\n",
            "Want_to_have_more_Infor: 5134\n",
            "Share_Opinion_and_Expe: 8728\n",
            "Relationship: 10817\n",
            "Social_Contact_and_Friendship: 3082\n",
            "Sex: 3819\n",
            "Appearance_and_Figure: 4462\n",
            "Location: 6742\n",
            "Education_and_Career: 6168\n",
            "Personal_Information: 5880\n",
            "Daily_Life: 4048\n",
            "\n",
            "\n",
            "Most Motivation of Selected Numbers:\n",
            "----------------------------------\n",
            "Share_Opinion_and_Expe: 8728\n",
            "\n",
            "\n",
            "Most Topics of Selected Numbers:\n",
            "----------------------------------\n",
            "Relationship: 10817\n",
            "Location: 6742\n",
            "Education_and_Career: 6168\n"
          ]
        }
      ],
      "source": [
        "index12 = find_self_index(df,\"日常生活\")\n",
        "selected_statistics_output(index12,path)"
      ]
    },
    {
      "cell_type": "markdown",
      "metadata": {},
      "source": [
        "From above we see that for different class of self-presentation,\n",
        "the most popular topics of comments are always the same.\n",
        "Reason for this is that these classes originally take big part,\n",
        "thus, we decide to compare with RELATIVE DIFFERENCE"
      ]
    },
    {
      "cell_type": "code",
      "execution_count": 30,
      "metadata": {},
      "outputs": [],
      "source": [
        "def count_sub_class(data):\n",
        "    count = 0\n",
        "    label = data.iloc[:,11].tolist() #11 for bert， 9 for logistic\n",
        "    for i in range(len(label)):\n",
        "        if label[i] == 1:\n",
        "            count+=1\n",
        "    return count\n",
        "\n",
        "\n",
        "def total_statistics(path):\n",
        "    Want_to_have_Relation, Want_to_have_more_Infor, Share_Opinion_and_Expe = 0, 0, 0\n",
        "    Relationship, Social_Contact_and_Friendship, Sex, Appearance_and_Figure, Location, Education_and_Career, Personal_Information, Daily_Life = 0, 0, 0, 0, 0, 0, 0, 0\n",
        "\n",
        "    for root, dirs, files in os.walk(path): # add the path, make sure that under the main folder there is a folder (specific requirement for os.walk)\n",
        "        for name in files:\n",
        "            path = os.path.join(root, name)\n",
        "            if \"xlsx\" in path: #csv\n",
        "                data = pd.read_excel(path) # delimiter can be varied for different csv files; print csv_data[0] to check delimiter and header.\n",
        "                #print('handsome boy is reading:', name[:], '...')\n",
        "                index = name.rfind(\"_\")\n",
        "                # class name: name[index+1:]\n",
        "                # index name: name[:index]\n",
        "                if name[index+1:] == \"Wanna know each other.xlsx\":\n",
        "                    Want_to_have_Relation += count_sub_class(data)\n",
        "                if name[index+1:] == \"For more information.xlsx\":\n",
        "                    Want_to_have_more_Infor += count_sub_class(data)\n",
        "                if name[index+1:] == \"Expressing.xlsx\":\n",
        "                    Share_Opinion_and_Expe += count_sub_class(data)\n",
        "                if name[index+1:] == \"Relation.xlsx\":\n",
        "                    Relationship += count_sub_class(data)\n",
        "                if name[index+1:] == \"Socialization.xlsx\":\n",
        "                    Social_Contact_and_Friendship += count_sub_class(data)\n",
        "                if name[index+1:] == \"Sex.xlsx\":\n",
        "                    Sex += count_sub_class(data)\n",
        "                if name[index+1:] == \"Appearance.xlsx\":\n",
        "                    Appearance_and_Figure += count_sub_class(data)\n",
        "                if name[index+1:] == \"Location.xlsx\":\n",
        "                    Location += count_sub_class(data)\n",
        "                if name[index+1:] == \"Education and Careers.xlsx\":\n",
        "                    Education_and_Career += count_sub_class(data)\n",
        "                if name[index+1:] == \"Personal Information.xlsx\":\n",
        "                    Personal_Information += count_sub_class(data)\n",
        "                if name[index+1:] == \"Daily life.xlsx\":\n",
        "                    Daily_Life += count_sub_class(data)\n",
        "    print(\"Distribution of All Numbers:\")\n",
        "    print(\"----------------------------------\")\n",
        "    print(\"Want_to_have_Relation:\", Want_to_have_Relation)\n",
        "    print(\"Want_to_have_more_Infor:\", Want_to_have_more_Infor)\n",
        "    print(\"Share_Opinion_and_Expe:\", Share_Opinion_and_Expe)\n",
        "    print(\"Relationship:\", Relationship)\n",
        "    print(\"Social_Contact_and_Friendship:\", Social_Contact_and_Friendship)\n",
        "    print(\"Sex:\", Sex)\n",
        "    print(\"Appearance_and_Figure:\", Appearance_and_Figure)\n",
        "    print(\"Location:\", Location)\n",
        "    print(\"Education_and_Career:\", Education_and_Career)\n",
        "    print(\"Personal_Information:\", Personal_Information)\n",
        "    print(\"Daily_Life:\", Daily_Life)\n",
        "\n",
        "    sum_motiv = Want_to_have_Relation + Want_to_have_more_Infor + Share_Opinion_and_Expe\n",
        "    sum_topic = Relationship + Social_Contact_and_Friendship + Sex + Appearance_and_Figure + Location + Education_and_Career + Personal_Information + Daily_Life\n",
        "    print(\"Percentage Baseline:\")\n",
        "    print(\"----------------------------------\") \n",
        "    print(\"Want_to_have_Relation:\", Want_to_have_Relation/sum_motiv)\n",
        "    print(\"Want_to_have_more_Infor:\", Want_to_have_more_Infor/sum_motiv)\n",
        "    print(\"Share_Opinion_and_Expe:\", Share_Opinion_and_Expe/sum_motiv)\n",
        "    print(\"Relationship:\", Relationship/sum_topic)\n",
        "    print(\"Social_Contact_and_Friendship:\", Social_Contact_and_Friendship/sum_topic)\n",
        "    print(\"Sex:\", Sex/sum_topic)\n",
        "    print(\"Appearance_and_Figure:\", Appearance_and_Figure/sum_topic)\n",
        "    print(\"Location:\", Location/sum_topic)\n",
        "    print(\"Education_and_Career:\", Education_and_Career/sum_topic)\n",
        "    print(\"Personal_Information:\", Personal_Information/sum_topic)\n",
        "    print(\"Daily_Life:\", Daily_Life/sum_topic)\n",
        "    return Want_to_have_Relation/sum_motiv, Want_to_have_more_Infor/sum_motiv, Share_Opinion_and_Expe/sum_motiv, Relationship/sum_topic, Social_Contact_and_Friendship/sum_topic, Sex/sum_topic, Appearance_and_Figure/sum_topic, Location/sum_topic, Education_and_Career/sum_topic, Personal_Information/sum_topic, Daily_Life/sum_topic\n",
        "\n",
        "\n",
        "def percentage(P):\n",
        "    Percent = str(P*100)+\"%\"\n",
        "    return Percent\n",
        "\n",
        "def selected_person(person_num, path,p1,p2,p3,p4,p5,p6,p7,p8,p9,p10,p11):\n",
        "    Want_to_have_Relation, Want_to_have_more_Infor, Share_Opinion_and_Expe = 0, 0, 0\n",
        "    Relationship, Social_Contact_and_Friendship, Sex, Appearance_and_Figure, Location, Education_and_Career, Personal_Information, Daily_Life = 0, 0, 0, 0, 0, 0, 0, 0\n",
        "    for root, dirs, files in os.walk(path): \n",
        "        for name in files:\n",
        "            path = os.path.join(root, name)\n",
        "            if \"xlsx\" in path: # csv/xlsx\n",
        "                data = pd.read_excel(path)\n",
        "                #print('handsome boy is reading:', name[:], '...')\n",
        "                index = name.rfind(\"_\")\n",
        "                person = name[:index]\n",
        "                for k in range(len(person_num)):\n",
        "                    temp = str(person_num[k])\n",
        "                    if person == temp:\n",
        "                        if name[index+1:] == \"Wanna know each other.xlsx\":\n",
        "                            Want_to_have_Relation += count_sub_class(data)\n",
        "                        if name[index+1:] == \"For more information.xlsx\":\n",
        "                            Want_to_have_more_Infor += count_sub_class(data)\n",
        "                        if name[index+1:] == \"Expressing.xlsx\":\n",
        "                            Share_Opinion_and_Expe += count_sub_class(data)\n",
        "                        if name[index+1:] == \"Relation.xlsx\":\n",
        "                            Relationship += count_sub_class(data)\n",
        "                        if name[index+1:] == \"Socialization.xlsx\":\n",
        "                            Social_Contact_and_Friendship += count_sub_class(data)\n",
        "                        if name[index+1:] == \"Sex.xlsx\":\n",
        "                            Sex += count_sub_class(data)\n",
        "                        if name[index+1:] == \"Appearance.xlsx\":\n",
        "                            Appearance_and_Figure += count_sub_class(data)\n",
        "                        if name[index+1:] == \"Location.xlsx\":\n",
        "                            Location += count_sub_class(data)\n",
        "                        if name[index+1:] == \"Education and Careers.xlsx\":\n",
        "                            Education_and_Career += count_sub_class(data)\n",
        "                        if name[index+1:] == \"Personal Information.xlsx\":\n",
        "                            Personal_Information += count_sub_class(data)\n",
        "                        if name[index+1:] == \"Daily life.xlsx\":\n",
        "                            Daily_Life += count_sub_class(data)\n",
        "    sum_motiv = Want_to_have_Relation + Want_to_have_more_Infor + Share_Opinion_and_Expe\n",
        "    sum_topic = Relationship + Social_Contact_and_Friendship + Sex + Appearance_and_Figure + Location + Education_and_Career + Personal_Information + Daily_Life  \n",
        "    print(\"Percentage Difference:\")\n",
        "    print(\"----------------------------------\") \n",
        "    P1 = Want_to_have_Relation/sum_motiv - p1\n",
        "    print(\"Want_to_have_Relation:\", percentage(P1))\n",
        "    P2 = Want_to_have_more_Infor/sum_motiv - p2\n",
        "    print(\"Want_to_have_more_Infor:\", percentage(P2))\n",
        "    P3 = Share_Opinion_and_Expe/sum_motiv - p3\n",
        "    print(\"Share_Opinion_and_Expe:\", percentage(P3))\n",
        "    P4 = Relationship/sum_topic - p4\n",
        "    print(\"Relationship:\", percentage(P4))\n",
        "    P5 =  Social_Contact_and_Friendship/sum_topic -p5\n",
        "    print(\"Social_Contact_and_Friendship:\", percentage(P5))\n",
        "    P6 = Sex/sum_topic -p6\n",
        "    print(\"Sex:\", percentage(P6))\n",
        "    P7 = Appearance_and_Figure/sum_topic - p7\n",
        "    print(\"Appearance_and_Figure:\", percentage(P7))\n",
        "    P8 = Location/sum_topic - p8\n",
        "    print(\"Location:\", percentage(P8))\n",
        "    P9 = Education_and_Career/sum_topic - p9\n",
        "    print(\"Education_and_Career:\", percentage(P9))\n",
        "    P10 = Personal_Information/sum_topic - p10\n",
        "    print(\"Personal_Information:\", percentage(P10))\n",
        "    P11 = Daily_Life/sum_topic - p11\n",
        "    print(\"Daily_Life:\", percentage(P11))\n",
        "    #return Want_to_have_Relation, Want_to_have_more_Infor, Share_Opinion_and_Expe, Relationship, Social_Contact_and_Friendship, Sex, Appearance_and_Figure, Location, Education_and_Career, Personal_Information, Daily_Life"
      ]
    },
    {
      "cell_type": "code",
      "execution_count": 25,
      "metadata": {},
      "outputs": [
        {
          "name": "stdout",
          "output_type": "stream",
          "text": [
            "Distribution of All Numbers:\n",
            "----------------------------------\n",
            "Want_to_have_Relation: 6091\n",
            "Want_to_have_more_Infor: 6338\n",
            "Share_Opinion_and_Expe: 10798\n",
            "Relationship: 13499\n",
            "Social_Contact_and_Friendship: 3884\n",
            "Sex: 4722\n",
            "Appearance_and_Figure: 5614\n",
            "Location: 8342\n",
            "Education_and_Career: 7688\n",
            "Personal_Information: 7271\n",
            "Daily_Life: 5002\n",
            "Percentage Baseline:\n",
            "----------------------------------\n",
            "Want_to_have_Relation: 0.2622379127739269\n",
            "Want_to_have_more_Infor: 0.2728720885176734\n",
            "Share_Opinion_and_Expe: 0.4648899987083997\n",
            "Relationship: 0.2409589090000357\n",
            "Social_Contact_and_Friendship: 0.06932990610831459\n",
            "Sex: 0.08428831530470172\n",
            "Appearance_and_Figure: 0.10021063153761023\n",
            "Location: 0.1489057870122452\n",
            "Education_and_Career: 0.13723180179215308\n",
            "Personal_Information: 0.1297882974545714\n",
            "Daily_Life: 0.08928635179036808\n"
          ]
        }
      ],
      "source": [
        "p1,p2,p3,p4,p5,p6,p7,p8,p9,p10,p11 = total_statistics(path)"
      ]
    },
    {
      "cell_type": "code",
      "execution_count": 31,
      "metadata": {},
      "outputs": [
        {
          "name": "stdout",
          "output_type": "stream",
          "text": [
            "Percentage Difference:\n",
            "----------------------------------\n",
            "Want_to_have_Relation: 0.9612865472969578%\n",
            "Want_to_have_more_Infor: 0.29486941403390476%\n",
            "Share_Opinion_and_Expe: -1.2561559613308626%\n",
            "Relationship: -0.6618220931437963%\n",
            "Social_Contact_and_Friendship: 0.2483332415161313%\n",
            "Sex: 0.02039988226641698%\n",
            "Appearance_and_Figure: -0.20981145450346822%\n",
            "Location: 0.5491368692031706%\n",
            "Education_and_Career: 0.10616207739872485%\n",
            "Personal_Information: 0.0766967629607207%\n",
            "Daily_Life: -0.1290952856978972%\n"
          ]
        }
      ],
      "source": [
        "index1 = find_self_index(df,\"找对象\")\n",
        "selected_person(index1, path, p1,p2,p3,p4,p5,p6,p7,p8,p9,p10,p11)\n",
        "# want relation +\n",
        "# share --\n",
        "# relation - \n",
        "# location +"
      ]
    },
    {
      "cell_type": "code",
      "execution_count": 32,
      "metadata": {},
      "outputs": [
        {
          "name": "stdout",
          "output_type": "stream",
          "text": [
            "Percentage Difference:\n",
            "----------------------------------\n",
            "Want_to_have_Relation: 0.45303799089999597%\n",
            "Want_to_have_more_Infor: -2.2872088517673417%\n",
            "Share_Opinion_and_Expe: 1.8341708608673457%\n",
            "Relationship: 0.4922726143344408%\n",
            "Social_Contact_and_Friendship: -1.5638630940529357%\n",
            "Sex: 1.7603081888708891%\n",
            "Appearance_and_Figure: 0.046050940198708035%\n",
            "Location: 0.05756040798841622%\n",
            "Education_and_Career: -0.7884638887943191%\n",
            "Personal_Information: 0.26095060841717366%\n",
            "Daily_Life: -0.2648157769623724%\n"
          ]
        }
      ],
      "source": [
        "index2 = find_self_index(df,\"找炮友\")\n",
        "selected_person(index2, path, p1,p2,p3,p4,p5,p6,p7,p8,p9,p10,p11)\n",
        "# want info --\n",
        "# share ++\n",
        "# social --\n",
        "# sex ++"
      ]
    },
    {
      "cell_type": "code",
      "execution_count": 33,
      "metadata": {},
      "outputs": [
        {
          "name": "stdout",
          "output_type": "stream",
          "text": [
            "Percentage Difference:\n",
            "----------------------------------\n",
            "Want_to_have_Relation: -2.5598420020303685%\n",
            "Want_to_have_more_Infor: 1.4718491192471483%\n",
            "Share_Opinion_and_Expe: 1.0879928827832175%\n",
            "Relationship: 0.502118288357839%\n",
            "Social_Contact_and_Friendship: -0.10871802277632875%\n",
            "Sex: -0.10187900367078506%\n",
            "Appearance_and_Figure: -0.41156851363851193%\n",
            "Location: -0.26577012542053635%\n",
            "Education_and_Career: 0.6144921025611094%\n",
            "Personal_Information: -0.6319691022718412%\n",
            "Daily_Life: 0.4032943768590577%\n"
          ]
        }
      ],
      "source": [
        "index3 = find_self_index(df,\"找朋友\")\n",
        "selected_person(index3, path, p1,p2,p3,p4,p5,p6,p7,p8,p9,p10,p11)\n",
        "# want relation --\n",
        "# want info +\n",
        "# share +\n",
        "# education +\n",
        "# relation +\n",
        "# personal info -"
      ]
    },
    {
      "cell_type": "code",
      "execution_count": 34,
      "metadata": {},
      "outputs": [
        {
          "name": "stdout",
          "output_type": "stream",
          "text": [
            "Percentage Difference:\n",
            "----------------------------------\n",
            "Want_to_have_Relation: -0.38967298876049217%\n",
            "Want_to_have_more_Infor: -0.16411133553115853%\n",
            "Share_Opinion_and_Expe: 0.5537843242916562%\n",
            "Relationship: 0.0012397068565900282%\n",
            "Social_Contact_and_Friendship: -0.0707709538393747%\n",
            "Sex: 0.030931002511358496%\n",
            "Appearance_and_Figure: -0.0420888793546903%\n",
            "Location: -0.013847170881511883%\n",
            "Education_and_Career: -0.011108939109766292%\n",
            "Personal_Information: 0.07154954214180498%\n",
            "Daily_Life: 0.03409569167559384%\n"
          ]
        }
      ],
      "source": [
        "index4 = find_self_index(df,\"分享\")\n",
        "selected_person(index4, path, p1,p2,p3,p4,p5,p6,p7,p8,p9,p10,p11)\n",
        "# share +"
      ]
    },
    {
      "cell_type": "code",
      "execution_count": 35,
      "metadata": {},
      "outputs": [
        {
          "name": "stdout",
          "output_type": "stream",
          "text": [
            "Percentage Difference:\n",
            "----------------------------------\n",
            "Want_to_have_Relation: -0.6841755890536538%\n",
            "Want_to_have_more_Infor: -0.1419074566633649%\n",
            "Share_Opinion_and_Expe: 0.8260830457170187%\n",
            "Relationship: 0.06536598723662357%\n",
            "Social_Contact_and_Friendship: 0.12063439598759135%\n",
            "Sex: 0.33773876029410677%\n",
            "Appearance_and_Figure: -0.15798967168148548%\n",
            "Location: 0.1440620712374302%\n",
            "Education_and_Career: -0.41512279009305597%\n",
            "Personal_Information: 0.08646947444357345%\n",
            "Daily_Life: -0.18115822742478388%\n"
          ]
        }
      ],
      "source": [
        "index5 = find_self_index(df,\"恋爱关系\")\n",
        "selected_person(index5, path, p1,p2,p3,p4,p5,p6,p7,p8,p9,p10,p11)\n",
        "# want relation +\n",
        "# share +"
      ]
    },
    {
      "cell_type": "code",
      "execution_count": 36,
      "metadata": {},
      "outputs": [
        {
          "name": "stdout",
          "output_type": "stream",
          "text": [
            "Percentage Difference:\n",
            "----------------------------------\n",
            "Want_to_have_Relation: -1.8448578557298867%\n",
            "Want_to_have_more_Infor: -0.6724357480906273%\n",
            "Share_Opinion_and_Expe: 2.517293603820514%\n",
            "Relationship: 0.7852173776172172%\n",
            "Social_Contact_and_Friendship: -0.40600735905669816%\n",
            "Sex: -0.46825533638374384%\n",
            "Appearance_and_Figure: 0.007195168659543394%\n",
            "Location: -0.21692786381325713%\n",
            "Education_and_Career: 0.026905974206706262%\n",
            "Personal_Information: -0.35218421509667364%\n",
            "Daily_Life: 0.6240562538669072%\n"
          ]
        }
      ],
      "source": [
        "index6 = find_self_index(df,\"社交/朋友\")\n",
        "selected_person(index6, path, p1,p2,p3,p4,p5,p6,p7,p8,p9,p10,p11)\n",
        "# want releation --\n",
        "# want more info -\n",
        "# share ++\n",
        "# relation +\n",
        "# daily life +"
      ]
    },
    {
      "cell_type": "code",
      "execution_count": 37,
      "metadata": {},
      "outputs": [
        {
          "name": "stdout",
          "output_type": "stream",
          "text": [
            "Percentage Difference:\n",
            "----------------------------------\n",
            "Want_to_have_Relation: 1.6849539697555982%\n",
            "Want_to_have_more_Infor: 0.5930192851147875%\n",
            "Share_Opinion_and_Expe: -2.2779732548703855%\n",
            "Relationship: -0.7256472921920137%\n",
            "Social_Contact_and_Friendship: 1.0033894978860771%\n",
            "Sex: -0.017315524832967055%\n",
            "Appearance_and_Figure: -0.34922904866740434%\n",
            "Location: 0.6560289090029814%\n",
            "Education_and_Career: -0.08114273206411005%\n",
            "Personal_Information: -0.07768217146881806%\n",
            "Daily_Life: -0.4084016376637453%\n"
          ]
        }
      ],
      "source": [
        "index7 = find_self_index(df,\"性\")\n",
        "selected_person(index7, path, p1,p2,p3,p4,p5,p6,p7,p8,p9,p10,p11)\n",
        "# want relation ++\n",
        "# want more info +\n",
        "# share --\n",
        "# relation - \n",
        "# social ++\n",
        "# location +"
      ]
    },
    {
      "cell_type": "code",
      "execution_count": 38,
      "metadata": {},
      "outputs": [
        {
          "name": "stdout",
          "output_type": "stream",
          "text": [
            "Percentage Difference:\n",
            "----------------------------------\n",
            "Want_to_have_Relation: 0.6666946177054545%\n",
            "Want_to_have_more_Infor: -0.17147357342345848%\n",
            "Share_Opinion_and_Expe: -0.495221044281996%\n",
            "Relationship: 0.07419655314652995%\n",
            "Social_Contact_and_Friendship: 0.1971182594166218%\n",
            "Sex: 0.026460277489849526%\n",
            "Appearance_and_Figure: -0.09780775486757237%\n",
            "Location: -0.09939540656094537%\n",
            "Education_and_Career: -0.37765099841930716%\n",
            "Personal_Information: 0.2908472133149459%\n",
            "Daily_Life: -0.013768143520119513%\n"
          ]
        }
      ],
      "source": [
        "index8 = find_self_index(df,\"外貌/长相/身材\")\n",
        "selected_person(index8, path, p1,p2,p3,p4,p5,p6,p7,p8,p9,p10,p11)\n",
        "# want relation +"
      ]
    },
    {
      "cell_type": "code",
      "execution_count": 39,
      "metadata": {},
      "outputs": [
        {
          "name": "stdout",
          "output_type": "stream",
          "text": [
            "Percentage Difference:\n",
            "----------------------------------\n",
            "Want_to_have_Relation: 0.5409606399652711%\n",
            "Want_to_have_more_Infor: 0.24448624918742556%\n",
            "Share_Opinion_and_Expe: -0.7854468891526967%\n",
            "Relationship: -0.09788297500952503%\n",
            "Social_Contact_and_Friendship: 0.1410409592267875%\n",
            "Sex: -0.07294300005854931%\n",
            "Appearance_and_Figure: -5.975424171855703e-05%\n",
            "Location: 0.11277751210073128%\n",
            "Education_and_Career: -0.16407834520712206%\n",
            "Personal_Information: 0.12988991329175026%\n",
            "Daily_Life: -0.04874431010235131%\n"
          ]
        }
      ],
      "source": [
        "index9 = find_self_index(df,\"地理位置\")\n",
        "selected_person(index9, path, p1,p2,p3,p4,p5,p6,p7,p8,p9,p10,p11)\n",
        "# want relation +\n",
        "# share opinion -\n",
        "# appearance --"
      ]
    },
    {
      "cell_type": "code",
      "execution_count": 40,
      "metadata": {},
      "outputs": [
        {
          "name": "stdout",
          "output_type": "stream",
          "text": [
            "Percentage Difference:\n",
            "----------------------------------\n",
            "Want_to_have_Relation: -0.0770022865670017%\n",
            "Want_to_have_more_Infor: 0.06992611009847272%\n",
            "Share_Opinion_and_Expe: 0.007076176468528983%\n",
            "Relationship: -0.27018724051507126%\n",
            "Social_Contact_and_Friendship: 0.06687164179721983%\n",
            "Sex: -0.06986188080765343%\n",
            "Appearance_and_Figure: -0.29839452802063043%\n",
            "Location: 0.1973500374687187%\n",
            "Education_and_Career: 0.45102432971531325%\n",
            "Personal_Information: -0.012210525107261838%\n",
            "Daily_Life: -0.06459183453063205%\n"
          ]
        }
      ],
      "source": [
        "index10 = find_self_index(df,\"教育/工作\")\n",
        "selected_person(index10, path, p1,p2,p3,p4,p5,p6,p7,p8,p9,p10,p11)\n",
        "# no big difference"
      ]
    },
    {
      "cell_type": "code",
      "execution_count": 41,
      "metadata": {},
      "outputs": [
        {
          "name": "stdout",
          "output_type": "stream",
          "text": [
            "Percentage Difference:\n",
            "----------------------------------\n",
            "Want_to_have_Relation: 0.2084575998118232%\n",
            "Want_to_have_more_Infor: 0.26235846119135875%\n",
            "Share_Opinion_and_Expe: -0.4708160610031875%\n",
            "Relationship: -0.18269796740050248%\n",
            "Social_Contact_and_Friendship: 0.2031553203737116%\n",
            "Sex: 0.10750231466125221%\n",
            "Appearance_and_Figure: -0.23578918900634266%\n",
            "Location: 0.21586766309933392%\n",
            "Education_and_Career: 0.02891093612259199%\n",
            "Personal_Information: -0.010477200598418834%\n",
            "Daily_Life: -0.12647187725162573%\n"
          ]
        }
      ],
      "source": [
        "index11 = find_self_index(df,\"个人信息\")\n",
        "selected_person(index11, path, p1,p2,p3,p4,p5,p6,p7,p8,p9,p10,p11)\n",
        "# no big difference"
      ]
    },
    {
      "cell_type": "code",
      "execution_count": 42,
      "metadata": {},
      "outputs": [
        {
          "name": "stdout",
          "output_type": "stream",
          "text": [
            "Percentage Difference:\n",
            "----------------------------------\n",
            "Want_to_have_Relation: -0.39576409562801507%\n",
            "Want_to_have_more_Infor: 0.18349584083258152%\n",
            "Share_Opinion_and_Expe: 0.212268254795428%\n",
            "Relationship: -0.067724388830262%\n",
            "Social_Contact_and_Friendship: -0.0868401821140577%\n",
            "Sex: 0.0544418268535643%\n",
            "Appearance_and_Figure: -0.1094722345731422%\n",
            "Location: 0.08565302830589039%\n",
            "Education_and_Career: -0.02199398702551758%\n",
            "Personal_Information: 0.08261234437359488%\n",
            "Daily_Life: 0.0633235930099299%\n"
          ]
        }
      ],
      "source": [
        "index12 = find_self_index(df,\"日常生活\")\n",
        "selected_person(index12, path, p1,p2,p3,p4,p5,p6,p7,p8,p9,p10,p11)\n",
        "# no big difference"
      ]
    }
  ],
  "metadata": {
    "colab": {
      "name": "Tool_Distribution_After_Training.ipynb",
      "provenance": []
    },
    "interpreter": {
      "hash": "092bf18aecc55aef496ffbc6cc353c2203dc3161741cf495c00395ce4a3c9d87"
    },
    "kernelspec": {
      "display_name": "Python 3.8.8 64-bit ('anaconda3': virtualenv)",
      "name": "python3"
    },
    "language_info": {
      "name": "python",
      "version": ""
    },
    "orig_nbformat": 4
  },
  "nbformat": 4,
  "nbformat_minor": 0
}