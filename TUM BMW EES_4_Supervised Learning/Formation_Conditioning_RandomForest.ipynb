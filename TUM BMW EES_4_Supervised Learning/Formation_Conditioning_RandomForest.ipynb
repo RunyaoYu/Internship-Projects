{
  "cells": [
    {
      "cell_type": "code",
      "execution_count": 47,
      "metadata": {},
      "outputs": [],
      "source": [
        "import numpy as np\n",
        "import pandas as pd\n",
        "from pymongo import MongoClient\n",
        "import matplotlib.pyplot as plt\n",
        "import seaborn as sns\n",
        "from sklearn.preprocessing import LabelEncoder\n",
        "from sklearn.preprocessing import StandardScaler\n",
        "from sklearn.cluster import KMeans\n",
        "from sklearn.decomposition import PCA\n",
        "\n",
        "from sklearn.linear_model import LogisticRegression\n",
        "from sklearn.ensemble import RandomForestClassifier, AdaBoostClassifier\n",
        "from sklearn.svm import SVC\n",
        "from imblearn.over_sampling import SMOTE\n",
        "from sklearn.pipeline import Pipeline\n",
        "from sklearn.model_selection import StratifiedKFold, GridSearchCV, train_test_split\n",
        "from sklearn.metrics import accuracy_score, confusion_matrix\n",
        "from sklearn.metrics import plot_confusion_matrix\n",
        "from sklearn import metrics\n",
        "\n",
        "client = MongoClient('localhost:27017')\n",
        "db = client.hiwi\n",
        "collection = db.production_steps\n",
        "\n",
        "database = {}\n",
        "database['features'] = {}\n",
        "index = []\n",
        "\n",
        "query_1 = {\"$and\": [{\"type\": \"formation\"}, {\"substep\": \"soacking\"}, {\"features\": {\"$exists\": True}}]}\n",
        "query_1 = list(collection.find(query_1))\n",
        "database['features']['soacking_state'] = []\n",
        "database['features']['soacking_success'] = []\n",
        "database['features']['soacking_start_voltage'] = []\n",
        "for i in range(len(query_1)):\n",
        "    database['features']['soacking_state'].append(query_1[i]['features'][0]['value'])\n",
        "    database['features']['soacking_success'].append(query_1[i]['features'][1]['value'])\n",
        "    database['features']['soacking_start_voltage'].append(query_1[i]['features'][2]['value'])\n",
        "    index.append(query_1[i]['cell_id'])\n",
        "\n",
        "query_2 = {\"$and\": [{\"type\": \"formation\"}, {\"substep\": \"precharge\"}, {\"features\": {\"$exists\": True}}]}\n",
        "query_2 = list(collection.find(query_2))\n",
        "database['features']['precharge_start_voltage'] = []\n",
        "database['features']['precharge_duration'] = []\n",
        "database['features']['precharge_energy'] = []\n",
        "database['features']['precharge_success'] = []\n",
        "database['features']['precharge_continuity'] = []\n",
        "for i in range(len(query_2)):\n",
        "    database['features']['precharge_start_voltage'].append(query_2[i]['features'][0]['value'])\n",
        "    database['features']['precharge_duration'].append(query_2[i]['features'][1]['value'])\n",
        "    database['features']['precharge_energy'].append(query_2[i]['features'][2]['value'])\n",
        "    database['features']['precharge_success'].append(query_2[i]['features'][3]['value'])\n",
        "    database['features']['precharge_continuity'].append(query_2[i]['features'][4]['value'])\n",
        "\n",
        "query_3 = {\"$and\": [{\"type\": \"formation\"}, {\"substep\": \"charge\"}, {\"features\": {\"$exists\": True}}]}\n",
        "query_3 = list(collection.find(query_3))\n",
        "database['features']['charge_start_voltage'] = []\n",
        "database['features']['charge_duration'] = []\n",
        "database['features']['charge_energy'] = []\n",
        "database['features']['charge_success'] = []\n",
        "database['features']['charge_continuity'] = []\n",
        "for i in range(len(query_3)):\n",
        "    database['features']['charge_start_voltage'].append(query_3[i]['features'][0]['value'])\n",
        "    database['features']['charge_duration'].append(query_3[i]['features'][1]['value'])\n",
        "    database['features']['charge_energy'].append(query_3[i]['features'][2]['value'])\n",
        "    database['features']['charge_success'].append(query_3[i]['features'][3]['value'])\n",
        "    database['features']['charge_continuity'].append(query_3[i]['features'][4]['value'])\n",
        "\n",
        "query_4 = {\"$and\": [{\"type\": \"formation\"}, {\"substep\": \"discharge\"}, {\"features\": {\"$exists\": True}}]}\n",
        "query_4 = list(collection.find(query_4))\n",
        "database['features']['discharge_start_voltage'] = []\n",
        "database['features']['discharge_duration'] = []\n",
        "database['features']['discharge_energy'] = []\n",
        "database['features']['discharge_success'] = []\n",
        "database['features']['discharge_continuity'] = []\n",
        "for i in range(len(query_4)):\n",
        "    database['features']['discharge_start_voltage'].append(query_4[i]['features'][0]['value'])\n",
        "    database['features']['discharge_duration'].append(query_4[i]['features'][1]['value'])\n",
        "    database['features']['discharge_energy'].append(query_4[i]['features'][2]['value'])\n",
        "    database['features']['discharge_success'].append(query_4[i]['features'][3]['value'])\n",
        "    database['features']['discharge_continuity'].append(query_4[i]['features'][4]['value'])\n",
        "\n",
        "data = pd.DataFrame(database['features'])\n",
        "\n",
        "class_le = LabelEncoder()\n",
        "for column in data[['soacking_state', 'precharge_continuity', 'charge_continuity', 'discharge_continuity', 'soacking_success', 'precharge_success', 'charge_success', 'discharge_success']].columns:\n",
        "    data[column] = class_le.fit_transform(data[column].values)\n",
        "\n",
        "# get all features and store them into dataframe\n",
        "data['index'] = index\n",
        "data = data.sort_values(by = ['index'])\n",
        "data = data.drop(['index'], axis = 1)\n",
        "\n",
        "# apply pca\n",
        "scaler = StandardScaler()\n",
        "segmentation_std = scaler.fit_transform(data)\n",
        "\n",
        "pca = PCA(n_components=6)\n",
        "pca.fit(segmentation_std)\n",
        "scores_pca = pca.transform(segmentation_std)\n",
        "\n",
        "data_pca = pd.concat([data.reset_index(drop=True), pd.DataFrame(scores_pca)], axis=1)\n",
        "data_pca.columns.values[-6: ] = ['Component 1', 'Component 2', 'Component 3', 'Component 4', 'Component 5', 'Component 6']\n",
        "data = data_pca[['Component 1', 'Component 2', 'Component 3', 'Component 4', 'Component 5', 'Component 6']]"
      ]
    },
    {
      "cell_type": "code",
      "execution_count": 9,
      "metadata": {},
      "outputs": [
        {
          "data": {
            "text/html": [
              "<div>\n",
              "<style scoped>\n",
              "    .dataframe tbody tr th:only-of-type {\n",
              "        vertical-align: middle;\n",
              "    }\n",
              "\n",
              "    .dataframe tbody tr th {\n",
              "        vertical-align: top;\n",
              "    }\n",
              "\n",
              "    .dataframe thead th {\n",
              "        text-align: right;\n",
              "    }\n",
              "</style>\n",
              "<table border=\"1\" class=\"dataframe\">\n",
              "  <thead>\n",
              "    <tr style=\"text-align: right;\">\n",
              "      <th></th>\n",
              "      <th>Component 1</th>\n",
              "      <th>Component 2</th>\n",
              "      <th>Component 3</th>\n",
              "      <th>Component 4</th>\n",
              "      <th>Component 5</th>\n",
              "      <th>Component 6</th>\n",
              "    </tr>\n",
              "  </thead>\n",
              "  <tbody>\n",
              "    <tr>\n",
              "      <th>0</th>\n",
              "      <td>-8.651758</td>\n",
              "      <td>9.800816</td>\n",
              "      <td>2.073419</td>\n",
              "      <td>1.784903</td>\n",
              "      <td>-0.112717</td>\n",
              "      <td>3.332457</td>\n",
              "    </tr>\n",
              "    <tr>\n",
              "      <th>1</th>\n",
              "      <td>-1.313052</td>\n",
              "      <td>1.398527</td>\n",
              "      <td>-0.404467</td>\n",
              "      <td>-1.153597</td>\n",
              "      <td>-0.284673</td>\n",
              "      <td>-0.635345</td>\n",
              "    </tr>\n",
              "    <tr>\n",
              "      <th>2</th>\n",
              "      <td>-1.609867</td>\n",
              "      <td>0.601834</td>\n",
              "      <td>-1.231057</td>\n",
              "      <td>-0.383825</td>\n",
              "      <td>0.028344</td>\n",
              "      <td>-1.439034</td>\n",
              "    </tr>\n",
              "    <tr>\n",
              "      <th>3</th>\n",
              "      <td>-0.759540</td>\n",
              "      <td>-0.055339</td>\n",
              "      <td>-0.625979</td>\n",
              "      <td>-0.715569</td>\n",
              "      <td>-0.226652</td>\n",
              "      <td>-0.434100</td>\n",
              "    </tr>\n",
              "    <tr>\n",
              "      <th>4</th>\n",
              "      <td>-1.156154</td>\n",
              "      <td>0.396405</td>\n",
              "      <td>-1.006402</td>\n",
              "      <td>0.462086</td>\n",
              "      <td>0.098135</td>\n",
              "      <td>0.121363</td>\n",
              "    </tr>\n",
              "  </tbody>\n",
              "</table>\n",
              "</div>"
            ],
            "text/plain": [
              "   Component 1  Component 2  Component 3  Component 4  Component 5  \\\n",
              "0    -8.651758     9.800816     2.073419     1.784903    -0.112717   \n",
              "1    -1.313052     1.398527    -0.404467    -1.153597    -0.284673   \n",
              "2    -1.609867     0.601834    -1.231057    -0.383825     0.028344   \n",
              "3    -0.759540    -0.055339    -0.625979    -0.715569    -0.226652   \n",
              "4    -1.156154     0.396405    -1.006402     0.462086     0.098135   \n",
              "\n",
              "   Component 6  \n",
              "0     3.332457  \n",
              "1    -0.635345  \n",
              "2    -1.439034  \n",
              "3    -0.434100  \n",
              "4     0.121363  "
            ]
          },
          "execution_count": 9,
          "metadata": {},
          "output_type": "execute_result"
        }
      ],
      "source": [
        "data.head()"
      ]
    },
    {
      "cell_type": "code",
      "execution_count": 37,
      "metadata": {},
      "outputs": [
        {
          "name": "stderr",
          "output_type": "stream",
          "text": [
            "<ipython-input-37-72ea189a2748>:3: SettingWithCopyWarning: \n",
            "A value is trying to be set on a copy of a slice from a DataFrame.\n",
            "Try using .loc[row_indexer,col_indexer] = value instead\n",
            "\n",
            "See the caveats in the documentation: https://pandas.pydata.org/pandas-docs/stable/user_guide/indexing.html#returning-a-view-versus-a-copy\n",
            "  data['labels'] = labels\n"
          ]
        },
        {
          "data": {
            "text/html": [
              "<div>\n",
              "<style scoped>\n",
              "    .dataframe tbody tr th:only-of-type {\n",
              "        vertical-align: middle;\n",
              "    }\n",
              "\n",
              "    .dataframe tbody tr th {\n",
              "        vertical-align: top;\n",
              "    }\n",
              "\n",
              "    .dataframe thead th {\n",
              "        text-align: right;\n",
              "    }\n",
              "</style>\n",
              "<table border=\"1\" class=\"dataframe\">\n",
              "  <thead>\n",
              "    <tr style=\"text-align: right;\">\n",
              "      <th></th>\n",
              "      <th>Component 1</th>\n",
              "      <th>Component 2</th>\n",
              "      <th>Component 3</th>\n",
              "      <th>Component 4</th>\n",
              "      <th>Component 5</th>\n",
              "      <th>Component 6</th>\n",
              "      <th>labels</th>\n",
              "    </tr>\n",
              "  </thead>\n",
              "  <tbody>\n",
              "    <tr>\n",
              "      <th>0</th>\n",
              "      <td>-8.651758</td>\n",
              "      <td>9.800816</td>\n",
              "      <td>2.073419</td>\n",
              "      <td>1.784903</td>\n",
              "      <td>-0.112717</td>\n",
              "      <td>3.332457</td>\n",
              "      <td>2</td>\n",
              "    </tr>\n",
              "    <tr>\n",
              "      <th>1</th>\n",
              "      <td>-1.313052</td>\n",
              "      <td>1.398527</td>\n",
              "      <td>-0.404467</td>\n",
              "      <td>-1.153597</td>\n",
              "      <td>-0.284673</td>\n",
              "      <td>-0.635345</td>\n",
              "      <td>4</td>\n",
              "    </tr>\n",
              "    <tr>\n",
              "      <th>2</th>\n",
              "      <td>-1.609867</td>\n",
              "      <td>0.601834</td>\n",
              "      <td>-1.231057</td>\n",
              "      <td>-0.383825</td>\n",
              "      <td>0.028344</td>\n",
              "      <td>-1.439034</td>\n",
              "      <td>4</td>\n",
              "    </tr>\n",
              "    <tr>\n",
              "      <th>3</th>\n",
              "      <td>-0.759540</td>\n",
              "      <td>-0.055339</td>\n",
              "      <td>-0.625979</td>\n",
              "      <td>-0.715569</td>\n",
              "      <td>-0.226652</td>\n",
              "      <td>-0.434100</td>\n",
              "      <td>0</td>\n",
              "    </tr>\n",
              "    <tr>\n",
              "      <th>4</th>\n",
              "      <td>-1.156154</td>\n",
              "      <td>0.396405</td>\n",
              "      <td>-1.006402</td>\n",
              "      <td>0.462086</td>\n",
              "      <td>0.098135</td>\n",
              "      <td>0.121363</td>\n",
              "      <td>4</td>\n",
              "    </tr>\n",
              "  </tbody>\n",
              "</table>\n",
              "</div>"
            ],
            "text/plain": [
              "   Component 1  Component 2  Component 3  Component 4  Component 5  \\\n",
              "0    -8.651758     9.800816     2.073419     1.784903    -0.112717   \n",
              "1    -1.313052     1.398527    -0.404467    -1.153597    -0.284673   \n",
              "2    -1.609867     0.601834    -1.231057    -0.383825     0.028344   \n",
              "3    -0.759540    -0.055339    -0.625979    -0.715569    -0.226652   \n",
              "4    -1.156154     0.396405    -1.006402     0.462086     0.098135   \n",
              "\n",
              "   Component 6  labels  \n",
              "0     3.332457       2  \n",
              "1    -0.635345       4  \n",
              "2    -1.439034       4  \n",
              "3    -0.434100       0  \n",
              "4     0.121363       4  "
            ]
          },
          "execution_count": 37,
          "metadata": {},
          "output_type": "execute_result"
        }
      ],
      "source": [
        "labels = pd.read_csv(\"/Users/rampageyao/Desktop/crino/crino_state/Conditioning_PCA_Kmeans_label.csv\")\n",
        "labels = (labels.iloc[:, 2]).tolist()\n",
        "data['labels'] = labels\n",
        "data.head()"
      ]
    },
    {
      "cell_type": "code",
      "execution_count": 43,
      "metadata": {},
      "outputs": [],
      "source": [
        "sc = StandardScaler()\n",
        "train, test = train_test_split(data, test_size=0.3)\n",
        "X_train, y_train = train.iloc[:, 0:6], train.iloc[:, 6]\n",
        "X_test, y_test = test.iloc[:, 0:6], test.iloc[:, 6]\n",
        "\n",
        "#sm = SMOTE()\n",
        "#X_train_res, y_train_res = sm.fit_resample(X_train, y_train)"
      ]
    },
    {
      "cell_type": "code",
      "execution_count": 44,
      "metadata": {},
      "outputs": [
        {
          "name": "stderr",
          "output_type": "stream",
          "text": [
            "/Users/rampageyao/opt/anaconda3/lib/python3.8/site-packages/sklearn/model_selection/_split.py:666: UserWarning: The least populated class in y has only 1 members, which is less than n_splits=10.\n",
            "  warnings.warn((\"The least populated class in y has only %d\"\n"
          ]
        },
        {
          "name": "stdout",
          "output_type": "stream",
          "text": [
            "Best Score Random Forest: 0.42\n",
            "Best Parameters Random Forest: {'max_depth': 1, 'max_features': 'auto', 'n_estimators': 15}\n"
          ]
        }
      ],
      "source": [
        "ranFor = RandomForestClassifier()\n",
        "grid=[{'n_estimators':[3,5,8,10,13,15,18,20,25,40,60,80,100],'max_features':['auto','sqrt'],'max_depth':[None,1,3,5,7,10,15,20]}]\n",
        "ranFor_CV=GridSearchCV(ranFor,grid,cv=10)\n",
        "ranFor_CV.fit(X_train,y_train.values.ravel())\n",
        "ranFor.fit(X_train,y_train.values.ravel())\n",
        "\n",
        "print(\"Best Score Random Forest: {:.2f}\".format(ranFor_CV.best_score_))\n",
        "print(\"Best Parameters Random Forest:\",ranFor_CV.best_params_)"
      ]
    },
    {
      "cell_type": "code",
      "execution_count": 49,
      "metadata": {},
      "outputs": [
        {
          "name": "stdout",
          "output_type": "stream",
          "text": [
            "Test accuracy: 0.08695652173913043\n"
          ]
        },
        {
          "data": {
            "text/plain": [
              "<sklearn.metrics._plot.confusion_matrix.ConfusionMatrixDisplay at 0x7faa19422850>"
            ]
          },
          "execution_count": 49,
          "metadata": {},
          "output_type": "execute_result"
        },
        {
          "data": {
            "text/plain": [
              "<Figure size 432x288 with 0 Axes>"
            ]
          },
          "metadata": {},
          "output_type": "display_data"
        },
        {
          "data": {
            "image/png": "[encoded data removed]",
            "text/plain": [
              "<Figure size 432x288 with 2 Axes>"
            ]
          },
          "metadata": {
            "needs_background": "light"
          },
          "output_type": "display_data"
        }
      ],
      "source": [
        "y_pred_rF = ranFor_CV.best_estimator_.predict(X_test)\n",
        "\n",
        "print(\"Test accuracy:\",accuracy_score(y_test,y_pred_rF))\n",
        "cnf_matrix_rF = metrics.confusion_matrix(y_test, y_pred_rF)\n",
        "plt.figure()\n",
        "plot_confusion_matrix(ranFor_CV,X_test,y_test)"
      ]
    }
  ],
  "metadata": {
    "colab": {
      "name": "Untitled6.ipynb",
      "provenance": []
    },
    "interpreter": {
      "hash": "092bf18aecc55aef496ffbc6cc353c2203dc3161741cf495c00395ce4a3c9d87"
    },
    "kernelspec": {
      "display_name": "Python 3.8.8 64-bit ('base': conda)",
      "name": "python3"
    },
    "language_info": {
      "codemirror_mode": {
        "name": "ipython",
        "version": 3
      },
      "file_extension": ".py",
      "mimetype": "text/x-python",
      "name": "python",
      "nbconvert_exporter": "python",
      "pygments_lexer": "ipython3",
      "version": "3.8.8"
    }
  },
  "nbformat": 4,
  "nbformat_minor": 0
}